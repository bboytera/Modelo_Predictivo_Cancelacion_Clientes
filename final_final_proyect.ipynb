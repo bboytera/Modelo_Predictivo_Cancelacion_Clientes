{
 "cells": [
  {
   "cell_type": "markdown",
   "metadata": {},
   "source": [
    "# Introduccion"
   ]
  },
  {
   "cell_type": "markdown",
   "metadata": {},
   "source": [
    "Al operador de telecomunicaciones **Interconnect** le gustaría poder pronosticar su **tasa de cancelación de clientes**. Si se descubre que un usuario o usuaria planea irse, se le ofrecerán códigos promocionales y opciones de planes especiales. El equipo de marketing de Interconnect ha recopilado algunos de los datos personales de sus clientes, incluyendo información sobre sus planes y contratos."
   ]
  },
  {
   "cell_type": "markdown",
   "metadata": {},
   "source": [
    "# Descripción de los datos"
   ]
  },
  {
   "cell_type": "markdown",
   "metadata": {},
   "source": [
    "Los datos consisten en archivos obtenidos de diferentes fuentes:\n",
    "\n",
    "- `contract.csv` — información del contrato;\n",
    "- `personal.csv` — datos personales del cliente;\n",
    "- `internet.csv` — información sobre los servicios de Internet;\n",
    "- `phone.csv` — información sobre los servicios telefónicos.\n",
    "\n",
    "En cada archivo, la columna `customerID` (ID de cliente) contiene un código único asignado a cada cliente. La información del contrato es válida a partir del 1 de febrero de 2020."
   ]
  },
  {
   "cell_type": "markdown",
   "metadata": {},
   "source": [
    "# Importamos librerias y Cargamos datos"
   ]
  },
  {
   "cell_type": "code",
   "execution_count": 1,
   "metadata": {},
   "outputs": [],
   "source": [
    "import pandas as pd\n",
    "import numpy as np\n",
    "import matplotlib.pyplot as plt\n",
    "from sklearn.preprocessing import OneHotEncoder\n",
    "\n",
    "from sklearn.model_selection import train_test_split, GridSearchCV\n",
    "from sklearn.linear_model import LogisticRegression\n",
    "from sklearn.ensemble import RandomForestClassifier\n",
    "from xgboost import XGBClassifier\n",
    "import xgboost as xgb\n",
    "from catboost import CatBoostClassifier\n",
    "\n",
    "from sklearn.metrics import accuracy_score, classification_report, confusion_matrix, roc_auc_score\n",
    "\n",
    "from sklearn.preprocessing import StandardScaler\n",
    "\n",
    "from sklearn.impute import SimpleImputer"
   ]
  },
  {
   "cell_type": "code",
   "execution_count": 2,
   "metadata": {},
   "outputs": [],
   "source": [
    "# Leer cada archivo CSV en un DataFrame\n",
    "df_1 = pd.read_csv('/datasets/final_provider/contract.csv')\n",
    "df_2 = pd.read_csv('/datasets/final_provider/personal.csv')\n",
    "df_3 = pd.read_csv('/datasets/final_provider/internet.csv')\n",
    "df_4 = pd.read_csv('/datasets/final_provider/phone.csv')"
   ]
  },
  {
   "cell_type": "markdown",
   "metadata": {},
   "source": [
    "# Exploramos el Dataset"
   ]
  },
  {
   "cell_type": "code",
   "execution_count": 3,
   "metadata": {},
   "outputs": [
    {
     "data": {
      "text/plain": [
       "(7043, 8)"
      ]
     },
     "execution_count": 3,
     "metadata": {},
     "output_type": "execute_result"
    }
   ],
   "source": [
    "df_1.shape"
   ]
  },
  {
   "cell_type": "code",
   "execution_count": 4,
   "metadata": {},
   "outputs": [
    {
     "data": {
      "text/plain": [
       "(7043, 5)"
      ]
     },
     "execution_count": 4,
     "metadata": {},
     "output_type": "execute_result"
    }
   ],
   "source": [
    "df_2.shape"
   ]
  },
  {
   "cell_type": "code",
   "execution_count": 5,
   "metadata": {},
   "outputs": [
    {
     "data": {
      "text/plain": [
       "(5517, 8)"
      ]
     },
     "execution_count": 5,
     "metadata": {},
     "output_type": "execute_result"
    }
   ],
   "source": [
    "df_3.shape"
   ]
  },
  {
   "cell_type": "code",
   "execution_count": 6,
   "metadata": {},
   "outputs": [
    {
     "data": {
      "text/plain": [
       "(6361, 2)"
      ]
     },
     "execution_count": 6,
     "metadata": {},
     "output_type": "execute_result"
    }
   ],
   "source": [
    "df_4.shape"
   ]
  },
  {
   "cell_type": "code",
   "execution_count": 7,
   "metadata": {
    "scrolled": true
   },
   "outputs": [],
   "source": [
    "# Unir los DataFrames utilizando 'customerID' como clave\n",
    "df_merged = pd.merge(df_1, df_2, on='customerID', how='left')\n",
    "df_merged = pd.merge(df_merged, df_3, on='customerID', how='left')\n",
    "df_merged = pd.merge(df_merged, df_4, on='customerID', how='left')"
   ]
  },
  {
   "cell_type": "code",
   "execution_count": 8,
   "metadata": {},
   "outputs": [
    {
     "data": {
      "text/html": [
       "<div>\n",
       "<style scoped>\n",
       "    .dataframe tbody tr th:only-of-type {\n",
       "        vertical-align: middle;\n",
       "    }\n",
       "\n",
       "    .dataframe tbody tr th {\n",
       "        vertical-align: top;\n",
       "    }\n",
       "\n",
       "    .dataframe thead th {\n",
       "        text-align: right;\n",
       "    }\n",
       "</style>\n",
       "<table border=\"1\" class=\"dataframe\">\n",
       "  <thead>\n",
       "    <tr style=\"text-align: right;\">\n",
       "      <th></th>\n",
       "      <th>customerID</th>\n",
       "      <th>BeginDate</th>\n",
       "      <th>EndDate</th>\n",
       "      <th>Type</th>\n",
       "      <th>PaperlessBilling</th>\n",
       "      <th>PaymentMethod</th>\n",
       "      <th>MonthlyCharges</th>\n",
       "      <th>TotalCharges</th>\n",
       "      <th>gender</th>\n",
       "      <th>SeniorCitizen</th>\n",
       "      <th>Partner</th>\n",
       "      <th>Dependents</th>\n",
       "      <th>InternetService</th>\n",
       "      <th>OnlineSecurity</th>\n",
       "      <th>OnlineBackup</th>\n",
       "      <th>DeviceProtection</th>\n",
       "      <th>TechSupport</th>\n",
       "      <th>StreamingTV</th>\n",
       "      <th>StreamingMovies</th>\n",
       "      <th>MultipleLines</th>\n",
       "    </tr>\n",
       "  </thead>\n",
       "  <tbody>\n",
       "    <tr>\n",
       "      <th>0</th>\n",
       "      <td>7590-VHVEG</td>\n",
       "      <td>2020-01-01</td>\n",
       "      <td>No</td>\n",
       "      <td>Month-to-month</td>\n",
       "      <td>Yes</td>\n",
       "      <td>Electronic check</td>\n",
       "      <td>29.85</td>\n",
       "      <td>29.85</td>\n",
       "      <td>Female</td>\n",
       "      <td>0</td>\n",
       "      <td>Yes</td>\n",
       "      <td>No</td>\n",
       "      <td>DSL</td>\n",
       "      <td>No</td>\n",
       "      <td>Yes</td>\n",
       "      <td>No</td>\n",
       "      <td>No</td>\n",
       "      <td>No</td>\n",
       "      <td>No</td>\n",
       "      <td>NaN</td>\n",
       "    </tr>\n",
       "    <tr>\n",
       "      <th>1</th>\n",
       "      <td>5575-GNVDE</td>\n",
       "      <td>2017-04-01</td>\n",
       "      <td>No</td>\n",
       "      <td>One year</td>\n",
       "      <td>No</td>\n",
       "      <td>Mailed check</td>\n",
       "      <td>56.95</td>\n",
       "      <td>1889.5</td>\n",
       "      <td>Male</td>\n",
       "      <td>0</td>\n",
       "      <td>No</td>\n",
       "      <td>No</td>\n",
       "      <td>DSL</td>\n",
       "      <td>Yes</td>\n",
       "      <td>No</td>\n",
       "      <td>Yes</td>\n",
       "      <td>No</td>\n",
       "      <td>No</td>\n",
       "      <td>No</td>\n",
       "      <td>No</td>\n",
       "    </tr>\n",
       "    <tr>\n",
       "      <th>2</th>\n",
       "      <td>3668-QPYBK</td>\n",
       "      <td>2019-10-01</td>\n",
       "      <td>2019-12-01 00:00:00</td>\n",
       "      <td>Month-to-month</td>\n",
       "      <td>Yes</td>\n",
       "      <td>Mailed check</td>\n",
       "      <td>53.85</td>\n",
       "      <td>108.15</td>\n",
       "      <td>Male</td>\n",
       "      <td>0</td>\n",
       "      <td>No</td>\n",
       "      <td>No</td>\n",
       "      <td>DSL</td>\n",
       "      <td>Yes</td>\n",
       "      <td>Yes</td>\n",
       "      <td>No</td>\n",
       "      <td>No</td>\n",
       "      <td>No</td>\n",
       "      <td>No</td>\n",
       "      <td>No</td>\n",
       "    </tr>\n",
       "    <tr>\n",
       "      <th>3</th>\n",
       "      <td>7795-CFOCW</td>\n",
       "      <td>2016-05-01</td>\n",
       "      <td>No</td>\n",
       "      <td>One year</td>\n",
       "      <td>No</td>\n",
       "      <td>Bank transfer (automatic)</td>\n",
       "      <td>42.30</td>\n",
       "      <td>1840.75</td>\n",
       "      <td>Male</td>\n",
       "      <td>0</td>\n",
       "      <td>No</td>\n",
       "      <td>No</td>\n",
       "      <td>DSL</td>\n",
       "      <td>Yes</td>\n",
       "      <td>No</td>\n",
       "      <td>Yes</td>\n",
       "      <td>Yes</td>\n",
       "      <td>No</td>\n",
       "      <td>No</td>\n",
       "      <td>NaN</td>\n",
       "    </tr>\n",
       "    <tr>\n",
       "      <th>4</th>\n",
       "      <td>9237-HQITU</td>\n",
       "      <td>2019-09-01</td>\n",
       "      <td>2019-11-01 00:00:00</td>\n",
       "      <td>Month-to-month</td>\n",
       "      <td>Yes</td>\n",
       "      <td>Electronic check</td>\n",
       "      <td>70.70</td>\n",
       "      <td>151.65</td>\n",
       "      <td>Female</td>\n",
       "      <td>0</td>\n",
       "      <td>No</td>\n",
       "      <td>No</td>\n",
       "      <td>Fiber optic</td>\n",
       "      <td>No</td>\n",
       "      <td>No</td>\n",
       "      <td>No</td>\n",
       "      <td>No</td>\n",
       "      <td>No</td>\n",
       "      <td>No</td>\n",
       "      <td>No</td>\n",
       "    </tr>\n",
       "  </tbody>\n",
       "</table>\n",
       "</div>"
      ],
      "text/plain": [
       "   customerID   BeginDate              EndDate            Type  \\\n",
       "0  7590-VHVEG  2020-01-01                   No  Month-to-month   \n",
       "1  5575-GNVDE  2017-04-01                   No        One year   \n",
       "2  3668-QPYBK  2019-10-01  2019-12-01 00:00:00  Month-to-month   \n",
       "3  7795-CFOCW  2016-05-01                   No        One year   \n",
       "4  9237-HQITU  2019-09-01  2019-11-01 00:00:00  Month-to-month   \n",
       "\n",
       "  PaperlessBilling              PaymentMethod  MonthlyCharges TotalCharges  \\\n",
       "0              Yes           Electronic check           29.85        29.85   \n",
       "1               No               Mailed check           56.95       1889.5   \n",
       "2              Yes               Mailed check           53.85       108.15   \n",
       "3               No  Bank transfer (automatic)           42.30      1840.75   \n",
       "4              Yes           Electronic check           70.70       151.65   \n",
       "\n",
       "   gender  SeniorCitizen Partner Dependents InternetService OnlineSecurity  \\\n",
       "0  Female              0     Yes         No             DSL             No   \n",
       "1    Male              0      No         No             DSL            Yes   \n",
       "2    Male              0      No         No             DSL            Yes   \n",
       "3    Male              0      No         No             DSL            Yes   \n",
       "4  Female              0      No         No     Fiber optic             No   \n",
       "\n",
       "  OnlineBackup DeviceProtection TechSupport StreamingTV StreamingMovies  \\\n",
       "0          Yes               No          No          No              No   \n",
       "1           No              Yes          No          No              No   \n",
       "2          Yes               No          No          No              No   \n",
       "3           No              Yes         Yes          No              No   \n",
       "4           No               No          No          No              No   \n",
       "\n",
       "  MultipleLines  \n",
       "0           NaN  \n",
       "1            No  \n",
       "2            No  \n",
       "3           NaN  \n",
       "4            No  "
      ]
     },
     "execution_count": 8,
     "metadata": {},
     "output_type": "execute_result"
    }
   ],
   "source": [
    "#una muestra del dataframe ya unido en su totalidad\n",
    "df_merged.head()"
   ]
  },
  {
   "cell_type": "code",
   "execution_count": 9,
   "metadata": {},
   "outputs": [
    {
     "name": "stdout",
     "output_type": "stream",
     "text": [
      "<class 'pandas.core.frame.DataFrame'>\n",
      "Int64Index: 7043 entries, 0 to 7042\n",
      "Data columns (total 20 columns):\n",
      " #   Column            Non-Null Count  Dtype  \n",
      "---  ------            --------------  -----  \n",
      " 0   customerID        7043 non-null   object \n",
      " 1   BeginDate         7043 non-null   object \n",
      " 2   EndDate           7043 non-null   object \n",
      " 3   Type              7043 non-null   object \n",
      " 4   PaperlessBilling  7043 non-null   object \n",
      " 5   PaymentMethod     7043 non-null   object \n",
      " 6   MonthlyCharges    7043 non-null   float64\n",
      " 7   TotalCharges      7043 non-null   object \n",
      " 8   gender            7043 non-null   object \n",
      " 9   SeniorCitizen     7043 non-null   int64  \n",
      " 10  Partner           7043 non-null   object \n",
      " 11  Dependents        7043 non-null   object \n",
      " 12  InternetService   5517 non-null   object \n",
      " 13  OnlineSecurity    5517 non-null   object \n",
      " 14  OnlineBackup      5517 non-null   object \n",
      " 15  DeviceProtection  5517 non-null   object \n",
      " 16  TechSupport       5517 non-null   object \n",
      " 17  StreamingTV       5517 non-null   object \n",
      " 18  StreamingMovies   5517 non-null   object \n",
      " 19  MultipleLines     6361 non-null   object \n",
      "dtypes: float64(1), int64(1), object(18)\n",
      "memory usage: 1.1+ MB\n"
     ]
    }
   ],
   "source": [
    "#información general del dataframe fusionado\n",
    "df_merged.info()"
   ]
  },
  {
   "cell_type": "code",
   "execution_count": 10,
   "metadata": {},
   "outputs": [
    {
     "data": {
      "text/plain": [
       "0"
      ]
     },
     "execution_count": 10,
     "metadata": {},
     "output_type": "execute_result"
    }
   ],
   "source": [
    "#observamos si existen valores duplicados\n",
    "df_merged.duplicated().sum()"
   ]
  },
  {
   "cell_type": "markdown",
   "metadata": {},
   "source": [
    "**Conclusión inicial al analizar los datos:**"
   ]
  },
  {
   "cell_type": "markdown",
   "metadata": {},
   "source": [
    "Unimos los 4 dataframes respetando el numero total de clientes siendo 7043 filas! tenemos 20 columnas , podemos ver que hay dos columnas que no se encuentran en formato datetime las pondremos en el tipo correcto,  tambien podemos ver a la columna de TotalCharges que no esta en su tipo de datos correcto, asi como podemos ver 8 columnas en las cuales hay valores nulos, trabajaremos en ellas!!"
   ]
  },
  {
   "cell_type": "code",
   "execution_count": 11,
   "metadata": {},
   "outputs": [],
   "source": [
    "# Convertir las columnas 'BeginDate' y 'EndDate' a formato datetime\n",
    "df_merged['BeginDate'] = pd.to_datetime(df_merged['BeginDate'])"
   ]
  },
  {
   "cell_type": "code",
   "execution_count": 12,
   "metadata": {},
   "outputs": [
    {
     "data": {
      "text/plain": [
       "dtype('<M8[ns]')"
      ]
     },
     "execution_count": 12,
     "metadata": {},
     "output_type": "execute_result"
    }
   ],
   "source": [
    "df_merged['BeginDate'].dtype"
   ]
  },
  {
   "cell_type": "code",
   "execution_count": 13,
   "metadata": {},
   "outputs": [
    {
     "data": {
      "text/plain": [
       "array(['No', '2019-12-01 00:00:00', '2019-11-01 00:00:00',\n",
       "       '2019-10-01 00:00:00', '2020-01-01 00:00:00'], dtype=object)"
      ]
     },
     "execution_count": 13,
     "metadata": {},
     "output_type": "execute_result"
    }
   ],
   "source": [
    "df_merged['EndDate'].unique()"
   ]
  },
  {
   "cell_type": "code",
   "execution_count": 14,
   "metadata": {},
   "outputs": [
    {
     "data": {
      "image/png": "[encoded data removed]",
      "text/plain": [
       "<Figure size 800x300 with 1 Axes>"
      ]
     },
     "metadata": {},
     "output_type": "display_data"
    }
   ],
   "source": [
    "#Vamos a contar la frecuencia con la que aparecen cada fecha y los que aun 'no' finalizan con su servicio\n",
    "date_counts = df_merged['EndDate'].value_counts().sort_index()\n",
    "\n",
    "# Grafica de barras de los valores de la columna 'EndDate'\n",
    "plt.figure(figsize=(8, 3))\n",
    "plt.bar(date_counts.index, date_counts.values, color='skyblue', edgecolor='black')\n",
    "plt.title('Distribución de Fechas en EndDate')\n",
    "plt.xlabel('Fecha')\n",
    "plt.ylabel('Frecuencia')\n",
    "plt.xticks(rotation=45)\n",
    "plt.grid(axis='y', linestyle='--', alpha=0.7)\n",
    "plt.show()"
   ]
  },
  {
   "cell_type": "code",
   "execution_count": 15,
   "metadata": {},
   "outputs": [
    {
     "data": {
      "text/plain": [
       "2019-10-01 00:00:00     458\n",
       "2019-11-01 00:00:00     485\n",
       "2019-12-01 00:00:00     466\n",
       "2020-01-01 00:00:00     460\n",
       "No                     5174\n",
       "Name: EndDate, dtype: int64"
      ]
     },
     "execution_count": 15,
     "metadata": {},
     "output_type": "execute_result"
    }
   ],
   "source": [
    "#numero de valores de la variable 'EnDate'\n",
    "date_counts"
   ]
  },
  {
   "cell_type": "markdown",
   "metadata": {},
   "source": [
    "podemos ver que contamos con 4 periodos en los que cancelaron el servicio y es en orden del 1 de octubre del 2019 siguendo por noviembre diciembre y enero!!"
   ]
  },
  {
   "cell_type": "code",
   "execution_count": 16,
   "metadata": {},
   "outputs": [],
   "source": [
    "#convertimos los valores numericos de string a float a la columna TotalCharges\n",
    "df_merged['TotalCharges'] = pd.to_numeric(df_merged['TotalCharges'], errors='coerce')\n"
   ]
  },
  {
   "cell_type": "code",
   "execution_count": 17,
   "metadata": {},
   "outputs": [
    {
     "data": {
      "text/plain": [
       "dtype('float64')"
      ]
     },
     "execution_count": 17,
     "metadata": {},
     "output_type": "execute_result"
    }
   ],
   "source": [
    "#comprobamos que ya este hecho el cambio\n",
    "df_merged['TotalCharges'].dtype"
   ]
  },
  {
   "cell_type": "markdown",
   "metadata": {},
   "source": [
    "podemos ver ya los cambios realizados a nuestro analisis primario; las columnas en su formato correcto, ahora solo falta crear nuevas caracteristicas si se necesitan y trabajar con los **valores nulos!!**"
   ]
  },
  {
   "cell_type": "markdown",
   "metadata": {},
   "source": [
    "# Creacion de nuevas caracteristicas"
   ]
  },
  {
   "cell_type": "markdown",
   "metadata": {},
   "source": [
    "Vamos a crear una nueva columna basandonos en 'EndDate', para asi poder trabajar con nuestro modelo, sera de clasificacion binaria tomando como valor\n",
    "\n",
    "- 0 = False\n",
    "- 1 = como un True\n",
    "\n",
    "la nueva columna se llamará 'Cancelled' haciendo referencia a la cancelación de la variable a predecir"
   ]
  },
  {
   "cell_type": "code",
   "execution_count": 18,
   "metadata": {},
   "outputs": [],
   "source": [
    "# Creamos la columna 'Cancelled' basándonos en 'EndDate'\n",
    "df_merged['Cancelled'] = df_merged['EndDate'].apply(lambda x: 0 if x == 'No' else 1)\n"
   ]
  },
  {
   "cell_type": "markdown",
   "metadata": {},
   "source": [
    "# Imputacion de valores nulos"
   ]
  },
  {
   "cell_type": "code",
   "execution_count": 19,
   "metadata": {},
   "outputs": [
    {
     "data": {
      "text/plain": [
       "customerID             0\n",
       "BeginDate              0\n",
       "EndDate                0\n",
       "Type                   0\n",
       "PaperlessBilling       0\n",
       "PaymentMethod          0\n",
       "MonthlyCharges         0\n",
       "TotalCharges          11\n",
       "gender                 0\n",
       "SeniorCitizen          0\n",
       "Partner                0\n",
       "Dependents             0\n",
       "InternetService     1526\n",
       "OnlineSecurity      1526\n",
       "OnlineBackup        1526\n",
       "DeviceProtection    1526\n",
       "TechSupport         1526\n",
       "StreamingTV         1526\n",
       "StreamingMovies     1526\n",
       "MultipleLines        682\n",
       "Cancelled              0\n",
       "dtype: int64"
      ]
     },
     "execution_count": 19,
     "metadata": {},
     "output_type": "execute_result"
    }
   ],
   "source": [
    "df_merged.isnull().sum()"
   ]
  },
  {
   "cell_type": "code",
   "execution_count": 20,
   "metadata": {},
   "outputs": [],
   "source": [
    "# Eliminar filas donde hay pocos valores nulos\n",
    "df_merged = df_merged.dropna(subset=['TotalCharges'])"
   ]
  },
  {
   "cell_type": "code",
   "execution_count": 21,
   "metadata": {},
   "outputs": [
    {
     "data": {
      "text/plain": [
       "0"
      ]
     },
     "execution_count": 21,
     "metadata": {},
     "output_type": "execute_result"
    }
   ],
   "source": [
    "df_merged['TotalCharges'].isnull().sum()"
   ]
  },
  {
   "cell_type": "markdown",
   "metadata": {},
   "source": [
    "eliminamos solo los valores nulos de TotalCharges al ser solo 11 filas no deberia afectar a nuestro modelo con las  trabajaremos con ellas más adelante"
   ]
  },
  {
   "cell_type": "markdown",
   "metadata": {},
   "source": [
    "# Desequilibrio de clases"
   ]
  },
  {
   "cell_type": "code",
   "execution_count": 22,
   "metadata": {},
   "outputs": [
    {
     "data": {
      "text/plain": [
       "0    0.734215\n",
       "1    0.265785\n",
       "Name: Cancelled, dtype: float64"
      ]
     },
     "execution_count": 22,
     "metadata": {},
     "output_type": "execute_result"
    }
   ],
   "source": [
    "df_merged['Cancelled'].value_counts(1)"
   ]
  },
  {
   "cell_type": "code",
   "execution_count": 23,
   "metadata": {},
   "outputs": [
    {
     "data": {
      "image/png": "[encoded data removed]",
      "text/plain": [
       "<Figure size 640x480 with 1 Axes>"
      ]
     },
     "metadata": {},
     "output_type": "display_data"
    }
   ],
   "source": [
    "df_merged['Cancelled'].value_counts(1).plot(kind='bar')\n",
    "plt.title('Estado de cancelación')\n",
    "plt.xlabel('Estado')\n",
    "plt.ylabel('Frecuencia')\n",
    "plt.show()"
   ]
  },
  {
   "cell_type": "markdown",
   "metadata": {},
   "source": [
    "Podemos ver como hay un desequilibrio de las clases de nuestra variable a predecir, hay más personas las cuales no han cancelado el servicio representan el %73 de los valores, trabajaremos con el desequilibrio más adelante"
   ]
  },
  {
   "cell_type": "markdown",
   "metadata": {},
   "source": [
    "# Eliminación de caracteristicas"
   ]
  },
  {
   "cell_type": "code",
   "execution_count": 24,
   "metadata": {},
   "outputs": [
    {
     "data": {
      "text/plain": [
       "Index(['customerID', 'BeginDate', 'EndDate', 'Type', 'PaperlessBilling',\n",
       "       'PaymentMethod', 'MonthlyCharges', 'TotalCharges', 'gender',\n",
       "       'SeniorCitizen', 'Partner', 'Dependents', 'InternetService',\n",
       "       'OnlineSecurity', 'OnlineBackup', 'DeviceProtection', 'TechSupport',\n",
       "       'StreamingTV', 'StreamingMovies', 'MultipleLines', 'Cancelled'],\n",
       "      dtype='object')"
      ]
     },
     "execution_count": 24,
     "metadata": {},
     "output_type": "execute_result"
    }
   ],
   "source": [
    "#vista rapida de caracteristicas que tenemos\n",
    "df_merged.columns"
   ]
  },
  {
   "cell_type": "code",
   "execution_count": 25,
   "metadata": {},
   "outputs": [],
   "source": [
    "#Vamos a eliminar variables de nuestro dataframe que no nos aportan valor a nuestro modelo\n",
    "df_merged = df_merged.drop(['customerID', 'BeginDate', 'EndDate'],axis=1)"
   ]
  },
  {
   "cell_type": "code",
   "execution_count": 26,
   "metadata": {},
   "outputs": [
    {
     "data": {
      "text/plain": [
       "Index(['Type', 'PaperlessBilling', 'PaymentMethod', 'MonthlyCharges',\n",
       "       'TotalCharges', 'gender', 'SeniorCitizen', 'Partner', 'Dependents',\n",
       "       'InternetService', 'OnlineSecurity', 'OnlineBackup', 'DeviceProtection',\n",
       "       'TechSupport', 'StreamingTV', 'StreamingMovies', 'MultipleLines',\n",
       "       'Cancelled'],\n",
       "      dtype='object')"
      ]
     },
     "execution_count": 26,
     "metadata": {},
     "output_type": "execute_result"
    }
   ],
   "source": [
    "df_merged.columns"
   ]
  },
  {
   "cell_type": "markdown",
   "metadata": {},
   "source": [
    "# one hot encoding"
   ]
  },
  {
   "cell_type": "code",
   "execution_count": 27,
   "metadata": {},
   "outputs": [],
   "source": [
    "#codificaremos nuestras caracteristicas categoricas a numericas para poder trabajar con nuestro modelo\n",
    "df_ohe = pd.get_dummies(df_merged, drop_first= True)"
   ]
  },
  {
   "cell_type": "code",
   "execution_count": 28,
   "metadata": {},
   "outputs": [
    {
     "data": {
      "text/plain": [
       "(7032, 21)"
      ]
     },
     "execution_count": 28,
     "metadata": {},
     "output_type": "execute_result"
    }
   ],
   "source": [
    "df_ohe.shape"
   ]
  },
  {
   "cell_type": "markdown",
   "metadata": {},
   "source": [
    "se crearon 21 columnas en el nuevo dataframe en 'data_ohe' "
   ]
  },
  {
   "cell_type": "code",
   "execution_count": 29,
   "metadata": {},
   "outputs": [],
   "source": [
    "del df_merged"
   ]
  },
  {
   "cell_type": "code",
   "execution_count": 30,
   "metadata": {},
   "outputs": [
    {
     "name": "stdout",
     "output_type": "stream",
     "text": [
      "<class 'pandas.core.frame.DataFrame'>\n",
      "Int64Index: 7032 entries, 0 to 7042\n",
      "Data columns (total 21 columns):\n",
      " #   Column                                 Non-Null Count  Dtype  \n",
      "---  ------                                 --------------  -----  \n",
      " 0   MonthlyCharges                         7032 non-null   float64\n",
      " 1   TotalCharges                           7032 non-null   float64\n",
      " 2   SeniorCitizen                          7032 non-null   int64  \n",
      " 3   Cancelled                              7032 non-null   int64  \n",
      " 4   Type_One year                          7032 non-null   uint8  \n",
      " 5   Type_Two year                          7032 non-null   uint8  \n",
      " 6   PaperlessBilling_Yes                   7032 non-null   uint8  \n",
      " 7   PaymentMethod_Credit card (automatic)  7032 non-null   uint8  \n",
      " 8   PaymentMethod_Electronic check         7032 non-null   uint8  \n",
      " 9   PaymentMethod_Mailed check             7032 non-null   uint8  \n",
      " 10  gender_Male                            7032 non-null   uint8  \n",
      " 11  Partner_Yes                            7032 non-null   uint8  \n",
      " 12  Dependents_Yes                         7032 non-null   uint8  \n",
      " 13  InternetService_Fiber optic            7032 non-null   uint8  \n",
      " 14  OnlineSecurity_Yes                     7032 non-null   uint8  \n",
      " 15  OnlineBackup_Yes                       7032 non-null   uint8  \n",
      " 16  DeviceProtection_Yes                   7032 non-null   uint8  \n",
      " 17  TechSupport_Yes                        7032 non-null   uint8  \n",
      " 18  StreamingTV_Yes                        7032 non-null   uint8  \n",
      " 19  StreamingMovies_Yes                    7032 non-null   uint8  \n",
      " 20  MultipleLines_Yes                      7032 non-null   uint8  \n",
      "dtypes: float64(2), int64(2), uint8(17)\n",
      "memory usage: 391.4 KB\n"
     ]
    }
   ],
   "source": [
    "df_ohe.info()"
   ]
  },
  {
   "cell_type": "code",
   "execution_count": null,
   "metadata": {},
   "outputs": [],
   "source": []
  },
  {
   "cell_type": "code",
   "execution_count": null,
   "metadata": {},
   "outputs": [],
   "source": []
  },
  {
   "cell_type": "code",
   "execution_count": null,
   "metadata": {},
   "outputs": [],
   "source": []
  },
  {
   "cell_type": "code",
   "execution_count": null,
   "metadata": {},
   "outputs": [],
   "source": []
  },
  {
   "cell_type": "code",
   "execution_count": null,
   "metadata": {},
   "outputs": [],
   "source": []
  },
  {
   "cell_type": "markdown",
   "metadata": {},
   "source": [
    "# Separar caracteristicas y objetivos"
   ]
  },
  {
   "cell_type": "code",
   "execution_count": 31,
   "metadata": {},
   "outputs": [],
   "source": [
    "X = df_ohe.drop('Cancelled', axis=1)\n",
    "y = df_ohe['Cancelled']"
   ]
  },
  {
   "cell_type": "code",
   "execution_count": 32,
   "metadata": {},
   "outputs": [],
   "source": [
    "# Dividir los datos en conjunto de entrenamiento y prueba\n",
    "X_train, X_test, y_train, y_test = train_test_split(X, y, test_size=0.2, stratify=y, random_state=123456)"
   ]
  },
  {
   "cell_type": "code",
   "execution_count": null,
   "metadata": {},
   "outputs": [],
   "source": []
  },
  {
   "cell_type": "code",
   "execution_count": null,
   "metadata": {},
   "outputs": [],
   "source": []
  },
  {
   "cell_type": "markdown",
   "metadata": {},
   "source": [
    "# Imputacion de valores con SimpleImputer"
   ]
  },
  {
   "cell_type": "code",
   "execution_count": 33,
   "metadata": {},
   "outputs": [
    {
     "data": {
      "text/plain": [
       "SimpleImputer()"
      ]
     },
     "execution_count": 33,
     "metadata": {},
     "output_type": "execute_result"
    }
   ],
   "source": [
    "# Crear objeto SimpleImputer\n",
    "imputer = SimpleImputer()\n",
    "\n",
    "# Ajustar imputer'most_frequent'rain\n",
    "imputer.fit(X_train)"
   ]
  },
  {
   "cell_type": "code",
   "execution_count": 34,
   "metadata": {},
   "outputs": [],
   "source": [
    "# Transforma X_train\n",
    "X_train_transformed = imputer.transform(X_train)\n",
    "\n",
    "# Transforma X_test\n",
    "X_test_transformed = imputer.transform(X_test)"
   ]
  },
  {
   "cell_type": "code",
   "execution_count": 35,
   "metadata": {},
   "outputs": [
    {
     "data": {
      "text/plain": [
       "MonthlyCharges                           0\n",
       "TotalCharges                             0\n",
       "SeniorCitizen                            0\n",
       "Type_One year                            0\n",
       "Type_Two year                            0\n",
       "PaperlessBilling_Yes                     0\n",
       "PaymentMethod_Credit card (automatic)    0\n",
       "PaymentMethod_Electronic check           0\n",
       "PaymentMethod_Mailed check               0\n",
       "gender_Male                              0\n",
       "Partner_Yes                              0\n",
       "Dependents_Yes                           0\n",
       "InternetService_Fiber optic              0\n",
       "OnlineSecurity_Yes                       0\n",
       "OnlineBackup_Yes                         0\n",
       "DeviceProtection_Yes                     0\n",
       "TechSupport_Yes                          0\n",
       "StreamingTV_Yes                          0\n",
       "StreamingMovies_Yes                      0\n",
       "MultipleLines_Yes                        0\n",
       "dtype: int64"
      ]
     },
     "execution_count": 35,
     "metadata": {},
     "output_type": "execute_result"
    }
   ],
   "source": [
    "X_train.isna().sum()"
   ]
  },
  {
   "cell_type": "code",
   "execution_count": 36,
   "metadata": {},
   "outputs": [
    {
     "data": {
      "text/plain": [
       "MonthlyCharges                           0\n",
       "TotalCharges                             0\n",
       "SeniorCitizen                            0\n",
       "Type_One year                            0\n",
       "Type_Two year                            0\n",
       "PaperlessBilling_Yes                     0\n",
       "PaymentMethod_Credit card (automatic)    0\n",
       "PaymentMethod_Electronic check           0\n",
       "PaymentMethod_Mailed check               0\n",
       "gender_Male                              0\n",
       "Partner_Yes                              0\n",
       "Dependents_Yes                           0\n",
       "InternetService_Fiber optic              0\n",
       "OnlineSecurity_Yes                       0\n",
       "OnlineBackup_Yes                         0\n",
       "DeviceProtection_Yes                     0\n",
       "TechSupport_Yes                          0\n",
       "StreamingTV_Yes                          0\n",
       "StreamingMovies_Yes                      0\n",
       "MultipleLines_Yes                        0\n",
       "dtype: int64"
      ]
     },
     "execution_count": 36,
     "metadata": {},
     "output_type": "execute_result"
    }
   ],
   "source": [
    "X_test.isna().sum()"
   ]
  },
  {
   "cell_type": "markdown",
   "metadata": {},
   "source": [
    "#  Escalado de datos"
   ]
  },
  {
   "cell_type": "code",
   "execution_count": 37,
   "metadata": {},
   "outputs": [],
   "source": [
    "scaler = StandardScaler()\n",
    "scaler.fit(X_train_transformed)\n",
    "features_train = scaler.transform(X_train_transformed)\n",
    "features_test = scaler.transform(X_test_transformed)"
   ]
  },
  {
   "cell_type": "markdown",
   "metadata": {},
   "source": [
    "#  Modelos de aprendizaje"
   ]
  },
  {
   "cell_type": "markdown",
   "metadata": {},
   "source": [
    "**mejores hiperparametros**"
   ]
  },
  {
   "cell_type": "code",
   "execution_count": 38,
   "metadata": {},
   "outputs": [
    {
     "name": "stdout",
     "output_type": "stream",
     "text": [
      "CPU times: user 4 µs, sys: 1 µs, total: 5 µs\n",
      "Wall time: 8.58 µs\n"
     ]
    }
   ],
   "source": [
    "%time\n",
    "from sklearn.model_selection import RandomizedSearchCV\n",
    "\n",
    "\n",
    "# Modelo Random Forest con RandomSearch\n",
    "rf = RandomForestClassifier(class_weight='balanced')\n",
    "param_grid_rf = {\n",
    "    'n_estimators': [100, 200, 500],\n",
    "    'max_depth': [None, 5, 10],\n",
    "    'min_samples_split': [2, 5, 10],\n",
    "    'min_samples_leaf': [1, 5, 10],\n",
    "    'max_features': ['auto', 'sqrt', 'log2']\n",
    "}\n",
    "random_search_rf = RandomizedSearchCV(rf, param_grid_rf, cv=5, n_iter=10)\n",
    "random_search_rf.fit(X_train_transformed, y_train)\n",
    "rf_best = random_search_rf.best_estimator_"
   ]
  },
  {
   "cell_type": "code",
   "execution_count": 39,
   "metadata": {},
   "outputs": [
    {
     "name": "stdout",
     "output_type": "stream",
     "text": [
      "CPU times: user 3 µs, sys: 1e+03 ns, total: 4 µs\n",
      "Wall time: 6.2 µs\n"
     ]
    }
   ],
   "source": [
    "%time\n",
    "# Modelo XGBClassifier con RandomSearch\n",
    "\n",
    "from sklearn.preprocessing import LabelEncoder\n",
    "\n",
    "# Codificar las etiquetas usando LabelEncoder\n",
    "label_encoder = LabelEncoder()\n",
    "y_train_encoded = label_encoder.fit_transform(y_train)\n",
    "\n",
    "# Configurar XGBClassifier con las recomendaciones\n",
    "xgb_clf = XGBClassifier(scale_pos_weight=10, use_label_encoder=False, eval_metric='logloss')\n",
    "\n",
    "param_grid_xgb = {\n",
    "    'max_depth': [3, 5, 7],\n",
    "    'learning_rate': [0.1, 0.5, 1],\n",
    "    'n_estimators': [50, 100, 200],\n",
    "    'gamma': [0, 0.1, 0.5],\n",
    "    'subsample': [0.5, 0.8, 1],\n",
    "    'colsample_bytree': [0.5, 0.8, 1]\n",
    "    \n",
    "}\n",
    "random_search_xgb = RandomizedSearchCV(xgb_clf, param_grid_xgb, cv=5, n_iter=10)\n",
    "random_search_xgb.fit(X_train_transformed, y_train_encoded)\n",
    "xgb_best = random_search_xgb.best_estimator_"
   ]
  },
  {
   "cell_type": "code",
   "execution_count": null,
   "metadata": {},
   "outputs": [],
   "source": [
    "%time\n",
    "# Modelo CatBoostClassifier con RandomSearch\n",
    "cb_clf = CatBoostClassifier(class_weights=[1, 10])\n",
    "param_grid_cb = {\n",
    "    'iterations': [50, 100, 200],\n",
    "    'learning_rate': [0.1, 0.5, 1],\n",
    "    'depth': [3, 5, 7],\n",
    "    'l2_leaf_reg': [0, 0.1, 0.5],\n",
    "    'border_count': [32, 64, 128]\n",
    "}\n",
    "random_search_cb = RandomizedSearchCV(cb_clf, param_grid_cb, cv=5, n_iter=10)\n",
    "random_search_cb.fit(X_train_transformed, y_train)\n",
    "cb_best = random_search_cb.best_estimator_"
   ]
  },
  {
   "cell_type": "code",
   "execution_count": null,
   "metadata": {},
   "outputs": [],
   "source": []
  },
  {
   "cell_type": "code",
   "execution_count": null,
   "metadata": {},
   "outputs": [],
   "source": []
  },
  {
   "cell_type": "code",
   "execution_count": null,
   "metadata": {},
   "outputs": [],
   "source": [
    "%time\n",
    "# Entrenar modelos con mejores hiperparámetros\n",
    "rf_best.fit(X_train_transformed, y_train)\n",
    "xgb_best.fit(X_train_transformed, y_train)\n",
    "cb_best.fit(X_train_transformed, y_train)"
   ]
  },
  {
   "cell_type": "code",
   "execution_count": null,
   "metadata": {},
   "outputs": [],
   "source": []
  },
  {
   "cell_type": "code",
   "execution_count": 43,
   "metadata": {},
   "outputs": [
    {
     "name": "stdout",
     "output_type": "stream",
     "text": [
      "Random Forest: 0.7882018479033405\n",
      "XGBClassifier: 0.7604832977967306\n",
      "CatBoostClassifier: 0.7242359630419332\n"
     ]
    }
   ],
   "source": [
    "# Evaluar modelos\n",
    "print(\"Random Forest:\", rf_best.score(X_test_transformed, y_test))\n",
    "print(\"XGBClassifier:\", xgb_best.score(X_test_transformed, y_test))\n",
    "print(\"CatBoostClassifier:\", cb_best.score(X_test_transformed, y_test))"
   ]
  },
  {
   "cell_type": "code",
   "execution_count": 44,
   "metadata": {},
   "outputs": [],
   "source": [
    "# Obtener predicciones\n",
    "\n",
    "y_pred_rf = rf_best.predict(X_test_transformed)\n",
    "y_pred_xgb = xgb_best.predict(X_test_transformed)\n",
    "y_pred_cb = cb_best.predict(X_test_transformed)"
   ]
  },
  {
   "cell_type": "code",
   "execution_count": 45,
   "metadata": {},
   "outputs": [
    {
     "name": "stdout",
     "output_type": "stream",
     "text": [
      "Random Forest:\n",
      "Accuracy: 0.7882018479033405\n",
      "Classification Report:\n",
      "               precision    recall  f1-score   support\n",
      "\n",
      "           0       0.85      0.87      0.86      1033\n",
      "           1       0.61      0.56      0.59       374\n",
      "\n",
      "    accuracy                           0.79      1407\n",
      "   macro avg       0.73      0.72      0.72      1407\n",
      "weighted avg       0.78      0.79      0.79      1407\n",
      "\n",
      "Confusion Matrix:\n",
      " [[898 135]\n",
      " [163 211]]\n",
      "AUC-ROC: 0.7167419022524086\n"
     ]
    }
   ],
   "source": [
    "# Obtener métricas\n",
    "print(\"Random Forest:\")\n",
    "print(\"Accuracy:\", accuracy_score(y_test, y_pred_rf))\n",
    "print(\"Classification Report:\\n\", classification_report(y_test, y_pred_rf))\n",
    "print(\"Confusion Matrix:\\n\", confusion_matrix(y_test, y_pred_rf))\n",
    "print(\"AUC-ROC:\", roc_auc_score(y_test, y_pred_rf))\n"
   ]
  },
  {
   "cell_type": "code",
   "execution_count": 46,
   "metadata": {},
   "outputs": [
    {
     "name": "stdout",
     "output_type": "stream",
     "text": [
      "\n",
      "XGBoost:\n",
      "Accuracy: 0.7604832977967306\n",
      "Classification Report:\n",
      "               precision    recall  f1-score   support\n",
      "\n",
      "           0       0.86      0.81      0.83      1033\n",
      "           1       0.54      0.63      0.58       374\n",
      "\n",
      "    accuracy                           0.76      1407\n",
      "   macro avg       0.70      0.72      0.71      1407\n",
      "weighted avg       0.77      0.76      0.77      1407\n",
      "\n",
      "Confusion Matrix:\n",
      " [[835 198]\n",
      " [139 235]]\n",
      "AUC-ROC: 0.7183337561021065\n"
     ]
    }
   ],
   "source": [
    "# Obtener métricas\n",
    "print(\"\\nXGBoost:\")\n",
    "print(\"Accuracy:\", accuracy_score(y_test, y_pred_xgb))\n",
    "print(\"Classification Report:\\n\", classification_report(y_test, y_pred_xgb))\n",
    "print(\"Confusion Matrix:\\n\", confusion_matrix(y_test, y_pred_xgb))\n",
    "print(\"AUC-ROC:\", roc_auc_score(y_test, y_pred_xgb))"
   ]
  },
  {
   "cell_type": "code",
   "execution_count": 47,
   "metadata": {},
   "outputs": [
    {
     "name": "stdout",
     "output_type": "stream",
     "text": [
      "\n",
      "CatBoost:\n",
      "Accuracy: 0.7242359630419332\n",
      "Classification Report:\n",
      "               precision    recall  f1-score   support\n",
      "\n",
      "           0       0.85      0.75      0.80      1033\n",
      "           1       0.49      0.65      0.56       374\n",
      "\n",
      "    accuracy                           0.72      1407\n",
      "   macro avg       0.67      0.70      0.68      1407\n",
      "weighted avg       0.76      0.72      0.74      1407\n",
      "\n",
      "Confusion Matrix:\n",
      " [[777 256]\n",
      " [132 242]]\n",
      "AUC-ROC: 0.6996184727521212\n"
     ]
    }
   ],
   "source": [
    "# Obtener métricas\n",
    "print(\"\\nCatBoost:\")\n",
    "print(\"Accuracy:\", accuracy_score(y_test, y_pred_cb))\n",
    "print(\"Classification Report:\\n\", classification_report(y_test, y_pred_cb))\n",
    "print(\"Confusion Matrix:\\n\", confusion_matrix(y_test, y_pred_cb))\n",
    "print(\"AUC-ROC:\", roc_auc_score(y_test, y_pred_cb))"
   ]
  },
  {
   "cell_type": "markdown",
   "metadata": {},
   "source": [
    "# Gradient Boosting"
   ]
  },
  {
   "cell_type": "code",
   "execution_count": 48,
   "metadata": {},
   "outputs": [],
   "source": [
    "from sklearn.ensemble import GradientBoostingClassifier\n",
    "from sklearn.metrics import roc_auc_score"
   ]
  },
  {
   "cell_type": "code",
   "execution_count": 49,
   "metadata": {},
   "outputs": [
    {
     "name": "stdout",
     "output_type": "stream",
     "text": [
      "AUC-ROC: 0.8443283412106373\n"
     ]
    }
   ],
   "source": [
    "# Crear el modelo de Gradient Boosting\n",
    "gb = GradientBoostingClassifier(n_estimators=100, learning_rate=0.1, max_depth=5)\n",
    "\n",
    "# Entrenar el modelo\n",
    "gb.fit(X_train_transformed, y_train)\n",
    "\n",
    "# Predecir las probabilidades para el conjunto de prueba\n",
    "y_pred = gb.predict_proba(X_test_transformed)[:, 1]\n",
    "\n",
    "# Calcular el AUC-ROC\n",
    "auc = roc_auc_score(y_test, y_pred)\n",
    "\n",
    "print(\"AUC-ROC:\", auc)"
   ]
  },
  {
   "cell_type": "code",
   "execution_count": 51,
   "metadata": {},
   "outputs": [
    {
     "name": "stdout",
     "output_type": "stream",
     "text": [
      "Accuracy: 0.8002842928216063\n",
      "Classification Report:\n",
      "               precision    recall  f1-score   support\n",
      "\n",
      "           0       0.84      0.90      0.87      1033\n",
      "           1       0.65      0.53      0.58       374\n",
      "\n",
      "    accuracy                           0.80      1407\n",
      "   macro avg       0.75      0.71      0.73      1407\n",
      "weighted avg       0.79      0.80      0.79      1407\n",
      "\n",
      "Confusion Matrix:\n",
      " [[928 105]\n",
      " [176 198]]\n"
     ]
    }
   ],
   "source": [
    "# Predecir las etiquetas para el conjunto de prueba\n",
    "y_pred = gb.predict(X_test)\n",
    "\n",
    "# Calcular el accuracy\n",
    "accuracy = accuracy_score(y_test, y_pred)\n",
    "print(\"Accuracy:\", accuracy)\n",
    "\n",
    "# Calcular el classification report\n",
    "report = classification_report(y_test, y_pred)\n",
    "print(\"Classification Report:\\n\", report)\n",
    "\n",
    "# Calcular la confusion matrix\n",
    "matrix = confusion_matrix(y_test, y_pred)\n",
    "print(\"Confusion Matrix:\\n\", matrix)"
   ]
  },
  {
   "cell_type": "markdown",
   "metadata": {},
   "source": [
    "# Informe"
   ]
  },
  {
   "cell_type": "markdown",
   "metadata": {},
   "source": [
    "- **Accuracy:** El modelo tiene una precisión del 80.03%, lo que significa que clasifica correctamente el 80.03% de los ejemplos del conjunto de prueba.\n",
    "\n",
    "\n",
    "- **Classification Report:**\n",
    "La precisión para la clase 0 es del 84%, lo que significa que cuando el modelo predice la clase 0, tiene un 84% de probabilidades de estar en lo correcto.\n",
    "La precisión para la clase 1 es del 65%, lo que significa que cuando el modelo predice la clase 1, tiene un 65% de probabilidades de estar en lo correcto.\n",
    "El recall para la clase 0 es del 90%, lo que significa que el modelo detecta el 90% de los ejemplos de la clase 0.\n",
    "El recall para la clase 1 es del 53%, lo que significa que el modelo detecta el 53% de los ejemplos de la clase 1.\n",
    "\n",
    "\n",
    "- **Confusion Matrix:**\n",
    "La matriz de confusión muestra que el modelo clasifica correctamente 928 ejemplos de la clase 0 y 198 ejemplos de la clase 1.\n",
    "El modelo se equivoca en 105 ejemplos de la clase 0 (los clasifica como clase 1) y en 176 ejemplos de la clase 1 (los clasifica como clase 0).\n",
    "\n",
    "\n",
    "- **AUC-ROC:**\n",
    "El modelo tiene un AUC-ROC del 0.8443, lo que indica que el modelo es capaz de distinguir entre las clases con un buen nivel de precisión.\n",
    "\n"
   ]
  },
  {
   "cell_type": "markdown",
   "metadata": {},
   "source": [
    "Podemos ver que nuestro mejor modelo fue el gradient boosting obteniendo la métrica principal pedida un **AUC-ROC: de 0.84** y la métrica adicional **Accuracy:de 0.80!!**"
   ]
  },
  {
   "cell_type": "markdown",
   "metadata": {},
   "source": [
    "# Informe de solución"
   ]
  },
  {
   "cell_type": "markdown",
   "metadata": {},
   "source": [
    "**El informe, responde a las siguientes preguntas:**\n",
    "\n",
    "\n",
    "- ¿Qué pasos del plan se realizaron y qué pasos se omitieron (explica por qué)?\n",
    "\n",
    "**Todos los pasos expuestos en el planteamiento de nuestro proyecto se realizarón y se profundizaron con mayor detalle como el trabajo con el desbalance de las clases hasta la creacion de una nueva caracteristica objetivo basada en nuestra union de los dataframes originales**\n",
    "\n",
    "- ¿Qué dificultades encontraste y cómo lograste resolverlas?\n",
    "\n",
    "**No contabamos con ciertos valores decidimos imputar los valores con 'SimpleImputer' en nuestros conjuntos de entrenamiento y prueba y solo 11 columnas fueron eliminadas de una caracteristica al ser muy pocas.**\n",
    "\n",
    "- ¿Cuáles fueron algunos de los pasos clave para resolver la tarea?\n",
    "\n",
    "**el analisis exploratorio de los datos,\n",
    "la identificacion de nuestra variable objetivo,\n",
    "el trabajo del desequilibrio de las clases,\n",
    "la eliminación de ciertas caracteristicas que no nos aportaban valor a nuestro modelo,\n",
    "la codificación de nuestras caracteristicas categoricas,\n",
    "la creacion de los conjuntos de entrenamiento y prueba en base a nuestras caracteristicas y variable objetivo,\n",
    "la imputacion de valores nulos,\n",
    "el escalado de datos,\n",
    "finalmente la creacion de los modelos**\n",
    "\n",
    "- ¿Cuál es tu modelo final y qué nivel de calidad tiene?\n",
    "\n",
    "**nuestro mejor modelo fue el gradient boosting obteniendo la métrica principal pedida un AUC-ROC: de 0.84 y la métrica adicional Accuracy:de 0.80!!**"
   ]
  },
  {
   "cell_type": "code",
   "execution_count": null,
   "metadata": {},
   "outputs": [],
   "source": []
  },
  {
   "cell_type": "code",
   "execution_count": null,
   "metadata": {},
   "outputs": [],
   "source": []
  },
  {
   "cell_type": "markdown",
   "metadata": {},
   "source": [
    "# lista de preguntas aclaratorias"
   ]
  },
  {
   "cell_type": "markdown",
   "metadata": {},
   "source": [
    "1.- Cuentan con los valores nulos de las siguientes columnas??\n",
    "- 12  InternetService   5517 non-null   object        \n",
    "- 13  OnlineSecurity    5517 non-null   object        \n",
    "- 14  OnlineBackup      5517 non-null   object        \n",
    "- 15  DeviceProtection  5517 non-null   object        \n",
    "- 16  TechSupport       5517 non-null   object        \n",
    "- 17  StreamingTV       5517 non-null   object        \n",
    "- 18  StreamingMovies   5517 non-null   object        \n",
    "- 19  MultipleLines     6361 non-null   object  "
   ]
  },
  {
   "cell_type": "markdown",
   "metadata": {},
   "source": [
    "# plan aproximado para resolver la tarea"
   ]
  },
  {
   "cell_type": "markdown",
   "metadata": {},
   "source": [
    "-  Realizar un analisis exploratorio de datos y realizar una limpieza de los mismos (EDA)\n",
    "-  De acuerdo a lo que el cliente nos pide ver la columna objetivo para la prediccion del modelo asi como las caracteristicas y separar el conjunto de datos en entrenamiento y prueba.\n",
    "-  Escoger el tipo de modelo de machine learning de acuerdo al tipo del mismo ya sea si es una tarea de clasificacion o de regresión.\n",
    "-  Evaluar diferentes modelos para escoger el más adecuado\n",
    "-  Obtener la metrica que el cliente nos pidio y entregar informe del mismo"
   ]
  },
  {
   "cell_type": "markdown",
   "metadata": {},
   "source": [
    "<div class=\"alert alert-block alert-success\">\n",
    "<b>Comentario del revisor</b>\n",
    "El plan de proyecto muestra un buen inicio en el análisis de datos para Interconnect. Aspectos positivos incluyen:\n",
    "\n",
    "Correcta importación y fusión de los diferentes conjuntos de datos.\n",
    "Identificación adecuada de problemas en los tipos de datos y valores nulos.\n",
    "Exploración inicial de las variables categóricas y sus distribuciones.\n",
    "Planteamiento de preguntas aclaratorias pertinentes sobre los datos faltantes.\n",
    "Esbozo general de los pasos a seguir para el análisis y modelado.\n",
    "\n",
    "</div>\n",
    "<div class=\"alert alert-block alert-warning\">\n",
    "<b>Comentario del revisor</b>\n",
    "Áreas que necesitan mejora o mayor detalle:\n",
    "\n",
    "El plan para el análisis exploratorio de datos (EDA) podría ser más específico, indicando qué tipos de visualizaciones y análisis estadísticos se realizarán.\n",
    "No se menciona cómo se manejará el desbalance de clases, que es común en problemas de predicción de cancelación de clientes.\n",
    "Falta especificar qué métricas se utilizarán para evaluar los modelos, además de la métrica solicitada por el cliente.\n",
    "No se menciona un plan para el manejo de variables categóricas (por ejemplo, codificación one-hot o encoding ordinal).\n",
    "Sería útil incluir un paso para la selección o ingeniería de características antes del modelado.\n",
    "\n",
    "</div>\n",
    "<div class=\"alert alert-block alert-danger\">\n",
    "<b>Comentario del revisor</b>\n",
    "Puntos críticos que deben abordarse:\n",
    "\n",
    "No se ha definido claramente la variable objetivo. Es crucial especificar cómo se determinará si un cliente ha cancelado su servicio basándose en los datos disponibles.\n",
    "El plan no menciona cómo se manejarán los valores nulos en las columnas de servicios de internet y teléfono. Esta decisión puede tener un impacto significativo en el análisis y debe ser abordada explícitamente.\n",
    "No se ha considerado la validación cruzada en el plan de evaluación del modelo, lo cual es esencial para evitar el sobreajuste y obtener una estimación robusta del rendimiento del modelo.\n",
    "\n",
    "</div>"
   ]
  },
  {
   "cell_type": "markdown",
   "metadata": {},
   "source": [
    "<div class=\"alert alert-block alert-success\">\n",
    "<b>Comentario del revisor</b> <a class=\"tocSkip\"></a>\n",
    "Buen trabajo en este proyecto. Este proyecto está en condiciones de ser aprobado.<br>\n",
    "Tu enfoque y presentación son sólidos y están bien fundamentados.<br>\n",
    "<br>Es importante reconocer el esfuerzo y el análisis que has realizado. Te animo a seguir aplicando este enfoque en tus futuros proyectos. Espero que continúes desarrollando tus habilidades y conocimientos en próximos desafíos.\n",
    "\n",
    "</div>"
   ]
  }
 ],
 "metadata": {
  "ExecuteTimeLog": [
   {
    "duration": 4245,
    "start_time": "2024-07-25T23:24:28.772Z"
   },
   {
    "duration": 1104,
    "start_time": "2024-07-25T23:24:57.601Z"
   },
   {
    "duration": 930,
    "start_time": "2024-07-25T23:27:22.837Z"
   },
   {
    "duration": 3,
    "start_time": "2024-07-25T23:27:35.841Z"
   },
   {
    "duration": 435,
    "start_time": "2024-07-25T23:27:36.181Z"
   },
   {
    "duration": 9,
    "start_time": "2024-07-25T23:29:10.608Z"
   },
   {
    "duration": 6,
    "start_time": "2024-07-25T23:29:24.066Z"
   },
   {
    "duration": 493,
    "start_time": "2024-07-25T23:29:42.782Z"
   },
   {
    "duration": 17,
    "start_time": "2024-07-25T23:29:50.972Z"
   },
   {
    "duration": 460,
    "start_time": "2024-07-25T23:31:00.280Z"
   },
   {
    "duration": 438,
    "start_time": "2024-07-25T23:31:41.998Z"
   },
   {
    "duration": 461,
    "start_time": "2024-07-25T23:32:07.548Z"
   },
   {
    "duration": 442,
    "start_time": "2024-07-25T23:36:08.864Z"
   },
   {
    "duration": 477,
    "start_time": "2024-07-25T23:36:37.371Z"
   },
   {
    "duration": 429,
    "start_time": "2024-07-25T23:36:45.233Z"
   },
   {
    "duration": 431,
    "start_time": "2024-07-25T23:36:49.360Z"
   },
   {
    "duration": 122,
    "start_time": "2024-07-25T23:41:52.328Z"
   },
   {
    "duration": 130,
    "start_time": "2024-07-25T23:42:01.588Z"
   },
   {
    "duration": 433,
    "start_time": "2024-07-25T23:45:19.747Z"
   },
   {
    "duration": 311,
    "start_time": "2024-07-25T23:48:09.489Z"
   },
   {
    "duration": 434,
    "start_time": "2024-07-25T23:52:36.453Z"
   },
   {
    "duration": 131,
    "start_time": "2024-07-26T00:02:58.258Z"
   },
   {
    "duration": 120,
    "start_time": "2024-07-26T00:03:07.648Z"
   },
   {
    "duration": 125,
    "start_time": "2024-07-26T00:04:22.982Z"
   },
   {
    "duration": 146,
    "start_time": "2024-07-26T00:04:32.478Z"
   },
   {
    "duration": 135,
    "start_time": "2024-07-26T00:04:37.054Z"
   },
   {
    "duration": 153,
    "start_time": "2024-07-26T00:04:54.057Z"
   },
   {
    "duration": 144,
    "start_time": "2024-07-26T00:05:33.988Z"
   },
   {
    "duration": 132,
    "start_time": "2024-07-26T00:05:38.604Z"
   },
   {
    "duration": 126,
    "start_time": "2024-07-26T00:08:01.914Z"
   },
   {
    "duration": 137,
    "start_time": "2024-07-26T00:08:07.894Z"
   },
   {
    "duration": 121,
    "start_time": "2024-07-26T00:08:15.904Z"
   },
   {
    "duration": 120,
    "start_time": "2024-07-26T00:08:19.718Z"
   },
   {
    "duration": 121,
    "start_time": "2024-07-26T00:08:33.859Z"
   },
   {
    "duration": 120,
    "start_time": "2024-07-26T00:08:39.144Z"
   },
   {
    "duration": 126,
    "start_time": "2024-07-26T00:09:18.618Z"
   },
   {
    "duration": 14,
    "start_time": "2024-07-26T01:06:41.784Z"
   },
   {
    "duration": 6,
    "start_time": "2024-07-26T01:07:15.646Z"
   },
   {
    "duration": 315,
    "start_time": "2024-07-26T01:07:27.998Z"
   },
   {
    "duration": 4369,
    "start_time": "2024-07-26T01:07:33.068Z"
   },
   {
    "duration": 740,
    "start_time": "2024-07-26T01:07:37.441Z"
   },
   {
    "duration": 5,
    "start_time": "2024-07-26T01:08:05.217Z"
   },
   {
    "duration": 5,
    "start_time": "2024-07-26T01:08:32.463Z"
   },
   {
    "duration": 5,
    "start_time": "2024-07-26T01:08:38.692Z"
   },
   {
    "duration": 7,
    "start_time": "2024-07-26T01:09:49.404Z"
   },
   {
    "duration": 125,
    "start_time": "2024-07-26T01:24:54.926Z"
   },
   {
    "duration": 42,
    "start_time": "2024-07-26T01:25:14.385Z"
   },
   {
    "duration": 121,
    "start_time": "2024-07-26T01:41:45.212Z"
   },
   {
    "duration": 939,
    "start_time": "2024-07-26T01:42:51.449Z"
   },
   {
    "duration": 452,
    "start_time": "2024-07-26T01:43:11.237Z"
   },
   {
    "duration": 463,
    "start_time": "2024-07-26T01:48:11.906Z"
   },
   {
    "duration": 228,
    "start_time": "2024-07-26T01:48:59.433Z"
   },
   {
    "duration": 11,
    "start_time": "2024-07-26T01:49:26.201Z"
   },
   {
    "duration": 5,
    "start_time": "2024-07-26T01:54:45.034Z"
   },
   {
    "duration": 129,
    "start_time": "2024-07-26T01:56:25.894Z"
   },
   {
    "duration": 6,
    "start_time": "2024-07-26T01:57:55.828Z"
   },
   {
    "duration": 135,
    "start_time": "2024-07-26T02:09:37.598Z"
   },
   {
    "duration": 3,
    "start_time": "2024-07-26T02:16:09.077Z"
   },
   {
    "duration": 133,
    "start_time": "2024-07-26T02:16:10.185Z"
   },
   {
    "duration": 124,
    "start_time": "2024-07-26T02:34:37.182Z"
   },
   {
    "duration": 123,
    "start_time": "2024-07-26T02:34:57.178Z"
   },
   {
    "duration": 127,
    "start_time": "2024-07-26T02:39:23.479Z"
   },
   {
    "duration": 122,
    "start_time": "2024-07-26T02:39:34.972Z"
   },
   {
    "duration": 120,
    "start_time": "2024-07-26T02:39:48.129Z"
   },
   {
    "duration": 124,
    "start_time": "2024-07-26T02:40:50.627Z"
   },
   {
    "duration": 124,
    "start_time": "2024-07-26T02:41:16.026Z"
   },
   {
    "duration": 122,
    "start_time": "2024-07-26T02:41:25.419Z"
   },
   {
    "duration": 125,
    "start_time": "2024-07-26T02:41:43.154Z"
   },
   {
    "duration": 7,
    "start_time": "2024-07-26T02:42:56.312Z"
   },
   {
    "duration": 5,
    "start_time": "2024-07-26T02:43:25.526Z"
   },
   {
    "duration": 44,
    "start_time": "2024-07-26T02:56:06.386Z"
   },
   {
    "duration": 15,
    "start_time": "2024-07-26T02:56:28.479Z"
   },
   {
    "duration": 79,
    "start_time": "2024-07-26T03:00:57.114Z"
   },
   {
    "duration": 14,
    "start_time": "2024-07-26T03:01:10.846Z"
   },
   {
    "duration": 17,
    "start_time": "2024-07-26T03:01:24.205Z"
   },
   {
    "duration": 20,
    "start_time": "2024-07-26T03:01:38.730Z"
   },
   {
    "duration": 11,
    "start_time": "2024-07-26T03:01:56.456Z"
   },
   {
    "duration": 62,
    "start_time": "2024-07-26T03:24:20.396Z"
   },
   {
    "duration": 6,
    "start_time": "2024-07-26T03:25:47.383Z"
   },
   {
    "duration": 31,
    "start_time": "2024-07-26T03:26:00.028Z"
   },
   {
    "duration": 30,
    "start_time": "2024-07-26T03:26:14.496Z"
   },
   {
    "duration": 25,
    "start_time": "2024-07-26T03:26:33.182Z"
   },
   {
    "duration": 20,
    "start_time": "2024-07-26T03:28:02.850Z"
   },
   {
    "duration": 20,
    "start_time": "2024-07-26T03:28:06.836Z"
   },
   {
    "duration": 23,
    "start_time": "2024-07-26T03:28:41.018Z"
   },
   {
    "duration": 18,
    "start_time": "2024-07-26T03:28:47.151Z"
   },
   {
    "duration": 4168,
    "start_time": "2024-07-28T01:20:37.030Z"
   },
   {
    "duration": 116,
    "start_time": "2024-07-28T01:20:41.202Z"
   },
   {
    "duration": 348,
    "start_time": "2024-07-28T01:20:41.321Z"
   },
   {
    "duration": 25,
    "start_time": "2024-07-28T01:20:53.562Z"
   },
   {
    "duration": 26,
    "start_time": "2024-07-28T01:21:04.704Z"
   },
   {
    "duration": 18,
    "start_time": "2024-07-28T01:21:11.403Z"
   },
   {
    "duration": 12,
    "start_time": "2024-07-28T01:21:16.958Z"
   },
   {
    "duration": 15,
    "start_time": "2024-07-28T01:24:12.124Z"
   },
   {
    "duration": 11,
    "start_time": "2024-07-28T01:24:23.700Z"
   },
   {
    "duration": 24,
    "start_time": "2024-07-28T01:24:37.916Z"
   },
   {
    "duration": 6,
    "start_time": "2024-07-28T01:24:42.419Z"
   },
   {
    "duration": 6,
    "start_time": "2024-07-28T01:24:46.906Z"
   },
   {
    "duration": 5,
    "start_time": "2024-07-28T01:25:03.433Z"
   },
   {
    "duration": 16,
    "start_time": "2024-07-28T01:25:03.609Z"
   },
   {
    "duration": 5,
    "start_time": "2024-07-28T01:25:25.935Z"
   },
   {
    "duration": 13,
    "start_time": "2024-07-28T01:25:32.536Z"
   },
   {
    "duration": 6,
    "start_time": "2024-07-28T01:25:50.723Z"
   },
   {
    "duration": 9,
    "start_time": "2024-07-28T01:25:58.167Z"
   },
   {
    "duration": 22,
    "start_time": "2024-07-28T01:26:06.401Z"
   },
   {
    "duration": 6,
    "start_time": "2024-07-28T01:26:16.079Z"
   },
   {
    "duration": 29,
    "start_time": "2024-07-28T01:26:23.426Z"
   },
   {
    "duration": 24,
    "start_time": "2024-07-28T01:26:26.882Z"
   },
   {
    "duration": 24,
    "start_time": "2024-07-28T01:26:50.145Z"
   },
   {
    "duration": 20,
    "start_time": "2024-07-28T01:26:50.734Z"
   },
   {
    "duration": 29,
    "start_time": "2024-07-28T01:36:20.937Z"
   },
   {
    "duration": 706,
    "start_time": "2024-07-28T01:36:37.724Z"
   },
   {
    "duration": 143,
    "start_time": "2024-07-28T01:38:48.915Z"
   },
   {
    "duration": 49,
    "start_time": "2024-07-28T01:39:19.687Z"
   },
   {
    "duration": 121,
    "start_time": "2024-07-28T01:39:44.176Z"
   },
   {
    "duration": 97,
    "start_time": "2024-07-28T01:39:57.879Z"
   },
   {
    "duration": 23,
    "start_time": "2024-07-28T01:41:25.529Z"
   },
   {
    "duration": 22,
    "start_time": "2024-07-28T01:41:40.207Z"
   },
   {
    "duration": 23,
    "start_time": "2024-07-28T01:44:26.101Z"
   },
   {
    "duration": 22,
    "start_time": "2024-07-28T01:44:56.450Z"
   },
   {
    "duration": 24,
    "start_time": "2024-07-28T01:46:43.755Z"
   },
   {
    "duration": 31,
    "start_time": "2024-07-28T01:46:57.811Z"
   },
   {
    "duration": 61,
    "start_time": "2024-07-28T01:47:05.583Z"
   },
   {
    "duration": 30,
    "start_time": "2024-07-28T01:47:34.630Z"
   },
   {
    "duration": 34,
    "start_time": "2024-07-28T01:47:37.980Z"
   },
   {
    "duration": 21,
    "start_time": "2024-07-28T01:48:48.077Z"
   },
   {
    "duration": 22,
    "start_time": "2024-07-28T01:48:53.245Z"
   },
   {
    "duration": 21,
    "start_time": "2024-07-28T01:49:09.480Z"
   },
   {
    "duration": 20,
    "start_time": "2024-07-28T01:49:30.839Z"
   },
   {
    "duration": 23,
    "start_time": "2024-07-28T01:49:50.960Z"
   },
   {
    "duration": 21,
    "start_time": "2024-07-28T01:59:07.396Z"
   },
   {
    "duration": 512,
    "start_time": "2024-07-28T02:02:23.982Z"
   },
   {
    "duration": 523,
    "start_time": "2024-07-28T02:03:25.164Z"
   },
   {
    "duration": 8,
    "start_time": "2024-07-28T02:07:05.778Z"
   },
   {
    "duration": 7,
    "start_time": "2024-07-28T02:08:07.292Z"
   },
   {
    "duration": 4,
    "start_time": "2024-07-28T02:13:19.997Z"
   },
   {
    "duration": 315,
    "start_time": "2024-07-28T02:13:20.671Z"
   },
   {
    "duration": 4,
    "start_time": "2024-07-28T02:13:41.464Z"
   },
   {
    "duration": 208,
    "start_time": "2024-07-28T02:13:41.944Z"
   },
   {
    "duration": 14,
    "start_time": "2024-07-28T02:14:03.791Z"
   },
   {
    "duration": 62,
    "start_time": "2024-07-28T02:15:03.163Z"
   },
   {
    "duration": 23,
    "start_time": "2024-07-28T02:15:11.029Z"
   },
   {
    "duration": 7,
    "start_time": "2024-07-28T02:15:16.369Z"
   },
   {
    "duration": 26,
    "start_time": "2024-07-28T02:18:21.470Z"
   },
   {
    "duration": 24,
    "start_time": "2024-07-28T02:18:59.460Z"
   },
   {
    "duration": 1143,
    "start_time": "2024-07-28T02:20:27.575Z"
   },
   {
    "duration": 8,
    "start_time": "2024-07-28T02:20:54.336Z"
   },
   {
    "duration": 22,
    "start_time": "2024-07-28T02:22:50.174Z"
   },
   {
    "duration": 95,
    "start_time": "2024-07-28T02:23:15.350Z"
   },
   {
    "duration": 6,
    "start_time": "2024-07-28T02:24:14.488Z"
   },
   {
    "duration": 22,
    "start_time": "2024-07-28T02:25:00.557Z"
   },
   {
    "duration": 24,
    "start_time": "2024-07-28T02:25:05.303Z"
   },
   {
    "duration": 23,
    "start_time": "2024-07-28T02:25:45.094Z"
   },
   {
    "duration": 8,
    "start_time": "2024-07-28T02:26:04.824Z"
   },
   {
    "duration": 7,
    "start_time": "2024-07-28T02:26:32.511Z"
   },
   {
    "duration": 8,
    "start_time": "2024-07-28T02:26:53.713Z"
   },
   {
    "duration": 20,
    "start_time": "2024-07-28T02:27:30.834Z"
   },
   {
    "duration": 6,
    "start_time": "2024-07-28T02:28:06.867Z"
   },
   {
    "duration": 21,
    "start_time": "2024-07-28T02:28:26.064Z"
   },
   {
    "duration": 7,
    "start_time": "2024-07-28T02:29:06.992Z"
   },
   {
    "duration": 7,
    "start_time": "2024-07-28T02:29:14.340Z"
   },
   {
    "duration": 22,
    "start_time": "2024-07-28T02:29:18.293Z"
   },
   {
    "duration": 5,
    "start_time": "2024-07-28T02:32:47.911Z"
   },
   {
    "duration": 23,
    "start_time": "2024-07-28T02:33:15.154Z"
   },
   {
    "duration": 7,
    "start_time": "2024-07-28T02:33:24.749Z"
   },
   {
    "duration": 9,
    "start_time": "2024-07-28T02:33:34.460Z"
   },
   {
    "duration": 25,
    "start_time": "2024-07-28T02:35:37.560Z"
   },
   {
    "duration": 7,
    "start_time": "2024-07-28T02:36:34.363Z"
   },
   {
    "duration": 5,
    "start_time": "2024-07-28T02:36:54.447Z"
   },
   {
    "duration": 8,
    "start_time": "2024-07-28T02:37:32.698Z"
   },
   {
    "duration": 6,
    "start_time": "2024-07-28T02:37:42.651Z"
   },
   {
    "duration": 8,
    "start_time": "2024-07-28T02:38:05.853Z"
   },
   {
    "duration": 6,
    "start_time": "2024-07-28T02:38:13.646Z"
   },
   {
    "duration": 7,
    "start_time": "2024-07-28T02:38:38.774Z"
   },
   {
    "duration": 6,
    "start_time": "2024-07-28T02:38:47.113Z"
   },
   {
    "duration": 6,
    "start_time": "2024-07-28T02:39:38.014Z"
   },
   {
    "duration": 6,
    "start_time": "2024-07-28T02:39:49.399Z"
   },
   {
    "duration": 7,
    "start_time": "2024-07-28T02:40:03.182Z"
   },
   {
    "duration": 6,
    "start_time": "2024-07-28T02:40:17.425Z"
   },
   {
    "duration": 22,
    "start_time": "2024-07-28T02:46:16.045Z"
   },
   {
    "duration": 1636,
    "start_time": "2024-07-28T02:46:27.768Z"
   },
   {
    "duration": 537,
    "start_time": "2024-07-28T02:46:48.615Z"
   },
   {
    "duration": 23,
    "start_time": "2024-07-28T02:47:05.687Z"
   },
   {
    "duration": 150,
    "start_time": "2024-07-28T02:47:26.081Z"
   },
   {
    "duration": 252,
    "start_time": "2024-07-28T02:49:12.504Z"
   },
   {
    "duration": 227,
    "start_time": "2024-07-28T02:49:30.828Z"
   },
   {
    "duration": 29,
    "start_time": "2024-07-28T02:52:20.146Z"
   },
   {
    "duration": 226,
    "start_time": "2024-07-28T02:54:14.321Z"
   },
   {
    "duration": 219,
    "start_time": "2024-07-28T02:55:30.819Z"
   },
   {
    "duration": 198,
    "start_time": "2024-07-28T02:55:37.959Z"
   },
   {
    "duration": 4313,
    "start_time": "2024-07-30T01:08:13.119Z"
   },
   {
    "duration": 91,
    "start_time": "2024-07-30T01:08:17.436Z"
   },
   {
    "duration": 9,
    "start_time": "2024-07-30T01:08:17.530Z"
   },
   {
    "duration": 6,
    "start_time": "2024-07-30T01:08:23.571Z"
   },
   {
    "duration": 6,
    "start_time": "2024-07-30T01:08:24.437Z"
   },
   {
    "duration": 6,
    "start_time": "2024-07-30T01:08:24.989Z"
   },
   {
    "duration": 33,
    "start_time": "2024-07-30T01:08:25.510Z"
   },
   {
    "duration": 28,
    "start_time": "2024-07-30T01:08:32.632Z"
   },
   {
    "duration": 23,
    "start_time": "2024-07-30T01:08:34.103Z"
   },
   {
    "duration": 26,
    "start_time": "2024-07-30T01:08:34.715Z"
   },
   {
    "duration": 7,
    "start_time": "2024-07-30T01:08:37.217Z"
   },
   {
    "duration": 8,
    "start_time": "2024-07-30T01:08:37.379Z"
   },
   {
    "duration": 6,
    "start_time": "2024-07-30T01:08:37.953Z"
   },
   {
    "duration": 412,
    "start_time": "2024-07-30T01:08:38.114Z"
   },
   {
    "duration": 0,
    "start_time": "2024-07-30T01:08:38.529Z"
   },
   {
    "duration": 23,
    "start_time": "2024-07-30T01:08:38.603Z"
   },
   {
    "duration": 9,
    "start_time": "2024-07-30T01:08:38.770Z"
   },
   {
    "duration": 6,
    "start_time": "2024-07-30T01:08:38.935Z"
   },
   {
    "duration": 24,
    "start_time": "2024-07-30T01:08:39.096Z"
   },
   {
    "duration": 22,
    "start_time": "2024-07-30T01:08:39.273Z"
   },
   {
    "duration": 6,
    "start_time": "2024-07-30T01:08:39.676Z"
   },
   {
    "duration": 6,
    "start_time": "2024-07-30T01:08:39.864Z"
   },
   {
    "duration": 7,
    "start_time": "2024-07-30T01:08:40.026Z"
   },
   {
    "duration": 7,
    "start_time": "2024-07-30T01:08:40.170Z"
   },
   {
    "duration": 6,
    "start_time": "2024-07-30T01:08:40.321Z"
   },
   {
    "duration": 5,
    "start_time": "2024-07-30T01:08:40.483Z"
   },
   {
    "duration": 7,
    "start_time": "2024-07-30T01:08:40.829Z"
   },
   {
    "duration": 6,
    "start_time": "2024-07-30T01:08:41.213Z"
   },
   {
    "duration": 9,
    "start_time": "2024-07-30T01:11:08.590Z"
   },
   {
    "duration": 8,
    "start_time": "2024-07-30T01:13:35.722Z"
   },
   {
    "duration": 10,
    "start_time": "2024-07-30T01:14:20.168Z"
   },
   {
    "duration": 26,
    "start_time": "2024-07-30T01:16:25.923Z"
   },
   {
    "duration": 8,
    "start_time": "2024-07-30T01:16:30.857Z"
   },
   {
    "duration": 8,
    "start_time": "2024-07-30T01:19:14.075Z"
   },
   {
    "duration": 10,
    "start_time": "2024-07-30T01:19:51.232Z"
   },
   {
    "duration": 8,
    "start_time": "2024-07-30T01:20:17.117Z"
   },
   {
    "duration": 9,
    "start_time": "2024-07-30T01:20:42.984Z"
   },
   {
    "duration": 207,
    "start_time": "2024-07-30T01:32:11.412Z"
   },
   {
    "duration": 5,
    "start_time": "2024-07-30T01:32:28.448Z"
   },
   {
    "duration": 212,
    "start_time": "2024-07-30T01:32:28.754Z"
   },
   {
    "duration": 4,
    "start_time": "2024-07-30T01:32:33.667Z"
   },
   {
    "duration": 6,
    "start_time": "2024-07-30T01:32:34.279Z"
   },
   {
    "duration": 27,
    "start_time": "2024-07-30T01:32:35.781Z"
   },
   {
    "duration": 23,
    "start_time": "2024-07-30T01:32:36.749Z"
   },
   {
    "duration": 6,
    "start_time": "2024-07-30T01:32:37.041Z"
   },
   {
    "duration": 9,
    "start_time": "2024-07-30T01:32:37.820Z"
   },
   {
    "duration": 6,
    "start_time": "2024-07-30T01:32:38.027Z"
   },
   {
    "duration": 8,
    "start_time": "2024-07-30T01:32:38.191Z"
   },
   {
    "duration": 7,
    "start_time": "2024-07-30T01:32:38.340Z"
   },
   {
    "duration": 7,
    "start_time": "2024-07-30T01:32:38.492Z"
   },
   {
    "duration": 6,
    "start_time": "2024-07-30T01:32:38.647Z"
   },
   {
    "duration": 11,
    "start_time": "2024-07-30T01:32:38.813Z"
   },
   {
    "duration": 6,
    "start_time": "2024-07-30T01:32:38.979Z"
   },
   {
    "duration": 9,
    "start_time": "2024-07-30T01:32:39.135Z"
   },
   {
    "duration": 7,
    "start_time": "2024-07-30T01:32:39.306Z"
   },
   {
    "duration": 7,
    "start_time": "2024-07-30T01:32:39.461Z"
   },
   {
    "duration": 6,
    "start_time": "2024-07-30T01:32:39.627Z"
   },
   {
    "duration": 7,
    "start_time": "2024-07-30T01:32:39.814Z"
   },
   {
    "duration": 6,
    "start_time": "2024-07-30T01:32:40.187Z"
   },
   {
    "duration": 8,
    "start_time": "2024-07-30T01:32:40.553Z"
   },
   {
    "duration": 8,
    "start_time": "2024-07-30T01:34:54.334Z"
   },
   {
    "duration": 8,
    "start_time": "2024-07-30T01:35:20.422Z"
   },
   {
    "duration": 6,
    "start_time": "2024-07-30T01:35:35.070Z"
   },
   {
    "duration": 6,
    "start_time": "2024-07-30T01:35:47.168Z"
   },
   {
    "duration": 7,
    "start_time": "2024-07-30T01:35:58.887Z"
   },
   {
    "duration": 23,
    "start_time": "2024-07-30T01:36:06.143Z"
   },
   {
    "duration": 23,
    "start_time": "2024-07-30T01:36:45.019Z"
   },
   {
    "duration": 6,
    "start_time": "2024-07-30T01:36:55.983Z"
   },
   {
    "duration": 7,
    "start_time": "2024-07-30T01:38:04.027Z"
   },
   {
    "duration": 6,
    "start_time": "2024-07-30T01:38:10.208Z"
   },
   {
    "duration": 6,
    "start_time": "2024-07-30T01:38:37.983Z"
   },
   {
    "duration": 7,
    "start_time": "2024-07-30T01:38:46.507Z"
   },
   {
    "duration": 9,
    "start_time": "2024-07-30T01:38:53.805Z"
   },
   {
    "duration": 6,
    "start_time": "2024-07-30T01:39:16.314Z"
   },
   {
    "duration": 8,
    "start_time": "2024-07-30T01:40:04.251Z"
   },
   {
    "duration": 7,
    "start_time": "2024-07-30T01:40:56.530Z"
   },
   {
    "duration": 8,
    "start_time": "2024-07-30T01:41:03.113Z"
   },
   {
    "duration": 7,
    "start_time": "2024-07-30T01:41:51.949Z"
   },
   {
    "duration": 8,
    "start_time": "2024-07-30T01:41:56.979Z"
   },
   {
    "duration": 9,
    "start_time": "2024-07-30T01:42:15.980Z"
   },
   {
    "duration": 333,
    "start_time": "2024-07-31T01:10:47.936Z"
   },
   {
    "duration": 4285,
    "start_time": "2024-07-31T01:11:01.449Z"
   },
   {
    "duration": 91,
    "start_time": "2024-07-31T01:11:05.738Z"
   },
   {
    "duration": 7,
    "start_time": "2024-07-31T01:11:05.832Z"
   },
   {
    "duration": 6,
    "start_time": "2024-07-31T01:11:05.844Z"
   },
   {
    "duration": 7,
    "start_time": "2024-07-31T01:11:05.853Z"
   },
   {
    "duration": 11,
    "start_time": "2024-07-31T01:11:05.869Z"
   },
   {
    "duration": 36,
    "start_time": "2024-07-31T01:11:07.453Z"
   },
   {
    "duration": 28,
    "start_time": "2024-07-31T01:11:07.953Z"
   },
   {
    "duration": 22,
    "start_time": "2024-07-31T01:11:08.620Z"
   },
   {
    "duration": 20,
    "start_time": "2024-07-31T01:11:08.993Z"
   },
   {
    "duration": 8,
    "start_time": "2024-07-31T01:11:10.611Z"
   },
   {
    "duration": 5,
    "start_time": "2024-07-31T01:11:11.624Z"
   },
   {
    "duration": 9,
    "start_time": "2024-07-31T01:11:23.645Z"
   },
   {
    "duration": 69,
    "start_time": "2024-07-31T01:13:09.430Z"
   },
   {
    "duration": 14,
    "start_time": "2024-07-31T01:13:23.406Z"
   },
   {
    "duration": 5,
    "start_time": "2024-07-31T01:13:23.820Z"
   },
   {
    "duration": 13,
    "start_time": "2024-07-31T01:13:24.641Z"
   },
   {
    "duration": 6,
    "start_time": "2024-07-31T01:13:25.324Z"
   },
   {
    "duration": 218,
    "start_time": "2024-07-31T01:13:26.207Z"
   },
   {
    "duration": 6,
    "start_time": "2024-07-31T01:13:26.736Z"
   },
   {
    "duration": 6,
    "start_time": "2024-07-31T01:27:29.110Z"
   },
   {
    "duration": 7,
    "start_time": "2024-07-31T01:28:50.257Z"
   },
   {
    "duration": 8,
    "start_time": "2024-07-31T01:30:22.184Z"
   },
   {
    "duration": 77,
    "start_time": "2024-07-31T01:30:28.817Z"
   },
   {
    "duration": 8,
    "start_time": "2024-07-31T01:30:58.919Z"
   },
   {
    "duration": 7,
    "start_time": "2024-07-31T01:31:15.703Z"
   },
   {
    "duration": 9,
    "start_time": "2024-07-31T01:32:57.295Z"
   },
   {
    "duration": 8,
    "start_time": "2024-07-31T01:41:45.343Z"
   },
   {
    "duration": 9,
    "start_time": "2024-07-31T01:43:05.890Z"
   },
   {
    "duration": 7,
    "start_time": "2024-07-31T01:43:11.762Z"
   },
   {
    "duration": 9,
    "start_time": "2024-07-31T01:43:33.908Z"
   },
   {
    "duration": 7,
    "start_time": "2024-07-31T01:43:35.809Z"
   },
   {
    "duration": 7,
    "start_time": "2024-07-31T01:44:29.501Z"
   },
   {
    "duration": 5,
    "start_time": "2024-07-31T01:46:26.740Z"
   },
   {
    "duration": 7,
    "start_time": "2024-07-31T01:46:28.290Z"
   },
   {
    "duration": 6,
    "start_time": "2024-07-31T01:46:39.706Z"
   },
   {
    "duration": 9,
    "start_time": "2024-07-31T01:50:30.751Z"
   },
   {
    "duration": 5,
    "start_time": "2024-07-31T01:51:42.653Z"
   },
   {
    "duration": 14,
    "start_time": "2024-07-31T01:55:47.871Z"
   },
   {
    "duration": 9,
    "start_time": "2024-07-31T01:56:04.982Z"
   },
   {
    "duration": 4,
    "start_time": "2024-07-31T01:57:33.011Z"
   },
   {
    "duration": 25,
    "start_time": "2024-07-31T01:59:06.282Z"
   },
   {
    "duration": 777,
    "start_time": "2024-07-31T02:01:43.618Z"
   },
   {
    "duration": 5,
    "start_time": "2024-07-31T02:02:56.269Z"
   },
   {
    "duration": 159,
    "start_time": "2024-07-31T02:03:05.389Z"
   },
   {
    "duration": 84,
    "start_time": "2024-07-31T02:04:55.081Z"
   },
   {
    "duration": 5,
    "start_time": "2024-07-31T02:05:50.769Z"
   },
   {
    "duration": 7,
    "start_time": "2024-07-31T02:06:31.226Z"
   },
   {
    "duration": 5,
    "start_time": "2024-07-31T02:07:27.312Z"
   },
   {
    "duration": 7,
    "start_time": "2024-07-31T02:07:54.369Z"
   },
   {
    "duration": 10,
    "start_time": "2024-07-31T02:08:55.304Z"
   },
   {
    "duration": 6,
    "start_time": "2024-07-31T02:09:08.788Z"
   },
   {
    "duration": 5,
    "start_time": "2024-07-31T02:10:55.172Z"
   },
   {
    "duration": 7,
    "start_time": "2024-07-31T02:11:11.376Z"
   },
   {
    "duration": 5,
    "start_time": "2024-07-31T02:19:09.450Z"
   },
   {
    "duration": 6,
    "start_time": "2024-07-31T02:19:25.211Z"
   },
   {
    "duration": 5,
    "start_time": "2024-07-31T02:21:42.405Z"
   },
   {
    "duration": 5,
    "start_time": "2024-07-31T02:21:53.577Z"
   },
   {
    "duration": 7,
    "start_time": "2024-07-31T02:22:11.947Z"
   },
   {
    "duration": 5,
    "start_time": "2024-07-31T02:23:36.473Z"
   },
   {
    "duration": 6,
    "start_time": "2024-07-31T02:23:49.646Z"
   },
   {
    "duration": 24,
    "start_time": "2024-07-31T02:30:46.058Z"
   },
   {
    "duration": 4412,
    "start_time": "2024-08-01T01:37:13.260Z"
   },
   {
    "duration": 90,
    "start_time": "2024-08-01T01:37:17.675Z"
   },
   {
    "duration": 7,
    "start_time": "2024-08-01T01:37:17.768Z"
   },
   {
    "duration": 6,
    "start_time": "2024-08-01T01:37:17.779Z"
   },
   {
    "duration": 14,
    "start_time": "2024-08-01T01:37:17.788Z"
   },
   {
    "duration": 6,
    "start_time": "2024-08-01T01:37:17.805Z"
   },
   {
    "duration": 34,
    "start_time": "2024-08-01T01:37:17.814Z"
   },
   {
    "duration": 55,
    "start_time": "2024-08-01T01:37:17.850Z"
   },
   {
    "duration": 23,
    "start_time": "2024-08-01T01:37:17.909Z"
   },
   {
    "duration": 20,
    "start_time": "2024-08-01T01:37:17.938Z"
   },
   {
    "duration": 45,
    "start_time": "2024-08-01T01:37:17.961Z"
   },
   {
    "duration": 7,
    "start_time": "2024-08-01T01:37:18.009Z"
   },
   {
    "duration": 8,
    "start_time": "2024-08-01T01:37:18.118Z"
   },
   {
    "duration": 7,
    "start_time": "2024-08-01T01:37:18.298Z"
   },
   {
    "duration": 214,
    "start_time": "2024-08-01T01:37:18.459Z"
   },
   {
    "duration": 7,
    "start_time": "2024-08-01T01:37:18.677Z"
   },
   {
    "duration": 4,
    "start_time": "2024-08-01T01:37:18.993Z"
   },
   {
    "duration": 229,
    "start_time": "2024-08-01T01:37:19.167Z"
   },
   {
    "duration": 8,
    "start_time": "2024-08-01T01:37:19.403Z"
   },
   {
    "duration": 5,
    "start_time": "2024-08-01T01:37:20.233Z"
   },
   {
    "duration": 26,
    "start_time": "2024-08-01T01:37:20.390Z"
   },
   {
    "duration": 23,
    "start_time": "2024-08-01T01:37:20.548Z"
   },
   {
    "duration": 5,
    "start_time": "2024-08-01T01:37:20.866Z"
   },
   {
    "duration": 8,
    "start_time": "2024-08-01T01:37:21.031Z"
   },
   {
    "duration": 7,
    "start_time": "2024-08-01T01:37:21.200Z"
   },
   {
    "duration": 5,
    "start_time": "2024-08-01T01:37:21.600Z"
   },
   {
    "duration": 7,
    "start_time": "2024-08-01T01:37:21.763Z"
   },
   {
    "duration": 7,
    "start_time": "2024-08-01T01:37:21.915Z"
   },
   {
    "duration": 10,
    "start_time": "2024-08-01T01:37:22.119Z"
   },
   {
    "duration": 4,
    "start_time": "2024-08-01T01:37:22.343Z"
   },
   {
    "duration": 7,
    "start_time": "2024-08-01T01:37:22.506Z"
   },
   {
    "duration": 7,
    "start_time": "2024-08-01T01:37:22.880Z"
   },
   {
    "duration": 8,
    "start_time": "2024-08-01T01:37:24.316Z"
   },
   {
    "duration": 5,
    "start_time": "2024-08-01T01:37:24.535Z"
   },
   {
    "duration": 8,
    "start_time": "2024-08-01T01:37:24.685Z"
   },
   {
    "duration": 6,
    "start_time": "2024-08-01T01:37:24.877Z"
   },
   {
    "duration": 8,
    "start_time": "2024-08-01T01:37:25.091Z"
   },
   {
    "duration": 5,
    "start_time": "2024-08-01T01:37:25.287Z"
   },
   {
    "duration": 7,
    "start_time": "2024-08-01T01:37:25.451Z"
   },
   {
    "duration": 8,
    "start_time": "2024-08-01T01:37:25.611Z"
   },
   {
    "duration": 9,
    "start_time": "2024-08-01T01:37:25.754Z"
   },
   {
    "duration": 5,
    "start_time": "2024-08-01T01:37:25.910Z"
   },
   {
    "duration": 7,
    "start_time": "2024-08-01T01:37:26.057Z"
   },
   {
    "duration": 7,
    "start_time": "2024-08-01T01:37:26.191Z"
   },
   {
    "duration": 9,
    "start_time": "2024-08-01T01:37:26.345Z"
   },
   {
    "duration": 5,
    "start_time": "2024-08-01T01:37:26.490Z"
   },
   {
    "duration": 9,
    "start_time": "2024-08-01T01:37:26.655Z"
   },
   {
    "duration": 6,
    "start_time": "2024-08-01T01:37:26.825Z"
   },
   {
    "duration": 8,
    "start_time": "2024-08-01T01:37:26.984Z"
   },
   {
    "duration": 4,
    "start_time": "2024-08-01T01:37:27.131Z"
   },
   {
    "duration": 7,
    "start_time": "2024-08-01T01:37:27.274Z"
   },
   {
    "duration": 7,
    "start_time": "2024-08-01T01:37:27.431Z"
   },
   {
    "duration": 7,
    "start_time": "2024-08-01T01:37:27.600Z"
   },
   {
    "duration": 9,
    "start_time": "2024-08-01T01:37:27.734Z"
   },
   {
    "duration": 5,
    "start_time": "2024-08-01T01:37:27.895Z"
   },
   {
    "duration": 7,
    "start_time": "2024-08-01T01:37:28.054Z"
   },
   {
    "duration": 24,
    "start_time": "2024-08-01T01:37:28.229Z"
   },
   {
    "duration": 409,
    "start_time": "2024-08-01T01:37:29.250Z"
   },
   {
    "duration": 29,
    "start_time": "2024-08-01T01:37:44.062Z"
   },
   {
    "duration": 9,
    "start_time": "2024-08-01T01:37:49.956Z"
   },
   {
    "duration": 854,
    "start_time": "2024-08-01T01:38:03.360Z"
   },
   {
    "duration": 8,
    "start_time": "2024-08-01T01:38:11.916Z"
   },
   {
    "duration": 279,
    "start_time": "2024-08-01T01:38:43.686Z"
   },
   {
    "duration": 26,
    "start_time": "2024-08-01T01:39:52.194Z"
   },
   {
    "duration": 25,
    "start_time": "2024-08-01T01:40:10.447Z"
   },
   {
    "duration": 4303,
    "start_time": "2024-08-01T18:23:58.113Z"
   },
   {
    "duration": 87,
    "start_time": "2024-08-01T18:24:02.424Z"
   },
   {
    "duration": 7,
    "start_time": "2024-08-01T18:24:02.513Z"
   },
   {
    "duration": 5,
    "start_time": "2024-08-01T18:24:02.525Z"
   },
   {
    "duration": 6,
    "start_time": "2024-08-01T18:24:02.533Z"
   },
   {
    "duration": 5,
    "start_time": "2024-08-01T18:24:02.542Z"
   },
   {
    "duration": 71,
    "start_time": "2024-08-01T18:24:02.551Z"
   },
   {
    "duration": 27,
    "start_time": "2024-08-01T18:24:02.625Z"
   },
   {
    "duration": 32,
    "start_time": "2024-08-01T18:24:02.655Z"
   },
   {
    "duration": 45,
    "start_time": "2024-08-01T18:24:02.694Z"
   },
   {
    "duration": 8,
    "start_time": "2024-08-01T18:24:02.742Z"
   },
   {
    "duration": 7,
    "start_time": "2024-08-01T18:24:02.753Z"
   },
   {
    "duration": 8,
    "start_time": "2024-08-01T18:24:02.763Z"
   },
   {
    "duration": 51,
    "start_time": "2024-08-01T18:24:02.774Z"
   },
   {
    "duration": 221,
    "start_time": "2024-08-01T18:24:02.829Z"
   },
   {
    "duration": 7,
    "start_time": "2024-08-01T18:24:03.052Z"
   },
   {
    "duration": 4,
    "start_time": "2024-08-01T18:24:03.062Z"
   },
   {
    "duration": 236,
    "start_time": "2024-08-01T18:24:03.070Z"
   },
   {
    "duration": 17,
    "start_time": "2024-08-01T18:24:03.309Z"
   },
   {
    "duration": 6,
    "start_time": "2024-08-01T18:24:03.329Z"
   },
   {
    "duration": 25,
    "start_time": "2024-08-01T18:24:03.338Z"
   },
   {
    "duration": 59,
    "start_time": "2024-08-01T18:24:03.366Z"
   },
   {
    "duration": 7,
    "start_time": "2024-08-01T18:24:03.428Z"
   },
   {
    "duration": 8,
    "start_time": "2024-08-01T18:24:03.438Z"
   },
   {
    "duration": 7,
    "start_time": "2024-08-01T18:24:03.450Z"
   },
   {
    "duration": 5,
    "start_time": "2024-08-01T18:24:03.460Z"
   },
   {
    "duration": 56,
    "start_time": "2024-08-01T18:24:03.468Z"
   },
   {
    "duration": 6,
    "start_time": "2024-08-01T18:24:03.533Z"
   },
   {
    "duration": 9,
    "start_time": "2024-08-01T18:24:03.542Z"
   },
   {
    "duration": 5,
    "start_time": "2024-08-01T18:24:03.554Z"
   },
   {
    "duration": 9,
    "start_time": "2024-08-01T18:24:03.563Z"
   },
   {
    "duration": 51,
    "start_time": "2024-08-01T18:24:03.574Z"
   },
   {
    "duration": 9,
    "start_time": "2024-08-01T18:24:03.628Z"
   },
   {
    "duration": 4,
    "start_time": "2024-08-01T18:24:03.640Z"
   },
   {
    "duration": 7,
    "start_time": "2024-08-01T18:24:03.648Z"
   },
   {
    "duration": 7,
    "start_time": "2024-08-01T18:24:03.658Z"
   },
   {
    "duration": 56,
    "start_time": "2024-08-01T18:24:03.668Z"
   },
   {
    "duration": 5,
    "start_time": "2024-08-01T18:24:03.727Z"
   },
   {
    "duration": 11,
    "start_time": "2024-08-01T18:24:03.735Z"
   },
   {
    "duration": 9,
    "start_time": "2024-08-01T18:24:03.748Z"
   },
   {
    "duration": 9,
    "start_time": "2024-08-01T18:24:03.761Z"
   },
   {
    "duration": 10,
    "start_time": "2024-08-01T18:24:03.773Z"
   },
   {
    "duration": 7,
    "start_time": "2024-08-01T18:24:03.825Z"
   },
   {
    "duration": 7,
    "start_time": "2024-08-01T18:24:03.835Z"
   },
   {
    "duration": 7,
    "start_time": "2024-08-01T18:24:03.846Z"
   },
   {
    "duration": 5,
    "start_time": "2024-08-01T18:24:03.857Z"
   },
   {
    "duration": 8,
    "start_time": "2024-08-01T18:24:03.865Z"
   },
   {
    "duration": 50,
    "start_time": "2024-08-01T18:24:03.876Z"
   },
   {
    "duration": 9,
    "start_time": "2024-08-01T18:24:03.929Z"
   },
   {
    "duration": 5,
    "start_time": "2024-08-01T18:24:03.941Z"
   },
   {
    "duration": 8,
    "start_time": "2024-08-01T18:24:03.949Z"
   },
   {
    "duration": 63,
    "start_time": "2024-08-01T18:24:03.960Z"
   },
   {
    "duration": 7,
    "start_time": "2024-08-01T18:24:04.025Z"
   },
   {
    "duration": 9,
    "start_time": "2024-08-01T18:24:04.035Z"
   },
   {
    "duration": 5,
    "start_time": "2024-08-01T18:24:04.047Z"
   },
   {
    "duration": 7,
    "start_time": "2024-08-01T18:24:04.055Z"
   },
   {
    "duration": 68,
    "start_time": "2024-08-01T18:24:04.065Z"
   },
   {
    "duration": 34,
    "start_time": "2024-08-01T18:24:04.135Z"
   },
   {
    "duration": 158,
    "start_time": "2024-08-01T18:24:04.172Z"
   },
   {
    "duration": 31,
    "start_time": "2024-08-01T18:53:31.761Z"
   },
   {
    "duration": 19,
    "start_time": "2024-08-01T18:54:20.764Z"
   },
   {
    "duration": 355,
    "start_time": "2024-08-01T18:54:30.926Z"
   },
   {
    "duration": 571,
    "start_time": "2024-08-01T18:55:44.742Z"
   },
   {
    "duration": 9,
    "start_time": "2024-08-01T18:56:41.935Z"
   },
   {
    "duration": 24,
    "start_time": "2024-08-01T19:06:26.712Z"
   },
   {
    "duration": 10,
    "start_time": "2024-08-01T19:06:42.710Z"
   },
   {
    "duration": 13,
    "start_time": "2024-08-01T19:06:46.651Z"
   },
   {
    "duration": 4317,
    "start_time": "2024-08-02T01:41:50.440Z"
   },
   {
    "duration": 93,
    "start_time": "2024-08-02T01:41:54.761Z"
   },
   {
    "duration": 8,
    "start_time": "2024-08-02T01:41:54.860Z"
   },
   {
    "duration": 7,
    "start_time": "2024-08-02T01:41:54.873Z"
   },
   {
    "duration": 7,
    "start_time": "2024-08-02T01:41:54.884Z"
   },
   {
    "duration": 8,
    "start_time": "2024-08-02T01:41:54.908Z"
   },
   {
    "duration": 38,
    "start_time": "2024-08-02T01:41:54.920Z"
   },
   {
    "duration": 60,
    "start_time": "2024-08-02T01:41:54.960Z"
   },
   {
    "duration": 23,
    "start_time": "2024-08-02T01:41:55.024Z"
   },
   {
    "duration": 20,
    "start_time": "2024-08-02T01:41:55.053Z"
   },
   {
    "duration": 33,
    "start_time": "2024-08-02T01:41:55.076Z"
   },
   {
    "duration": 8,
    "start_time": "2024-08-02T01:41:55.112Z"
   },
   {
    "duration": 10,
    "start_time": "2024-08-02T01:41:55.123Z"
   },
   {
    "duration": 7,
    "start_time": "2024-08-02T01:41:55.136Z"
   },
   {
    "duration": 265,
    "start_time": "2024-08-02T01:41:55.146Z"
   },
   {
    "duration": 7,
    "start_time": "2024-08-02T01:41:55.416Z"
   },
   {
    "duration": 5,
    "start_time": "2024-08-02T01:41:55.426Z"
   },
   {
    "duration": 243,
    "start_time": "2024-08-02T01:41:55.434Z"
   },
   {
    "duration": 8,
    "start_time": "2024-08-02T01:41:55.679Z"
   },
   {
    "duration": 23,
    "start_time": "2024-08-02T01:41:55.690Z"
   },
   {
    "duration": 8,
    "start_time": "2024-08-02T01:41:55.717Z"
   },
   {
    "duration": 8,
    "start_time": "2024-08-02T01:41:55.729Z"
   },
   {
    "duration": 9,
    "start_time": "2024-08-02T01:41:55.740Z"
   },
   {
    "duration": 6,
    "start_time": "2024-08-02T01:41:55.752Z"
   },
   {
    "duration": 52,
    "start_time": "2024-08-02T01:41:55.760Z"
   },
   {
    "duration": 6,
    "start_time": "2024-08-02T01:41:55.816Z"
   },
   {
    "duration": 9,
    "start_time": "2024-08-02T01:41:55.825Z"
   },
   {
    "duration": 5,
    "start_time": "2024-08-02T01:41:55.843Z"
   },
   {
    "duration": 8,
    "start_time": "2024-08-02T01:41:55.850Z"
   },
   {
    "duration": 6,
    "start_time": "2024-08-02T01:41:55.910Z"
   },
   {
    "duration": 10,
    "start_time": "2024-08-02T01:41:55.919Z"
   },
   {
    "duration": 6,
    "start_time": "2024-08-02T01:41:55.932Z"
   },
   {
    "duration": 9,
    "start_time": "2024-08-02T01:41:55.941Z"
   },
   {
    "duration": 54,
    "start_time": "2024-08-02T01:41:55.954Z"
   },
   {
    "duration": 10,
    "start_time": "2024-08-02T01:41:56.011Z"
   },
   {
    "duration": 5,
    "start_time": "2024-08-02T01:41:56.024Z"
   },
   {
    "duration": 7,
    "start_time": "2024-08-02T01:41:56.031Z"
   },
   {
    "duration": 7,
    "start_time": "2024-08-02T01:41:56.041Z"
   },
   {
    "duration": 57,
    "start_time": "2024-08-02T01:41:56.052Z"
   },
   {
    "duration": 6,
    "start_time": "2024-08-02T01:41:56.112Z"
   },
   {
    "duration": 8,
    "start_time": "2024-08-02T01:41:56.121Z"
   },
   {
    "duration": 6,
    "start_time": "2024-08-02T01:41:56.132Z"
   },
   {
    "duration": 8,
    "start_time": "2024-08-02T01:41:56.142Z"
   },
   {
    "duration": 5,
    "start_time": "2024-08-02T01:41:56.153Z"
   },
   {
    "duration": 7,
    "start_time": "2024-08-02T01:41:56.210Z"
   },
   {
    "duration": 7,
    "start_time": "2024-08-02T01:41:56.220Z"
   },
   {
    "duration": 10,
    "start_time": "2024-08-02T01:41:56.230Z"
   },
   {
    "duration": 7,
    "start_time": "2024-08-02T01:41:56.242Z"
   },
   {
    "duration": 58,
    "start_time": "2024-08-02T01:41:56.251Z"
   },
   {
    "duration": 6,
    "start_time": "2024-08-02T01:41:56.312Z"
   },
   {
    "duration": 8,
    "start_time": "2024-08-02T01:41:56.321Z"
   },
   {
    "duration": 9,
    "start_time": "2024-08-02T01:41:56.332Z"
   },
   {
    "duration": 6,
    "start_time": "2024-08-02T01:41:56.343Z"
   },
   {
    "duration": 58,
    "start_time": "2024-08-02T01:41:56.352Z"
   },
   {
    "duration": 26,
    "start_time": "2024-08-02T01:41:56.413Z"
   },
   {
    "duration": 22,
    "start_time": "2024-08-02T01:41:56.442Z"
   },
   {
    "duration": 40,
    "start_time": "2024-08-02T01:41:56.467Z"
   },
   {
    "duration": 9,
    "start_time": "2024-08-02T01:41:56.511Z"
   },
   {
    "duration": 10,
    "start_time": "2024-08-02T01:41:56.523Z"
   },
   {
    "duration": 37,
    "start_time": "2024-08-02T02:02:49.835Z"
   },
   {
    "duration": 27,
    "start_time": "2024-08-02T02:03:15.627Z"
   },
   {
    "duration": 8,
    "start_time": "2024-08-02T02:03:51.960Z"
   },
   {
    "duration": 8,
    "start_time": "2024-08-02T02:04:00.405Z"
   },
   {
    "duration": 11,
    "start_time": "2024-08-02T02:04:36.863Z"
   },
   {
    "duration": 8,
    "start_time": "2024-08-02T02:04:40.970Z"
   },
   {
    "duration": 9,
    "start_time": "2024-08-02T02:04:48.862Z"
   },
   {
    "duration": 407,
    "start_time": "2024-08-02T02:37:37.675Z"
   },
   {
    "duration": 418,
    "start_time": "2024-08-02T02:43:52.386Z"
   },
   {
    "duration": 80,
    "start_time": "2024-08-02T02:54:06.495Z"
   },
   {
    "duration": 14,
    "start_time": "2024-08-02T03:11:21.593Z"
   },
   {
    "duration": 8,
    "start_time": "2024-08-02T03:13:59.203Z"
   },
   {
    "duration": 4,
    "start_time": "2024-08-02T03:14:23.668Z"
   },
   {
    "duration": 174,
    "start_time": "2024-08-02T03:14:30.103Z"
   },
   {
    "duration": 51,
    "start_time": "2024-08-02T03:14:40.321Z"
   },
   {
    "duration": 52,
    "start_time": "2024-08-02T03:14:57.625Z"
   },
   {
    "duration": 24,
    "start_time": "2024-08-02T03:17:53.456Z"
   },
   {
    "duration": 4,
    "start_time": "2024-08-02T03:18:14.960Z"
   },
   {
    "duration": 55,
    "start_time": "2024-08-02T03:18:15.326Z"
   },
   {
    "duration": 6,
    "start_time": "2024-08-02T03:18:17.693Z"
   },
   {
    "duration": 15,
    "start_time": "2024-08-02T03:18:19.033Z"
   },
   {
    "duration": 23,
    "start_time": "2024-08-02T03:18:20.955Z"
   },
   {
    "duration": 5,
    "start_time": "2024-08-02T03:18:51.176Z"
   },
   {
    "duration": 18,
    "start_time": "2024-08-02T03:18:55.244Z"
   },
   {
    "duration": 7,
    "start_time": "2024-08-02T03:19:59.441Z"
   },
   {
    "duration": 6,
    "start_time": "2024-08-02T03:20:43.411Z"
   },
   {
    "duration": 15,
    "start_time": "2024-08-02T03:21:22.395Z"
   },
   {
    "duration": 4376,
    "start_time": "2024-08-02T23:08:18.509Z"
   },
   {
    "duration": 91,
    "start_time": "2024-08-02T23:08:22.896Z"
   },
   {
    "duration": 8,
    "start_time": "2024-08-02T23:08:22.989Z"
   },
   {
    "duration": 18,
    "start_time": "2024-08-02T23:08:23.002Z"
   },
   {
    "duration": 20,
    "start_time": "2024-08-02T23:08:23.023Z"
   },
   {
    "duration": 6,
    "start_time": "2024-08-02T23:08:23.047Z"
   },
   {
    "duration": 16,
    "start_time": "2024-08-02T23:08:23.056Z"
   },
   {
    "duration": 5,
    "start_time": "2024-08-02T23:08:23.076Z"
   },
   {
    "duration": 50,
    "start_time": "2024-08-02T23:08:23.084Z"
   },
   {
    "duration": 5,
    "start_time": "2024-08-02T23:08:23.141Z"
   },
   {
    "duration": 25,
    "start_time": "2024-08-02T23:08:23.148Z"
   },
   {
    "duration": 60,
    "start_time": "2024-08-02T23:08:23.175Z"
   },
   {
    "duration": 17,
    "start_time": "2024-08-02T23:08:23.241Z"
   },
   {
    "duration": 9,
    "start_time": "2024-08-02T23:08:23.264Z"
   },
   {
    "duration": 6,
    "start_time": "2024-08-02T23:08:23.276Z"
   },
   {
    "duration": 6,
    "start_time": "2024-08-02T23:08:23.285Z"
   },
   {
    "duration": 43,
    "start_time": "2024-08-02T23:08:23.294Z"
   },
   {
    "duration": 7,
    "start_time": "2024-08-02T23:08:23.340Z"
   },
   {
    "duration": 201,
    "start_time": "2024-08-02T23:08:23.350Z"
   },
   {
    "duration": 7,
    "start_time": "2024-08-02T23:08:23.555Z"
   },
   {
    "duration": 5,
    "start_time": "2024-08-02T23:08:23.564Z"
   },
   {
    "duration": 5,
    "start_time": "2024-08-02T23:08:23.572Z"
   },
   {
    "duration": 5,
    "start_time": "2024-08-02T23:08:23.580Z"
   },
   {
    "duration": 5,
    "start_time": "2024-08-02T23:08:23.632Z"
   },
   {
    "duration": 6,
    "start_time": "2024-08-02T23:08:23.641Z"
   },
   {
    "duration": 7,
    "start_time": "2024-08-02T23:08:23.651Z"
   },
   {
    "duration": 6,
    "start_time": "2024-08-02T23:08:23.661Z"
   },
   {
    "duration": 4,
    "start_time": "2024-08-02T23:08:23.676Z"
   },
   {
    "duration": 6,
    "start_time": "2024-08-02T23:08:23.732Z"
   },
   {
    "duration": 5,
    "start_time": "2024-08-02T23:08:23.742Z"
   },
   {
    "duration": 8,
    "start_time": "2024-08-02T23:08:23.750Z"
   },
   {
    "duration": 4,
    "start_time": "2024-08-02T23:08:23.762Z"
   },
   {
    "duration": 8,
    "start_time": "2024-08-02T23:08:23.769Z"
   },
   {
    "duration": 56,
    "start_time": "2024-08-02T23:08:23.779Z"
   },
   {
    "duration": 7,
    "start_time": "2024-08-02T23:08:23.839Z"
   },
   {
    "duration": 4,
    "start_time": "2024-08-02T23:08:23.850Z"
   },
   {
    "duration": 7,
    "start_time": "2024-08-02T23:08:23.857Z"
   },
   {
    "duration": 10,
    "start_time": "2024-08-02T23:08:23.868Z"
   },
   {
    "duration": 55,
    "start_time": "2024-08-02T23:08:23.881Z"
   },
   {
    "duration": 4,
    "start_time": "2024-08-02T23:08:23.939Z"
   },
   {
    "duration": 6,
    "start_time": "2024-08-02T23:08:23.946Z"
   },
   {
    "duration": 6,
    "start_time": "2024-08-02T23:08:23.955Z"
   },
   {
    "duration": 7,
    "start_time": "2024-08-02T23:08:23.965Z"
   },
   {
    "duration": 5,
    "start_time": "2024-08-02T23:08:23.976Z"
   },
   {
    "duration": 9,
    "start_time": "2024-08-02T23:08:24.034Z"
   },
   {
    "duration": 5,
    "start_time": "2024-08-02T23:08:24.047Z"
   },
   {
    "duration": 8,
    "start_time": "2024-08-02T23:08:24.055Z"
   },
   {
    "duration": 5,
    "start_time": "2024-08-02T23:08:24.066Z"
   },
   {
    "duration": 59,
    "start_time": "2024-08-02T23:08:24.074Z"
   },
   {
    "duration": 6,
    "start_time": "2024-08-02T23:08:24.135Z"
   },
   {
    "duration": 8,
    "start_time": "2024-08-02T23:08:24.145Z"
   },
   {
    "duration": 4,
    "start_time": "2024-08-02T23:08:24.156Z"
   },
   {
    "duration": 6,
    "start_time": "2024-08-02T23:08:24.164Z"
   },
   {
    "duration": 6,
    "start_time": "2024-08-02T23:08:24.173Z"
   },
   {
    "duration": 7,
    "start_time": "2024-08-02T23:08:24.232Z"
   },
   {
    "duration": 7,
    "start_time": "2024-08-02T23:08:24.243Z"
   },
   {
    "duration": 5,
    "start_time": "2024-08-02T23:08:24.254Z"
   },
   {
    "duration": 9,
    "start_time": "2024-08-02T23:08:24.262Z"
   },
   {
    "duration": 73,
    "start_time": "2024-08-02T23:08:24.275Z"
   },
   {
    "duration": 16,
    "start_time": "2024-08-02T23:08:24.351Z"
   },
   {
    "duration": 6,
    "start_time": "2024-08-02T23:08:24.370Z"
   },
   {
    "duration": 8,
    "start_time": "2024-08-02T23:08:24.379Z"
   },
   {
    "duration": 43,
    "start_time": "2024-08-02T23:08:24.393Z"
   },
   {
    "duration": 23,
    "start_time": "2024-08-02T23:08:24.439Z"
   },
   {
    "duration": 4,
    "start_time": "2024-08-02T23:08:24.465Z"
   },
   {
    "duration": 21,
    "start_time": "2024-08-02T23:08:24.472Z"
   },
   {
    "duration": 689,
    "start_time": "2024-08-02T23:09:52.210Z"
   },
   {
    "duration": 103,
    "start_time": "2024-08-02T23:09:52.903Z"
   },
   {
    "duration": 7,
    "start_time": "2024-08-02T23:09:53.009Z"
   },
   {
    "duration": 15,
    "start_time": "2024-08-02T23:09:53.018Z"
   },
   {
    "duration": 7,
    "start_time": "2024-08-02T23:09:53.038Z"
   },
   {
    "duration": 6,
    "start_time": "2024-08-02T23:09:53.048Z"
   },
   {
    "duration": 34,
    "start_time": "2024-08-02T23:09:53.057Z"
   },
   {
    "duration": 63,
    "start_time": "2024-08-02T23:09:53.094Z"
   },
   {
    "duration": 23,
    "start_time": "2024-08-02T23:09:53.160Z"
   },
   {
    "duration": 56,
    "start_time": "2024-08-02T23:09:53.185Z"
   },
   {
    "duration": 8,
    "start_time": "2024-08-02T23:09:53.244Z"
   },
   {
    "duration": 6,
    "start_time": "2024-08-02T23:09:53.255Z"
   },
   {
    "duration": 8,
    "start_time": "2024-08-02T23:09:53.264Z"
   },
   {
    "duration": 51,
    "start_time": "2024-08-02T23:09:53.281Z"
   },
   {
    "duration": 234,
    "start_time": "2024-08-02T23:09:53.335Z"
   },
   {
    "duration": 6,
    "start_time": "2024-08-02T23:09:53.572Z"
   },
   {
    "duration": 4,
    "start_time": "2024-08-02T23:09:53.581Z"
   },
   {
    "duration": 285,
    "start_time": "2024-08-02T23:09:53.589Z"
   },
   {
    "duration": 9,
    "start_time": "2024-08-02T23:09:53.877Z"
   },
   {
    "duration": 7,
    "start_time": "2024-08-02T23:09:53.890Z"
   },
   {
    "duration": 34,
    "start_time": "2024-08-02T23:09:53.900Z"
   },
   {
    "duration": 9,
    "start_time": "2024-08-02T23:09:53.937Z"
   },
   {
    "duration": 10,
    "start_time": "2024-08-02T23:09:53.949Z"
   },
   {
    "duration": 7,
    "start_time": "2024-08-02T23:09:53.962Z"
   },
   {
    "duration": 8,
    "start_time": "2024-08-02T23:09:53.973Z"
   },
   {
    "duration": 6,
    "start_time": "2024-08-02T23:09:54.032Z"
   },
   {
    "duration": 9,
    "start_time": "2024-08-02T23:09:54.041Z"
   },
   {
    "duration": 6,
    "start_time": "2024-08-02T23:09:54.052Z"
   },
   {
    "duration": 7,
    "start_time": "2024-08-02T23:09:54.061Z"
   },
   {
    "duration": 6,
    "start_time": "2024-08-02T23:09:54.071Z"
   },
   {
    "duration": 56,
    "start_time": "2024-08-02T23:09:54.081Z"
   },
   {
    "duration": 6,
    "start_time": "2024-08-02T23:09:54.140Z"
   },
   {
    "duration": 8,
    "start_time": "2024-08-02T23:09:54.149Z"
   },
   {
    "duration": 7,
    "start_time": "2024-08-02T23:09:54.160Z"
   },
   {
    "duration": 11,
    "start_time": "2024-08-02T23:09:54.170Z"
   },
   {
    "duration": 54,
    "start_time": "2024-08-02T23:09:54.183Z"
   },
   {
    "duration": 6,
    "start_time": "2024-08-02T23:09:54.241Z"
   },
   {
    "duration": 7,
    "start_time": "2024-08-02T23:09:54.250Z"
   },
   {
    "duration": 8,
    "start_time": "2024-08-02T23:09:54.260Z"
   },
   {
    "duration": 6,
    "start_time": "2024-08-02T23:09:54.272Z"
   },
   {
    "duration": 7,
    "start_time": "2024-08-02T23:09:54.337Z"
   },
   {
    "duration": 6,
    "start_time": "2024-08-02T23:09:54.348Z"
   },
   {
    "duration": 9,
    "start_time": "2024-08-02T23:09:54.357Z"
   },
   {
    "duration": 5,
    "start_time": "2024-08-02T23:09:54.369Z"
   },
   {
    "duration": 55,
    "start_time": "2024-08-02T23:09:54.377Z"
   },
   {
    "duration": 6,
    "start_time": "2024-08-02T23:09:54.437Z"
   },
   {
    "duration": 9,
    "start_time": "2024-08-02T23:09:54.446Z"
   },
   {
    "duration": 5,
    "start_time": "2024-08-02T23:09:54.458Z"
   },
   {
    "duration": 7,
    "start_time": "2024-08-02T23:09:54.467Z"
   },
   {
    "duration": 6,
    "start_time": "2024-08-02T23:09:54.477Z"
   },
   {
    "duration": 8,
    "start_time": "2024-08-02T23:09:54.535Z"
   },
   {
    "duration": 9,
    "start_time": "2024-08-02T23:09:54.545Z"
   },
   {
    "duration": 5,
    "start_time": "2024-08-02T23:09:54.557Z"
   },
   {
    "duration": 7,
    "start_time": "2024-08-02T23:09:54.565Z"
   },
   {
    "duration": 69,
    "start_time": "2024-08-02T23:09:54.575Z"
   },
   {
    "duration": 22,
    "start_time": "2024-08-02T23:09:54.647Z"
   },
   {
    "duration": 9,
    "start_time": "2024-08-02T23:09:54.671Z"
   },
   {
    "duration": 52,
    "start_time": "2024-08-02T23:09:54.682Z"
   },
   {
    "duration": 9,
    "start_time": "2024-08-02T23:09:54.738Z"
   },
   {
    "duration": 31,
    "start_time": "2024-08-02T23:09:54.751Z"
   },
   {
    "duration": 4,
    "start_time": "2024-08-02T23:09:54.787Z"
   },
   {
    "duration": 67,
    "start_time": "2024-08-02T23:09:54.795Z"
   },
   {
    "duration": 7,
    "start_time": "2024-08-02T23:24:50.830Z"
   },
   {
    "duration": 6,
    "start_time": "2024-08-02T23:24:53.506Z"
   },
   {
    "duration": 7,
    "start_time": "2024-08-02T23:30:31.787Z"
   },
   {
    "duration": 6,
    "start_time": "2024-08-02T23:31:34.970Z"
   },
   {
    "duration": 443,
    "start_time": "2024-08-03T01:39:55.605Z"
   },
   {
    "duration": 1999,
    "start_time": "2024-08-03T01:40:15.766Z"
   },
   {
    "duration": 7,
    "start_time": "2024-08-03T01:40:33.572Z"
   },
   {
    "duration": 25,
    "start_time": "2024-08-03T01:40:38.523Z"
   },
   {
    "duration": 4,
    "start_time": "2024-08-03T02:05:57.610Z"
   },
   {
    "duration": 30,
    "start_time": "2024-08-03T02:05:58.300Z"
   },
   {
    "duration": 19,
    "start_time": "2024-08-03T02:06:44.221Z"
   },
   {
    "duration": 906,
    "start_time": "2024-08-03T02:07:23.187Z"
   },
   {
    "duration": 23,
    "start_time": "2024-08-03T02:07:30.184Z"
   },
   {
    "duration": 22,
    "start_time": "2024-08-03T02:07:52.487Z"
   },
   {
    "duration": 1045,
    "start_time": "2024-08-03T02:08:50.068Z"
   },
   {
    "duration": 6,
    "start_time": "2024-08-03T02:10:35.197Z"
   },
   {
    "duration": 74,
    "start_time": "2024-08-03T02:10:51.726Z"
   },
   {
    "duration": 23,
    "start_time": "2024-08-03T02:11:06.033Z"
   },
   {
    "duration": 22,
    "start_time": "2024-08-03T02:11:10.952Z"
   },
   {
    "duration": 7,
    "start_time": "2024-08-03T02:11:17.931Z"
   },
   {
    "duration": 6,
    "start_time": "2024-08-03T02:12:42.180Z"
   },
   {
    "duration": 6,
    "start_time": "2024-08-03T02:16:36.778Z"
   },
   {
    "duration": 30,
    "start_time": "2024-08-03T02:17:53.752Z"
   },
   {
    "duration": 7,
    "start_time": "2024-08-03T02:21:42.026Z"
   },
   {
    "duration": 6,
    "start_time": "2024-08-03T02:21:47.880Z"
   },
   {
    "duration": 4,
    "start_time": "2024-08-03T02:22:24.694Z"
   },
   {
    "duration": 4,
    "start_time": "2024-08-03T02:24:51.540Z"
   },
   {
    "duration": 31,
    "start_time": "2024-08-03T02:24:51.820Z"
   },
   {
    "duration": 6,
    "start_time": "2024-08-03T02:25:05.457Z"
   },
   {
    "duration": 3,
    "start_time": "2024-08-03T02:26:01.680Z"
   },
   {
    "duration": 30,
    "start_time": "2024-08-03T02:26:02.143Z"
   },
   {
    "duration": 6,
    "start_time": "2024-08-03T02:26:02.518Z"
   },
   {
    "duration": 4316,
    "start_time": "2024-08-03T03:32:10.023Z"
   },
   {
    "duration": 78,
    "start_time": "2024-08-03T03:32:14.343Z"
   },
   {
    "duration": 11,
    "start_time": "2024-08-03T03:32:16.388Z"
   },
   {
    "duration": 6,
    "start_time": "2024-08-03T03:32:17.124Z"
   },
   {
    "duration": 5,
    "start_time": "2024-08-03T03:32:17.280Z"
   },
   {
    "duration": 6,
    "start_time": "2024-08-03T03:32:17.887Z"
   },
   {
    "duration": 33,
    "start_time": "2024-08-03T03:32:19.315Z"
   },
   {
    "duration": 27,
    "start_time": "2024-08-03T03:32:21.678Z"
   },
   {
    "duration": 23,
    "start_time": "2024-08-03T03:32:25.728Z"
   },
   {
    "duration": 21,
    "start_time": "2024-08-03T03:32:27.757Z"
   },
   {
    "duration": 8,
    "start_time": "2024-08-03T03:32:36.246Z"
   },
   {
    "duration": 6,
    "start_time": "2024-08-03T03:32:36.739Z"
   },
   {
    "duration": 8,
    "start_time": "2024-08-03T03:32:38.067Z"
   },
   {
    "duration": 6,
    "start_time": "2024-08-03T03:32:38.917Z"
   },
   {
    "duration": 206,
    "start_time": "2024-08-03T03:32:40.238Z"
   },
   {
    "duration": 6,
    "start_time": "2024-08-03T03:32:40.804Z"
   },
   {
    "duration": 4,
    "start_time": "2024-08-03T03:33:27.446Z"
   },
   {
    "duration": 219,
    "start_time": "2024-08-03T03:33:31.973Z"
   },
   {
    "duration": 8,
    "start_time": "2024-08-03T03:33:54.207Z"
   },
   {
    "duration": 6,
    "start_time": "2024-08-03T03:33:57.218Z"
   },
   {
    "duration": 6,
    "start_time": "2024-08-03T03:34:04.151Z"
   },
   {
    "duration": 8,
    "start_time": "2024-08-03T03:34:04.700Z"
   },
   {
    "duration": 7,
    "start_time": "2024-08-03T03:34:05.291Z"
   },
   {
    "duration": 5,
    "start_time": "2024-08-03T03:34:06.764Z"
   },
   {
    "duration": 6,
    "start_time": "2024-08-03T03:34:07.075Z"
   },
   {
    "duration": 6,
    "start_time": "2024-08-03T03:34:07.812Z"
   },
   {
    "duration": 8,
    "start_time": "2024-08-03T03:34:07.972Z"
   },
   {
    "duration": 5,
    "start_time": "2024-08-03T03:34:08.125Z"
   },
   {
    "duration": 6,
    "start_time": "2024-08-03T03:34:08.276Z"
   },
   {
    "duration": 5,
    "start_time": "2024-08-03T03:34:08.413Z"
   },
   {
    "duration": 7,
    "start_time": "2024-08-03T03:34:08.562Z"
   },
   {
    "duration": 7,
    "start_time": "2024-08-03T03:34:08.691Z"
   },
   {
    "duration": 7,
    "start_time": "2024-08-03T03:34:08.829Z"
   },
   {
    "duration": 6,
    "start_time": "2024-08-03T03:34:08.962Z"
   },
   {
    "duration": 7,
    "start_time": "2024-08-03T03:34:09.095Z"
   },
   {
    "duration": 5,
    "start_time": "2024-08-03T03:34:09.228Z"
   },
   {
    "duration": 7,
    "start_time": "2024-08-03T03:34:09.369Z"
   },
   {
    "duration": 5,
    "start_time": "2024-08-03T03:34:09.504Z"
   },
   {
    "duration": 8,
    "start_time": "2024-08-03T03:34:09.689Z"
   },
   {
    "duration": 6,
    "start_time": "2024-08-03T03:34:09.848Z"
   },
   {
    "duration": 7,
    "start_time": "2024-08-03T03:34:09.983Z"
   },
   {
    "duration": 9,
    "start_time": "2024-08-03T03:34:10.124Z"
   },
   {
    "duration": 7,
    "start_time": "2024-08-03T03:34:10.322Z"
   },
   {
    "duration": 4,
    "start_time": "2024-08-03T03:34:10.491Z"
   },
   {
    "duration": 7,
    "start_time": "2024-08-03T03:34:10.671Z"
   },
   {
    "duration": 7,
    "start_time": "2024-08-03T03:34:10.849Z"
   },
   {
    "duration": 8,
    "start_time": "2024-08-03T03:34:11.009Z"
   },
   {
    "duration": 4,
    "start_time": "2024-08-03T03:34:11.131Z"
   },
   {
    "duration": 7,
    "start_time": "2024-08-03T03:34:11.285Z"
   },
   {
    "duration": 6,
    "start_time": "2024-08-03T03:34:11.460Z"
   },
   {
    "duration": 6,
    "start_time": "2024-08-03T03:34:11.663Z"
   },
   {
    "duration": 7,
    "start_time": "2024-08-03T03:34:11.831Z"
   },
   {
    "duration": 4,
    "start_time": "2024-08-03T03:34:11.954Z"
   },
   {
    "duration": 7,
    "start_time": "2024-08-03T03:34:12.076Z"
   },
   {
    "duration": 25,
    "start_time": "2024-08-03T03:34:12.275Z"
   },
   {
    "duration": 20,
    "start_time": "2024-08-03T03:34:15.943Z"
   },
   {
    "duration": 8,
    "start_time": "2024-08-03T03:34:41.405Z"
   },
   {
    "duration": 8,
    "start_time": "2024-08-03T03:34:42.216Z"
   },
   {
    "duration": 166,
    "start_time": "2024-08-03T03:37:19.558Z"
   },
   {
    "duration": 6,
    "start_time": "2024-08-03T03:40:04.368Z"
   },
   {
    "duration": 716,
    "start_time": "2024-08-03T04:05:23.257Z"
   },
   {
    "duration": 780,
    "start_time": "2024-08-03T04:20:42.555Z"
   },
   {
    "duration": 1381,
    "start_time": "2024-08-03T04:30:27.226Z"
   },
   {
    "duration": 66,
    "start_time": "2024-08-03T04:30:43.477Z"
   },
   {
    "duration": 8,
    "start_time": "2024-08-03T04:34:05.333Z"
   },
   {
    "duration": 6,
    "start_time": "2024-08-03T04:34:20.079Z"
   },
   {
    "duration": 5,
    "start_time": "2024-08-03T04:43:01.732Z"
   },
   {
    "duration": 30,
    "start_time": "2024-08-03T04:43:28.132Z"
   },
   {
    "duration": 26,
    "start_time": "2024-08-03T04:43:51.932Z"
   },
   {
    "duration": 13,
    "start_time": "2024-08-03T04:50:10.776Z"
   },
   {
    "duration": 28,
    "start_time": "2024-08-03T04:50:12.409Z"
   },
   {
    "duration": 5,
    "start_time": "2024-08-03T04:53:17.468Z"
   },
   {
    "duration": 10,
    "start_time": "2024-08-03T04:54:30.892Z"
   },
   {
    "duration": 6,
    "start_time": "2024-08-03T04:54:31.297Z"
   },
   {
    "duration": 3,
    "start_time": "2024-08-03T04:54:43.684Z"
   },
   {
    "duration": 22,
    "start_time": "2024-08-03T05:09:27.684Z"
   },
   {
    "duration": 51,
    "start_time": "2024-08-03T05:10:00.257Z"
   },
   {
    "duration": 6,
    "start_time": "2024-08-03T05:12:43.749Z"
   },
   {
    "duration": 11,
    "start_time": "2024-08-03T05:13:03.931Z"
   },
   {
    "duration": 43,
    "start_time": "2024-08-03T05:15:40.856Z"
   },
   {
    "duration": 4,
    "start_time": "2024-08-03T05:21:56.370Z"
   },
   {
    "duration": 1193,
    "start_time": "2024-08-03T05:24:53.420Z"
   },
   {
    "duration": 5,
    "start_time": "2024-08-03T05:30:27.384Z"
   },
   {
    "duration": 10,
    "start_time": "2024-08-03T05:32:06.216Z"
   },
   {
    "duration": 857,
    "start_time": "2024-08-03T05:33:09.906Z"
   },
   {
    "duration": 6,
    "start_time": "2024-08-03T05:35:03.231Z"
   },
   {
    "duration": 25,
    "start_time": "2024-08-03T05:50:54.194Z"
   },
   {
    "duration": 4,
    "start_time": "2024-08-03T05:51:23.564Z"
   },
   {
    "duration": 296,
    "start_time": "2024-08-03T05:51:29.869Z"
   },
   {
    "duration": 25,
    "start_time": "2024-08-03T05:54:14.488Z"
   },
   {
    "duration": 5,
    "start_time": "2024-08-03T05:54:40.409Z"
   },
   {
    "duration": 11,
    "start_time": "2024-08-03T05:54:40.918Z"
   },
   {
    "duration": 5,
    "start_time": "2024-08-03T05:54:59.698Z"
   },
   {
    "duration": 117,
    "start_time": "2024-08-03T05:55:23.527Z"
   },
   {
    "duration": 3,
    "start_time": "2024-08-03T05:56:44.030Z"
   },
   {
    "duration": 25,
    "start_time": "2024-08-03T05:57:05.251Z"
   },
   {
    "duration": 6,
    "start_time": "2024-08-03T05:57:29.397Z"
   },
   {
    "duration": 4,
    "start_time": "2024-08-03T05:57:55.849Z"
   },
   {
    "duration": 26,
    "start_time": "2024-08-03T05:58:21.620Z"
   },
   {
    "duration": 61,
    "start_time": "2024-08-03T06:02:30.706Z"
   },
   {
    "duration": 9,
    "start_time": "2024-08-03T06:02:56.903Z"
   },
   {
    "duration": 21,
    "start_time": "2024-08-03T06:03:03.164Z"
   },
   {
    "duration": 15,
    "start_time": "2024-08-03T06:03:40.776Z"
   },
   {
    "duration": 25,
    "start_time": "2024-08-03T06:04:04.923Z"
   },
   {
    "duration": 3,
    "start_time": "2024-08-03T06:04:32.249Z"
   },
   {
    "duration": 24,
    "start_time": "2024-08-03T06:04:42.095Z"
   },
   {
    "duration": 254,
    "start_time": "2024-08-03T06:06:26.101Z"
   },
   {
    "duration": 24,
    "start_time": "2024-08-03T06:41:19.110Z"
   },
   {
    "duration": 6,
    "start_time": "2024-08-03T06:41:28.373Z"
   },
   {
    "duration": 50,
    "start_time": "2024-08-03T06:41:28.527Z"
   },
   {
    "duration": 6,
    "start_time": "2024-08-03T06:41:29.274Z"
   },
   {
    "duration": 5,
    "start_time": "2024-08-03T06:41:29.297Z"
   },
   {
    "duration": 5,
    "start_time": "2024-08-03T06:41:29.327Z"
   },
   {
    "duration": 6,
    "start_time": "2024-08-03T06:41:29.371Z"
   },
   {
    "duration": 32,
    "start_time": "2024-08-03T06:41:29.396Z"
   },
   {
    "duration": 24,
    "start_time": "2024-08-03T06:41:29.439Z"
   },
   {
    "duration": 20,
    "start_time": "2024-08-03T06:41:29.471Z"
   },
   {
    "duration": 35,
    "start_time": "2024-08-03T06:41:29.497Z"
   },
   {
    "duration": 7,
    "start_time": "2024-08-03T06:41:29.611Z"
   },
   {
    "duration": 6,
    "start_time": "2024-08-03T06:41:29.777Z"
   },
   {
    "duration": 8,
    "start_time": "2024-08-03T06:41:29.786Z"
   },
   {
    "duration": 8,
    "start_time": "2024-08-03T06:41:29.797Z"
   },
   {
    "duration": 195,
    "start_time": "2024-08-03T06:41:29.906Z"
   },
   {
    "duration": 6,
    "start_time": "2024-08-03T06:41:30.104Z"
   },
   {
    "duration": 4,
    "start_time": "2024-08-03T06:41:30.230Z"
   },
   {
    "duration": 333,
    "start_time": "2024-08-03T06:41:30.362Z"
   },
   {
    "duration": 8,
    "start_time": "2024-08-03T06:41:30.698Z"
   },
   {
    "duration": 22,
    "start_time": "2024-08-03T06:41:30.708Z"
   },
   {
    "duration": 6,
    "start_time": "2024-08-03T06:41:31.192Z"
   },
   {
    "duration": 8,
    "start_time": "2024-08-03T06:41:31.236Z"
   },
   {
    "duration": 7,
    "start_time": "2024-08-03T06:41:31.262Z"
   },
   {
    "duration": 5,
    "start_time": "2024-08-03T06:41:31.330Z"
   },
   {
    "duration": 7,
    "start_time": "2024-08-03T06:41:31.357Z"
   },
   {
    "duration": 6,
    "start_time": "2024-08-03T06:41:31.409Z"
   },
   {
    "duration": 8,
    "start_time": "2024-08-03T06:41:31.442Z"
   },
   {
    "duration": 5,
    "start_time": "2024-08-03T06:41:31.458Z"
   },
   {
    "duration": 6,
    "start_time": "2024-08-03T06:41:31.493Z"
   },
   {
    "duration": 7,
    "start_time": "2024-08-03T06:41:31.532Z"
   },
   {
    "duration": 8,
    "start_time": "2024-08-03T06:41:31.556Z"
   },
   {
    "duration": 9,
    "start_time": "2024-08-03T06:41:31.589Z"
   },
   {
    "duration": 7,
    "start_time": "2024-08-03T06:41:31.625Z"
   },
   {
    "duration": 7,
    "start_time": "2024-08-03T06:41:31.656Z"
   },
   {
    "duration": 8,
    "start_time": "2024-08-03T06:41:31.695Z"
   },
   {
    "duration": 5,
    "start_time": "2024-08-03T06:41:31.729Z"
   },
   {
    "duration": 9,
    "start_time": "2024-08-03T06:41:31.757Z"
   },
   {
    "duration": 9,
    "start_time": "2024-08-03T06:41:31.789Z"
   },
   {
    "duration": 8,
    "start_time": "2024-08-03T06:41:31.901Z"
   },
   {
    "duration": 5,
    "start_time": "2024-08-03T06:41:32.053Z"
   },
   {
    "duration": 6,
    "start_time": "2024-08-03T06:41:32.203Z"
   },
   {
    "duration": 6,
    "start_time": "2024-08-03T06:41:32.347Z"
   },
   {
    "duration": 8,
    "start_time": "2024-08-03T06:41:32.494Z"
   },
   {
    "duration": 6,
    "start_time": "2024-08-03T06:41:32.652Z"
   },
   {
    "duration": 7,
    "start_time": "2024-08-03T06:41:32.789Z"
   },
   {
    "duration": 8,
    "start_time": "2024-08-03T06:41:32.946Z"
   },
   {
    "duration": 8,
    "start_time": "2024-08-03T06:41:33.092Z"
   },
   {
    "duration": 5,
    "start_time": "2024-08-03T06:41:33.240Z"
   },
   {
    "duration": 7,
    "start_time": "2024-08-03T06:41:33.391Z"
   },
   {
    "duration": 5,
    "start_time": "2024-08-03T06:41:33.547Z"
   },
   {
    "duration": 7,
    "start_time": "2024-08-03T06:41:33.705Z"
   },
   {
    "duration": 8,
    "start_time": "2024-08-03T06:41:33.863Z"
   },
   {
    "duration": 5,
    "start_time": "2024-08-03T06:41:34.026Z"
   },
   {
    "duration": 6,
    "start_time": "2024-08-03T06:41:34.178Z"
   },
   {
    "duration": 24,
    "start_time": "2024-08-03T06:41:34.338Z"
   },
   {
    "duration": 22,
    "start_time": "2024-08-03T06:41:35.062Z"
   },
   {
    "duration": 8,
    "start_time": "2024-08-03T06:41:35.552Z"
   },
   {
    "duration": 8,
    "start_time": "2024-08-03T06:41:36.447Z"
   },
   {
    "duration": 157,
    "start_time": "2024-08-03T06:41:36.951Z"
   },
   {
    "duration": 6,
    "start_time": "2024-08-03T06:41:38.617Z"
   },
   {
    "duration": 31,
    "start_time": "2024-08-03T06:41:40.816Z"
   },
   {
    "duration": 24,
    "start_time": "2024-08-03T06:41:42.485Z"
   },
   {
    "duration": 6,
    "start_time": "2024-08-03T06:41:43.747Z"
   },
   {
    "duration": 8,
    "start_time": "2024-08-03T06:42:02.665Z"
   },
   {
    "duration": 7,
    "start_time": "2024-08-03T06:42:05.672Z"
   },
   {
    "duration": 30,
    "start_time": "2024-08-03T06:42:26.473Z"
   },
   {
    "duration": 6,
    "start_time": "2024-08-03T06:42:27.019Z"
   },
   {
    "duration": 29,
    "start_time": "2024-08-03T06:43:09.854Z"
   },
   {
    "duration": 6,
    "start_time": "2024-08-03T06:43:10.544Z"
   },
   {
    "duration": 7,
    "start_time": "2024-08-03T06:43:16.441Z"
   },
   {
    "duration": 11,
    "start_time": "2024-08-03T06:43:16.732Z"
   },
   {
    "duration": 6,
    "start_time": "2024-08-03T06:43:17.042Z"
   },
   {
    "duration": 4,
    "start_time": "2024-08-03T06:43:27.518Z"
   },
   {
    "duration": 24,
    "start_time": "2024-08-03T06:43:28.050Z"
   },
   {
    "duration": 134,
    "start_time": "2024-08-03T06:43:38.138Z"
   },
   {
    "duration": 111,
    "start_time": "2024-08-03T06:44:01.181Z"
   },
   {
    "duration": 76,
    "start_time": "2024-08-03T06:44:52.894Z"
   },
   {
    "duration": 5,
    "start_time": "2024-08-03T06:45:16.779Z"
   },
   {
    "duration": 49,
    "start_time": "2024-08-03T06:45:16.939Z"
   },
   {
    "duration": 6,
    "start_time": "2024-08-03T06:45:17.212Z"
   },
   {
    "duration": 6,
    "start_time": "2024-08-03T06:45:17.356Z"
   },
   {
    "duration": 5,
    "start_time": "2024-08-03T06:45:17.507Z"
   },
   {
    "duration": 6,
    "start_time": "2024-08-03T06:45:17.628Z"
   },
   {
    "duration": 33,
    "start_time": "2024-08-03T06:45:17.768Z"
   },
   {
    "duration": 24,
    "start_time": "2024-08-03T06:45:17.911Z"
   },
   {
    "duration": 21,
    "start_time": "2024-08-03T06:45:18.051Z"
   },
   {
    "duration": 20,
    "start_time": "2024-08-03T06:45:18.184Z"
   },
   {
    "duration": 8,
    "start_time": "2024-08-03T06:45:18.627Z"
   },
   {
    "duration": 6,
    "start_time": "2024-08-03T06:45:18.768Z"
   },
   {
    "duration": 8,
    "start_time": "2024-08-03T06:45:18.925Z"
   },
   {
    "duration": 6,
    "start_time": "2024-08-03T06:45:19.073Z"
   },
   {
    "duration": 199,
    "start_time": "2024-08-03T06:45:19.212Z"
   },
   {
    "duration": 16,
    "start_time": "2024-08-03T06:45:19.415Z"
   },
   {
    "duration": 4,
    "start_time": "2024-08-03T06:45:19.655Z"
   },
   {
    "duration": 206,
    "start_time": "2024-08-03T06:45:19.843Z"
   },
   {
    "duration": 7,
    "start_time": "2024-08-03T06:45:20.053Z"
   },
   {
    "duration": 5,
    "start_time": "2024-08-03T06:45:20.136Z"
   },
   {
    "duration": 6,
    "start_time": "2024-08-03T06:45:20.591Z"
   },
   {
    "duration": 8,
    "start_time": "2024-08-03T06:45:20.739Z"
   },
   {
    "duration": 7,
    "start_time": "2024-08-03T06:45:20.880Z"
   },
   {
    "duration": 5,
    "start_time": "2024-08-03T06:45:21.184Z"
   },
   {
    "duration": 7,
    "start_time": "2024-08-03T06:45:21.343Z"
   },
   {
    "duration": 5,
    "start_time": "2024-08-03T06:45:21.497Z"
   },
   {
    "duration": 9,
    "start_time": "2024-08-03T06:45:21.636Z"
   },
   {
    "duration": 5,
    "start_time": "2024-08-03T06:45:21.796Z"
   },
   {
    "duration": 6,
    "start_time": "2024-08-03T06:45:21.966Z"
   },
   {
    "duration": 10,
    "start_time": "2024-08-03T06:45:22.124Z"
   },
   {
    "duration": 8,
    "start_time": "2024-08-03T06:45:22.295Z"
   },
   {
    "duration": 6,
    "start_time": "2024-08-03T06:45:22.493Z"
   },
   {
    "duration": 7,
    "start_time": "2024-08-03T06:45:22.683Z"
   },
   {
    "duration": 6,
    "start_time": "2024-08-03T06:45:22.871Z"
   },
   {
    "duration": 10,
    "start_time": "2024-08-03T06:45:23.028Z"
   },
   {
    "duration": 6,
    "start_time": "2024-08-03T06:45:23.178Z"
   },
   {
    "duration": 7,
    "start_time": "2024-08-03T06:45:23.324Z"
   },
   {
    "duration": 6,
    "start_time": "2024-08-03T06:45:23.479Z"
   },
   {
    "duration": 8,
    "start_time": "2024-08-03T06:45:23.649Z"
   },
   {
    "duration": 5,
    "start_time": "2024-08-03T06:45:23.804Z"
   },
   {
    "duration": 7,
    "start_time": "2024-08-03T06:45:23.966Z"
   },
   {
    "duration": 7,
    "start_time": "2024-08-03T06:45:24.107Z"
   },
   {
    "duration": 8,
    "start_time": "2024-08-03T06:45:24.248Z"
   },
   {
    "duration": 5,
    "start_time": "2024-08-03T06:45:24.398Z"
   },
   {
    "duration": 6,
    "start_time": "2024-08-03T06:45:24.542Z"
   },
   {
    "duration": 7,
    "start_time": "2024-08-03T06:45:24.685Z"
   },
   {
    "duration": 9,
    "start_time": "2024-08-03T06:45:24.833Z"
   },
   {
    "duration": 5,
    "start_time": "2024-08-03T06:45:24.967Z"
   },
   {
    "duration": 7,
    "start_time": "2024-08-03T06:45:25.119Z"
   },
   {
    "duration": 6,
    "start_time": "2024-08-03T06:45:25.267Z"
   },
   {
    "duration": 6,
    "start_time": "2024-08-03T06:45:25.411Z"
   },
   {
    "duration": 8,
    "start_time": "2024-08-03T06:45:25.560Z"
   },
   {
    "duration": 5,
    "start_time": "2024-08-03T06:45:25.692Z"
   },
   {
    "duration": 6,
    "start_time": "2024-08-03T06:45:25.855Z"
   },
   {
    "duration": 23,
    "start_time": "2024-08-03T06:45:26.000Z"
   },
   {
    "duration": 21,
    "start_time": "2024-08-03T06:45:26.145Z"
   },
   {
    "duration": 8,
    "start_time": "2024-08-03T06:45:27.346Z"
   },
   {
    "duration": 8,
    "start_time": "2024-08-03T06:45:28.166Z"
   },
   {
    "duration": 166,
    "start_time": "2024-08-03T06:45:28.805Z"
   },
   {
    "duration": 6,
    "start_time": "2024-08-03T06:45:30.975Z"
   },
   {
    "duration": 32,
    "start_time": "2024-08-03T06:45:31.836Z"
   },
   {
    "duration": 8,
    "start_time": "2024-08-03T06:45:33.509Z"
   },
   {
    "duration": 6,
    "start_time": "2024-08-03T06:45:35.771Z"
   },
   {
    "duration": 29,
    "start_time": "2024-08-03T06:45:46.552Z"
   },
   {
    "duration": 6,
    "start_time": "2024-08-03T06:45:47.388Z"
   },
   {
    "duration": 7,
    "start_time": "2024-08-03T06:45:57.398Z"
   },
   {
    "duration": 10,
    "start_time": "2024-08-03T06:45:57.794Z"
   },
   {
    "duration": 6,
    "start_time": "2024-08-03T06:45:58.430Z"
   },
   {
    "duration": 14,
    "start_time": "2024-08-03T06:46:06.248Z"
   },
   {
    "duration": 24,
    "start_time": "2024-08-03T06:47:07.828Z"
   },
   {
    "duration": 161,
    "start_time": "2024-08-03T06:48:20.383Z"
   },
   {
    "duration": 4,
    "start_time": "2024-08-03T06:51:35.622Z"
   },
   {
    "duration": 10,
    "start_time": "2024-08-03T06:52:40.747Z"
   },
   {
    "duration": 9,
    "start_time": "2024-08-03T06:53:03.973Z"
   },
   {
    "duration": 7,
    "start_time": "2024-08-03T06:54:21.197Z"
   },
   {
    "duration": 7,
    "start_time": "2024-08-03T06:56:26.658Z"
   },
   {
    "duration": 31,
    "start_time": "2024-08-03T06:57:54.058Z"
   },
   {
    "duration": 6,
    "start_time": "2024-08-03T06:58:21.791Z"
   },
   {
    "duration": 8,
    "start_time": "2024-08-03T06:58:31.893Z"
   },
   {
    "duration": 7,
    "start_time": "2024-08-03T06:58:59.823Z"
   },
   {
    "duration": 31,
    "start_time": "2024-08-03T06:59:08.769Z"
   },
   {
    "duration": 6,
    "start_time": "2024-08-03T07:00:09.104Z"
   },
   {
    "duration": 24,
    "start_time": "2024-08-03T07:00:21.322Z"
   },
   {
    "duration": 21,
    "start_time": "2024-08-03T07:00:45.350Z"
   },
   {
    "duration": 5,
    "start_time": "2024-08-03T07:02:19.242Z"
   },
   {
    "duration": 14,
    "start_time": "2024-08-03T07:02:30.333Z"
   },
   {
    "duration": 6,
    "start_time": "2024-08-03T07:06:37.126Z"
   },
   {
    "duration": 51,
    "start_time": "2024-08-03T07:06:37.266Z"
   },
   {
    "duration": 5,
    "start_time": "2024-08-03T07:06:37.581Z"
   },
   {
    "duration": 5,
    "start_time": "2024-08-03T07:06:37.737Z"
   },
   {
    "duration": 5,
    "start_time": "2024-08-03T07:06:37.887Z"
   },
   {
    "duration": 6,
    "start_time": "2024-08-03T07:06:38.050Z"
   },
   {
    "duration": 31,
    "start_time": "2024-08-03T07:06:38.204Z"
   },
   {
    "duration": 24,
    "start_time": "2024-08-03T07:06:38.709Z"
   },
   {
    "duration": 22,
    "start_time": "2024-08-03T07:06:38.736Z"
   },
   {
    "duration": 20,
    "start_time": "2024-08-03T07:06:38.764Z"
   },
   {
    "duration": 10,
    "start_time": "2024-08-03T07:06:38.866Z"
   },
   {
    "duration": 6,
    "start_time": "2024-08-03T07:06:38.971Z"
   },
   {
    "duration": 9,
    "start_time": "2024-08-03T07:06:39.126Z"
   },
   {
    "duration": 6,
    "start_time": "2024-08-03T07:06:39.287Z"
   },
   {
    "duration": 198,
    "start_time": "2024-08-03T07:06:39.435Z"
   },
   {
    "duration": 7,
    "start_time": "2024-08-03T07:06:39.637Z"
   },
   {
    "duration": 5,
    "start_time": "2024-08-03T07:06:40.225Z"
   },
   {
    "duration": 203,
    "start_time": "2024-08-03T07:06:40.251Z"
   },
   {
    "duration": 8,
    "start_time": "2024-08-03T07:06:40.457Z"
   },
   {
    "duration": 7,
    "start_time": "2024-08-03T07:06:40.468Z"
   },
   {
    "duration": 7,
    "start_time": "2024-08-03T07:06:40.479Z"
   },
   {
    "duration": 45,
    "start_time": "2024-08-03T07:06:40.489Z"
   },
   {
    "duration": 8,
    "start_time": "2024-08-03T07:06:40.538Z"
   },
   {
    "duration": 5,
    "start_time": "2024-08-03T07:06:40.553Z"
   },
   {
    "duration": 6,
    "start_time": "2024-08-03T07:06:40.678Z"
   },
   {
    "duration": 7,
    "start_time": "2024-08-03T07:06:40.839Z"
   },
   {
    "duration": 10,
    "start_time": "2024-08-03T07:06:40.990Z"
   },
   {
    "duration": 5,
    "start_time": "2024-08-03T07:06:41.134Z"
   },
   {
    "duration": 6,
    "start_time": "2024-08-03T07:06:41.283Z"
   },
   {
    "duration": 6,
    "start_time": "2024-08-03T07:06:41.426Z"
   },
   {
    "duration": 8,
    "start_time": "2024-08-03T07:06:41.576Z"
   },
   {
    "duration": 6,
    "start_time": "2024-08-03T07:06:41.719Z"
   },
   {
    "duration": 7,
    "start_time": "2024-08-03T07:06:41.868Z"
   },
   {
    "duration": 8,
    "start_time": "2024-08-03T07:06:42.019Z"
   },
   {
    "duration": 8,
    "start_time": "2024-08-03T07:06:42.180Z"
   },
   {
    "duration": 10,
    "start_time": "2024-08-03T07:06:42.331Z"
   },
   {
    "duration": 7,
    "start_time": "2024-08-03T07:06:42.469Z"
   },
   {
    "duration": 7,
    "start_time": "2024-08-03T07:06:42.614Z"
   },
   {
    "duration": 8,
    "start_time": "2024-08-03T07:06:42.764Z"
   },
   {
    "duration": 4,
    "start_time": "2024-08-03T07:06:42.918Z"
   },
   {
    "duration": 6,
    "start_time": "2024-08-03T07:06:43.059Z"
   },
   {
    "duration": 7,
    "start_time": "2024-08-03T07:06:43.217Z"
   },
   {
    "duration": 7,
    "start_time": "2024-08-03T07:06:43.382Z"
   },
   {
    "duration": 5,
    "start_time": "2024-08-03T07:06:43.555Z"
   },
   {
    "duration": 8,
    "start_time": "2024-08-03T07:06:44.002Z"
   },
   {
    "duration": 6,
    "start_time": "2024-08-03T07:06:44.167Z"
   },
   {
    "duration": 8,
    "start_time": "2024-08-03T07:06:44.319Z"
   },
   {
    "duration": 5,
    "start_time": "2024-08-03T07:06:44.484Z"
   },
   {
    "duration": 7,
    "start_time": "2024-08-03T07:06:44.661Z"
   },
   {
    "duration": 6,
    "start_time": "2024-08-03T07:06:44.831Z"
   },
   {
    "duration": 6,
    "start_time": "2024-08-03T07:06:45.000Z"
   },
   {
    "duration": 8,
    "start_time": "2024-08-03T07:06:45.182Z"
   },
   {
    "duration": 5,
    "start_time": "2024-08-03T07:06:45.328Z"
   },
   {
    "duration": 6,
    "start_time": "2024-08-03T07:06:45.532Z"
   },
   {
    "duration": 24,
    "start_time": "2024-08-03T07:06:45.726Z"
   },
   {
    "duration": 22,
    "start_time": "2024-08-03T07:06:45.933Z"
   },
   {
    "duration": 7,
    "start_time": "2024-08-03T07:06:48.239Z"
   },
   {
    "duration": 15,
    "start_time": "2024-08-03T07:07:13.573Z"
   },
   {
    "duration": 23,
    "start_time": "2024-08-03T07:10:40.862Z"
   },
   {
    "duration": 172,
    "start_time": "2024-08-03T07:10:49.005Z"
   },
   {
    "duration": 79,
    "start_time": "2024-08-03T07:11:00.004Z"
   },
   {
    "duration": 6,
    "start_time": "2024-08-03T07:11:20.258Z"
   },
   {
    "duration": 14,
    "start_time": "2024-08-03T07:11:30.338Z"
   },
   {
    "duration": 9,
    "start_time": "2024-08-03T07:11:43.336Z"
   },
   {
    "duration": 8,
    "start_time": "2024-08-03T07:11:44.225Z"
   },
   {
    "duration": 159,
    "start_time": "2024-08-03T07:11:48.175Z"
   },
   {
    "duration": 6,
    "start_time": "2024-08-03T07:11:51.372Z"
   },
   {
    "duration": 32,
    "start_time": "2024-08-03T07:11:52.062Z"
   },
   {
    "duration": 8,
    "start_time": "2024-08-03T07:11:52.926Z"
   },
   {
    "duration": 6,
    "start_time": "2024-08-03T07:11:53.797Z"
   },
   {
    "duration": 29,
    "start_time": "2024-08-03T07:12:00.591Z"
   },
   {
    "duration": 6,
    "start_time": "2024-08-03T07:12:00.889Z"
   },
   {
    "duration": 6,
    "start_time": "2024-08-03T07:12:08.435Z"
   },
   {
    "duration": 11,
    "start_time": "2024-08-03T07:12:08.672Z"
   },
   {
    "duration": 5,
    "start_time": "2024-08-03T07:12:08.892Z"
   },
   {
    "duration": 13,
    "start_time": "2024-08-03T07:12:10.153Z"
   },
   {
    "duration": 31,
    "start_time": "2024-08-03T07:12:35.826Z"
   },
   {
    "duration": 5,
    "start_time": "2024-08-03T07:14:35.406Z"
   },
   {
    "duration": 4982,
    "start_time": "2024-08-03T23:02:55.697Z"
   },
   {
    "duration": 63,
    "start_time": "2024-08-03T23:03:00.683Z"
   },
   {
    "duration": 7,
    "start_time": "2024-08-03T23:03:11.942Z"
   },
   {
    "duration": 6,
    "start_time": "2024-08-03T23:03:12.224Z"
   },
   {
    "duration": 5,
    "start_time": "2024-08-03T23:03:12.551Z"
   },
   {
    "duration": 5,
    "start_time": "2024-08-03T23:03:13.263Z"
   },
   {
    "duration": 34,
    "start_time": "2024-08-03T23:03:18.644Z"
   },
   {
    "duration": 28,
    "start_time": "2024-08-03T23:03:19.870Z"
   },
   {
    "duration": 23,
    "start_time": "2024-08-03T23:04:04.337Z"
   },
   {
    "duration": 20,
    "start_time": "2024-08-03T23:04:27.021Z"
   },
   {
    "duration": 7,
    "start_time": "2024-08-03T23:04:55.146Z"
   },
   {
    "duration": 5,
    "start_time": "2024-08-03T23:04:55.850Z"
   },
   {
    "duration": 7,
    "start_time": "2024-08-03T23:04:57.441Z"
   },
   {
    "duration": 7,
    "start_time": "2024-08-03T23:05:03.714Z"
   },
   {
    "duration": 209,
    "start_time": "2024-08-03T23:05:06.548Z"
   },
   {
    "duration": 7,
    "start_time": "2024-08-03T23:05:14.663Z"
   },
   {
    "duration": 8,
    "start_time": "2024-08-03T23:08:30.744Z"
   },
   {
    "duration": 8,
    "start_time": "2024-08-03T23:09:02.633Z"
   },
   {
    "duration": 182,
    "start_time": "2024-08-03T23:09:21.309Z"
   },
   {
    "duration": 7,
    "start_time": "2024-08-03T23:10:37.452Z"
   },
   {
    "duration": 8,
    "start_time": "2024-08-03T23:10:48.063Z"
   },
   {
    "duration": 7,
    "start_time": "2024-08-03T23:10:48.990Z"
   },
   {
    "duration": 8,
    "start_time": "2024-08-03T23:11:32.081Z"
   },
   {
    "duration": 7,
    "start_time": "2024-08-03T23:11:32.608Z"
   },
   {
    "duration": 224,
    "start_time": "2024-08-03T23:11:33.756Z"
   },
   {
    "duration": 4,
    "start_time": "2024-08-03T23:14:06.711Z"
   },
   {
    "duration": 207,
    "start_time": "2024-08-03T23:14:15.902Z"
   },
   {
    "duration": 8,
    "start_time": "2024-08-03T23:14:31.668Z"
   },
   {
    "duration": 5,
    "start_time": "2024-08-03T23:14:34.200Z"
   },
   {
    "duration": 6,
    "start_time": "2024-08-03T23:14:54.292Z"
   },
   {
    "duration": 7,
    "start_time": "2024-08-03T23:15:02.053Z"
   },
   {
    "duration": 212,
    "start_time": "2024-08-03T23:16:14.891Z"
   },
   {
    "duration": 47,
    "start_time": "2024-08-03T23:16:20.025Z"
   },
   {
    "duration": 17,
    "start_time": "2024-08-03T23:16:27.962Z"
   },
   {
    "duration": 6,
    "start_time": "2024-08-03T23:21:03.957Z"
   },
   {
    "duration": 5,
    "start_time": "2024-08-03T23:21:11.293Z"
   },
   {
    "duration": 52,
    "start_time": "2024-08-03T23:21:12.229Z"
   },
   {
    "duration": 6,
    "start_time": "2024-08-03T23:21:13.494Z"
   },
   {
    "duration": 5,
    "start_time": "2024-08-03T23:21:13.760Z"
   },
   {
    "duration": 8,
    "start_time": "2024-08-03T23:21:14.115Z"
   },
   {
    "duration": 5,
    "start_time": "2024-08-03T23:21:14.463Z"
   },
   {
    "duration": 32,
    "start_time": "2024-08-03T23:21:14.783Z"
   },
   {
    "duration": 24,
    "start_time": "2024-08-03T23:21:15.333Z"
   },
   {
    "duration": 21,
    "start_time": "2024-08-03T23:21:15.516Z"
   },
   {
    "duration": 20,
    "start_time": "2024-08-03T23:21:16.513Z"
   },
   {
    "duration": 8,
    "start_time": "2024-08-03T23:21:18.856Z"
   },
   {
    "duration": 6,
    "start_time": "2024-08-03T23:21:19.483Z"
   },
   {
    "duration": 7,
    "start_time": "2024-08-03T23:21:20.021Z"
   },
   {
    "duration": 6,
    "start_time": "2024-08-03T23:21:20.966Z"
   },
   {
    "duration": 203,
    "start_time": "2024-08-03T23:21:21.814Z"
   },
   {
    "duration": 8,
    "start_time": "2024-08-03T23:21:23.803Z"
   },
   {
    "duration": 4,
    "start_time": "2024-08-03T23:21:26.776Z"
   },
   {
    "duration": 207,
    "start_time": "2024-08-03T23:21:27.172Z"
   },
   {
    "duration": 7,
    "start_time": "2024-08-03T23:21:30.605Z"
   },
   {
    "duration": 7,
    "start_time": "2024-08-03T23:21:30.930Z"
   },
   {
    "duration": 7,
    "start_time": "2024-08-03T23:21:31.556Z"
   },
   {
    "duration": 5,
    "start_time": "2024-08-03T23:22:26.810Z"
   },
   {
    "duration": 50,
    "start_time": "2024-08-03T23:22:26.959Z"
   },
   {
    "duration": 6,
    "start_time": "2024-08-03T23:22:27.605Z"
   },
   {
    "duration": 6,
    "start_time": "2024-08-03T23:22:27.635Z"
   },
   {
    "duration": 6,
    "start_time": "2024-08-03T23:22:27.668Z"
   },
   {
    "duration": 5,
    "start_time": "2024-08-03T23:22:27.696Z"
   },
   {
    "duration": 38,
    "start_time": "2024-08-03T23:22:27.725Z"
   },
   {
    "duration": 24,
    "start_time": "2024-08-03T23:22:27.854Z"
   },
   {
    "duration": 21,
    "start_time": "2024-08-03T23:22:27.984Z"
   },
   {
    "duration": 20,
    "start_time": "2024-08-03T23:22:28.129Z"
   },
   {
    "duration": 7,
    "start_time": "2024-08-03T23:22:28.505Z"
   },
   {
    "duration": 6,
    "start_time": "2024-08-03T23:22:28.656Z"
   },
   {
    "duration": 9,
    "start_time": "2024-08-03T23:22:28.844Z"
   },
   {
    "duration": 7,
    "start_time": "2024-08-03T23:22:28.927Z"
   },
   {
    "duration": 195,
    "start_time": "2024-08-03T23:22:29.082Z"
   },
   {
    "duration": 7,
    "start_time": "2024-08-03T23:22:29.307Z"
   },
   {
    "duration": 5,
    "start_time": "2024-08-03T23:22:29.809Z"
   },
   {
    "duration": 205,
    "start_time": "2024-08-03T23:22:29.958Z"
   },
   {
    "duration": 7,
    "start_time": "2024-08-03T23:22:30.696Z"
   },
   {
    "duration": 284,
    "start_time": "2024-08-03T23:22:31.575Z"
   },
   {
    "duration": 5,
    "start_time": "2024-08-03T23:22:32.092Z"
   },
   {
    "duration": 6,
    "start_time": "2024-08-03T23:22:33.960Z"
   },
   {
    "duration": 7,
    "start_time": "2024-08-03T23:22:55.299Z"
   },
   {
    "duration": 5,
    "start_time": "2024-08-03T23:22:57.599Z"
   },
   {
    "duration": 7,
    "start_time": "2024-08-03T23:23:56.785Z"
   },
   {
    "duration": 9,
    "start_time": "2024-08-03T23:24:18.161Z"
   },
   {
    "duration": 9,
    "start_time": "2024-08-03T23:24:40.027Z"
   },
   {
    "duration": 11,
    "start_time": "2024-08-03T23:24:48.036Z"
   },
   {
    "duration": 7,
    "start_time": "2024-08-03T23:25:15.969Z"
   },
   {
    "duration": 8,
    "start_time": "2024-08-03T23:25:54.792Z"
   },
   {
    "duration": 18,
    "start_time": "2024-08-03T23:26:07.250Z"
   },
   {
    "duration": 25,
    "start_time": "2024-08-03T23:26:24.246Z"
   },
   {
    "duration": 8,
    "start_time": "2024-08-03T23:26:30.778Z"
   },
   {
    "duration": 6,
    "start_time": "2024-08-03T23:26:43.096Z"
   },
   {
    "duration": 8,
    "start_time": "2024-08-03T23:26:58.374Z"
   },
   {
    "duration": 6,
    "start_time": "2024-08-03T23:27:26.847Z"
   },
   {
    "duration": 292,
    "start_time": "2024-08-03T23:27:33.047Z"
   },
   {
    "duration": 8,
    "start_time": "2024-08-03T23:28:26.464Z"
   },
   {
    "duration": 7,
    "start_time": "2024-08-03T23:28:26.880Z"
   },
   {
    "duration": 240,
    "start_time": "2024-08-03T23:28:27.504Z"
   },
   {
    "duration": 16,
    "start_time": "2024-08-03T23:28:35.630Z"
   },
   {
    "duration": 5,
    "start_time": "2024-08-03T23:43:02.545Z"
   },
   {
    "duration": 50,
    "start_time": "2024-08-03T23:43:02.713Z"
   },
   {
    "duration": 5,
    "start_time": "2024-08-03T23:43:02.999Z"
   },
   {
    "duration": 5,
    "start_time": "2024-08-03T23:43:03.135Z"
   },
   {
    "duration": 5,
    "start_time": "2024-08-03T23:43:03.260Z"
   },
   {
    "duration": 5,
    "start_time": "2024-08-03T23:43:03.566Z"
   },
   {
    "duration": 33,
    "start_time": "2024-08-03T23:43:04.062Z"
   },
   {
    "duration": 24,
    "start_time": "2024-08-03T23:43:04.102Z"
   },
   {
    "duration": 22,
    "start_time": "2024-08-03T23:43:04.133Z"
   },
   {
    "duration": 21,
    "start_time": "2024-08-03T23:43:04.168Z"
   },
   {
    "duration": 7,
    "start_time": "2024-08-03T23:43:04.346Z"
   },
   {
    "duration": 6,
    "start_time": "2024-08-03T23:43:04.492Z"
   },
   {
    "duration": 9,
    "start_time": "2024-08-03T23:43:04.658Z"
   },
   {
    "duration": 6,
    "start_time": "2024-08-03T23:43:04.772Z"
   },
   {
    "duration": 201,
    "start_time": "2024-08-03T23:43:04.955Z"
   },
   {
    "duration": 7,
    "start_time": "2024-08-03T23:43:05.159Z"
   },
   {
    "duration": 5,
    "start_time": "2024-08-03T23:43:05.429Z"
   },
   {
    "duration": 208,
    "start_time": "2024-08-03T23:43:05.584Z"
   },
   {
    "duration": 7,
    "start_time": "2024-08-03T23:43:05.795Z"
   },
   {
    "duration": 8,
    "start_time": "2024-08-03T23:43:05.889Z"
   },
   {
    "duration": 5,
    "start_time": "2024-08-03T23:43:06.062Z"
   },
   {
    "duration": 6,
    "start_time": "2024-08-03T23:43:06.229Z"
   },
   {
    "duration": 8,
    "start_time": "2024-08-03T23:43:09.015Z"
   },
   {
    "duration": 7,
    "start_time": "2024-08-03T23:43:09.212Z"
   },
   {
    "duration": 158,
    "start_time": "2024-08-03T23:43:09.397Z"
   },
   {
    "duration": 17,
    "start_time": "2024-08-03T23:43:09.837Z"
   },
   {
    "duration": 6,
    "start_time": "2024-08-03T23:43:10.907Z"
   },
   {
    "duration": 6,
    "start_time": "2024-08-03T23:43:11.077Z"
   },
   {
    "duration": 8,
    "start_time": "2024-08-03T23:43:11.249Z"
   },
   {
    "duration": 7,
    "start_time": "2024-08-03T23:43:11.403Z"
   },
   {
    "duration": 5,
    "start_time": "2024-08-03T23:43:11.718Z"
   },
   {
    "duration": 6,
    "start_time": "2024-08-03T23:43:11.867Z"
   },
   {
    "duration": 9,
    "start_time": "2024-08-03T23:43:12.000Z"
   },
   {
    "duration": 5,
    "start_time": "2024-08-03T23:43:12.150Z"
   },
   {
    "duration": 7,
    "start_time": "2024-08-03T23:43:12.301Z"
   },
   {
    "duration": 8,
    "start_time": "2024-08-03T23:43:12.454Z"
   },
   {
    "duration": 5,
    "start_time": "2024-08-03T23:43:12.605Z"
   },
   {
    "duration": 6,
    "start_time": "2024-08-03T23:43:12.756Z"
   },
   {
    "duration": 10,
    "start_time": "2024-08-03T23:43:12.882Z"
   },
   {
    "duration": 5,
    "start_time": "2024-08-03T23:43:13.020Z"
   },
   {
    "duration": 6,
    "start_time": "2024-08-03T23:43:13.170Z"
   },
   {
    "duration": 8,
    "start_time": "2024-08-03T23:43:13.508Z"
   },
   {
    "duration": 6,
    "start_time": "2024-08-03T23:43:13.731Z"
   },
   {
    "duration": 6,
    "start_time": "2024-08-03T23:43:14.265Z"
   },
   {
    "duration": 7,
    "start_time": "2024-08-03T23:43:14.656Z"
   },
   {
    "duration": 5,
    "start_time": "2024-08-03T23:43:15.165Z"
   },
   {
    "duration": 6,
    "start_time": "2024-08-03T23:43:15.377Z"
   },
   {
    "duration": 8,
    "start_time": "2024-08-03T23:43:15.548Z"
   },
   {
    "duration": 5,
    "start_time": "2024-08-03T23:43:15.830Z"
   },
   {
    "duration": 6,
    "start_time": "2024-08-03T23:43:16.038Z"
   },
   {
    "duration": 7,
    "start_time": "2024-08-03T23:43:16.264Z"
   },
   {
    "duration": 8,
    "start_time": "2024-08-03T23:43:16.485Z"
   },
   {
    "duration": 5,
    "start_time": "2024-08-03T23:43:17.020Z"
   },
   {
    "duration": 15,
    "start_time": "2024-08-03T23:43:19.700Z"
   },
   {
    "duration": 8,
    "start_time": "2024-08-03T23:44:49.839Z"
   },
   {
    "duration": 158,
    "start_time": "2024-08-03T23:45:04.756Z"
   },
   {
    "duration": 6,
    "start_time": "2024-08-03T23:46:45.684Z"
   },
   {
    "duration": 31,
    "start_time": "2024-08-03T23:47:02.162Z"
   },
   {
    "duration": 8,
    "start_time": "2024-08-03T23:47:51.750Z"
   },
   {
    "duration": 10,
    "start_time": "2024-08-03T23:47:52.581Z"
   },
   {
    "duration": 5,
    "start_time": "2024-08-03T23:47:58.775Z"
   },
   {
    "duration": 23,
    "start_time": "2024-08-03T23:48:14.635Z"
   },
   {
    "duration": 22,
    "start_time": "2024-08-03T23:48:25.439Z"
   },
   {
    "duration": 33,
    "start_time": "2024-08-03T23:49:47.395Z"
   },
   {
    "duration": 5,
    "start_time": "2024-08-03T23:49:48.658Z"
   },
   {
    "duration": 4,
    "start_time": "2024-08-03T23:50:36.236Z"
   },
   {
    "duration": 7,
    "start_time": "2024-08-03T23:56:42.192Z"
   },
   {
    "duration": 11,
    "start_time": "2024-08-03T23:56:42.504Z"
   },
   {
    "duration": 5,
    "start_time": "2024-08-03T23:56:42.757Z"
   },
   {
    "duration": 14,
    "start_time": "2024-08-03T23:56:44.462Z"
   },
   {
    "duration": 43,
    "start_time": "2024-08-03T23:56:46.492Z"
   },
   {
    "duration": 10,
    "start_time": "2024-08-03T23:56:47.192Z"
   },
   {
    "duration": 16,
    "start_time": "2024-08-04T00:03:23.357Z"
   },
   {
    "duration": 5,
    "start_time": "2024-08-04T00:18:40.843Z"
   },
   {
    "duration": 5,
    "start_time": "2024-08-04T00:42:45.294Z"
   },
   {
    "duration": 8,
    "start_time": "2024-08-04T00:42:50.647Z"
   },
   {
    "duration": 15,
    "start_time": "2024-08-04T00:47:26.740Z"
   },
   {
    "duration": 280,
    "start_time": "2024-08-04T00:48:03.532Z"
   },
   {
    "duration": 3270,
    "start_time": "2024-08-04T00:48:31.262Z"
   },
   {
    "duration": 17,
    "start_time": "2024-08-04T00:53:55.010Z"
   },
   {
    "duration": 15,
    "start_time": "2024-08-04T00:53:58.324Z"
   },
   {
    "duration": 5627,
    "start_time": "2024-08-04T00:57:18.444Z"
   },
   {
    "duration": 5226,
    "start_time": "2024-08-04T20:22:24.412Z"
   },
   {
    "duration": 113,
    "start_time": "2024-08-04T20:22:29.643Z"
   },
   {
    "duration": 8,
    "start_time": "2024-08-04T20:22:29.759Z"
   },
   {
    "duration": 6,
    "start_time": "2024-08-04T20:22:29.904Z"
   },
   {
    "duration": 6,
    "start_time": "2024-08-04T20:22:30.949Z"
   },
   {
    "duration": 6,
    "start_time": "2024-08-04T20:22:32.081Z"
   },
   {
    "duration": 36,
    "start_time": "2024-08-04T20:22:32.628Z"
   },
   {
    "duration": 30,
    "start_time": "2024-08-04T20:22:32.827Z"
   },
   {
    "duration": 24,
    "start_time": "2024-08-04T20:22:32.956Z"
   },
   {
    "duration": 23,
    "start_time": "2024-08-04T20:22:33.127Z"
   },
   {
    "duration": 8,
    "start_time": "2024-08-04T20:22:33.600Z"
   },
   {
    "duration": 6,
    "start_time": "2024-08-04T20:22:33.944Z"
   },
   {
    "duration": 10,
    "start_time": "2024-08-04T20:22:34.187Z"
   },
   {
    "duration": 9,
    "start_time": "2024-08-04T20:22:34.385Z"
   },
   {
    "duration": 224,
    "start_time": "2024-08-04T20:22:34.808Z"
   },
   {
    "duration": 8,
    "start_time": "2024-08-04T20:22:35.037Z"
   },
   {
    "duration": 4,
    "start_time": "2024-08-04T20:22:35.280Z"
   },
   {
    "duration": 215,
    "start_time": "2024-08-04T20:22:35.420Z"
   },
   {
    "duration": 8,
    "start_time": "2024-08-04T20:22:35.640Z"
   },
   {
    "duration": 8,
    "start_time": "2024-08-04T20:22:35.720Z"
   },
   {
    "duration": 5,
    "start_time": "2024-08-04T20:22:35.866Z"
   },
   {
    "duration": 7,
    "start_time": "2024-08-04T20:22:36.005Z"
   },
   {
    "duration": 9,
    "start_time": "2024-08-04T20:22:36.590Z"
   },
   {
    "duration": 16,
    "start_time": "2024-08-04T20:22:36.874Z"
   },
   {
    "duration": 6,
    "start_time": "2024-08-04T20:22:37.178Z"
   },
   {
    "duration": 6,
    "start_time": "2024-08-04T20:22:37.400Z"
   },
   {
    "duration": 8,
    "start_time": "2024-08-04T20:22:37.584Z"
   },
   {
    "duration": 7,
    "start_time": "2024-08-04T20:22:37.774Z"
   },
   {
    "duration": 4,
    "start_time": "2024-08-04T20:22:38.092Z"
   },
   {
    "duration": 6,
    "start_time": "2024-08-04T20:22:38.269Z"
   },
   {
    "duration": 8,
    "start_time": "2024-08-04T20:22:38.419Z"
   },
   {
    "duration": 5,
    "start_time": "2024-08-04T20:22:38.585Z"
   },
   {
    "duration": 6,
    "start_time": "2024-08-04T20:22:38.721Z"
   },
   {
    "duration": 8,
    "start_time": "2024-08-04T20:22:38.862Z"
   },
   {
    "duration": 6,
    "start_time": "2024-08-04T20:22:39.028Z"
   },
   {
    "duration": 6,
    "start_time": "2024-08-04T20:22:39.166Z"
   },
   {
    "duration": 10,
    "start_time": "2024-08-04T20:22:39.306Z"
   },
   {
    "duration": 5,
    "start_time": "2024-08-04T20:22:39.439Z"
   },
   {
    "duration": 6,
    "start_time": "2024-08-04T20:22:39.591Z"
   },
   {
    "duration": 9,
    "start_time": "2024-08-04T20:22:39.752Z"
   },
   {
    "duration": 5,
    "start_time": "2024-08-04T20:22:39.892Z"
   },
   {
    "duration": 7,
    "start_time": "2024-08-04T20:22:40.034Z"
   },
   {
    "duration": 8,
    "start_time": "2024-08-04T20:22:40.179Z"
   },
   {
    "duration": 5,
    "start_time": "2024-08-04T20:22:40.345Z"
   },
   {
    "duration": 7,
    "start_time": "2024-08-04T20:22:40.494Z"
   },
   {
    "duration": 9,
    "start_time": "2024-08-04T20:22:40.655Z"
   },
   {
    "duration": 5,
    "start_time": "2024-08-04T20:22:40.819Z"
   },
   {
    "duration": 7,
    "start_time": "2024-08-04T20:22:40.977Z"
   },
   {
    "duration": 7,
    "start_time": "2024-08-04T20:22:41.116Z"
   },
   {
    "duration": 9,
    "start_time": "2024-08-04T20:22:41.268Z"
   },
   {
    "duration": 5,
    "start_time": "2024-08-04T20:22:41.442Z"
   },
   {
    "duration": 15,
    "start_time": "2024-08-04T20:22:41.600Z"
   },
   {
    "duration": 10,
    "start_time": "2024-08-04T20:22:47.052Z"
   },
   {
    "duration": 183,
    "start_time": "2024-08-04T20:22:47.213Z"
   },
   {
    "duration": 6,
    "start_time": "2024-08-04T20:22:47.543Z"
   },
   {
    "duration": 8,
    "start_time": "2024-08-04T20:22:50.099Z"
   },
   {
    "duration": 6,
    "start_time": "2024-08-04T20:22:50.750Z"
   },
   {
    "duration": 24,
    "start_time": "2024-08-04T20:22:53.438Z"
   },
   {
    "duration": 35,
    "start_time": "2024-08-04T20:22:53.997Z"
   },
   {
    "duration": 6,
    "start_time": "2024-08-04T20:22:54.296Z"
   },
   {
    "duration": 4,
    "start_time": "2024-08-04T20:22:54.994Z"
   },
   {
    "duration": 20,
    "start_time": "2024-08-04T20:22:55.560Z"
   },
   {
    "duration": 7,
    "start_time": "2024-08-04T20:22:56.998Z"
   },
   {
    "duration": 9,
    "start_time": "2024-08-04T20:22:57.580Z"
   },
   {
    "duration": 16,
    "start_time": "2024-08-04T20:22:58.447Z"
   },
   {
    "duration": 273,
    "start_time": "2024-08-04T20:22:59.956Z"
   },
   {
    "duration": 5902,
    "start_time": "2024-08-04T20:23:00.512Z"
   },
   {
    "duration": 446,
    "start_time": "2024-08-04T20:23:33.456Z"
   },
   {
    "duration": 753,
    "start_time": "2024-08-04T20:25:38.657Z"
   },
   {
    "duration": 3205,
    "start_time": "2024-08-04T20:28:32.957Z"
   },
   {
    "duration": 14,
    "start_time": "2024-08-04T20:31:19.386Z"
   },
   {
    "duration": 2862,
    "start_time": "2024-08-04T20:33:16.836Z"
   },
   {
    "duration": 5,
    "start_time": "2024-08-04T20:34:10.290Z"
   },
   {
    "duration": 2942,
    "start_time": "2024-08-04T20:34:21.848Z"
   },
   {
    "duration": 2850,
    "start_time": "2024-08-04T20:37:16.492Z"
   },
   {
    "duration": 37,
    "start_time": "2024-08-04T20:39:40.218Z"
   },
   {
    "duration": 46,
    "start_time": "2024-08-04T20:42:22.259Z"
   },
   {
    "duration": 614,
    "start_time": "2024-08-04T20:42:43.651Z"
   },
   {
    "duration": 5,
    "start_time": "2024-08-04T21:14:53.006Z"
   },
   {
    "duration": 56,
    "start_time": "2024-08-04T21:14:58.044Z"
   },
   {
    "duration": 7,
    "start_time": "2024-08-04T21:14:59.636Z"
   },
   {
    "duration": 6,
    "start_time": "2024-08-04T21:15:00.119Z"
   },
   {
    "duration": 6,
    "start_time": "2024-08-04T21:15:00.409Z"
   },
   {
    "duration": 7,
    "start_time": "2024-08-04T21:15:00.731Z"
   },
   {
    "duration": 42,
    "start_time": "2024-08-04T21:15:01.386Z"
   },
   {
    "duration": 28,
    "start_time": "2024-08-04T21:15:02.889Z"
   },
   {
    "duration": 24,
    "start_time": "2024-08-04T21:15:11.066Z"
   },
   {
    "duration": 32,
    "start_time": "2024-08-04T21:15:16.388Z"
   },
   {
    "duration": 7,
    "start_time": "2024-08-04T21:15:41.712Z"
   },
   {
    "duration": 6,
    "start_time": "2024-08-04T21:15:42.448Z"
   },
   {
    "duration": 9,
    "start_time": "2024-08-04T21:15:43.120Z"
   },
   {
    "duration": 8,
    "start_time": "2024-08-04T21:15:48.017Z"
   },
   {
    "duration": 219,
    "start_time": "2024-08-04T21:15:52.676Z"
   },
   {
    "duration": 7,
    "start_time": "2024-08-04T21:15:57.410Z"
   },
   {
    "duration": 4,
    "start_time": "2024-08-04T21:16:09.466Z"
   },
   {
    "duration": 207,
    "start_time": "2024-08-04T21:16:09.729Z"
   },
   {
    "duration": 7,
    "start_time": "2024-08-04T21:16:10.190Z"
   },
   {
    "duration": 7,
    "start_time": "2024-08-04T21:16:22.289Z"
   },
   {
    "duration": 6,
    "start_time": "2024-08-04T21:16:22.721Z"
   },
   {
    "duration": 8,
    "start_time": "2024-08-04T21:16:23.528Z"
   },
   {
    "duration": 9,
    "start_time": "2024-08-04T21:16:49.516Z"
   },
   {
    "duration": 16,
    "start_time": "2024-08-04T21:17:14.835Z"
   },
   {
    "duration": 5,
    "start_time": "2024-08-04T21:17:26.164Z"
   },
   {
    "duration": 6,
    "start_time": "2024-08-04T21:17:26.406Z"
   },
   {
    "duration": 8,
    "start_time": "2024-08-04T21:17:26.593Z"
   },
   {
    "duration": 7,
    "start_time": "2024-08-04T21:17:26.831Z"
   },
   {
    "duration": 4,
    "start_time": "2024-08-04T21:17:34.122Z"
   },
   {
    "duration": 7,
    "start_time": "2024-08-04T21:17:34.424Z"
   },
   {
    "duration": 11,
    "start_time": "2024-08-04T21:17:34.688Z"
   },
   {
    "duration": 6,
    "start_time": "2024-08-04T21:17:35.255Z"
   },
   {
    "duration": 6,
    "start_time": "2024-08-04T21:17:35.655Z"
   },
   {
    "duration": 9,
    "start_time": "2024-08-04T21:17:35.971Z"
   },
   {
    "duration": 5,
    "start_time": "2024-08-04T21:17:36.148Z"
   },
   {
    "duration": 7,
    "start_time": "2024-08-04T21:17:36.291Z"
   },
   {
    "duration": 8,
    "start_time": "2024-08-04T21:17:36.488Z"
   },
   {
    "duration": 6,
    "start_time": "2024-08-04T21:17:36.849Z"
   },
   {
    "duration": 7,
    "start_time": "2024-08-04T21:17:36.994Z"
   },
   {
    "duration": 8,
    "start_time": "2024-08-04T21:17:37.349Z"
   },
   {
    "duration": 5,
    "start_time": "2024-08-04T21:17:37.492Z"
   },
   {
    "duration": 6,
    "start_time": "2024-08-04T21:17:37.645Z"
   },
   {
    "duration": 8,
    "start_time": "2024-08-04T21:17:37.792Z"
   },
   {
    "duration": 4,
    "start_time": "2024-08-04T21:17:38.169Z"
   },
   {
    "duration": 6,
    "start_time": "2024-08-04T21:17:38.601Z"
   },
   {
    "duration": 9,
    "start_time": "2024-08-04T21:17:38.753Z"
   },
   {
    "duration": 5,
    "start_time": "2024-08-04T21:17:38.893Z"
   },
   {
    "duration": 5,
    "start_time": "2024-08-04T21:17:39.043Z"
   },
   {
    "duration": 7,
    "start_time": "2024-08-04T21:17:39.190Z"
   },
   {
    "duration": 8,
    "start_time": "2024-08-04T21:17:39.533Z"
   },
   {
    "duration": 6,
    "start_time": "2024-08-04T21:17:39.664Z"
   },
   {
    "duration": 16,
    "start_time": "2024-08-04T21:17:39.834Z"
   },
   {
    "duration": 7,
    "start_time": "2024-08-04T21:18:03.694Z"
   },
   {
    "duration": 169,
    "start_time": "2024-08-04T21:18:05.503Z"
   },
   {
    "duration": 6,
    "start_time": "2024-08-04T21:18:22.474Z"
   },
   {
    "duration": 9,
    "start_time": "2024-08-04T21:18:38.011Z"
   },
   {
    "duration": 6,
    "start_time": "2024-08-04T21:18:38.669Z"
   },
   {
    "duration": 23,
    "start_time": "2024-08-04T21:18:47.092Z"
   },
   {
    "duration": 34,
    "start_time": "2024-08-04T21:18:59.014Z"
   },
   {
    "duration": 6,
    "start_time": "2024-08-04T21:18:59.544Z"
   },
   {
    "duration": 3,
    "start_time": "2024-08-04T21:19:04.260Z"
   },
   {
    "duration": 19,
    "start_time": "2024-08-04T21:19:04.847Z"
   },
   {
    "duration": 7,
    "start_time": "2024-08-04T21:20:00.243Z"
   },
   {
    "duration": 8,
    "start_time": "2024-08-04T21:20:05.083Z"
   },
   {
    "duration": 14,
    "start_time": "2024-08-04T21:20:07.778Z"
   },
   {
    "duration": 5575,
    "start_time": "2024-08-04T21:23:34.145Z"
   },
   {
    "duration": 46,
    "start_time": "2024-08-04T21:24:00.630Z"
   },
   {
    "duration": 18,
    "start_time": "2024-08-04T21:24:01.805Z"
   },
   {
    "duration": 18,
    "start_time": "2024-08-04T21:24:03.384Z"
   },
   {
    "duration": 16,
    "start_time": "2024-08-04T21:24:04.104Z"
   },
   {
    "duration": 5224,
    "start_time": "2024-08-07T02:22:20.506Z"
   },
   {
    "duration": 108,
    "start_time": "2024-08-07T02:22:25.735Z"
   },
   {
    "duration": 6,
    "start_time": "2024-08-07T02:22:31.244Z"
   },
   {
    "duration": 5,
    "start_time": "2024-08-07T02:22:31.836Z"
   },
   {
    "duration": 6,
    "start_time": "2024-08-07T02:22:32.281Z"
   },
   {
    "duration": 6,
    "start_time": "2024-08-07T02:22:32.689Z"
   },
   {
    "duration": 34,
    "start_time": "2024-08-07T02:22:38.998Z"
   },
   {
    "duration": 27,
    "start_time": "2024-08-07T02:22:39.816Z"
   },
   {
    "duration": 25,
    "start_time": "2024-08-07T02:22:47.339Z"
   },
   {
    "duration": 21,
    "start_time": "2024-08-07T02:22:52.918Z"
   },
   {
    "duration": 8,
    "start_time": "2024-08-07T02:23:01.115Z"
   },
   {
    "duration": 6,
    "start_time": "2024-08-07T02:23:02.124Z"
   },
   {
    "duration": 6,
    "start_time": "2024-08-07T02:23:02.941Z"
   },
   {
    "duration": 283,
    "start_time": "2024-08-07T02:23:05.910Z"
   },
   {
    "duration": 7,
    "start_time": "2024-08-07T02:23:19.588Z"
   },
   {
    "duration": 7,
    "start_time": "2024-08-07T02:23:59.717Z"
   },
   {
    "duration": 8,
    "start_time": "2024-08-07T02:24:02.414Z"
   },
   {
    "duration": 9,
    "start_time": "2024-08-07T02:24:03.318Z"
   },
   {
    "duration": 4,
    "start_time": "2024-08-07T02:26:07.650Z"
   },
   {
    "duration": 5,
    "start_time": "2024-08-07T02:26:08.149Z"
   },
   {
    "duration": 8,
    "start_time": "2024-08-07T02:26:16.105Z"
   },
   {
    "duration": 20,
    "start_time": "2024-08-07T02:26:35.326Z"
   },
   {
    "duration": 178,
    "start_time": "2024-08-07T02:26:54.567Z"
   },
   {
    "duration": 177,
    "start_time": "2024-08-07T02:27:55.871Z"
   },
   {
    "duration": 7,
    "start_time": "2024-08-07T02:28:08.122Z"
   },
   {
    "duration": 9,
    "start_time": "2024-08-07T02:28:18.838Z"
   },
   {
    "duration": 5,
    "start_time": "2024-08-07T02:28:20.002Z"
   },
   {
    "duration": 14,
    "start_time": "2024-08-07T02:29:23.986Z"
   },
   {
    "duration": 6,
    "start_time": "2024-08-07T02:29:28.313Z"
   },
   {
    "duration": 6,
    "start_time": "2024-08-07T02:29:28.449Z"
   },
   {
    "duration": 8,
    "start_time": "2024-08-07T02:29:28.581Z"
   },
   {
    "duration": 6,
    "start_time": "2024-08-07T02:29:28.699Z"
   },
   {
    "duration": 5,
    "start_time": "2024-08-07T02:29:28.954Z"
   },
   {
    "duration": 7,
    "start_time": "2024-08-07T02:29:29.093Z"
   },
   {
    "duration": 8,
    "start_time": "2024-08-07T02:29:29.364Z"
   },
   {
    "duration": 8,
    "start_time": "2024-08-07T02:29:29.513Z"
   },
   {
    "duration": 6,
    "start_time": "2024-08-07T02:29:29.652Z"
   },
   {
    "duration": 10,
    "start_time": "2024-08-07T02:29:29.787Z"
   },
   {
    "duration": 4,
    "start_time": "2024-08-07T02:29:29.934Z"
   },
   {
    "duration": 6,
    "start_time": "2024-08-07T02:29:30.064Z"
   },
   {
    "duration": 7,
    "start_time": "2024-08-07T02:29:30.194Z"
   },
   {
    "duration": 4,
    "start_time": "2024-08-07T02:29:30.332Z"
   },
   {
    "duration": 6,
    "start_time": "2024-08-07T02:29:30.480Z"
   },
   {
    "duration": 8,
    "start_time": "2024-08-07T02:29:30.626Z"
   },
   {
    "duration": 5,
    "start_time": "2024-08-07T02:29:30.773Z"
   },
   {
    "duration": 6,
    "start_time": "2024-08-07T02:29:30.943Z"
   },
   {
    "duration": 8,
    "start_time": "2024-08-07T02:29:31.091Z"
   },
   {
    "duration": 5,
    "start_time": "2024-08-07T02:29:31.235Z"
   },
   {
    "duration": 6,
    "start_time": "2024-08-07T02:29:31.383Z"
   },
   {
    "duration": 11,
    "start_time": "2024-08-07T02:29:31.534Z"
   },
   {
    "duration": 5,
    "start_time": "2024-08-07T02:29:31.707Z"
   },
   {
    "duration": 6,
    "start_time": "2024-08-07T02:29:31.869Z"
   },
   {
    "duration": 6,
    "start_time": "2024-08-07T02:29:32.004Z"
   },
   {
    "duration": 10,
    "start_time": "2024-08-07T02:29:32.140Z"
   },
   {
    "duration": 5,
    "start_time": "2024-08-07T02:29:32.305Z"
   },
   {
    "duration": 13,
    "start_time": "2024-08-07T02:29:32.422Z"
   },
   {
    "duration": 8,
    "start_time": "2024-08-07T02:29:41.957Z"
   },
   {
    "duration": 175,
    "start_time": "2024-08-07T02:29:42.530Z"
   },
   {
    "duration": 6,
    "start_time": "2024-08-07T02:29:44.567Z"
   },
   {
    "duration": 1819,
    "start_time": "2024-08-07T02:29:44.773Z"
   },
   {
    "duration": 0,
    "start_time": "2024-08-07T02:29:46.595Z"
   },
   {
    "duration": 7,
    "start_time": "2024-08-07T02:30:21.308Z"
   },
   {
    "duration": 23,
    "start_time": "2024-08-07T02:30:27.359Z"
   },
   {
    "duration": 28,
    "start_time": "2024-08-07T02:30:27.516Z"
   },
   {
    "duration": 6,
    "start_time": "2024-08-07T02:30:27.689Z"
   },
   {
    "duration": 3,
    "start_time": "2024-08-07T02:30:28.303Z"
   },
   {
    "duration": 19,
    "start_time": "2024-08-07T02:30:28.476Z"
   },
   {
    "duration": 7,
    "start_time": "2024-08-07T02:30:39.585Z"
   },
   {
    "duration": 24,
    "start_time": "2024-08-07T02:30:39.938Z"
   },
   {
    "duration": 13,
    "start_time": "2024-08-07T02:30:51.244Z"
   },
   {
    "duration": 14,
    "start_time": "2024-08-07T02:30:55.636Z"
   },
   {
    "duration": 6599,
    "start_time": "2024-08-07T02:30:57.129Z"
   },
   {
    "duration": 58,
    "start_time": "2024-08-07T02:31:03.732Z"
   },
   {
    "duration": 37,
    "start_time": "2024-08-07T02:31:03.792Z"
   },
   {
    "duration": 18,
    "start_time": "2024-08-07T02:31:03.833Z"
   },
   {
    "duration": 17,
    "start_time": "2024-08-07T02:31:03.854Z"
   },
   {
    "duration": 8,
    "start_time": "2024-08-07T02:41:31.892Z"
   },
   {
    "duration": 5,
    "start_time": "2024-08-07T02:41:37.852Z"
   },
   {
    "duration": 5,
    "start_time": "2024-08-07T02:54:17.054Z"
   },
   {
    "duration": 55,
    "start_time": "2024-08-07T02:54:17.199Z"
   },
   {
    "duration": 5,
    "start_time": "2024-08-07T02:54:17.463Z"
   },
   {
    "duration": 6,
    "start_time": "2024-08-07T02:54:17.584Z"
   },
   {
    "duration": 6,
    "start_time": "2024-08-07T02:54:17.716Z"
   },
   {
    "duration": 5,
    "start_time": "2024-08-07T02:54:17.852Z"
   },
   {
    "duration": 32,
    "start_time": "2024-08-07T02:54:18.012Z"
   },
   {
    "duration": 24,
    "start_time": "2024-08-07T02:54:18.147Z"
   },
   {
    "duration": 22,
    "start_time": "2024-08-07T02:54:18.281Z"
   },
   {
    "duration": 20,
    "start_time": "2024-08-07T02:54:18.443Z"
   },
   {
    "duration": 6,
    "start_time": "2024-08-07T02:54:18.908Z"
   },
   {
    "duration": 6,
    "start_time": "2024-08-07T02:54:19.066Z"
   },
   {
    "duration": 6,
    "start_time": "2024-08-07T02:54:19.238Z"
   },
   {
    "duration": 195,
    "start_time": "2024-08-07T02:54:19.381Z"
   },
   {
    "duration": 7,
    "start_time": "2024-08-07T02:54:19.579Z"
   },
   {
    "duration": 7,
    "start_time": "2024-08-07T02:54:19.869Z"
   },
   {
    "duration": 6,
    "start_time": "2024-08-07T02:54:20.024Z"
   },
   {
    "duration": 9,
    "start_time": "2024-08-07T02:54:20.699Z"
   },
   {
    "duration": 14,
    "start_time": "2024-08-07T02:54:20.975Z"
   },
   {
    "duration": 8,
    "start_time": "2024-08-07T02:54:21.464Z"
   },
   {
    "duration": 184,
    "start_time": "2024-08-07T02:54:21.612Z"
   },
   {
    "duration": 6,
    "start_time": "2024-08-07T02:54:21.961Z"
   },
   {
    "duration": 9,
    "start_time": "2024-08-07T02:54:22.123Z"
   },
   {
    "duration": 5,
    "start_time": "2024-08-07T02:54:22.289Z"
   },
   {
    "duration": 5,
    "start_time": "2024-08-07T02:54:22.689Z"
   },
   {
    "duration": 11,
    "start_time": "2024-08-07T02:54:22.881Z"
   },
   {
    "duration": 13,
    "start_time": "2024-08-07T02:54:23.221Z"
   },
   {
    "duration": 11,
    "start_time": "2024-08-07T02:54:23.380Z"
   },
   {
    "duration": 23,
    "start_time": "2024-08-07T02:54:25.279Z"
   },
   {
    "duration": 30,
    "start_time": "2024-08-07T02:54:25.496Z"
   },
   {
    "duration": 6,
    "start_time": "2024-08-07T02:54:25.638Z"
   },
   {
    "duration": 3,
    "start_time": "2024-08-07T02:54:25.930Z"
   },
   {
    "duration": 18,
    "start_time": "2024-08-07T02:54:26.095Z"
   },
   {
    "duration": 14,
    "start_time": "2024-08-07T02:54:26.566Z"
   },
   {
    "duration": 6504,
    "start_time": "2024-08-07T02:54:26.999Z"
   },
   {
    "duration": 53,
    "start_time": "2024-08-07T02:54:33.507Z"
   },
   {
    "duration": 17,
    "start_time": "2024-08-07T02:54:33.563Z"
   },
   {
    "duration": 44,
    "start_time": "2024-08-07T02:54:33.584Z"
   },
   {
    "duration": 23,
    "start_time": "2024-08-07T02:54:33.633Z"
   },
   {
    "duration": 18,
    "start_time": "2024-08-07T02:56:55.396Z"
   },
   {
    "duration": 11,
    "start_time": "2024-08-07T02:56:56.948Z"
   },
   {
    "duration": 24,
    "start_time": "2024-08-07T02:56:58.043Z"
   },
   {
    "duration": 25,
    "start_time": "2024-08-07T02:56:58.172Z"
   },
   {
    "duration": 5,
    "start_time": "2024-08-07T02:56:58.489Z"
   },
   {
    "duration": 23,
    "start_time": "2024-08-07T02:56:59.027Z"
   },
   {
    "duration": 17,
    "start_time": "2024-08-07T02:56:59.429Z"
   },
   {
    "duration": 14,
    "start_time": "2024-08-07T02:56:59.689Z"
   },
   {
    "duration": 6632,
    "start_time": "2024-08-07T02:56:59.973Z"
   },
   {
    "duration": 52,
    "start_time": "2024-08-07T02:57:06.609Z"
   },
   {
    "duration": 17,
    "start_time": "2024-08-07T02:57:06.664Z"
   },
   {
    "duration": 43,
    "start_time": "2024-08-07T02:57:06.684Z"
   },
   {
    "duration": 17,
    "start_time": "2024-08-07T02:57:06.730Z"
   },
   {
    "duration": 5235,
    "start_time": "2024-08-07T06:58:51.585Z"
   },
   {
    "duration": 89,
    "start_time": "2024-08-07T06:59:00.265Z"
   },
   {
    "duration": 7,
    "start_time": "2024-08-07T06:59:10.594Z"
   },
   {
    "duration": 6,
    "start_time": "2024-08-07T06:59:11.556Z"
   },
   {
    "duration": 5,
    "start_time": "2024-08-07T06:59:13.668Z"
   },
   {
    "duration": 5,
    "start_time": "2024-08-07T06:59:20.441Z"
   },
   {
    "duration": 33,
    "start_time": "2024-08-07T06:59:54.773Z"
   },
   {
    "duration": 27,
    "start_time": "2024-08-07T06:59:56.347Z"
   },
   {
    "duration": 25,
    "start_time": "2024-08-07T07:00:11.632Z"
   },
   {
    "duration": 20,
    "start_time": "2024-08-07T07:00:38.056Z"
   },
   {
    "duration": 8,
    "start_time": "2024-08-07T07:02:28.042Z"
   },
   {
    "duration": 5,
    "start_time": "2024-08-07T07:02:28.297Z"
   },
   {
    "duration": 6,
    "start_time": "2024-08-07T07:02:28.618Z"
   },
   {
    "duration": 212,
    "start_time": "2024-08-07T07:02:30.778Z"
   },
   {
    "duration": 5,
    "start_time": "2024-08-07T07:02:39.706Z"
   },
   {
    "duration": 7,
    "start_time": "2024-08-07T07:02:41.305Z"
   },
   {
    "duration": 6,
    "start_time": "2024-08-07T07:02:41.861Z"
   },
   {
    "duration": 8,
    "start_time": "2024-08-07T07:03:50.662Z"
   },
   {
    "duration": 15,
    "start_time": "2024-08-07T07:03:58.152Z"
   },
   {
    "duration": 18,
    "start_time": "2024-08-07T07:08:23.225Z"
   },
   {
    "duration": 177,
    "start_time": "2024-08-07T07:08:24.246Z"
   },
   {
    "duration": 6,
    "start_time": "2024-08-07T07:08:30.486Z"
   },
   {
    "duration": 8,
    "start_time": "2024-08-07T07:08:48.791Z"
   },
   {
    "duration": 5,
    "start_time": "2024-08-07T07:08:50.344Z"
   },
   {
    "duration": 416,
    "start_time": "2024-08-07T07:09:14.541Z"
   },
   {
    "duration": 6,
    "start_time": "2024-08-07T07:09:40.981Z"
   },
   {
    "duration": 11,
    "start_time": "2024-08-07T07:09:54.562Z"
   },
   {
    "duration": 122,
    "start_time": "2024-08-07T07:11:00.438Z"
   },
   {
    "duration": 26,
    "start_time": "2024-08-07T07:12:29.407Z"
   },
   {
    "duration": 16,
    "start_time": "2024-08-07T07:12:43.236Z"
   },
   {
    "duration": 22,
    "start_time": "2024-08-07T07:14:29.608Z"
   },
   {
    "duration": 23,
    "start_time": "2024-08-07T07:14:42.183Z"
   },
   {
    "duration": 14,
    "start_time": "2024-08-07T07:16:12.252Z"
   },
   {
    "duration": 28,
    "start_time": "2024-08-07T07:17:13.203Z"
   },
   {
    "duration": 6,
    "start_time": "2024-08-07T07:17:14.144Z"
   },
   {
    "duration": 5,
    "start_time": "2024-08-07T07:17:36.823Z"
   },
   {
    "duration": 10,
    "start_time": "2024-08-07T07:17:37.484Z"
   },
   {
    "duration": 25,
    "start_time": "2024-08-07T07:17:38.888Z"
   },
   {
    "duration": 16,
    "start_time": "2024-08-07T07:17:40.436Z"
   },
   {
    "duration": 4,
    "start_time": "2024-08-07T07:17:49.172Z"
   },
   {
    "duration": 18,
    "start_time": "2024-08-07T07:17:50.388Z"
   },
   {
    "duration": 53,
    "start_time": "2024-08-07T07:17:58.160Z"
   },
   {
    "duration": 1637,
    "start_time": "2024-08-07T07:18:57.017Z"
   },
   {
    "duration": 51,
    "start_time": "2024-08-07T07:18:58.658Z"
   },
   {
    "duration": 7,
    "start_time": "2024-08-07T07:18:58.712Z"
   },
   {
    "duration": 6,
    "start_time": "2024-08-07T07:18:58.731Z"
   },
   {
    "duration": 5,
    "start_time": "2024-08-07T07:18:58.744Z"
   },
   {
    "duration": 5,
    "start_time": "2024-08-07T07:18:58.752Z"
   },
   {
    "duration": 75,
    "start_time": "2024-08-07T07:18:58.760Z"
   },
   {
    "duration": 28,
    "start_time": "2024-08-07T07:18:58.838Z"
   },
   {
    "duration": 23,
    "start_time": "2024-08-07T07:18:58.869Z"
   },
   {
    "duration": 48,
    "start_time": "2024-08-07T07:18:58.895Z"
   },
   {
    "duration": 8,
    "start_time": "2024-08-07T07:18:58.946Z"
   },
   {
    "duration": 7,
    "start_time": "2024-08-07T07:18:58.957Z"
   },
   {
    "duration": 6,
    "start_time": "2024-08-07T07:18:58.967Z"
   },
   {
    "duration": 270,
    "start_time": "2024-08-07T07:18:58.981Z"
   },
   {
    "duration": 9,
    "start_time": "2024-08-07T07:18:59.254Z"
   },
   {
    "duration": 7,
    "start_time": "2024-08-07T07:18:59.266Z"
   },
   {
    "duration": 6,
    "start_time": "2024-08-07T07:18:59.276Z"
   },
   {
    "duration": 45,
    "start_time": "2024-08-07T07:18:59.285Z"
   },
   {
    "duration": 16,
    "start_time": "2024-08-07T07:18:59.334Z"
   },
   {
    "duration": 10,
    "start_time": "2024-08-07T07:18:59.352Z"
   },
   {
    "duration": 207,
    "start_time": "2024-08-07T07:18:59.365Z"
   },
   {
    "duration": 5,
    "start_time": "2024-08-07T07:18:59.575Z"
   },
   {
    "duration": 9,
    "start_time": "2024-08-07T07:18:59.583Z"
   },
   {
    "duration": 7,
    "start_time": "2024-08-07T07:18:59.594Z"
   },
   {
    "duration": 6,
    "start_time": "2024-08-07T07:18:59.632Z"
   },
   {
    "duration": 15,
    "start_time": "2024-08-07T07:18:59.641Z"
   },
   {
    "duration": 26,
    "start_time": "2024-08-07T07:18:59.659Z"
   },
   {
    "duration": 52,
    "start_time": "2024-08-07T07:18:59.688Z"
   },
   {
    "duration": 23,
    "start_time": "2024-08-07T07:18:59.743Z"
   },
   {
    "duration": 13,
    "start_time": "2024-08-07T07:18:59.769Z"
   },
   {
    "duration": 59,
    "start_time": "2024-08-07T07:18:59.784Z"
   },
   {
    "duration": 5,
    "start_time": "2024-08-07T07:18:59.846Z"
   },
   {
    "duration": 4,
    "start_time": "2024-08-07T07:18:59.854Z"
   },
   {
    "duration": 19,
    "start_time": "2024-08-07T07:18:59.862Z"
   },
   {
    "duration": 288,
    "start_time": "2024-08-07T07:18:59.884Z"
   },
   {
    "duration": 0,
    "start_time": "2024-08-07T07:19:00.175Z"
   },
   {
    "duration": 0,
    "start_time": "2024-08-07T07:19:00.177Z"
   },
   {
    "duration": 0,
    "start_time": "2024-08-07T07:19:00.179Z"
   },
   {
    "duration": 0,
    "start_time": "2024-08-07T07:19:00.182Z"
   },
   {
    "duration": 0,
    "start_time": "2024-08-07T07:19:00.185Z"
   },
   {
    "duration": 715,
    "start_time": "2024-08-07T07:20:33.927Z"
   },
   {
    "duration": 1596,
    "start_time": "2024-08-07T07:21:42.863Z"
   },
   {
    "duration": 51,
    "start_time": "2024-08-07T07:21:44.462Z"
   },
   {
    "duration": 18,
    "start_time": "2024-08-07T07:21:44.515Z"
   },
   {
    "duration": 8,
    "start_time": "2024-08-07T07:21:44.536Z"
   },
   {
    "duration": 6,
    "start_time": "2024-08-07T07:21:44.549Z"
   },
   {
    "duration": 6,
    "start_time": "2024-08-07T07:21:44.557Z"
   },
   {
    "duration": 79,
    "start_time": "2024-08-07T07:21:44.565Z"
   },
   {
    "duration": 27,
    "start_time": "2024-08-07T07:21:44.647Z"
   },
   {
    "duration": 22,
    "start_time": "2024-08-07T07:21:44.677Z"
   },
   {
    "duration": 44,
    "start_time": "2024-08-07T07:21:44.702Z"
   },
   {
    "duration": 9,
    "start_time": "2024-08-07T07:21:44.749Z"
   },
   {
    "duration": 9,
    "start_time": "2024-08-07T07:21:44.760Z"
   },
   {
    "duration": 7,
    "start_time": "2024-08-07T07:21:44.772Z"
   },
   {
    "duration": 214,
    "start_time": "2024-08-07T07:21:44.830Z"
   },
   {
    "duration": 7,
    "start_time": "2024-08-07T07:21:45.048Z"
   },
   {
    "duration": 8,
    "start_time": "2024-08-07T07:21:45.058Z"
   },
   {
    "duration": 6,
    "start_time": "2024-08-07T07:21:45.069Z"
   },
   {
    "duration": 9,
    "start_time": "2024-08-07T07:21:45.077Z"
   },
   {
    "duration": 15,
    "start_time": "2024-08-07T07:21:45.130Z"
   },
   {
    "duration": 9,
    "start_time": "2024-08-07T07:21:45.150Z"
   },
   {
    "duration": 201,
    "start_time": "2024-08-07T07:21:45.162Z"
   },
   {
    "duration": 6,
    "start_time": "2024-08-07T07:21:45.366Z"
   },
   {
    "duration": 9,
    "start_time": "2024-08-07T07:21:45.374Z"
   },
   {
    "duration": 6,
    "start_time": "2024-08-07T07:21:45.386Z"
   },
   {
    "duration": 40,
    "start_time": "2024-08-07T07:21:45.395Z"
   },
   {
    "duration": 12,
    "start_time": "2024-08-07T07:21:45.438Z"
   },
   {
    "duration": 26,
    "start_time": "2024-08-07T07:21:45.453Z"
   },
   {
    "duration": 48,
    "start_time": "2024-08-07T07:21:45.482Z"
   },
   {
    "duration": 22,
    "start_time": "2024-08-07T07:21:45.534Z"
   },
   {
    "duration": 14,
    "start_time": "2024-08-07T07:21:45.559Z"
   },
   {
    "duration": 61,
    "start_time": "2024-08-07T07:21:45.575Z"
   },
   {
    "duration": 6,
    "start_time": "2024-08-07T07:21:45.639Z"
   },
   {
    "duration": 4,
    "start_time": "2024-08-07T07:21:45.648Z"
   },
   {
    "duration": 19,
    "start_time": "2024-08-07T07:21:45.655Z"
   },
   {
    "duration": 939,
    "start_time": "2024-08-07T07:21:45.677Z"
   },
   {
    "duration": 0,
    "start_time": "2024-08-07T07:21:46.618Z"
   },
   {
    "duration": 0,
    "start_time": "2024-08-07T07:21:46.621Z"
   },
   {
    "duration": 0,
    "start_time": "2024-08-07T07:21:46.630Z"
   },
   {
    "duration": 0,
    "start_time": "2024-08-07T07:21:46.632Z"
   },
   {
    "duration": 0,
    "start_time": "2024-08-07T07:21:46.634Z"
   },
   {
    "duration": 52,
    "start_time": "2024-08-07T07:22:38.033Z"
   },
   {
    "duration": 5,
    "start_time": "2024-08-07T07:23:37.587Z"
   },
   {
    "duration": 49,
    "start_time": "2024-08-07T07:23:38.330Z"
   },
   {
    "duration": 5,
    "start_time": "2024-08-07T07:23:38.614Z"
   },
   {
    "duration": 5,
    "start_time": "2024-08-07T07:23:38.746Z"
   },
   {
    "duration": 6,
    "start_time": "2024-08-07T07:23:38.893Z"
   },
   {
    "duration": 6,
    "start_time": "2024-08-07T07:23:39.029Z"
   },
   {
    "duration": 32,
    "start_time": "2024-08-07T07:23:39.349Z"
   },
   {
    "duration": 24,
    "start_time": "2024-08-07T07:23:39.490Z"
   },
   {
    "duration": 21,
    "start_time": "2024-08-07T07:23:39.625Z"
   },
   {
    "duration": 20,
    "start_time": "2024-08-07T07:23:39.868Z"
   },
   {
    "duration": 8,
    "start_time": "2024-08-07T07:23:40.297Z"
   },
   {
    "duration": 6,
    "start_time": "2024-08-07T07:23:40.432Z"
   },
   {
    "duration": 6,
    "start_time": "2024-08-07T07:23:40.567Z"
   },
   {
    "duration": 191,
    "start_time": "2024-08-07T07:23:40.699Z"
   },
   {
    "duration": 7,
    "start_time": "2024-08-07T07:23:40.893Z"
   },
   {
    "duration": 7,
    "start_time": "2024-08-07T07:23:41.113Z"
   },
   {
    "duration": 6,
    "start_time": "2024-08-07T07:23:41.388Z"
   },
   {
    "duration": 8,
    "start_time": "2024-08-07T07:23:41.955Z"
   },
   {
    "duration": 15,
    "start_time": "2024-08-07T07:23:43.113Z"
   },
   {
    "duration": 8,
    "start_time": "2024-08-07T07:23:46.196Z"
   },
   {
    "duration": 174,
    "start_time": "2024-08-07T07:23:46.424Z"
   },
   {
    "duration": 7,
    "start_time": "2024-08-07T07:23:49.367Z"
   },
   {
    "duration": 9,
    "start_time": "2024-08-07T07:23:49.509Z"
   },
   {
    "duration": 5,
    "start_time": "2024-08-07T07:23:54.482Z"
   },
   {
    "duration": 6,
    "start_time": "2024-08-07T07:24:59.212Z"
   },
   {
    "duration": 10,
    "start_time": "2024-08-07T07:24:59.807Z"
   },
   {
    "duration": 20,
    "start_time": "2024-08-07T07:25:49.757Z"
   },
   {
    "duration": 19,
    "start_time": "2024-08-07T07:25:52.718Z"
   },
   {
    "duration": 28,
    "start_time": "2024-08-07T07:25:53.897Z"
   },
   {
    "duration": 6,
    "start_time": "2024-08-07T07:25:55.557Z"
   },
   {
    "duration": 19,
    "start_time": "2024-08-07T07:26:01.557Z"
   },
   {
    "duration": 8,
    "start_time": "2024-08-07T07:28:37.896Z"
   },
   {
    "duration": 13,
    "start_time": "2024-08-07T07:29:03.773Z"
   },
   {
    "duration": 7,
    "start_time": "2024-08-07T07:29:39.920Z"
   },
   {
    "duration": 6,
    "start_time": "2024-08-07T07:31:15.948Z"
   },
   {
    "duration": 10,
    "start_time": "2024-08-07T07:31:16.544Z"
   },
   {
    "duration": 24,
    "start_time": "2024-08-07T07:31:21.079Z"
   },
   {
    "duration": 17,
    "start_time": "2024-08-07T07:31:21.716Z"
   },
   {
    "duration": 21,
    "start_time": "2024-08-07T07:31:24.373Z"
   },
   {
    "duration": 13,
    "start_time": "2024-08-07T07:31:25.551Z"
   },
   {
    "duration": 33,
    "start_time": "2024-08-07T07:31:44.890Z"
   },
   {
    "duration": 5,
    "start_time": "2024-08-07T07:31:45.182Z"
   },
   {
    "duration": 4,
    "start_time": "2024-08-07T07:31:47.096Z"
   },
   {
    "duration": 19,
    "start_time": "2024-08-07T07:31:48.492Z"
   },
   {
    "duration": 47,
    "start_time": "2024-08-07T07:31:58.143Z"
   },
   {
    "duration": 106,
    "start_time": "2024-08-07T07:32:43.055Z"
   },
   {
    "duration": 5,
    "start_time": "2024-08-07T07:33:27.419Z"
   },
   {
    "duration": 49,
    "start_time": "2024-08-07T07:33:27.965Z"
   },
   {
    "duration": 6,
    "start_time": "2024-08-07T07:33:28.495Z"
   },
   {
    "duration": 5,
    "start_time": "2024-08-07T07:33:28.635Z"
   },
   {
    "duration": 5,
    "start_time": "2024-08-07T07:33:28.777Z"
   },
   {
    "duration": 5,
    "start_time": "2024-08-07T07:33:28.929Z"
   },
   {
    "duration": 31,
    "start_time": "2024-08-07T07:33:29.099Z"
   },
   {
    "duration": 25,
    "start_time": "2024-08-07T07:33:29.881Z"
   },
   {
    "duration": 22,
    "start_time": "2024-08-07T07:33:30.861Z"
   },
   {
    "duration": 20,
    "start_time": "2024-08-07T07:33:36.484Z"
   },
   {
    "duration": 7,
    "start_time": "2024-08-07T07:33:38.521Z"
   },
   {
    "duration": 6,
    "start_time": "2024-08-07T07:33:39.041Z"
   },
   {
    "duration": 7,
    "start_time": "2024-08-07T07:33:39.205Z"
   },
   {
    "duration": 191,
    "start_time": "2024-08-07T07:33:39.353Z"
   },
   {
    "duration": 7,
    "start_time": "2024-08-07T07:33:39.547Z"
   },
   {
    "duration": 9,
    "start_time": "2024-08-07T07:33:46.096Z"
   },
   {
    "duration": 6,
    "start_time": "2024-08-07T07:33:46.428Z"
   },
   {
    "duration": 8,
    "start_time": "2024-08-07T07:33:50.785Z"
   },
   {
    "duration": 15,
    "start_time": "2024-08-07T07:33:55.916Z"
   },
   {
    "duration": 8,
    "start_time": "2024-08-07T07:34:03.529Z"
   },
   {
    "duration": 169,
    "start_time": "2024-08-07T07:34:04.576Z"
   },
   {
    "duration": 5,
    "start_time": "2024-08-07T07:34:13.028Z"
   },
   {
    "duration": 8,
    "start_time": "2024-08-07T07:34:13.631Z"
   },
   {
    "duration": 5,
    "start_time": "2024-08-07T07:34:15.386Z"
   },
   {
    "duration": 28,
    "start_time": "2024-08-07T07:35:38.107Z"
   },
   {
    "duration": 5,
    "start_time": "2024-08-07T07:35:39.616Z"
   },
   {
    "duration": 3,
    "start_time": "2024-08-07T07:35:45.344Z"
   },
   {
    "duration": 18,
    "start_time": "2024-08-07T07:35:46.487Z"
   },
   {
    "duration": 24,
    "start_time": "2024-08-07T07:36:58.184Z"
   },
   {
    "duration": 6,
    "start_time": "2024-08-07T07:37:13.568Z"
   },
   {
    "duration": 10,
    "start_time": "2024-08-07T07:37:14.758Z"
   },
   {
    "duration": 18,
    "start_time": "2024-08-07T07:37:30.285Z"
   },
   {
    "duration": 10,
    "start_time": "2024-08-07T07:37:31.172Z"
   },
   {
    "duration": 7,
    "start_time": "2024-08-07T07:37:37.256Z"
   },
   {
    "duration": 6377,
    "start_time": "2024-08-07T07:37:43.802Z"
   },
   {
    "duration": 51,
    "start_time": "2024-08-07T07:37:50.182Z"
   },
   {
    "duration": 18,
    "start_time": "2024-08-07T07:37:50.235Z"
   },
   {
    "duration": 17,
    "start_time": "2024-08-07T07:37:50.257Z"
   },
   {
    "duration": 53,
    "start_time": "2024-08-07T07:37:50.277Z"
   },
   {
    "duration": 1639,
    "start_time": "2024-08-07T07:43:10.320Z"
   },
   {
    "duration": 53,
    "start_time": "2024-08-07T07:43:11.963Z"
   },
   {
    "duration": 23,
    "start_time": "2024-08-07T07:43:12.019Z"
   },
   {
    "duration": 6,
    "start_time": "2024-08-07T07:43:12.051Z"
   },
   {
    "duration": 5,
    "start_time": "2024-08-07T07:43:12.063Z"
   },
   {
    "duration": 6,
    "start_time": "2024-08-07T07:43:12.071Z"
   },
   {
    "duration": 73,
    "start_time": "2024-08-07T07:43:12.080Z"
   },
   {
    "duration": 27,
    "start_time": "2024-08-07T07:43:12.157Z"
   },
   {
    "duration": 48,
    "start_time": "2024-08-07T07:43:12.187Z"
   },
   {
    "duration": 23,
    "start_time": "2024-08-07T07:43:12.240Z"
   },
   {
    "duration": 8,
    "start_time": "2024-08-07T07:43:12.266Z"
   },
   {
    "duration": 6,
    "start_time": "2024-08-07T07:43:12.277Z"
   },
   {
    "duration": 45,
    "start_time": "2024-08-07T07:43:12.287Z"
   },
   {
    "duration": 234,
    "start_time": "2024-08-07T07:43:12.341Z"
   },
   {
    "duration": 7,
    "start_time": "2024-08-07T07:43:12.578Z"
   },
   {
    "duration": 9,
    "start_time": "2024-08-07T07:43:12.588Z"
   },
   {
    "duration": 31,
    "start_time": "2024-08-07T07:43:12.601Z"
   },
   {
    "duration": 12,
    "start_time": "2024-08-07T07:43:12.635Z"
   },
   {
    "duration": 16,
    "start_time": "2024-08-07T07:43:12.650Z"
   },
   {
    "duration": 3,
    "start_time": "2024-08-07T07:43:12.669Z"
   },
   {
    "duration": 4,
    "start_time": "2024-08-07T07:43:12.675Z"
   },
   {
    "duration": 51,
    "start_time": "2024-08-07T07:43:12.682Z"
   },
   {
    "duration": 198,
    "start_time": "2024-08-07T07:43:12.737Z"
   },
   {
    "duration": 6,
    "start_time": "2024-08-07T07:43:12.941Z"
   },
   {
    "duration": 8,
    "start_time": "2024-08-07T07:43:12.951Z"
   },
   {
    "duration": 6,
    "start_time": "2024-08-07T07:43:12.962Z"
   },
   {
    "duration": 69,
    "start_time": "2024-08-07T07:43:12.972Z"
   },
   {
    "duration": 5,
    "start_time": "2024-08-07T07:43:13.045Z"
   },
   {
    "duration": 5,
    "start_time": "2024-08-07T07:43:13.054Z"
   },
   {
    "duration": 18,
    "start_time": "2024-08-07T07:43:13.064Z"
   },
   {
    "duration": 46,
    "start_time": "2024-08-07T07:43:13.085Z"
   },
   {
    "duration": 10,
    "start_time": "2024-08-07T07:43:13.135Z"
   },
   {
    "duration": 19,
    "start_time": "2024-08-07T07:43:13.148Z"
   },
   {
    "duration": 11,
    "start_time": "2024-08-07T07:43:13.170Z"
   },
   {
    "duration": 6,
    "start_time": "2024-08-07T07:43:13.184Z"
   },
   {
    "duration": 6445,
    "start_time": "2024-08-07T07:43:13.232Z"
   },
   {
    "duration": 51,
    "start_time": "2024-08-07T07:43:19.680Z"
   },
   {
    "duration": 17,
    "start_time": "2024-08-07T07:43:19.734Z"
   },
   {
    "duration": 18,
    "start_time": "2024-08-07T07:43:19.754Z"
   },
   {
    "duration": 18,
    "start_time": "2024-08-07T07:43:19.775Z"
   },
   {
    "duration": 10,
    "start_time": "2024-08-07T07:44:20.739Z"
   },
   {
    "duration": 9,
    "start_time": "2024-08-07T07:47:26.190Z"
   },
   {
    "duration": 10,
    "start_time": "2024-08-07T07:47:27.935Z"
   },
   {
    "duration": 9,
    "start_time": "2024-08-07T07:47:28.841Z"
   },
   {
    "duration": 1637,
    "start_time": "2024-08-07T07:47:40.228Z"
   },
   {
    "duration": 50,
    "start_time": "2024-08-07T07:47:41.868Z"
   },
   {
    "duration": 9,
    "start_time": "2024-08-07T07:47:41.921Z"
   },
   {
    "duration": 7,
    "start_time": "2024-08-07T07:47:41.933Z"
   },
   {
    "duration": 6,
    "start_time": "2024-08-07T07:47:41.946Z"
   },
   {
    "duration": 6,
    "start_time": "2024-08-07T07:47:41.955Z"
   },
   {
    "duration": 92,
    "start_time": "2024-08-07T07:47:41.964Z"
   },
   {
    "duration": 31,
    "start_time": "2024-08-07T07:47:42.060Z"
   },
   {
    "duration": 49,
    "start_time": "2024-08-07T07:47:42.093Z"
   },
   {
    "duration": 21,
    "start_time": "2024-08-07T07:47:42.145Z"
   },
   {
    "duration": 8,
    "start_time": "2024-08-07T07:47:42.168Z"
   },
   {
    "duration": 8,
    "start_time": "2024-08-07T07:47:42.179Z"
   },
   {
    "duration": 45,
    "start_time": "2024-08-07T07:47:42.190Z"
   },
   {
    "duration": 236,
    "start_time": "2024-08-07T07:47:42.246Z"
   },
   {
    "duration": 6,
    "start_time": "2024-08-07T07:47:42.485Z"
   },
   {
    "duration": 8,
    "start_time": "2024-08-07T07:47:42.494Z"
   },
   {
    "duration": 23,
    "start_time": "2024-08-07T07:47:42.510Z"
   },
   {
    "duration": 11,
    "start_time": "2024-08-07T07:47:42.536Z"
   },
   {
    "duration": 15,
    "start_time": "2024-08-07T07:47:42.550Z"
   },
   {
    "duration": 3,
    "start_time": "2024-08-07T07:47:42.568Z"
   },
   {
    "duration": 3,
    "start_time": "2024-08-07T07:47:42.575Z"
   },
   {
    "duration": 11,
    "start_time": "2024-08-07T07:47:42.632Z"
   },
   {
    "duration": 196,
    "start_time": "2024-08-07T07:47:42.646Z"
   },
   {
    "duration": 7,
    "start_time": "2024-08-07T07:47:42.845Z"
   },
   {
    "duration": 8,
    "start_time": "2024-08-07T07:47:42.855Z"
   },
   {
    "duration": 6,
    "start_time": "2024-08-07T07:47:42.865Z"
   },
   {
    "duration": 67,
    "start_time": "2024-08-07T07:47:42.875Z"
   },
   {
    "duration": 5,
    "start_time": "2024-08-07T07:47:42.945Z"
   },
   {
    "duration": 4,
    "start_time": "2024-08-07T07:47:42.953Z"
   },
   {
    "duration": 20,
    "start_time": "2024-08-07T07:47:42.960Z"
   },
   {
    "duration": 49,
    "start_time": "2024-08-07T07:47:42.983Z"
   },
   {
    "duration": 12,
    "start_time": "2024-08-07T07:47:43.035Z"
   },
   {
    "duration": 10,
    "start_time": "2024-08-07T07:47:43.050Z"
   },
   {
    "duration": 11,
    "start_time": "2024-08-07T07:47:43.063Z"
   },
   {
    "duration": 10,
    "start_time": "2024-08-07T07:47:43.076Z"
   },
   {
    "duration": 7,
    "start_time": "2024-08-07T07:47:43.132Z"
   },
   {
    "duration": 6446,
    "start_time": "2024-08-07T07:47:43.142Z"
   },
   {
    "duration": 51,
    "start_time": "2024-08-07T07:47:49.591Z"
   },
   {
    "duration": 18,
    "start_time": "2024-08-07T07:47:49.644Z"
   },
   {
    "duration": 17,
    "start_time": "2024-08-07T07:47:49.665Z"
   },
   {
    "duration": 52,
    "start_time": "2024-08-07T07:47:49.689Z"
   },
   {
    "duration": 9,
    "start_time": "2024-08-07T07:48:32.044Z"
   },
   {
    "duration": 9,
    "start_time": "2024-08-07T07:48:43.647Z"
   },
   {
    "duration": 1595,
    "start_time": "2024-08-07T07:50:21.960Z"
   },
   {
    "duration": 52,
    "start_time": "2024-08-07T07:50:23.559Z"
   },
   {
    "duration": 7,
    "start_time": "2024-08-07T07:50:23.613Z"
   },
   {
    "duration": 6,
    "start_time": "2024-08-07T07:50:23.631Z"
   },
   {
    "duration": 5,
    "start_time": "2024-08-07T07:50:23.640Z"
   },
   {
    "duration": 6,
    "start_time": "2024-08-07T07:50:23.649Z"
   },
   {
    "duration": 73,
    "start_time": "2024-08-07T07:50:23.658Z"
   },
   {
    "duration": 28,
    "start_time": "2024-08-07T07:50:23.733Z"
   },
   {
    "duration": 23,
    "start_time": "2024-08-07T07:50:23.764Z"
   },
   {
    "duration": 55,
    "start_time": "2024-08-07T07:50:23.794Z"
   },
   {
    "duration": 8,
    "start_time": "2024-08-07T07:50:23.851Z"
   },
   {
    "duration": 8,
    "start_time": "2024-08-07T07:50:23.862Z"
   },
   {
    "duration": 7,
    "start_time": "2024-08-07T07:50:23.872Z"
   },
   {
    "duration": 255,
    "start_time": "2024-08-07T07:50:23.882Z"
   },
   {
    "duration": 7,
    "start_time": "2024-08-07T07:50:24.140Z"
   },
   {
    "duration": 8,
    "start_time": "2024-08-07T07:50:24.150Z"
   },
   {
    "duration": 7,
    "start_time": "2024-08-07T07:50:24.160Z"
   },
   {
    "duration": 8,
    "start_time": "2024-08-07T07:50:24.170Z"
   },
   {
    "duration": 57,
    "start_time": "2024-08-07T07:50:24.181Z"
   },
   {
    "duration": 11,
    "start_time": "2024-08-07T07:50:24.241Z"
   },
   {
    "duration": 7,
    "start_time": "2024-08-07T07:50:24.255Z"
   },
   {
    "duration": 9,
    "start_time": "2024-08-07T07:50:24.266Z"
   },
   {
    "duration": 233,
    "start_time": "2024-08-07T07:50:24.278Z"
   },
   {
    "duration": 6,
    "start_time": "2024-08-07T07:50:24.513Z"
   },
   {
    "duration": 6,
    "start_time": "2024-08-07T07:50:24.532Z"
   },
   {
    "duration": 6,
    "start_time": "2024-08-07T07:50:24.541Z"
   },
   {
    "duration": 29,
    "start_time": "2024-08-07T07:50:24.551Z"
   },
   {
    "duration": 43,
    "start_time": "2024-08-07T07:50:24.587Z"
   },
   {
    "duration": 3,
    "start_time": "2024-08-07T07:50:24.633Z"
   },
   {
    "duration": 23,
    "start_time": "2024-08-07T07:50:24.639Z"
   },
   {
    "duration": 8,
    "start_time": "2024-08-07T07:50:24.664Z"
   },
   {
    "duration": 11,
    "start_time": "2024-08-07T07:50:24.675Z"
   },
   {
    "duration": 51,
    "start_time": "2024-08-07T07:50:24.689Z"
   },
   {
    "duration": 12,
    "start_time": "2024-08-07T07:50:24.744Z"
   },
   {
    "duration": 13,
    "start_time": "2024-08-07T07:50:24.759Z"
   },
   {
    "duration": 9,
    "start_time": "2024-08-07T07:50:24.777Z"
   },
   {
    "duration": 46,
    "start_time": "2024-08-07T07:50:24.789Z"
   },
   {
    "duration": 6497,
    "start_time": "2024-08-07T07:50:24.838Z"
   },
   {
    "duration": 51,
    "start_time": "2024-08-07T07:50:31.338Z"
   },
   {
    "duration": 39,
    "start_time": "2024-08-07T07:50:31.392Z"
   },
   {
    "duration": 19,
    "start_time": "2024-08-07T07:50:31.434Z"
   },
   {
    "duration": 17,
    "start_time": "2024-08-07T07:50:31.457Z"
   },
   {
    "duration": 5,
    "start_time": "2024-08-07T07:53:06.434Z"
   },
   {
    "duration": 424,
    "start_time": "2024-08-07T07:58:03.592Z"
   },
   {
    "duration": 7,
    "start_time": "2024-08-07T07:59:48.568Z"
   },
   {
    "duration": 6,
    "start_time": "2024-08-07T08:00:02.271Z"
   },
   {
    "duration": 5,
    "start_time": "2024-08-07T08:03:03.210Z"
   },
   {
    "duration": 1646,
    "start_time": "2024-08-07T08:04:30.307Z"
   },
   {
    "duration": 55,
    "start_time": "2024-08-07T08:04:31.956Z"
   },
   {
    "duration": 7,
    "start_time": "2024-08-07T08:04:32.017Z"
   },
   {
    "duration": 8,
    "start_time": "2024-08-07T08:04:32.030Z"
   },
   {
    "duration": 11,
    "start_time": "2024-08-07T08:04:32.042Z"
   },
   {
    "duration": 7,
    "start_time": "2024-08-07T08:04:32.057Z"
   },
   {
    "duration": 82,
    "start_time": "2024-08-07T08:04:32.068Z"
   },
   {
    "duration": 26,
    "start_time": "2024-08-07T08:04:32.153Z"
   },
   {
    "duration": 21,
    "start_time": "2024-08-07T08:04:32.182Z"
   },
   {
    "duration": 23,
    "start_time": "2024-08-07T08:04:32.230Z"
   },
   {
    "duration": 8,
    "start_time": "2024-08-07T08:04:32.256Z"
   },
   {
    "duration": 6,
    "start_time": "2024-08-07T08:04:32.267Z"
   },
   {
    "duration": 7,
    "start_time": "2024-08-07T08:04:32.276Z"
   },
   {
    "duration": 233,
    "start_time": "2024-08-07T08:04:32.332Z"
   },
   {
    "duration": 6,
    "start_time": "2024-08-07T08:04:32.569Z"
   },
   {
    "duration": 11,
    "start_time": "2024-08-07T08:04:32.579Z"
   },
   {
    "duration": 37,
    "start_time": "2024-08-07T08:04:32.593Z"
   },
   {
    "duration": 10,
    "start_time": "2024-08-07T08:04:32.634Z"
   },
   {
    "duration": 15,
    "start_time": "2024-08-07T08:04:32.650Z"
   },
   {
    "duration": 11,
    "start_time": "2024-08-07T08:04:32.668Z"
   },
   {
    "duration": 50,
    "start_time": "2024-08-07T08:04:32.682Z"
   },
   {
    "duration": 9,
    "start_time": "2024-08-07T08:04:32.736Z"
   },
   {
    "duration": 196,
    "start_time": "2024-08-07T08:04:32.747Z"
   },
   {
    "duration": 6,
    "start_time": "2024-08-07T08:04:32.946Z"
   },
   {
    "duration": 6,
    "start_time": "2024-08-07T08:04:32.961Z"
   },
   {
    "duration": 8,
    "start_time": "2024-08-07T08:04:32.969Z"
   },
   {
    "duration": 67,
    "start_time": "2024-08-07T08:04:32.980Z"
   },
   {
    "duration": 8,
    "start_time": "2024-08-07T08:04:33.055Z"
   },
   {
    "duration": 3,
    "start_time": "2024-08-07T08:04:33.066Z"
   },
   {
    "duration": 20,
    "start_time": "2024-08-07T08:04:33.072Z"
   },
   {
    "duration": 40,
    "start_time": "2024-08-07T08:04:33.095Z"
   },
   {
    "duration": 12,
    "start_time": "2024-08-07T08:04:33.138Z"
   },
   {
    "duration": 11,
    "start_time": "2024-08-07T08:04:33.152Z"
   },
   {
    "duration": 12,
    "start_time": "2024-08-07T08:04:33.166Z"
   },
   {
    "duration": 51,
    "start_time": "2024-08-07T08:04:33.181Z"
   },
   {
    "duration": 10,
    "start_time": "2024-08-07T08:04:33.235Z"
   },
   {
    "duration": 7,
    "start_time": "2024-08-07T08:04:33.248Z"
   },
   {
    "duration": 452,
    "start_time": "2024-08-07T08:04:33.258Z"
   },
   {
    "duration": 0,
    "start_time": "2024-08-07T08:04:33.713Z"
   },
   {
    "duration": 0,
    "start_time": "2024-08-07T08:04:33.714Z"
   },
   {
    "duration": 0,
    "start_time": "2024-08-07T08:04:33.717Z"
   },
   {
    "duration": 0,
    "start_time": "2024-08-07T08:04:33.730Z"
   },
   {
    "duration": 0,
    "start_time": "2024-08-07T08:04:33.732Z"
   },
   {
    "duration": 0,
    "start_time": "2024-08-07T08:04:33.734Z"
   },
   {
    "duration": 0,
    "start_time": "2024-08-07T08:04:33.737Z"
   },
   {
    "duration": 404142,
    "start_time": "2024-08-07T08:10:22.720Z"
   },
   {
    "duration": 30,
    "start_time": "2024-08-07T08:17:06.866Z"
   },
   {
    "duration": 0,
    "start_time": "2024-08-07T08:17:06.899Z"
   },
   {
    "duration": 0,
    "start_time": "2024-08-07T08:17:06.901Z"
   },
   {
    "duration": 0,
    "start_time": "2024-08-07T08:17:06.903Z"
   },
   {
    "duration": 5,
    "start_time": "2024-08-07T08:18:43.085Z"
   },
   {
    "duration": 1589,
    "start_time": "2024-08-07T08:40:38.163Z"
   },
   {
    "duration": 51,
    "start_time": "2024-08-07T08:40:39.755Z"
   },
   {
    "duration": 6,
    "start_time": "2024-08-07T08:40:39.810Z"
   },
   {
    "duration": 6,
    "start_time": "2024-08-07T08:40:39.830Z"
   },
   {
    "duration": 9,
    "start_time": "2024-08-07T08:40:39.839Z"
   },
   {
    "duration": 6,
    "start_time": "2024-08-07T08:40:39.850Z"
   },
   {
    "duration": 71,
    "start_time": "2024-08-07T08:40:39.859Z"
   },
   {
    "duration": 28,
    "start_time": "2024-08-07T08:40:39.933Z"
   },
   {
    "duration": 23,
    "start_time": "2024-08-07T08:40:39.964Z"
   },
   {
    "duration": 52,
    "start_time": "2024-08-07T08:40:39.992Z"
   },
   {
    "duration": 8,
    "start_time": "2024-08-07T08:40:40.047Z"
   },
   {
    "duration": 6,
    "start_time": "2024-08-07T08:40:40.058Z"
   },
   {
    "duration": 7,
    "start_time": "2024-08-07T08:40:40.067Z"
   },
   {
    "duration": 256,
    "start_time": "2024-08-07T08:40:40.077Z"
   },
   {
    "duration": 8,
    "start_time": "2024-08-07T08:40:40.336Z"
   },
   {
    "duration": 8,
    "start_time": "2024-08-07T08:40:40.349Z"
   },
   {
    "duration": 7,
    "start_time": "2024-08-07T08:40:40.361Z"
   },
   {
    "duration": 9,
    "start_time": "2024-08-07T08:40:40.373Z"
   },
   {
    "duration": 56,
    "start_time": "2024-08-07T08:40:40.386Z"
   },
   {
    "duration": 12,
    "start_time": "2024-08-07T08:40:40.445Z"
   },
   {
    "duration": 6,
    "start_time": "2024-08-07T08:40:40.460Z"
   },
   {
    "duration": 9,
    "start_time": "2024-08-07T08:40:40.469Z"
   },
   {
    "duration": 222,
    "start_time": "2024-08-07T08:40:40.481Z"
   },
   {
    "duration": 5,
    "start_time": "2024-08-07T08:40:40.707Z"
   },
   {
    "duration": 6,
    "start_time": "2024-08-07T08:40:40.730Z"
   },
   {
    "duration": 6,
    "start_time": "2024-08-07T08:40:40.739Z"
   },
   {
    "duration": 29,
    "start_time": "2024-08-07T08:40:40.748Z"
   },
   {
    "duration": 5,
    "start_time": "2024-08-07T08:40:40.784Z"
   },
   {
    "duration": 40,
    "start_time": "2024-08-07T08:40:40.792Z"
   },
   {
    "duration": 24,
    "start_time": "2024-08-07T08:40:40.835Z"
   },
   {
    "duration": 7,
    "start_time": "2024-08-07T08:40:40.861Z"
   },
   {
    "duration": 11,
    "start_time": "2024-08-07T08:40:40.871Z"
   },
   {
    "duration": 50,
    "start_time": "2024-08-07T08:40:40.884Z"
   },
   {
    "duration": 10,
    "start_time": "2024-08-07T08:40:40.937Z"
   },
   {
    "duration": 9,
    "start_time": "2024-08-07T08:40:40.950Z"
   },
   {
    "duration": 9,
    "start_time": "2024-08-07T08:40:40.962Z"
   },
   {
    "duration": 7,
    "start_time": "2024-08-07T08:40:40.974Z"
   },
   {
    "duration": 403905,
    "start_time": "2024-08-07T08:40:40.983Z"
   },
   {
    "duration": 1569,
    "start_time": "2024-08-07T08:49:17.579Z"
   },
   {
    "duration": 51,
    "start_time": "2024-08-07T08:49:19.152Z"
   },
   {
    "duration": 7,
    "start_time": "2024-08-07T08:49:19.205Z"
   },
   {
    "duration": 17,
    "start_time": "2024-08-07T08:49:19.216Z"
   },
   {
    "duration": 5,
    "start_time": "2024-08-07T08:49:19.240Z"
   },
   {
    "duration": 6,
    "start_time": "2024-08-07T08:49:19.250Z"
   },
   {
    "duration": 75,
    "start_time": "2024-08-07T08:49:19.259Z"
   },
   {
    "duration": 28,
    "start_time": "2024-08-07T08:49:19.337Z"
   },
   {
    "duration": 23,
    "start_time": "2024-08-07T08:49:19.368Z"
   },
   {
    "duration": 49,
    "start_time": "2024-08-07T08:49:19.394Z"
   },
   {
    "duration": 8,
    "start_time": "2024-08-07T08:49:19.447Z"
   },
   {
    "duration": 6,
    "start_time": "2024-08-07T08:49:19.459Z"
   },
   {
    "duration": 7,
    "start_time": "2024-08-07T08:49:19.468Z"
   },
   {
    "duration": 255,
    "start_time": "2024-08-07T08:49:19.481Z"
   },
   {
    "duration": 7,
    "start_time": "2024-08-07T08:49:19.739Z"
   },
   {
    "duration": 8,
    "start_time": "2024-08-07T08:49:19.749Z"
   },
   {
    "duration": 8,
    "start_time": "2024-08-07T08:49:19.760Z"
   },
   {
    "duration": 9,
    "start_time": "2024-08-07T08:49:19.771Z"
   },
   {
    "duration": 58,
    "start_time": "2024-08-07T08:49:19.784Z"
   },
   {
    "duration": 12,
    "start_time": "2024-08-07T08:49:19.845Z"
   },
   {
    "duration": 7,
    "start_time": "2024-08-07T08:49:19.859Z"
   },
   {
    "duration": 8,
    "start_time": "2024-08-07T08:49:19.869Z"
   },
   {
    "duration": 232,
    "start_time": "2024-08-07T08:49:19.881Z"
   },
   {
    "duration": 14,
    "start_time": "2024-08-07T08:49:20.116Z"
   },
   {
    "duration": 6,
    "start_time": "2024-08-07T08:49:20.133Z"
   },
   {
    "duration": 6,
    "start_time": "2024-08-07T08:49:20.143Z"
   },
   {
    "duration": 31,
    "start_time": "2024-08-07T08:49:20.153Z"
   },
   {
    "duration": 46,
    "start_time": "2024-08-07T08:49:20.187Z"
   },
   {
    "duration": 4,
    "start_time": "2024-08-07T08:49:20.236Z"
   },
   {
    "duration": 21,
    "start_time": "2024-08-07T08:49:20.243Z"
   },
   {
    "duration": 9,
    "start_time": "2024-08-07T08:49:20.266Z"
   },
   {
    "duration": 55,
    "start_time": "2024-08-07T08:49:20.278Z"
   },
   {
    "duration": 12,
    "start_time": "2024-08-07T08:49:20.336Z"
   },
   {
    "duration": 11,
    "start_time": "2024-08-07T08:49:20.352Z"
   },
   {
    "duration": 9,
    "start_time": "2024-08-07T08:49:20.366Z"
   },
   {
    "duration": 55,
    "start_time": "2024-08-07T08:49:20.379Z"
   },
   {
    "duration": 8,
    "start_time": "2024-08-07T08:49:20.437Z"
   },
   {
    "duration": 452,
    "start_time": "2024-08-07T08:49:20.448Z"
   },
   {
    "duration": 0,
    "start_time": "2024-08-07T08:49:20.904Z"
   },
   {
    "duration": 0,
    "start_time": "2024-08-07T08:49:20.906Z"
   },
   {
    "duration": 0,
    "start_time": "2024-08-07T08:49:20.909Z"
   },
   {
    "duration": 0,
    "start_time": "2024-08-07T08:49:20.931Z"
   },
   {
    "duration": 0,
    "start_time": "2024-08-07T08:49:20.933Z"
   },
   {
    "duration": 0,
    "start_time": "2024-08-07T08:49:20.935Z"
   },
   {
    "duration": 0,
    "start_time": "2024-08-07T08:49:20.938Z"
   },
   {
    "duration": 0,
    "start_time": "2024-08-07T08:49:20.939Z"
   },
   {
    "duration": 0,
    "start_time": "2024-08-07T08:49:20.942Z"
   },
   {
    "duration": 0,
    "start_time": "2024-08-07T08:49:20.944Z"
   },
   {
    "duration": 0,
    "start_time": "2024-08-07T08:49:20.946Z"
   },
   {
    "duration": 0,
    "start_time": "2024-08-07T08:49:20.949Z"
   },
   {
    "duration": 0,
    "start_time": "2024-08-07T08:49:20.950Z"
   },
   {
    "duration": 40693,
    "start_time": "2024-08-07T08:50:24.675Z"
   },
   {
    "duration": 83314,
    "start_time": "2024-08-07T08:51:07.432Z"
   },
   {
    "duration": 1607,
    "start_time": "2024-08-07T08:53:42.743Z"
   },
   {
    "duration": 51,
    "start_time": "2024-08-07T08:53:44.354Z"
   },
   {
    "duration": 7,
    "start_time": "2024-08-07T08:53:44.407Z"
   },
   {
    "duration": 11,
    "start_time": "2024-08-07T08:53:44.431Z"
   },
   {
    "duration": 6,
    "start_time": "2024-08-07T08:53:44.447Z"
   },
   {
    "duration": 5,
    "start_time": "2024-08-07T08:53:44.456Z"
   },
   {
    "duration": 33,
    "start_time": "2024-08-07T08:53:44.464Z"
   },
   {
    "duration": 57,
    "start_time": "2024-08-07T08:53:44.499Z"
   },
   {
    "duration": 22,
    "start_time": "2024-08-07T08:53:44.559Z"
   },
   {
    "duration": 62,
    "start_time": "2024-08-07T08:53:44.584Z"
   },
   {
    "duration": 8,
    "start_time": "2024-08-07T08:53:44.649Z"
   },
   {
    "duration": 6,
    "start_time": "2024-08-07T08:53:44.659Z"
   },
   {
    "duration": 6,
    "start_time": "2024-08-07T08:53:44.669Z"
   },
   {
    "duration": 246,
    "start_time": "2024-08-07T08:53:44.682Z"
   },
   {
    "duration": 7,
    "start_time": "2024-08-07T08:53:44.931Z"
   },
   {
    "duration": 7,
    "start_time": "2024-08-07T08:53:44.943Z"
   },
   {
    "duration": 6,
    "start_time": "2024-08-07T08:53:44.953Z"
   },
   {
    "duration": 10,
    "start_time": "2024-08-07T08:53:44.962Z"
   },
   {
    "duration": 63,
    "start_time": "2024-08-07T08:53:44.975Z"
   },
   {
    "duration": 12,
    "start_time": "2024-08-07T08:53:45.041Z"
   },
   {
    "duration": 9,
    "start_time": "2024-08-07T08:53:45.055Z"
   },
   {
    "duration": 8,
    "start_time": "2024-08-07T08:53:45.067Z"
   },
   {
    "duration": 225,
    "start_time": "2024-08-07T08:53:45.077Z"
   },
   {
    "duration": 6,
    "start_time": "2024-08-07T08:53:45.305Z"
   },
   {
    "duration": 20,
    "start_time": "2024-08-07T08:53:45.314Z"
   },
   {
    "duration": 7,
    "start_time": "2024-08-07T08:53:45.337Z"
   },
   {
    "duration": 30,
    "start_time": "2024-08-07T08:53:45.346Z"
   },
   {
    "duration": 5,
    "start_time": "2024-08-07T08:53:45.379Z"
   },
   {
    "duration": 44,
    "start_time": "2024-08-07T08:53:45.387Z"
   },
   {
    "duration": 21,
    "start_time": "2024-08-07T08:53:45.433Z"
   },
   {
    "duration": 6,
    "start_time": "2024-08-07T08:53:45.457Z"
   },
   {
    "duration": 10,
    "start_time": "2024-08-07T08:53:45.466Z"
   },
   {
    "duration": 51,
    "start_time": "2024-08-07T08:53:45.479Z"
   },
   {
    "duration": 10,
    "start_time": "2024-08-07T08:53:45.534Z"
   },
   {
    "duration": 10,
    "start_time": "2024-08-07T08:53:45.548Z"
   },
   {
    "duration": 10,
    "start_time": "2024-08-07T08:53:45.561Z"
   },
   {
    "duration": 7,
    "start_time": "2024-08-07T08:53:45.574Z"
   },
   {
    "duration": 46487,
    "start_time": "2024-08-07T08:53:45.632Z"
   },
   {
    "duration": 436,
    "start_time": "2024-08-07T08:56:20.533Z"
   },
   {
    "duration": 0,
    "start_time": "2024-08-07T08:56:20.972Z"
   },
   {
    "duration": 0,
    "start_time": "2024-08-07T08:56:20.975Z"
   },
   {
    "duration": 0,
    "start_time": "2024-08-07T08:56:20.977Z"
   },
   {
    "duration": 0,
    "start_time": "2024-08-07T08:56:20.979Z"
   },
   {
    "duration": 0,
    "start_time": "2024-08-07T08:56:20.981Z"
   },
   {
    "duration": 0,
    "start_time": "2024-08-07T08:56:20.984Z"
   },
   {
    "duration": 0,
    "start_time": "2024-08-07T08:56:20.987Z"
   },
   {
    "duration": 0,
    "start_time": "2024-08-07T08:56:20.989Z"
   },
   {
    "duration": 0,
    "start_time": "2024-08-07T08:56:20.991Z"
   },
   {
    "duration": 0,
    "start_time": "2024-08-07T08:56:20.993Z"
   },
   {
    "duration": 0,
    "start_time": "2024-08-07T08:56:20.995Z"
   },
   {
    "duration": 0,
    "start_time": "2024-08-07T08:56:21.031Z"
   },
   {
    "duration": 27234,
    "start_time": "2024-08-07T08:57:17.782Z"
   },
   {
    "duration": 66806,
    "start_time": "2024-08-07T08:58:20.755Z"
   },
   {
    "duration": 2453,
    "start_time": "2024-08-07T08:59:29.974Z"
   },
   {
    "duration": 1756,
    "start_time": "2024-08-07T08:59:56.712Z"
   },
   {
    "duration": 53,
    "start_time": "2024-08-07T08:59:58.471Z"
   },
   {
    "duration": 6,
    "start_time": "2024-08-07T08:59:58.529Z"
   },
   {
    "duration": 6,
    "start_time": "2024-08-07T08:59:58.540Z"
   },
   {
    "duration": 5,
    "start_time": "2024-08-07T08:59:58.550Z"
   },
   {
    "duration": 5,
    "start_time": "2024-08-07T08:59:58.559Z"
   },
   {
    "duration": 81,
    "start_time": "2024-08-07T08:59:58.568Z"
   },
   {
    "duration": 26,
    "start_time": "2024-08-07T08:59:58.653Z"
   },
   {
    "duration": 22,
    "start_time": "2024-08-07T08:59:58.682Z"
   },
   {
    "duration": 20,
    "start_time": "2024-08-07T08:59:58.734Z"
   },
   {
    "duration": 8,
    "start_time": "2024-08-07T08:59:58.757Z"
   },
   {
    "duration": 6,
    "start_time": "2024-08-07T08:59:58.767Z"
   },
   {
    "duration": 6,
    "start_time": "2024-08-07T08:59:58.777Z"
   },
   {
    "duration": 260,
    "start_time": "2024-08-07T08:59:58.786Z"
   },
   {
    "duration": 7,
    "start_time": "2024-08-07T08:59:59.050Z"
   },
   {
    "duration": 7,
    "start_time": "2024-08-07T08:59:59.060Z"
   },
   {
    "duration": 6,
    "start_time": "2024-08-07T08:59:59.070Z"
   },
   {
    "duration": 9,
    "start_time": "2024-08-07T08:59:59.079Z"
   },
   {
    "duration": 16,
    "start_time": "2024-08-07T08:59:59.131Z"
   },
   {
    "duration": 11,
    "start_time": "2024-08-07T08:59:59.151Z"
   },
   {
    "duration": 7,
    "start_time": "2024-08-07T08:59:59.165Z"
   },
   {
    "duration": 8,
    "start_time": "2024-08-07T08:59:59.175Z"
   },
   {
    "duration": 227,
    "start_time": "2024-08-07T08:59:59.186Z"
   },
   {
    "duration": 14,
    "start_time": "2024-08-07T08:59:59.417Z"
   },
   {
    "duration": 6,
    "start_time": "2024-08-07T08:59:59.434Z"
   },
   {
    "duration": 7,
    "start_time": "2024-08-07T08:59:59.443Z"
   },
   {
    "duration": 29,
    "start_time": "2024-08-07T08:59:59.454Z"
   },
   {
    "duration": 42,
    "start_time": "2024-08-07T08:59:59.491Z"
   },
   {
    "duration": 3,
    "start_time": "2024-08-07T08:59:59.536Z"
   },
   {
    "duration": 18,
    "start_time": "2024-08-07T08:59:59.542Z"
   },
   {
    "duration": 6,
    "start_time": "2024-08-07T08:59:59.565Z"
   },
   {
    "duration": 11,
    "start_time": "2024-08-07T08:59:59.574Z"
   },
   {
    "duration": 52,
    "start_time": "2024-08-07T08:59:59.587Z"
   },
   {
    "duration": 11,
    "start_time": "2024-08-07T08:59:59.642Z"
   },
   {
    "duration": 9,
    "start_time": "2024-08-07T08:59:59.657Z"
   },
   {
    "duration": 9,
    "start_time": "2024-08-07T08:59:59.669Z"
   },
   {
    "duration": 52,
    "start_time": "2024-08-07T08:59:59.682Z"
   },
   {
    "duration": 64359,
    "start_time": "2024-08-07T08:59:59.738Z"
   },
   {
    "duration": 5,
    "start_time": "2024-08-07T09:01:04.099Z"
   },
   {
    "duration": 17386,
    "start_time": "2024-08-07T09:01:04.108Z"
   },
   {
    "duration": 4,
    "start_time": "2024-08-07T09:01:21.497Z"
   },
   {
    "duration": 4,
    "start_time": "2024-08-07T09:01:21.504Z"
   },
   {
    "duration": 4,
    "start_time": "2024-08-07T09:01:21.511Z"
   },
   {
    "duration": 4,
    "start_time": "2024-08-07T09:01:21.518Z"
   },
   {
    "duration": 2409,
    "start_time": "2024-08-07T09:01:21.525Z"
   },
   {
    "duration": 0,
    "start_time": "2024-08-07T09:01:23.937Z"
   },
   {
    "duration": 0,
    "start_time": "2024-08-07T09:01:23.939Z"
   },
   {
    "duration": 0,
    "start_time": "2024-08-07T09:01:23.941Z"
   },
   {
    "duration": 0,
    "start_time": "2024-08-07T09:01:23.943Z"
   },
   {
    "duration": 1,
    "start_time": "2024-08-07T09:01:23.945Z"
   },
   {
    "duration": 0,
    "start_time": "2024-08-07T09:01:23.947Z"
   },
   {
    "duration": 2566,
    "start_time": "2024-08-07T09:01:54.998Z"
   },
   {
    "duration": 110,
    "start_time": "2024-08-07T09:02:06.739Z"
   },
   {
    "duration": 128,
    "start_time": "2024-08-07T09:02:14.417Z"
   },
   {
    "duration": 110,
    "start_time": "2024-08-07T09:02:21.385Z"
   },
   {
    "duration": 18,
    "start_time": "2024-08-07T09:02:27.224Z"
   },
   {
    "duration": 17,
    "start_time": "2024-08-07T09:02:31.770Z"
   },
   {
    "duration": 91091,
    "start_time": "2024-08-07T09:06:53.182Z"
   },
   {
    "duration": 4400,
    "start_time": "2024-08-07T09:08:24.276Z"
   },
   {
    "duration": 110,
    "start_time": "2024-08-07T09:12:50.475Z"
   },
   {
    "duration": 124,
    "start_time": "2024-08-07T09:12:55.770Z"
   },
   {
    "duration": 117,
    "start_time": "2024-08-07T09:13:50.466Z"
   },
   {
    "duration": 16,
    "start_time": "2024-08-07T09:14:03.129Z"
   },
   {
    "duration": 18,
    "start_time": "2024-08-07T09:14:04.492Z"
   },
   {
    "duration": 17,
    "start_time": "2024-08-07T09:14:05.182Z"
   },
   {
    "duration": 1650,
    "start_time": "2024-08-07T09:17:41.026Z"
   },
   {
    "duration": 53,
    "start_time": "2024-08-07T09:17:42.680Z"
   },
   {
    "duration": 7,
    "start_time": "2024-08-07T09:17:42.736Z"
   },
   {
    "duration": 5,
    "start_time": "2024-08-07T09:17:42.747Z"
   },
   {
    "duration": 5,
    "start_time": "2024-08-07T09:17:42.759Z"
   },
   {
    "duration": 6,
    "start_time": "2024-08-07T09:17:42.768Z"
   },
   {
    "duration": 83,
    "start_time": "2024-08-07T09:17:42.777Z"
   },
   {
    "duration": 27,
    "start_time": "2024-08-07T09:17:42.863Z"
   },
   {
    "duration": 52,
    "start_time": "2024-08-07T09:17:42.892Z"
   },
   {
    "duration": 21,
    "start_time": "2024-08-07T09:17:42.947Z"
   },
   {
    "duration": 8,
    "start_time": "2024-08-07T09:17:42.971Z"
   },
   {
    "duration": 9,
    "start_time": "2024-08-07T09:17:42.982Z"
   },
   {
    "duration": 41,
    "start_time": "2024-08-07T09:17:42.993Z"
   },
   {
    "duration": 236,
    "start_time": "2024-08-07T09:17:43.042Z"
   },
   {
    "duration": 7,
    "start_time": "2024-08-07T09:17:43.281Z"
   },
   {
    "duration": 7,
    "start_time": "2024-08-07T09:17:43.291Z"
   },
   {
    "duration": 29,
    "start_time": "2024-08-07T09:17:43.301Z"
   },
   {
    "duration": 9,
    "start_time": "2024-08-07T09:17:43.333Z"
   },
   {
    "duration": 15,
    "start_time": "2024-08-07T09:17:43.345Z"
   },
   {
    "duration": 11,
    "start_time": "2024-08-07T09:17:43.363Z"
   },
   {
    "duration": 7,
    "start_time": "2024-08-07T09:17:43.377Z"
   },
   {
    "duration": 8,
    "start_time": "2024-08-07T09:17:43.431Z"
   },
   {
    "duration": 194,
    "start_time": "2024-08-07T09:17:43.443Z"
   },
   {
    "duration": 7,
    "start_time": "2024-08-07T09:17:43.641Z"
   },
   {
    "duration": 11,
    "start_time": "2024-08-07T09:17:43.651Z"
   },
   {
    "duration": 8,
    "start_time": "2024-08-07T09:17:43.666Z"
   },
   {
    "duration": 65,
    "start_time": "2024-08-07T09:17:43.677Z"
   },
   {
    "duration": 6,
    "start_time": "2024-08-07T09:17:43.744Z"
   },
   {
    "duration": 3,
    "start_time": "2024-08-07T09:17:43.753Z"
   },
   {
    "duration": 20,
    "start_time": "2024-08-07T09:17:43.759Z"
   },
   {
    "duration": 7,
    "start_time": "2024-08-07T09:17:43.781Z"
   },
   {
    "duration": 10,
    "start_time": "2024-08-07T09:17:43.831Z"
   },
   {
    "duration": 11,
    "start_time": "2024-08-07T09:17:43.844Z"
   },
   {
    "duration": 11,
    "start_time": "2024-08-07T09:17:43.858Z"
   },
   {
    "duration": 9,
    "start_time": "2024-08-07T09:17:43.872Z"
   },
   {
    "duration": 54,
    "start_time": "2024-08-07T09:17:43.883Z"
   },
   {
    "duration": 7,
    "start_time": "2024-08-07T09:17:43.940Z"
   },
   {
    "duration": 4,
    "start_time": "2024-08-07T09:17:43.950Z"
   },
   {
    "duration": 4,
    "start_time": "2024-08-07T09:17:43.957Z"
   },
   {
    "duration": 5,
    "start_time": "2024-08-07T09:17:43.963Z"
   },
   {
    "duration": 3,
    "start_time": "2024-08-07T09:17:43.976Z"
   },
   {
    "duration": 1094,
    "start_time": "2024-08-07T09:17:44.030Z"
   },
   {
    "duration": 0,
    "start_time": "2024-08-07T09:17:45.126Z"
   },
   {
    "duration": 0,
    "start_time": "2024-08-07T09:17:45.127Z"
   },
   {
    "duration": 0,
    "start_time": "2024-08-07T09:17:45.128Z"
   },
   {
    "duration": 0,
    "start_time": "2024-08-07T09:17:45.129Z"
   },
   {
    "duration": 0,
    "start_time": "2024-08-07T09:17:45.132Z"
   },
   {
    "duration": 6,
    "start_time": "2024-08-07T09:18:37.376Z"
   },
   {
    "duration": 6360,
    "start_time": "2024-08-07T09:18:47.521Z"
   },
   {
    "duration": 25,
    "start_time": "2024-08-07T09:18:57.351Z"
   },
   {
    "duration": 24,
    "start_time": "2024-08-07T09:19:34.061Z"
   },
   {
    "duration": 32,
    "start_time": "2024-08-07T09:25:46.836Z"
   },
   {
    "duration": 81762,
    "start_time": "2024-08-07T09:26:00.416Z"
   },
   {
    "duration": 3431,
    "start_time": "2024-08-07T09:27:22.181Z"
   },
   {
    "duration": 0,
    "start_time": "2024-08-07T09:27:25.615Z"
   },
   {
    "duration": 0,
    "start_time": "2024-08-07T09:27:25.617Z"
   },
   {
    "duration": 0,
    "start_time": "2024-08-07T09:27:25.631Z"
   },
   {
    "duration": 0,
    "start_time": "2024-08-07T09:27:25.632Z"
   },
   {
    "duration": 0,
    "start_time": "2024-08-07T09:27:25.634Z"
   },
   {
    "duration": 6,
    "start_time": "2024-08-07T09:27:46.238Z"
   },
   {
    "duration": 3383,
    "start_time": "2024-08-07T09:28:14.415Z"
   },
   {
    "duration": 90508,
    "start_time": "2024-08-07T09:28:36.150Z"
   },
   {
    "duration": 24433,
    "start_time": "2024-08-07T09:30:06.661Z"
   },
   {
    "duration": 4331,
    "start_time": "2024-08-07T09:30:31.097Z"
   },
   {
    "duration": 1596,
    "start_time": "2024-08-07T09:32:44.856Z"
   },
   {
    "duration": 54,
    "start_time": "2024-08-07T09:32:46.455Z"
   },
   {
    "duration": 7,
    "start_time": "2024-08-07T09:32:46.511Z"
   },
   {
    "duration": 12,
    "start_time": "2024-08-07T09:32:46.521Z"
   },
   {
    "duration": 5,
    "start_time": "2024-08-07T09:32:46.539Z"
   },
   {
    "duration": 7,
    "start_time": "2024-08-07T09:32:46.547Z"
   },
   {
    "duration": 74,
    "start_time": "2024-08-07T09:32:46.557Z"
   },
   {
    "duration": 28,
    "start_time": "2024-08-07T09:32:46.633Z"
   },
   {
    "duration": 22,
    "start_time": "2024-08-07T09:32:46.664Z"
   },
   {
    "duration": 53,
    "start_time": "2024-08-07T09:32:46.689Z"
   },
   {
    "duration": 8,
    "start_time": "2024-08-07T09:32:46.745Z"
   },
   {
    "duration": 6,
    "start_time": "2024-08-07T09:32:46.758Z"
   },
   {
    "duration": 7,
    "start_time": "2024-08-07T09:32:46.767Z"
   },
   {
    "duration": 248,
    "start_time": "2024-08-07T09:32:46.781Z"
   },
   {
    "duration": 6,
    "start_time": "2024-08-07T09:32:47.032Z"
   },
   {
    "duration": 8,
    "start_time": "2024-08-07T09:32:47.042Z"
   },
   {
    "duration": 6,
    "start_time": "2024-08-07T09:32:47.053Z"
   },
   {
    "duration": 9,
    "start_time": "2024-08-07T09:32:47.062Z"
   },
   {
    "duration": 59,
    "start_time": "2024-08-07T09:32:47.074Z"
   },
   {
    "duration": 11,
    "start_time": "2024-08-07T09:32:47.136Z"
   },
   {
    "duration": 7,
    "start_time": "2024-08-07T09:32:47.150Z"
   },
   {
    "duration": 8,
    "start_time": "2024-08-07T09:32:47.160Z"
   },
   {
    "duration": 222,
    "start_time": "2024-08-07T09:32:47.171Z"
   },
   {
    "duration": 6,
    "start_time": "2024-08-07T09:32:47.398Z"
   },
   {
    "duration": 22,
    "start_time": "2024-08-07T09:32:47.408Z"
   },
   {
    "duration": 7,
    "start_time": "2024-08-07T09:32:47.434Z"
   },
   {
    "duration": 30,
    "start_time": "2024-08-07T09:32:47.444Z"
   },
   {
    "duration": 5,
    "start_time": "2024-08-07T09:32:47.477Z"
   },
   {
    "duration": 5,
    "start_time": "2024-08-07T09:32:47.485Z"
   },
   {
    "duration": 19,
    "start_time": "2024-08-07T09:32:47.532Z"
   },
   {
    "duration": 6,
    "start_time": "2024-08-07T09:32:47.554Z"
   },
   {
    "duration": 10,
    "start_time": "2024-08-07T09:32:47.563Z"
   },
   {
    "duration": 12,
    "start_time": "2024-08-07T09:32:47.576Z"
   },
   {
    "duration": 11,
    "start_time": "2024-08-07T09:32:47.631Z"
   },
   {
    "duration": 10,
    "start_time": "2024-08-07T09:32:47.646Z"
   },
   {
    "duration": 9,
    "start_time": "2024-08-07T09:32:47.659Z"
   },
   {
    "duration": 7,
    "start_time": "2024-08-07T09:32:47.671Z"
   },
   {
    "duration": 49,
    "start_time": "2024-08-07T09:32:47.681Z"
   },
   {
    "duration": 5,
    "start_time": "2024-08-07T09:32:47.733Z"
   },
   {
    "duration": 4,
    "start_time": "2024-08-07T09:32:47.741Z"
   },
   {
    "duration": 3,
    "start_time": "2024-08-07T09:32:47.754Z"
   },
   {
    "duration": 6468,
    "start_time": "2024-08-07T09:32:47.761Z"
   },
   {
    "duration": 54,
    "start_time": "2024-08-07T09:32:54.232Z"
   },
   {
    "duration": 75,
    "start_time": "2024-08-07T09:32:54.289Z"
   },
   {
    "duration": 18,
    "start_time": "2024-08-07T09:32:54.367Z"
   },
   {
    "duration": 48,
    "start_time": "2024-08-07T09:32:54.388Z"
   },
   {
    "duration": 19,
    "start_time": "2024-08-07T09:32:54.438Z"
   },
   {
    "duration": 1621,
    "start_time": "2024-08-07T09:41:31.063Z"
   },
   {
    "duration": 56,
    "start_time": "2024-08-07T09:41:32.687Z"
   },
   {
    "duration": 7,
    "start_time": "2024-08-07T09:41:32.745Z"
   },
   {
    "duration": 6,
    "start_time": "2024-08-07T09:41:32.757Z"
   },
   {
    "duration": 8,
    "start_time": "2024-08-07T09:41:32.766Z"
   },
   {
    "duration": 6,
    "start_time": "2024-08-07T09:41:32.778Z"
   },
   {
    "duration": 77,
    "start_time": "2024-08-07T09:41:32.788Z"
   },
   {
    "duration": 26,
    "start_time": "2024-08-07T09:41:32.868Z"
   },
   {
    "duration": 46,
    "start_time": "2024-08-07T09:41:32.898Z"
   },
   {
    "duration": 22,
    "start_time": "2024-08-07T09:41:32.950Z"
   },
   {
    "duration": 7,
    "start_time": "2024-08-07T09:41:32.975Z"
   },
   {
    "duration": 6,
    "start_time": "2024-08-07T09:41:32.986Z"
   },
   {
    "duration": 42,
    "start_time": "2024-08-07T09:41:32.994Z"
   },
   {
    "duration": 232,
    "start_time": "2024-08-07T09:41:33.040Z"
   },
   {
    "duration": 8,
    "start_time": "2024-08-07T09:41:33.276Z"
   },
   {
    "duration": 8,
    "start_time": "2024-08-07T09:41:33.287Z"
   },
   {
    "duration": 32,
    "start_time": "2024-08-07T09:41:33.298Z"
   },
   {
    "duration": 8,
    "start_time": "2024-08-07T09:41:33.334Z"
   },
   {
    "duration": 16,
    "start_time": "2024-08-07T09:41:33.346Z"
   },
   {
    "duration": 12,
    "start_time": "2024-08-07T09:41:33.364Z"
   },
   {
    "duration": 7,
    "start_time": "2024-08-07T09:41:33.379Z"
   },
   {
    "duration": 8,
    "start_time": "2024-08-07T09:41:33.430Z"
   },
   {
    "duration": 200,
    "start_time": "2024-08-07T09:41:33.441Z"
   },
   {
    "duration": 6,
    "start_time": "2024-08-07T09:41:33.644Z"
   },
   {
    "duration": 7,
    "start_time": "2024-08-07T09:41:33.653Z"
   },
   {
    "duration": 17,
    "start_time": "2024-08-07T09:41:33.663Z"
   },
   {
    "duration": 50,
    "start_time": "2024-08-07T09:41:33.683Z"
   },
   {
    "duration": 6,
    "start_time": "2024-08-07T09:41:33.741Z"
   },
   {
    "duration": 4,
    "start_time": "2024-08-07T09:41:33.750Z"
   },
   {
    "duration": 22,
    "start_time": "2024-08-07T09:41:33.757Z"
   },
   {
    "duration": 6,
    "start_time": "2024-08-07T09:41:33.782Z"
   },
   {
    "duration": 47,
    "start_time": "2024-08-07T09:41:33.791Z"
   },
   {
    "duration": 11,
    "start_time": "2024-08-07T09:41:33.841Z"
   },
   {
    "duration": 12,
    "start_time": "2024-08-07T09:41:33.855Z"
   },
   {
    "duration": 15,
    "start_time": "2024-08-07T09:41:33.870Z"
   },
   {
    "duration": 43,
    "start_time": "2024-08-07T09:41:33.887Z"
   },
   {
    "duration": 8,
    "start_time": "2024-08-07T09:41:33.933Z"
   },
   {
    "duration": 40511,
    "start_time": "2024-08-07T09:41:33.944Z"
   },
   {
    "duration": 114684,
    "start_time": "2024-08-07T09:42:14.458Z"
   },
   {
    "duration": 19764,
    "start_time": "2024-08-07T09:44:09.144Z"
   },
   {
    "duration": 5432,
    "start_time": "2024-08-07T09:44:28.911Z"
   },
   {
    "duration": 4,
    "start_time": "2024-08-07T09:44:34.345Z"
   },
   {
    "duration": 82,
    "start_time": "2024-08-07T09:44:34.353Z"
   },
   {
    "duration": 50,
    "start_time": "2024-08-07T09:44:34.439Z"
   },
   {
    "duration": 53,
    "start_time": "2024-08-07T09:44:34.492Z"
   },
   {
    "duration": 16,
    "start_time": "2024-08-07T09:44:34.547Z"
   },
   {
    "duration": 17,
    "start_time": "2024-08-07T09:44:34.567Z"
   },
   {
    "duration": 6,
    "start_time": "2024-08-07T09:54:22.235Z"
   },
   {
    "duration": 1465,
    "start_time": "2024-08-07T09:55:46.005Z"
   },
   {
    "duration": 723,
    "start_time": "2024-08-07T09:58:11.352Z"
   },
   {
    "duration": 22,
    "start_time": "2024-08-07T10:00:23.386Z"
   }
  ],
  "kernelspec": {
   "display_name": "Python 3 (ipykernel)",
   "language": "python",
   "name": "python3"
  },
  "language_info": {
   "codemirror_mode": {
    "name": "ipython",
    "version": 3
   },
   "file_extension": ".py",
   "mimetype": "text/x-python",
   "name": "python",
   "nbconvert_exporter": "python",
   "pygments_lexer": "ipython3",
   "version": "3.9.19"
  },
  "toc": {
   "base_numbering": 1,
   "nav_menu": {},
   "number_sections": true,
   "sideBar": true,
   "skip_h1_title": true,
   "title_cell": "Table of Contents",
   "title_sidebar": "Contents",
   "toc_cell": false,
   "toc_position": {},
   "toc_section_display": true,
   "toc_window_display": false
  }
 },
 "nbformat": 4,
 "nbformat_minor": 2
}

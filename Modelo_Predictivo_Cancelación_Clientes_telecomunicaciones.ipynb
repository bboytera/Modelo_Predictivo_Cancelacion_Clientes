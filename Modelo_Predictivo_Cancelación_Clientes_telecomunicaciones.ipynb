{
 "cells": [
  {
   "cell_type": "markdown",
   "metadata": {},
   "source": [
    "# Introduccion"
   ]
  },
  {
   "cell_type": "markdown",
   "metadata": {},
   "source": [
    "Buscamos predecir la tasa de cancelación de los clientes de una empresa de telecomunicaciones llamada Interconnect para anticiparse a posibles bajas. \n",
    "Con esta información; la empresa podrá ofrecer promociones y planes personalizados a los usuarios que muestren señales de querer cancelar sus servicios. \n",
    "Para ello, se han recopilado datos personales y de suscripción de los clientes, lo que permitirá el análisis para desarrollar modelos predictivos que optimicen las estrategias de retención.\""
   ]
  },
  {
   "cell_type": "markdown",
   "metadata": {},
   "source": [
    "El equipo de marketing de Interconnect ha recopilado algunos de los datos personales de sus clientes, incluyendo información sobre sus planes y contratos."
   ]
  },
  {
   "cell_type": "markdown",
   "metadata": {},
   "source": [
    "# Descripción de los datos"
   ]
  },
  {
   "cell_type": "markdown",
   "metadata": {},
   "source": [
    "Los datos consisten en archivos obtenidos de diferentes fuentes:\n",
    "\n",
    "- `contract.csv` — información del contrato;\n",
    "- `personal.csv` — datos personales del cliente;\n",
    "- `internet.csv` — información sobre los servicios de Internet;\n",
    "- `phone.csv` — información sobre los servicios telefónicos.\n",
    "\n",
    "En cada archivo, la columna `customerID` (ID de cliente) contiene un código único asignado a cada cliente. La información del contrato es válida a partir del 1 de febrero de 2020."
   ]
  },
  {
   "cell_type": "markdown",
   "metadata": {},
   "source": [
    "# Importamos librerias y Cargamos datos"
   ]
  },
  {
   "cell_type": "code",
   "execution_count": 1,
   "metadata": {},
   "outputs": [],
   "source": [
    "import pandas as pd\n",
    "import numpy as np\n",
    "import matplotlib.pyplot as plt\n",
    "from sklearn.preprocessing import OneHotEncoder\n",
    "\n",
    "from sklearn.model_selection import train_test_split, GridSearchCV\n",
    "from sklearn.linear_model import LogisticRegression\n",
    "from sklearn.ensemble import RandomForestClassifier\n",
    "from xgboost import XGBClassifier\n",
    "import xgboost as xgb\n",
    "from catboost import CatBoostClassifier\n",
    "\n",
    "from sklearn.metrics import accuracy_score, classification_report, confusion_matrix, roc_auc_score\n",
    "\n",
    "from sklearn.preprocessing import StandardScaler\n",
    "\n",
    "from sklearn.impute import SimpleImputer"
   ]
  },
  {
   "cell_type": "code",
   "execution_count": 2,
   "metadata": {},
   "outputs": [],
   "source": [
    "# Leer cada archivo CSV en un DataFrame\n",
    "df_1 = pd.read_csv('/datasets/final_provider/contract.csv')\n",
    "df_2 = pd.read_csv('/datasets/final_provider/personal.csv')\n",
    "df_3 = pd.read_csv('/datasets/final_provider/internet.csv')\n",
    "df_4 = pd.read_csv('/datasets/final_provider/phone.csv')"
   ]
  },
  {
   "cell_type": "markdown",
   "metadata": {},
   "source": [
    "# Exploramos el Dataset"
   ]
  },
  {
   "cell_type": "code",
   "execution_count": 3,
   "metadata": {},
   "outputs": [
    {
     "data": {
      "text/plain": [
       "(7043, 8)"
      ]
     },
     "execution_count": 3,
     "metadata": {},
     "output_type": "execute_result"
    }
   ],
   "source": [
    "df_1.shape"
   ]
  },
  {
   "cell_type": "code",
   "execution_count": 4,
   "metadata": {},
   "outputs": [
    {
     "data": {
      "text/plain": [
       "(7043, 5)"
      ]
     },
     "execution_count": 4,
     "metadata": {},
     "output_type": "execute_result"
    }
   ],
   "source": [
    "df_2.shape"
   ]
  },
  {
   "cell_type": "code",
   "execution_count": 5,
   "metadata": {},
   "outputs": [
    {
     "data": {
      "text/plain": [
       "(5517, 8)"
      ]
     },
     "execution_count": 5,
     "metadata": {},
     "output_type": "execute_result"
    }
   ],
   "source": [
    "df_3.shape"
   ]
  },
  {
   "cell_type": "code",
   "execution_count": 6,
   "metadata": {},
   "outputs": [
    {
     "data": {
      "text/plain": [
       "(6361, 2)"
      ]
     },
     "execution_count": 6,
     "metadata": {},
     "output_type": "execute_result"
    }
   ],
   "source": [
    "df_4.shape"
   ]
  },
  {
   "cell_type": "code",
   "execution_count": 7,
   "metadata": {
    "scrolled": true
   },
   "outputs": [],
   "source": [
    "# Unir los DataFrames utilizando 'customerID' como clave\n",
    "df_merged = pd.merge(df_1, df_2, on='customerID', how='left')\n",
    "df_merged = pd.merge(df_merged, df_3, on='customerID', how='left')\n",
    "df_merged = pd.merge(df_merged, df_4, on='customerID', how='left')"
   ]
  },
  {
   "cell_type": "code",
   "execution_count": 8,
   "metadata": {},
   "outputs": [
    {
     "data": {
      "text/html": [
       "<div>\n",
       "<style scoped>\n",
       "    .dataframe tbody tr th:only-of-type {\n",
       "        vertical-align: middle;\n",
       "    }\n",
       "\n",
       "    .dataframe tbody tr th {\n",
       "        vertical-align: top;\n",
       "    }\n",
       "\n",
       "    .dataframe thead th {\n",
       "        text-align: right;\n",
       "    }\n",
       "</style>\n",
       "<table border=\"1\" class=\"dataframe\">\n",
       "  <thead>\n",
       "    <tr style=\"text-align: right;\">\n",
       "      <th></th>\n",
       "      <th>customerID</th>\n",
       "      <th>BeginDate</th>\n",
       "      <th>EndDate</th>\n",
       "      <th>Type</th>\n",
       "      <th>PaperlessBilling</th>\n",
       "      <th>PaymentMethod</th>\n",
       "      <th>MonthlyCharges</th>\n",
       "      <th>TotalCharges</th>\n",
       "      <th>gender</th>\n",
       "      <th>SeniorCitizen</th>\n",
       "      <th>Partner</th>\n",
       "      <th>Dependents</th>\n",
       "      <th>InternetService</th>\n",
       "      <th>OnlineSecurity</th>\n",
       "      <th>OnlineBackup</th>\n",
       "      <th>DeviceProtection</th>\n",
       "      <th>TechSupport</th>\n",
       "      <th>StreamingTV</th>\n",
       "      <th>StreamingMovies</th>\n",
       "      <th>MultipleLines</th>\n",
       "    </tr>\n",
       "  </thead>\n",
       "  <tbody>\n",
       "    <tr>\n",
       "      <th>0</th>\n",
       "      <td>7590-VHVEG</td>\n",
       "      <td>2020-01-01</td>\n",
       "      <td>No</td>\n",
       "      <td>Month-to-month</td>\n",
       "      <td>Yes</td>\n",
       "      <td>Electronic check</td>\n",
       "      <td>29.85</td>\n",
       "      <td>29.85</td>\n",
       "      <td>Female</td>\n",
       "      <td>0</td>\n",
       "      <td>Yes</td>\n",
       "      <td>No</td>\n",
       "      <td>DSL</td>\n",
       "      <td>No</td>\n",
       "      <td>Yes</td>\n",
       "      <td>No</td>\n",
       "      <td>No</td>\n",
       "      <td>No</td>\n",
       "      <td>No</td>\n",
       "      <td>NaN</td>\n",
       "    </tr>\n",
       "    <tr>\n",
       "      <th>1</th>\n",
       "      <td>5575-GNVDE</td>\n",
       "      <td>2017-04-01</td>\n",
       "      <td>No</td>\n",
       "      <td>One year</td>\n",
       "      <td>No</td>\n",
       "      <td>Mailed check</td>\n",
       "      <td>56.95</td>\n",
       "      <td>1889.5</td>\n",
       "      <td>Male</td>\n",
       "      <td>0</td>\n",
       "      <td>No</td>\n",
       "      <td>No</td>\n",
       "      <td>DSL</td>\n",
       "      <td>Yes</td>\n",
       "      <td>No</td>\n",
       "      <td>Yes</td>\n",
       "      <td>No</td>\n",
       "      <td>No</td>\n",
       "      <td>No</td>\n",
       "      <td>No</td>\n",
       "    </tr>\n",
       "    <tr>\n",
       "      <th>2</th>\n",
       "      <td>3668-QPYBK</td>\n",
       "      <td>2019-10-01</td>\n",
       "      <td>2019-12-01 00:00:00</td>\n",
       "      <td>Month-to-month</td>\n",
       "      <td>Yes</td>\n",
       "      <td>Mailed check</td>\n",
       "      <td>53.85</td>\n",
       "      <td>108.15</td>\n",
       "      <td>Male</td>\n",
       "      <td>0</td>\n",
       "      <td>No</td>\n",
       "      <td>No</td>\n",
       "      <td>DSL</td>\n",
       "      <td>Yes</td>\n",
       "      <td>Yes</td>\n",
       "      <td>No</td>\n",
       "      <td>No</td>\n",
       "      <td>No</td>\n",
       "      <td>No</td>\n",
       "      <td>No</td>\n",
       "    </tr>\n",
       "    <tr>\n",
       "      <th>3</th>\n",
       "      <td>7795-CFOCW</td>\n",
       "      <td>2016-05-01</td>\n",
       "      <td>No</td>\n",
       "      <td>One year</td>\n",
       "      <td>No</td>\n",
       "      <td>Bank transfer (automatic)</td>\n",
       "      <td>42.30</td>\n",
       "      <td>1840.75</td>\n",
       "      <td>Male</td>\n",
       "      <td>0</td>\n",
       "      <td>No</td>\n",
       "      <td>No</td>\n",
       "      <td>DSL</td>\n",
       "      <td>Yes</td>\n",
       "      <td>No</td>\n",
       "      <td>Yes</td>\n",
       "      <td>Yes</td>\n",
       "      <td>No</td>\n",
       "      <td>No</td>\n",
       "      <td>NaN</td>\n",
       "    </tr>\n",
       "    <tr>\n",
       "      <th>4</th>\n",
       "      <td>9237-HQITU</td>\n",
       "      <td>2019-09-01</td>\n",
       "      <td>2019-11-01 00:00:00</td>\n",
       "      <td>Month-to-month</td>\n",
       "      <td>Yes</td>\n",
       "      <td>Electronic check</td>\n",
       "      <td>70.70</td>\n",
       "      <td>151.65</td>\n",
       "      <td>Female</td>\n",
       "      <td>0</td>\n",
       "      <td>No</td>\n",
       "      <td>No</td>\n",
       "      <td>Fiber optic</td>\n",
       "      <td>No</td>\n",
       "      <td>No</td>\n",
       "      <td>No</td>\n",
       "      <td>No</td>\n",
       "      <td>No</td>\n",
       "      <td>No</td>\n",
       "      <td>No</td>\n",
       "    </tr>\n",
       "  </tbody>\n",
       "</table>\n",
       "</div>"
      ],
      "text/plain": [
       "   customerID   BeginDate              EndDate            Type  \\\n",
       "0  7590-VHVEG  2020-01-01                   No  Month-to-month   \n",
       "1  5575-GNVDE  2017-04-01                   No        One year   \n",
       "2  3668-QPYBK  2019-10-01  2019-12-01 00:00:00  Month-to-month   \n",
       "3  7795-CFOCW  2016-05-01                   No        One year   \n",
       "4  9237-HQITU  2019-09-01  2019-11-01 00:00:00  Month-to-month   \n",
       "\n",
       "  PaperlessBilling              PaymentMethod  MonthlyCharges TotalCharges  \\\n",
       "0              Yes           Electronic check           29.85        29.85   \n",
       "1               No               Mailed check           56.95       1889.5   \n",
       "2              Yes               Mailed check           53.85       108.15   \n",
       "3               No  Bank transfer (automatic)           42.30      1840.75   \n",
       "4              Yes           Electronic check           70.70       151.65   \n",
       "\n",
       "   gender  SeniorCitizen Partner Dependents InternetService OnlineSecurity  \\\n",
       "0  Female              0     Yes         No             DSL             No   \n",
       "1    Male              0      No         No             DSL            Yes   \n",
       "2    Male              0      No         No             DSL            Yes   \n",
       "3    Male              0      No         No             DSL            Yes   \n",
       "4  Female              0      No         No     Fiber optic             No   \n",
       "\n",
       "  OnlineBackup DeviceProtection TechSupport StreamingTV StreamingMovies  \\\n",
       "0          Yes               No          No          No              No   \n",
       "1           No              Yes          No          No              No   \n",
       "2          Yes               No          No          No              No   \n",
       "3           No              Yes         Yes          No              No   \n",
       "4           No               No          No          No              No   \n",
       "\n",
       "  MultipleLines  \n",
       "0           NaN  \n",
       "1            No  \n",
       "2            No  \n",
       "3           NaN  \n",
       "4            No  "
      ]
     },
     "execution_count": 8,
     "metadata": {},
     "output_type": "execute_result"
    }
   ],
   "source": [
    "#una muestra del dataframe ya unido en su totalidad\n",
    "df_merged.head()"
   ]
  },
  {
   "cell_type": "code",
   "execution_count": 9,
   "metadata": {},
   "outputs": [
    {
     "name": "stdout",
     "output_type": "stream",
     "text": [
      "<class 'pandas.core.frame.DataFrame'>\n",
      "Int64Index: 7043 entries, 0 to 7042\n",
      "Data columns (total 20 columns):\n",
      " #   Column            Non-Null Count  Dtype  \n",
      "---  ------            --------------  -----  \n",
      " 0   customerID        7043 non-null   object \n",
      " 1   BeginDate         7043 non-null   object \n",
      " 2   EndDate           7043 non-null   object \n",
      " 3   Type              7043 non-null   object \n",
      " 4   PaperlessBilling  7043 non-null   object \n",
      " 5   PaymentMethod     7043 non-null   object \n",
      " 6   MonthlyCharges    7043 non-null   float64\n",
      " 7   TotalCharges      7043 non-null   object \n",
      " 8   gender            7043 non-null   object \n",
      " 9   SeniorCitizen     7043 non-null   int64  \n",
      " 10  Partner           7043 non-null   object \n",
      " 11  Dependents        7043 non-null   object \n",
      " 12  InternetService   5517 non-null   object \n",
      " 13  OnlineSecurity    5517 non-null   object \n",
      " 14  OnlineBackup      5517 non-null   object \n",
      " 15  DeviceProtection  5517 non-null   object \n",
      " 16  TechSupport       5517 non-null   object \n",
      " 17  StreamingTV       5517 non-null   object \n",
      " 18  StreamingMovies   5517 non-null   object \n",
      " 19  MultipleLines     6361 non-null   object \n",
      "dtypes: float64(1), int64(1), object(18)\n",
      "memory usage: 1.1+ MB\n"
     ]
    }
   ],
   "source": [
    "#información general del dataframe fusionado\n",
    "df_merged.info()"
   ]
  },
  {
   "cell_type": "code",
   "execution_count": 10,
   "metadata": {},
   "outputs": [
    {
     "data": {
      "text/plain": [
       "0"
      ]
     },
     "execution_count": 10,
     "metadata": {},
     "output_type": "execute_result"
    }
   ],
   "source": [
    "#observamos si existen valores duplicados\n",
    "df_merged.duplicated().sum()"
   ]
  },
  {
   "cell_type": "markdown",
   "metadata": {},
   "source": [
    "**Conclusión inicial al analizar los datos:**"
   ]
  },
  {
   "cell_type": "markdown",
   "metadata": {},
   "source": [
    "Unimos los 4 dataframes respetando el numero total de clientes siendo 7043 filas! tenemos 20 columnas , podemos ver que hay dos columnas que no se encuentran en formato datetime las pondremos en el tipo correcto,  tambien podemos ver a la columna de TotalCharges que no esta en su tipo de datos correcto, asi como podemos ver 8 columnas en las cuales hay valores nulos, trabajaremos en ellas!!"
   ]
  },
  {
   "cell_type": "code",
   "execution_count": 11,
   "metadata": {},
   "outputs": [],
   "source": [
    "# Convertir las columnas 'BeginDate' y 'EndDate' a formato datetime\n",
    "df_merged['BeginDate'] = pd.to_datetime(df_merged['BeginDate'])"
   ]
  },
  {
   "cell_type": "code",
   "execution_count": 12,
   "metadata": {},
   "outputs": [
    {
     "data": {
      "text/plain": [
       "dtype('<M8[ns]')"
      ]
     },
     "execution_count": 12,
     "metadata": {},
     "output_type": "execute_result"
    }
   ],
   "source": [
    "df_merged['BeginDate'].dtype"
   ]
  },
  {
   "cell_type": "code",
   "execution_count": 13,
   "metadata": {},
   "outputs": [
    {
     "data": {
      "text/plain": [
       "array(['No', '2019-12-01 00:00:00', '2019-11-01 00:00:00',\n",
       "       '2019-10-01 00:00:00', '2020-01-01 00:00:00'], dtype=object)"
      ]
     },
     "execution_count": 13,
     "metadata": {},
     "output_type": "execute_result"
    }
   ],
   "source": [
    "df_merged['EndDate'].unique()"
   ]
  },
  {
   "cell_type": "code",
   "execution_count": 14,
   "metadata": {},
   "outputs": [
    {
     "data": {
      "image/png": "[encoded data removed]",
      "text/plain": [
       "<Figure size 800x300 with 1 Axes>"
      ]
     },
     "metadata": {},
     "output_type": "display_data"
    }
   ],
   "source": [
    "#Vamos a contar la frecuencia con la que aparecen cada fecha y los que aun 'no' finalizan con su servicio\n",
    "date_counts = df_merged['EndDate'].value_counts().sort_index()\n",
    "\n",
    "# Grafica de barras de los valores de la columna 'EndDate'\n",
    "plt.figure(figsize=(8, 3))\n",
    "plt.bar(date_counts.index, date_counts.values, color='skyblue', edgecolor='black')\n",
    "plt.title('Distribución de Fechas en EndDate')\n",
    "plt.xlabel('Fecha')\n",
    "plt.ylabel('Frecuencia')\n",
    "plt.xticks(rotation=45)\n",
    "plt.grid(axis='y', linestyle='--', alpha=0.7)\n",
    "plt.show()"
   ]
  },
  {
   "cell_type": "code",
   "execution_count": 15,
   "metadata": {},
   "outputs": [
    {
     "data": {
      "text/plain": [
       "2019-10-01 00:00:00     458\n",
       "2019-11-01 00:00:00     485\n",
       "2019-12-01 00:00:00     466\n",
       "2020-01-01 00:00:00     460\n",
       "No                     5174\n",
       "Name: EndDate, dtype: int64"
      ]
     },
     "execution_count": 15,
     "metadata": {},
     "output_type": "execute_result"
    }
   ],
   "source": [
    "#numero de valores de la variable 'EnDate'\n",
    "date_counts"
   ]
  },
  {
   "cell_type": "markdown",
   "metadata": {},
   "source": [
    "podemos ver que contamos con 4 periodos en los que cancelaron el servicio y es en orden del 1 de octubre del 2019 siguendo por noviembre diciembre y enero!!"
   ]
  },
  {
   "cell_type": "code",
   "execution_count": 16,
   "metadata": {},
   "outputs": [],
   "source": [
    "#convertimos los valores numericos de string a float a la columna TotalCharges\n",
    "df_merged['TotalCharges'] = pd.to_numeric(df_merged['TotalCharges'], errors='coerce')\n"
   ]
  },
  {
   "cell_type": "code",
   "execution_count": 17,
   "metadata": {},
   "outputs": [
    {
     "data": {
      "text/plain": [
       "dtype('float64')"
      ]
     },
     "execution_count": 17,
     "metadata": {},
     "output_type": "execute_result"
    }
   ],
   "source": [
    "#comprobamos que ya este hecho el cambio\n",
    "df_merged['TotalCharges'].dtype"
   ]
  },
  {
   "cell_type": "markdown",
   "metadata": {},
   "source": [
    "podemos ver ya los cambios realizados a nuestro analisis primario; las columnas en su formato correcto, ahora solo falta crear nuevas caracteristicas si se necesitan y trabajar con los **valores nulos!!**"
   ]
  },
  {
   "cell_type": "markdown",
   "metadata": {},
   "source": [
    "# Creacion de nuevas caracteristicas"
   ]
  },
  {
   "cell_type": "markdown",
   "metadata": {},
   "source": [
    "Vamos a crear una nueva columna basandonos en 'EndDate', para asi poder trabajar con nuestro modelo, sera de clasificacion binaria tomando como valor\n",
    "\n",
    "- 0 = False\n",
    "- 1 = como un True\n",
    "\n",
    "la nueva columna se llamará 'Cancelled' haciendo referencia a la cancelación de la variable a predecir"
   ]
  },
  {
   "cell_type": "code",
   "execution_count": 18,
   "metadata": {},
   "outputs": [],
   "source": [
    "# Creamos la columna 'Cancelled' basándonos en 'EndDate'\n",
    "df_merged['Cancelled'] = df_merged['EndDate'].apply(lambda x: 0 if x == 'No' else 1)\n"
   ]
  },
  {
   "cell_type": "markdown",
   "metadata": {},
   "source": [
    "# Imputacion de valores nulos"
   ]
  },
  {
   "cell_type": "code",
   "execution_count": 19,
   "metadata": {},
   "outputs": [
    {
     "data": {
      "text/plain": [
       "customerID             0\n",
       "BeginDate              0\n",
       "EndDate                0\n",
       "Type                   0\n",
       "PaperlessBilling       0\n",
       "PaymentMethod          0\n",
       "MonthlyCharges         0\n",
       "TotalCharges          11\n",
       "gender                 0\n",
       "SeniorCitizen          0\n",
       "Partner                0\n",
       "Dependents             0\n",
       "InternetService     1526\n",
       "OnlineSecurity      1526\n",
       "OnlineBackup        1526\n",
       "DeviceProtection    1526\n",
       "TechSupport         1526\n",
       "StreamingTV         1526\n",
       "StreamingMovies     1526\n",
       "MultipleLines        682\n",
       "Cancelled              0\n",
       "dtype: int64"
      ]
     },
     "execution_count": 19,
     "metadata": {},
     "output_type": "execute_result"
    }
   ],
   "source": [
    "df_merged.isnull().sum()"
   ]
  },
  {
   "cell_type": "code",
   "execution_count": 20,
   "metadata": {},
   "outputs": [],
   "source": [
    "# Eliminar filas donde hay pocos valores nulos\n",
    "df_merged = df_merged.dropna(subset=['TotalCharges'])"
   ]
  },
  {
   "cell_type": "code",
   "execution_count": 21,
   "metadata": {},
   "outputs": [
    {
     "data": {
      "text/plain": [
       "0"
      ]
     },
     "execution_count": 21,
     "metadata": {},
     "output_type": "execute_result"
    }
   ],
   "source": [
    "df_merged['TotalCharges'].isnull().sum()"
   ]
  },
  {
   "cell_type": "markdown",
   "metadata": {},
   "source": [
    "eliminamos solo los valores nulos de TotalCharges al ser solo 11 filas no deberia afectar a nuestro modelo con las  trabajaremos con ellas más adelante"
   ]
  },
  {
   "cell_type": "markdown",
   "metadata": {},
   "source": [
    "# Desequilibrio de clases"
   ]
  },
  {
   "cell_type": "code",
   "execution_count": 22,
   "metadata": {},
   "outputs": [
    {
     "data": {
      "text/plain": [
       "0    0.734215\n",
       "1    0.265785\n",
       "Name: Cancelled, dtype: float64"
      ]
     },
     "execution_count": 22,
     "metadata": {},
     "output_type": "execute_result"
    }
   ],
   "source": [
    "df_merged['Cancelled'].value_counts(1)"
   ]
  },
  {
   "cell_type": "code",
   "execution_count": 23,
   "metadata": {},
   "outputs": [
    {
     "data": {
      "image/png": "[encoded data removed]",
      "text/plain": [
       "<Figure size 640x480 with 1 Axes>"
      ]
     },
     "metadata": {},
     "output_type": "display_data"
    }
   ],
   "source": [
    "df_merged['Cancelled'].value_counts(1).plot(kind='bar')\n",
    "plt.title('Estado de cancelación')\n",
    "plt.xlabel('Estado')\n",
    "plt.ylabel('Frecuencia')\n",
    "plt.show()"
   ]
  },
  {
   "cell_type": "markdown",
   "metadata": {},
   "source": [
    "Podemos ver como hay un desequilibrio de las clases de nuestra variable a predecir, hay más personas las cuales no han cancelado el servicio representan el %73 de los valores, trabajaremos con el desequilibrio más adelante"
   ]
  },
  {
   "cell_type": "markdown",
   "metadata": {},
   "source": [
    "# Eliminación de caracteristicas"
   ]
  },
  {
   "cell_type": "code",
   "execution_count": 24,
   "metadata": {},
   "outputs": [
    {
     "data": {
      "text/plain": [
       "Index(['customerID', 'BeginDate', 'EndDate', 'Type', 'PaperlessBilling',\n",
       "       'PaymentMethod', 'MonthlyCharges', 'TotalCharges', 'gender',\n",
       "       'SeniorCitizen', 'Partner', 'Dependents', 'InternetService',\n",
       "       'OnlineSecurity', 'OnlineBackup', 'DeviceProtection', 'TechSupport',\n",
       "       'StreamingTV', 'StreamingMovies', 'MultipleLines', 'Cancelled'],\n",
       "      dtype='object')"
      ]
     },
     "execution_count": 24,
     "metadata": {},
     "output_type": "execute_result"
    }
   ],
   "source": [
    "#vista rapida de caracteristicas que tenemos\n",
    "df_merged.columns"
   ]
  },
  {
   "cell_type": "code",
   "execution_count": 25,
   "metadata": {},
   "outputs": [],
   "source": [
    "#Vamos a eliminar variables de nuestro dataframe que no nos aportan valor a nuestro modelo\n",
    "df_merged = df_merged.drop(['customerID', 'BeginDate', 'EndDate'],axis=1)"
   ]
  },
  {
   "cell_type": "code",
   "execution_count": 26,
   "metadata": {},
   "outputs": [
    {
     "data": {
      "text/plain": [
       "Index(['Type', 'PaperlessBilling', 'PaymentMethod', 'MonthlyCharges',\n",
       "       'TotalCharges', 'gender', 'SeniorCitizen', 'Partner', 'Dependents',\n",
       "       'InternetService', 'OnlineSecurity', 'OnlineBackup', 'DeviceProtection',\n",
       "       'TechSupport', 'StreamingTV', 'StreamingMovies', 'MultipleLines',\n",
       "       'Cancelled'],\n",
       "      dtype='object')"
      ]
     },
     "execution_count": 26,
     "metadata": {},
     "output_type": "execute_result"
    }
   ],
   "source": [
    "df_merged.columns"
   ]
  },
  {
   "cell_type": "markdown",
   "metadata": {},
   "source": [
    "# one hot encoding"
   ]
  },
  {
   "cell_type": "code",
   "execution_count": 27,
   "metadata": {},
   "outputs": [],
   "source": [
    "#codificaremos nuestras caracteristicas categoricas a numericas para poder trabajar con nuestro modelo\n",
    "df_ohe = pd.get_dummies(df_merged, drop_first= True)"
   ]
  },
  {
   "cell_type": "code",
   "execution_count": 28,
   "metadata": {},
   "outputs": [
    {
     "data": {
      "text/plain": [
       "(7032, 21)"
      ]
     },
     "execution_count": 28,
     "metadata": {},
     "output_type": "execute_result"
    }
   ],
   "source": [
    "df_ohe.shape"
   ]
  },
  {
   "cell_type": "markdown",
   "metadata": {},
   "source": [
    "se crearon 21 columnas en el nuevo dataframe en 'data_ohe' "
   ]
  },
  {
   "cell_type": "code",
   "execution_count": 29,
   "metadata": {},
   "outputs": [],
   "source": [
    "del df_merged"
   ]
  },
  {
   "cell_type": "code",
   "execution_count": 30,
   "metadata": {},
   "outputs": [
    {
     "name": "stdout",
     "output_type": "stream",
     "text": [
      "<class 'pandas.core.frame.DataFrame'>\n",
      "Int64Index: 7032 entries, 0 to 7042\n",
      "Data columns (total 21 columns):\n",
      " #   Column                                 Non-Null Count  Dtype  \n",
      "---  ------                                 --------------  -----  \n",
      " 0   MonthlyCharges                         7032 non-null   float64\n",
      " 1   TotalCharges                           7032 non-null   float64\n",
      " 2   SeniorCitizen                          7032 non-null   int64  \n",
      " 3   Cancelled                              7032 non-null   int64  \n",
      " 4   Type_One year                          7032 non-null   uint8  \n",
      " 5   Type_Two year                          7032 non-null   uint8  \n",
      " 6   PaperlessBilling_Yes                   7032 non-null   uint8  \n",
      " 7   PaymentMethod_Credit card (automatic)  7032 non-null   uint8  \n",
      " 8   PaymentMethod_Electronic check         7032 non-null   uint8  \n",
      " 9   PaymentMethod_Mailed check             7032 non-null   uint8  \n",
      " 10  gender_Male                            7032 non-null   uint8  \n",
      " 11  Partner_Yes                            7032 non-null   uint8  \n",
      " 12  Dependents_Yes                         7032 non-null   uint8  \n",
      " 13  InternetService_Fiber optic            7032 non-null   uint8  \n",
      " 14  OnlineSecurity_Yes                     7032 non-null   uint8  \n",
      " 15  OnlineBackup_Yes                       7032 non-null   uint8  \n",
      " 16  DeviceProtection_Yes                   7032 non-null   uint8  \n",
      " 17  TechSupport_Yes                        7032 non-null   uint8  \n",
      " 18  StreamingTV_Yes                        7032 non-null   uint8  \n",
      " 19  StreamingMovies_Yes                    7032 non-null   uint8  \n",
      " 20  MultipleLines_Yes                      7032 non-null   uint8  \n",
      "dtypes: float64(2), int64(2), uint8(17)\n",
      "memory usage: 391.4 KB\n"
     ]
    }
   ],
   "source": [
    "df_ohe.info()"
   ]
  },
  {
   "cell_type": "code",
   "execution_count": null,
   "metadata": {},
   "outputs": [],
   "source": []
  },
  {
   "cell_type": "markdown",
   "metadata": {},
   "source": [
    "# Separar caracteristicas y objetivos"
   ]
  },
  {
   "cell_type": "code",
   "execution_count": 31,
   "metadata": {},
   "outputs": [],
   "source": [
    "X = df_ohe.drop('Cancelled', axis=1)\n",
    "y = df_ohe['Cancelled']"
   ]
  },
  {
   "cell_type": "code",
   "execution_count": 32,
   "metadata": {},
   "outputs": [],
   "source": [
    "# Dividir los datos en conjunto de entrenamiento y prueba\n",
    "X_train, X_test, y_train, y_test = train_test_split(X, y, test_size=0.2, stratify=y, random_state=123456)"
   ]
  },
  {
   "cell_type": "markdown",
   "metadata": {},
   "source": [
    "# Imputacion de valores con SimpleImputer"
   ]
  },
  {
   "cell_type": "code",
   "execution_count": 33,
   "metadata": {},
   "outputs": [
    {
     "data": {
      "text/plain": [
       "SimpleImputer()"
      ]
     },
     "execution_count": 33,
     "metadata": {},
     "output_type": "execute_result"
    }
   ],
   "source": [
    "# Crear objeto SimpleImputer\n",
    "imputer = SimpleImputer()\n",
    "\n",
    "# Ajustar imputer'most_frequent'rain\n",
    "imputer.fit(X_train)"
   ]
  },
  {
   "cell_type": "code",
   "execution_count": 34,
   "metadata": {},
   "outputs": [],
   "source": [
    "# Transforma X_train\n",
    "X_train_transformed = imputer.transform(X_train)\n",
    "\n",
    "# Transforma X_test\n",
    "X_test_transformed = imputer.transform(X_test)"
   ]
  },
  {
   "cell_type": "code",
   "execution_count": 35,
   "metadata": {},
   "outputs": [
    {
     "data": {
      "text/plain": [
       "MonthlyCharges                           0\n",
       "TotalCharges                             0\n",
       "SeniorCitizen                            0\n",
       "Type_One year                            0\n",
       "Type_Two year                            0\n",
       "PaperlessBilling_Yes                     0\n",
       "PaymentMethod_Credit card (automatic)    0\n",
       "PaymentMethod_Electronic check           0\n",
       "PaymentMethod_Mailed check               0\n",
       "gender_Male                              0\n",
       "Partner_Yes                              0\n",
       "Dependents_Yes                           0\n",
       "InternetService_Fiber optic              0\n",
       "OnlineSecurity_Yes                       0\n",
       "OnlineBackup_Yes                         0\n",
       "DeviceProtection_Yes                     0\n",
       "TechSupport_Yes                          0\n",
       "StreamingTV_Yes                          0\n",
       "StreamingMovies_Yes                      0\n",
       "MultipleLines_Yes                        0\n",
       "dtype: int64"
      ]
     },
     "execution_count": 35,
     "metadata": {},
     "output_type": "execute_result"
    }
   ],
   "source": [
    "X_train.isna().sum()"
   ]
  },
  {
   "cell_type": "code",
   "execution_count": 36,
   "metadata": {},
   "outputs": [
    {
     "data": {
      "text/plain": [
       "MonthlyCharges                           0\n",
       "TotalCharges                             0\n",
       "SeniorCitizen                            0\n",
       "Type_One year                            0\n",
       "Type_Two year                            0\n",
       "PaperlessBilling_Yes                     0\n",
       "PaymentMethod_Credit card (automatic)    0\n",
       "PaymentMethod_Electronic check           0\n",
       "PaymentMethod_Mailed check               0\n",
       "gender_Male                              0\n",
       "Partner_Yes                              0\n",
       "Dependents_Yes                           0\n",
       "InternetService_Fiber optic              0\n",
       "OnlineSecurity_Yes                       0\n",
       "OnlineBackup_Yes                         0\n",
       "DeviceProtection_Yes                     0\n",
       "TechSupport_Yes                          0\n",
       "StreamingTV_Yes                          0\n",
       "StreamingMovies_Yes                      0\n",
       "MultipleLines_Yes                        0\n",
       "dtype: int64"
      ]
     },
     "execution_count": 36,
     "metadata": {},
     "output_type": "execute_result"
    }
   ],
   "source": [
    "X_test.isna().sum()"
   ]
  },
  {
   "cell_type": "markdown",
   "metadata": {},
   "source": [
    "#  Escalado de datos"
   ]
  },
  {
   "cell_type": "code",
   "execution_count": 37,
   "metadata": {},
   "outputs": [],
   "source": [
    "scaler = StandardScaler()\n",
    "scaler.fit(X_train_transformed)\n",
    "features_train = scaler.transform(X_train_transformed)\n",
    "features_test = scaler.transform(X_test_transformed)"
   ]
  },
  {
   "cell_type": "markdown",
   "metadata": {},
   "source": [
    "#  Modelos de aprendizaje"
   ]
  },
  {
   "cell_type": "markdown",
   "metadata": {},
   "source": [
    "**mejores hiperparametros**"
   ]
  },
  {
   "cell_type": "code",
   "execution_count": 38,
   "metadata": {},
   "outputs": [
    {
     "name": "stdout",
     "output_type": "stream",
     "text": [
      "CPU times: user 4 µs, sys: 1 µs, total: 5 µs\n",
      "Wall time: 8.58 µs\n"
     ]
    }
   ],
   "source": [
    "%time\n",
    "from sklearn.model_selection import RandomizedSearchCV\n",
    "\n",
    "\n",
    "# Modelo Random Forest con RandomSearch\n",
    "rf = RandomForestClassifier(class_weight='balanced')\n",
    "param_grid_rf = {\n",
    "    'n_estimators': [100, 200, 500],\n",
    "    'max_depth': [None, 5, 10],\n",
    "    'min_samples_split': [2, 5, 10],\n",
    "    'min_samples_leaf': [1, 5, 10],\n",
    "    'max_features': ['auto', 'sqrt', 'log2']\n",
    "}\n",
    "random_search_rf = RandomizedSearchCV(rf, param_grid_rf, cv=5, n_iter=10)\n",
    "random_search_rf.fit(X_train_transformed, y_train)\n",
    "rf_best = random_search_rf.best_estimator_"
   ]
  },
  {
   "cell_type": "code",
   "execution_count": 39,
   "metadata": {},
   "outputs": [
    {
     "name": "stdout",
     "output_type": "stream",
     "text": [
      "CPU times: user 3 µs, sys: 1e+03 ns, total: 4 µs\n",
      "Wall time: 6.2 µs\n"
     ]
    }
   ],
   "source": [
    "%time\n",
    "# Modelo XGBClassifier con RandomSearch\n",
    "\n",
    "from sklearn.preprocessing import LabelEncoder\n",
    "\n",
    "# Codificar las etiquetas usando LabelEncoder\n",
    "label_encoder = LabelEncoder()\n",
    "y_train_encoded = label_encoder.fit_transform(y_train)\n",
    "\n",
    "# Configurar XGBClassifier con las recomendaciones\n",
    "xgb_clf = XGBClassifier(scale_pos_weight=10, use_label_encoder=False, eval_metric='logloss')\n",
    "\n",
    "param_grid_xgb = {\n",
    "    'max_depth': [3, 5, 7],\n",
    "    'learning_rate': [0.1, 0.5, 1],\n",
    "    'n_estimators': [50, 100, 200],\n",
    "    'gamma': [0, 0.1, 0.5],\n",
    "    'subsample': [0.5, 0.8, 1],\n",
    "    'colsample_bytree': [0.5, 0.8, 1]\n",
    "    \n",
    "}\n",
    "random_search_xgb = RandomizedSearchCV(xgb_clf, param_grid_xgb, cv=5, n_iter=10)\n",
    "random_search_xgb.fit(X_train_transformed, y_train_encoded)\n",
    "xgb_best = random_search_xgb.best_estimator_"
   ]
  },
  {
   "cell_type": "code",
   "execution_count": 40,
   "metadata": {},
   "outputs": [
    {
     "name": "stdout",
     "output_type": "stream",
     "text": [
      "CPU times: user 3 µs, sys: 0 ns, total: 3 µs\n",
      "Wall time: 6.68 µs\n",
      "0:\tlearn: 0.4269089\ttotal: 48ms\tremaining: 9.56s\n",
      "1:\tlearn: 0.3826497\ttotal: 50ms\tremaining: 4.95s\n",
      "2:\tlearn: 0.3720967\ttotal: 52ms\tremaining: 3.41s\n",
      "3:\tlearn: 0.3650398\ttotal: 53.9ms\tremaining: 2.64s\n",
      "4:\tlearn: 0.3578814\ttotal: 55.9ms\tremaining: 2.18s\n",
      "5:\tlearn: 0.3539532\ttotal: 57.9ms\tremaining: 1.87s\n",
      "6:\tlearn: 0.3504435\ttotal: 59.9ms\tremaining: 1.65s\n",
      "7:\tlearn: 0.3440970\ttotal: 61.9ms\tremaining: 1.48s\n",
      "8:\tlearn: 0.3399749\ttotal: 63.8ms\tremaining: 1.35s\n",
      "9:\tlearn: 0.3350831\ttotal: 65.8ms\tremaining: 1.25s\n",
      "10:\tlearn: 0.3305908\ttotal: 67.8ms\tremaining: 1.16s\n",
      "11:\tlearn: 0.3259719\ttotal: 69.8ms\tremaining: 1.09s\n",
      "12:\tlearn: 0.3222634\ttotal: 71.7ms\tremaining: 1.03s\n",
      "13:\tlearn: 0.3175772\ttotal: 73.7ms\tremaining: 980ms\n",
      "14:\tlearn: 0.3137189\ttotal: 75.8ms\tremaining: 934ms\n",
      "15:\tlearn: 0.3109224\ttotal: 77.8ms\tremaining: 895ms\n",
      "16:\tlearn: 0.3062967\ttotal: 79.9ms\tremaining: 860ms\n",
      "17:\tlearn: 0.3024987\ttotal: 81.9ms\tremaining: 828ms\n",
      "18:\tlearn: 0.2958304\ttotal: 83.8ms\tremaining: 799ms\n",
      "19:\tlearn: 0.2920798\ttotal: 85.9ms\tremaining: 773ms\n",
      "20:\tlearn: 0.2864056\ttotal: 88ms\tremaining: 750ms\n",
      "21:\tlearn: 0.2839807\ttotal: 90ms\tremaining: 728ms\n",
      "22:\tlearn: 0.2821132\ttotal: 92ms\tremaining: 708ms\n",
      "23:\tlearn: 0.2802488\ttotal: 94.1ms\tremaining: 690ms\n",
      "24:\tlearn: 0.2766005\ttotal: 96.8ms\tremaining: 677ms\n",
      "25:\tlearn: 0.2739037\ttotal: 98.7ms\tremaining: 661ms\n",
      "26:\tlearn: 0.2701832\ttotal: 101ms\tremaining: 645ms\n",
      "27:\tlearn: 0.2673679\ttotal: 103ms\tremaining: 631ms\n",
      "28:\tlearn: 0.2651993\ttotal: 105ms\tremaining: 618ms\n",
      "29:\tlearn: 0.2603071\ttotal: 107ms\tremaining: 605ms\n",
      "30:\tlearn: 0.2581874\ttotal: 109ms\tremaining: 593ms\n",
      "31:\tlearn: 0.2551083\ttotal: 111ms\tremaining: 581ms\n",
      "32:\tlearn: 0.2514653\ttotal: 113ms\tremaining: 570ms\n",
      "33:\tlearn: 0.2480973\ttotal: 115ms\tremaining: 560ms\n",
      "34:\tlearn: 0.2459258\ttotal: 117ms\tremaining: 550ms\n",
      "35:\tlearn: 0.2435428\ttotal: 119ms\tremaining: 541ms\n",
      "36:\tlearn: 0.2393548\ttotal: 121ms\tremaining: 532ms\n",
      "37:\tlearn: 0.2371943\ttotal: 123ms\tremaining: 523ms\n",
      "38:\tlearn: 0.2342149\ttotal: 125ms\tremaining: 515ms\n",
      "39:\tlearn: 0.2314688\ttotal: 127ms\tremaining: 507ms\n",
      "40:\tlearn: 0.2289196\ttotal: 129ms\tremaining: 499ms\n",
      "41:\tlearn: 0.2264583\ttotal: 131ms\tremaining: 492ms\n",
      "42:\tlearn: 0.2242469\ttotal: 133ms\tremaining: 484ms\n",
      "43:\tlearn: 0.2214778\ttotal: 135ms\tremaining: 477ms\n",
      "44:\tlearn: 0.2202659\ttotal: 137ms\tremaining: 470ms\n",
      "45:\tlearn: 0.2186294\ttotal: 139ms\tremaining: 464ms\n",
      "46:\tlearn: 0.2168949\ttotal: 141ms\tremaining: 458ms\n",
      "47:\tlearn: 0.2157200\ttotal: 143ms\tremaining: 452ms\n",
      "48:\tlearn: 0.2144797\ttotal: 145ms\tremaining: 446ms\n",
      "49:\tlearn: 0.2130456\ttotal: 147ms\tremaining: 440ms\n",
      "50:\tlearn: 0.2114851\ttotal: 149ms\tremaining: 434ms\n",
      "51:\tlearn: 0.2097894\ttotal: 150ms\tremaining: 428ms\n",
      "52:\tlearn: 0.2081771\ttotal: 153ms\tremaining: 423ms\n",
      "53:\tlearn: 0.2055696\ttotal: 154ms\tremaining: 418ms\n",
      "54:\tlearn: 0.2044266\ttotal: 156ms\tremaining: 413ms\n",
      "55:\tlearn: 0.2026166\ttotal: 158ms\tremaining: 407ms\n",
      "56:\tlearn: 0.2005920\ttotal: 160ms\tremaining: 403ms\n",
      "57:\tlearn: 0.1990558\ttotal: 162ms\tremaining: 398ms\n",
      "58:\tlearn: 0.1965327\ttotal: 164ms\tremaining: 393ms\n",
      "59:\tlearn: 0.1950657\ttotal: 166ms\tremaining: 388ms\n",
      "60:\tlearn: 0.1926357\ttotal: 172ms\tremaining: 393ms\n",
      "61:\tlearn: 0.1912394\ttotal: 174ms\tremaining: 388ms\n",
      "62:\tlearn: 0.1892688\ttotal: 176ms\tremaining: 384ms\n",
      "63:\tlearn: 0.1880507\ttotal: 178ms\tremaining: 379ms\n",
      "64:\tlearn: 0.1863333\ttotal: 181ms\tremaining: 375ms\n",
      "65:\tlearn: 0.1843798\ttotal: 183ms\tremaining: 371ms\n",
      "66:\tlearn: 0.1832223\ttotal: 185ms\tremaining: 367ms\n",
      "67:\tlearn: 0.1813149\ttotal: 187ms\tremaining: 363ms\n",
      "68:\tlearn: 0.1798969\ttotal: 189ms\tremaining: 359ms\n",
      "69:\tlearn: 0.1776576\ttotal: 191ms\tremaining: 354ms\n",
      "70:\tlearn: 0.1759226\ttotal: 193ms\tremaining: 350ms\n",
      "71:\tlearn: 0.1750380\ttotal: 195ms\tremaining: 346ms\n",
      "72:\tlearn: 0.1727552\ttotal: 197ms\tremaining: 342ms\n",
      "73:\tlearn: 0.1714846\ttotal: 199ms\tremaining: 338ms\n",
      "74:\tlearn: 0.1704568\ttotal: 201ms\tremaining: 334ms\n",
      "75:\tlearn: 0.1694368\ttotal: 203ms\tremaining: 330ms\n",
      "76:\tlearn: 0.1677855\ttotal: 205ms\tremaining: 327ms\n",
      "77:\tlearn: 0.1665971\ttotal: 206ms\tremaining: 323ms\n",
      "78:\tlearn: 0.1651012\ttotal: 208ms\tremaining: 319ms\n",
      "79:\tlearn: 0.1643000\ttotal: 210ms\tremaining: 316ms\n",
      "80:\tlearn: 0.1624997\ttotal: 212ms\tremaining: 312ms\n",
      "81:\tlearn: 0.1618672\ttotal: 214ms\tremaining: 309ms\n",
      "82:\tlearn: 0.1609409\ttotal: 216ms\tremaining: 305ms\n",
      "83:\tlearn: 0.1596653\ttotal: 218ms\tremaining: 302ms\n",
      "84:\tlearn: 0.1585277\ttotal: 220ms\tremaining: 298ms\n",
      "85:\tlearn: 0.1577436\ttotal: 222ms\tremaining: 295ms\n",
      "86:\tlearn: 0.1571431\ttotal: 225ms\tremaining: 292ms\n",
      "87:\tlearn: 0.1553573\ttotal: 227ms\tremaining: 288ms\n",
      "88:\tlearn: 0.1548757\ttotal: 229ms\tremaining: 285ms\n",
      "89:\tlearn: 0.1539180\ttotal: 231ms\tremaining: 282ms\n",
      "90:\tlearn: 0.1531889\ttotal: 233ms\tremaining: 279ms\n",
      "91:\tlearn: 0.1515327\ttotal: 235ms\tremaining: 275ms\n",
      "92:\tlearn: 0.1500335\ttotal: 237ms\tremaining: 272ms\n",
      "93:\tlearn: 0.1489947\ttotal: 239ms\tremaining: 269ms\n",
      "94:\tlearn: 0.1476961\ttotal: 240ms\tremaining: 266ms\n",
      "95:\tlearn: 0.1466227\ttotal: 243ms\tremaining: 263ms\n",
      "96:\tlearn: 0.1456281\ttotal: 244ms\tremaining: 260ms\n",
      "97:\tlearn: 0.1451968\ttotal: 246ms\tremaining: 257ms\n",
      "98:\tlearn: 0.1445965\ttotal: 248ms\tremaining: 254ms\n",
      "99:\tlearn: 0.1428808\ttotal: 251ms\tremaining: 251ms\n",
      "100:\tlearn: 0.1417548\ttotal: 253ms\tremaining: 248ms\n",
      "101:\tlearn: 0.1415109\ttotal: 255ms\tremaining: 245ms\n",
      "102:\tlearn: 0.1403406\ttotal: 257ms\tremaining: 242ms\n",
      "103:\tlearn: 0.1390119\ttotal: 259ms\tremaining: 239ms\n",
      "104:\tlearn: 0.1376432\ttotal: 261ms\tremaining: 236ms\n",
      "105:\tlearn: 0.1367991\ttotal: 263ms\tremaining: 233ms\n",
      "106:\tlearn: 0.1359231\ttotal: 265ms\tremaining: 230ms\n",
      "107:\tlearn: 0.1347600\ttotal: 267ms\tremaining: 227ms\n",
      "108:\tlearn: 0.1334211\ttotal: 269ms\tremaining: 225ms\n",
      "109:\tlearn: 0.1321066\ttotal: 271ms\tremaining: 222ms\n",
      "110:\tlearn: 0.1313506\ttotal: 274ms\tremaining: 219ms\n",
      "111:\tlearn: 0.1300257\ttotal: 276ms\tremaining: 217ms\n",
      "112:\tlearn: 0.1287330\ttotal: 278ms\tremaining: 214ms\n",
      "113:\tlearn: 0.1266872\ttotal: 280ms\tremaining: 211ms\n",
      "114:\tlearn: 0.1255923\ttotal: 282ms\tremaining: 208ms\n",
      "115:\tlearn: 0.1246701\ttotal: 284ms\tremaining: 205ms\n",
      "116:\tlearn: 0.1239667\ttotal: 286ms\tremaining: 203ms\n",
      "117:\tlearn: 0.1222264\ttotal: 288ms\tremaining: 200ms\n",
      "118:\tlearn: 0.1212870\ttotal: 290ms\tremaining: 197ms\n",
      "119:\tlearn: 0.1206431\ttotal: 292ms\tremaining: 194ms\n",
      "120:\tlearn: 0.1199139\ttotal: 294ms\tremaining: 192ms\n",
      "121:\tlearn: 0.1187943\ttotal: 296ms\tremaining: 189ms\n",
      "122:\tlearn: 0.1185460\ttotal: 298ms\tremaining: 187ms\n",
      "123:\tlearn: 0.1174241\ttotal: 300ms\tremaining: 184ms\n",
      "124:\tlearn: 0.1162790\ttotal: 302ms\tremaining: 181ms\n",
      "125:\tlearn: 0.1153477\ttotal: 304ms\tremaining: 179ms\n",
      "126:\tlearn: 0.1143080\ttotal: 306ms\tremaining: 176ms\n",
      "127:\tlearn: 0.1137555\ttotal: 308ms\tremaining: 173ms\n",
      "128:\tlearn: 0.1128762\ttotal: 310ms\tremaining: 171ms\n",
      "129:\tlearn: 0.1122282\ttotal: 312ms\tremaining: 168ms\n",
      "130:\tlearn: 0.1112509\ttotal: 314ms\tremaining: 165ms\n",
      "131:\tlearn: 0.1104541\ttotal: 316ms\tremaining: 163ms\n",
      "132:\tlearn: 0.1093322\ttotal: 318ms\tremaining: 160ms\n",
      "133:\tlearn: 0.1083217\ttotal: 320ms\tremaining: 158ms\n",
      "134:\tlearn: 0.1074763\ttotal: 322ms\tremaining: 155ms\n",
      "135:\tlearn: 0.1065884\ttotal: 324ms\tremaining: 152ms\n",
      "136:\tlearn: 0.1062363\ttotal: 326ms\tremaining: 150ms\n",
      "137:\tlearn: 0.1055629\ttotal: 328ms\tremaining: 147ms\n",
      "138:\tlearn: 0.1048399\ttotal: 330ms\tremaining: 145ms\n",
      "139:\tlearn: 0.1043464\ttotal: 332ms\tremaining: 142ms\n",
      "140:\tlearn: 0.1038541\ttotal: 334ms\tremaining: 140ms\n",
      "141:\tlearn: 0.1032505\ttotal: 336ms\tremaining: 137ms\n",
      "142:\tlearn: 0.1027114\ttotal: 338ms\tremaining: 135ms\n",
      "143:\tlearn: 0.1015809\ttotal: 340ms\tremaining: 132ms\n",
      "144:\tlearn: 0.1005839\ttotal: 342ms\tremaining: 130ms\n",
      "145:\tlearn: 0.1000481\ttotal: 344ms\tremaining: 127ms\n",
      "146:\tlearn: 0.0995636\ttotal: 346ms\tremaining: 125ms\n",
      "147:\tlearn: 0.0989984\ttotal: 348ms\tremaining: 122ms\n",
      "148:\tlearn: 0.0981641\ttotal: 350ms\tremaining: 120ms\n",
      "149:\tlearn: 0.0973726\ttotal: 352ms\tremaining: 117ms\n",
      "150:\tlearn: 0.0967374\ttotal: 354ms\tremaining: 115ms\n",
      "151:\tlearn: 0.0961087\ttotal: 356ms\tremaining: 112ms\n",
      "152:\tlearn: 0.0954819\ttotal: 358ms\tremaining: 110ms\n",
      "153:\tlearn: 0.0947699\ttotal: 360ms\tremaining: 108ms\n",
      "154:\tlearn: 0.0942472\ttotal: 366ms\tremaining: 106ms\n",
      "155:\tlearn: 0.0930842\ttotal: 368ms\tremaining: 104ms\n",
      "156:\tlearn: 0.0926312\ttotal: 370ms\tremaining: 101ms\n",
      "157:\tlearn: 0.0915383\ttotal: 372ms\tremaining: 99ms\n",
      "158:\tlearn: 0.0910950\ttotal: 374ms\tremaining: 96.5ms\n",
      "159:\tlearn: 0.0907649\ttotal: 376ms\tremaining: 94ms\n",
      "160:\tlearn: 0.0901580\ttotal: 378ms\tremaining: 91.6ms\n",
      "161:\tlearn: 0.0894570\ttotal: 380ms\tremaining: 89.2ms\n",
      "162:\tlearn: 0.0889334\ttotal: 382ms\tremaining: 86.8ms\n",
      "163:\tlearn: 0.0885176\ttotal: 384ms\tremaining: 84.3ms\n",
      "164:\tlearn: 0.0878068\ttotal: 386ms\tremaining: 81.9ms\n",
      "165:\tlearn: 0.0870703\ttotal: 388ms\tremaining: 79.5ms\n",
      "166:\tlearn: 0.0867606\ttotal: 390ms\tremaining: 77.1ms\n",
      "167:\tlearn: 0.0860305\ttotal: 392ms\tremaining: 74.7ms\n",
      "168:\tlearn: 0.0852008\ttotal: 394ms\tremaining: 72.3ms\n",
      "169:\tlearn: 0.0843365\ttotal: 396ms\tremaining: 69.9ms\n",
      "170:\tlearn: 0.0836382\ttotal: 398ms\tremaining: 67.6ms\n",
      "171:\tlearn: 0.0832980\ttotal: 400ms\tremaining: 65.2ms\n",
      "172:\tlearn: 0.0830455\ttotal: 402ms\tremaining: 62.8ms\n",
      "173:\tlearn: 0.0826722\ttotal: 404ms\tremaining: 60.4ms\n",
      "174:\tlearn: 0.0822341\ttotal: 406ms\tremaining: 58ms\n",
      "175:\tlearn: 0.0818928\ttotal: 408ms\tremaining: 55.7ms\n",
      "176:\tlearn: 0.0815594\ttotal: 410ms\tremaining: 53.3ms\n",
      "177:\tlearn: 0.0811548\ttotal: 412ms\tremaining: 51ms\n",
      "178:\tlearn: 0.0804694\ttotal: 414ms\tremaining: 48.6ms\n",
      "179:\tlearn: 0.0795166\ttotal: 416ms\tremaining: 46.3ms\n",
      "180:\tlearn: 0.0790663\ttotal: 418ms\tremaining: 43.9ms\n",
      "181:\tlearn: 0.0788487\ttotal: 420ms\tremaining: 41.6ms\n",
      "182:\tlearn: 0.0784147\ttotal: 422ms\tremaining: 39.2ms\n",
      "183:\tlearn: 0.0779083\ttotal: 424ms\tremaining: 36.9ms\n",
      "184:\tlearn: 0.0775282\ttotal: 426ms\tremaining: 34.6ms\n",
      "185:\tlearn: 0.0771323\ttotal: 428ms\tremaining: 32.2ms\n",
      "186:\tlearn: 0.0764814\ttotal: 430ms\tremaining: 29.9ms\n",
      "187:\tlearn: 0.0761877\ttotal: 432ms\tremaining: 27.6ms\n",
      "188:\tlearn: 0.0758345\ttotal: 434ms\tremaining: 25.3ms\n",
      "189:\tlearn: 0.0749045\ttotal: 436ms\tremaining: 23ms\n",
      "190:\tlearn: 0.0744848\ttotal: 438ms\tremaining: 20.6ms\n",
      "191:\tlearn: 0.0737678\ttotal: 440ms\tremaining: 18.3ms\n",
      "192:\tlearn: 0.0734064\ttotal: 443ms\tremaining: 16.1ms\n",
      "193:\tlearn: 0.0730856\ttotal: 445ms\tremaining: 13.8ms\n",
      "194:\tlearn: 0.0725960\ttotal: 447ms\tremaining: 11.5ms\n",
      "195:\tlearn: 0.0721315\ttotal: 450ms\tremaining: 9.18ms\n",
      "196:\tlearn: 0.0716568\ttotal: 452ms\tremaining: 6.88ms\n",
      "197:\tlearn: 0.0711844\ttotal: 454ms\tremaining: 4.59ms\n",
      "198:\tlearn: 0.0705902\ttotal: 457ms\tremaining: 2.29ms\n",
      "199:\tlearn: 0.0701016\ttotal: 459ms\tremaining: 0us\n"
     ]
    },
    {
     "name": "stdout",
     "output_type": "stream",
     "text": [
      "0:\tlearn: 0.4285136\ttotal: 2.05ms\tremaining: 408ms\n",
      "1:\tlearn: 0.3979333\ttotal: 3.27ms\tremaining: 323ms\n",
      "2:\tlearn: 0.3824689\ttotal: 5.24ms\tremaining: 344ms\n",
      "3:\tlearn: 0.3735774\ttotal: 7.26ms\tremaining: 356ms\n",
      "4:\tlearn: 0.3625144\ttotal: 9.24ms\tremaining: 360ms\n",
      "5:\tlearn: 0.3559747\ttotal: 11.2ms\tremaining: 363ms\n",
      "6:\tlearn: 0.3511176\ttotal: 13.2ms\tremaining: 363ms\n",
      "7:\tlearn: 0.3466297\ttotal: 15.2ms\tremaining: 364ms\n",
      "8:\tlearn: 0.3437339\ttotal: 17.1ms\tremaining: 364ms\n",
      "9:\tlearn: 0.3359862\ttotal: 19.2ms\tremaining: 364ms\n",
      "10:\tlearn: 0.3303562\ttotal: 21.2ms\tremaining: 364ms\n",
      "11:\tlearn: 0.3257583\ttotal: 23.2ms\tremaining: 363ms\n",
      "12:\tlearn: 0.3179768\ttotal: 25.2ms\tremaining: 363ms\n",
      "13:\tlearn: 0.3135345\ttotal: 27.2ms\tremaining: 361ms\n",
      "14:\tlearn: 0.3065946\ttotal: 29.2ms\tremaining: 360ms\n",
      "15:\tlearn: 0.3025974\ttotal: 31.2ms\tremaining: 359ms\n",
      "16:\tlearn: 0.2986047\ttotal: 33.3ms\tremaining: 359ms\n",
      "17:\tlearn: 0.2932191\ttotal: 35.3ms\tremaining: 357ms\n",
      "18:\tlearn: 0.2882932\ttotal: 37.3ms\tremaining: 355ms\n",
      "19:\tlearn: 0.2852258\ttotal: 39.3ms\tremaining: 353ms\n",
      "20:\tlearn: 0.2816413\ttotal: 41.3ms\tremaining: 352ms\n",
      "21:\tlearn: 0.2784132\ttotal: 43.3ms\tremaining: 350ms\n",
      "22:\tlearn: 0.2755447\ttotal: 45.3ms\tremaining: 348ms\n",
      "23:\tlearn: 0.2713162\ttotal: 47.3ms\tremaining: 347ms\n",
      "24:\tlearn: 0.2687972\ttotal: 49.3ms\tremaining: 345ms\n",
      "25:\tlearn: 0.2655139\ttotal: 51.4ms\tremaining: 344ms\n",
      "26:\tlearn: 0.2611960\ttotal: 53.5ms\tremaining: 343ms\n",
      "27:\tlearn: 0.2580645\ttotal: 55.5ms\tremaining: 341ms\n",
      "28:\tlearn: 0.2546175\ttotal: 57.5ms\tremaining: 339ms\n",
      "29:\tlearn: 0.2490629\ttotal: 59.6ms\tremaining: 338ms\n",
      "30:\tlearn: 0.2462719\ttotal: 61.7ms\tremaining: 337ms\n",
      "31:\tlearn: 0.2448234\ttotal: 63.8ms\tremaining: 335ms\n",
      "32:\tlearn: 0.2426510\ttotal: 65.8ms\tremaining: 333ms\n",
      "33:\tlearn: 0.2405590\ttotal: 67.8ms\tremaining: 331ms\n",
      "34:\tlearn: 0.2380616\ttotal: 69.8ms\tremaining: 329ms\n",
      "35:\tlearn: 0.2354936\ttotal: 71.9ms\tremaining: 328ms\n",
      "36:\tlearn: 0.2333749\ttotal: 73.9ms\tremaining: 326ms\n",
      "37:\tlearn: 0.2316282\ttotal: 76ms\tremaining: 324ms\n",
      "38:\tlearn: 0.2303758\ttotal: 78.1ms\tremaining: 322ms\n",
      "39:\tlearn: 0.2273462\ttotal: 80.1ms\tremaining: 320ms\n",
      "40:\tlearn: 0.2241500\ttotal: 82.1ms\tremaining: 318ms\n",
      "41:\tlearn: 0.2222512\ttotal: 84.1ms\tremaining: 316ms\n",
      "42:\tlearn: 0.2194767\ttotal: 86.1ms\tremaining: 314ms\n",
      "43:\tlearn: 0.2173548\ttotal: 88.1ms\tremaining: 312ms\n",
      "44:\tlearn: 0.2154383\ttotal: 90.1ms\tremaining: 311ms\n",
      "45:\tlearn: 0.2126432\ttotal: 92.2ms\tremaining: 309ms\n",
      "46:\tlearn: 0.2101978\ttotal: 94.2ms\tremaining: 307ms\n",
      "47:\tlearn: 0.2089476\ttotal: 96.2ms\tremaining: 305ms\n",
      "48:\tlearn: 0.2071318\ttotal: 98.2ms\tremaining: 302ms\n",
      "49:\tlearn: 0.2055842\ttotal: 100ms\tremaining: 300ms\n",
      "50:\tlearn: 0.2038027\ttotal: 102ms\tremaining: 299ms\n",
      "51:\tlearn: 0.2027767\ttotal: 104ms\tremaining: 297ms\n",
      "52:\tlearn: 0.2010287\ttotal: 106ms\tremaining: 295ms\n",
      "53:\tlearn: 0.1989437\ttotal: 108ms\tremaining: 293ms\n",
      "54:\tlearn: 0.1977908\ttotal: 110ms\tremaining: 291ms\n",
      "55:\tlearn: 0.1968123\ttotal: 112ms\tremaining: 289ms\n",
      "56:\tlearn: 0.1948112\ttotal: 114ms\tremaining: 287ms\n",
      "57:\tlearn: 0.1936972\ttotal: 116ms\tremaining: 285ms\n",
      "58:\tlearn: 0.1921714\ttotal: 118ms\tremaining: 283ms\n",
      "59:\tlearn: 0.1904280\ttotal: 120ms\tremaining: 281ms\n",
      "60:\tlearn: 0.1893649\ttotal: 123ms\tremaining: 279ms\n",
      "61:\tlearn: 0.1880555\ttotal: 125ms\tremaining: 277ms\n",
      "62:\tlearn: 0.1866072\ttotal: 126ms\tremaining: 275ms\n",
      "63:\tlearn: 0.1846539\ttotal: 129ms\tremaining: 273ms\n",
      "64:\tlearn: 0.1827052\ttotal: 131ms\tremaining: 271ms\n",
      "65:\tlearn: 0.1809483\ttotal: 133ms\tremaining: 269ms\n",
      "66:\tlearn: 0.1795800\ttotal: 135ms\tremaining: 267ms\n",
      "67:\tlearn: 0.1776862\ttotal: 137ms\tremaining: 265ms\n",
      "68:\tlearn: 0.1765831\ttotal: 139ms\tremaining: 263ms\n",
      "69:\tlearn: 0.1745922\ttotal: 141ms\tremaining: 261ms\n",
      "70:\tlearn: 0.1714427\ttotal: 143ms\tremaining: 259ms\n",
      "71:\tlearn: 0.1703476\ttotal: 145ms\tremaining: 257ms\n",
      "72:\tlearn: 0.1682923\ttotal: 147ms\tremaining: 255ms\n",
      "73:\tlearn: 0.1669010\ttotal: 149ms\tremaining: 253ms\n",
      "74:\tlearn: 0.1658962\ttotal: 151ms\tremaining: 251ms\n",
      "75:\tlearn: 0.1643923\ttotal: 153ms\tremaining: 249ms\n",
      "76:\tlearn: 0.1628027\ttotal: 155ms\tremaining: 247ms\n",
      "77:\tlearn: 0.1611360\ttotal: 157ms\tremaining: 245ms\n",
      "78:\tlearn: 0.1594644\ttotal: 159ms\tremaining: 243ms\n",
      "79:\tlearn: 0.1581927\ttotal: 161ms\tremaining: 241ms\n",
      "80:\tlearn: 0.1569541\ttotal: 163ms\tremaining: 239ms\n",
      "81:\tlearn: 0.1555091\ttotal: 165ms\tremaining: 237ms\n",
      "82:\tlearn: 0.1545190\ttotal: 167ms\tremaining: 235ms\n",
      "83:\tlearn: 0.1525163\ttotal: 169ms\tremaining: 233ms\n",
      "84:\tlearn: 0.1510677\ttotal: 171ms\tremaining: 231ms\n",
      "85:\tlearn: 0.1492765\ttotal: 173ms\tremaining: 229ms\n",
      "86:\tlearn: 0.1481251\ttotal: 175ms\tremaining: 227ms\n",
      "87:\tlearn: 0.1466098\ttotal: 177ms\tremaining: 225ms\n",
      "88:\tlearn: 0.1450310\ttotal: 179ms\tremaining: 223ms\n",
      "89:\tlearn: 0.1442197\ttotal: 181ms\tremaining: 221ms\n",
      "90:\tlearn: 0.1436116\ttotal: 183ms\tremaining: 219ms\n",
      "91:\tlearn: 0.1430432\ttotal: 185ms\tremaining: 217ms\n",
      "92:\tlearn: 0.1414310\ttotal: 187ms\tremaining: 215ms\n",
      "93:\tlearn: 0.1406887\ttotal: 189ms\tremaining: 213ms\n",
      "94:\tlearn: 0.1391572\ttotal: 191ms\tremaining: 211ms\n",
      "95:\tlearn: 0.1374524\ttotal: 193ms\tremaining: 209ms\n",
      "96:\tlearn: 0.1365875\ttotal: 195ms\tremaining: 207ms\n",
      "97:\tlearn: 0.1350945\ttotal: 197ms\tremaining: 205ms\n",
      "98:\tlearn: 0.1344171\ttotal: 200ms\tremaining: 204ms\n",
      "99:\tlearn: 0.1333986\ttotal: 202ms\tremaining: 202ms\n",
      "100:\tlearn: 0.1324810\ttotal: 204ms\tremaining: 200ms\n",
      "101:\tlearn: 0.1312875\ttotal: 206ms\tremaining: 198ms\n",
      "102:\tlearn: 0.1299567\ttotal: 208ms\tremaining: 196ms\n",
      "103:\tlearn: 0.1289815\ttotal: 210ms\tremaining: 194ms\n",
      "104:\tlearn: 0.1284497\ttotal: 212ms\tremaining: 192ms\n",
      "105:\tlearn: 0.1274139\ttotal: 214ms\tremaining: 190ms\n",
      "106:\tlearn: 0.1265944\ttotal: 216ms\tremaining: 188ms\n",
      "107:\tlearn: 0.1254104\ttotal: 218ms\tremaining: 186ms\n",
      "108:\tlearn: 0.1241455\ttotal: 220ms\tremaining: 184ms\n",
      "109:\tlearn: 0.1233069\ttotal: 222ms\tremaining: 182ms\n",
      "110:\tlearn: 0.1218307\ttotal: 224ms\tremaining: 180ms\n",
      "111:\tlearn: 0.1206797\ttotal: 226ms\tremaining: 178ms\n",
      "112:\tlearn: 0.1196913\ttotal: 228ms\tremaining: 176ms\n",
      "113:\tlearn: 0.1187405\ttotal: 231ms\tremaining: 174ms\n",
      "114:\tlearn: 0.1172105\ttotal: 233ms\tremaining: 172ms\n",
      "115:\tlearn: 0.1163881\ttotal: 235ms\tremaining: 171ms\n",
      "116:\tlearn: 0.1148738\ttotal: 238ms\tremaining: 169ms\n",
      "117:\tlearn: 0.1140724\ttotal: 240ms\tremaining: 167ms\n",
      "118:\tlearn: 0.1133592\ttotal: 243ms\tremaining: 165ms\n",
      "119:\tlearn: 0.1128485\ttotal: 245ms\tremaining: 164ms\n",
      "120:\tlearn: 0.1117398\ttotal: 248ms\tremaining: 162ms\n",
      "121:\tlearn: 0.1107495\ttotal: 250ms\tremaining: 160ms\n",
      "122:\tlearn: 0.1097568\ttotal: 253ms\tremaining: 158ms\n",
      "123:\tlearn: 0.1092496\ttotal: 259ms\tremaining: 159ms\n",
      "124:\tlearn: 0.1088349\ttotal: 262ms\tremaining: 157ms\n",
      "125:\tlearn: 0.1083842\ttotal: 264ms\tremaining: 155ms\n",
      "126:\tlearn: 0.1079818\ttotal: 266ms\tremaining: 153ms\n",
      "127:\tlearn: 0.1072790\ttotal: 268ms\tremaining: 151ms\n",
      "128:\tlearn: 0.1068068\ttotal: 270ms\tremaining: 149ms\n",
      "129:\tlearn: 0.1059952\ttotal: 273ms\tremaining: 147ms\n",
      "130:\tlearn: 0.1053132\ttotal: 275ms\tremaining: 145ms\n",
      "131:\tlearn: 0.1048209\ttotal: 278ms\tremaining: 143ms\n",
      "132:\tlearn: 0.1041282\ttotal: 280ms\tremaining: 141ms\n",
      "133:\tlearn: 0.1027111\ttotal: 282ms\tremaining: 139ms\n",
      "134:\tlearn: 0.1025169\ttotal: 284ms\tremaining: 137ms\n",
      "135:\tlearn: 0.1021261\ttotal: 286ms\tremaining: 135ms\n",
      "136:\tlearn: 0.1011775\ttotal: 288ms\tremaining: 133ms\n",
      "137:\tlearn: 0.1006993\ttotal: 290ms\tremaining: 130ms\n",
      "138:\tlearn: 0.0998908\ttotal: 292ms\tremaining: 128ms\n",
      "139:\tlearn: 0.0985169\ttotal: 294ms\tremaining: 126ms\n",
      "140:\tlearn: 0.0981610\ttotal: 296ms\tremaining: 124ms\n",
      "141:\tlearn: 0.0976817\ttotal: 298ms\tremaining: 122ms\n",
      "142:\tlearn: 0.0969475\ttotal: 300ms\tremaining: 120ms\n",
      "143:\tlearn: 0.0962295\ttotal: 302ms\tremaining: 118ms\n",
      "144:\tlearn: 0.0951526\ttotal: 304ms\tremaining: 115ms\n",
      "145:\tlearn: 0.0944033\ttotal: 307ms\tremaining: 113ms\n",
      "146:\tlearn: 0.0941280\ttotal: 308ms\tremaining: 111ms\n",
      "147:\tlearn: 0.0935566\ttotal: 311ms\tremaining: 109ms\n",
      "148:\tlearn: 0.0923644\ttotal: 313ms\tremaining: 107ms\n",
      "149:\tlearn: 0.0919397\ttotal: 315ms\tremaining: 105ms\n",
      "150:\tlearn: 0.0914686\ttotal: 316ms\tremaining: 103ms\n",
      "151:\tlearn: 0.0908161\ttotal: 319ms\tremaining: 101ms\n",
      "152:\tlearn: 0.0905301\ttotal: 321ms\tremaining: 98.5ms\n",
      "153:\tlearn: 0.0898464\ttotal: 323ms\tremaining: 96.4ms\n",
      "154:\tlearn: 0.0896168\ttotal: 325ms\tremaining: 94.3ms\n",
      "155:\tlearn: 0.0891048\ttotal: 327ms\tremaining: 92.2ms\n",
      "156:\tlearn: 0.0884009\ttotal: 329ms\tremaining: 90.1ms\n",
      "157:\tlearn: 0.0875607\ttotal: 331ms\tremaining: 88ms\n",
      "158:\tlearn: 0.0872789\ttotal: 333ms\tremaining: 85.8ms\n",
      "159:\tlearn: 0.0864569\ttotal: 335ms\tremaining: 83.7ms\n",
      "160:\tlearn: 0.0859713\ttotal: 337ms\tremaining: 81.6ms\n",
      "161:\tlearn: 0.0852053\ttotal: 339ms\tremaining: 79.5ms\n",
      "162:\tlearn: 0.0846687\ttotal: 341ms\tremaining: 77.4ms\n",
      "163:\tlearn: 0.0838312\ttotal: 343ms\tremaining: 75.3ms\n",
      "164:\tlearn: 0.0834153\ttotal: 345ms\tremaining: 73.2ms\n",
      "165:\tlearn: 0.0830582\ttotal: 347ms\tremaining: 71.1ms\n",
      "166:\tlearn: 0.0826953\ttotal: 349ms\tremaining: 69ms\n",
      "167:\tlearn: 0.0824234\ttotal: 351ms\tremaining: 66.9ms\n",
      "168:\tlearn: 0.0819437\ttotal: 353ms\tremaining: 64.8ms\n",
      "169:\tlearn: 0.0814836\ttotal: 355ms\tremaining: 62.7ms\n",
      "170:\tlearn: 0.0809987\ttotal: 357ms\tremaining: 60.6ms\n",
      "171:\tlearn: 0.0804333\ttotal: 359ms\tremaining: 58.5ms\n",
      "172:\tlearn: 0.0798158\ttotal: 361ms\tremaining: 56.4ms\n",
      "173:\tlearn: 0.0792372\ttotal: 363ms\tremaining: 54.3ms\n",
      "174:\tlearn: 0.0785339\ttotal: 365ms\tremaining: 52.2ms\n",
      "175:\tlearn: 0.0780043\ttotal: 367ms\tremaining: 50.1ms\n",
      "176:\tlearn: 0.0775228\ttotal: 369ms\tremaining: 48ms\n",
      "177:\tlearn: 0.0769549\ttotal: 372ms\tremaining: 45.9ms\n",
      "178:\tlearn: 0.0766551\ttotal: 374ms\tremaining: 43.8ms\n",
      "179:\tlearn: 0.0761716\ttotal: 376ms\tremaining: 41.7ms\n",
      "180:\tlearn: 0.0757027\ttotal: 378ms\tremaining: 39.6ms\n",
      "181:\tlearn: 0.0754860\ttotal: 380ms\tremaining: 37.6ms\n",
      "182:\tlearn: 0.0745659\ttotal: 382ms\tremaining: 35.5ms\n",
      "183:\tlearn: 0.0734017\ttotal: 384ms\tremaining: 33.4ms\n",
      "184:\tlearn: 0.0723502\ttotal: 386ms\tremaining: 31.3ms\n",
      "185:\tlearn: 0.0720124\ttotal: 388ms\tremaining: 29.2ms\n",
      "186:\tlearn: 0.0716979\ttotal: 390ms\tremaining: 27.1ms\n",
      "187:\tlearn: 0.0709937\ttotal: 392ms\tremaining: 25ms\n",
      "188:\tlearn: 0.0703290\ttotal: 394ms\tremaining: 22.9ms\n"
     ]
    },
    {
     "name": "stdout",
     "output_type": "stream",
     "text": [
      "189:\tlearn: 0.0699730\ttotal: 396ms\tremaining: 20.9ms\n",
      "190:\tlearn: 0.0694375\ttotal: 398ms\tremaining: 18.8ms\n",
      "191:\tlearn: 0.0690609\ttotal: 400ms\tremaining: 16.7ms\n",
      "192:\tlearn: 0.0688607\ttotal: 402ms\tremaining: 14.6ms\n",
      "193:\tlearn: 0.0679777\ttotal: 404ms\tremaining: 12.5ms\n",
      "194:\tlearn: 0.0677972\ttotal: 406ms\tremaining: 10.4ms\n",
      "195:\tlearn: 0.0672426\ttotal: 408ms\tremaining: 8.33ms\n",
      "196:\tlearn: 0.0670279\ttotal: 410ms\tremaining: 6.25ms\n",
      "197:\tlearn: 0.0665400\ttotal: 412ms\tremaining: 4.17ms\n",
      "198:\tlearn: 0.0659715\ttotal: 414ms\tremaining: 2.08ms\n",
      "199:\tlearn: 0.0653620\ttotal: 416ms\tremaining: 0us\n",
      "0:\tlearn: 0.4273777\ttotal: 2.01ms\tremaining: 400ms\n",
      "1:\tlearn: 0.3901485\ttotal: 4.19ms\tremaining: 415ms\n",
      "2:\tlearn: 0.3711797\ttotal: 6.17ms\tremaining: 405ms\n",
      "3:\tlearn: 0.3609641\ttotal: 8.19ms\tremaining: 401ms\n",
      "4:\tlearn: 0.3564269\ttotal: 10.2ms\tremaining: 397ms\n",
      "5:\tlearn: 0.3507086\ttotal: 12.2ms\tremaining: 395ms\n",
      "6:\tlearn: 0.3489039\ttotal: 13.9ms\tremaining: 382ms\n",
      "7:\tlearn: 0.3453750\ttotal: 16ms\tremaining: 384ms\n",
      "8:\tlearn: 0.3405952\ttotal: 18ms\tremaining: 382ms\n",
      "9:\tlearn: 0.3350206\ttotal: 20ms\tremaining: 380ms\n",
      "10:\tlearn: 0.3299506\ttotal: 22ms\tremaining: 379ms\n",
      "11:\tlearn: 0.3240738\ttotal: 24.1ms\tremaining: 377ms\n",
      "12:\tlearn: 0.3207177\ttotal: 26ms\tremaining: 374ms\n",
      "13:\tlearn: 0.3125717\ttotal: 28ms\tremaining: 372ms\n",
      "14:\tlearn: 0.3101036\ttotal: 30ms\tremaining: 370ms\n",
      "15:\tlearn: 0.3071137\ttotal: 32ms\tremaining: 368ms\n",
      "16:\tlearn: 0.3020211\ttotal: 34ms\tremaining: 366ms\n",
      "17:\tlearn: 0.2989231\ttotal: 36ms\tremaining: 364ms\n",
      "18:\tlearn: 0.2960834\ttotal: 38ms\tremaining: 362ms\n",
      "19:\tlearn: 0.2924018\ttotal: 40.1ms\tremaining: 361ms\n",
      "20:\tlearn: 0.2893363\ttotal: 42.7ms\tremaining: 364ms\n",
      "21:\tlearn: 0.2851412\ttotal: 44.9ms\tremaining: 363ms\n",
      "22:\tlearn: 0.2824415\ttotal: 46.8ms\tremaining: 360ms\n",
      "23:\tlearn: 0.2796975\ttotal: 48.9ms\tremaining: 359ms\n",
      "24:\tlearn: 0.2763086\ttotal: 50.8ms\tremaining: 356ms\n",
      "25:\tlearn: 0.2729630\ttotal: 52.9ms\tremaining: 354ms\n",
      "26:\tlearn: 0.2712425\ttotal: 54.8ms\tremaining: 351ms\n",
      "27:\tlearn: 0.2684227\ttotal: 56.8ms\tremaining: 349ms\n",
      "28:\tlearn: 0.2660319\ttotal: 58.9ms\tremaining: 347ms\n",
      "29:\tlearn: 0.2629102\ttotal: 60.9ms\tremaining: 345ms\n",
      "30:\tlearn: 0.2583914\ttotal: 62.9ms\tremaining: 343ms\n",
      "31:\tlearn: 0.2541407\ttotal: 64.9ms\tremaining: 341ms\n",
      "32:\tlearn: 0.2513048\ttotal: 66.9ms\tremaining: 339ms\n",
      "33:\tlearn: 0.2494600\ttotal: 69ms\tremaining: 337ms\n",
      "34:\tlearn: 0.2469523\ttotal: 71ms\tremaining: 335ms\n",
      "35:\tlearn: 0.2438042\ttotal: 73ms\tremaining: 333ms\n",
      "36:\tlearn: 0.2421673\ttotal: 75.1ms\tremaining: 331ms\n",
      "37:\tlearn: 0.2388042\ttotal: 77.1ms\tremaining: 329ms\n",
      "38:\tlearn: 0.2367204\ttotal: 79.2ms\tremaining: 327ms\n",
      "39:\tlearn: 0.2343128\ttotal: 81.1ms\tremaining: 325ms\n",
      "40:\tlearn: 0.2313930\ttotal: 83.2ms\tremaining: 323ms\n",
      "41:\tlearn: 0.2291442\ttotal: 85.1ms\tremaining: 320ms\n",
      "42:\tlearn: 0.2278855\ttotal: 87.2ms\tremaining: 318ms\n",
      "43:\tlearn: 0.2250787\ttotal: 89.2ms\tremaining: 316ms\n",
      "44:\tlearn: 0.2229211\ttotal: 91.3ms\tremaining: 314ms\n",
      "45:\tlearn: 0.2202363\ttotal: 93.2ms\tremaining: 312ms\n",
      "46:\tlearn: 0.2177777\ttotal: 95.3ms\tremaining: 310ms\n",
      "47:\tlearn: 0.2163017\ttotal: 97.3ms\tremaining: 308ms\n",
      "48:\tlearn: 0.2142905\ttotal: 99.3ms\tremaining: 306ms\n",
      "49:\tlearn: 0.2117038\ttotal: 101ms\tremaining: 304ms\n",
      "50:\tlearn: 0.2094377\ttotal: 103ms\tremaining: 302ms\n",
      "51:\tlearn: 0.2081758\ttotal: 105ms\tremaining: 299ms\n",
      "52:\tlearn: 0.2050181\ttotal: 107ms\tremaining: 297ms\n",
      "53:\tlearn: 0.2038323\ttotal: 109ms\tremaining: 296ms\n",
      "54:\tlearn: 0.2019109\ttotal: 111ms\tremaining: 294ms\n",
      "55:\tlearn: 0.1997910\ttotal: 113ms\tremaining: 292ms\n",
      "56:\tlearn: 0.1976259\ttotal: 115ms\tremaining: 290ms\n",
      "57:\tlearn: 0.1963056\ttotal: 117ms\tremaining: 288ms\n",
      "58:\tlearn: 0.1950367\ttotal: 119ms\tremaining: 286ms\n",
      "59:\tlearn: 0.1920244\ttotal: 121ms\tremaining: 283ms\n",
      "60:\tlearn: 0.1901212\ttotal: 123ms\tremaining: 281ms\n",
      "61:\tlearn: 0.1873315\ttotal: 125ms\tremaining: 279ms\n",
      "62:\tlearn: 0.1858488\ttotal: 128ms\tremaining: 277ms\n",
      "63:\tlearn: 0.1840154\ttotal: 130ms\tremaining: 275ms\n",
      "64:\tlearn: 0.1831264\ttotal: 132ms\tremaining: 273ms\n",
      "65:\tlearn: 0.1807241\ttotal: 134ms\tremaining: 271ms\n",
      "66:\tlearn: 0.1797324\ttotal: 136ms\tremaining: 269ms\n",
      "67:\tlearn: 0.1771829\ttotal: 138ms\tremaining: 267ms\n",
      "68:\tlearn: 0.1754128\ttotal: 140ms\tremaining: 265ms\n",
      "69:\tlearn: 0.1735443\ttotal: 142ms\tremaining: 263ms\n",
      "70:\tlearn: 0.1708370\ttotal: 144ms\tremaining: 261ms\n",
      "71:\tlearn: 0.1695806\ttotal: 146ms\tremaining: 259ms\n",
      "72:\tlearn: 0.1678918\ttotal: 148ms\tremaining: 257ms\n",
      "73:\tlearn: 0.1668819\ttotal: 150ms\tremaining: 255ms\n",
      "74:\tlearn: 0.1651317\ttotal: 152ms\tremaining: 253ms\n",
      "75:\tlearn: 0.1635596\ttotal: 154ms\tremaining: 251ms\n",
      "76:\tlearn: 0.1615819\ttotal: 156ms\tremaining: 248ms\n",
      "77:\tlearn: 0.1606627\ttotal: 158ms\tremaining: 246ms\n",
      "78:\tlearn: 0.1596271\ttotal: 160ms\tremaining: 244ms\n",
      "79:\tlearn: 0.1585821\ttotal: 162ms\tremaining: 242ms\n",
      "80:\tlearn: 0.1579814\ttotal: 164ms\tremaining: 240ms\n",
      "81:\tlearn: 0.1573576\ttotal: 166ms\tremaining: 238ms\n",
      "82:\tlearn: 0.1565818\ttotal: 168ms\tremaining: 236ms\n",
      "83:\tlearn: 0.1550391\ttotal: 170ms\tremaining: 234ms\n",
      "84:\tlearn: 0.1536876\ttotal: 172ms\tremaining: 232ms\n",
      "85:\tlearn: 0.1527150\ttotal: 174ms\tremaining: 230ms\n",
      "86:\tlearn: 0.1519154\ttotal: 176ms\tremaining: 228ms\n",
      "87:\tlearn: 0.1503368\ttotal: 178ms\tremaining: 226ms\n",
      "88:\tlearn: 0.1486945\ttotal: 180ms\tremaining: 224ms\n",
      "89:\tlearn: 0.1471220\ttotal: 182ms\tremaining: 222ms\n",
      "90:\tlearn: 0.1465814\ttotal: 184ms\tremaining: 220ms\n",
      "91:\tlearn: 0.1456935\ttotal: 186ms\tremaining: 218ms\n",
      "92:\tlearn: 0.1441717\ttotal: 188ms\tremaining: 216ms\n",
      "93:\tlearn: 0.1431275\ttotal: 190ms\tremaining: 214ms\n",
      "94:\tlearn: 0.1422189\ttotal: 192ms\tremaining: 212ms\n",
      "95:\tlearn: 0.1415127\ttotal: 194ms\tremaining: 210ms\n",
      "96:\tlearn: 0.1405257\ttotal: 196ms\tremaining: 208ms\n",
      "97:\tlearn: 0.1392802\ttotal: 198ms\tremaining: 206ms\n",
      "98:\tlearn: 0.1387963\ttotal: 200ms\tremaining: 204ms\n",
      "99:\tlearn: 0.1378426\ttotal: 202ms\tremaining: 202ms\n",
      "100:\tlearn: 0.1370089\ttotal: 204ms\tremaining: 200ms\n",
      "101:\tlearn: 0.1355464\ttotal: 206ms\tremaining: 198ms\n",
      "102:\tlearn: 0.1342707\ttotal: 209ms\tremaining: 196ms\n",
      "103:\tlearn: 0.1330622\ttotal: 211ms\tremaining: 195ms\n",
      "104:\tlearn: 0.1313320\ttotal: 213ms\tremaining: 193ms\n",
      "105:\tlearn: 0.1304082\ttotal: 215ms\tremaining: 191ms\n",
      "106:\tlearn: 0.1289884\ttotal: 217ms\tremaining: 189ms\n",
      "107:\tlearn: 0.1279864\ttotal: 219ms\tremaining: 187ms\n",
      "108:\tlearn: 0.1269769\ttotal: 221ms\tremaining: 184ms\n",
      "109:\tlearn: 0.1261645\ttotal: 223ms\tremaining: 182ms\n",
      "110:\tlearn: 0.1255625\ttotal: 225ms\tremaining: 180ms\n",
      "111:\tlearn: 0.1248408\ttotal: 227ms\tremaining: 178ms\n",
      "112:\tlearn: 0.1244110\ttotal: 229ms\tremaining: 176ms\n",
      "113:\tlearn: 0.1228553\ttotal: 231ms\tremaining: 174ms\n",
      "114:\tlearn: 0.1218551\ttotal: 233ms\tremaining: 172ms\n",
      "115:\tlearn: 0.1205599\ttotal: 235ms\tremaining: 170ms\n",
      "116:\tlearn: 0.1192507\ttotal: 237ms\tremaining: 168ms\n",
      "117:\tlearn: 0.1185272\ttotal: 239ms\tremaining: 166ms\n",
      "118:\tlearn: 0.1174083\ttotal: 241ms\tremaining: 164ms\n",
      "119:\tlearn: 0.1162777\ttotal: 243ms\tremaining: 162ms\n",
      "120:\tlearn: 0.1151399\ttotal: 245ms\tremaining: 160ms\n",
      "121:\tlearn: 0.1140512\ttotal: 247ms\tremaining: 158ms\n",
      "122:\tlearn: 0.1127882\ttotal: 249ms\tremaining: 156ms\n",
      "123:\tlearn: 0.1114638\ttotal: 252ms\tremaining: 154ms\n",
      "124:\tlearn: 0.1107349\ttotal: 254ms\tremaining: 152ms\n",
      "125:\tlearn: 0.1093627\ttotal: 256ms\tremaining: 150ms\n",
      "126:\tlearn: 0.1088208\ttotal: 258ms\tremaining: 148ms\n",
      "127:\tlearn: 0.1076034\ttotal: 260ms\tremaining: 146ms\n",
      "128:\tlearn: 0.1067060\ttotal: 262ms\tremaining: 144ms\n",
      "129:\tlearn: 0.1058334\ttotal: 264ms\tremaining: 142ms\n",
      "130:\tlearn: 0.1050626\ttotal: 266ms\tremaining: 140ms\n",
      "131:\tlearn: 0.1041124\ttotal: 268ms\tremaining: 138ms\n",
      "132:\tlearn: 0.1033776\ttotal: 270ms\tremaining: 136ms\n",
      "133:\tlearn: 0.1029063\ttotal: 272ms\tremaining: 134ms\n",
      "134:\tlearn: 0.1021592\ttotal: 274ms\tremaining: 132ms\n",
      "135:\tlearn: 0.1016657\ttotal: 276ms\tremaining: 130ms\n",
      "136:\tlearn: 0.1010927\ttotal: 278ms\tremaining: 128ms\n",
      "137:\tlearn: 0.1006864\ttotal: 280ms\tremaining: 126ms\n",
      "138:\tlearn: 0.1001288\ttotal: 282ms\tremaining: 124ms\n",
      "139:\tlearn: 0.0992919\ttotal: 284ms\tremaining: 122ms\n",
      "140:\tlearn: 0.0985265\ttotal: 286ms\tremaining: 120ms\n",
      "141:\tlearn: 0.0979962\ttotal: 288ms\tremaining: 118ms\n",
      "142:\tlearn: 0.0972505\ttotal: 294ms\tremaining: 117ms\n",
      "143:\tlearn: 0.0967270\ttotal: 296ms\tremaining: 115ms\n",
      "144:\tlearn: 0.0954939\ttotal: 298ms\tremaining: 113ms\n",
      "145:\tlearn: 0.0948480\ttotal: 300ms\tremaining: 111ms\n",
      "146:\tlearn: 0.0938468\ttotal: 302ms\tremaining: 109ms\n",
      "147:\tlearn: 0.0934442\ttotal: 304ms\tremaining: 107ms\n",
      "148:\tlearn: 0.0927590\ttotal: 307ms\tremaining: 105ms\n",
      "149:\tlearn: 0.0923465\ttotal: 309ms\tremaining: 103ms\n",
      "150:\tlearn: 0.0919057\ttotal: 311ms\tremaining: 101ms\n",
      "151:\tlearn: 0.0912892\ttotal: 314ms\tremaining: 99.1ms\n",
      "152:\tlearn: 0.0906860\ttotal: 316ms\tremaining: 97.1ms\n",
      "153:\tlearn: 0.0896925\ttotal: 318ms\tremaining: 95.1ms\n",
      "154:\tlearn: 0.0890592\ttotal: 321ms\tremaining: 93.1ms\n",
      "155:\tlearn: 0.0885980\ttotal: 323ms\tremaining: 91.2ms\n",
      "156:\tlearn: 0.0881604\ttotal: 325ms\tremaining: 89.1ms\n",
      "157:\tlearn: 0.0877847\ttotal: 328ms\tremaining: 87.1ms\n",
      "158:\tlearn: 0.0868364\ttotal: 330ms\tremaining: 85ms\n",
      "159:\tlearn: 0.0864020\ttotal: 332ms\tremaining: 82.9ms\n",
      "160:\tlearn: 0.0858125\ttotal: 334ms\tremaining: 80.8ms\n",
      "161:\tlearn: 0.0855949\ttotal: 336ms\tremaining: 78.7ms\n",
      "162:\tlearn: 0.0849848\ttotal: 338ms\tremaining: 76.7ms\n",
      "163:\tlearn: 0.0842487\ttotal: 340ms\tremaining: 74.6ms\n",
      "164:\tlearn: 0.0839928\ttotal: 342ms\tremaining: 72.5ms\n",
      "165:\tlearn: 0.0833148\ttotal: 344ms\tremaining: 70.4ms\n",
      "166:\tlearn: 0.0827713\ttotal: 346ms\tremaining: 68.3ms\n",
      "167:\tlearn: 0.0821682\ttotal: 348ms\tremaining: 66.2ms\n",
      "168:\tlearn: 0.0818471\ttotal: 350ms\tremaining: 64.2ms\n",
      "169:\tlearn: 0.0814878\ttotal: 352ms\tremaining: 62.1ms\n",
      "170:\tlearn: 0.0810352\ttotal: 354ms\tremaining: 60ms\n",
      "171:\tlearn: 0.0806730\ttotal: 356ms\tremaining: 57.9ms\n",
      "172:\tlearn: 0.0795180\ttotal: 358ms\tremaining: 55.8ms\n",
      "173:\tlearn: 0.0789357\ttotal: 360ms\tremaining: 53.8ms\n",
      "174:\tlearn: 0.0780423\ttotal: 362ms\tremaining: 51.7ms\n",
      "175:\tlearn: 0.0774335\ttotal: 364ms\tremaining: 49.6ms\n",
      "176:\tlearn: 0.0772287\ttotal: 366ms\tremaining: 47.5ms\n",
      "177:\tlearn: 0.0767152\ttotal: 368ms\tremaining: 45.5ms\n",
      "178:\tlearn: 0.0759493\ttotal: 370ms\tremaining: 43.4ms\n",
      "179:\tlearn: 0.0756529\ttotal: 372ms\tremaining: 41.3ms\n",
      "180:\tlearn: 0.0748561\ttotal: 374ms\tremaining: 39.2ms\n",
      "181:\tlearn: 0.0739447\ttotal: 376ms\tremaining: 37.2ms\n",
      "182:\tlearn: 0.0735318\ttotal: 378ms\tremaining: 35.1ms\n",
      "183:\tlearn: 0.0732776\ttotal: 380ms\tremaining: 33ms\n",
      "184:\tlearn: 0.0729042\ttotal: 382ms\tremaining: 30.9ms\n",
      "185:\tlearn: 0.0724261\ttotal: 384ms\tremaining: 28.9ms\n",
      "186:\tlearn: 0.0716758\ttotal: 386ms\tremaining: 26.8ms\n",
      "187:\tlearn: 0.0710468\ttotal: 388ms\tremaining: 24.7ms\n",
      "188:\tlearn: 0.0705346\ttotal: 390ms\tremaining: 22.7ms\n",
      "189:\tlearn: 0.0695984\ttotal: 392ms\tremaining: 20.6ms\n",
      "190:\tlearn: 0.0692573\ttotal: 394ms\tremaining: 18.6ms\n",
      "191:\tlearn: 0.0689973\ttotal: 396ms\tremaining: 16.5ms\n",
      "192:\tlearn: 0.0687915\ttotal: 398ms\tremaining: 14.4ms\n",
      "193:\tlearn: 0.0683443\ttotal: 400ms\tremaining: 12.4ms\n",
      "194:\tlearn: 0.0678560\ttotal: 402ms\tremaining: 10.3ms\n",
      "195:\tlearn: 0.0675549\ttotal: 404ms\tremaining: 8.24ms\n",
      "196:\tlearn: 0.0669796\ttotal: 406ms\tremaining: 6.19ms\n",
      "197:\tlearn: 0.0665695\ttotal: 408ms\tremaining: 4.12ms\n",
      "198:\tlearn: 0.0657115\ttotal: 410ms\tremaining: 2.06ms\n",
      "199:\tlearn: 0.0651434\ttotal: 412ms\tremaining: 0us\n"
     ]
    },
    {
     "name": "stdout",
     "output_type": "stream",
     "text": [
      "0:\tlearn: 0.4233319\ttotal: 1.98ms\tremaining: 394ms\n",
      "1:\tlearn: 0.3835355\ttotal: 4.27ms\tremaining: 423ms\n",
      "2:\tlearn: 0.3708897\ttotal: 6.24ms\tremaining: 410ms\n",
      "3:\tlearn: 0.3629939\ttotal: 8.37ms\tremaining: 410ms\n",
      "4:\tlearn: 0.3566410\ttotal: 10.3ms\tremaining: 404ms\n",
      "5:\tlearn: 0.3486623\ttotal: 12.3ms\tremaining: 399ms\n",
      "6:\tlearn: 0.3447646\ttotal: 14.3ms\tremaining: 395ms\n",
      "7:\tlearn: 0.3404701\ttotal: 16.3ms\tremaining: 391ms\n",
      "8:\tlearn: 0.3348848\ttotal: 18.3ms\tremaining: 388ms\n",
      "9:\tlearn: 0.3269296\ttotal: 20.3ms\tremaining: 386ms\n",
      "10:\tlearn: 0.3240267\ttotal: 22.3ms\tremaining: 383ms\n",
      "11:\tlearn: 0.3209195\ttotal: 24.4ms\tremaining: 382ms\n",
      "12:\tlearn: 0.3179061\ttotal: 26.3ms\tremaining: 379ms\n",
      "13:\tlearn: 0.3136125\ttotal: 28.4ms\tremaining: 377ms\n",
      "14:\tlearn: 0.3104496\ttotal: 30.4ms\tremaining: 375ms\n",
      "15:\tlearn: 0.3067878\ttotal: 32.4ms\tremaining: 373ms\n",
      "16:\tlearn: 0.3033333\ttotal: 34.4ms\tremaining: 371ms\n",
      "17:\tlearn: 0.3016311\ttotal: 36.5ms\tremaining: 369ms\n",
      "18:\tlearn: 0.2983460\ttotal: 38.5ms\tremaining: 367ms\n",
      "19:\tlearn: 0.2934383\ttotal: 40.5ms\tremaining: 365ms\n",
      "20:\tlearn: 0.2909692\ttotal: 42.5ms\tremaining: 362ms\n",
      "21:\tlearn: 0.2872966\ttotal: 44.6ms\tremaining: 361ms\n",
      "22:\tlearn: 0.2826459\ttotal: 46.8ms\tremaining: 360ms\n",
      "23:\tlearn: 0.2794284\ttotal: 48.8ms\tremaining: 358ms\n",
      "24:\tlearn: 0.2759900\ttotal: 50.9ms\tremaining: 356ms\n",
      "25:\tlearn: 0.2729328\ttotal: 53ms\tremaining: 354ms\n",
      "26:\tlearn: 0.2694991\ttotal: 55.1ms\tremaining: 353ms\n",
      "27:\tlearn: 0.2671153\ttotal: 57.3ms\tremaining: 352ms\n",
      "28:\tlearn: 0.2636770\ttotal: 59.4ms\tremaining: 351ms\n",
      "29:\tlearn: 0.2604361\ttotal: 61.4ms\tremaining: 348ms\n",
      "30:\tlearn: 0.2573853\ttotal: 63.4ms\tremaining: 346ms\n",
      "31:\tlearn: 0.2558231\ttotal: 65.4ms\tremaining: 343ms\n",
      "32:\tlearn: 0.2543850\ttotal: 67.4ms\tremaining: 341ms\n",
      "33:\tlearn: 0.2517490\ttotal: 69.3ms\tremaining: 339ms\n",
      "34:\tlearn: 0.2487571\ttotal: 71.4ms\tremaining: 336ms\n",
      "35:\tlearn: 0.2459876\ttotal: 73.3ms\tremaining: 334ms\n",
      "36:\tlearn: 0.2442777\ttotal: 75.4ms\tremaining: 332ms\n",
      "37:\tlearn: 0.2409707\ttotal: 77.4ms\tremaining: 330ms\n",
      "38:\tlearn: 0.2391134\ttotal: 79.5ms\tremaining: 328ms\n",
      "39:\tlearn: 0.2369263\ttotal: 81.5ms\tremaining: 326ms\n",
      "40:\tlearn: 0.2338088\ttotal: 83.5ms\tremaining: 324ms\n",
      "41:\tlearn: 0.2303886\ttotal: 85.4ms\tremaining: 321ms\n",
      "42:\tlearn: 0.2286190\ttotal: 87.5ms\tremaining: 319ms\n",
      "43:\tlearn: 0.2268581\ttotal: 89.4ms\tremaining: 317ms\n",
      "44:\tlearn: 0.2252707\ttotal: 91.4ms\tremaining: 315ms\n",
      "45:\tlearn: 0.2243663\ttotal: 93.4ms\tremaining: 313ms\n",
      "46:\tlearn: 0.2224961\ttotal: 95.4ms\tremaining: 311ms\n",
      "47:\tlearn: 0.2196343\ttotal: 97.4ms\tremaining: 308ms\n",
      "48:\tlearn: 0.2167661\ttotal: 99.4ms\tremaining: 306ms\n",
      "49:\tlearn: 0.2145073\ttotal: 101ms\tremaining: 304ms\n",
      "50:\tlearn: 0.2125392\ttotal: 103ms\tremaining: 302ms\n",
      "51:\tlearn: 0.2108881\ttotal: 105ms\tremaining: 300ms\n",
      "52:\tlearn: 0.2090537\ttotal: 107ms\tremaining: 298ms\n",
      "53:\tlearn: 0.2062201\ttotal: 109ms\tremaining: 296ms\n",
      "54:\tlearn: 0.2044457\ttotal: 111ms\tremaining: 294ms\n",
      "55:\tlearn: 0.2025704\ttotal: 113ms\tremaining: 291ms\n",
      "56:\tlearn: 0.2006559\ttotal: 115ms\tremaining: 289ms\n",
      "57:\tlearn: 0.1988966\ttotal: 117ms\tremaining: 287ms\n",
      "58:\tlearn: 0.1968024\ttotal: 119ms\tremaining: 285ms\n",
      "59:\tlearn: 0.1942079\ttotal: 121ms\tremaining: 283ms\n",
      "60:\tlearn: 0.1930024\ttotal: 123ms\tremaining: 281ms\n",
      "61:\tlearn: 0.1903526\ttotal: 126ms\tremaining: 279ms\n",
      "62:\tlearn: 0.1891863\ttotal: 128ms\tremaining: 277ms\n",
      "63:\tlearn: 0.1872986\ttotal: 130ms\tremaining: 275ms\n",
      "64:\tlearn: 0.1864863\ttotal: 132ms\tremaining: 273ms\n",
      "65:\tlearn: 0.1845591\ttotal: 134ms\tremaining: 272ms\n",
      "66:\tlearn: 0.1819601\ttotal: 136ms\tremaining: 270ms\n",
      "67:\tlearn: 0.1809666\ttotal: 138ms\tremaining: 267ms\n",
      "68:\tlearn: 0.1792685\ttotal: 140ms\tremaining: 265ms\n",
      "69:\tlearn: 0.1775541\ttotal: 142ms\tremaining: 263ms\n",
      "70:\tlearn: 0.1759801\ttotal: 144ms\tremaining: 261ms\n",
      "71:\tlearn: 0.1742988\ttotal: 146ms\tremaining: 259ms\n",
      "72:\tlearn: 0.1732223\ttotal: 148ms\tremaining: 257ms\n",
      "73:\tlearn: 0.1720420\ttotal: 150ms\tremaining: 255ms\n",
      "74:\tlearn: 0.1703878\ttotal: 152ms\tremaining: 253ms\n",
      "75:\tlearn: 0.1691608\ttotal: 154ms\tremaining: 251ms\n",
      "76:\tlearn: 0.1674516\ttotal: 156ms\tremaining: 249ms\n",
      "77:\tlearn: 0.1661111\ttotal: 158ms\tremaining: 247ms\n",
      "78:\tlearn: 0.1643447\ttotal: 160ms\tremaining: 245ms\n",
      "79:\tlearn: 0.1622938\ttotal: 162ms\tremaining: 243ms\n",
      "80:\tlearn: 0.1608828\ttotal: 164ms\tremaining: 241ms\n",
      "81:\tlearn: 0.1595732\ttotal: 166ms\tremaining: 239ms\n",
      "82:\tlearn: 0.1591113\ttotal: 168ms\tremaining: 237ms\n",
      "83:\tlearn: 0.1582733\ttotal: 170ms\tremaining: 235ms\n",
      "84:\tlearn: 0.1573450\ttotal: 172ms\tremaining: 233ms\n",
      "85:\tlearn: 0.1559041\ttotal: 174ms\tremaining: 231ms\n",
      "86:\tlearn: 0.1547507\ttotal: 176ms\tremaining: 229ms\n",
      "87:\tlearn: 0.1542822\ttotal: 178ms\tremaining: 227ms\n",
      "88:\tlearn: 0.1528719\ttotal: 180ms\tremaining: 225ms\n",
      "89:\tlearn: 0.1508248\ttotal: 182ms\tremaining: 223ms\n",
      "90:\tlearn: 0.1497963\ttotal: 184ms\tremaining: 221ms\n",
      "91:\tlearn: 0.1491769\ttotal: 186ms\tremaining: 219ms\n",
      "92:\tlearn: 0.1485715\ttotal: 188ms\tremaining: 217ms\n",
      "93:\tlearn: 0.1473295\ttotal: 190ms\tremaining: 215ms\n",
      "94:\tlearn: 0.1461947\ttotal: 192ms\tremaining: 213ms\n",
      "95:\tlearn: 0.1451766\ttotal: 194ms\tremaining: 211ms\n",
      "96:\tlearn: 0.1446580\ttotal: 196ms\tremaining: 209ms\n",
      "97:\tlearn: 0.1437714\ttotal: 199ms\tremaining: 207ms\n",
      "98:\tlearn: 0.1425829\ttotal: 201ms\tremaining: 205ms\n",
      "99:\tlearn: 0.1417310\ttotal: 203ms\tremaining: 203ms\n",
      "100:\tlearn: 0.1402352\ttotal: 205ms\tremaining: 201ms\n",
      "101:\tlearn: 0.1385419\ttotal: 207ms\tremaining: 199ms\n",
      "102:\tlearn: 0.1376208\ttotal: 209ms\tremaining: 197ms\n",
      "103:\tlearn: 0.1362183\ttotal: 211ms\tremaining: 195ms\n",
      "104:\tlearn: 0.1345073\ttotal: 213ms\tremaining: 193ms\n",
      "105:\tlearn: 0.1331041\ttotal: 215ms\tremaining: 191ms\n",
      "106:\tlearn: 0.1323569\ttotal: 217ms\tremaining: 189ms\n",
      "107:\tlearn: 0.1312570\ttotal: 219ms\tremaining: 187ms\n",
      "108:\tlearn: 0.1303456\ttotal: 221ms\tremaining: 185ms\n",
      "109:\tlearn: 0.1292177\ttotal: 223ms\tremaining: 183ms\n",
      "110:\tlearn: 0.1276269\ttotal: 225ms\tremaining: 181ms\n",
      "111:\tlearn: 0.1268311\ttotal: 227ms\tremaining: 179ms\n",
      "112:\tlearn: 0.1259696\ttotal: 229ms\tremaining: 177ms\n",
      "113:\tlearn: 0.1241626\ttotal: 231ms\tremaining: 175ms\n",
      "114:\tlearn: 0.1232424\ttotal: 233ms\tremaining: 173ms\n",
      "115:\tlearn: 0.1222524\ttotal: 239ms\tremaining: 173ms\n",
      "116:\tlearn: 0.1210544\ttotal: 241ms\tremaining: 171ms\n",
      "117:\tlearn: 0.1203261\ttotal: 243ms\tremaining: 169ms\n",
      "118:\tlearn: 0.1198781\ttotal: 245ms\tremaining: 167ms\n",
      "119:\tlearn: 0.1190455\ttotal: 247ms\tremaining: 165ms\n",
      "120:\tlearn: 0.1182437\ttotal: 249ms\tremaining: 163ms\n",
      "121:\tlearn: 0.1177188\ttotal: 252ms\tremaining: 161ms\n",
      "122:\tlearn: 0.1170536\ttotal: 254ms\tremaining: 159ms\n",
      "123:\tlearn: 0.1164695\ttotal: 256ms\tremaining: 157ms\n",
      "124:\tlearn: 0.1158608\ttotal: 258ms\tremaining: 155ms\n",
      "125:\tlearn: 0.1150541\ttotal: 260ms\tremaining: 153ms\n",
      "126:\tlearn: 0.1140404\ttotal: 262ms\tremaining: 151ms\n",
      "127:\tlearn: 0.1129986\ttotal: 264ms\tremaining: 148ms\n",
      "128:\tlearn: 0.1120624\ttotal: 266ms\tremaining: 146ms\n",
      "129:\tlearn: 0.1112003\ttotal: 268ms\tremaining: 144ms\n",
      "130:\tlearn: 0.1096092\ttotal: 270ms\tremaining: 142ms\n",
      "131:\tlearn: 0.1086753\ttotal: 272ms\tremaining: 140ms\n",
      "132:\tlearn: 0.1078692\ttotal: 274ms\tremaining: 138ms\n",
      "133:\tlearn: 0.1061961\ttotal: 276ms\tremaining: 136ms\n",
      "134:\tlearn: 0.1059968\ttotal: 278ms\tremaining: 134ms\n",
      "135:\tlearn: 0.1055003\ttotal: 280ms\tremaining: 132ms\n",
      "136:\tlearn: 0.1040703\ttotal: 282ms\tremaining: 130ms\n",
      "137:\tlearn: 0.1035336\ttotal: 284ms\tremaining: 128ms\n",
      "138:\tlearn: 0.1028262\ttotal: 286ms\tremaining: 126ms\n",
      "139:\tlearn: 0.1021483\ttotal: 288ms\tremaining: 123ms\n",
      "140:\tlearn: 0.1015126\ttotal: 290ms\tremaining: 121ms\n",
      "141:\tlearn: 0.1008592\ttotal: 292ms\tremaining: 119ms\n",
      "142:\tlearn: 0.0997246\ttotal: 294ms\tremaining: 117ms\n",
      "143:\tlearn: 0.0982289\ttotal: 296ms\tremaining: 115ms\n",
      "144:\tlearn: 0.0978918\ttotal: 298ms\tremaining: 113ms\n",
      "145:\tlearn: 0.0972380\ttotal: 300ms\tremaining: 111ms\n",
      "146:\tlearn: 0.0962527\ttotal: 302ms\tremaining: 109ms\n",
      "147:\tlearn: 0.0951951\ttotal: 304ms\tremaining: 107ms\n",
      "148:\tlearn: 0.0944424\ttotal: 306ms\tremaining: 105ms\n",
      "149:\tlearn: 0.0934375\ttotal: 308ms\tremaining: 103ms\n",
      "150:\tlearn: 0.0928737\ttotal: 310ms\tremaining: 101ms\n",
      "151:\tlearn: 0.0925318\ttotal: 312ms\tremaining: 98.7ms\n",
      "152:\tlearn: 0.0920445\ttotal: 314ms\tremaining: 96.6ms\n",
      "153:\tlearn: 0.0912161\ttotal: 316ms\tremaining: 94.5ms\n",
      "154:\tlearn: 0.0904920\ttotal: 318ms\tremaining: 92.4ms\n",
      "155:\tlearn: 0.0901352\ttotal: 320ms\tremaining: 90.4ms\n",
      "156:\tlearn: 0.0892912\ttotal: 322ms\tremaining: 88.3ms\n",
      "157:\tlearn: 0.0884878\ttotal: 324ms\tremaining: 86.2ms\n",
      "158:\tlearn: 0.0875164\ttotal: 326ms\tremaining: 84.2ms\n",
      "159:\tlearn: 0.0870868\ttotal: 329ms\tremaining: 82.1ms\n",
      "160:\tlearn: 0.0859609\ttotal: 331ms\tremaining: 80.1ms\n",
      "161:\tlearn: 0.0847251\ttotal: 333ms\tremaining: 78ms\n",
      "162:\tlearn: 0.0843447\ttotal: 335ms\tremaining: 76ms\n",
      "163:\tlearn: 0.0833650\ttotal: 337ms\tremaining: 73.9ms\n",
      "164:\tlearn: 0.0828922\ttotal: 339ms\tremaining: 71.8ms\n",
      "165:\tlearn: 0.0820379\ttotal: 341ms\tremaining: 69.8ms\n",
      "166:\tlearn: 0.0810172\ttotal: 343ms\tremaining: 67.7ms\n",
      "167:\tlearn: 0.0805767\ttotal: 345ms\tremaining: 65.7ms\n",
      "168:\tlearn: 0.0802593\ttotal: 347ms\tremaining: 63.6ms\n",
      "169:\tlearn: 0.0797159\ttotal: 349ms\tremaining: 61.5ms\n",
      "170:\tlearn: 0.0793042\ttotal: 351ms\tremaining: 59.5ms\n",
      "171:\tlearn: 0.0786511\ttotal: 353ms\tremaining: 57.4ms\n",
      "172:\tlearn: 0.0779649\ttotal: 355ms\tremaining: 55.4ms\n",
      "173:\tlearn: 0.0774324\ttotal: 357ms\tremaining: 53.3ms\n",
      "174:\tlearn: 0.0765882\ttotal: 359ms\tremaining: 51.2ms\n",
      "175:\tlearn: 0.0761298\ttotal: 361ms\tremaining: 49.2ms\n",
      "176:\tlearn: 0.0755280\ttotal: 363ms\tremaining: 47.1ms\n",
      "177:\tlearn: 0.0749015\ttotal: 365ms\tremaining: 45.1ms\n",
      "178:\tlearn: 0.0741081\ttotal: 367ms\tremaining: 43ms\n",
      "179:\tlearn: 0.0735363\ttotal: 369ms\tremaining: 41ms\n",
      "180:\tlearn: 0.0731859\ttotal: 371ms\tremaining: 38.9ms\n",
      "181:\tlearn: 0.0726378\ttotal: 373ms\tremaining: 36.9ms\n",
      "182:\tlearn: 0.0716524\ttotal: 375ms\tremaining: 34.8ms\n",
      "183:\tlearn: 0.0709850\ttotal: 377ms\tremaining: 32.7ms\n",
      "184:\tlearn: 0.0707469\ttotal: 379ms\tremaining: 30.7ms\n",
      "185:\tlearn: 0.0704072\ttotal: 381ms\tremaining: 28.6ms\n",
      "186:\tlearn: 0.0701178\ttotal: 383ms\tremaining: 26.6ms\n",
      "187:\tlearn: 0.0694417\ttotal: 385ms\tremaining: 24.5ms\n",
      "188:\tlearn: 0.0687026\ttotal: 387ms\tremaining: 22.5ms\n",
      "189:\tlearn: 0.0681142\ttotal: 389ms\tremaining: 20.5ms\n",
      "190:\tlearn: 0.0678553\ttotal: 391ms\tremaining: 18.4ms\n",
      "191:\tlearn: 0.0671894\ttotal: 393ms\tremaining: 16.4ms\n"
     ]
    },
    {
     "name": "stdout",
     "output_type": "stream",
     "text": [
      "192:\tlearn: 0.0668945\ttotal: 396ms\tremaining: 14.4ms\n",
      "193:\tlearn: 0.0663773\ttotal: 398ms\tremaining: 12.3ms\n",
      "194:\tlearn: 0.0660557\ttotal: 400ms\tremaining: 10.3ms\n",
      "195:\tlearn: 0.0652195\ttotal: 402ms\tremaining: 8.21ms\n",
      "196:\tlearn: 0.0647176\ttotal: 404ms\tremaining: 6.16ms\n",
      "197:\tlearn: 0.0643768\ttotal: 407ms\tremaining: 4.11ms\n",
      "198:\tlearn: 0.0639542\ttotal: 409ms\tremaining: 2.05ms\n",
      "199:\tlearn: 0.0636056\ttotal: 411ms\tremaining: 0us\n",
      "0:\tlearn: 0.4236399\ttotal: 1.96ms\tremaining: 390ms\n",
      "1:\tlearn: 0.3777244\ttotal: 3.98ms\tremaining: 394ms\n",
      "2:\tlearn: 0.3616314\ttotal: 5.89ms\tremaining: 387ms\n",
      "3:\tlearn: 0.3546423\ttotal: 8.04ms\tremaining: 394ms\n",
      "4:\tlearn: 0.3461903\ttotal: 9.99ms\tremaining: 390ms\n",
      "5:\tlearn: 0.3400661\ttotal: 12ms\tremaining: 387ms\n",
      "6:\tlearn: 0.3349891\ttotal: 13.9ms\tremaining: 384ms\n",
      "7:\tlearn: 0.3298257\ttotal: 15.9ms\tremaining: 382ms\n",
      "8:\tlearn: 0.3272554\ttotal: 17.9ms\tremaining: 380ms\n",
      "9:\tlearn: 0.3243082\ttotal: 19.9ms\tremaining: 378ms\n",
      "10:\tlearn: 0.3197906\ttotal: 22ms\tremaining: 378ms\n",
      "11:\tlearn: 0.3152556\ttotal: 24ms\tremaining: 376ms\n",
      "12:\tlearn: 0.3089364\ttotal: 26ms\tremaining: 374ms\n",
      "13:\tlearn: 0.3049369\ttotal: 28ms\tremaining: 373ms\n",
      "14:\tlearn: 0.3017990\ttotal: 30.1ms\tremaining: 372ms\n",
      "15:\tlearn: 0.2979985\ttotal: 32.2ms\tremaining: 370ms\n",
      "16:\tlearn: 0.2935067\ttotal: 34.2ms\tremaining: 368ms\n",
      "17:\tlearn: 0.2874199\ttotal: 36.2ms\tremaining: 366ms\n",
      "18:\tlearn: 0.2837535\ttotal: 38.2ms\tremaining: 364ms\n",
      "19:\tlearn: 0.2818005\ttotal: 40.3ms\tremaining: 362ms\n",
      "20:\tlearn: 0.2794012\ttotal: 42.3ms\tremaining: 360ms\n",
      "21:\tlearn: 0.2774619\ttotal: 44.3ms\tremaining: 359ms\n",
      "22:\tlearn: 0.2742655\ttotal: 46.3ms\tremaining: 356ms\n",
      "23:\tlearn: 0.2709266\ttotal: 48.3ms\tremaining: 354ms\n",
      "24:\tlearn: 0.2664816\ttotal: 50.3ms\tremaining: 352ms\n",
      "25:\tlearn: 0.2635439\ttotal: 52.5ms\tremaining: 351ms\n",
      "26:\tlearn: 0.2627404\ttotal: 54.5ms\tremaining: 349ms\n",
      "27:\tlearn: 0.2608965\ttotal: 56.7ms\tremaining: 348ms\n",
      "28:\tlearn: 0.2581129\ttotal: 59ms\tremaining: 348ms\n",
      "29:\tlearn: 0.2543055\ttotal: 61.1ms\tremaining: 346ms\n",
      "30:\tlearn: 0.2518786\ttotal: 63.2ms\tremaining: 345ms\n",
      "31:\tlearn: 0.2492664\ttotal: 65.1ms\tremaining: 342ms\n",
      "32:\tlearn: 0.2463310\ttotal: 67.2ms\tremaining: 340ms\n",
      "33:\tlearn: 0.2436672\ttotal: 69.2ms\tremaining: 338ms\n",
      "34:\tlearn: 0.2396505\ttotal: 71.2ms\tremaining: 336ms\n",
      "35:\tlearn: 0.2378676\ttotal: 73.1ms\tremaining: 333ms\n",
      "36:\tlearn: 0.2364806\ttotal: 75.2ms\tremaining: 331ms\n",
      "37:\tlearn: 0.2350053\ttotal: 77.2ms\tremaining: 329ms\n",
      "38:\tlearn: 0.2332320\ttotal: 79.2ms\tremaining: 327ms\n",
      "39:\tlearn: 0.2306560\ttotal: 81.2ms\tremaining: 325ms\n",
      "40:\tlearn: 0.2283135\ttotal: 83.3ms\tremaining: 323ms\n",
      "41:\tlearn: 0.2245431\ttotal: 85.2ms\tremaining: 321ms\n",
      "42:\tlearn: 0.2231410\ttotal: 87.2ms\tremaining: 318ms\n",
      "43:\tlearn: 0.2211010\ttotal: 89.2ms\tremaining: 316ms\n",
      "44:\tlearn: 0.2175701\ttotal: 91.3ms\tremaining: 315ms\n",
      "45:\tlearn: 0.2154051\ttotal: 93.3ms\tremaining: 312ms\n",
      "46:\tlearn: 0.2130432\ttotal: 95.3ms\tremaining: 310ms\n",
      "47:\tlearn: 0.2113104\ttotal: 97.3ms\tremaining: 308ms\n",
      "48:\tlearn: 0.2094621\ttotal: 99.3ms\tremaining: 306ms\n",
      "49:\tlearn: 0.2073947\ttotal: 101ms\tremaining: 304ms\n",
      "50:\tlearn: 0.2062174\ttotal: 103ms\tremaining: 302ms\n",
      "51:\tlearn: 0.2051660\ttotal: 105ms\tremaining: 300ms\n",
      "52:\tlearn: 0.2036694\ttotal: 108ms\tremaining: 299ms\n",
      "53:\tlearn: 0.2012318\ttotal: 110ms\tremaining: 297ms\n",
      "54:\tlearn: 0.1996503\ttotal: 112ms\tremaining: 295ms\n",
      "55:\tlearn: 0.1968809\ttotal: 114ms\tremaining: 293ms\n",
      "56:\tlearn: 0.1954552\ttotal: 116ms\tremaining: 290ms\n",
      "57:\tlearn: 0.1942143\ttotal: 118ms\tremaining: 288ms\n",
      "58:\tlearn: 0.1925820\ttotal: 120ms\tremaining: 286ms\n",
      "59:\tlearn: 0.1906002\ttotal: 122ms\tremaining: 284ms\n",
      "60:\tlearn: 0.1891093\ttotal: 124ms\tremaining: 282ms\n",
      "61:\tlearn: 0.1880740\ttotal: 126ms\tremaining: 280ms\n",
      "62:\tlearn: 0.1868781\ttotal: 128ms\tremaining: 278ms\n",
      "63:\tlearn: 0.1854057\ttotal: 130ms\tremaining: 276ms\n",
      "64:\tlearn: 0.1846054\ttotal: 132ms\tremaining: 274ms\n",
      "65:\tlearn: 0.1832078\ttotal: 134ms\tremaining: 272ms\n",
      "66:\tlearn: 0.1808708\ttotal: 136ms\tremaining: 270ms\n",
      "67:\tlearn: 0.1785995\ttotal: 138ms\tremaining: 268ms\n",
      "68:\tlearn: 0.1777285\ttotal: 140ms\tremaining: 266ms\n",
      "69:\tlearn: 0.1755353\ttotal: 142ms\tremaining: 264ms\n",
      "70:\tlearn: 0.1737181\ttotal: 144ms\tremaining: 262ms\n",
      "71:\tlearn: 0.1719257\ttotal: 146ms\tremaining: 260ms\n",
      "72:\tlearn: 0.1700579\ttotal: 148ms\tremaining: 257ms\n",
      "73:\tlearn: 0.1687278\ttotal: 150ms\tremaining: 255ms\n",
      "74:\tlearn: 0.1667308\ttotal: 152ms\tremaining: 253ms\n",
      "75:\tlearn: 0.1661913\ttotal: 154ms\tremaining: 251ms\n",
      "76:\tlearn: 0.1646567\ttotal: 156ms\tremaining: 249ms\n",
      "77:\tlearn: 0.1631492\ttotal: 158ms\tremaining: 247ms\n",
      "78:\tlearn: 0.1616688\ttotal: 160ms\tremaining: 245ms\n",
      "79:\tlearn: 0.1601768\ttotal: 162ms\tremaining: 243ms\n",
      "80:\tlearn: 0.1593926\ttotal: 164ms\tremaining: 241ms\n",
      "81:\tlearn: 0.1582146\ttotal: 166ms\tremaining: 239ms\n",
      "82:\tlearn: 0.1574804\ttotal: 168ms\tremaining: 237ms\n",
      "83:\tlearn: 0.1565279\ttotal: 170ms\tremaining: 235ms\n",
      "84:\tlearn: 0.1552739\ttotal: 172ms\tremaining: 233ms\n",
      "85:\tlearn: 0.1535508\ttotal: 174ms\tremaining: 231ms\n",
      "86:\tlearn: 0.1522163\ttotal: 176ms\tremaining: 229ms\n",
      "87:\tlearn: 0.1511072\ttotal: 178ms\tremaining: 227ms\n",
      "88:\tlearn: 0.1501845\ttotal: 180ms\tremaining: 225ms\n",
      "89:\tlearn: 0.1493532\ttotal: 182ms\tremaining: 223ms\n",
      "90:\tlearn: 0.1483487\ttotal: 185ms\tremaining: 221ms\n",
      "91:\tlearn: 0.1474541\ttotal: 187ms\tremaining: 219ms\n",
      "92:\tlearn: 0.1462688\ttotal: 189ms\tremaining: 217ms\n",
      "93:\tlearn: 0.1449199\ttotal: 191ms\tremaining: 215ms\n",
      "94:\tlearn: 0.1440557\ttotal: 193ms\tremaining: 213ms\n",
      "95:\tlearn: 0.1427220\ttotal: 195ms\tremaining: 211ms\n",
      "96:\tlearn: 0.1417703\ttotal: 197ms\tremaining: 209ms\n",
      "97:\tlearn: 0.1406213\ttotal: 199ms\tremaining: 207ms\n",
      "98:\tlearn: 0.1398884\ttotal: 201ms\tremaining: 205ms\n",
      "99:\tlearn: 0.1392857\ttotal: 204ms\tremaining: 204ms\n",
      "100:\tlearn: 0.1380472\ttotal: 206ms\tremaining: 202ms\n",
      "101:\tlearn: 0.1369299\ttotal: 208ms\tremaining: 200ms\n",
      "102:\tlearn: 0.1361056\ttotal: 210ms\tremaining: 198ms\n",
      "103:\tlearn: 0.1350838\ttotal: 212ms\tremaining: 196ms\n",
      "104:\tlearn: 0.1341406\ttotal: 214ms\tremaining: 194ms\n",
      "105:\tlearn: 0.1336043\ttotal: 216ms\tremaining: 192ms\n",
      "106:\tlearn: 0.1332017\ttotal: 218ms\tremaining: 190ms\n",
      "107:\tlearn: 0.1318324\ttotal: 221ms\tremaining: 188ms\n",
      "108:\tlearn: 0.1305727\ttotal: 224ms\tremaining: 187ms\n",
      "109:\tlearn: 0.1296897\ttotal: 226ms\tremaining: 185ms\n",
      "110:\tlearn: 0.1280408\ttotal: 229ms\tremaining: 183ms\n",
      "111:\tlearn: 0.1273732\ttotal: 231ms\tremaining: 182ms\n",
      "112:\tlearn: 0.1264844\ttotal: 234ms\tremaining: 180ms\n",
      "113:\tlearn: 0.1256893\ttotal: 236ms\tremaining: 178ms\n",
      "114:\tlearn: 0.1248296\ttotal: 238ms\tremaining: 176ms\n",
      "115:\tlearn: 0.1241497\ttotal: 241ms\tremaining: 174ms\n",
      "116:\tlearn: 0.1236392\ttotal: 243ms\tremaining: 173ms\n",
      "117:\tlearn: 0.1227808\ttotal: 246ms\tremaining: 171ms\n",
      "118:\tlearn: 0.1218630\ttotal: 248ms\tremaining: 169ms\n",
      "119:\tlearn: 0.1210327\ttotal: 250ms\tremaining: 167ms\n",
      "120:\tlearn: 0.1199000\ttotal: 253ms\tremaining: 165ms\n",
      "121:\tlearn: 0.1183805\ttotal: 256ms\tremaining: 164ms\n",
      "122:\tlearn: 0.1172696\ttotal: 262ms\tremaining: 164ms\n",
      "123:\tlearn: 0.1161647\ttotal: 264ms\tremaining: 162ms\n",
      "124:\tlearn: 0.1155709\ttotal: 267ms\tremaining: 160ms\n",
      "125:\tlearn: 0.1145950\ttotal: 269ms\tremaining: 158ms\n",
      "126:\tlearn: 0.1134030\ttotal: 271ms\tremaining: 156ms\n",
      "127:\tlearn: 0.1125882\ttotal: 273ms\tremaining: 154ms\n",
      "128:\tlearn: 0.1118512\ttotal: 276ms\tremaining: 152ms\n",
      "129:\tlearn: 0.1110475\ttotal: 278ms\tremaining: 150ms\n",
      "130:\tlearn: 0.1104628\ttotal: 280ms\tremaining: 147ms\n",
      "131:\tlearn: 0.1098630\ttotal: 282ms\tremaining: 145ms\n",
      "132:\tlearn: 0.1086458\ttotal: 284ms\tremaining: 143ms\n",
      "133:\tlearn: 0.1081836\ttotal: 286ms\tremaining: 141ms\n",
      "134:\tlearn: 0.1075709\ttotal: 288ms\tremaining: 139ms\n",
      "135:\tlearn: 0.1067306\ttotal: 290ms\tremaining: 136ms\n",
      "136:\tlearn: 0.1059015\ttotal: 292ms\tremaining: 134ms\n",
      "137:\tlearn: 0.1048964\ttotal: 294ms\tremaining: 132ms\n",
      "138:\tlearn: 0.1039602\ttotal: 296ms\tremaining: 130ms\n",
      "139:\tlearn: 0.1031294\ttotal: 298ms\tremaining: 128ms\n",
      "140:\tlearn: 0.1023573\ttotal: 300ms\tremaining: 126ms\n",
      "141:\tlearn: 0.1008553\ttotal: 303ms\tremaining: 124ms\n",
      "142:\tlearn: 0.1003921\ttotal: 305ms\tremaining: 121ms\n",
      "143:\tlearn: 0.0998329\ttotal: 307ms\tremaining: 119ms\n",
      "144:\tlearn: 0.0987858\ttotal: 309ms\tremaining: 117ms\n",
      "145:\tlearn: 0.0980890\ttotal: 311ms\tremaining: 115ms\n",
      "146:\tlearn: 0.0970368\ttotal: 313ms\tremaining: 113ms\n",
      "147:\tlearn: 0.0959781\ttotal: 315ms\tremaining: 111ms\n",
      "148:\tlearn: 0.0948279\ttotal: 317ms\tremaining: 108ms\n",
      "149:\tlearn: 0.0942499\ttotal: 319ms\tremaining: 106ms\n",
      "150:\tlearn: 0.0934057\ttotal: 321ms\tremaining: 104ms\n",
      "151:\tlearn: 0.0931736\ttotal: 323ms\tremaining: 102ms\n",
      "152:\tlearn: 0.0919262\ttotal: 325ms\tremaining: 99.7ms\n",
      "153:\tlearn: 0.0912054\ttotal: 327ms\tremaining: 97.6ms\n",
      "154:\tlearn: 0.0903788\ttotal: 329ms\tremaining: 95.4ms\n",
      "155:\tlearn: 0.0894387\ttotal: 331ms\tremaining: 93.3ms\n",
      "156:\tlearn: 0.0892516\ttotal: 333ms\tremaining: 91.1ms\n",
      "157:\tlearn: 0.0883365\ttotal: 335ms\tremaining: 89ms\n",
      "158:\tlearn: 0.0876500\ttotal: 337ms\tremaining: 86.8ms\n",
      "159:\tlearn: 0.0869076\ttotal: 339ms\tremaining: 84.7ms\n",
      "160:\tlearn: 0.0857382\ttotal: 341ms\tremaining: 82.6ms\n",
      "161:\tlearn: 0.0850411\ttotal: 343ms\tremaining: 80.4ms\n",
      "162:\tlearn: 0.0838431\ttotal: 345ms\tremaining: 78.3ms\n",
      "163:\tlearn: 0.0834531\ttotal: 347ms\tremaining: 76.1ms\n",
      "164:\tlearn: 0.0831687\ttotal: 349ms\tremaining: 74ms\n",
      "165:\tlearn: 0.0822976\ttotal: 351ms\tremaining: 71.9ms\n",
      "166:\tlearn: 0.0817403\ttotal: 353ms\tremaining: 69.7ms\n",
      "167:\tlearn: 0.0809256\ttotal: 355ms\tremaining: 67.6ms\n",
      "168:\tlearn: 0.0802102\ttotal: 357ms\tremaining: 65.5ms\n",
      "169:\tlearn: 0.0796736\ttotal: 359ms\tremaining: 63.4ms\n",
      "170:\tlearn: 0.0790504\ttotal: 361ms\tremaining: 61.2ms\n",
      "171:\tlearn: 0.0777493\ttotal: 363ms\tremaining: 59.1ms\n",
      "172:\tlearn: 0.0770268\ttotal: 365ms\tremaining: 57ms\n",
      "173:\tlearn: 0.0763946\ttotal: 367ms\tremaining: 54.9ms\n",
      "174:\tlearn: 0.0759648\ttotal: 369ms\tremaining: 52.7ms\n",
      "175:\tlearn: 0.0752991\ttotal: 371ms\tremaining: 50.6ms\n",
      "176:\tlearn: 0.0747511\ttotal: 373ms\tremaining: 48.5ms\n",
      "177:\tlearn: 0.0743401\ttotal: 375ms\tremaining: 46.4ms\n",
      "178:\tlearn: 0.0740213\ttotal: 377ms\tremaining: 44.2ms\n",
      "179:\tlearn: 0.0735761\ttotal: 379ms\tremaining: 42.1ms\n",
      "180:\tlearn: 0.0733878\ttotal: 381ms\tremaining: 40ms\n",
      "181:\tlearn: 0.0727996\ttotal: 383ms\tremaining: 37.9ms\n",
      "182:\tlearn: 0.0719394\ttotal: 385ms\tremaining: 35.8ms\n",
      "183:\tlearn: 0.0712436\ttotal: 387ms\tremaining: 33.7ms\n",
      "184:\tlearn: 0.0706198\ttotal: 389ms\tremaining: 31.6ms\n",
      "185:\tlearn: 0.0701783\ttotal: 391ms\tremaining: 29.5ms\n",
      "186:\tlearn: 0.0693649\ttotal: 393ms\tremaining: 27.4ms\n",
      "187:\tlearn: 0.0688770\ttotal: 395ms\tremaining: 25.2ms\n",
      "188:\tlearn: 0.0685980\ttotal: 398ms\tremaining: 23.1ms\n",
      "189:\tlearn: 0.0681456\ttotal: 400ms\tremaining: 21ms\n",
      "190:\tlearn: 0.0673671\ttotal: 402ms\tremaining: 18.9ms\n",
      "191:\tlearn: 0.0670430\ttotal: 404ms\tremaining: 16.8ms\n",
      "192:\tlearn: 0.0664542\ttotal: 406ms\tremaining: 14.7ms\n",
      "193:\tlearn: 0.0663232\ttotal: 408ms\tremaining: 12.6ms\n",
      "194:\tlearn: 0.0657540\ttotal: 410ms\tremaining: 10.5ms\n",
      "195:\tlearn: 0.0649761\ttotal: 412ms\tremaining: 8.4ms\n",
      "196:\tlearn: 0.0646409\ttotal: 414ms\tremaining: 6.3ms\n",
      "197:\tlearn: 0.0639740\ttotal: 416ms\tremaining: 4.2ms\n",
      "198:\tlearn: 0.0630122\ttotal: 418ms\tremaining: 2.1ms\n",
      "199:\tlearn: 0.0624577\ttotal: 420ms\tremaining: 0us\n"
     ]
    },
    {
     "name": "stdout",
     "output_type": "stream",
     "text": [
      "0:\tlearn: 0.4307708\ttotal: 1.34ms\tremaining: 65.7ms\n",
      "1:\tlearn: 0.3999124\ttotal: 2.79ms\tremaining: 67.1ms\n",
      "2:\tlearn: 0.3860688\ttotal: 3.93ms\tremaining: 61.6ms\n",
      "3:\tlearn: 0.3811192\ttotal: 5.05ms\tremaining: 58.1ms\n",
      "4:\tlearn: 0.3792153\ttotal: 6.23ms\tremaining: 56ms\n",
      "5:\tlearn: 0.3770718\ttotal: 7.35ms\tremaining: 53.9ms\n",
      "6:\tlearn: 0.3725537\ttotal: 8.44ms\tremaining: 51.8ms\n",
      "7:\tlearn: 0.3714452\ttotal: 9.63ms\tremaining: 50.5ms\n",
      "8:\tlearn: 0.3683120\ttotal: 10.8ms\tremaining: 49ms\n",
      "9:\tlearn: 0.3645192\ttotal: 12ms\tremaining: 48ms\n",
      "10:\tlearn: 0.3620197\ttotal: 13.3ms\tremaining: 47ms\n",
      "11:\tlearn: 0.3574126\ttotal: 14.4ms\tremaining: 45.5ms\n",
      "12:\tlearn: 0.3541657\ttotal: 15.5ms\tremaining: 44.2ms\n",
      "13:\tlearn: 0.3525260\ttotal: 16.6ms\tremaining: 42.7ms\n",
      "14:\tlearn: 0.3502396\ttotal: 17.8ms\tremaining: 41.5ms\n",
      "15:\tlearn: 0.3485623\ttotal: 18.9ms\tremaining: 40.2ms\n",
      "16:\tlearn: 0.3461373\ttotal: 20.1ms\tremaining: 39ms\n",
      "17:\tlearn: 0.3436948\ttotal: 21.5ms\tremaining: 38.2ms\n",
      "18:\tlearn: 0.3417841\ttotal: 22.6ms\tremaining: 36.8ms\n",
      "19:\tlearn: 0.3393540\ttotal: 23.9ms\tremaining: 35.8ms\n",
      "20:\tlearn: 0.3379118\ttotal: 25ms\tremaining: 34.5ms\n",
      "21:\tlearn: 0.3364085\ttotal: 26.3ms\tremaining: 33.5ms\n",
      "22:\tlearn: 0.3351630\ttotal: 27.4ms\tremaining: 32.1ms\n",
      "23:\tlearn: 0.3337244\ttotal: 28.5ms\tremaining: 30.9ms\n",
      "24:\tlearn: 0.3315531\ttotal: 29.8ms\tremaining: 29.8ms\n",
      "25:\tlearn: 0.3297639\ttotal: 30.9ms\tremaining: 28.6ms\n",
      "26:\tlearn: 0.3289123\ttotal: 32.1ms\tremaining: 27.4ms\n",
      "27:\tlearn: 0.3278063\ttotal: 33.4ms\tremaining: 26.2ms\n",
      "28:\tlearn: 0.3262599\ttotal: 34.7ms\tremaining: 25.1ms\n",
      "29:\tlearn: 0.3245057\ttotal: 35.9ms\tremaining: 23.9ms\n",
      "30:\tlearn: 0.3233397\ttotal: 37.1ms\tremaining: 22.8ms\n",
      "31:\tlearn: 0.3229559\ttotal: 38.3ms\tremaining: 21.6ms\n",
      "32:\tlearn: 0.3220868\ttotal: 39.5ms\tremaining: 20.4ms\n",
      "33:\tlearn: 0.3210532\ttotal: 40.8ms\tremaining: 19.2ms\n",
      "34:\tlearn: 0.3200517\ttotal: 42.1ms\tremaining: 18.1ms\n",
      "35:\tlearn: 0.3192711\ttotal: 43.1ms\tremaining: 16.8ms\n",
      "36:\tlearn: 0.3182233\ttotal: 44.4ms\tremaining: 15.6ms\n",
      "37:\tlearn: 0.3166717\ttotal: 45.6ms\tremaining: 14.4ms\n",
      "38:\tlearn: 0.3157993\ttotal: 46.7ms\tremaining: 13.2ms\n",
      "39:\tlearn: 0.3144680\ttotal: 48ms\tremaining: 12ms\n",
      "40:\tlearn: 0.3139540\ttotal: 49ms\tremaining: 10.8ms\n",
      "41:\tlearn: 0.3132270\ttotal: 50.2ms\tremaining: 9.55ms\n",
      "42:\tlearn: 0.3120102\ttotal: 51.3ms\tremaining: 8.35ms\n",
      "43:\tlearn: 0.3114413\ttotal: 52.5ms\tremaining: 7.16ms\n",
      "44:\tlearn: 0.3102311\ttotal: 53.6ms\tremaining: 5.96ms\n",
      "45:\tlearn: 0.3096907\ttotal: 54.9ms\tremaining: 4.78ms\n",
      "46:\tlearn: 0.3089402\ttotal: 56ms\tremaining: 3.57ms\n",
      "47:\tlearn: 0.3077564\ttotal: 57.1ms\tremaining: 2.38ms\n",
      "48:\tlearn: 0.3073228\ttotal: 58.3ms\tremaining: 1.19ms\n",
      "49:\tlearn: 0.3064383\ttotal: 59.4ms\tremaining: 0us\n",
      "0:\tlearn: 0.4363026\ttotal: 1.27ms\tremaining: 62.3ms\n",
      "1:\tlearn: 0.4025690\ttotal: 2.42ms\tremaining: 58.1ms\n",
      "2:\tlearn: 0.3899972\ttotal: 3.58ms\tremaining: 56.2ms\n",
      "3:\tlearn: 0.3838088\ttotal: 4.86ms\tremaining: 55.9ms\n",
      "4:\tlearn: 0.3806924\ttotal: 5.96ms\tremaining: 53.6ms\n",
      "5:\tlearn: 0.3770433\ttotal: 7.1ms\tremaining: 52ms\n",
      "6:\tlearn: 0.3735567\ttotal: 8.21ms\tremaining: 50.4ms\n",
      "7:\tlearn: 0.3716089\ttotal: 9.29ms\tremaining: 48.8ms\n",
      "8:\tlearn: 0.3691100\ttotal: 10.4ms\tremaining: 47.4ms\n",
      "9:\tlearn: 0.3663965\ttotal: 12.1ms\tremaining: 48.3ms\n",
      "10:\tlearn: 0.3632285\ttotal: 13.3ms\tremaining: 47.1ms\n",
      "11:\tlearn: 0.3611244\ttotal: 14.4ms\tremaining: 45.7ms\n",
      "12:\tlearn: 0.3577324\ttotal: 15.6ms\tremaining: 44.4ms\n",
      "13:\tlearn: 0.3552387\ttotal: 16.9ms\tremaining: 43.4ms\n",
      "14:\tlearn: 0.3536510\ttotal: 18.1ms\tremaining: 42.2ms\n",
      "15:\tlearn: 0.3513583\ttotal: 19.4ms\tremaining: 41.3ms\n",
      "16:\tlearn: 0.3497893\ttotal: 20.7ms\tremaining: 40.1ms\n",
      "17:\tlearn: 0.3481841\ttotal: 21.9ms\tremaining: 39ms\n",
      "18:\tlearn: 0.3467697\ttotal: 23.2ms\tremaining: 37.9ms\n",
      "19:\tlearn: 0.3444206\ttotal: 24.3ms\tremaining: 36.5ms\n",
      "20:\tlearn: 0.3430132\ttotal: 25.6ms\tremaining: 35.3ms\n",
      "21:\tlearn: 0.3409652\ttotal: 26.7ms\tremaining: 34ms\n",
      "22:\tlearn: 0.3399079\ttotal: 27.9ms\tremaining: 32.7ms\n",
      "23:\tlearn: 0.3373547\ttotal: 29.2ms\tremaining: 31.6ms\n",
      "24:\tlearn: 0.3365726\ttotal: 30.3ms\tremaining: 30.3ms\n",
      "25:\tlearn: 0.3347210\ttotal: 31.7ms\tremaining: 29.3ms\n",
      "26:\tlearn: 0.3327992\ttotal: 33ms\tremaining: 28.1ms\n",
      "27:\tlearn: 0.3314347\ttotal: 34.5ms\tremaining: 27.1ms\n",
      "28:\tlearn: 0.3304223\ttotal: 35.6ms\tremaining: 25.8ms\n",
      "29:\tlearn: 0.3298963\ttotal: 36.7ms\tremaining: 24.5ms\n",
      "30:\tlearn: 0.3285204\ttotal: 37.9ms\tremaining: 23.2ms\n",
      "31:\tlearn: 0.3269486\ttotal: 39.1ms\tremaining: 22ms\n",
      "32:\tlearn: 0.3258738\ttotal: 40.4ms\tremaining: 20.8ms\n",
      "33:\tlearn: 0.3244681\ttotal: 41.7ms\tremaining: 19.6ms\n",
      "34:\tlearn: 0.3222525\ttotal: 42.9ms\tremaining: 18.4ms\n",
      "35:\tlearn: 0.3211195\ttotal: 44.1ms\tremaining: 17.1ms\n",
      "36:\tlearn: 0.3201192\ttotal: 45.3ms\tremaining: 15.9ms\n",
      "37:\tlearn: 0.3188210\ttotal: 46.5ms\tremaining: 14.7ms\n",
      "38:\tlearn: 0.3182038\ttotal: 47.6ms\tremaining: 13.4ms\n",
      "39:\tlearn: 0.3175332\ttotal: 48.7ms\tremaining: 12.2ms\n",
      "40:\tlearn: 0.3169859\ttotal: 50ms\tremaining: 11ms\n",
      "41:\tlearn: 0.3161833\ttotal: 51.1ms\tremaining: 9.74ms\n",
      "42:\tlearn: 0.3153075\ttotal: 52.2ms\tremaining: 8.5ms\n",
      "43:\tlearn: 0.3140037\ttotal: 53.5ms\tremaining: 7.3ms\n",
      "44:\tlearn: 0.3132758\ttotal: 54.7ms\tremaining: 6.07ms\n",
      "45:\tlearn: 0.3126527\ttotal: 55.8ms\tremaining: 4.85ms\n",
      "46:\tlearn: 0.3119477\ttotal: 57ms\tremaining: 3.64ms\n",
      "47:\tlearn: 0.3114060\ttotal: 58.2ms\tremaining: 2.43ms\n",
      "48:\tlearn: 0.3100946\ttotal: 59.3ms\tremaining: 1.21ms\n",
      "49:\tlearn: 0.3093596\ttotal: 60.5ms\tremaining: 0us\n",
      "0:\tlearn: 0.4341490\ttotal: 1.25ms\tremaining: 61.3ms\n",
      "1:\tlearn: 0.3919984\ttotal: 2.5ms\tremaining: 60.1ms\n",
      "2:\tlearn: 0.3850797\ttotal: 3.62ms\tremaining: 56.6ms\n",
      "3:\tlearn: 0.3805531\ttotal: 4.82ms\tremaining: 55.4ms\n",
      "4:\tlearn: 0.3751568\ttotal: 5.93ms\tremaining: 53.4ms\n",
      "5:\tlearn: 0.3724951\ttotal: 7.07ms\tremaining: 51.8ms\n",
      "6:\tlearn: 0.3670620\ttotal: 8.26ms\tremaining: 50.7ms\n",
      "7:\tlearn: 0.3646921\ttotal: 9.54ms\tremaining: 50.1ms\n",
      "8:\tlearn: 0.3633058\ttotal: 10.6ms\tremaining: 48.3ms\n",
      "9:\tlearn: 0.3609373\ttotal: 11.7ms\tremaining: 46.9ms\n",
      "10:\tlearn: 0.3579180\ttotal: 12.9ms\tremaining: 45.7ms\n",
      "11:\tlearn: 0.3544898\ttotal: 14.1ms\tremaining: 44.8ms\n",
      "12:\tlearn: 0.3526974\ttotal: 15.2ms\tremaining: 43.3ms\n",
      "13:\tlearn: 0.3508386\ttotal: 16.5ms\tremaining: 42.4ms\n",
      "14:\tlearn: 0.3473525\ttotal: 17.7ms\tremaining: 41.4ms\n",
      "15:\tlearn: 0.3447361\ttotal: 18.9ms\tremaining: 40.3ms\n",
      "16:\tlearn: 0.3424574\ttotal: 20.3ms\tremaining: 39.3ms\n",
      "17:\tlearn: 0.3405033\ttotal: 21.5ms\tremaining: 38.3ms\n",
      "18:\tlearn: 0.3391269\ttotal: 22.6ms\tremaining: 36.9ms\n",
      "19:\tlearn: 0.3378796\ttotal: 23.8ms\tremaining: 35.8ms\n",
      "20:\tlearn: 0.3353580\ttotal: 25.1ms\tremaining: 34.7ms\n",
      "21:\tlearn: 0.3339647\ttotal: 26.4ms\tremaining: 33.6ms\n",
      "22:\tlearn: 0.3321570\ttotal: 27.7ms\tremaining: 32.5ms\n",
      "23:\tlearn: 0.3309981\ttotal: 28.9ms\tremaining: 31.4ms\n",
      "24:\tlearn: 0.3293223\ttotal: 30.2ms\tremaining: 30.2ms\n",
      "25:\tlearn: 0.3275901\ttotal: 31.5ms\tremaining: 29.1ms\n",
      "26:\tlearn: 0.3261297\ttotal: 32.6ms\tremaining: 27.8ms\n",
      "27:\tlearn: 0.3246750\ttotal: 33.7ms\tremaining: 26.5ms\n",
      "28:\tlearn: 0.3232989\ttotal: 34.8ms\tremaining: 25.2ms\n",
      "29:\tlearn: 0.3214887\ttotal: 36.2ms\tremaining: 24.1ms\n",
      "30:\tlearn: 0.3203779\ttotal: 37.4ms\tremaining: 22.9ms\n",
      "31:\tlearn: 0.3196851\ttotal: 38.5ms\tremaining: 21.7ms\n",
      "32:\tlearn: 0.3174583\ttotal: 39.7ms\tremaining: 20.4ms\n",
      "33:\tlearn: 0.3162940\ttotal: 40.8ms\tremaining: 19.2ms\n",
      "34:\tlearn: 0.3155176\ttotal: 42.1ms\tremaining: 18ms\n",
      "35:\tlearn: 0.3148219\ttotal: 43.3ms\tremaining: 16.8ms\n",
      "36:\tlearn: 0.3138928\ttotal: 44.5ms\tremaining: 15.6ms\n",
      "37:\tlearn: 0.3129968\ttotal: 45.8ms\tremaining: 14.5ms\n",
      "38:\tlearn: 0.3120514\ttotal: 46.9ms\tremaining: 13.2ms\n",
      "39:\tlearn: 0.3107203\ttotal: 48.2ms\tremaining: 12.1ms\n",
      "40:\tlearn: 0.3093101\ttotal: 49.5ms\tremaining: 10.9ms\n",
      "41:\tlearn: 0.3086005\ttotal: 50.7ms\tremaining: 9.65ms\n",
      "42:\tlearn: 0.3072949\ttotal: 51.8ms\tremaining: 8.43ms\n",
      "43:\tlearn: 0.3062929\ttotal: 52.9ms\tremaining: 7.22ms\n",
      "44:\tlearn: 0.3056714\ttotal: 54.3ms\tremaining: 6.04ms\n",
      "45:\tlearn: 0.3039649\ttotal: 55.8ms\tremaining: 4.85ms\n",
      "46:\tlearn: 0.3034214\ttotal: 56.9ms\tremaining: 3.63ms\n",
      "47:\tlearn: 0.3029241\ttotal: 58ms\tremaining: 2.42ms\n",
      "48:\tlearn: 0.3024257\ttotal: 59.2ms\tremaining: 1.21ms\n",
      "49:\tlearn: 0.3016384\ttotal: 60.3ms\tremaining: 0us\n",
      "0:\tlearn: 0.4304119\ttotal: 1.23ms\tremaining: 60.3ms\n",
      "1:\tlearn: 0.3889413\ttotal: 2.36ms\tremaining: 56.6ms\n",
      "2:\tlearn: 0.3823795\ttotal: 3.43ms\tremaining: 53.8ms\n",
      "3:\tlearn: 0.3763662\ttotal: 4.64ms\tremaining: 53.4ms\n",
      "4:\tlearn: 0.3745075\ttotal: 5.81ms\tremaining: 52.3ms\n",
      "5:\tlearn: 0.3709445\ttotal: 6.9ms\tremaining: 50.6ms\n",
      "6:\tlearn: 0.3660254\ttotal: 8.25ms\tremaining: 50.7ms\n",
      "7:\tlearn: 0.3634814\ttotal: 9.37ms\tremaining: 49.2ms\n",
      "8:\tlearn: 0.3604453\ttotal: 10.6ms\tremaining: 48.3ms\n",
      "9:\tlearn: 0.3568713\ttotal: 11.7ms\tremaining: 46.9ms\n",
      "10:\tlearn: 0.3546105\ttotal: 13ms\tremaining: 46.1ms\n",
      "11:\tlearn: 0.3530583\ttotal: 14.1ms\tremaining: 44.5ms\n",
      "12:\tlearn: 0.3510277\ttotal: 15.3ms\tremaining: 43.6ms\n",
      "13:\tlearn: 0.3494259\ttotal: 16.5ms\tremaining: 42.5ms\n",
      "14:\tlearn: 0.3463271\ttotal: 17.8ms\tremaining: 41.5ms\n",
      "15:\tlearn: 0.3441027\ttotal: 18.9ms\tremaining: 40.1ms\n",
      "16:\tlearn: 0.3424060\ttotal: 20ms\tremaining: 38.9ms\n",
      "17:\tlearn: 0.3406289\ttotal: 21.3ms\tremaining: 37.9ms\n",
      "18:\tlearn: 0.3386225\ttotal: 22.6ms\tremaining: 36.9ms\n",
      "19:\tlearn: 0.3372906\ttotal: 23.9ms\tremaining: 35.8ms\n",
      "20:\tlearn: 0.3362310\ttotal: 25ms\tremaining: 34.6ms\n",
      "21:\tlearn: 0.3347307\ttotal: 26.3ms\tremaining: 33.4ms\n",
      "22:\tlearn: 0.3332941\ttotal: 27.5ms\tremaining: 32.2ms\n",
      "23:\tlearn: 0.3322144\ttotal: 28.6ms\tremaining: 31ms\n",
      "24:\tlearn: 0.3303979\ttotal: 29.7ms\tremaining: 29.7ms\n",
      "25:\tlearn: 0.3295622\ttotal: 30.8ms\tremaining: 28.4ms\n",
      "26:\tlearn: 0.3279382\ttotal: 31.9ms\tremaining: 27.2ms\n",
      "27:\tlearn: 0.3269681\ttotal: 33.1ms\tremaining: 26ms\n"
     ]
    },
    {
     "name": "stdout",
     "output_type": "stream",
     "text": [
      "28:\tlearn: 0.3260701\ttotal: 34.5ms\tremaining: 25ms\n",
      "29:\tlearn: 0.3246185\ttotal: 35.8ms\tremaining: 23.8ms\n",
      "30:\tlearn: 0.3237546\ttotal: 37.1ms\tremaining: 22.7ms\n",
      "31:\tlearn: 0.3236814\ttotal: 38.1ms\tremaining: 21.5ms\n",
      "32:\tlearn: 0.3212449\ttotal: 39.5ms\tremaining: 20.4ms\n",
      "33:\tlearn: 0.3199222\ttotal: 40.6ms\tremaining: 19.1ms\n",
      "34:\tlearn: 0.3187038\ttotal: 41.7ms\tremaining: 17.9ms\n",
      "35:\tlearn: 0.3179863\ttotal: 42.8ms\tremaining: 16.7ms\n",
      "36:\tlearn: 0.3172913\ttotal: 44.2ms\tremaining: 15.5ms\n",
      "37:\tlearn: 0.3160642\ttotal: 45.2ms\tremaining: 14.3ms\n",
      "38:\tlearn: 0.3151590\ttotal: 46.4ms\tremaining: 13.1ms\n",
      "39:\tlearn: 0.3139176\ttotal: 47.5ms\tremaining: 11.9ms\n",
      "40:\tlearn: 0.3131652\ttotal: 48.6ms\tremaining: 10.7ms\n",
      "41:\tlearn: 0.3114192\ttotal: 49.9ms\tremaining: 9.51ms\n",
      "42:\tlearn: 0.3108723\ttotal: 51.1ms\tremaining: 8.33ms\n",
      "43:\tlearn: 0.3095806\ttotal: 52.5ms\tremaining: 7.16ms\n",
      "44:\tlearn: 0.3083199\ttotal: 53.9ms\tremaining: 5.99ms\n",
      "45:\tlearn: 0.3076831\ttotal: 55.3ms\tremaining: 4.81ms\n",
      "46:\tlearn: 0.3066572\ttotal: 56.7ms\tremaining: 3.62ms\n",
      "47:\tlearn: 0.3056608\ttotal: 58.3ms\tremaining: 2.43ms\n",
      "48:\tlearn: 0.3051357\ttotal: 59.5ms\tremaining: 1.22ms\n",
      "49:\tlearn: 0.3043947\ttotal: 60.9ms\tremaining: 0us\n",
      "0:\tlearn: 0.4306163\ttotal: 1.27ms\tremaining: 62.1ms\n",
      "1:\tlearn: 0.3996652\ttotal: 2.42ms\tremaining: 58.2ms\n",
      "2:\tlearn: 0.3840040\ttotal: 3.54ms\tremaining: 55.5ms\n",
      "3:\tlearn: 0.3806958\ttotal: 4.68ms\tremaining: 53.8ms\n",
      "4:\tlearn: 0.3789084\ttotal: 5.8ms\tremaining: 52.2ms\n",
      "5:\tlearn: 0.3766194\ttotal: 6.87ms\tremaining: 50.4ms\n",
      "6:\tlearn: 0.3714628\ttotal: 7.98ms\tremaining: 49ms\n",
      "7:\tlearn: 0.3674850\ttotal: 9.18ms\tremaining: 48.2ms\n",
      "8:\tlearn: 0.3650319\ttotal: 10.3ms\tremaining: 46.8ms\n",
      "9:\tlearn: 0.3625180\ttotal: 11.4ms\tremaining: 45.5ms\n",
      "10:\tlearn: 0.3591476\ttotal: 12.7ms\tremaining: 45ms\n",
      "11:\tlearn: 0.3564395\ttotal: 13.8ms\tremaining: 43.7ms\n",
      "12:\tlearn: 0.3546023\ttotal: 15ms\tremaining: 42.7ms\n",
      "13:\tlearn: 0.3526446\ttotal: 16.2ms\tremaining: 41.8ms\n",
      "14:\tlearn: 0.3510212\ttotal: 17.4ms\tremaining: 40.6ms\n",
      "15:\tlearn: 0.3483261\ttotal: 18.5ms\tremaining: 39.3ms\n",
      "16:\tlearn: 0.3463640\ttotal: 19.7ms\tremaining: 38.2ms\n",
      "17:\tlearn: 0.3443325\ttotal: 21ms\tremaining: 37.4ms\n",
      "18:\tlearn: 0.3429550\ttotal: 22.1ms\tremaining: 36.1ms\n",
      "19:\tlearn: 0.3417045\ttotal: 23.2ms\tremaining: 34.8ms\n",
      "20:\tlearn: 0.3396269\ttotal: 24.5ms\tremaining: 33.9ms\n",
      "21:\tlearn: 0.3370350\ttotal: 25.6ms\tremaining: 32.6ms\n",
      "22:\tlearn: 0.3352586\ttotal: 26.7ms\tremaining: 31.3ms\n",
      "23:\tlearn: 0.3336040\ttotal: 27.8ms\tremaining: 30.1ms\n",
      "24:\tlearn: 0.3320736\ttotal: 29ms\tremaining: 29ms\n",
      "25:\tlearn: 0.3310642\ttotal: 30ms\tremaining: 27.7ms\n",
      "26:\tlearn: 0.3300699\ttotal: 31.3ms\tremaining: 26.6ms\n",
      "27:\tlearn: 0.3292754\ttotal: 32.6ms\tremaining: 25.6ms\n",
      "28:\tlearn: 0.3283499\ttotal: 33.8ms\tremaining: 24.5ms\n",
      "29:\tlearn: 0.3273548\ttotal: 35ms\tremaining: 23.3ms\n",
      "30:\tlearn: 0.3264521\ttotal: 37ms\tremaining: 22.7ms\n",
      "31:\tlearn: 0.3247985\ttotal: 38.3ms\tremaining: 21.6ms\n",
      "32:\tlearn: 0.3219191\ttotal: 39.6ms\tremaining: 20.4ms\n",
      "33:\tlearn: 0.3207740\ttotal: 40.7ms\tremaining: 19.1ms\n",
      "34:\tlearn: 0.3191270\ttotal: 41.9ms\tremaining: 18ms\n",
      "35:\tlearn: 0.3181466\ttotal: 43ms\tremaining: 16.7ms\n",
      "36:\tlearn: 0.3165651\ttotal: 44.2ms\tremaining: 15.5ms\n",
      "37:\tlearn: 0.3155462\ttotal: 45.5ms\tremaining: 14.4ms\n",
      "38:\tlearn: 0.3144559\ttotal: 46.6ms\tremaining: 13.1ms\n",
      "39:\tlearn: 0.3134652\ttotal: 47.7ms\tremaining: 11.9ms\n",
      "40:\tlearn: 0.3124766\ttotal: 48.8ms\tremaining: 10.7ms\n",
      "41:\tlearn: 0.3116943\ttotal: 50ms\tremaining: 9.52ms\n",
      "42:\tlearn: 0.3106985\ttotal: 51.3ms\tremaining: 8.35ms\n",
      "43:\tlearn: 0.3093275\ttotal: 52.7ms\tremaining: 7.18ms\n",
      "44:\tlearn: 0.3077274\ttotal: 54ms\tremaining: 6ms\n",
      "45:\tlearn: 0.3067187\ttotal: 55.6ms\tremaining: 4.83ms\n",
      "46:\tlearn: 0.3064037\ttotal: 56.9ms\tremaining: 3.63ms\n",
      "47:\tlearn: 0.3056834\ttotal: 58.1ms\tremaining: 2.42ms\n",
      "48:\tlearn: 0.3044174\ttotal: 59.3ms\tremaining: 1.21ms\n",
      "49:\tlearn: 0.3040258\ttotal: 60.4ms\tremaining: 0us\n",
      "0:\tlearn: 0.4913952\ttotal: 1.35ms\tremaining: 269ms\n",
      "1:\tlearn: 0.4216273\ttotal: 2.61ms\tremaining: 259ms\n",
      "2:\tlearn: 0.3949553\ttotal: 3.87ms\tremaining: 254ms\n",
      "3:\tlearn: 0.3859325\ttotal: 5.13ms\tremaining: 251ms\n",
      "4:\tlearn: 0.3805330\ttotal: 6.35ms\tremaining: 248ms\n",
      "5:\tlearn: 0.3769817\ttotal: 7.76ms\tremaining: 251ms\n",
      "6:\tlearn: 0.3742230\ttotal: 8.97ms\tremaining: 247ms\n",
      "7:\tlearn: 0.3687515\ttotal: 10.2ms\tremaining: 244ms\n",
      "8:\tlearn: 0.3680811\ttotal: 11.4ms\tremaining: 241ms\n",
      "9:\tlearn: 0.3659673\ttotal: 12.7ms\tremaining: 242ms\n",
      "10:\tlearn: 0.3637021\ttotal: 14.1ms\tremaining: 242ms\n",
      "11:\tlearn: 0.3623789\ttotal: 15.5ms\tremaining: 243ms\n",
      "12:\tlearn: 0.3604389\ttotal: 16.8ms\tremaining: 241ms\n",
      "13:\tlearn: 0.3590109\ttotal: 18ms\tremaining: 239ms\n",
      "14:\tlearn: 0.3572171\ttotal: 19.2ms\tremaining: 237ms\n",
      "15:\tlearn: 0.3567515\ttotal: 20.5ms\tremaining: 235ms\n",
      "16:\tlearn: 0.3558343\ttotal: 21.7ms\tremaining: 233ms\n",
      "17:\tlearn: 0.3545421\ttotal: 22.9ms\tremaining: 231ms\n",
      "18:\tlearn: 0.3528473\ttotal: 24.3ms\tremaining: 231ms\n",
      "19:\tlearn: 0.3513478\ttotal: 25.6ms\tremaining: 230ms\n",
      "20:\tlearn: 0.3499311\ttotal: 26.8ms\tremaining: 228ms\n",
      "21:\tlearn: 0.3489731\ttotal: 28.2ms\tremaining: 229ms\n",
      "22:\tlearn: 0.3478344\ttotal: 29.4ms\tremaining: 227ms\n",
      "23:\tlearn: 0.3466538\ttotal: 30.7ms\tremaining: 225ms\n",
      "24:\tlearn: 0.3444119\ttotal: 32.1ms\tremaining: 224ms\n",
      "25:\tlearn: 0.3424866\ttotal: 33.2ms\tremaining: 222ms\n",
      "26:\tlearn: 0.3412844\ttotal: 34.4ms\tremaining: 221ms\n",
      "27:\tlearn: 0.3398880\ttotal: 35.7ms\tremaining: 220ms\n",
      "28:\tlearn: 0.3377766\ttotal: 36.9ms\tremaining: 218ms\n",
      "29:\tlearn: 0.3367067\ttotal: 38.1ms\tremaining: 216ms\n",
      "30:\tlearn: 0.3353341\ttotal: 39.5ms\tremaining: 216ms\n",
      "31:\tlearn: 0.3346097\ttotal: 40.9ms\tremaining: 215ms\n",
      "32:\tlearn: 0.3331053\ttotal: 42.3ms\tremaining: 214ms\n",
      "33:\tlearn: 0.3317253\ttotal: 43.6ms\tremaining: 213ms\n",
      "34:\tlearn: 0.3306553\ttotal: 45ms\tremaining: 212ms\n",
      "35:\tlearn: 0.3298952\ttotal: 46.4ms\tremaining: 212ms\n",
      "36:\tlearn: 0.3281238\ttotal: 47.8ms\tremaining: 211ms\n",
      "37:\tlearn: 0.3269155\ttotal: 49.7ms\tremaining: 212ms\n",
      "38:\tlearn: 0.3254685\ttotal: 51.5ms\tremaining: 213ms\n",
      "39:\tlearn: 0.3238415\ttotal: 52.9ms\tremaining: 211ms\n",
      "40:\tlearn: 0.3229892\ttotal: 54.1ms\tremaining: 210ms\n",
      "41:\tlearn: 0.3213093\ttotal: 55.5ms\tremaining: 209ms\n",
      "42:\tlearn: 0.3200221\ttotal: 56.9ms\tremaining: 208ms\n",
      "43:\tlearn: 0.3188261\ttotal: 58.3ms\tremaining: 207ms\n",
      "44:\tlearn: 0.3179938\ttotal: 59.6ms\tremaining: 205ms\n",
      "45:\tlearn: 0.3167863\ttotal: 60.9ms\tremaining: 204ms\n",
      "46:\tlearn: 0.3157580\ttotal: 62.3ms\tremaining: 203ms\n",
      "47:\tlearn: 0.3149196\ttotal: 63.7ms\tremaining: 202ms\n",
      "48:\tlearn: 0.3139780\ttotal: 65.1ms\tremaining: 200ms\n",
      "49:\tlearn: 0.3128608\ttotal: 66.5ms\tremaining: 199ms\n",
      "50:\tlearn: 0.3118785\ttotal: 67.7ms\tremaining: 198ms\n",
      "51:\tlearn: 0.3113664\ttotal: 69.1ms\tremaining: 197ms\n",
      "52:\tlearn: 0.3098235\ttotal: 70.4ms\tremaining: 195ms\n",
      "53:\tlearn: 0.3091165\ttotal: 71.7ms\tremaining: 194ms\n",
      "54:\tlearn: 0.3081658\ttotal: 73ms\tremaining: 192ms\n",
      "55:\tlearn: 0.3069827\ttotal: 74.3ms\tremaining: 191ms\n",
      "56:\tlearn: 0.3063057\ttotal: 75.6ms\tremaining: 190ms\n",
      "57:\tlearn: 0.3055580\ttotal: 76.8ms\tremaining: 188ms\n",
      "58:\tlearn: 0.3045670\ttotal: 78.1ms\tremaining: 187ms\n",
      "59:\tlearn: 0.3038737\ttotal: 79.3ms\tremaining: 185ms\n",
      "60:\tlearn: 0.3031787\ttotal: 80.5ms\tremaining: 183ms\n",
      "61:\tlearn: 0.3020012\ttotal: 81.8ms\tremaining: 182ms\n",
      "62:\tlearn: 0.3011385\ttotal: 83.1ms\tremaining: 181ms\n",
      "63:\tlearn: 0.3001147\ttotal: 84.5ms\tremaining: 179ms\n",
      "64:\tlearn: 0.2993794\ttotal: 85.8ms\tremaining: 178ms\n",
      "65:\tlearn: 0.2980647\ttotal: 87.1ms\tremaining: 177ms\n",
      "66:\tlearn: 0.2973160\ttotal: 88.3ms\tremaining: 175ms\n",
      "67:\tlearn: 0.2968962\ttotal: 89.6ms\tremaining: 174ms\n",
      "68:\tlearn: 0.2961430\ttotal: 90.9ms\tremaining: 173ms\n",
      "69:\tlearn: 0.2957602\ttotal: 92.4ms\tremaining: 172ms\n",
      "70:\tlearn: 0.2950734\ttotal: 93.6ms\tremaining: 170ms\n",
      "71:\tlearn: 0.2945566\ttotal: 94.8ms\tremaining: 169ms\n",
      "72:\tlearn: 0.2939143\ttotal: 96ms\tremaining: 167ms\n",
      "73:\tlearn: 0.2933369\ttotal: 97.4ms\tremaining: 166ms\n",
      "74:\tlearn: 0.2930745\ttotal: 98.9ms\tremaining: 165ms\n",
      "75:\tlearn: 0.2923825\ttotal: 100ms\tremaining: 163ms\n",
      "76:\tlearn: 0.2915908\ttotal: 102ms\tremaining: 162ms\n",
      "77:\tlearn: 0.2906637\ttotal: 103ms\tremaining: 161ms\n",
      "78:\tlearn: 0.2899280\ttotal: 104ms\tremaining: 160ms\n",
      "79:\tlearn: 0.2891456\ttotal: 106ms\tremaining: 159ms\n",
      "80:\tlearn: 0.2881111\ttotal: 107ms\tremaining: 158ms\n",
      "81:\tlearn: 0.2869642\ttotal: 109ms\tremaining: 157ms\n",
      "82:\tlearn: 0.2866174\ttotal: 110ms\tremaining: 155ms\n",
      "83:\tlearn: 0.2861045\ttotal: 111ms\tremaining: 154ms\n",
      "84:\tlearn: 0.2852769\ttotal: 113ms\tremaining: 153ms\n",
      "85:\tlearn: 0.2848644\ttotal: 114ms\tremaining: 151ms\n",
      "86:\tlearn: 0.2844266\ttotal: 115ms\tremaining: 150ms\n",
      "87:\tlearn: 0.2839398\ttotal: 117ms\tremaining: 148ms\n",
      "88:\tlearn: 0.2832142\ttotal: 118ms\tremaining: 147ms\n",
      "89:\tlearn: 0.2819585\ttotal: 119ms\tremaining: 146ms\n",
      "90:\tlearn: 0.2818212\ttotal: 121ms\tremaining: 145ms\n",
      "91:\tlearn: 0.2815458\ttotal: 122ms\tremaining: 143ms\n",
      "92:\tlearn: 0.2796292\ttotal: 123ms\tremaining: 142ms\n",
      "93:\tlearn: 0.2792282\ttotal: 125ms\tremaining: 141ms\n",
      "94:\tlearn: 0.2786488\ttotal: 126ms\tremaining: 139ms\n",
      "95:\tlearn: 0.2783013\ttotal: 127ms\tremaining: 138ms\n",
      "96:\tlearn: 0.2770154\ttotal: 129ms\tremaining: 137ms\n",
      "97:\tlearn: 0.2761287\ttotal: 130ms\tremaining: 135ms\n",
      "98:\tlearn: 0.2754205\ttotal: 131ms\tremaining: 134ms\n",
      "99:\tlearn: 0.2745413\ttotal: 132ms\tremaining: 132ms\n",
      "100:\tlearn: 0.2738698\ttotal: 134ms\tremaining: 131ms\n",
      "101:\tlearn: 0.2734266\ttotal: 135ms\tremaining: 130ms\n",
      "102:\tlearn: 0.2729314\ttotal: 137ms\tremaining: 129ms\n",
      "103:\tlearn: 0.2726252\ttotal: 138ms\tremaining: 127ms\n",
      "104:\tlearn: 0.2724611\ttotal: 139ms\tremaining: 126ms\n",
      "105:\tlearn: 0.2715381\ttotal: 140ms\tremaining: 125ms\n",
      "106:\tlearn: 0.2712125\ttotal: 142ms\tremaining: 123ms\n",
      "107:\tlearn: 0.2708026\ttotal: 143ms\tremaining: 122ms\n",
      "108:\tlearn: 0.2702853\ttotal: 144ms\tremaining: 121ms\n",
      "109:\tlearn: 0.2697865\ttotal: 146ms\tremaining: 119ms\n",
      "110:\tlearn: 0.2694106\ttotal: 147ms\tremaining: 118ms\n",
      "111:\tlearn: 0.2692036\ttotal: 148ms\tremaining: 116ms\n",
      "112:\tlearn: 0.2688670\ttotal: 149ms\tremaining: 115ms\n",
      "113:\tlearn: 0.2685130\ttotal: 151ms\tremaining: 114ms\n",
      "114:\tlearn: 0.2680249\ttotal: 152ms\tremaining: 112ms\n",
      "115:\tlearn: 0.2674791\ttotal: 153ms\tremaining: 111ms\n",
      "116:\tlearn: 0.2669496\ttotal: 155ms\tremaining: 110ms\n",
      "117:\tlearn: 0.2663210\ttotal: 156ms\tremaining: 108ms\n",
      "118:\tlearn: 0.2661935\ttotal: 157ms\tremaining: 107ms\n",
      "119:\tlearn: 0.2658782\ttotal: 159ms\tremaining: 106ms\n",
      "120:\tlearn: 0.2655620\ttotal: 160ms\tremaining: 104ms\n",
      "121:\tlearn: 0.2652272\ttotal: 161ms\tremaining: 103ms\n",
      "122:\tlearn: 0.2647395\ttotal: 162ms\tremaining: 102ms\n",
      "123:\tlearn: 0.2645503\ttotal: 164ms\tremaining: 100ms\n",
      "124:\tlearn: 0.2636914\ttotal: 165ms\tremaining: 99ms\n",
      "125:\tlearn: 0.2630060\ttotal: 166ms\tremaining: 97.6ms\n",
      "126:\tlearn: 0.2623437\ttotal: 167ms\tremaining: 96.3ms\n",
      "127:\tlearn: 0.2620100\ttotal: 169ms\tremaining: 94.8ms\n",
      "128:\tlearn: 0.2614529\ttotal: 170ms\tremaining: 93.5ms\n",
      "129:\tlearn: 0.2608195\ttotal: 171ms\tremaining: 92.2ms\n",
      "130:\tlearn: 0.2601556\ttotal: 173ms\tremaining: 91ms\n",
      "131:\tlearn: 0.2598000\ttotal: 174ms\tremaining: 89.6ms\n",
      "132:\tlearn: 0.2595731\ttotal: 175ms\tremaining: 88.3ms\n",
      "133:\tlearn: 0.2594880\ttotal: 177ms\tremaining: 87ms\n",
      "134:\tlearn: 0.2590912\ttotal: 178ms\tremaining: 85.7ms\n",
      "135:\tlearn: 0.2587479\ttotal: 179ms\tremaining: 84.3ms\n",
      "136:\tlearn: 0.2581454\ttotal: 180ms\tremaining: 82.9ms\n",
      "137:\tlearn: 0.2578411\ttotal: 182ms\tremaining: 81.6ms\n",
      "138:\tlearn: 0.2575335\ttotal: 183ms\tremaining: 80.3ms\n",
      "139:\tlearn: 0.2572220\ttotal: 184ms\tremaining: 79ms\n",
      "140:\tlearn: 0.2567369\ttotal: 186ms\tremaining: 77.7ms\n",
      "141:\tlearn: 0.2565257\ttotal: 187ms\tremaining: 76.4ms\n",
      "142:\tlearn: 0.2561167\ttotal: 188ms\tremaining: 75.1ms\n",
      "143:\tlearn: 0.2557345\ttotal: 190ms\tremaining: 73.7ms\n",
      "144:\tlearn: 0.2551498\ttotal: 191ms\tremaining: 72.5ms\n",
      "145:\tlearn: 0.2547241\ttotal: 192ms\tremaining: 71.1ms\n",
      "146:\tlearn: 0.2542285\ttotal: 194ms\tremaining: 69.8ms\n",
      "147:\tlearn: 0.2540820\ttotal: 195ms\tremaining: 68.5ms\n",
      "148:\tlearn: 0.2536233\ttotal: 196ms\tremaining: 67.1ms\n",
      "149:\tlearn: 0.2532521\ttotal: 198ms\tremaining: 65.8ms\n",
      "150:\tlearn: 0.2529442\ttotal: 199ms\tremaining: 64.5ms\n",
      "151:\tlearn: 0.2525717\ttotal: 200ms\tremaining: 63.2ms\n",
      "152:\tlearn: 0.2517854\ttotal: 201ms\tremaining: 61.8ms\n",
      "153:\tlearn: 0.2515822\ttotal: 202ms\tremaining: 60.5ms\n",
      "154:\tlearn: 0.2510791\ttotal: 204ms\tremaining: 59.1ms\n",
      "155:\tlearn: 0.2507046\ttotal: 205ms\tremaining: 57.8ms\n",
      "156:\tlearn: 0.2505114\ttotal: 206ms\tremaining: 56.5ms\n",
      "157:\tlearn: 0.2496807\ttotal: 208ms\tremaining: 55.2ms\n",
      "158:\tlearn: 0.2493612\ttotal: 209ms\tremaining: 53.9ms\n",
      "159:\tlearn: 0.2489825\ttotal: 210ms\tremaining: 52.5ms\n",
      "160:\tlearn: 0.2487190\ttotal: 211ms\tremaining: 51.2ms\n",
      "161:\tlearn: 0.2484835\ttotal: 213ms\tremaining: 49.9ms\n",
      "162:\tlearn: 0.2478976\ttotal: 214ms\tremaining: 48.6ms\n",
      "163:\tlearn: 0.2476516\ttotal: 215ms\tremaining: 47.3ms\n",
      "164:\tlearn: 0.2471411\ttotal: 217ms\tremaining: 46ms\n",
      "165:\tlearn: 0.2466541\ttotal: 218ms\tremaining: 44.6ms\n",
      "166:\tlearn: 0.2460211\ttotal: 219ms\tremaining: 43.3ms\n",
      "167:\tlearn: 0.2457622\ttotal: 221ms\tremaining: 42ms\n",
      "168:\tlearn: 0.2455341\ttotal: 222ms\tremaining: 40.7ms\n",
      "169:\tlearn: 0.2452585\ttotal: 223ms\tremaining: 39.4ms\n",
      "170:\tlearn: 0.2443655\ttotal: 225ms\tremaining: 38.1ms\n",
      "171:\tlearn: 0.2438238\ttotal: 226ms\tremaining: 36.8ms\n",
      "172:\tlearn: 0.2431716\ttotal: 227ms\tremaining: 35.5ms\n",
      "173:\tlearn: 0.2428774\ttotal: 228ms\tremaining: 34.1ms\n",
      "174:\tlearn: 0.2426642\ttotal: 230ms\tremaining: 32.8ms\n",
      "175:\tlearn: 0.2422470\ttotal: 231ms\tremaining: 31.5ms\n",
      "176:\tlearn: 0.2419332\ttotal: 232ms\tremaining: 30.2ms\n",
      "177:\tlearn: 0.2416973\ttotal: 233ms\tremaining: 28.9ms\n",
      "178:\tlearn: 0.2411276\ttotal: 235ms\tremaining: 27.5ms\n",
      "179:\tlearn: 0.2408971\ttotal: 236ms\tremaining: 26.2ms\n",
      "180:\tlearn: 0.2405647\ttotal: 237ms\tremaining: 24.9ms\n",
      "181:\tlearn: 0.2404820\ttotal: 239ms\tremaining: 23.6ms\n",
      "182:\tlearn: 0.2402711\ttotal: 240ms\tremaining: 22.3ms\n",
      "183:\tlearn: 0.2392922\ttotal: 241ms\tremaining: 21ms\n",
      "184:\tlearn: 0.2388215\ttotal: 243ms\tremaining: 19.7ms\n"
     ]
    },
    {
     "name": "stdout",
     "output_type": "stream",
     "text": [
      "185:\tlearn: 0.2384423\ttotal: 245ms\tremaining: 18.4ms\n",
      "186:\tlearn: 0.2376395\ttotal: 246ms\tremaining: 17.1ms\n",
      "187:\tlearn: 0.2372744\ttotal: 247ms\tremaining: 15.8ms\n",
      "188:\tlearn: 0.2367272\ttotal: 249ms\tremaining: 14.5ms\n",
      "189:\tlearn: 0.2364892\ttotal: 250ms\tremaining: 13.2ms\n",
      "190:\tlearn: 0.2361405\ttotal: 255ms\tremaining: 12ms\n",
      "191:\tlearn: 0.2358469\ttotal: 257ms\tremaining: 10.7ms\n",
      "192:\tlearn: 0.2355275\ttotal: 258ms\tremaining: 9.36ms\n",
      "193:\tlearn: 0.2350582\ttotal: 259ms\tremaining: 8.02ms\n",
      "194:\tlearn: 0.2346452\ttotal: 260ms\tremaining: 6.68ms\n",
      "195:\tlearn: 0.2344598\ttotal: 262ms\tremaining: 5.34ms\n",
      "196:\tlearn: 0.2342151\ttotal: 263ms\tremaining: 4.01ms\n",
      "197:\tlearn: 0.2338764\ttotal: 264ms\tremaining: 2.67ms\n",
      "198:\tlearn: 0.2334062\ttotal: 266ms\tremaining: 1.34ms\n",
      "199:\tlearn: 0.2332057\ttotal: 267ms\tremaining: 0us\n",
      "0:\tlearn: 0.4955552\ttotal: 1.29ms\tremaining: 257ms\n",
      "1:\tlearn: 0.4287171\ttotal: 2.5ms\tremaining: 248ms\n",
      "2:\tlearn: 0.4080422\ttotal: 3.77ms\tremaining: 248ms\n",
      "3:\tlearn: 0.3888884\ttotal: 5.01ms\tremaining: 246ms\n",
      "4:\tlearn: 0.3826708\ttotal: 6.2ms\tremaining: 242ms\n",
      "5:\tlearn: 0.3763015\ttotal: 7.37ms\tremaining: 238ms\n",
      "6:\tlearn: 0.3725551\ttotal: 8.61ms\tremaining: 237ms\n",
      "7:\tlearn: 0.3707950\ttotal: 9.92ms\tremaining: 238ms\n",
      "8:\tlearn: 0.3686413\ttotal: 11.1ms\tremaining: 235ms\n",
      "9:\tlearn: 0.3665720\ttotal: 12.4ms\tremaining: 235ms\n",
      "10:\tlearn: 0.3649462\ttotal: 13.7ms\tremaining: 236ms\n",
      "11:\tlearn: 0.3631165\ttotal: 14.9ms\tremaining: 233ms\n",
      "12:\tlearn: 0.3608225\ttotal: 16.2ms\tremaining: 234ms\n",
      "13:\tlearn: 0.3591460\ttotal: 17.6ms\tremaining: 234ms\n",
      "14:\tlearn: 0.3579299\ttotal: 18.8ms\tremaining: 232ms\n",
      "15:\tlearn: 0.3572610\ttotal: 20.1ms\tremaining: 231ms\n",
      "16:\tlearn: 0.3553622\ttotal: 21.2ms\tremaining: 228ms\n",
      "17:\tlearn: 0.3546124\ttotal: 22.5ms\tremaining: 227ms\n",
      "18:\tlearn: 0.3539650\ttotal: 23.7ms\tremaining: 226ms\n",
      "19:\tlearn: 0.3529138\ttotal: 25ms\tremaining: 225ms\n",
      "20:\tlearn: 0.3512034\ttotal: 26.2ms\tremaining: 223ms\n",
      "21:\tlearn: 0.3491646\ttotal: 27.6ms\tremaining: 223ms\n",
      "22:\tlearn: 0.3475778\ttotal: 28.9ms\tremaining: 222ms\n",
      "23:\tlearn: 0.3461950\ttotal: 30.3ms\tremaining: 222ms\n",
      "24:\tlearn: 0.3445912\ttotal: 31.7ms\tremaining: 222ms\n",
      "25:\tlearn: 0.3427010\ttotal: 33ms\tremaining: 221ms\n",
      "26:\tlearn: 0.3409279\ttotal: 34.3ms\tremaining: 220ms\n",
      "27:\tlearn: 0.3399281\ttotal: 35.6ms\tremaining: 219ms\n",
      "28:\tlearn: 0.3379037\ttotal: 36.9ms\tremaining: 217ms\n",
      "29:\tlearn: 0.3369565\ttotal: 38.1ms\tremaining: 216ms\n",
      "30:\tlearn: 0.3358679\ttotal: 39.5ms\tremaining: 215ms\n",
      "31:\tlearn: 0.3345447\ttotal: 40.7ms\tremaining: 214ms\n",
      "32:\tlearn: 0.3333033\ttotal: 42.2ms\tremaining: 213ms\n",
      "33:\tlearn: 0.3324184\ttotal: 43.4ms\tremaining: 212ms\n",
      "34:\tlearn: 0.3313251\ttotal: 45.2ms\tremaining: 213ms\n",
      "35:\tlearn: 0.3299471\ttotal: 47.1ms\tremaining: 215ms\n",
      "36:\tlearn: 0.3284362\ttotal: 48.4ms\tremaining: 213ms\n",
      "37:\tlearn: 0.3269903\ttotal: 49.6ms\tremaining: 211ms\n",
      "38:\tlearn: 0.3255631\ttotal: 50.9ms\tremaining: 210ms\n",
      "39:\tlearn: 0.3246183\ttotal: 52.3ms\tremaining: 209ms\n",
      "40:\tlearn: 0.3241053\ttotal: 53.6ms\tremaining: 208ms\n",
      "41:\tlearn: 0.3232811\ttotal: 55ms\tremaining: 207ms\n",
      "42:\tlearn: 0.3228944\ttotal: 56.3ms\tremaining: 206ms\n",
      "43:\tlearn: 0.3221171\ttotal: 57.5ms\tremaining: 204ms\n",
      "44:\tlearn: 0.3213488\ttotal: 58.9ms\tremaining: 203ms\n",
      "45:\tlearn: 0.3204988\ttotal: 60.1ms\tremaining: 201ms\n",
      "46:\tlearn: 0.3194526\ttotal: 61.3ms\tremaining: 200ms\n",
      "47:\tlearn: 0.3190437\ttotal: 62.8ms\tremaining: 199ms\n",
      "48:\tlearn: 0.3180323\ttotal: 64.1ms\tremaining: 198ms\n",
      "49:\tlearn: 0.3168028\ttotal: 65.5ms\tremaining: 197ms\n",
      "50:\tlearn: 0.3160097\ttotal: 66.9ms\tremaining: 195ms\n",
      "51:\tlearn: 0.3152125\ttotal: 68.1ms\tremaining: 194ms\n",
      "52:\tlearn: 0.3142471\ttotal: 69.5ms\tremaining: 193ms\n",
      "53:\tlearn: 0.3137522\ttotal: 70.8ms\tremaining: 191ms\n",
      "54:\tlearn: 0.3133763\ttotal: 72.1ms\tremaining: 190ms\n",
      "55:\tlearn: 0.3126940\ttotal: 73.4ms\tremaining: 189ms\n",
      "56:\tlearn: 0.3119442\ttotal: 74.7ms\tremaining: 187ms\n",
      "57:\tlearn: 0.3111833\ttotal: 76ms\tremaining: 186ms\n",
      "58:\tlearn: 0.3105821\ttotal: 77.2ms\tremaining: 185ms\n",
      "59:\tlearn: 0.3093685\ttotal: 78.6ms\tremaining: 183ms\n",
      "60:\tlearn: 0.3086892\ttotal: 79.8ms\tremaining: 182ms\n",
      "61:\tlearn: 0.3080164\ttotal: 81.2ms\tremaining: 181ms\n",
      "62:\tlearn: 0.3073891\ttotal: 82.4ms\tremaining: 179ms\n",
      "63:\tlearn: 0.3065801\ttotal: 83.8ms\tremaining: 178ms\n",
      "64:\tlearn: 0.3060362\ttotal: 85.1ms\tremaining: 177ms\n",
      "65:\tlearn: 0.3046462\ttotal: 86.3ms\tremaining: 175ms\n",
      "66:\tlearn: 0.3041446\ttotal: 87.7ms\tremaining: 174ms\n",
      "67:\tlearn: 0.3028134\ttotal: 89ms\tremaining: 173ms\n",
      "68:\tlearn: 0.3020787\ttotal: 90.2ms\tremaining: 171ms\n",
      "69:\tlearn: 0.3011686\ttotal: 91.5ms\tremaining: 170ms\n",
      "70:\tlearn: 0.3003214\ttotal: 92.8ms\tremaining: 169ms\n",
      "71:\tlearn: 0.2998191\ttotal: 94.2ms\tremaining: 167ms\n",
      "72:\tlearn: 0.2988341\ttotal: 95.3ms\tremaining: 166ms\n",
      "73:\tlearn: 0.2984214\ttotal: 96.7ms\tremaining: 165ms\n",
      "74:\tlearn: 0.2974975\ttotal: 98.1ms\tremaining: 163ms\n",
      "75:\tlearn: 0.2966781\ttotal: 99.4ms\tremaining: 162ms\n",
      "76:\tlearn: 0.2959513\ttotal: 101ms\tremaining: 161ms\n",
      "77:\tlearn: 0.2951342\ttotal: 102ms\tremaining: 159ms\n",
      "78:\tlearn: 0.2944309\ttotal: 103ms\tremaining: 158ms\n",
      "79:\tlearn: 0.2939226\ttotal: 104ms\tremaining: 156ms\n",
      "80:\tlearn: 0.2925511\ttotal: 105ms\tremaining: 155ms\n",
      "81:\tlearn: 0.2917315\ttotal: 107ms\tremaining: 153ms\n",
      "82:\tlearn: 0.2912517\ttotal: 108ms\tremaining: 152ms\n",
      "83:\tlearn: 0.2908741\ttotal: 109ms\tremaining: 151ms\n",
      "84:\tlearn: 0.2903071\ttotal: 110ms\tremaining: 149ms\n",
      "85:\tlearn: 0.2898146\ttotal: 112ms\tremaining: 148ms\n",
      "86:\tlearn: 0.2892028\ttotal: 113ms\tremaining: 147ms\n",
      "87:\tlearn: 0.2885028\ttotal: 114ms\tremaining: 145ms\n",
      "88:\tlearn: 0.2876221\ttotal: 115ms\tremaining: 144ms\n",
      "89:\tlearn: 0.2867603\ttotal: 117ms\tremaining: 143ms\n",
      "90:\tlearn: 0.2859646\ttotal: 118ms\tremaining: 141ms\n",
      "91:\tlearn: 0.2854145\ttotal: 119ms\tremaining: 140ms\n",
      "92:\tlearn: 0.2845955\ttotal: 121ms\tremaining: 139ms\n",
      "93:\tlearn: 0.2836544\ttotal: 122ms\tremaining: 138ms\n",
      "94:\tlearn: 0.2831804\ttotal: 123ms\tremaining: 136ms\n",
      "95:\tlearn: 0.2827222\ttotal: 125ms\tremaining: 135ms\n",
      "96:\tlearn: 0.2822645\ttotal: 126ms\tremaining: 134ms\n",
      "97:\tlearn: 0.2819310\ttotal: 127ms\tremaining: 133ms\n",
      "98:\tlearn: 0.2815909\ttotal: 129ms\tremaining: 131ms\n",
      "99:\tlearn: 0.2811742\ttotal: 130ms\tremaining: 130ms\n",
      "100:\tlearn: 0.2806556\ttotal: 131ms\tremaining: 129ms\n",
      "101:\tlearn: 0.2799935\ttotal: 133ms\tremaining: 127ms\n",
      "102:\tlearn: 0.2795119\ttotal: 134ms\tremaining: 126ms\n",
      "103:\tlearn: 0.2787403\ttotal: 135ms\tremaining: 125ms\n",
      "104:\tlearn: 0.2785035\ttotal: 137ms\tremaining: 124ms\n",
      "105:\tlearn: 0.2782526\ttotal: 138ms\tremaining: 122ms\n",
      "106:\tlearn: 0.2779910\ttotal: 139ms\tremaining: 121ms\n",
      "107:\tlearn: 0.2772821\ttotal: 141ms\tremaining: 120ms\n",
      "108:\tlearn: 0.2765337\ttotal: 142ms\tremaining: 118ms\n",
      "109:\tlearn: 0.2762331\ttotal: 143ms\tremaining: 117ms\n",
      "110:\tlearn: 0.2757583\ttotal: 144ms\tremaining: 116ms\n",
      "111:\tlearn: 0.2755307\ttotal: 146ms\tremaining: 114ms\n",
      "112:\tlearn: 0.2749305\ttotal: 147ms\tremaining: 113ms\n",
      "113:\tlearn: 0.2743417\ttotal: 148ms\tremaining: 112ms\n",
      "114:\tlearn: 0.2731969\ttotal: 149ms\tremaining: 110ms\n",
      "115:\tlearn: 0.2726780\ttotal: 151ms\tremaining: 109ms\n",
      "116:\tlearn: 0.2721903\ttotal: 152ms\tremaining: 108ms\n",
      "117:\tlearn: 0.2715849\ttotal: 153ms\tremaining: 107ms\n",
      "118:\tlearn: 0.2708540\ttotal: 155ms\tremaining: 105ms\n",
      "119:\tlearn: 0.2698087\ttotal: 156ms\tremaining: 104ms\n",
      "120:\tlearn: 0.2694101\ttotal: 157ms\tremaining: 103ms\n",
      "121:\tlearn: 0.2686986\ttotal: 159ms\tremaining: 101ms\n",
      "122:\tlearn: 0.2680763\ttotal: 160ms\tremaining: 100ms\n",
      "123:\tlearn: 0.2678256\ttotal: 161ms\tremaining: 98.8ms\n",
      "124:\tlearn: 0.2675030\ttotal: 163ms\tremaining: 97.6ms\n",
      "125:\tlearn: 0.2669759\ttotal: 164ms\tremaining: 96.2ms\n",
      "126:\tlearn: 0.2667013\ttotal: 165ms\tremaining: 95ms\n",
      "127:\tlearn: 0.2661597\ttotal: 166ms\tremaining: 93.6ms\n",
      "128:\tlearn: 0.2657520\ttotal: 168ms\tremaining: 92.3ms\n",
      "129:\tlearn: 0.2652918\ttotal: 169ms\tremaining: 91ms\n",
      "130:\tlearn: 0.2649784\ttotal: 170ms\tremaining: 89.7ms\n",
      "131:\tlearn: 0.2646714\ttotal: 172ms\tremaining: 88.4ms\n",
      "132:\tlearn: 0.2639132\ttotal: 173ms\tremaining: 87ms\n",
      "133:\tlearn: 0.2632483\ttotal: 174ms\tremaining: 85.8ms\n",
      "134:\tlearn: 0.2627117\ttotal: 175ms\tremaining: 84.4ms\n",
      "135:\tlearn: 0.2622545\ttotal: 177ms\tremaining: 83.2ms\n",
      "136:\tlearn: 0.2613950\ttotal: 178ms\tremaining: 81.9ms\n",
      "137:\tlearn: 0.2610769\ttotal: 179ms\tremaining: 80.6ms\n",
      "138:\tlearn: 0.2606196\ttotal: 181ms\tremaining: 79.3ms\n",
      "139:\tlearn: 0.2604036\ttotal: 182ms\tremaining: 78ms\n",
      "140:\tlearn: 0.2599576\ttotal: 183ms\tremaining: 76.7ms\n",
      "141:\tlearn: 0.2597645\ttotal: 185ms\tremaining: 75.4ms\n",
      "142:\tlearn: 0.2594786\ttotal: 186ms\tremaining: 74.1ms\n",
      "143:\tlearn: 0.2591569\ttotal: 187ms\tremaining: 72.8ms\n",
      "144:\tlearn: 0.2588269\ttotal: 188ms\tremaining: 71.5ms\n",
      "145:\tlearn: 0.2583772\ttotal: 190ms\tremaining: 70.2ms\n",
      "146:\tlearn: 0.2580880\ttotal: 191ms\tremaining: 68.8ms\n",
      "147:\tlearn: 0.2574150\ttotal: 192ms\tremaining: 67.5ms\n",
      "148:\tlearn: 0.2566202\ttotal: 193ms\tremaining: 66.2ms\n",
      "149:\tlearn: 0.2562677\ttotal: 195ms\tremaining: 64.9ms\n",
      "150:\tlearn: 0.2554512\ttotal: 196ms\tremaining: 63.6ms\n",
      "151:\tlearn: 0.2549743\ttotal: 197ms\tremaining: 62.3ms\n",
      "152:\tlearn: 0.2547813\ttotal: 199ms\tremaining: 61ms\n",
      "153:\tlearn: 0.2545239\ttotal: 200ms\tremaining: 59.7ms\n",
      "154:\tlearn: 0.2543384\ttotal: 201ms\tremaining: 58.4ms\n",
      "155:\tlearn: 0.2538610\ttotal: 202ms\tremaining: 57.1ms\n",
      "156:\tlearn: 0.2536221\ttotal: 203ms\tremaining: 55.7ms\n",
      "157:\tlearn: 0.2530731\ttotal: 205ms\tremaining: 54.5ms\n",
      "158:\tlearn: 0.2526998\ttotal: 206ms\tremaining: 53.2ms\n",
      "159:\tlearn: 0.2525455\ttotal: 207ms\tremaining: 51.9ms\n",
      "160:\tlearn: 0.2519875\ttotal: 209ms\tremaining: 50.6ms\n",
      "161:\tlearn: 0.2515571\ttotal: 210ms\tremaining: 49.2ms\n",
      "162:\tlearn: 0.2511293\ttotal: 211ms\tremaining: 47.9ms\n",
      "163:\tlearn: 0.2508687\ttotal: 212ms\tremaining: 46.6ms\n",
      "164:\tlearn: 0.2504375\ttotal: 214ms\tremaining: 45.3ms\n",
      "165:\tlearn: 0.2501292\ttotal: 215ms\tremaining: 44ms\n",
      "166:\tlearn: 0.2499487\ttotal: 216ms\tremaining: 42.7ms\n",
      "167:\tlearn: 0.2496605\ttotal: 218ms\tremaining: 41.4ms\n",
      "168:\tlearn: 0.2493165\ttotal: 219ms\tremaining: 40.1ms\n",
      "169:\tlearn: 0.2491098\ttotal: 220ms\tremaining: 38.8ms\n",
      "170:\tlearn: 0.2489100\ttotal: 221ms\tremaining: 37.6ms\n",
      "171:\tlearn: 0.2483738\ttotal: 223ms\tremaining: 36.3ms\n",
      "172:\tlearn: 0.2480637\ttotal: 224ms\tremaining: 34.9ms\n",
      "173:\tlearn: 0.2475255\ttotal: 225ms\tremaining: 33.7ms\n",
      "174:\tlearn: 0.2471202\ttotal: 226ms\tremaining: 32.4ms\n",
      "175:\tlearn: 0.2467345\ttotal: 228ms\tremaining: 31.1ms\n",
      "176:\tlearn: 0.2463784\ttotal: 229ms\tremaining: 29.8ms\n",
      "177:\tlearn: 0.2460585\ttotal: 230ms\tremaining: 28.5ms\n",
      "178:\tlearn: 0.2457198\ttotal: 232ms\tremaining: 27.2ms\n",
      "179:\tlearn: 0.2451467\ttotal: 233ms\tremaining: 25.9ms\n",
      "180:\tlearn: 0.2449185\ttotal: 234ms\tremaining: 24.6ms\n",
      "181:\tlearn: 0.2445232\ttotal: 235ms\tremaining: 23.3ms\n",
      "182:\tlearn: 0.2441055\ttotal: 237ms\tremaining: 22ms\n",
      "183:\tlearn: 0.2432494\ttotal: 238ms\tremaining: 20.7ms\n"
     ]
    },
    {
     "name": "stdout",
     "output_type": "stream",
     "text": [
      "184:\tlearn: 0.2427321\ttotal: 240ms\tremaining: 19.4ms\n",
      "185:\tlearn: 0.2423974\ttotal: 241ms\tremaining: 18.2ms\n",
      "186:\tlearn: 0.2419627\ttotal: 243ms\tremaining: 16.9ms\n",
      "187:\tlearn: 0.2412685\ttotal: 248ms\tremaining: 15.8ms\n",
      "188:\tlearn: 0.2410114\ttotal: 250ms\tremaining: 14.5ms\n",
      "189:\tlearn: 0.2404509\ttotal: 251ms\tremaining: 13.2ms\n",
      "190:\tlearn: 0.2396403\ttotal: 252ms\tremaining: 11.9ms\n",
      "191:\tlearn: 0.2393013\ttotal: 254ms\tremaining: 10.6ms\n",
      "192:\tlearn: 0.2390637\ttotal: 255ms\tremaining: 9.25ms\n",
      "193:\tlearn: 0.2385371\ttotal: 256ms\tremaining: 7.92ms\n",
      "194:\tlearn: 0.2381710\ttotal: 257ms\tremaining: 6.6ms\n",
      "195:\tlearn: 0.2378040\ttotal: 259ms\tremaining: 5.28ms\n",
      "196:\tlearn: 0.2375170\ttotal: 260ms\tremaining: 3.96ms\n",
      "197:\tlearn: 0.2371604\ttotal: 261ms\tremaining: 2.64ms\n",
      "198:\tlearn: 0.2360374\ttotal: 262ms\tremaining: 1.32ms\n",
      "199:\tlearn: 0.2358371\ttotal: 264ms\tremaining: 0us\n",
      "0:\tlearn: 0.4951725\ttotal: 1.34ms\tremaining: 268ms\n",
      "1:\tlearn: 0.4410648\ttotal: 2.72ms\tremaining: 269ms\n",
      "2:\tlearn: 0.4097811\ttotal: 4.05ms\tremaining: 266ms\n",
      "3:\tlearn: 0.3971504\ttotal: 5.33ms\tremaining: 261ms\n",
      "4:\tlearn: 0.3867024\ttotal: 6.71ms\tremaining: 262ms\n",
      "5:\tlearn: 0.3811822\ttotal: 8.02ms\tremaining: 259ms\n",
      "6:\tlearn: 0.3771208\ttotal: 9.28ms\tremaining: 256ms\n",
      "7:\tlearn: 0.3733002\ttotal: 10.5ms\tremaining: 252ms\n",
      "8:\tlearn: 0.3707566\ttotal: 11.8ms\tremaining: 251ms\n",
      "9:\tlearn: 0.3677806\ttotal: 13.2ms\tremaining: 251ms\n",
      "10:\tlearn: 0.3664157\ttotal: 14.4ms\tremaining: 248ms\n",
      "11:\tlearn: 0.3644972\ttotal: 15.6ms\tremaining: 245ms\n",
      "12:\tlearn: 0.3629149\ttotal: 17ms\tremaining: 245ms\n",
      "13:\tlearn: 0.3614227\ttotal: 18.3ms\tremaining: 243ms\n",
      "14:\tlearn: 0.3602080\ttotal: 19.5ms\tremaining: 240ms\n",
      "15:\tlearn: 0.3592782\ttotal: 20.7ms\tremaining: 238ms\n",
      "16:\tlearn: 0.3582591\ttotal: 21.9ms\tremaining: 235ms\n",
      "17:\tlearn: 0.3560326\ttotal: 23.2ms\tremaining: 234ms\n",
      "18:\tlearn: 0.3548749\ttotal: 24.4ms\tremaining: 233ms\n",
      "19:\tlearn: 0.3532502\ttotal: 25.8ms\tremaining: 232ms\n",
      "20:\tlearn: 0.3518835\ttotal: 27.1ms\tremaining: 231ms\n",
      "21:\tlearn: 0.3508491\ttotal: 28.4ms\tremaining: 230ms\n",
      "22:\tlearn: 0.3493485\ttotal: 29.6ms\tremaining: 228ms\n",
      "23:\tlearn: 0.3482523\ttotal: 31ms\tremaining: 227ms\n",
      "24:\tlearn: 0.3469691\ttotal: 32.3ms\tremaining: 226ms\n",
      "25:\tlearn: 0.3462495\ttotal: 33.4ms\tremaining: 224ms\n",
      "26:\tlearn: 0.3446249\ttotal: 34.7ms\tremaining: 223ms\n",
      "27:\tlearn: 0.3435895\ttotal: 36ms\tremaining: 221ms\n",
      "28:\tlearn: 0.3426942\ttotal: 37.2ms\tremaining: 220ms\n",
      "29:\tlearn: 0.3413618\ttotal: 38.4ms\tremaining: 218ms\n",
      "30:\tlearn: 0.3402079\ttotal: 39.7ms\tremaining: 216ms\n",
      "31:\tlearn: 0.3388268\ttotal: 41.7ms\tremaining: 219ms\n",
      "32:\tlearn: 0.3376710\ttotal: 43ms\tremaining: 217ms\n",
      "33:\tlearn: 0.3351228\ttotal: 44.4ms\tremaining: 217ms\n",
      "34:\tlearn: 0.3338068\ttotal: 45.5ms\tremaining: 215ms\n",
      "35:\tlearn: 0.3330260\ttotal: 46.9ms\tremaining: 214ms\n",
      "36:\tlearn: 0.3317972\ttotal: 48.2ms\tremaining: 212ms\n",
      "37:\tlearn: 0.3305223\ttotal: 49.5ms\tremaining: 211ms\n",
      "38:\tlearn: 0.3288151\ttotal: 50.8ms\tremaining: 210ms\n",
      "39:\tlearn: 0.3280212\ttotal: 52.1ms\tremaining: 208ms\n",
      "40:\tlearn: 0.3266207\ttotal: 53.3ms\tremaining: 207ms\n",
      "41:\tlearn: 0.3258372\ttotal: 54.6ms\tremaining: 205ms\n",
      "42:\tlearn: 0.3249806\ttotal: 56ms\tremaining: 205ms\n",
      "43:\tlearn: 0.3241628\ttotal: 57.2ms\tremaining: 203ms\n",
      "44:\tlearn: 0.3234143\ttotal: 58.6ms\tremaining: 202ms\n",
      "45:\tlearn: 0.3228529\ttotal: 59.8ms\tremaining: 200ms\n",
      "46:\tlearn: 0.3212599\ttotal: 61.1ms\tremaining: 199ms\n",
      "47:\tlearn: 0.3205938\ttotal: 62.3ms\tremaining: 197ms\n",
      "48:\tlearn: 0.3197932\ttotal: 63.5ms\tremaining: 196ms\n",
      "49:\tlearn: 0.3191276\ttotal: 64.9ms\tremaining: 195ms\n",
      "50:\tlearn: 0.3184237\ttotal: 66ms\tremaining: 193ms\n",
      "51:\tlearn: 0.3172716\ttotal: 67.4ms\tremaining: 192ms\n",
      "52:\tlearn: 0.3163299\ttotal: 68.6ms\tremaining: 190ms\n",
      "53:\tlearn: 0.3157890\ttotal: 70ms\tremaining: 189ms\n",
      "54:\tlearn: 0.3140726\ttotal: 71.4ms\tremaining: 188ms\n",
      "55:\tlearn: 0.3134443\ttotal: 72.6ms\tremaining: 187ms\n",
      "56:\tlearn: 0.3129562\ttotal: 73.9ms\tremaining: 185ms\n",
      "57:\tlearn: 0.3125019\ttotal: 75.1ms\tremaining: 184ms\n",
      "58:\tlearn: 0.3118869\ttotal: 76.4ms\tremaining: 183ms\n",
      "59:\tlearn: 0.3107268\ttotal: 77.8ms\tremaining: 182ms\n",
      "60:\tlearn: 0.3103354\ttotal: 79ms\tremaining: 180ms\n",
      "61:\tlearn: 0.3088045\ttotal: 80.4ms\tremaining: 179ms\n",
      "62:\tlearn: 0.3082414\ttotal: 81.7ms\tremaining: 178ms\n",
      "63:\tlearn: 0.3074320\ttotal: 82.9ms\tremaining: 176ms\n",
      "64:\tlearn: 0.3071563\ttotal: 84.1ms\tremaining: 175ms\n",
      "65:\tlearn: 0.3063210\ttotal: 85.4ms\tremaining: 173ms\n",
      "66:\tlearn: 0.3055062\ttotal: 86.8ms\tremaining: 172ms\n",
      "67:\tlearn: 0.3047106\ttotal: 88ms\tremaining: 171ms\n",
      "68:\tlearn: 0.3036231\ttotal: 89.3ms\tremaining: 170ms\n",
      "69:\tlearn: 0.3024952\ttotal: 90.7ms\tremaining: 168ms\n",
      "70:\tlearn: 0.3016691\ttotal: 92ms\tremaining: 167ms\n",
      "71:\tlearn: 0.3007192\ttotal: 93.2ms\tremaining: 166ms\n",
      "72:\tlearn: 0.2999258\ttotal: 94.5ms\tremaining: 164ms\n",
      "73:\tlearn: 0.2993803\ttotal: 95.8ms\tremaining: 163ms\n",
      "74:\tlearn: 0.2984347\ttotal: 97.1ms\tremaining: 162ms\n",
      "75:\tlearn: 0.2980052\ttotal: 98.4ms\tremaining: 161ms\n",
      "76:\tlearn: 0.2976728\ttotal: 99.5ms\tremaining: 159ms\n",
      "77:\tlearn: 0.2968214\ttotal: 101ms\tremaining: 158ms\n",
      "78:\tlearn: 0.2963043\ttotal: 102ms\tremaining: 156ms\n",
      "79:\tlearn: 0.2954452\ttotal: 103ms\tremaining: 155ms\n",
      "80:\tlearn: 0.2950352\ttotal: 105ms\tremaining: 154ms\n",
      "81:\tlearn: 0.2936801\ttotal: 106ms\tremaining: 153ms\n",
      "82:\tlearn: 0.2930414\ttotal: 107ms\tremaining: 151ms\n",
      "83:\tlearn: 0.2923699\ttotal: 108ms\tremaining: 150ms\n",
      "84:\tlearn: 0.2912597\ttotal: 110ms\tremaining: 148ms\n",
      "85:\tlearn: 0.2908023\ttotal: 111ms\tremaining: 147ms\n",
      "86:\tlearn: 0.2899028\ttotal: 112ms\tremaining: 146ms\n",
      "87:\tlearn: 0.2893816\ttotal: 114ms\tremaining: 145ms\n",
      "88:\tlearn: 0.2886695\ttotal: 115ms\tremaining: 143ms\n",
      "89:\tlearn: 0.2877964\ttotal: 116ms\tremaining: 142ms\n",
      "90:\tlearn: 0.2871152\ttotal: 117ms\tremaining: 140ms\n",
      "91:\tlearn: 0.2863299\ttotal: 118ms\tremaining: 139ms\n",
      "92:\tlearn: 0.2857859\ttotal: 120ms\tremaining: 138ms\n",
      "93:\tlearn: 0.2851433\ttotal: 121ms\tremaining: 136ms\n",
      "94:\tlearn: 0.2841856\ttotal: 122ms\tremaining: 135ms\n",
      "95:\tlearn: 0.2833349\ttotal: 123ms\tremaining: 134ms\n",
      "96:\tlearn: 0.2829714\ttotal: 124ms\tremaining: 132ms\n",
      "97:\tlearn: 0.2824740\ttotal: 126ms\tremaining: 131ms\n",
      "98:\tlearn: 0.2822974\ttotal: 127ms\tremaining: 130ms\n",
      "99:\tlearn: 0.2820160\ttotal: 128ms\tremaining: 128ms\n",
      "100:\tlearn: 0.2811233\ttotal: 130ms\tremaining: 127ms\n",
      "101:\tlearn: 0.2806367\ttotal: 131ms\tremaining: 126ms\n",
      "102:\tlearn: 0.2800652\ttotal: 132ms\tremaining: 125ms\n",
      "103:\tlearn: 0.2793457\ttotal: 134ms\tremaining: 123ms\n",
      "104:\tlearn: 0.2782131\ttotal: 135ms\tremaining: 122ms\n",
      "105:\tlearn: 0.2773401\ttotal: 136ms\tremaining: 121ms\n",
      "106:\tlearn: 0.2770365\ttotal: 137ms\tremaining: 119ms\n",
      "107:\tlearn: 0.2764515\ttotal: 139ms\tremaining: 118ms\n",
      "108:\tlearn: 0.2756455\ttotal: 140ms\tremaining: 117ms\n",
      "109:\tlearn: 0.2751657\ttotal: 141ms\tremaining: 116ms\n",
      "110:\tlearn: 0.2740266\ttotal: 143ms\tremaining: 114ms\n",
      "111:\tlearn: 0.2736500\ttotal: 144ms\tremaining: 113ms\n",
      "112:\tlearn: 0.2727523\ttotal: 145ms\tremaining: 112ms\n",
      "113:\tlearn: 0.2723133\ttotal: 146ms\tremaining: 110ms\n",
      "114:\tlearn: 0.2719957\ttotal: 148ms\tremaining: 109ms\n",
      "115:\tlearn: 0.2715442\ttotal: 149ms\tremaining: 108ms\n",
      "116:\tlearn: 0.2712406\ttotal: 150ms\tremaining: 107ms\n",
      "117:\tlearn: 0.2710290\ttotal: 151ms\tremaining: 105ms\n",
      "118:\tlearn: 0.2705814\ttotal: 153ms\tremaining: 104ms\n",
      "119:\tlearn: 0.2702358\ttotal: 154ms\tremaining: 103ms\n",
      "120:\tlearn: 0.2692059\ttotal: 155ms\tremaining: 101ms\n",
      "121:\tlearn: 0.2688447\ttotal: 157ms\tremaining: 100ms\n",
      "122:\tlearn: 0.2685572\ttotal: 158ms\tremaining: 99ms\n",
      "123:\tlearn: 0.2677496\ttotal: 160ms\tremaining: 97.8ms\n",
      "124:\tlearn: 0.2674225\ttotal: 161ms\tremaining: 96.5ms\n",
      "125:\tlearn: 0.2671288\ttotal: 162ms\tremaining: 95.2ms\n",
      "126:\tlearn: 0.2664990\ttotal: 163ms\tremaining: 93.9ms\n",
      "127:\tlearn: 0.2660547\ttotal: 165ms\tremaining: 92.5ms\n",
      "128:\tlearn: 0.2656529\ttotal: 166ms\tremaining: 91.3ms\n",
      "129:\tlearn: 0.2653984\ttotal: 167ms\tremaining: 90ms\n",
      "130:\tlearn: 0.2649464\ttotal: 169ms\tremaining: 88.8ms\n",
      "131:\tlearn: 0.2643615\ttotal: 170ms\tremaining: 87.4ms\n",
      "132:\tlearn: 0.2637769\ttotal: 171ms\tremaining: 86.1ms\n",
      "133:\tlearn: 0.2634430\ttotal: 172ms\tremaining: 84.8ms\n",
      "134:\tlearn: 0.2627748\ttotal: 174ms\tremaining: 83.6ms\n",
      "135:\tlearn: 0.2625379\ttotal: 175ms\tremaining: 82.2ms\n",
      "136:\tlearn: 0.2619409\ttotal: 176ms\tremaining: 80.9ms\n",
      "137:\tlearn: 0.2616216\ttotal: 177ms\tremaining: 79.6ms\n",
      "138:\tlearn: 0.2612818\ttotal: 178ms\tremaining: 78.3ms\n",
      "139:\tlearn: 0.2610907\ttotal: 180ms\tremaining: 77.1ms\n",
      "140:\tlearn: 0.2606930\ttotal: 181ms\tremaining: 75.8ms\n",
      "141:\tlearn: 0.2604078\ttotal: 182ms\tremaining: 74.5ms\n",
      "142:\tlearn: 0.2599169\ttotal: 184ms\tremaining: 73.2ms\n",
      "143:\tlearn: 0.2597069\ttotal: 185ms\tremaining: 72ms\n",
      "144:\tlearn: 0.2591918\ttotal: 186ms\tremaining: 70.6ms\n",
      "145:\tlearn: 0.2589333\ttotal: 187ms\tremaining: 69.3ms\n",
      "146:\tlearn: 0.2579900\ttotal: 189ms\tremaining: 68.1ms\n",
      "147:\tlearn: 0.2576691\ttotal: 190ms\tremaining: 66.7ms\n",
      "148:\tlearn: 0.2572747\ttotal: 191ms\tremaining: 65.5ms\n",
      "149:\tlearn: 0.2567279\ttotal: 193ms\tremaining: 64.2ms\n",
      "150:\tlearn: 0.2560857\ttotal: 194ms\tremaining: 62.9ms\n",
      "151:\tlearn: 0.2551895\ttotal: 195ms\tremaining: 61.6ms\n",
      "152:\tlearn: 0.2546612\ttotal: 196ms\tremaining: 60.3ms\n",
      "153:\tlearn: 0.2541710\ttotal: 198ms\tremaining: 59ms\n",
      "154:\tlearn: 0.2540044\ttotal: 199ms\tremaining: 57.8ms\n",
      "155:\tlearn: 0.2533076\ttotal: 200ms\tremaining: 56.5ms\n",
      "156:\tlearn: 0.2529825\ttotal: 202ms\tremaining: 55.2ms\n",
      "157:\tlearn: 0.2522381\ttotal: 203ms\tremaining: 53.9ms\n",
      "158:\tlearn: 0.2518129\ttotal: 204ms\tremaining: 52.6ms\n",
      "159:\tlearn: 0.2514794\ttotal: 205ms\tremaining: 51.4ms\n",
      "160:\tlearn: 0.2500136\ttotal: 207ms\tremaining: 50.1ms\n",
      "161:\tlearn: 0.2494603\ttotal: 208ms\tremaining: 48.8ms\n",
      "162:\tlearn: 0.2491286\ttotal: 209ms\tremaining: 47.5ms\n",
      "163:\tlearn: 0.2488921\ttotal: 210ms\tremaining: 46.2ms\n",
      "164:\tlearn: 0.2487044\ttotal: 212ms\tremaining: 44.9ms\n",
      "165:\tlearn: 0.2482998\ttotal: 213ms\tremaining: 43.6ms\n",
      "166:\tlearn: 0.2477355\ttotal: 214ms\tremaining: 42.3ms\n",
      "167:\tlearn: 0.2473906\ttotal: 215ms\tremaining: 41ms\n",
      "168:\tlearn: 0.2471813\ttotal: 217ms\tremaining: 39.8ms\n",
      "169:\tlearn: 0.2469558\ttotal: 218ms\tremaining: 38.5ms\n",
      "170:\tlearn: 0.2462550\ttotal: 219ms\tremaining: 37.2ms\n",
      "171:\tlearn: 0.2458158\ttotal: 221ms\tremaining: 35.9ms\n",
      "172:\tlearn: 0.2449618\ttotal: 222ms\tremaining: 34.7ms\n",
      "173:\tlearn: 0.2441705\ttotal: 224ms\tremaining: 33.4ms\n",
      "174:\tlearn: 0.2434046\ttotal: 225ms\tremaining: 32.1ms\n",
      "175:\tlearn: 0.2430367\ttotal: 226ms\tremaining: 30.8ms\n",
      "176:\tlearn: 0.2427275\ttotal: 227ms\tremaining: 29.5ms\n",
      "177:\tlearn: 0.2421862\ttotal: 229ms\tremaining: 28.3ms\n",
      "178:\tlearn: 0.2418972\ttotal: 230ms\tremaining: 27ms\n",
      "179:\tlearn: 0.2416103\ttotal: 231ms\tremaining: 25.7ms\n",
      "180:\tlearn: 0.2413812\ttotal: 233ms\tremaining: 24.4ms\n",
      "181:\tlearn: 0.2410707\ttotal: 234ms\tremaining: 23.1ms\n",
      "182:\tlearn: 0.2408280\ttotal: 235ms\tremaining: 21.9ms\n"
     ]
    },
    {
     "name": "stdout",
     "output_type": "stream",
     "text": [
      "183:\tlearn: 0.2403929\ttotal: 237ms\tremaining: 20.6ms\n",
      "184:\tlearn: 0.2400900\ttotal: 238ms\tremaining: 19.3ms\n",
      "185:\tlearn: 0.2397466\ttotal: 240ms\tremaining: 18ms\n",
      "186:\tlearn: 0.2395016\ttotal: 241ms\tremaining: 16.8ms\n",
      "187:\tlearn: 0.2389733\ttotal: 242ms\tremaining: 15.5ms\n",
      "188:\tlearn: 0.2387257\ttotal: 244ms\tremaining: 14.2ms\n",
      "189:\tlearn: 0.2386021\ttotal: 245ms\tremaining: 12.9ms\n",
      "190:\tlearn: 0.2382136\ttotal: 246ms\tremaining: 11.6ms\n",
      "191:\tlearn: 0.2381333\ttotal: 248ms\tremaining: 10.3ms\n",
      "192:\tlearn: 0.2376246\ttotal: 249ms\tremaining: 9.03ms\n",
      "193:\tlearn: 0.2370223\ttotal: 250ms\tremaining: 7.74ms\n",
      "194:\tlearn: 0.2367009\ttotal: 252ms\tremaining: 6.45ms\n",
      "195:\tlearn: 0.2364751\ttotal: 253ms\tremaining: 5.16ms\n",
      "196:\tlearn: 0.2361349\ttotal: 254ms\tremaining: 3.87ms\n",
      "197:\tlearn: 0.2359033\ttotal: 255ms\tremaining: 2.58ms\n",
      "198:\tlearn: 0.2354173\ttotal: 257ms\tremaining: 1.29ms\n",
      "199:\tlearn: 0.2351261\ttotal: 258ms\tremaining: 0us\n",
      "0:\tlearn: 0.4911131\ttotal: 1.28ms\tremaining: 254ms\n",
      "1:\tlearn: 0.4437168\ttotal: 2.49ms\tremaining: 247ms\n",
      "2:\tlearn: 0.4043099\ttotal: 3.76ms\tremaining: 247ms\n",
      "3:\tlearn: 0.3942361\ttotal: 5.09ms\tremaining: 249ms\n",
      "4:\tlearn: 0.3836424\ttotal: 6.31ms\tremaining: 246ms\n",
      "5:\tlearn: 0.3810559\ttotal: 7.63ms\tremaining: 247ms\n",
      "6:\tlearn: 0.3738153\ttotal: 8.84ms\tremaining: 244ms\n",
      "7:\tlearn: 0.3722382\ttotal: 10ms\tremaining: 240ms\n",
      "8:\tlearn: 0.3683166\ttotal: 11.2ms\tremaining: 238ms\n",
      "9:\tlearn: 0.3636144\ttotal: 12.5ms\tremaining: 237ms\n",
      "10:\tlearn: 0.3622810\ttotal: 13.7ms\tremaining: 236ms\n",
      "11:\tlearn: 0.3608127\ttotal: 15.1ms\tremaining: 237ms\n",
      "12:\tlearn: 0.3599246\ttotal: 16.4ms\tremaining: 235ms\n",
      "13:\tlearn: 0.3588112\ttotal: 17.6ms\tremaining: 233ms\n",
      "14:\tlearn: 0.3568614\ttotal: 18.9ms\tremaining: 233ms\n",
      "15:\tlearn: 0.3566244\ttotal: 20.1ms\tremaining: 231ms\n",
      "16:\tlearn: 0.3553693\ttotal: 21.4ms\tremaining: 230ms\n",
      "17:\tlearn: 0.3545641\ttotal: 22.6ms\tremaining: 229ms\n",
      "18:\tlearn: 0.3532604\ttotal: 23.9ms\tremaining: 228ms\n",
      "19:\tlearn: 0.3522432\ttotal: 25.1ms\tremaining: 226ms\n",
      "20:\tlearn: 0.3512147\ttotal: 26.3ms\tremaining: 224ms\n",
      "21:\tlearn: 0.3489907\ttotal: 27.6ms\tremaining: 223ms\n",
      "22:\tlearn: 0.3479369\ttotal: 28.8ms\tremaining: 222ms\n",
      "23:\tlearn: 0.3461631\ttotal: 30.1ms\tremaining: 221ms\n",
      "24:\tlearn: 0.3450823\ttotal: 31.5ms\tremaining: 220ms\n",
      "25:\tlearn: 0.3444913\ttotal: 32.8ms\tremaining: 220ms\n",
      "26:\tlearn: 0.3433031\ttotal: 34.2ms\tremaining: 219ms\n",
      "27:\tlearn: 0.3422309\ttotal: 35.4ms\tremaining: 218ms\n",
      "28:\tlearn: 0.3413730\ttotal: 36.7ms\tremaining: 216ms\n",
      "29:\tlearn: 0.3398786\ttotal: 38ms\tremaining: 216ms\n",
      "30:\tlearn: 0.3382973\ttotal: 39.2ms\tremaining: 214ms\n",
      "31:\tlearn: 0.3365773\ttotal: 40.4ms\tremaining: 212ms\n",
      "32:\tlearn: 0.3355450\ttotal: 41.7ms\tremaining: 211ms\n",
      "33:\tlearn: 0.3345079\ttotal: 43.4ms\tremaining: 212ms\n",
      "34:\tlearn: 0.3329718\ttotal: 44.9ms\tremaining: 212ms\n",
      "35:\tlearn: 0.3319940\ttotal: 46.4ms\tremaining: 211ms\n",
      "36:\tlearn: 0.3312181\ttotal: 47.7ms\tremaining: 210ms\n",
      "37:\tlearn: 0.3303067\ttotal: 49ms\tremaining: 209ms\n",
      "38:\tlearn: 0.3294676\ttotal: 50.2ms\tremaining: 207ms\n",
      "39:\tlearn: 0.3282968\ttotal: 51.5ms\tremaining: 206ms\n",
      "40:\tlearn: 0.3271015\ttotal: 52.7ms\tremaining: 204ms\n",
      "41:\tlearn: 0.3262409\ttotal: 54ms\tremaining: 203ms\n",
      "42:\tlearn: 0.3253508\ttotal: 55.2ms\tremaining: 202ms\n",
      "43:\tlearn: 0.3239500\ttotal: 56.5ms\tremaining: 200ms\n",
      "44:\tlearn: 0.3231154\ttotal: 57.9ms\tremaining: 200ms\n",
      "45:\tlearn: 0.3224003\ttotal: 59.4ms\tremaining: 199ms\n",
      "46:\tlearn: 0.3212076\ttotal: 60.7ms\tremaining: 198ms\n",
      "47:\tlearn: 0.3206692\ttotal: 61.9ms\tremaining: 196ms\n",
      "48:\tlearn: 0.3200872\ttotal: 63.1ms\tremaining: 195ms\n",
      "49:\tlearn: 0.3193334\ttotal: 64.3ms\tremaining: 193ms\n",
      "50:\tlearn: 0.3185303\ttotal: 65.6ms\tremaining: 192ms\n",
      "51:\tlearn: 0.3178226\ttotal: 67ms\tremaining: 191ms\n",
      "52:\tlearn: 0.3173577\ttotal: 68.1ms\tremaining: 189ms\n",
      "53:\tlearn: 0.3166291\ttotal: 69.3ms\tremaining: 187ms\n",
      "54:\tlearn: 0.3157407\ttotal: 70.6ms\tremaining: 186ms\n",
      "55:\tlearn: 0.3152182\ttotal: 71.9ms\tremaining: 185ms\n",
      "56:\tlearn: 0.3135428\ttotal: 73.3ms\tremaining: 184ms\n",
      "57:\tlearn: 0.3128440\ttotal: 74.5ms\tremaining: 182ms\n",
      "58:\tlearn: 0.3124610\ttotal: 75.6ms\tremaining: 181ms\n",
      "59:\tlearn: 0.3116488\ttotal: 77ms\tremaining: 180ms\n",
      "60:\tlearn: 0.3112036\ttotal: 78.3ms\tremaining: 178ms\n",
      "61:\tlearn: 0.3100696\ttotal: 79.5ms\tremaining: 177ms\n",
      "62:\tlearn: 0.3089313\ttotal: 80.8ms\tremaining: 176ms\n",
      "63:\tlearn: 0.3079493\ttotal: 82ms\tremaining: 174ms\n",
      "64:\tlearn: 0.3073128\ttotal: 83.4ms\tremaining: 173ms\n",
      "65:\tlearn: 0.3062321\ttotal: 84.7ms\tremaining: 172ms\n",
      "66:\tlearn: 0.3054117\ttotal: 86ms\tremaining: 171ms\n",
      "67:\tlearn: 0.3049512\ttotal: 87.1ms\tremaining: 169ms\n",
      "68:\tlearn: 0.3043523\ttotal: 88.5ms\tremaining: 168ms\n",
      "69:\tlearn: 0.3032246\ttotal: 89.8ms\tremaining: 167ms\n",
      "70:\tlearn: 0.3017824\ttotal: 91.1ms\tremaining: 166ms\n",
      "71:\tlearn: 0.3007975\ttotal: 92.5ms\tremaining: 164ms\n",
      "72:\tlearn: 0.3000114\ttotal: 93.9ms\tremaining: 163ms\n",
      "73:\tlearn: 0.2995984\ttotal: 95.6ms\tremaining: 163ms\n",
      "74:\tlearn: 0.2989086\ttotal: 97ms\tremaining: 162ms\n",
      "75:\tlearn: 0.2980874\ttotal: 98.3ms\tremaining: 160ms\n",
      "76:\tlearn: 0.2974980\ttotal: 99.8ms\tremaining: 159ms\n",
      "77:\tlearn: 0.2969161\ttotal: 101ms\tremaining: 158ms\n",
      "78:\tlearn: 0.2961849\ttotal: 102ms\tremaining: 156ms\n",
      "79:\tlearn: 0.2958638\ttotal: 103ms\tremaining: 155ms\n",
      "80:\tlearn: 0.2947749\ttotal: 105ms\tremaining: 154ms\n",
      "81:\tlearn: 0.2939011\ttotal: 106ms\tremaining: 153ms\n",
      "82:\tlearn: 0.2931754\ttotal: 107ms\tremaining: 151ms\n",
      "83:\tlearn: 0.2924873\ttotal: 109ms\tremaining: 150ms\n",
      "84:\tlearn: 0.2919275\ttotal: 110ms\tremaining: 149ms\n",
      "85:\tlearn: 0.2913454\ttotal: 111ms\tremaining: 147ms\n",
      "86:\tlearn: 0.2909014\ttotal: 113ms\tremaining: 146ms\n",
      "87:\tlearn: 0.2905010\ttotal: 114ms\tremaining: 145ms\n",
      "88:\tlearn: 0.2898876\ttotal: 115ms\tremaining: 144ms\n",
      "89:\tlearn: 0.2896879\ttotal: 117ms\tremaining: 142ms\n",
      "90:\tlearn: 0.2887055\ttotal: 118ms\tremaining: 141ms\n",
      "91:\tlearn: 0.2880200\ttotal: 119ms\tremaining: 140ms\n",
      "92:\tlearn: 0.2876027\ttotal: 120ms\tremaining: 138ms\n",
      "93:\tlearn: 0.2867595\ttotal: 121ms\tremaining: 137ms\n",
      "94:\tlearn: 0.2858396\ttotal: 123ms\tremaining: 136ms\n",
      "95:\tlearn: 0.2852648\ttotal: 124ms\tremaining: 134ms\n",
      "96:\tlearn: 0.2848110\ttotal: 125ms\tremaining: 133ms\n",
      "97:\tlearn: 0.2840629\ttotal: 127ms\tremaining: 132ms\n",
      "98:\tlearn: 0.2837142\ttotal: 128ms\tremaining: 130ms\n",
      "99:\tlearn: 0.2827611\ttotal: 129ms\tremaining: 129ms\n",
      "100:\tlearn: 0.2821491\ttotal: 130ms\tremaining: 128ms\n",
      "101:\tlearn: 0.2808687\ttotal: 132ms\tremaining: 126ms\n",
      "102:\tlearn: 0.2803109\ttotal: 133ms\tremaining: 125ms\n",
      "103:\tlearn: 0.2796752\ttotal: 134ms\tremaining: 124ms\n",
      "104:\tlearn: 0.2789958\ttotal: 135ms\tremaining: 123ms\n",
      "105:\tlearn: 0.2785312\ttotal: 137ms\tremaining: 121ms\n",
      "106:\tlearn: 0.2781050\ttotal: 138ms\tremaining: 120ms\n",
      "107:\tlearn: 0.2769882\ttotal: 139ms\tremaining: 119ms\n",
      "108:\tlearn: 0.2764493\ttotal: 141ms\tremaining: 118ms\n",
      "109:\tlearn: 0.2758720\ttotal: 142ms\tremaining: 116ms\n",
      "110:\tlearn: 0.2754144\ttotal: 143ms\tremaining: 115ms\n",
      "111:\tlearn: 0.2747529\ttotal: 145ms\tremaining: 114ms\n",
      "112:\tlearn: 0.2741352\ttotal: 146ms\tremaining: 113ms\n",
      "113:\tlearn: 0.2738406\ttotal: 148ms\tremaining: 111ms\n",
      "114:\tlearn: 0.2735696\ttotal: 149ms\tremaining: 110ms\n",
      "115:\tlearn: 0.2728504\ttotal: 150ms\tremaining: 109ms\n",
      "116:\tlearn: 0.2724010\ttotal: 151ms\tremaining: 107ms\n",
      "117:\tlearn: 0.2720300\ttotal: 153ms\tremaining: 106ms\n",
      "118:\tlearn: 0.2717425\ttotal: 154ms\tremaining: 105ms\n",
      "119:\tlearn: 0.2713043\ttotal: 156ms\tremaining: 104ms\n",
      "120:\tlearn: 0.2708268\ttotal: 157ms\tremaining: 103ms\n",
      "121:\tlearn: 0.2702083\ttotal: 159ms\tremaining: 101ms\n",
      "122:\tlearn: 0.2697215\ttotal: 160ms\tremaining: 100ms\n",
      "123:\tlearn: 0.2690928\ttotal: 161ms\tremaining: 98.8ms\n",
      "124:\tlearn: 0.2683096\ttotal: 163ms\tremaining: 97.5ms\n",
      "125:\tlearn: 0.2679868\ttotal: 164ms\tremaining: 96.2ms\n",
      "126:\tlearn: 0.2674381\ttotal: 165ms\tremaining: 95ms\n",
      "127:\tlearn: 0.2669228\ttotal: 167ms\tremaining: 93.8ms\n",
      "128:\tlearn: 0.2666744\ttotal: 168ms\tremaining: 92.5ms\n",
      "129:\tlearn: 0.2664341\ttotal: 169ms\tremaining: 91.1ms\n",
      "130:\tlearn: 0.2661128\ttotal: 171ms\tremaining: 89.8ms\n",
      "131:\tlearn: 0.2658776\ttotal: 172ms\tremaining: 88.5ms\n",
      "132:\tlearn: 0.2654266\ttotal: 173ms\tremaining: 87.3ms\n",
      "133:\tlearn: 0.2651761\ttotal: 175ms\tremaining: 86ms\n",
      "134:\tlearn: 0.2648634\ttotal: 176ms\tremaining: 84.7ms\n",
      "135:\tlearn: 0.2641865\ttotal: 177ms\tremaining: 83.4ms\n",
      "136:\tlearn: 0.2639073\ttotal: 179ms\tremaining: 82.1ms\n",
      "137:\tlearn: 0.2634995\ttotal: 180ms\tremaining: 80.9ms\n",
      "138:\tlearn: 0.2627594\ttotal: 181ms\tremaining: 79.6ms\n",
      "139:\tlearn: 0.2621015\ttotal: 183ms\tremaining: 78.3ms\n",
      "140:\tlearn: 0.2605461\ttotal: 184ms\tremaining: 77ms\n",
      "141:\tlearn: 0.2601679\ttotal: 185ms\tremaining: 75.6ms\n",
      "142:\tlearn: 0.2596102\ttotal: 186ms\tremaining: 74.3ms\n",
      "143:\tlearn: 0.2593082\ttotal: 188ms\tremaining: 72.9ms\n",
      "144:\tlearn: 0.2587989\ttotal: 189ms\tremaining: 71.7ms\n",
      "145:\tlearn: 0.2583201\ttotal: 190ms\tremaining: 70.3ms\n",
      "146:\tlearn: 0.2575972\ttotal: 191ms\tremaining: 69ms\n",
      "147:\tlearn: 0.2569883\ttotal: 193ms\tremaining: 67.7ms\n",
      "148:\tlearn: 0.2566599\ttotal: 194ms\tremaining: 66.4ms\n",
      "149:\tlearn: 0.2564065\ttotal: 195ms\tremaining: 65.2ms\n",
      "150:\tlearn: 0.2562122\ttotal: 197ms\tremaining: 63.9ms\n",
      "151:\tlearn: 0.2559268\ttotal: 198ms\tremaining: 62.6ms\n",
      "152:\tlearn: 0.2555055\ttotal: 199ms\tremaining: 61.3ms\n",
      "153:\tlearn: 0.2550955\ttotal: 201ms\tremaining: 60ms\n",
      "154:\tlearn: 0.2547648\ttotal: 202ms\tremaining: 58.7ms\n",
      "155:\tlearn: 0.2534166\ttotal: 203ms\tremaining: 57.4ms\n",
      "156:\tlearn: 0.2531194\ttotal: 205ms\tremaining: 56.1ms\n",
      "157:\tlearn: 0.2525318\ttotal: 206ms\tremaining: 54.8ms\n",
      "158:\tlearn: 0.2522022\ttotal: 207ms\tremaining: 53.5ms\n",
      "159:\tlearn: 0.2519565\ttotal: 209ms\tremaining: 52.1ms\n",
      "160:\tlearn: 0.2516117\ttotal: 210ms\tremaining: 50.8ms\n",
      "161:\tlearn: 0.2513957\ttotal: 211ms\tremaining: 49.5ms\n",
      "162:\tlearn: 0.2509436\ttotal: 212ms\tremaining: 48.2ms\n",
      "163:\tlearn: 0.2505154\ttotal: 214ms\tremaining: 46.9ms\n",
      "164:\tlearn: 0.2498439\ttotal: 215ms\tremaining: 45.6ms\n",
      "165:\tlearn: 0.2495039\ttotal: 216ms\tremaining: 44.3ms\n",
      "166:\tlearn: 0.2491708\ttotal: 218ms\tremaining: 43ms\n",
      "167:\tlearn: 0.2489537\ttotal: 219ms\tremaining: 41.7ms\n",
      "168:\tlearn: 0.2487033\ttotal: 220ms\tremaining: 40.4ms\n",
      "169:\tlearn: 0.2482583\ttotal: 221ms\tremaining: 39.1ms\n",
      "170:\tlearn: 0.2479839\ttotal: 223ms\tremaining: 37.8ms\n",
      "171:\tlearn: 0.2475745\ttotal: 224ms\tremaining: 36.5ms\n",
      "172:\tlearn: 0.2471661\ttotal: 225ms\tremaining: 35.1ms\n",
      "173:\tlearn: 0.2468276\ttotal: 226ms\tremaining: 33.8ms\n",
      "174:\tlearn: 0.2464704\ttotal: 228ms\tremaining: 32.5ms\n",
      "175:\tlearn: 0.2462682\ttotal: 229ms\tremaining: 31.2ms\n",
      "176:\tlearn: 0.2459817\ttotal: 230ms\tremaining: 29.9ms\n",
      "177:\tlearn: 0.2456999\ttotal: 231ms\tremaining: 28.6ms\n",
      "178:\tlearn: 0.2453021\ttotal: 233ms\tremaining: 27.3ms\n",
      "179:\tlearn: 0.2450876\ttotal: 234ms\tremaining: 26ms\n",
      "180:\tlearn: 0.2447883\ttotal: 235ms\tremaining: 24.7ms\n",
      "181:\tlearn: 0.2443988\ttotal: 236ms\tremaining: 23.4ms\n"
     ]
    },
    {
     "name": "stdout",
     "output_type": "stream",
     "text": [
      "182:\tlearn: 0.2439589\ttotal: 238ms\tremaining: 22.1ms\n",
      "183:\tlearn: 0.2432526\ttotal: 240ms\tremaining: 20.9ms\n",
      "184:\tlearn: 0.2426859\ttotal: 241ms\tremaining: 19.6ms\n",
      "185:\tlearn: 0.2424388\ttotal: 243ms\tremaining: 18.3ms\n",
      "186:\tlearn: 0.2422926\ttotal: 244ms\tremaining: 17ms\n",
      "187:\tlearn: 0.2418611\ttotal: 245ms\tremaining: 15.7ms\n",
      "188:\tlearn: 0.2415406\ttotal: 247ms\tremaining: 14.4ms\n",
      "189:\tlearn: 0.2413405\ttotal: 248ms\tremaining: 13.1ms\n",
      "190:\tlearn: 0.2409700\ttotal: 249ms\tremaining: 11.8ms\n",
      "191:\tlearn: 0.2407408\ttotal: 251ms\tremaining: 10.5ms\n",
      "192:\tlearn: 0.2404411\ttotal: 252ms\tremaining: 9.15ms\n",
      "193:\tlearn: 0.2400502\ttotal: 254ms\tremaining: 7.84ms\n",
      "194:\tlearn: 0.2395343\ttotal: 255ms\tremaining: 6.53ms\n",
      "195:\tlearn: 0.2387235\ttotal: 256ms\tremaining: 5.23ms\n",
      "196:\tlearn: 0.2382647\ttotal: 257ms\tremaining: 3.92ms\n",
      "197:\tlearn: 0.2377570\ttotal: 259ms\tremaining: 2.61ms\n",
      "198:\tlearn: 0.2375263\ttotal: 260ms\tremaining: 1.31ms\n",
      "199:\tlearn: 0.2372928\ttotal: 261ms\tremaining: 0us\n",
      "0:\tlearn: 0.4903169\ttotal: 1.31ms\tremaining: 261ms\n",
      "1:\tlearn: 0.4311269\ttotal: 2.55ms\tremaining: 252ms\n",
      "2:\tlearn: 0.4041812\ttotal: 3.75ms\tremaining: 246ms\n",
      "3:\tlearn: 0.3839148\ttotal: 5.17ms\tremaining: 253ms\n",
      "4:\tlearn: 0.3780784\ttotal: 6.57ms\tremaining: 256ms\n",
      "5:\tlearn: 0.3716035\ttotal: 7.78ms\tremaining: 252ms\n",
      "6:\tlearn: 0.3666666\ttotal: 8.96ms\tremaining: 247ms\n",
      "7:\tlearn: 0.3641636\ttotal: 10.2ms\tremaining: 245ms\n",
      "8:\tlearn: 0.3628403\ttotal: 11.5ms\tremaining: 243ms\n",
      "9:\tlearn: 0.3609982\ttotal: 12.8ms\tremaining: 244ms\n",
      "10:\tlearn: 0.3594148\ttotal: 14ms\tremaining: 241ms\n",
      "11:\tlearn: 0.3585985\ttotal: 15.3ms\tremaining: 239ms\n",
      "12:\tlearn: 0.3574400\ttotal: 16.6ms\tremaining: 238ms\n",
      "13:\tlearn: 0.3568882\ttotal: 17.8ms\tremaining: 237ms\n",
      "14:\tlearn: 0.3549898\ttotal: 19.2ms\tremaining: 237ms\n",
      "15:\tlearn: 0.3540065\ttotal: 20.5ms\tremaining: 236ms\n",
      "16:\tlearn: 0.3515206\ttotal: 21.9ms\tremaining: 236ms\n",
      "17:\tlearn: 0.3506257\ttotal: 23.1ms\tremaining: 233ms\n",
      "18:\tlearn: 0.3492206\ttotal: 24.2ms\tremaining: 231ms\n",
      "19:\tlearn: 0.3481334\ttotal: 25.6ms\tremaining: 231ms\n",
      "20:\tlearn: 0.3467626\ttotal: 26.9ms\tremaining: 230ms\n",
      "21:\tlearn: 0.3444300\ttotal: 28.3ms\tremaining: 229ms\n",
      "22:\tlearn: 0.3430911\ttotal: 29.5ms\tremaining: 227ms\n",
      "23:\tlearn: 0.3418435\ttotal: 30.9ms\tremaining: 226ms\n",
      "24:\tlearn: 0.3399680\ttotal: 32.3ms\tremaining: 226ms\n",
      "25:\tlearn: 0.3392284\ttotal: 33.5ms\tremaining: 224ms\n",
      "26:\tlearn: 0.3379542\ttotal: 34.6ms\tremaining: 222ms\n",
      "27:\tlearn: 0.3364532\ttotal: 35.8ms\tremaining: 220ms\n",
      "28:\tlearn: 0.3349224\ttotal: 37ms\tremaining: 218ms\n",
      "29:\tlearn: 0.3338259\ttotal: 38.3ms\tremaining: 217ms\n",
      "30:\tlearn: 0.3328956\ttotal: 39.6ms\tremaining: 216ms\n",
      "31:\tlearn: 0.3313719\ttotal: 41.4ms\tremaining: 217ms\n",
      "32:\tlearn: 0.3303342\ttotal: 43.1ms\tremaining: 218ms\n",
      "33:\tlearn: 0.3289680\ttotal: 44.6ms\tremaining: 218ms\n",
      "34:\tlearn: 0.3278569\ttotal: 45.9ms\tremaining: 216ms\n",
      "35:\tlearn: 0.3264346\ttotal: 47.2ms\tremaining: 215ms\n",
      "36:\tlearn: 0.3252178\ttotal: 48.5ms\tremaining: 214ms\n",
      "37:\tlearn: 0.3245687\ttotal: 49.7ms\tremaining: 212ms\n",
      "38:\tlearn: 0.3240458\ttotal: 51.1ms\tremaining: 211ms\n",
      "39:\tlearn: 0.3229402\ttotal: 52.7ms\tremaining: 211ms\n",
      "40:\tlearn: 0.3216537\ttotal: 54.1ms\tremaining: 210ms\n",
      "41:\tlearn: 0.3203954\ttotal: 55.4ms\tremaining: 208ms\n",
      "42:\tlearn: 0.3191260\ttotal: 56.7ms\tremaining: 207ms\n",
      "43:\tlearn: 0.3182716\ttotal: 57.9ms\tremaining: 205ms\n",
      "44:\tlearn: 0.3171261\ttotal: 59.1ms\tremaining: 203ms\n",
      "45:\tlearn: 0.3151959\ttotal: 60.4ms\tremaining: 202ms\n",
      "46:\tlearn: 0.3145241\ttotal: 61.8ms\tremaining: 201ms\n",
      "47:\tlearn: 0.3130898\ttotal: 63ms\tremaining: 200ms\n",
      "48:\tlearn: 0.3124889\ttotal: 64.4ms\tremaining: 198ms\n",
      "49:\tlearn: 0.3117950\ttotal: 65.7ms\tremaining: 197ms\n",
      "50:\tlearn: 0.3110671\ttotal: 66.9ms\tremaining: 195ms\n",
      "51:\tlearn: 0.3103020\ttotal: 68.1ms\tremaining: 194ms\n",
      "52:\tlearn: 0.3096836\ttotal: 69.3ms\tremaining: 192ms\n",
      "53:\tlearn: 0.3091748\ttotal: 70.7ms\tremaining: 191ms\n",
      "54:\tlearn: 0.3085659\ttotal: 72ms\tremaining: 190ms\n",
      "55:\tlearn: 0.3075545\ttotal: 73.3ms\tremaining: 188ms\n",
      "56:\tlearn: 0.3066448\ttotal: 74.4ms\tremaining: 187ms\n",
      "57:\tlearn: 0.3055552\ttotal: 75.7ms\tremaining: 185ms\n",
      "58:\tlearn: 0.3034266\ttotal: 77.1ms\tremaining: 184ms\n",
      "59:\tlearn: 0.3026926\ttotal: 78.3ms\tremaining: 183ms\n",
      "60:\tlearn: 0.3015201\ttotal: 79.7ms\tremaining: 182ms\n",
      "61:\tlearn: 0.3007820\ttotal: 80.8ms\tremaining: 180ms\n",
      "62:\tlearn: 0.2997100\ttotal: 82ms\tremaining: 178ms\n",
      "63:\tlearn: 0.2992855\ttotal: 83.2ms\tremaining: 177ms\n",
      "64:\tlearn: 0.2987336\ttotal: 84.6ms\tremaining: 176ms\n",
      "65:\tlearn: 0.2982763\ttotal: 85.8ms\tremaining: 174ms\n",
      "66:\tlearn: 0.2975979\ttotal: 87ms\tremaining: 173ms\n",
      "67:\tlearn: 0.2970299\ttotal: 88.4ms\tremaining: 172ms\n",
      "68:\tlearn: 0.2961053\ttotal: 89.7ms\tremaining: 170ms\n",
      "69:\tlearn: 0.2950160\ttotal: 90.9ms\tremaining: 169ms\n",
      "70:\tlearn: 0.2940141\ttotal: 92.3ms\tremaining: 168ms\n",
      "71:\tlearn: 0.2934860\ttotal: 93.5ms\tremaining: 166ms\n",
      "72:\tlearn: 0.2928423\ttotal: 94.7ms\tremaining: 165ms\n",
      "73:\tlearn: 0.2924034\ttotal: 96ms\tremaining: 164ms\n",
      "74:\tlearn: 0.2918443\ttotal: 97.4ms\tremaining: 162ms\n",
      "75:\tlearn: 0.2905057\ttotal: 98.5ms\tremaining: 161ms\n",
      "76:\tlearn: 0.2897899\ttotal: 99.9ms\tremaining: 160ms\n",
      "77:\tlearn: 0.2895543\ttotal: 101ms\tremaining: 158ms\n",
      "78:\tlearn: 0.2891975\ttotal: 103ms\tremaining: 157ms\n",
      "79:\tlearn: 0.2887068\ttotal: 104ms\tremaining: 156ms\n",
      "80:\tlearn: 0.2870716\ttotal: 105ms\tremaining: 155ms\n",
      "81:\tlearn: 0.2864560\ttotal: 106ms\tremaining: 153ms\n",
      "82:\tlearn: 0.2858426\ttotal: 108ms\tremaining: 152ms\n",
      "83:\tlearn: 0.2849858\ttotal: 109ms\tremaining: 150ms\n",
      "84:\tlearn: 0.2836846\ttotal: 110ms\tremaining: 149ms\n",
      "85:\tlearn: 0.2827935\ttotal: 112ms\tremaining: 148ms\n",
      "86:\tlearn: 0.2822880\ttotal: 113ms\tremaining: 147ms\n",
      "87:\tlearn: 0.2817369\ttotal: 114ms\tremaining: 146ms\n",
      "88:\tlearn: 0.2812952\ttotal: 116ms\tremaining: 145ms\n",
      "89:\tlearn: 0.2809964\ttotal: 117ms\tremaining: 143ms\n",
      "90:\tlearn: 0.2800611\ttotal: 119ms\tremaining: 142ms\n",
      "91:\tlearn: 0.2796729\ttotal: 120ms\tremaining: 140ms\n",
      "92:\tlearn: 0.2794081\ttotal: 121ms\tremaining: 139ms\n",
      "93:\tlearn: 0.2787912\ttotal: 122ms\tremaining: 138ms\n",
      "94:\tlearn: 0.2782247\ttotal: 124ms\tremaining: 137ms\n",
      "95:\tlearn: 0.2778588\ttotal: 125ms\tremaining: 135ms\n",
      "96:\tlearn: 0.2772081\ttotal: 126ms\tremaining: 134ms\n",
      "97:\tlearn: 0.2764809\ttotal: 127ms\tremaining: 133ms\n",
      "98:\tlearn: 0.2761927\ttotal: 129ms\tremaining: 131ms\n",
      "99:\tlearn: 0.2755959\ttotal: 130ms\tremaining: 130ms\n",
      "100:\tlearn: 0.2750650\ttotal: 131ms\tremaining: 129ms\n",
      "101:\tlearn: 0.2743853\ttotal: 132ms\tremaining: 127ms\n",
      "102:\tlearn: 0.2740329\ttotal: 134ms\tremaining: 126ms\n",
      "103:\tlearn: 0.2729566\ttotal: 135ms\tremaining: 125ms\n",
      "104:\tlearn: 0.2725075\ttotal: 136ms\tremaining: 123ms\n",
      "105:\tlearn: 0.2714180\ttotal: 138ms\tremaining: 122ms\n",
      "106:\tlearn: 0.2707915\ttotal: 139ms\tremaining: 121ms\n",
      "107:\tlearn: 0.2704994\ttotal: 140ms\tremaining: 120ms\n",
      "108:\tlearn: 0.2701306\ttotal: 142ms\tremaining: 118ms\n",
      "109:\tlearn: 0.2694352\ttotal: 143ms\tremaining: 117ms\n",
      "110:\tlearn: 0.2690351\ttotal: 144ms\tremaining: 116ms\n",
      "111:\tlearn: 0.2681801\ttotal: 145ms\tremaining: 114ms\n",
      "112:\tlearn: 0.2673679\ttotal: 147ms\tremaining: 113ms\n",
      "113:\tlearn: 0.2665863\ttotal: 148ms\tremaining: 112ms\n",
      "114:\tlearn: 0.2659457\ttotal: 150ms\tremaining: 111ms\n",
      "115:\tlearn: 0.2654624\ttotal: 151ms\tremaining: 109ms\n",
      "116:\tlearn: 0.2646995\ttotal: 152ms\tremaining: 108ms\n",
      "117:\tlearn: 0.2641678\ttotal: 154ms\tremaining: 107ms\n",
      "118:\tlearn: 0.2637288\ttotal: 155ms\tremaining: 105ms\n",
      "119:\tlearn: 0.2635044\ttotal: 156ms\tremaining: 104ms\n",
      "120:\tlearn: 0.2628998\ttotal: 157ms\tremaining: 103ms\n",
      "121:\tlearn: 0.2625262\ttotal: 158ms\tremaining: 101ms\n",
      "122:\tlearn: 0.2617694\ttotal: 160ms\tremaining: 100ms\n",
      "123:\tlearn: 0.2612994\ttotal: 161ms\tremaining: 98.7ms\n",
      "124:\tlearn: 0.2605456\ttotal: 162ms\tremaining: 97.4ms\n",
      "125:\tlearn: 0.2602816\ttotal: 164ms\tremaining: 96.2ms\n",
      "126:\tlearn: 0.2600796\ttotal: 165ms\tremaining: 94.8ms\n",
      "127:\tlearn: 0.2597874\ttotal: 166ms\tremaining: 93.5ms\n",
      "128:\tlearn: 0.2594038\ttotal: 168ms\tremaining: 92.2ms\n",
      "129:\tlearn: 0.2587524\ttotal: 169ms\tremaining: 90.9ms\n",
      "130:\tlearn: 0.2584985\ttotal: 170ms\tremaining: 89.7ms\n",
      "131:\tlearn: 0.2581898\ttotal: 171ms\tremaining: 88.3ms\n",
      "132:\tlearn: 0.2576941\ttotal: 173ms\tremaining: 87ms\n",
      "133:\tlearn: 0.2574936\ttotal: 174ms\tremaining: 85.7ms\n",
      "134:\tlearn: 0.2568248\ttotal: 175ms\tremaining: 84.4ms\n",
      "135:\tlearn: 0.2566828\ttotal: 177ms\tremaining: 83.1ms\n",
      "136:\tlearn: 0.2558993\ttotal: 178ms\tremaining: 81.9ms\n",
      "137:\tlearn: 0.2554767\ttotal: 180ms\tremaining: 80.8ms\n",
      "138:\tlearn: 0.2549197\ttotal: 181ms\tremaining: 79.5ms\n",
      "139:\tlearn: 0.2541206\ttotal: 182ms\tremaining: 78.2ms\n",
      "140:\tlearn: 0.2534134\ttotal: 184ms\tremaining: 77ms\n",
      "141:\tlearn: 0.2524050\ttotal: 185ms\tremaining: 75.7ms\n",
      "142:\tlearn: 0.2520946\ttotal: 187ms\tremaining: 74.7ms\n",
      "143:\tlearn: 0.2508702\ttotal: 189ms\tremaining: 73.6ms\n",
      "144:\tlearn: 0.2499571\ttotal: 191ms\tremaining: 72.4ms\n",
      "145:\tlearn: 0.2497267\ttotal: 192ms\tremaining: 71.2ms\n",
      "146:\tlearn: 0.2492960\ttotal: 194ms\tremaining: 69.9ms\n",
      "147:\tlearn: 0.2488727\ttotal: 195ms\tremaining: 68.7ms\n",
      "148:\tlearn: 0.2485344\ttotal: 197ms\tremaining: 67.4ms\n",
      "149:\tlearn: 0.2482887\ttotal: 198ms\tremaining: 66.1ms\n",
      "150:\tlearn: 0.2476956\ttotal: 200ms\tremaining: 64.8ms\n",
      "151:\tlearn: 0.2474948\ttotal: 201ms\tremaining: 63.6ms\n",
      "152:\tlearn: 0.2473568\ttotal: 203ms\tremaining: 62.2ms\n",
      "153:\tlearn: 0.2471236\ttotal: 204ms\tremaining: 61ms\n",
      "154:\tlearn: 0.2468357\ttotal: 205ms\tremaining: 59.7ms\n",
      "155:\tlearn: 0.2464366\ttotal: 207ms\tremaining: 58.4ms\n",
      "156:\tlearn: 0.2462865\ttotal: 208ms\tremaining: 57.1ms\n",
      "157:\tlearn: 0.2460602\ttotal: 210ms\tremaining: 55.8ms\n",
      "158:\tlearn: 0.2455799\ttotal: 211ms\tremaining: 54.4ms\n",
      "159:\tlearn: 0.2454603\ttotal: 212ms\tremaining: 53.1ms\n",
      "160:\tlearn: 0.2449453\ttotal: 214ms\tremaining: 51.8ms\n",
      "161:\tlearn: 0.2446088\ttotal: 215ms\tremaining: 50.4ms\n",
      "162:\tlearn: 0.2434433\ttotal: 216ms\tremaining: 49.1ms\n",
      "163:\tlearn: 0.2432035\ttotal: 218ms\tremaining: 47.8ms\n",
      "164:\tlearn: 0.2426712\ttotal: 219ms\tremaining: 46.4ms\n",
      "165:\tlearn: 0.2424440\ttotal: 220ms\tremaining: 45.1ms\n",
      "166:\tlearn: 0.2423616\ttotal: 221ms\tremaining: 43.7ms\n",
      "167:\tlearn: 0.2419917\ttotal: 223ms\tremaining: 42.4ms\n",
      "168:\tlearn: 0.2417107\ttotal: 224ms\tremaining: 41.1ms\n",
      "169:\tlearn: 0.2413107\ttotal: 225ms\tremaining: 39.7ms\n",
      "170:\tlearn: 0.2409069\ttotal: 226ms\tremaining: 38.4ms\n",
      "171:\tlearn: 0.2405836\ttotal: 228ms\tremaining: 37.1ms\n",
      "172:\tlearn: 0.2403512\ttotal: 229ms\tremaining: 35.7ms\n",
      "173:\tlearn: 0.2399961\ttotal: 230ms\tremaining: 34.4ms\n",
      "174:\tlearn: 0.2397045\ttotal: 232ms\tremaining: 33.1ms\n",
      "175:\tlearn: 0.2390351\ttotal: 233ms\tremaining: 31.8ms\n",
      "176:\tlearn: 0.2388496\ttotal: 234ms\tremaining: 30.4ms\n"
     ]
    },
    {
     "name": "stdout",
     "output_type": "stream",
     "text": [
      "177:\tlearn: 0.2385582\ttotal: 236ms\tremaining: 29.2ms\n",
      "178:\tlearn: 0.2379331\ttotal: 238ms\tremaining: 27.9ms\n",
      "179:\tlearn: 0.2374823\ttotal: 239ms\tremaining: 26.6ms\n",
      "180:\tlearn: 0.2373420\ttotal: 241ms\tremaining: 25.3ms\n",
      "181:\tlearn: 0.2369288\ttotal: 242ms\tremaining: 23.9ms\n",
      "182:\tlearn: 0.2366287\ttotal: 243ms\tremaining: 22.6ms\n",
      "183:\tlearn: 0.2358805\ttotal: 245ms\tremaining: 21.3ms\n",
      "184:\tlearn: 0.2355073\ttotal: 246ms\tremaining: 19.9ms\n",
      "185:\tlearn: 0.2352236\ttotal: 247ms\tremaining: 18.6ms\n",
      "186:\tlearn: 0.2347363\ttotal: 249ms\tremaining: 17.3ms\n",
      "187:\tlearn: 0.2344422\ttotal: 250ms\tremaining: 15.9ms\n",
      "188:\tlearn: 0.2330596\ttotal: 251ms\tremaining: 14.6ms\n",
      "189:\tlearn: 0.2322184\ttotal: 253ms\tremaining: 13.3ms\n",
      "190:\tlearn: 0.2318309\ttotal: 254ms\tremaining: 12ms\n",
      "191:\tlearn: 0.2313714\ttotal: 255ms\tremaining: 10.6ms\n",
      "192:\tlearn: 0.2311169\ttotal: 256ms\tremaining: 9.3ms\n",
      "193:\tlearn: 0.2308587\ttotal: 258ms\tremaining: 7.97ms\n",
      "194:\tlearn: 0.2306533\ttotal: 259ms\tremaining: 6.64ms\n",
      "195:\tlearn: 0.2299150\ttotal: 260ms\tremaining: 5.31ms\n",
      "196:\tlearn: 0.2295647\ttotal: 262ms\tremaining: 3.98ms\n",
      "197:\tlearn: 0.2292278\ttotal: 263ms\tremaining: 2.66ms\n",
      "198:\tlearn: 0.2288966\ttotal: 264ms\tremaining: 1.33ms\n",
      "199:\tlearn: 0.2286091\ttotal: 266ms\tremaining: 0us\n",
      "0:\tlearn: 0.6315054\ttotal: 4.75ms\tremaining: 470ms\n",
      "1:\tlearn: 0.5771237\ttotal: 8.89ms\tremaining: 436ms\n",
      "2:\tlearn: 0.5313070\ttotal: 13ms\tremaining: 419ms\n",
      "3:\tlearn: 0.5008041\ttotal: 17.1ms\tremaining: 411ms\n",
      "4:\tlearn: 0.4678306\ttotal: 21.4ms\tremaining: 406ms\n",
      "5:\tlearn: 0.4529661\ttotal: 24.1ms\tremaining: 378ms\n",
      "6:\tlearn: 0.4365072\ttotal: 26.8ms\tremaining: 357ms\n",
      "7:\tlearn: 0.4213118\ttotal: 31ms\tremaining: 356ms\n",
      "8:\tlearn: 0.4086789\ttotal: 36ms\tremaining: 364ms\n",
      "9:\tlearn: 0.3968279\ttotal: 40.4ms\tremaining: 364ms\n",
      "10:\tlearn: 0.3874780\ttotal: 44.9ms\tremaining: 363ms\n",
      "11:\tlearn: 0.3829443\ttotal: 47.7ms\tremaining: 350ms\n",
      "12:\tlearn: 0.3776157\ttotal: 51.9ms\tremaining: 347ms\n",
      "13:\tlearn: 0.3719266\ttotal: 56.1ms\tremaining: 344ms\n",
      "14:\tlearn: 0.3664274\ttotal: 60.3ms\tremaining: 342ms\n",
      "15:\tlearn: 0.3614273\ttotal: 64.5ms\tremaining: 339ms\n",
      "16:\tlearn: 0.3581923\ttotal: 68.7ms\tremaining: 335ms\n",
      "17:\tlearn: 0.3543683\ttotal: 72.8ms\tremaining: 332ms\n",
      "18:\tlearn: 0.3494715\ttotal: 77ms\tremaining: 328ms\n",
      "19:\tlearn: 0.3471588\ttotal: 81.2ms\tremaining: 325ms\n",
      "20:\tlearn: 0.3430189\ttotal: 85.3ms\tremaining: 321ms\n",
      "21:\tlearn: 0.3403971\ttotal: 89.5ms\tremaining: 317ms\n",
      "22:\tlearn: 0.3371769\ttotal: 93.7ms\tremaining: 314ms\n",
      "23:\tlearn: 0.3349955\ttotal: 97.9ms\tremaining: 310ms\n",
      "24:\tlearn: 0.3333591\ttotal: 102ms\tremaining: 306ms\n",
      "25:\tlearn: 0.3313358\ttotal: 106ms\tremaining: 302ms\n",
      "26:\tlearn: 0.3311787\ttotal: 107ms\tremaining: 290ms\n",
      "27:\tlearn: 0.3291011\ttotal: 111ms\tremaining: 287ms\n",
      "28:\tlearn: 0.3259650\ttotal: 116ms\tremaining: 283ms\n",
      "29:\tlearn: 0.3233986\ttotal: 120ms\tremaining: 279ms\n",
      "30:\tlearn: 0.3225649\ttotal: 124ms\tremaining: 276ms\n",
      "31:\tlearn: 0.3203792\ttotal: 128ms\tremaining: 272ms\n",
      "32:\tlearn: 0.3190865\ttotal: 132ms\tremaining: 268ms\n",
      "33:\tlearn: 0.3188933\ttotal: 134ms\tremaining: 260ms\n",
      "34:\tlearn: 0.3166783\ttotal: 138ms\tremaining: 257ms\n",
      "35:\tlearn: 0.3152061\ttotal: 143ms\tremaining: 254ms\n",
      "36:\tlearn: 0.3142225\ttotal: 147ms\tremaining: 251ms\n",
      "37:\tlearn: 0.3134218\ttotal: 151ms\tremaining: 247ms\n",
      "38:\tlearn: 0.3125908\ttotal: 156ms\tremaining: 243ms\n",
      "39:\tlearn: 0.3120042\ttotal: 160ms\tremaining: 239ms\n",
      "40:\tlearn: 0.3109989\ttotal: 164ms\tremaining: 236ms\n",
      "41:\tlearn: 0.3093462\ttotal: 168ms\tremaining: 232ms\n",
      "42:\tlearn: 0.3092628\ttotal: 170ms\tremaining: 225ms\n",
      "43:\tlearn: 0.3072969\ttotal: 174ms\tremaining: 221ms\n",
      "44:\tlearn: 0.3057716\ttotal: 178ms\tremaining: 218ms\n",
      "45:\tlearn: 0.3036209\ttotal: 182ms\tremaining: 214ms\n",
      "46:\tlearn: 0.3010868\ttotal: 186ms\tremaining: 210ms\n",
      "47:\tlearn: 0.3010217\ttotal: 188ms\tremaining: 204ms\n",
      "48:\tlearn: 0.3007330\ttotal: 191ms\tremaining: 198ms\n",
      "49:\tlearn: 0.3000309\ttotal: 195ms\tremaining: 195ms\n",
      "50:\tlearn: 0.2990533\ttotal: 199ms\tremaining: 191ms\n",
      "51:\tlearn: 0.2980795\ttotal: 203ms\tremaining: 188ms\n",
      "52:\tlearn: 0.2974445\ttotal: 208ms\tremaining: 184ms\n",
      "53:\tlearn: 0.2964069\ttotal: 212ms\tremaining: 180ms\n",
      "54:\tlearn: 0.2942781\ttotal: 216ms\tremaining: 176ms\n",
      "55:\tlearn: 0.2923664\ttotal: 220ms\tremaining: 173ms\n",
      "56:\tlearn: 0.2903359\ttotal: 224ms\tremaining: 169ms\n",
      "57:\tlearn: 0.2894917\ttotal: 228ms\tremaining: 165ms\n",
      "58:\tlearn: 0.2886380\ttotal: 232ms\tremaining: 162ms\n",
      "59:\tlearn: 0.2873766\ttotal: 237ms\tremaining: 158ms\n",
      "60:\tlearn: 0.2861611\ttotal: 242ms\tremaining: 154ms\n",
      "61:\tlearn: 0.2851261\ttotal: 246ms\tremaining: 151ms\n",
      "62:\tlearn: 0.2847000\ttotal: 250ms\tremaining: 147ms\n",
      "63:\tlearn: 0.2834004\ttotal: 254ms\tremaining: 143ms\n",
      "64:\tlearn: 0.2818594\ttotal: 258ms\tremaining: 139ms\n",
      "65:\tlearn: 0.2804841\ttotal: 262ms\tremaining: 135ms\n",
      "66:\tlearn: 0.2792982\ttotal: 267ms\tremaining: 131ms\n",
      "67:\tlearn: 0.2784533\ttotal: 271ms\tremaining: 127ms\n",
      "68:\tlearn: 0.2778522\ttotal: 275ms\tremaining: 123ms\n",
      "69:\tlearn: 0.2765079\ttotal: 279ms\tremaining: 119ms\n",
      "70:\tlearn: 0.2756622\ttotal: 283ms\tremaining: 116ms\n",
      "71:\tlearn: 0.2742749\ttotal: 287ms\tremaining: 112ms\n",
      "72:\tlearn: 0.2733892\ttotal: 291ms\tremaining: 108ms\n",
      "73:\tlearn: 0.2725960\ttotal: 296ms\tremaining: 104ms\n",
      "74:\tlearn: 0.2718737\ttotal: 300ms\tremaining: 99.9ms\n",
      "75:\tlearn: 0.2713285\ttotal: 304ms\tremaining: 96ms\n",
      "76:\tlearn: 0.2700705\ttotal: 308ms\tremaining: 92ms\n",
      "77:\tlearn: 0.2700648\ttotal: 309ms\tremaining: 87.1ms\n",
      "78:\tlearn: 0.2693962\ttotal: 313ms\tremaining: 83.2ms\n",
      "79:\tlearn: 0.2682584\ttotal: 317ms\tremaining: 79.3ms\n",
      "80:\tlearn: 0.2677112\ttotal: 325ms\tremaining: 76.3ms\n",
      "81:\tlearn: 0.2671622\ttotal: 329ms\tremaining: 72.3ms\n",
      "82:\tlearn: 0.2653243\ttotal: 333ms\tremaining: 68.3ms\n",
      "83:\tlearn: 0.2638705\ttotal: 338ms\tremaining: 64.3ms\n",
      "84:\tlearn: 0.2621605\ttotal: 342ms\tremaining: 60.4ms\n",
      "85:\tlearn: 0.2606868\ttotal: 346ms\tremaining: 56.4ms\n",
      "86:\tlearn: 0.2597836\ttotal: 350ms\tremaining: 52.4ms\n",
      "87:\tlearn: 0.2588500\ttotal: 355ms\tremaining: 48.3ms\n",
      "88:\tlearn: 0.2578832\ttotal: 359ms\tremaining: 44.3ms\n",
      "89:\tlearn: 0.2568410\ttotal: 363ms\tremaining: 40.3ms\n",
      "90:\tlearn: 0.2560403\ttotal: 367ms\tremaining: 36.3ms\n",
      "91:\tlearn: 0.2550441\ttotal: 371ms\tremaining: 32.3ms\n",
      "92:\tlearn: 0.2545847\ttotal: 375ms\tremaining: 28.3ms\n",
      "93:\tlearn: 0.2538875\ttotal: 379ms\tremaining: 24.2ms\n",
      "94:\tlearn: 0.2528471\ttotal: 384ms\tremaining: 20.2ms\n",
      "95:\tlearn: 0.2516935\ttotal: 388ms\tremaining: 16.2ms\n",
      "96:\tlearn: 0.2509887\ttotal: 392ms\tremaining: 12.1ms\n",
      "97:\tlearn: 0.2500411\ttotal: 396ms\tremaining: 8.08ms\n",
      "98:\tlearn: 0.2493380\ttotal: 400ms\tremaining: 4.04ms\n",
      "99:\tlearn: 0.2481709\ttotal: 404ms\tremaining: 0us\n",
      "0:\tlearn: 0.6308038\ttotal: 4.29ms\tremaining: 425ms\n",
      "1:\tlearn: 0.5775501\ttotal: 8.64ms\tremaining: 424ms\n",
      "2:\tlearn: 0.5332193\ttotal: 12.8ms\tremaining: 413ms\n",
      "3:\tlearn: 0.5024429\ttotal: 16.9ms\tremaining: 406ms\n",
      "4:\tlearn: 0.4704585\ttotal: 21.2ms\tremaining: 402ms\n",
      "5:\tlearn: 0.4554663\ttotal: 23.9ms\tremaining: 375ms\n",
      "6:\tlearn: 0.4356311\ttotal: 28.1ms\tremaining: 373ms\n",
      "7:\tlearn: 0.4198680\ttotal: 32.2ms\tremaining: 370ms\n",
      "8:\tlearn: 0.4053996\ttotal: 36.4ms\tremaining: 368ms\n",
      "9:\tlearn: 0.3951381\ttotal: 40.6ms\tremaining: 365ms\n",
      "10:\tlearn: 0.3871283\ttotal: 44.7ms\tremaining: 361ms\n",
      "11:\tlearn: 0.3791149\ttotal: 48.9ms\tremaining: 359ms\n",
      "12:\tlearn: 0.3713772\ttotal: 53ms\tremaining: 355ms\n",
      "13:\tlearn: 0.3657310\ttotal: 57.1ms\tremaining: 351ms\n",
      "14:\tlearn: 0.3614885\ttotal: 61.3ms\tremaining: 347ms\n",
      "15:\tlearn: 0.3560074\ttotal: 65.7ms\tremaining: 345ms\n",
      "16:\tlearn: 0.3518751\ttotal: 69.9ms\tremaining: 341ms\n",
      "17:\tlearn: 0.3510145\ttotal: 70.9ms\tremaining: 323ms\n",
      "18:\tlearn: 0.3484122\ttotal: 75.1ms\tremaining: 320ms\n",
      "19:\tlearn: 0.3450592\ttotal: 79.2ms\tremaining: 317ms\n",
      "20:\tlearn: 0.3414294\ttotal: 83.4ms\tremaining: 314ms\n",
      "21:\tlearn: 0.3374883\ttotal: 87.5ms\tremaining: 310ms\n",
      "22:\tlearn: 0.3345051\ttotal: 91.8ms\tremaining: 307ms\n",
      "23:\tlearn: 0.3316485\ttotal: 95.9ms\tremaining: 304ms\n",
      "24:\tlearn: 0.3296271\ttotal: 100ms\tremaining: 300ms\n",
      "25:\tlearn: 0.3277637\ttotal: 104ms\tremaining: 297ms\n",
      "26:\tlearn: 0.3257311\ttotal: 109ms\tremaining: 294ms\n",
      "27:\tlearn: 0.3238242\ttotal: 113ms\tremaining: 290ms\n",
      "28:\tlearn: 0.3226077\ttotal: 117ms\tremaining: 286ms\n",
      "29:\tlearn: 0.3216691\ttotal: 120ms\tremaining: 279ms\n",
      "30:\tlearn: 0.3192566\ttotal: 124ms\tremaining: 275ms\n",
      "31:\tlearn: 0.3191943\ttotal: 125ms\tremaining: 265ms\n",
      "32:\tlearn: 0.3176324\ttotal: 129ms\tremaining: 261ms\n",
      "33:\tlearn: 0.3149131\ttotal: 133ms\tremaining: 258ms\n",
      "34:\tlearn: 0.3132198\ttotal: 137ms\tremaining: 255ms\n",
      "35:\tlearn: 0.3100360\ttotal: 141ms\tremaining: 251ms\n",
      "36:\tlearn: 0.3088335\ttotal: 145ms\tremaining: 248ms\n",
      "37:\tlearn: 0.3068169\ttotal: 149ms\tremaining: 244ms\n",
      "38:\tlearn: 0.3060978\ttotal: 154ms\tremaining: 240ms\n",
      "39:\tlearn: 0.3041283\ttotal: 158ms\tremaining: 237ms\n",
      "40:\tlearn: 0.3023771\ttotal: 162ms\tremaining: 233ms\n",
      "41:\tlearn: 0.3009695\ttotal: 166ms\tremaining: 229ms\n",
      "42:\tlearn: 0.2995664\ttotal: 170ms\tremaining: 225ms\n",
      "43:\tlearn: 0.2982764\ttotal: 174ms\tremaining: 222ms\n",
      "44:\tlearn: 0.2982687\ttotal: 175ms\tremaining: 214ms\n",
      "45:\tlearn: 0.2960992\ttotal: 179ms\tremaining: 211ms\n",
      "46:\tlearn: 0.2953506\ttotal: 183ms\tremaining: 207ms\n",
      "47:\tlearn: 0.2941060\ttotal: 188ms\tremaining: 203ms\n",
      "48:\tlearn: 0.2931844\ttotal: 192ms\tremaining: 200ms\n",
      "49:\tlearn: 0.2926928\ttotal: 196ms\tremaining: 196ms\n",
      "50:\tlearn: 0.2925410\ttotal: 198ms\tremaining: 190ms\n"
     ]
    },
    {
     "name": "stdout",
     "output_type": "stream",
     "text": [
      "51:\tlearn: 0.2917478\ttotal: 203ms\tremaining: 187ms\n",
      "52:\tlearn: 0.2908205\ttotal: 207ms\tremaining: 184ms\n",
      "53:\tlearn: 0.2881570\ttotal: 211ms\tremaining: 180ms\n",
      "54:\tlearn: 0.2875359\ttotal: 215ms\tremaining: 176ms\n",
      "55:\tlearn: 0.2873886\ttotal: 217ms\tremaining: 170ms\n",
      "56:\tlearn: 0.2850980\ttotal: 221ms\tremaining: 167ms\n",
      "57:\tlearn: 0.2850089\ttotal: 223ms\tremaining: 161ms\n",
      "58:\tlearn: 0.2848283\ttotal: 225ms\tremaining: 156ms\n",
      "59:\tlearn: 0.2833809\ttotal: 229ms\tremaining: 153ms\n",
      "60:\tlearn: 0.2829922\ttotal: 233ms\tremaining: 149ms\n",
      "61:\tlearn: 0.2829505\ttotal: 234ms\tremaining: 144ms\n",
      "62:\tlearn: 0.2815713\ttotal: 238ms\tremaining: 140ms\n",
      "63:\tlearn: 0.2803360\ttotal: 242ms\tremaining: 136ms\n",
      "64:\tlearn: 0.2782188\ttotal: 247ms\tremaining: 133ms\n",
      "65:\tlearn: 0.2777469\ttotal: 251ms\tremaining: 129ms\n",
      "66:\tlearn: 0.2771179\ttotal: 255ms\tremaining: 126ms\n",
      "67:\tlearn: 0.2767588\ttotal: 259ms\tremaining: 122ms\n",
      "68:\tlearn: 0.2753067\ttotal: 263ms\tremaining: 118ms\n",
      "69:\tlearn: 0.2752486\ttotal: 265ms\tremaining: 114ms\n",
      "70:\tlearn: 0.2748810\ttotal: 269ms\tremaining: 110ms\n",
      "71:\tlearn: 0.2739845\ttotal: 274ms\tremaining: 106ms\n",
      "72:\tlearn: 0.2723439\ttotal: 282ms\tremaining: 104ms\n",
      "73:\tlearn: 0.2722413\ttotal: 284ms\tremaining: 99.8ms\n",
      "74:\tlearn: 0.2708104\ttotal: 288ms\tremaining: 96.1ms\n",
      "75:\tlearn: 0.2700343\ttotal: 293ms\tremaining: 92.6ms\n",
      "76:\tlearn: 0.2694072\ttotal: 297ms\tremaining: 88.8ms\n",
      "77:\tlearn: 0.2678142\ttotal: 301ms\tremaining: 85ms\n",
      "78:\tlearn: 0.2671036\ttotal: 306ms\tremaining: 81.2ms\n",
      "79:\tlearn: 0.2664504\ttotal: 310ms\tremaining: 77.4ms\n",
      "80:\tlearn: 0.2652340\ttotal: 314ms\tremaining: 73.6ms\n",
      "81:\tlearn: 0.2646067\ttotal: 318ms\tremaining: 69.8ms\n",
      "82:\tlearn: 0.2643626\ttotal: 322ms\tremaining: 66ms\n",
      "83:\tlearn: 0.2638752\ttotal: 326ms\tremaining: 62.1ms\n",
      "84:\tlearn: 0.2626666\ttotal: 330ms\tremaining: 58.3ms\n",
      "85:\tlearn: 0.2615834\ttotal: 335ms\tremaining: 54.5ms\n",
      "86:\tlearn: 0.2601653\ttotal: 339ms\tremaining: 50.6ms\n",
      "87:\tlearn: 0.2592129\ttotal: 343ms\tremaining: 46.8ms\n",
      "88:\tlearn: 0.2580280\ttotal: 347ms\tremaining: 42.9ms\n",
      "89:\tlearn: 0.2574963\ttotal: 351ms\tremaining: 39ms\n",
      "90:\tlearn: 0.2566864\ttotal: 355ms\tremaining: 35.1ms\n",
      "91:\tlearn: 0.2557948\ttotal: 359ms\tremaining: 31.2ms\n",
      "92:\tlearn: 0.2549871\ttotal: 363ms\tremaining: 27.4ms\n",
      "93:\tlearn: 0.2542077\ttotal: 367ms\tremaining: 23.5ms\n",
      "94:\tlearn: 0.2529730\ttotal: 372ms\tremaining: 19.6ms\n",
      "95:\tlearn: 0.2524550\ttotal: 376ms\tremaining: 15.7ms\n",
      "96:\tlearn: 0.2517347\ttotal: 380ms\tremaining: 11.7ms\n",
      "97:\tlearn: 0.2504477\ttotal: 384ms\tremaining: 7.84ms\n",
      "98:\tlearn: 0.2498083\ttotal: 388ms\tremaining: 3.92ms\n",
      "99:\tlearn: 0.2491988\ttotal: 392ms\tremaining: 0us\n",
      "0:\tlearn: 0.6309639\ttotal: 4.31ms\tremaining: 426ms\n",
      "1:\tlearn: 0.5782212\ttotal: 8.72ms\tremaining: 427ms\n",
      "2:\tlearn: 0.5331723\ttotal: 12.9ms\tremaining: 416ms\n",
      "3:\tlearn: 0.5045118\ttotal: 17ms\tremaining: 408ms\n",
      "4:\tlearn: 0.4712768\ttotal: 21.3ms\tremaining: 404ms\n",
      "5:\tlearn: 0.4563078\ttotal: 23.9ms\tremaining: 375ms\n",
      "6:\tlearn: 0.4372965\ttotal: 28.2ms\tremaining: 374ms\n",
      "7:\tlearn: 0.4193821\ttotal: 32.4ms\tremaining: 372ms\n",
      "8:\tlearn: 0.4053715\ttotal: 36.6ms\tremaining: 370ms\n",
      "9:\tlearn: 0.3950906\ttotal: 40.9ms\tremaining: 368ms\n",
      "10:\tlearn: 0.3880773\ttotal: 45ms\tremaining: 364ms\n",
      "11:\tlearn: 0.3787971\ttotal: 49.1ms\tremaining: 360ms\n",
      "12:\tlearn: 0.3703106\ttotal: 53.2ms\tremaining: 356ms\n",
      "13:\tlearn: 0.3644187\ttotal: 57.3ms\tremaining: 352ms\n",
      "14:\tlearn: 0.3600195\ttotal: 61.5ms\tremaining: 348ms\n",
      "15:\tlearn: 0.3541742\ttotal: 65.7ms\tremaining: 345ms\n",
      "16:\tlearn: 0.3506911\ttotal: 70ms\tremaining: 342ms\n",
      "17:\tlearn: 0.3499442\ttotal: 71.1ms\tremaining: 324ms\n",
      "18:\tlearn: 0.3472389\ttotal: 75.2ms\tremaining: 321ms\n",
      "19:\tlearn: 0.3436759\ttotal: 79.4ms\tremaining: 318ms\n",
      "20:\tlearn: 0.3403622\ttotal: 83.7ms\tremaining: 315ms\n",
      "21:\tlearn: 0.3360774\ttotal: 87.8ms\tremaining: 311ms\n",
      "22:\tlearn: 0.3340281\ttotal: 92ms\tremaining: 308ms\n",
      "23:\tlearn: 0.3314725\ttotal: 96.1ms\tremaining: 304ms\n",
      "24:\tlearn: 0.3290796\ttotal: 100ms\tremaining: 301ms\n",
      "25:\tlearn: 0.3272517\ttotal: 104ms\tremaining: 297ms\n",
      "26:\tlearn: 0.3254177\ttotal: 109ms\tremaining: 294ms\n",
      "27:\tlearn: 0.3227696\ttotal: 113ms\tremaining: 290ms\n",
      "28:\tlearn: 0.3206579\ttotal: 117ms\tremaining: 286ms\n",
      "29:\tlearn: 0.3184086\ttotal: 121ms\tremaining: 282ms\n",
      "30:\tlearn: 0.3162819\ttotal: 125ms\tremaining: 278ms\n",
      "31:\tlearn: 0.3144595\ttotal: 129ms\tremaining: 274ms\n",
      "32:\tlearn: 0.3131952\ttotal: 133ms\tremaining: 270ms\n",
      "33:\tlearn: 0.3128928\ttotal: 137ms\tremaining: 267ms\n",
      "34:\tlearn: 0.3104725\ttotal: 141ms\tremaining: 263ms\n",
      "35:\tlearn: 0.3090225\ttotal: 145ms\tremaining: 259ms\n",
      "36:\tlearn: 0.3085826\ttotal: 149ms\tremaining: 255ms\n",
      "37:\tlearn: 0.3077794\ttotal: 154ms\tremaining: 251ms\n",
      "38:\tlearn: 0.3062536\ttotal: 158ms\tremaining: 247ms\n",
      "39:\tlearn: 0.3045446\ttotal: 162ms\tremaining: 243ms\n",
      "40:\tlearn: 0.3041498\ttotal: 166ms\tremaining: 239ms\n",
      "41:\tlearn: 0.3023581\ttotal: 170ms\tremaining: 235ms\n",
      "42:\tlearn: 0.3004625\ttotal: 174ms\tremaining: 231ms\n",
      "43:\tlearn: 0.2980993\ttotal: 178ms\tremaining: 227ms\n",
      "44:\tlearn: 0.2972917\ttotal: 183ms\tremaining: 223ms\n",
      "45:\tlearn: 0.2965944\ttotal: 187ms\tremaining: 219ms\n",
      "46:\tlearn: 0.2954967\ttotal: 191ms\tremaining: 215ms\n",
      "47:\tlearn: 0.2952984\ttotal: 193ms\tremaining: 209ms\n",
      "48:\tlearn: 0.2942014\ttotal: 197ms\tremaining: 205ms\n",
      "49:\tlearn: 0.2941451\ttotal: 198ms\tremaining: 198ms\n",
      "50:\tlearn: 0.2922752\ttotal: 203ms\tremaining: 195ms\n",
      "51:\tlearn: 0.2902105\ttotal: 208ms\tremaining: 192ms\n",
      "52:\tlearn: 0.2889045\ttotal: 212ms\tremaining: 188ms\n",
      "53:\tlearn: 0.2879724\ttotal: 216ms\tremaining: 184ms\n",
      "54:\tlearn: 0.2878350\ttotal: 218ms\tremaining: 178ms\n",
      "55:\tlearn: 0.2872432\ttotal: 222ms\tremaining: 174ms\n",
      "56:\tlearn: 0.2860401\ttotal: 226ms\tremaining: 170ms\n",
      "57:\tlearn: 0.2855236\ttotal: 230ms\tremaining: 167ms\n",
      "58:\tlearn: 0.2846129\ttotal: 234ms\tremaining: 163ms\n",
      "59:\tlearn: 0.2836316\ttotal: 238ms\tremaining: 159ms\n",
      "60:\tlearn: 0.2827173\ttotal: 243ms\tremaining: 155ms\n",
      "61:\tlearn: 0.2811414\ttotal: 251ms\tremaining: 154ms\n",
      "62:\tlearn: 0.2801130\ttotal: 255ms\tremaining: 150ms\n",
      "63:\tlearn: 0.2798917\ttotal: 257ms\tremaining: 145ms\n",
      "64:\tlearn: 0.2785478\ttotal: 261ms\tremaining: 141ms\n",
      "65:\tlearn: 0.2768538\ttotal: 266ms\tremaining: 137ms\n",
      "66:\tlearn: 0.2763038\ttotal: 270ms\tremaining: 133ms\n",
      "67:\tlearn: 0.2753707\ttotal: 274ms\tremaining: 129ms\n",
      "68:\tlearn: 0.2752285\ttotal: 276ms\tremaining: 124ms\n",
      "69:\tlearn: 0.2748600\ttotal: 280ms\tremaining: 120ms\n",
      "70:\tlearn: 0.2737530\ttotal: 284ms\tremaining: 116ms\n",
      "71:\tlearn: 0.2727979\ttotal: 288ms\tremaining: 112ms\n",
      "72:\tlearn: 0.2714091\ttotal: 293ms\tremaining: 108ms\n",
      "73:\tlearn: 0.2703284\ttotal: 297ms\tremaining: 104ms\n",
      "74:\tlearn: 0.2691052\ttotal: 301ms\tremaining: 100ms\n",
      "75:\tlearn: 0.2676016\ttotal: 305ms\tremaining: 96.4ms\n",
      "76:\tlearn: 0.2665318\ttotal: 309ms\tremaining: 92.4ms\n",
      "77:\tlearn: 0.2656618\ttotal: 314ms\tremaining: 88.4ms\n",
      "78:\tlearn: 0.2649505\ttotal: 318ms\tremaining: 84.4ms\n",
      "79:\tlearn: 0.2633417\ttotal: 322ms\tremaining: 80.4ms\n",
      "80:\tlearn: 0.2627214\ttotal: 326ms\tremaining: 76.4ms\n",
      "81:\tlearn: 0.2622449\ttotal: 330ms\tremaining: 72.4ms\n",
      "82:\tlearn: 0.2609333\ttotal: 334ms\tremaining: 68.4ms\n",
      "83:\tlearn: 0.2600585\ttotal: 338ms\tremaining: 64.4ms\n",
      "84:\tlearn: 0.2590934\ttotal: 342ms\tremaining: 60.4ms\n",
      "85:\tlearn: 0.2577698\ttotal: 346ms\tremaining: 56.4ms\n",
      "86:\tlearn: 0.2567977\ttotal: 350ms\tremaining: 52.4ms\n",
      "87:\tlearn: 0.2562754\ttotal: 355ms\tremaining: 48.4ms\n",
      "88:\tlearn: 0.2555781\ttotal: 359ms\tremaining: 44.3ms\n",
      "89:\tlearn: 0.2546471\ttotal: 363ms\tremaining: 40.3ms\n",
      "90:\tlearn: 0.2531136\ttotal: 367ms\tremaining: 36.3ms\n",
      "91:\tlearn: 0.2517944\ttotal: 371ms\tremaining: 32.3ms\n",
      "92:\tlearn: 0.2504567\ttotal: 375ms\tremaining: 28.3ms\n",
      "93:\tlearn: 0.2497067\ttotal: 380ms\tremaining: 24.2ms\n",
      "94:\tlearn: 0.2488311\ttotal: 384ms\tremaining: 20.2ms\n",
      "95:\tlearn: 0.2480962\ttotal: 388ms\tremaining: 16.2ms\n",
      "96:\tlearn: 0.2466476\ttotal: 392ms\tremaining: 12.1ms\n",
      "97:\tlearn: 0.2456730\ttotal: 396ms\tremaining: 8.09ms\n",
      "98:\tlearn: 0.2450659\ttotal: 401ms\tremaining: 4.05ms\n",
      "99:\tlearn: 0.2443559\ttotal: 405ms\tremaining: 0us\n",
      "0:\tlearn: 0.6298659\ttotal: 4.24ms\tremaining: 419ms\n",
      "1:\tlearn: 0.5737306\ttotal: 8.36ms\tremaining: 410ms\n",
      "2:\tlearn: 0.5296361\ttotal: 12.5ms\tremaining: 405ms\n",
      "3:\tlearn: 0.4985933\ttotal: 16.8ms\tremaining: 402ms\n",
      "4:\tlearn: 0.4659558\ttotal: 21.2ms\tremaining: 403ms\n",
      "5:\tlearn: 0.4510368\ttotal: 24.1ms\tremaining: 377ms\n",
      "6:\tlearn: 0.4314372\ttotal: 28.3ms\tremaining: 376ms\n",
      "7:\tlearn: 0.4151116\ttotal: 32.4ms\tremaining: 372ms\n",
      "8:\tlearn: 0.4006847\ttotal: 36.6ms\tremaining: 370ms\n",
      "9:\tlearn: 0.3900444\ttotal: 40.8ms\tremaining: 367ms\n",
      "10:\tlearn: 0.3834114\ttotal: 44.9ms\tremaining: 363ms\n",
      "11:\tlearn: 0.3752776\ttotal: 49.2ms\tremaining: 360ms\n",
      "12:\tlearn: 0.3683663\ttotal: 53.3ms\tremaining: 357ms\n",
      "13:\tlearn: 0.3622717\ttotal: 57.4ms\tremaining: 353ms\n"
     ]
    },
    {
     "name": "stdout",
     "output_type": "stream",
     "text": [
      "14:\tlearn: 0.3578944\ttotal: 62.1ms\tremaining: 352ms\n",
      "15:\tlearn: 0.3518605\ttotal: 66.5ms\tremaining: 349ms\n",
      "16:\tlearn: 0.3485766\ttotal: 70.9ms\tremaining: 346ms\n",
      "17:\tlearn: 0.3477388\ttotal: 72ms\tremaining: 328ms\n",
      "18:\tlearn: 0.3443207\ttotal: 76.3ms\tremaining: 325ms\n",
      "19:\tlearn: 0.3409652\ttotal: 80.4ms\tremaining: 322ms\n",
      "20:\tlearn: 0.3382104\ttotal: 84.6ms\tremaining: 318ms\n",
      "21:\tlearn: 0.3347696\ttotal: 88.8ms\tremaining: 315ms\n",
      "22:\tlearn: 0.3329489\ttotal: 92.9ms\tremaining: 311ms\n",
      "23:\tlearn: 0.3306224\ttotal: 97ms\tremaining: 307ms\n",
      "24:\tlearn: 0.3282428\ttotal: 101ms\tremaining: 303ms\n",
      "25:\tlearn: 0.3270296\ttotal: 105ms\tremaining: 299ms\n",
      "26:\tlearn: 0.3260932\ttotal: 110ms\tremaining: 297ms\n",
      "27:\tlearn: 0.3237063\ttotal: 114ms\tremaining: 293ms\n",
      "28:\tlearn: 0.3215049\ttotal: 118ms\tremaining: 290ms\n",
      "29:\tlearn: 0.3209198\ttotal: 123ms\tremaining: 286ms\n",
      "30:\tlearn: 0.3193925\ttotal: 127ms\tremaining: 282ms\n",
      "31:\tlearn: 0.3182853\ttotal: 131ms\tremaining: 278ms\n",
      "32:\tlearn: 0.3171043\ttotal: 135ms\tremaining: 274ms\n",
      "33:\tlearn: 0.3159231\ttotal: 139ms\tremaining: 270ms\n",
      "34:\tlearn: 0.3133502\ttotal: 143ms\tremaining: 266ms\n",
      "35:\tlearn: 0.3118962\ttotal: 147ms\tremaining: 262ms\n",
      "36:\tlearn: 0.3095136\ttotal: 152ms\tremaining: 258ms\n",
      "37:\tlearn: 0.3091331\ttotal: 156ms\tremaining: 254ms\n",
      "38:\tlearn: 0.3066028\ttotal: 160ms\tremaining: 250ms\n",
      "39:\tlearn: 0.3050261\ttotal: 164ms\tremaining: 246ms\n",
      "40:\tlearn: 0.3042696\ttotal: 168ms\tremaining: 242ms\n",
      "41:\tlearn: 0.3024788\ttotal: 172ms\tremaining: 238ms\n",
      "42:\tlearn: 0.3010575\ttotal: 176ms\tremaining: 233ms\n",
      "43:\tlearn: 0.2998414\ttotal: 180ms\tremaining: 229ms\n",
      "44:\tlearn: 0.2979119\ttotal: 184ms\tremaining: 225ms\n",
      "45:\tlearn: 0.2974760\ttotal: 187ms\tremaining: 220ms\n",
      "46:\tlearn: 0.2964173\ttotal: 191ms\tremaining: 216ms\n",
      "47:\tlearn: 0.2961580\ttotal: 193ms\tremaining: 209ms\n",
      "48:\tlearn: 0.2960936\ttotal: 195ms\tremaining: 203ms\n",
      "49:\tlearn: 0.2944267\ttotal: 199ms\tremaining: 199ms\n",
      "50:\tlearn: 0.2930760\ttotal: 203ms\tremaining: 195ms\n",
      "51:\tlearn: 0.2919222\ttotal: 207ms\tremaining: 191ms\n",
      "52:\tlearn: 0.2900096\ttotal: 212ms\tremaining: 188ms\n",
      "53:\tlearn: 0.2883006\ttotal: 216ms\tremaining: 184ms\n",
      "54:\tlearn: 0.2877360\ttotal: 221ms\tremaining: 181ms\n",
      "55:\tlearn: 0.2856829\ttotal: 226ms\tremaining: 177ms\n",
      "56:\tlearn: 0.2834793\ttotal: 230ms\tremaining: 174ms\n",
      "57:\tlearn: 0.2822172\ttotal: 235ms\tremaining: 170ms\n",
      "58:\tlearn: 0.2809674\ttotal: 240ms\tremaining: 167ms\n",
      "59:\tlearn: 0.2803031\ttotal: 244ms\tremaining: 163ms\n",
      "60:\tlearn: 0.2789374\ttotal: 248ms\tremaining: 159ms\n",
      "61:\tlearn: 0.2778148\ttotal: 252ms\tremaining: 155ms\n",
      "62:\tlearn: 0.2766971\ttotal: 257ms\tremaining: 151ms\n",
      "63:\tlearn: 0.2758555\ttotal: 261ms\tremaining: 147ms\n",
      "64:\tlearn: 0.2746897\ttotal: 265ms\tremaining: 143ms\n",
      "65:\tlearn: 0.2735316\ttotal: 270ms\tremaining: 139ms\n",
      "66:\tlearn: 0.2716815\ttotal: 274ms\tremaining: 135ms\n",
      "67:\tlearn: 0.2698010\ttotal: 278ms\tremaining: 131ms\n",
      "68:\tlearn: 0.2693318\ttotal: 282ms\tremaining: 127ms\n",
      "69:\tlearn: 0.2683004\ttotal: 286ms\tremaining: 123ms\n",
      "70:\tlearn: 0.2678790\ttotal: 291ms\tremaining: 119ms\n",
      "71:\tlearn: 0.2671250\ttotal: 295ms\tremaining: 115ms\n",
      "72:\tlearn: 0.2668637\ttotal: 298ms\tremaining: 110ms\n",
      "73:\tlearn: 0.2659355\ttotal: 306ms\tremaining: 107ms\n",
      "74:\tlearn: 0.2653468\ttotal: 310ms\tremaining: 103ms\n",
      "75:\tlearn: 0.2646029\ttotal: 314ms\tremaining: 99.2ms\n",
      "76:\tlearn: 0.2633851\ttotal: 319ms\tremaining: 95.2ms\n",
      "77:\tlearn: 0.2613133\ttotal: 323ms\tremaining: 91ms\n",
      "78:\tlearn: 0.2603861\ttotal: 327ms\tremaining: 86.9ms\n",
      "79:\tlearn: 0.2596560\ttotal: 331ms\tremaining: 82.7ms\n",
      "80:\tlearn: 0.2587665\ttotal: 335ms\tremaining: 78.6ms\n",
      "81:\tlearn: 0.2573291\ttotal: 339ms\tremaining: 74.5ms\n",
      "82:\tlearn: 0.2571404\ttotal: 341ms\tremaining: 69.9ms\n",
      "83:\tlearn: 0.2563794\ttotal: 345ms\tremaining: 65.8ms\n",
      "84:\tlearn: 0.2562715\ttotal: 347ms\tremaining: 61.2ms\n",
      "85:\tlearn: 0.2555087\ttotal: 351ms\tremaining: 57.2ms\n",
      "86:\tlearn: 0.2545084\ttotal: 355ms\tremaining: 53.1ms\n",
      "87:\tlearn: 0.2538491\ttotal: 360ms\tremaining: 49ms\n",
      "88:\tlearn: 0.2527127\ttotal: 364ms\tremaining: 44.9ms\n",
      "89:\tlearn: 0.2519973\ttotal: 368ms\tremaining: 40.9ms\n",
      "90:\tlearn: 0.2506156\ttotal: 372ms\tremaining: 36.8ms\n",
      "91:\tlearn: 0.2498679\ttotal: 376ms\tremaining: 32.7ms\n",
      "92:\tlearn: 0.2496231\ttotal: 380ms\tremaining: 28.6ms\n",
      "93:\tlearn: 0.2492472\ttotal: 384ms\tremaining: 24.5ms\n",
      "94:\tlearn: 0.2478742\ttotal: 388ms\tremaining: 20.4ms\n",
      "95:\tlearn: 0.2472148\ttotal: 392ms\tremaining: 16.3ms\n",
      "96:\tlearn: 0.2462382\ttotal: 396ms\tremaining: 12.3ms\n",
      "97:\tlearn: 0.2449744\ttotal: 400ms\tremaining: 8.17ms\n",
      "98:\tlearn: 0.2442766\ttotal: 405ms\tremaining: 4.09ms\n",
      "99:\tlearn: 0.2431110\ttotal: 409ms\tremaining: 0us\n",
      "0:\tlearn: 0.6305433\ttotal: 4.3ms\tremaining: 426ms\n",
      "1:\tlearn: 0.5772428\ttotal: 8.71ms\tremaining: 427ms\n",
      "2:\tlearn: 0.5309997\ttotal: 12.8ms\tremaining: 415ms\n",
      "3:\tlearn: 0.5053353\ttotal: 15.6ms\tremaining: 374ms\n",
      "4:\tlearn: 0.4750571\ttotal: 19.8ms\tremaining: 375ms\n",
      "5:\tlearn: 0.4533831\ttotal: 23.9ms\tremaining: 375ms\n",
      "6:\tlearn: 0.4340455\ttotal: 28.1ms\tremaining: 373ms\n",
      "7:\tlearn: 0.4199891\ttotal: 32.2ms\tremaining: 370ms\n",
      "8:\tlearn: 0.4048983\ttotal: 36.4ms\tremaining: 368ms\n",
      "9:\tlearn: 0.3962599\ttotal: 38.4ms\tremaining: 345ms\n",
      "10:\tlearn: 0.3882836\ttotal: 41.1ms\tremaining: 332ms\n",
      "11:\tlearn: 0.3807829\ttotal: 45.3ms\tremaining: 332ms\n",
      "12:\tlearn: 0.3729544\ttotal: 49.6ms\tremaining: 332ms\n",
      "13:\tlearn: 0.3650063\ttotal: 53.7ms\tremaining: 330ms\n",
      "14:\tlearn: 0.3584119\ttotal: 57.9ms\tremaining: 328ms\n",
      "15:\tlearn: 0.3529648\ttotal: 62ms\tremaining: 326ms\n",
      "16:\tlearn: 0.3490574\ttotal: 66.2ms\tremaining: 323ms\n",
      "17:\tlearn: 0.3456925\ttotal: 70.5ms\tremaining: 321ms\n",
      "18:\tlearn: 0.3433503\ttotal: 74.7ms\tremaining: 318ms\n",
      "19:\tlearn: 0.3420305\ttotal: 78.9ms\tremaining: 316ms\n",
      "20:\tlearn: 0.3394047\ttotal: 83ms\tremaining: 312ms\n",
      "21:\tlearn: 0.3369812\ttotal: 87.2ms\tremaining: 309ms\n",
      "22:\tlearn: 0.3347770\ttotal: 91.4ms\tremaining: 306ms\n",
      "23:\tlearn: 0.3325444\ttotal: 95.6ms\tremaining: 303ms\n",
      "24:\tlearn: 0.3297636\ttotal: 99.9ms\tremaining: 300ms\n",
      "25:\tlearn: 0.3277980\ttotal: 104ms\tremaining: 296ms\n",
      "26:\tlearn: 0.3248242\ttotal: 108ms\tremaining: 292ms\n",
      "27:\tlearn: 0.3215874\ttotal: 112ms\tremaining: 289ms\n",
      "28:\tlearn: 0.3192541\ttotal: 117ms\tremaining: 285ms\n",
      "29:\tlearn: 0.3175247\ttotal: 121ms\tremaining: 281ms\n",
      "30:\tlearn: 0.3159408\ttotal: 125ms\tremaining: 277ms\n",
      "31:\tlearn: 0.3134256\ttotal: 129ms\tremaining: 274ms\n",
      "32:\tlearn: 0.3116149\ttotal: 133ms\tremaining: 270ms\n",
      "33:\tlearn: 0.3106115\ttotal: 137ms\tremaining: 266ms\n",
      "34:\tlearn: 0.3089480\ttotal: 141ms\tremaining: 262ms\n",
      "35:\tlearn: 0.3075705\ttotal: 145ms\tremaining: 258ms\n",
      "36:\tlearn: 0.3061678\ttotal: 149ms\tremaining: 254ms\n",
      "37:\tlearn: 0.3042831\ttotal: 153ms\tremaining: 250ms\n",
      "38:\tlearn: 0.3040237\ttotal: 155ms\tremaining: 243ms\n",
      "39:\tlearn: 0.3030389\ttotal: 159ms\tremaining: 239ms\n",
      "40:\tlearn: 0.3021005\ttotal: 163ms\tremaining: 235ms\n",
      "41:\tlearn: 0.3010590\ttotal: 168ms\tremaining: 231ms\n",
      "42:\tlearn: 0.2999733\ttotal: 172ms\tremaining: 228ms\n",
      "43:\tlearn: 0.2988525\ttotal: 176ms\tremaining: 224ms\n",
      "44:\tlearn: 0.2965972\ttotal: 180ms\tremaining: 220ms\n",
      "45:\tlearn: 0.2944067\ttotal: 184ms\tremaining: 216ms\n",
      "46:\tlearn: 0.2938702\ttotal: 189ms\tremaining: 213ms\n",
      "47:\tlearn: 0.2925111\ttotal: 193ms\tremaining: 209ms\n",
      "48:\tlearn: 0.2924328\ttotal: 195ms\tremaining: 203ms\n",
      "49:\tlearn: 0.2920688\ttotal: 196ms\tremaining: 196ms\n",
      "50:\tlearn: 0.2907651\ttotal: 200ms\tremaining: 192ms\n",
      "51:\tlearn: 0.2899757\ttotal: 205ms\tremaining: 189ms\n",
      "52:\tlearn: 0.2881057\ttotal: 209ms\tremaining: 185ms\n",
      "53:\tlearn: 0.2880983\ttotal: 210ms\tremaining: 179ms\n",
      "54:\tlearn: 0.2863167\ttotal: 214ms\tremaining: 175ms\n",
      "55:\tlearn: 0.2863168\ttotal: 215ms\tremaining: 169ms\n",
      "56:\tlearn: 0.2852508\ttotal: 220ms\tremaining: 166ms\n",
      "57:\tlearn: 0.2845945\ttotal: 224ms\tremaining: 162ms\n",
      "58:\tlearn: 0.2838019\ttotal: 228ms\tremaining: 158ms\n",
      "59:\tlearn: 0.2819188\ttotal: 232ms\tremaining: 155ms\n",
      "60:\tlearn: 0.2805521\ttotal: 236ms\tremaining: 151ms\n",
      "61:\tlearn: 0.2791663\ttotal: 240ms\tremaining: 147ms\n",
      "62:\tlearn: 0.2776180\ttotal: 244ms\tremaining: 144ms\n",
      "63:\tlearn: 0.2771361\ttotal: 249ms\tremaining: 140ms\n",
      "64:\tlearn: 0.2760247\ttotal: 257ms\tremaining: 138ms\n",
      "65:\tlearn: 0.2759602\ttotal: 258ms\tremaining: 133ms\n",
      "66:\tlearn: 0.2749822\ttotal: 262ms\tremaining: 129ms\n",
      "67:\tlearn: 0.2744320\ttotal: 266ms\tremaining: 125ms\n",
      "68:\tlearn: 0.2723482\ttotal: 271ms\tremaining: 122ms\n",
      "69:\tlearn: 0.2711888\ttotal: 275ms\tremaining: 118ms\n",
      "70:\tlearn: 0.2697388\ttotal: 279ms\tremaining: 114ms\n",
      "71:\tlearn: 0.2686594\ttotal: 283ms\tremaining: 110ms\n",
      "72:\tlearn: 0.2676655\ttotal: 287ms\tremaining: 106ms\n",
      "73:\tlearn: 0.2667872\ttotal: 291ms\tremaining: 102ms\n",
      "74:\tlearn: 0.2659203\ttotal: 295ms\tremaining: 98.4ms\n",
      "75:\tlearn: 0.2645564\ttotal: 300ms\tremaining: 94.6ms\n",
      "76:\tlearn: 0.2638220\ttotal: 304ms\tremaining: 90.7ms\n",
      "77:\tlearn: 0.2629945\ttotal: 308ms\tremaining: 86.8ms\n",
      "78:\tlearn: 0.2623867\ttotal: 312ms\tremaining: 83ms\n",
      "79:\tlearn: 0.2611512\ttotal: 316ms\tremaining: 79.1ms\n",
      "80:\tlearn: 0.2593052\ttotal: 320ms\tremaining: 75.1ms\n",
      "81:\tlearn: 0.2584300\ttotal: 324ms\tremaining: 71.2ms\n",
      "82:\tlearn: 0.2583009\ttotal: 326ms\tremaining: 66.8ms\n",
      "83:\tlearn: 0.2572352\ttotal: 330ms\tremaining: 62.9ms\n",
      "84:\tlearn: 0.2565618\ttotal: 335ms\tremaining: 59ms\n",
      "85:\tlearn: 0.2559664\ttotal: 339ms\tremaining: 55.1ms\n",
      "86:\tlearn: 0.2552958\ttotal: 343ms\tremaining: 51.2ms\n",
      "87:\tlearn: 0.2541491\ttotal: 347ms\tremaining: 47.3ms\n",
      "88:\tlearn: 0.2522716\ttotal: 351ms\tremaining: 43.4ms\n",
      "89:\tlearn: 0.2516264\ttotal: 355ms\tremaining: 39.5ms\n",
      "90:\tlearn: 0.2503214\ttotal: 359ms\tremaining: 35.5ms\n",
      "91:\tlearn: 0.2490396\ttotal: 363ms\tremaining: 31.6ms\n",
      "92:\tlearn: 0.2481367\ttotal: 368ms\tremaining: 27.7ms\n",
      "93:\tlearn: 0.2466665\ttotal: 372ms\tremaining: 23.7ms\n",
      "94:\tlearn: 0.2457523\ttotal: 376ms\tremaining: 19.8ms\n",
      "95:\tlearn: 0.2448741\ttotal: 380ms\tremaining: 15.8ms\n",
      "96:\tlearn: 0.2442458\ttotal: 384ms\tremaining: 11.9ms\n",
      "97:\tlearn: 0.2434729\ttotal: 389ms\tremaining: 7.93ms\n",
      "98:\tlearn: 0.2422489\ttotal: 393ms\tremaining: 3.97ms\n",
      "99:\tlearn: 0.2415703\ttotal: 397ms\tremaining: 0us\n"
     ]
    },
    {
     "name": "stdout",
     "output_type": "stream",
     "text": [
      "0:\tlearn: 0.6384532\ttotal: 1.3ms\tremaining: 128ms\n",
      "1:\tlearn: 0.5959731\ttotal: 2.94ms\tremaining: 144ms\n",
      "2:\tlearn: 0.5557827\ttotal: 4.28ms\tremaining: 139ms\n",
      "3:\tlearn: 0.5306739\ttotal: 5.56ms\tremaining: 133ms\n",
      "4:\tlearn: 0.5113671\ttotal: 6.94ms\tremaining: 132ms\n",
      "5:\tlearn: 0.4918863\ttotal: 8.21ms\tremaining: 129ms\n",
      "6:\tlearn: 0.4702658\ttotal: 9.47ms\tremaining: 126ms\n",
      "7:\tlearn: 0.4581816\ttotal: 10.7ms\tremaining: 123ms\n",
      "8:\tlearn: 0.4461901\ttotal: 12.1ms\tremaining: 122ms\n",
      "9:\tlearn: 0.4380828\ttotal: 13.4ms\tremaining: 121ms\n",
      "10:\tlearn: 0.4305480\ttotal: 14.7ms\tremaining: 119ms\n",
      "11:\tlearn: 0.4206846\ttotal: 16ms\tremaining: 117ms\n",
      "12:\tlearn: 0.4149563\ttotal: 17.4ms\tremaining: 116ms\n",
      "13:\tlearn: 0.4085676\ttotal: 18.7ms\tremaining: 115ms\n",
      "14:\tlearn: 0.4046701\ttotal: 20ms\tremaining: 113ms\n",
      "15:\tlearn: 0.4019798\ttotal: 21.3ms\tremaining: 112ms\n",
      "16:\tlearn: 0.3996724\ttotal: 22.5ms\tremaining: 110ms\n",
      "17:\tlearn: 0.3967484\ttotal: 23.8ms\tremaining: 108ms\n",
      "18:\tlearn: 0.3933363\ttotal: 25ms\tremaining: 107ms\n",
      "19:\tlearn: 0.3910035\ttotal: 26.4ms\tremaining: 106ms\n",
      "20:\tlearn: 0.3891000\ttotal: 27.6ms\tremaining: 104ms\n",
      "21:\tlearn: 0.3876326\ttotal: 28.9ms\tremaining: 102ms\n",
      "22:\tlearn: 0.3855654\ttotal: 30.1ms\tremaining: 101ms\n",
      "23:\tlearn: 0.3828854\ttotal: 31.3ms\tremaining: 99.1ms\n",
      "24:\tlearn: 0.3811747\ttotal: 32.5ms\tremaining: 97.6ms\n",
      "25:\tlearn: 0.3800157\ttotal: 33.8ms\tremaining: 96.2ms\n",
      "26:\tlearn: 0.3785314\ttotal: 35.1ms\tremaining: 94.9ms\n",
      "27:\tlearn: 0.3763669\ttotal: 36.7ms\tremaining: 94.3ms\n",
      "28:\tlearn: 0.3748946\ttotal: 38ms\tremaining: 92.9ms\n",
      "29:\tlearn: 0.3743560\ttotal: 39.2ms\tremaining: 91.4ms\n",
      "30:\tlearn: 0.3734773\ttotal: 40.4ms\tremaining: 89.8ms\n",
      "31:\tlearn: 0.3724669\ttotal: 41.7ms\tremaining: 88.5ms\n",
      "32:\tlearn: 0.3715151\ttotal: 42.9ms\tremaining: 87.1ms\n",
      "33:\tlearn: 0.3700152\ttotal: 44.2ms\tremaining: 85.9ms\n",
      "34:\tlearn: 0.3689624\ttotal: 45.6ms\tremaining: 84.6ms\n",
      "35:\tlearn: 0.3684319\ttotal: 46.8ms\tremaining: 83.2ms\n",
      "36:\tlearn: 0.3675229\ttotal: 48.2ms\tremaining: 82.1ms\n",
      "37:\tlearn: 0.3667264\ttotal: 49.6ms\tremaining: 81ms\n",
      "38:\tlearn: 0.3663552\ttotal: 50.8ms\tremaining: 79.5ms\n",
      "39:\tlearn: 0.3658991\ttotal: 52ms\tremaining: 78.1ms\n",
      "40:\tlearn: 0.3651988\ttotal: 53.3ms\tremaining: 76.7ms\n",
      "41:\tlearn: 0.3647666\ttotal: 54.5ms\tremaining: 75.3ms\n",
      "42:\tlearn: 0.3642631\ttotal: 55.8ms\tremaining: 74ms\n",
      "43:\tlearn: 0.3635943\ttotal: 57.1ms\tremaining: 72.6ms\n",
      "44:\tlearn: 0.3632040\ttotal: 58.3ms\tremaining: 71.3ms\n",
      "45:\tlearn: 0.3628695\ttotal: 59.5ms\tremaining: 69.9ms\n",
      "46:\tlearn: 0.3626030\ttotal: 60.7ms\tremaining: 68.4ms\n",
      "47:\tlearn: 0.3621640\ttotal: 61.9ms\tremaining: 67ms\n",
      "48:\tlearn: 0.3619122\ttotal: 63.1ms\tremaining: 65.7ms\n",
      "49:\tlearn: 0.3612116\ttotal: 64.2ms\tremaining: 64.2ms\n",
      "50:\tlearn: 0.3610017\ttotal: 65.5ms\tremaining: 62.9ms\n",
      "51:\tlearn: 0.3606998\ttotal: 66.7ms\tremaining: 61.6ms\n",
      "52:\tlearn: 0.3600050\ttotal: 67.9ms\tremaining: 60.3ms\n",
      "53:\tlearn: 0.3596983\ttotal: 69.2ms\tremaining: 58.9ms\n",
      "54:\tlearn: 0.3593611\ttotal: 70.4ms\tremaining: 57.6ms\n",
      "55:\tlearn: 0.3591005\ttotal: 71.7ms\tremaining: 56.4ms\n",
      "56:\tlearn: 0.3587898\ttotal: 73.1ms\tremaining: 55.1ms\n",
      "57:\tlearn: 0.3581078\ttotal: 74.3ms\tremaining: 53.8ms\n",
      "58:\tlearn: 0.3576644\ttotal: 75.7ms\tremaining: 52.6ms\n",
      "59:\tlearn: 0.3572683\ttotal: 76.9ms\tremaining: 51.3ms\n",
      "60:\tlearn: 0.3569889\ttotal: 78.2ms\tremaining: 50ms\n",
      "61:\tlearn: 0.3567653\ttotal: 79.4ms\tremaining: 48.7ms\n",
      "62:\tlearn: 0.3565628\ttotal: 80.6ms\tremaining: 47.3ms\n",
      "63:\tlearn: 0.3561845\ttotal: 81.8ms\tremaining: 46ms\n",
      "64:\tlearn: 0.3559810\ttotal: 83ms\tremaining: 44.7ms\n",
      "65:\tlearn: 0.3559270\ttotal: 84.2ms\tremaining: 43.4ms\n",
      "66:\tlearn: 0.3557575\ttotal: 85.5ms\tremaining: 42.1ms\n",
      "67:\tlearn: 0.3556073\ttotal: 86.7ms\tremaining: 40.8ms\n",
      "68:\tlearn: 0.3554085\ttotal: 87.9ms\tremaining: 39.5ms\n",
      "69:\tlearn: 0.3553340\ttotal: 89.1ms\tremaining: 38.2ms\n",
      "70:\tlearn: 0.3551372\ttotal: 90.5ms\tremaining: 37ms\n",
      "71:\tlearn: 0.3546842\ttotal: 91.8ms\tremaining: 35.7ms\n",
      "72:\tlearn: 0.3545597\ttotal: 93ms\tremaining: 34.4ms\n",
      "73:\tlearn: 0.3542848\ttotal: 94.2ms\tremaining: 33.1ms\n",
      "74:\tlearn: 0.3540165\ttotal: 95.4ms\tremaining: 31.8ms\n",
      "75:\tlearn: 0.3539012\ttotal: 96.6ms\tremaining: 30.5ms\n",
      "76:\tlearn: 0.3536746\ttotal: 97.9ms\tremaining: 29.3ms\n",
      "77:\tlearn: 0.3535106\ttotal: 99.1ms\tremaining: 28ms\n",
      "78:\tlearn: 0.3533202\ttotal: 101ms\tremaining: 26.7ms\n",
      "79:\tlearn: 0.3532251\ttotal: 102ms\tremaining: 25.4ms\n",
      "80:\tlearn: 0.3527066\ttotal: 103ms\tremaining: 24.1ms\n",
      "81:\tlearn: 0.3525714\ttotal: 104ms\tremaining: 22.9ms\n",
      "82:\tlearn: 0.3523886\ttotal: 105ms\tremaining: 21.6ms\n",
      "83:\tlearn: 0.3522301\ttotal: 107ms\tremaining: 20.3ms\n",
      "84:\tlearn: 0.3518588\ttotal: 108ms\tremaining: 19.1ms\n",
      "85:\tlearn: 0.3517249\ttotal: 109ms\tremaining: 17.8ms\n",
      "86:\tlearn: 0.3514569\ttotal: 110ms\tremaining: 16.5ms\n",
      "87:\tlearn: 0.3511904\ttotal: 112ms\tremaining: 15.2ms\n",
      "88:\tlearn: 0.3503072\ttotal: 113ms\tremaining: 14ms\n",
      "89:\tlearn: 0.3496937\ttotal: 114ms\tremaining: 12.7ms\n",
      "90:\tlearn: 0.3493066\ttotal: 116ms\tremaining: 11.5ms\n",
      "91:\tlearn: 0.3491130\ttotal: 117ms\tremaining: 10.2ms\n",
      "92:\tlearn: 0.3482995\ttotal: 118ms\tremaining: 8.91ms\n",
      "93:\tlearn: 0.3480877\ttotal: 120ms\tremaining: 7.64ms\n",
      "94:\tlearn: 0.3472668\ttotal: 121ms\tremaining: 6.37ms\n",
      "95:\tlearn: 0.3468118\ttotal: 122ms\tremaining: 5.1ms\n",
      "96:\tlearn: 0.3465759\ttotal: 124ms\tremaining: 3.82ms\n",
      "97:\tlearn: 0.3458739\ttotal: 125ms\tremaining: 2.55ms\n",
      "98:\tlearn: 0.3452072\ttotal: 126ms\tremaining: 1.27ms\n",
      "99:\tlearn: 0.3450492\ttotal: 127ms\tremaining: 0us\n",
      "0:\tlearn: 0.6397112\ttotal: 1.32ms\tremaining: 131ms\n",
      "1:\tlearn: 0.5965874\ttotal: 2.92ms\tremaining: 143ms\n",
      "2:\tlearn: 0.5566203\ttotal: 4.19ms\tremaining: 136ms\n",
      "3:\tlearn: 0.5229025\ttotal: 5.47ms\tremaining: 131ms\n",
      "4:\tlearn: 0.5041608\ttotal: 6.64ms\tremaining: 126ms\n",
      "5:\tlearn: 0.4869339\ttotal: 7.84ms\tremaining: 123ms\n",
      "6:\tlearn: 0.4725168\ttotal: 9.18ms\tremaining: 122ms\n",
      "7:\tlearn: 0.4589783\ttotal: 10.4ms\tremaining: 120ms\n",
      "8:\tlearn: 0.4468081\ttotal: 11.6ms\tremaining: 117ms\n",
      "9:\tlearn: 0.4398405\ttotal: 12.9ms\tremaining: 116ms\n",
      "10:\tlearn: 0.4292442\ttotal: 14.2ms\tremaining: 115ms\n",
      "11:\tlearn: 0.4211408\ttotal: 15.4ms\tremaining: 113ms\n",
      "12:\tlearn: 0.4165450\ttotal: 16.7ms\tremaining: 112ms\n",
      "13:\tlearn: 0.4095913\ttotal: 18ms\tremaining: 111ms\n",
      "14:\tlearn: 0.4041044\ttotal: 19.2ms\tremaining: 109ms\n",
      "15:\tlearn: 0.3996497\ttotal: 20.5ms\tremaining: 108ms\n",
      "16:\tlearn: 0.3965628\ttotal: 21.7ms\tremaining: 106ms\n",
      "17:\tlearn: 0.3935309\ttotal: 23ms\tremaining: 105ms\n",
      "18:\tlearn: 0.3897055\ttotal: 24.3ms\tremaining: 104ms\n",
      "19:\tlearn: 0.3875518\ttotal: 25.5ms\tremaining: 102ms\n",
      "20:\tlearn: 0.3848581\ttotal: 26.8ms\tremaining: 101ms\n",
      "21:\tlearn: 0.3824863\ttotal: 28ms\tremaining: 99.3ms\n",
      "22:\tlearn: 0.3810832\ttotal: 29.2ms\tremaining: 97.8ms\n",
      "23:\tlearn: 0.3796438\ttotal: 30.4ms\tremaining: 96.3ms\n",
      "24:\tlearn: 0.3778766\ttotal: 31.7ms\tremaining: 95ms\n",
      "25:\tlearn: 0.3773794\ttotal: 32.7ms\tremaining: 93.1ms\n",
      "26:\tlearn: 0.3760602\ttotal: 33.9ms\tremaining: 91.7ms\n",
      "27:\tlearn: 0.3748000\ttotal: 35.2ms\tremaining: 90.5ms\n",
      "28:\tlearn: 0.3737915\ttotal: 36.4ms\tremaining: 89.1ms\n",
      "29:\tlearn: 0.3729907\ttotal: 37.6ms\tremaining: 87.8ms\n",
      "30:\tlearn: 0.3722563\ttotal: 38.8ms\tremaining: 86.5ms\n",
      "31:\tlearn: 0.3711358\ttotal: 40.2ms\tremaining: 85.5ms\n",
      "32:\tlearn: 0.3702053\ttotal: 41.4ms\tremaining: 84.1ms\n",
      "33:\tlearn: 0.3695651\ttotal: 42.6ms\tremaining: 82.7ms\n",
      "34:\tlearn: 0.3684962\ttotal: 44ms\tremaining: 81.7ms\n",
      "35:\tlearn: 0.3682878\ttotal: 45.1ms\tremaining: 80.3ms\n",
      "36:\tlearn: 0.3674820\ttotal: 46.4ms\tremaining: 79ms\n",
      "37:\tlearn: 0.3667665\ttotal: 47.7ms\tremaining: 77.8ms\n",
      "38:\tlearn: 0.3663343\ttotal: 48.9ms\tremaining: 76.5ms\n",
      "39:\tlearn: 0.3657623\ttotal: 50.1ms\tremaining: 75.1ms\n",
      "40:\tlearn: 0.3652774\ttotal: 51.3ms\tremaining: 73.8ms\n",
      "41:\tlearn: 0.3650803\ttotal: 52.5ms\tremaining: 72.4ms\n",
      "42:\tlearn: 0.3648710\ttotal: 53.6ms\tremaining: 71ms\n",
      "43:\tlearn: 0.3643743\ttotal: 54.8ms\tremaining: 69.8ms\n",
      "44:\tlearn: 0.3642872\ttotal: 56ms\tremaining: 68.5ms\n",
      "45:\tlearn: 0.3640898\ttotal: 57.2ms\tremaining: 67.2ms\n",
      "46:\tlearn: 0.3637066\ttotal: 58.5ms\tremaining: 66ms\n",
      "47:\tlearn: 0.3632084\ttotal: 59.8ms\tremaining: 64.8ms\n",
      "48:\tlearn: 0.3625573\ttotal: 61.2ms\tremaining: 63.7ms\n",
      "49:\tlearn: 0.3622715\ttotal: 62.4ms\tremaining: 62.4ms\n",
      "50:\tlearn: 0.3617938\ttotal: 63.5ms\tremaining: 61ms\n",
      "51:\tlearn: 0.3616468\ttotal: 64.7ms\tremaining: 59.7ms\n",
      "52:\tlearn: 0.3615332\ttotal: 65.9ms\tremaining: 58.5ms\n",
      "53:\tlearn: 0.3612203\ttotal: 67.3ms\tremaining: 57.3ms\n",
      "54:\tlearn: 0.3609063\ttotal: 68.5ms\tremaining: 56ms\n",
      "55:\tlearn: 0.3605073\ttotal: 69.8ms\tremaining: 54.8ms\n",
      "56:\tlearn: 0.3599530\ttotal: 71ms\tremaining: 53.6ms\n",
      "57:\tlearn: 0.3597626\ttotal: 72.2ms\tremaining: 52.3ms\n",
      "58:\tlearn: 0.3596053\ttotal: 73.3ms\tremaining: 51ms\n",
      "59:\tlearn: 0.3595155\ttotal: 74.6ms\tremaining: 49.7ms\n",
      "60:\tlearn: 0.3594165\ttotal: 75.8ms\tremaining: 48.4ms\n",
      "61:\tlearn: 0.3592421\ttotal: 76.9ms\tremaining: 47.1ms\n",
      "62:\tlearn: 0.3588537\ttotal: 78.3ms\tremaining: 46ms\n",
      "63:\tlearn: 0.3585433\ttotal: 79.6ms\tremaining: 44.8ms\n",
      "64:\tlearn: 0.3583521\ttotal: 80.9ms\tremaining: 43.6ms\n",
      "65:\tlearn: 0.3574701\ttotal: 82.3ms\tremaining: 42.4ms\n",
      "66:\tlearn: 0.3570805\ttotal: 83.5ms\tremaining: 41.1ms\n",
      "67:\tlearn: 0.3568307\ttotal: 84.7ms\tremaining: 39.9ms\n",
      "68:\tlearn: 0.3558474\ttotal: 86.1ms\tremaining: 38.7ms\n",
      "69:\tlearn: 0.3554939\ttotal: 87.3ms\tremaining: 37.4ms\n",
      "70:\tlearn: 0.3552989\ttotal: 88.6ms\tremaining: 36.2ms\n",
      "71:\tlearn: 0.3550561\ttotal: 89.8ms\tremaining: 34.9ms\n",
      "72:\tlearn: 0.3548907\ttotal: 91ms\tremaining: 33.7ms\n",
      "73:\tlearn: 0.3543770\ttotal: 92.4ms\tremaining: 32.5ms\n",
      "74:\tlearn: 0.3541215\ttotal: 93.7ms\tremaining: 31.2ms\n",
      "75:\tlearn: 0.3537360\ttotal: 95.1ms\tremaining: 30ms\n",
      "76:\tlearn: 0.3535340\ttotal: 96.2ms\tremaining: 28.7ms\n",
      "77:\tlearn: 0.3533870\ttotal: 97.5ms\tremaining: 27.5ms\n",
      "78:\tlearn: 0.3532507\ttotal: 98.9ms\tremaining: 26.3ms\n",
      "79:\tlearn: 0.3531116\ttotal: 100ms\tremaining: 25ms\n",
      "80:\tlearn: 0.3525492\ttotal: 101ms\tremaining: 23.7ms\n",
      "81:\tlearn: 0.3524007\ttotal: 102ms\tremaining: 22.5ms\n",
      "82:\tlearn: 0.3522617\ttotal: 104ms\tremaining: 21.2ms\n",
      "83:\tlearn: 0.3518208\ttotal: 105ms\tremaining: 20ms\n",
      "84:\tlearn: 0.3515341\ttotal: 106ms\tremaining: 18.7ms\n",
      "85:\tlearn: 0.3507904\ttotal: 107ms\tremaining: 17.5ms\n",
      "86:\tlearn: 0.3503424\ttotal: 109ms\tremaining: 16.3ms\n",
      "87:\tlearn: 0.3500870\ttotal: 110ms\tremaining: 15ms\n",
      "88:\tlearn: 0.3496464\ttotal: 111ms\tremaining: 13.8ms\n",
      "89:\tlearn: 0.3490054\ttotal: 113ms\tremaining: 12.5ms\n",
      "90:\tlearn: 0.3487498\ttotal: 114ms\tremaining: 11.3ms\n",
      "91:\tlearn: 0.3485190\ttotal: 115ms\tremaining: 10ms\n",
      "92:\tlearn: 0.3481393\ttotal: 116ms\tremaining: 8.77ms\n",
      "93:\tlearn: 0.3477153\ttotal: 118ms\tremaining: 7.51ms\n",
      "94:\tlearn: 0.3474302\ttotal: 119ms\tremaining: 6.26ms\n",
      "95:\tlearn: 0.3468979\ttotal: 120ms\tremaining: 5.01ms\n",
      "96:\tlearn: 0.3464046\ttotal: 122ms\tremaining: 3.76ms\n",
      "97:\tlearn: 0.3462257\ttotal: 123ms\tremaining: 2.51ms\n",
      "98:\tlearn: 0.3459880\ttotal: 124ms\tremaining: 1.25ms\n",
      "99:\tlearn: 0.3458253\ttotal: 126ms\tremaining: 0us\n"
     ]
    },
    {
     "name": "stdout",
     "output_type": "stream",
     "text": [
      "0:\tlearn: 0.6395214\ttotal: 1.32ms\tremaining: 131ms\n",
      "1:\tlearn: 0.5973644\ttotal: 2.97ms\tremaining: 146ms\n",
      "2:\tlearn: 0.5575942\ttotal: 4.36ms\tremaining: 141ms\n",
      "3:\tlearn: 0.5321094\ttotal: 5.68ms\tremaining: 136ms\n",
      "4:\tlearn: 0.5075202\ttotal: 6.95ms\tremaining: 132ms\n",
      "5:\tlearn: 0.4853650\ttotal: 8.22ms\tremaining: 129ms\n",
      "6:\tlearn: 0.4677970\ttotal: 9.61ms\tremaining: 128ms\n",
      "7:\tlearn: 0.4556438\ttotal: 10.9ms\tremaining: 125ms\n",
      "8:\tlearn: 0.4453222\ttotal: 12.3ms\tremaining: 124ms\n",
      "9:\tlearn: 0.4332856\ttotal: 13.5ms\tremaining: 122ms\n",
      "10:\tlearn: 0.4264404\ttotal: 14.8ms\tremaining: 119ms\n",
      "11:\tlearn: 0.4203175\ttotal: 16ms\tremaining: 117ms\n",
      "12:\tlearn: 0.4135603\ttotal: 17.2ms\tremaining: 115ms\n",
      "13:\tlearn: 0.4075925\ttotal: 18.6ms\tremaining: 114ms\n",
      "14:\tlearn: 0.4023422\ttotal: 19.8ms\tremaining: 112ms\n",
      "15:\tlearn: 0.3981520\ttotal: 21.1ms\tremaining: 111ms\n",
      "16:\tlearn: 0.3957598\ttotal: 22.3ms\tremaining: 109ms\n",
      "17:\tlearn: 0.3925345\ttotal: 23.6ms\tremaining: 108ms\n",
      "18:\tlearn: 0.3901330\ttotal: 24.8ms\tremaining: 106ms\n",
      "19:\tlearn: 0.3870232\ttotal: 26.1ms\tremaining: 104ms\n",
      "20:\tlearn: 0.3856870\ttotal: 27.3ms\tremaining: 103ms\n",
      "21:\tlearn: 0.3831502\ttotal: 28.8ms\tremaining: 102ms\n",
      "22:\tlearn: 0.3807927\ttotal: 30.1ms\tremaining: 101ms\n",
      "23:\tlearn: 0.3789791\ttotal: 31.4ms\tremaining: 99.4ms\n",
      "24:\tlearn: 0.3778481\ttotal: 32.7ms\tremaining: 98ms\n",
      "25:\tlearn: 0.3772075\ttotal: 34ms\tremaining: 96.8ms\n",
      "26:\tlearn: 0.3756654\ttotal: 35.2ms\tremaining: 95.2ms\n",
      "27:\tlearn: 0.3751375\ttotal: 36.5ms\tremaining: 93.8ms\n",
      "28:\tlearn: 0.3737891\ttotal: 37.9ms\tremaining: 92.7ms\n",
      "29:\tlearn: 0.3729152\ttotal: 39ms\tremaining: 91.1ms\n",
      "30:\tlearn: 0.3718759\ttotal: 40.4ms\tremaining: 89.9ms\n",
      "31:\tlearn: 0.3713244\ttotal: 41.6ms\tremaining: 88.4ms\n",
      "32:\tlearn: 0.3707393\ttotal: 43.1ms\tremaining: 87.5ms\n",
      "33:\tlearn: 0.3698156\ttotal: 44.7ms\tremaining: 86.8ms\n",
      "34:\tlearn: 0.3691131\ttotal: 46.1ms\tremaining: 85.7ms\n",
      "35:\tlearn: 0.3682373\ttotal: 47.5ms\tremaining: 84.5ms\n",
      "36:\tlearn: 0.3679610\ttotal: 48.8ms\tremaining: 83.1ms\n",
      "37:\tlearn: 0.3673542\ttotal: 50.1ms\tremaining: 81.8ms\n",
      "38:\tlearn: 0.3669489\ttotal: 51.4ms\tremaining: 80.3ms\n",
      "39:\tlearn: 0.3665932\ttotal: 52.6ms\tremaining: 78.9ms\n",
      "40:\tlearn: 0.3663343\ttotal: 53.8ms\tremaining: 77.5ms\n",
      "41:\tlearn: 0.3658743\ttotal: 55.1ms\tremaining: 76.1ms\n",
      "42:\tlearn: 0.3656037\ttotal: 56.3ms\tremaining: 74.6ms\n",
      "43:\tlearn: 0.3653369\ttotal: 57.5ms\tremaining: 73.2ms\n",
      "44:\tlearn: 0.3650614\ttotal: 58.8ms\tremaining: 71.9ms\n",
      "45:\tlearn: 0.3648798\ttotal: 60ms\tremaining: 70.4ms\n",
      "46:\tlearn: 0.3642258\ttotal: 61.3ms\tremaining: 69.2ms\n",
      "47:\tlearn: 0.3639013\ttotal: 62.6ms\tremaining: 67.8ms\n",
      "48:\tlearn: 0.3634632\ttotal: 63.7ms\tremaining: 66.3ms\n",
      "49:\tlearn: 0.3632770\ttotal: 64.9ms\tremaining: 64.9ms\n",
      "50:\tlearn: 0.3626657\ttotal: 66.2ms\tremaining: 63.6ms\n",
      "51:\tlearn: 0.3621679\ttotal: 67.5ms\tremaining: 62.3ms\n",
      "52:\tlearn: 0.3617316\ttotal: 68.8ms\tremaining: 61ms\n",
      "53:\tlearn: 0.3615567\ttotal: 70ms\tremaining: 59.6ms\n",
      "54:\tlearn: 0.3612906\ttotal: 71.2ms\tremaining: 58.3ms\n",
      "55:\tlearn: 0.3609945\ttotal: 72.3ms\tremaining: 56.8ms\n",
      "56:\tlearn: 0.3608146\ttotal: 73.5ms\tremaining: 55.4ms\n",
      "57:\tlearn: 0.3604327\ttotal: 74.7ms\tremaining: 54.1ms\n",
      "58:\tlearn: 0.3601466\ttotal: 75.9ms\tremaining: 52.8ms\n",
      "59:\tlearn: 0.3598027\ttotal: 77.2ms\tremaining: 51.5ms\n",
      "60:\tlearn: 0.3595807\ttotal: 78.5ms\tremaining: 50.2ms\n",
      "61:\tlearn: 0.3591425\ttotal: 79.6ms\tremaining: 48.8ms\n",
      "62:\tlearn: 0.3582863\ttotal: 81ms\tremaining: 47.5ms\n",
      "63:\tlearn: 0.3580173\ttotal: 82.3ms\tremaining: 46.3ms\n",
      "64:\tlearn: 0.3578564\ttotal: 83.5ms\tremaining: 45ms\n",
      "65:\tlearn: 0.3577335\ttotal: 84.7ms\tremaining: 43.6ms\n",
      "66:\tlearn: 0.3572820\ttotal: 85.9ms\tremaining: 42.3ms\n",
      "67:\tlearn: 0.3571556\ttotal: 87.1ms\tremaining: 41ms\n",
      "68:\tlearn: 0.3569233\ttotal: 88.2ms\tremaining: 39.6ms\n",
      "69:\tlearn: 0.3564448\ttotal: 89.6ms\tremaining: 38.4ms\n",
      "70:\tlearn: 0.3562542\ttotal: 90.8ms\tremaining: 37.1ms\n",
      "71:\tlearn: 0.3560116\ttotal: 91.9ms\tremaining: 35.8ms\n",
      "72:\tlearn: 0.3556553\ttotal: 93.6ms\tremaining: 34.6ms\n",
      "73:\tlearn: 0.3553521\ttotal: 94.8ms\tremaining: 33.3ms\n",
      "74:\tlearn: 0.3549813\ttotal: 96ms\tremaining: 32ms\n",
      "75:\tlearn: 0.3546397\ttotal: 97.2ms\tremaining: 30.7ms\n",
      "76:\tlearn: 0.3544687\ttotal: 98.6ms\tremaining: 29.4ms\n",
      "77:\tlearn: 0.3542463\ttotal: 100ms\tremaining: 28.2ms\n",
      "78:\tlearn: 0.3540563\ttotal: 101ms\tremaining: 26.9ms\n",
      "79:\tlearn: 0.3538036\ttotal: 103ms\tremaining: 25.7ms\n",
      "80:\tlearn: 0.3535506\ttotal: 104ms\tremaining: 24.4ms\n",
      "81:\tlearn: 0.3532612\ttotal: 105ms\tremaining: 23.1ms\n",
      "82:\tlearn: 0.3529545\ttotal: 106ms\tremaining: 21.8ms\n",
      "83:\tlearn: 0.3527836\ttotal: 108ms\tremaining: 20.5ms\n",
      "84:\tlearn: 0.3524322\ttotal: 109ms\tremaining: 19.2ms\n",
      "85:\tlearn: 0.3516725\ttotal: 110ms\tremaining: 18ms\n",
      "86:\tlearn: 0.3514306\ttotal: 112ms\tremaining: 16.7ms\n",
      "87:\tlearn: 0.3512536\ttotal: 113ms\tremaining: 15.4ms\n",
      "88:\tlearn: 0.3510189\ttotal: 114ms\tremaining: 14.1ms\n",
      "89:\tlearn: 0.3507746\ttotal: 115ms\tremaining: 12.8ms\n",
      "90:\tlearn: 0.3505833\ttotal: 116ms\tremaining: 11.5ms\n",
      "91:\tlearn: 0.3503912\ttotal: 117ms\tremaining: 10.2ms\n",
      "92:\tlearn: 0.3502212\ttotal: 119ms\tremaining: 8.93ms\n",
      "93:\tlearn: 0.3499362\ttotal: 120ms\tremaining: 7.66ms\n",
      "94:\tlearn: 0.3496819\ttotal: 121ms\tremaining: 6.39ms\n",
      "95:\tlearn: 0.3495131\ttotal: 123ms\tremaining: 5.11ms\n",
      "96:\tlearn: 0.3490640\ttotal: 124ms\tremaining: 3.83ms\n",
      "97:\tlearn: 0.3486367\ttotal: 125ms\tremaining: 2.56ms\n",
      "98:\tlearn: 0.3482626\ttotal: 126ms\tremaining: 1.28ms\n",
      "99:\tlearn: 0.3478910\ttotal: 128ms\tremaining: 0us\n",
      "0:\tlearn: 0.6384812\ttotal: 1.27ms\tremaining: 126ms\n",
      "1:\tlearn: 0.5947191\ttotal: 2.9ms\tremaining: 142ms\n",
      "2:\tlearn: 0.5543049\ttotal: 4.22ms\tremaining: 137ms\n",
      "3:\tlearn: 0.5271004\ttotal: 5.6ms\tremaining: 134ms\n",
      "4:\tlearn: 0.4979839\ttotal: 6.81ms\tremaining: 129ms\n",
      "5:\tlearn: 0.4800561\ttotal: 8.07ms\tremaining: 126ms\n",
      "6:\tlearn: 0.4620768\ttotal: 9.43ms\tremaining: 125ms\n",
      "7:\tlearn: 0.4512048\ttotal: 10.6ms\tremaining: 122ms\n",
      "8:\tlearn: 0.4426943\ttotal: 12ms\tremaining: 121ms\n",
      "9:\tlearn: 0.4302479\ttotal: 13.2ms\tremaining: 119ms\n",
      "10:\tlearn: 0.4244405\ttotal: 14.5ms\tremaining: 117ms\n",
      "11:\tlearn: 0.4183489\ttotal: 15.7ms\tremaining: 115ms\n",
      "12:\tlearn: 0.4113344\ttotal: 17ms\tremaining: 114ms\n",
      "13:\tlearn: 0.4058138\ttotal: 18.2ms\tremaining: 112ms\n",
      "14:\tlearn: 0.4022446\ttotal: 19.4ms\tremaining: 110ms\n",
      "15:\tlearn: 0.3984742\ttotal: 20.7ms\tremaining: 109ms\n",
      "16:\tlearn: 0.3954348\ttotal: 22.1ms\tremaining: 108ms\n",
      "17:\tlearn: 0.3932112\ttotal: 23.2ms\tremaining: 106ms\n",
      "18:\tlearn: 0.3894545\ttotal: 24.5ms\tremaining: 104ms\n",
      "19:\tlearn: 0.3878219\ttotal: 25.9ms\tremaining: 103ms\n",
      "20:\tlearn: 0.3854561\ttotal: 27.1ms\tremaining: 102ms\n",
      "21:\tlearn: 0.3827987\ttotal: 28.5ms\tremaining: 101ms\n",
      "22:\tlearn: 0.3805125\ttotal: 29.7ms\tremaining: 99.5ms\n",
      "23:\tlearn: 0.3793491\ttotal: 30.9ms\tremaining: 97.8ms\n",
      "24:\tlearn: 0.3772389\ttotal: 32.1ms\tremaining: 96.4ms\n",
      "25:\tlearn: 0.3764924\ttotal: 33.5ms\tremaining: 95.4ms\n",
      "26:\tlearn: 0.3753452\ttotal: 34.7ms\tremaining: 93.9ms\n",
      "27:\tlearn: 0.3740858\ttotal: 36.1ms\tremaining: 92.7ms\n",
      "28:\tlearn: 0.3733641\ttotal: 37.3ms\tremaining: 91.3ms\n",
      "29:\tlearn: 0.3725057\ttotal: 38.5ms\tremaining: 89.9ms\n",
      "30:\tlearn: 0.3719425\ttotal: 39.8ms\tremaining: 88.5ms\n",
      "31:\tlearn: 0.3704107\ttotal: 41.2ms\tremaining: 87.6ms\n",
      "32:\tlearn: 0.3697142\ttotal: 42.7ms\tremaining: 86.6ms\n",
      "33:\tlearn: 0.3690502\ttotal: 43.9ms\tremaining: 85.2ms\n",
      "34:\tlearn: 0.3683445\ttotal: 45.3ms\tremaining: 84.1ms\n",
      "35:\tlearn: 0.3674815\ttotal: 46.6ms\tremaining: 82.9ms\n",
      "36:\tlearn: 0.3668064\ttotal: 47.9ms\tremaining: 81.6ms\n",
      "37:\tlearn: 0.3659613\ttotal: 49.2ms\tremaining: 80.3ms\n",
      "38:\tlearn: 0.3655466\ttotal: 50.4ms\tremaining: 78.8ms\n",
      "39:\tlearn: 0.3649918\ttotal: 51.7ms\tremaining: 77.5ms\n",
      "40:\tlearn: 0.3643789\ttotal: 52.9ms\tremaining: 76.1ms\n",
      "41:\tlearn: 0.3643620\ttotal: 53.9ms\tremaining: 74.4ms\n",
      "42:\tlearn: 0.3641483\ttotal: 55ms\tremaining: 72.9ms\n",
      "43:\tlearn: 0.3636153\ttotal: 56.3ms\tremaining: 71.6ms\n",
      "44:\tlearn: 0.3632448\ttotal: 57.6ms\tremaining: 70.4ms\n",
      "45:\tlearn: 0.3627218\ttotal: 58.8ms\tremaining: 69.1ms\n",
      "46:\tlearn: 0.3621225\ttotal: 60.1ms\tremaining: 67.8ms\n",
      "47:\tlearn: 0.3615025\ttotal: 61.2ms\tremaining: 66.3ms\n",
      "48:\tlearn: 0.3612270\ttotal: 62.5ms\tremaining: 65ms\n",
      "49:\tlearn: 0.3608228\ttotal: 63.8ms\tremaining: 63.8ms\n",
      "50:\tlearn: 0.3606684\ttotal: 65ms\tremaining: 62.5ms\n",
      "51:\tlearn: 0.3603294\ttotal: 66.3ms\tremaining: 61.2ms\n",
      "52:\tlearn: 0.3599275\ttotal: 67.4ms\tremaining: 59.8ms\n",
      "53:\tlearn: 0.3594035\ttotal: 68.7ms\tremaining: 58.5ms\n",
      "54:\tlearn: 0.3590744\ttotal: 70ms\tremaining: 57.3ms\n",
      "55:\tlearn: 0.3588927\ttotal: 71.2ms\tremaining: 56ms\n",
      "56:\tlearn: 0.3583690\ttotal: 72.5ms\tremaining: 54.7ms\n",
      "57:\tlearn: 0.3581853\ttotal: 73.6ms\tremaining: 53.3ms\n",
      "58:\tlearn: 0.3579687\ttotal: 74.8ms\tremaining: 52ms\n",
      "59:\tlearn: 0.3575824\ttotal: 75.9ms\tremaining: 50.6ms\n",
      "60:\tlearn: 0.3573363\ttotal: 77.2ms\tremaining: 49.3ms\n",
      "61:\tlearn: 0.3571103\ttotal: 78.4ms\tremaining: 48.1ms\n",
      "62:\tlearn: 0.3569242\ttotal: 79.7ms\tremaining: 46.8ms\n",
      "63:\tlearn: 0.3565860\ttotal: 80.9ms\tremaining: 45.5ms\n",
      "64:\tlearn: 0.3564210\ttotal: 82ms\tremaining: 44.2ms\n",
      "65:\tlearn: 0.3561461\ttotal: 83.2ms\tremaining: 42.9ms\n",
      "66:\tlearn: 0.3557004\ttotal: 84.4ms\tremaining: 41.6ms\n",
      "67:\tlearn: 0.3555813\ttotal: 85.6ms\tremaining: 40.3ms\n",
      "68:\tlearn: 0.3553592\ttotal: 87ms\tremaining: 39.1ms\n",
      "69:\tlearn: 0.3551687\ttotal: 88.1ms\tremaining: 37.8ms\n",
      "70:\tlearn: 0.3549551\ttotal: 89.3ms\tremaining: 36.5ms\n",
      "71:\tlearn: 0.3546416\ttotal: 90.5ms\tremaining: 35.2ms\n",
      "72:\tlearn: 0.3540173\ttotal: 91.8ms\tremaining: 34ms\n",
      "73:\tlearn: 0.3537450\ttotal: 93ms\tremaining: 32.7ms\n",
      "74:\tlearn: 0.3534127\ttotal: 94.2ms\tremaining: 31.4ms\n",
      "75:\tlearn: 0.3532020\ttotal: 95.5ms\tremaining: 30.2ms\n",
      "76:\tlearn: 0.3529694\ttotal: 96.7ms\tremaining: 28.9ms\n",
      "77:\tlearn: 0.3527207\ttotal: 97.9ms\tremaining: 27.6ms\n",
      "78:\tlearn: 0.3527182\ttotal: 99ms\tremaining: 26.3ms\n",
      "79:\tlearn: 0.3522723\ttotal: 100ms\tremaining: 25ms\n",
      "80:\tlearn: 0.3518512\ttotal: 101ms\tremaining: 23.8ms\n",
      "81:\tlearn: 0.3515399\ttotal: 103ms\tremaining: 22.6ms\n",
      "82:\tlearn: 0.3513971\ttotal: 104ms\tremaining: 21.3ms\n",
      "83:\tlearn: 0.3512605\ttotal: 105ms\tremaining: 20ms\n",
      "84:\tlearn: 0.3508614\ttotal: 106ms\tremaining: 18.8ms\n",
      "85:\tlearn: 0.3507095\ttotal: 108ms\tremaining: 17.6ms\n",
      "86:\tlearn: 0.3506178\ttotal: 109ms\tremaining: 16.3ms\n",
      "87:\tlearn: 0.3501136\ttotal: 110ms\tremaining: 15.1ms\n",
      "88:\tlearn: 0.3498576\ttotal: 112ms\tremaining: 13.8ms\n",
      "89:\tlearn: 0.3494233\ttotal: 113ms\tremaining: 12.6ms\n",
      "90:\tlearn: 0.3492425\ttotal: 114ms\tremaining: 11.3ms\n",
      "91:\tlearn: 0.3489166\ttotal: 115ms\tremaining: 10ms\n",
      "92:\tlearn: 0.3484060\ttotal: 117ms\tremaining: 8.78ms\n",
      "93:\tlearn: 0.3480547\ttotal: 118ms\tremaining: 7.52ms\n",
      "94:\tlearn: 0.3478151\ttotal: 119ms\tremaining: 6.27ms\n",
      "95:\tlearn: 0.3474565\ttotal: 120ms\tremaining: 5.02ms\n",
      "96:\tlearn: 0.3469188\ttotal: 122ms\tremaining: 3.76ms\n",
      "97:\tlearn: 0.3464758\ttotal: 123ms\tremaining: 2.51ms\n",
      "98:\tlearn: 0.3459816\ttotal: 124ms\tremaining: 1.25ms\n",
      "99:\tlearn: 0.3457659\ttotal: 126ms\tremaining: 0us\n"
     ]
    },
    {
     "name": "stdout",
     "output_type": "stream",
     "text": [
      "0:\tlearn: 0.6381863\ttotal: 1.27ms\tremaining: 125ms\n",
      "1:\tlearn: 0.5892666\ttotal: 2.57ms\tremaining: 126ms\n",
      "2:\tlearn: 0.5521789\ttotal: 3.83ms\tremaining: 124ms\n",
      "3:\tlearn: 0.5185180\ttotal: 5.11ms\tremaining: 123ms\n",
      "4:\tlearn: 0.4999793\ttotal: 6.18ms\tremaining: 118ms\n",
      "5:\tlearn: 0.4828666\ttotal: 7.45ms\tremaining: 117ms\n",
      "6:\tlearn: 0.4669297\ttotal: 8.66ms\tremaining: 115ms\n",
      "7:\tlearn: 0.4516138\ttotal: 9.91ms\tremaining: 114ms\n",
      "8:\tlearn: 0.4416578\ttotal: 11.2ms\tremaining: 113ms\n",
      "9:\tlearn: 0.4323115\ttotal: 12.4ms\tremaining: 112ms\n",
      "10:\tlearn: 0.4260339\ttotal: 13.6ms\tremaining: 110ms\n",
      "11:\tlearn: 0.4169935\ttotal: 14.9ms\tremaining: 109ms\n",
      "12:\tlearn: 0.4114269\ttotal: 16.3ms\tremaining: 109ms\n",
      "13:\tlearn: 0.4065939\ttotal: 17.5ms\tremaining: 107ms\n",
      "14:\tlearn: 0.4019563\ttotal: 18.8ms\tremaining: 106ms\n",
      "15:\tlearn: 0.3991145\ttotal: 20ms\tremaining: 105ms\n",
      "16:\tlearn: 0.3965614\ttotal: 21.2ms\tremaining: 104ms\n",
      "17:\tlearn: 0.3929395\ttotal: 22.5ms\tremaining: 103ms\n",
      "18:\tlearn: 0.3903829\ttotal: 23.8ms\tremaining: 101ms\n",
      "19:\tlearn: 0.3877999\ttotal: 25ms\tremaining: 100ms\n",
      "20:\tlearn: 0.3849879\ttotal: 26.3ms\tremaining: 99ms\n",
      "21:\tlearn: 0.3828192\ttotal: 27.6ms\tremaining: 97.9ms\n",
      "22:\tlearn: 0.3817052\ttotal: 28.8ms\tremaining: 96.4ms\n",
      "23:\tlearn: 0.3797191\ttotal: 30.2ms\tremaining: 95.6ms\n",
      "24:\tlearn: 0.3784329\ttotal: 31.3ms\tremaining: 94ms\n",
      "25:\tlearn: 0.3771320\ttotal: 32.5ms\tremaining: 92.5ms\n",
      "26:\tlearn: 0.3759858\ttotal: 33.7ms\tremaining: 91.2ms\n",
      "27:\tlearn: 0.3749744\ttotal: 34.9ms\tremaining: 89.8ms\n",
      "28:\tlearn: 0.3739002\ttotal: 36.2ms\tremaining: 88.7ms\n",
      "29:\tlearn: 0.3733237\ttotal: 37.5ms\tremaining: 87.5ms\n",
      "30:\tlearn: 0.3719095\ttotal: 38.7ms\tremaining: 86.2ms\n",
      "31:\tlearn: 0.3710621\ttotal: 39.9ms\tremaining: 84.8ms\n",
      "32:\tlearn: 0.3703093\ttotal: 41.2ms\tremaining: 83.6ms\n",
      "33:\tlearn: 0.3694116\ttotal: 42.4ms\tremaining: 82.3ms\n",
      "34:\tlearn: 0.3686981\ttotal: 43.6ms\tremaining: 81ms\n",
      "35:\tlearn: 0.3681269\ttotal: 44.8ms\tremaining: 79.7ms\n",
      "36:\tlearn: 0.3671185\ttotal: 46ms\tremaining: 78.4ms\n",
      "37:\tlearn: 0.3665108\ttotal: 47.2ms\tremaining: 77.1ms\n",
      "38:\tlearn: 0.3656595\ttotal: 48.5ms\tremaining: 75.8ms\n",
      "39:\tlearn: 0.3649245\ttotal: 49.7ms\tremaining: 74.5ms\n",
      "40:\tlearn: 0.3644359\ttotal: 50.9ms\tremaining: 73.2ms\n",
      "41:\tlearn: 0.3629798\ttotal: 52.2ms\tremaining: 72.1ms\n",
      "42:\tlearn: 0.3622802\ttotal: 53.4ms\tremaining: 70.8ms\n",
      "43:\tlearn: 0.3620399\ttotal: 54.6ms\tremaining: 69.5ms\n",
      "44:\tlearn: 0.3615831\ttotal: 55.8ms\tremaining: 68.2ms\n",
      "45:\tlearn: 0.3611539\ttotal: 57ms\tremaining: 66.9ms\n",
      "46:\tlearn: 0.3609294\ttotal: 58.3ms\tremaining: 65.7ms\n",
      "47:\tlearn: 0.3606108\ttotal: 59.6ms\tremaining: 64.6ms\n",
      "48:\tlearn: 0.3594322\ttotal: 61ms\tremaining: 63.5ms\n",
      "49:\tlearn: 0.3590173\ttotal: 62.1ms\tremaining: 62.1ms\n",
      "50:\tlearn: 0.3587233\ttotal: 63.4ms\tremaining: 60.9ms\n",
      "51:\tlearn: 0.3585198\ttotal: 64.6ms\tremaining: 59.6ms\n",
      "52:\tlearn: 0.3581745\ttotal: 65.8ms\tremaining: 58.3ms\n",
      "53:\tlearn: 0.3577002\ttotal: 67ms\tremaining: 57.1ms\n",
      "54:\tlearn: 0.3575154\ttotal: 68.2ms\tremaining: 55.8ms\n",
      "55:\tlearn: 0.3570058\ttotal: 69.6ms\tremaining: 54.7ms\n",
      "56:\tlearn: 0.3566616\ttotal: 70.8ms\tremaining: 53.4ms\n",
      "57:\tlearn: 0.3565966\ttotal: 72.1ms\tremaining: 52.2ms\n",
      "58:\tlearn: 0.3563923\ttotal: 73.3ms\tremaining: 50.9ms\n",
      "59:\tlearn: 0.3560060\ttotal: 74.5ms\tremaining: 49.7ms\n",
      "60:\tlearn: 0.3555126\ttotal: 76.1ms\tremaining: 48.6ms\n",
      "61:\tlearn: 0.3551799\ttotal: 77.3ms\tremaining: 47.4ms\n",
      "62:\tlearn: 0.3547602\ttotal: 78.6ms\tremaining: 46.2ms\n",
      "63:\tlearn: 0.3545030\ttotal: 79.9ms\tremaining: 44.9ms\n",
      "64:\tlearn: 0.3542738\ttotal: 81.1ms\tremaining: 43.7ms\n",
      "65:\tlearn: 0.3540001\ttotal: 82.3ms\tremaining: 42.4ms\n",
      "66:\tlearn: 0.3536477\ttotal: 83.5ms\tremaining: 41.1ms\n",
      "67:\tlearn: 0.3534793\ttotal: 84.7ms\tremaining: 39.9ms\n",
      "68:\tlearn: 0.3524671\ttotal: 86.1ms\tremaining: 38.7ms\n",
      "69:\tlearn: 0.3521945\ttotal: 87.3ms\tremaining: 37.4ms\n",
      "70:\tlearn: 0.3519290\ttotal: 88.5ms\tremaining: 36.1ms\n",
      "71:\tlearn: 0.3514033\ttotal: 89.8ms\tremaining: 34.9ms\n",
      "72:\tlearn: 0.3511506\ttotal: 91ms\tremaining: 33.7ms\n",
      "73:\tlearn: 0.3507618\ttotal: 92.2ms\tremaining: 32.4ms\n",
      "74:\tlearn: 0.3506404\ttotal: 93.4ms\tremaining: 31.1ms\n",
      "75:\tlearn: 0.3503983\ttotal: 94.5ms\tremaining: 29.9ms\n",
      "76:\tlearn: 0.3499714\ttotal: 95.8ms\tremaining: 28.6ms\n",
      "77:\tlearn: 0.3496354\ttotal: 97.1ms\tremaining: 27.4ms\n",
      "78:\tlearn: 0.3495095\ttotal: 98.3ms\tremaining: 26.1ms\n",
      "79:\tlearn: 0.3493437\ttotal: 99.5ms\tremaining: 24.9ms\n",
      "80:\tlearn: 0.3492397\ttotal: 101ms\tremaining: 23.6ms\n",
      "81:\tlearn: 0.3489476\ttotal: 102ms\tremaining: 22.4ms\n",
      "82:\tlearn: 0.3488285\ttotal: 103ms\tremaining: 21.2ms\n",
      "83:\tlearn: 0.3486026\ttotal: 105ms\tremaining: 20ms\n",
      "84:\tlearn: 0.3485554\ttotal: 106ms\tremaining: 18.7ms\n",
      "85:\tlearn: 0.3483788\ttotal: 107ms\tremaining: 17.5ms\n",
      "86:\tlearn: 0.3480940\ttotal: 109ms\tremaining: 16.2ms\n",
      "87:\tlearn: 0.3477108\ttotal: 110ms\tremaining: 15ms\n",
      "88:\tlearn: 0.3473518\ttotal: 111ms\tremaining: 13.7ms\n",
      "89:\tlearn: 0.3470675\ttotal: 112ms\tremaining: 12.5ms\n",
      "90:\tlearn: 0.3467986\ttotal: 114ms\tremaining: 11.2ms\n",
      "91:\tlearn: 0.3460027\ttotal: 115ms\tremaining: 9.99ms\n",
      "92:\tlearn: 0.3458505\ttotal: 116ms\tremaining: 8.75ms\n",
      "93:\tlearn: 0.3455813\ttotal: 117ms\tremaining: 7.5ms\n",
      "94:\tlearn: 0.3453474\ttotal: 119ms\tremaining: 6.25ms\n",
      "95:\tlearn: 0.3451098\ttotal: 120ms\tremaining: 5ms\n",
      "96:\tlearn: 0.3447763\ttotal: 121ms\tremaining: 3.75ms\n",
      "97:\tlearn: 0.3439339\ttotal: 123ms\tremaining: 2.5ms\n",
      "98:\tlearn: 0.3436956\ttotal: 124ms\tremaining: 1.25ms\n",
      "99:\tlearn: 0.3434445\ttotal: 125ms\tremaining: 0us\n",
      "0:\tlearn: 0.4113584\ttotal: 4.2ms\tremaining: 206ms\n",
      "1:\tlearn: 0.3659607\ttotal: 8.07ms\tremaining: 194ms\n",
      "2:\tlearn: 0.3617583\ttotal: 9.81ms\tremaining: 154ms\n",
      "3:\tlearn: 0.3428581\ttotal: 13.6ms\tremaining: 156ms\n",
      "4:\tlearn: 0.3324049\ttotal: 17.4ms\tremaining: 157ms\n",
      "5:\tlearn: 0.3209701\ttotal: 21.2ms\tremaining: 155ms\n",
      "6:\tlearn: 0.3138177\ttotal: 24.9ms\tremaining: 153ms\n",
      "7:\tlearn: 0.3079220\ttotal: 28.7ms\tremaining: 151ms\n",
      "8:\tlearn: 0.3060213\ttotal: 32.3ms\tremaining: 147ms\n",
      "9:\tlearn: 0.2984900\ttotal: 36.1ms\tremaining: 144ms\n",
      "10:\tlearn: 0.2848017\ttotal: 39.8ms\tremaining: 141ms\n",
      "11:\tlearn: 0.2780954\ttotal: 43.7ms\tremaining: 138ms\n",
      "12:\tlearn: 0.2676867\ttotal: 47.6ms\tremaining: 136ms\n",
      "13:\tlearn: 0.2603075\ttotal: 51.4ms\tremaining: 132ms\n",
      "14:\tlearn: 0.2547478\ttotal: 55.3ms\tremaining: 129ms\n",
      "15:\tlearn: 0.2504050\ttotal: 59ms\tremaining: 125ms\n",
      "16:\tlearn: 0.2375746\ttotal: 62.8ms\tremaining: 122ms\n",
      "17:\tlearn: 0.2266396\ttotal: 66.5ms\tremaining: 118ms\n",
      "18:\tlearn: 0.2166440\ttotal: 70.3ms\tremaining: 115ms\n",
      "19:\tlearn: 0.2120267\ttotal: 74.1ms\tremaining: 111ms\n",
      "20:\tlearn: 0.2064702\ttotal: 78ms\tremaining: 108ms\n",
      "21:\tlearn: 0.2002871\ttotal: 81.8ms\tremaining: 104ms\n",
      "22:\tlearn: 0.1924822\ttotal: 85.5ms\tremaining: 100ms\n",
      "23:\tlearn: 0.1885395\ttotal: 89.5ms\tremaining: 96.9ms\n",
      "24:\tlearn: 0.1810470\ttotal: 93.2ms\tremaining: 93.2ms\n",
      "25:\tlearn: 0.1764353\ttotal: 97.1ms\tremaining: 89.6ms\n",
      "26:\tlearn: 0.1717207\ttotal: 101ms\tremaining: 85.8ms\n",
      "27:\tlearn: 0.1671668\ttotal: 104ms\tremaining: 82.1ms\n",
      "28:\tlearn: 0.1639474\ttotal: 108ms\tremaining: 78.4ms\n",
      "29:\tlearn: 0.1591386\ttotal: 112ms\tremaining: 74.7ms\n",
      "30:\tlearn: 0.1567801\ttotal: 116ms\tremaining: 70.9ms\n",
      "31:\tlearn: 0.1544327\ttotal: 119ms\tremaining: 67.1ms\n",
      "32:\tlearn: 0.1517223\ttotal: 123ms\tremaining: 63.6ms\n",
      "33:\tlearn: 0.1491217\ttotal: 127ms\tremaining: 59.8ms\n",
      "34:\tlearn: 0.1471513\ttotal: 131ms\tremaining: 56.1ms\n",
      "35:\tlearn: 0.1433552\ttotal: 135ms\tremaining: 52.4ms\n",
      "36:\tlearn: 0.1381116\ttotal: 138ms\tremaining: 48.6ms\n",
      "37:\tlearn: 0.1352156\ttotal: 142ms\tremaining: 44.9ms\n",
      "38:\tlearn: 0.1312299\ttotal: 146ms\tremaining: 41.1ms\n",
      "39:\tlearn: 0.1292512\ttotal: 150ms\tremaining: 37.4ms\n",
      "40:\tlearn: 0.1264618\ttotal: 154ms\tremaining: 33.7ms\n",
      "41:\tlearn: 0.1230510\ttotal: 157ms\tremaining: 30ms\n",
      "42:\tlearn: 0.1203180\ttotal: 161ms\tremaining: 26.2ms\n",
      "43:\tlearn: 0.1170900\ttotal: 165ms\tremaining: 22.5ms\n",
      "44:\tlearn: 0.1138805\ttotal: 169ms\tremaining: 18.8ms\n",
      "45:\tlearn: 0.1112285\ttotal: 173ms\tremaining: 15ms\n",
      "46:\tlearn: 0.1079235\ttotal: 176ms\tremaining: 11.3ms\n",
      "47:\tlearn: 0.1044151\ttotal: 180ms\tremaining: 7.5ms\n",
      "48:\tlearn: 0.1004840\ttotal: 184ms\tremaining: 3.75ms\n",
      "49:\tlearn: 0.0976213\ttotal: 188ms\tremaining: 0us\n",
      "0:\tlearn: 0.4135280\ttotal: 3.96ms\tremaining: 194ms\n",
      "1:\tlearn: 0.3639098\ttotal: 7.77ms\tremaining: 187ms\n",
      "2:\tlearn: 0.3567428\ttotal: 11.6ms\tremaining: 181ms\n",
      "3:\tlearn: 0.3446750\ttotal: 15.4ms\tremaining: 177ms\n",
      "4:\tlearn: 0.3329722\ttotal: 19.2ms\tremaining: 173ms\n",
      "5:\tlearn: 0.3207850\ttotal: 23.1ms\tremaining: 170ms\n",
      "6:\tlearn: 0.3099999\ttotal: 26.9ms\tremaining: 165ms\n",
      "7:\tlearn: 0.2994222\ttotal: 30.6ms\tremaining: 161ms\n",
      "8:\tlearn: 0.2893501\ttotal: 34.4ms\tremaining: 157ms\n",
      "9:\tlearn: 0.2808087\ttotal: 38.1ms\tremaining: 152ms\n",
      "10:\tlearn: 0.2659396\ttotal: 41.8ms\tremaining: 148ms\n",
      "11:\tlearn: 0.2616481\ttotal: 45.5ms\tremaining: 144ms\n",
      "12:\tlearn: 0.2529310\ttotal: 49.4ms\tremaining: 141ms\n",
      "13:\tlearn: 0.2467987\ttotal: 53.1ms\tremaining: 137ms\n",
      "14:\tlearn: 0.2401485\ttotal: 57ms\tremaining: 133ms\n",
      "15:\tlearn: 0.2334146\ttotal: 60.6ms\tremaining: 129ms\n",
      "16:\tlearn: 0.2250874\ttotal: 64.3ms\tremaining: 125ms\n",
      "17:\tlearn: 0.2174116\ttotal: 68.2ms\tremaining: 121ms\n",
      "18:\tlearn: 0.2128781\ttotal: 71.9ms\tremaining: 117ms\n",
      "19:\tlearn: 0.2057577\ttotal: 75.9ms\tremaining: 114ms\n",
      "20:\tlearn: 0.2001100\ttotal: 80.4ms\tremaining: 111ms\n",
      "21:\tlearn: 0.1960336\ttotal: 84.3ms\tremaining: 107ms\n",
      "22:\tlearn: 0.1928618\ttotal: 88.3ms\tremaining: 104ms\n",
      "23:\tlearn: 0.1863214\ttotal: 92.1ms\tremaining: 99.8ms\n",
      "24:\tlearn: 0.1795634\ttotal: 95.9ms\tremaining: 95.9ms\n",
      "25:\tlearn: 0.1749886\ttotal: 99.8ms\tremaining: 92.1ms\n",
      "26:\tlearn: 0.1706891\ttotal: 104ms\tremaining: 88.3ms\n",
      "27:\tlearn: 0.1659992\ttotal: 107ms\tremaining: 84.3ms\n",
      "28:\tlearn: 0.1619292\ttotal: 111ms\tremaining: 80.6ms\n",
      "29:\tlearn: 0.1588283\ttotal: 115ms\tremaining: 76.7ms\n",
      "30:\tlearn: 0.1545560\ttotal: 119ms\tremaining: 72.8ms\n",
      "31:\tlearn: 0.1514306\ttotal: 123ms\tremaining: 68.9ms\n",
      "32:\tlearn: 0.1454030\ttotal: 126ms\tremaining: 65.1ms\n",
      "33:\tlearn: 0.1420908\ttotal: 130ms\tremaining: 61.2ms\n",
      "34:\tlearn: 0.1388025\ttotal: 134ms\tremaining: 57.4ms\n",
      "35:\tlearn: 0.1360009\ttotal: 138ms\tremaining: 53.6ms\n",
      "36:\tlearn: 0.1339605\ttotal: 142ms\tremaining: 49.8ms\n",
      "37:\tlearn: 0.1300334\ttotal: 146ms\tremaining: 46ms\n",
      "38:\tlearn: 0.1250325\ttotal: 149ms\tremaining: 42.2ms\n",
      "39:\tlearn: 0.1217889\ttotal: 153ms\tremaining: 38.3ms\n",
      "40:\tlearn: 0.1180423\ttotal: 157ms\tremaining: 34.5ms\n",
      "41:\tlearn: 0.1123812\ttotal: 161ms\tremaining: 30.7ms\n",
      "42:\tlearn: 0.1107294\ttotal: 165ms\tremaining: 26.8ms\n",
      "43:\tlearn: 0.1077738\ttotal: 169ms\tremaining: 23ms\n",
      "44:\tlearn: 0.1049189\ttotal: 173ms\tremaining: 19.2ms\n",
      "45:\tlearn: 0.1020285\ttotal: 177ms\tremaining: 15.4ms\n",
      "46:\tlearn: 0.0996403\ttotal: 180ms\tremaining: 11.5ms\n",
      "47:\tlearn: 0.0981406\ttotal: 184ms\tremaining: 7.68ms\n",
      "48:\tlearn: 0.0964232\ttotal: 188ms\tremaining: 3.84ms\n",
      "49:\tlearn: 0.0928446\ttotal: 192ms\tremaining: 0us\n"
     ]
    },
    {
     "name": "stdout",
     "output_type": "stream",
     "text": [
      "0:\tlearn: 0.4114685\ttotal: 4.08ms\tremaining: 200ms\n",
      "1:\tlearn: 0.3641977\ttotal: 8.09ms\tremaining: 194ms\n",
      "2:\tlearn: 0.3398536\ttotal: 11.9ms\tremaining: 187ms\n",
      "3:\tlearn: 0.3341407\ttotal: 15.7ms\tremaining: 180ms\n",
      "4:\tlearn: 0.3224065\ttotal: 19.5ms\tremaining: 176ms\n",
      "5:\tlearn: 0.3131292\ttotal: 23.3ms\tremaining: 171ms\n",
      "6:\tlearn: 0.3083988\ttotal: 27.2ms\tremaining: 167ms\n",
      "7:\tlearn: 0.3024085\ttotal: 31ms\tremaining: 163ms\n",
      "8:\tlearn: 0.2945591\ttotal: 34.8ms\tremaining: 159ms\n",
      "9:\tlearn: 0.2825302\ttotal: 38.8ms\tremaining: 155ms\n",
      "10:\tlearn: 0.2762326\ttotal: 42.5ms\tremaining: 151ms\n",
      "11:\tlearn: 0.2669198\ttotal: 46.4ms\tremaining: 147ms\n",
      "12:\tlearn: 0.2602255\ttotal: 50.1ms\tremaining: 143ms\n",
      "13:\tlearn: 0.2512461\ttotal: 54ms\tremaining: 139ms\n",
      "14:\tlearn: 0.2421668\ttotal: 57.7ms\tremaining: 135ms\n",
      "15:\tlearn: 0.2381504\ttotal: 61.6ms\tremaining: 131ms\n",
      "16:\tlearn: 0.2334667\ttotal: 65.5ms\tremaining: 127ms\n",
      "17:\tlearn: 0.2299714\ttotal: 69.4ms\tremaining: 123ms\n",
      "18:\tlearn: 0.2210705\ttotal: 73.4ms\tremaining: 120ms\n",
      "19:\tlearn: 0.2152117\ttotal: 77.4ms\tremaining: 116ms\n",
      "20:\tlearn: 0.2087891\ttotal: 81.2ms\tremaining: 112ms\n",
      "21:\tlearn: 0.2039772\ttotal: 85.1ms\tremaining: 108ms\n",
      "22:\tlearn: 0.1988292\ttotal: 88.9ms\tremaining: 104ms\n",
      "23:\tlearn: 0.1885861\ttotal: 92.7ms\tremaining: 100ms\n",
      "24:\tlearn: 0.1837496\ttotal: 96.4ms\tremaining: 96.4ms\n",
      "25:\tlearn: 0.1796394\ttotal: 100ms\tremaining: 92.4ms\n",
      "26:\tlearn: 0.1745709\ttotal: 104ms\tremaining: 88.7ms\n",
      "27:\tlearn: 0.1706431\ttotal: 108ms\tremaining: 84.9ms\n",
      "28:\tlearn: 0.1646977\ttotal: 112ms\tremaining: 81ms\n",
      "29:\tlearn: 0.1616673\ttotal: 116ms\tremaining: 77.1ms\n",
      "30:\tlearn: 0.1553922\ttotal: 119ms\tremaining: 73.2ms\n",
      "31:\tlearn: 0.1504119\ttotal: 123ms\tremaining: 69.3ms\n",
      "32:\tlearn: 0.1473624\ttotal: 127ms\tremaining: 65.4ms\n",
      "33:\tlearn: 0.1438783\ttotal: 131ms\tremaining: 61.6ms\n",
      "34:\tlearn: 0.1409819\ttotal: 135ms\tremaining: 57.8ms\n",
      "35:\tlearn: 0.1374533\ttotal: 139ms\tremaining: 53.9ms\n",
      "36:\tlearn: 0.1345503\ttotal: 142ms\tremaining: 50ms\n",
      "37:\tlearn: 0.1324526\ttotal: 146ms\tremaining: 46.1ms\n",
      "38:\tlearn: 0.1288607\ttotal: 150ms\tremaining: 42.3ms\n",
      "39:\tlearn: 0.1260631\ttotal: 154ms\tremaining: 38.4ms\n",
      "40:\tlearn: 0.1214176\ttotal: 157ms\tremaining: 34.5ms\n",
      "41:\tlearn: 0.1162123\ttotal: 161ms\tremaining: 30.7ms\n",
      "42:\tlearn: 0.1125076\ttotal: 165ms\tremaining: 26.9ms\n",
      "43:\tlearn: 0.1102160\ttotal: 169ms\tremaining: 23ms\n",
      "44:\tlearn: 0.1091343\ttotal: 173ms\tremaining: 19.2ms\n",
      "45:\tlearn: 0.1061292\ttotal: 177ms\tremaining: 15.3ms\n",
      "46:\tlearn: 0.1041882\ttotal: 180ms\tremaining: 11.5ms\n",
      "47:\tlearn: 0.1016509\ttotal: 184ms\tremaining: 7.66ms\n",
      "48:\tlearn: 0.0988795\ttotal: 188ms\tremaining: 3.83ms\n",
      "49:\tlearn: 0.0969354\ttotal: 191ms\tremaining: 0us\n",
      "0:\tlearn: 0.4054673\ttotal: 4.11ms\tremaining: 201ms\n",
      "1:\tlearn: 0.3612231\ttotal: 8.34ms\tremaining: 200ms\n",
      "2:\tlearn: 0.3378411\ttotal: 12.2ms\tremaining: 192ms\n",
      "3:\tlearn: 0.3330109\ttotal: 16.1ms\tremaining: 185ms\n",
      "4:\tlearn: 0.3326858\ttotal: 17.1ms\tremaining: 154ms\n",
      "5:\tlearn: 0.3315245\ttotal: 18.3ms\tremaining: 134ms\n",
      "6:\tlearn: 0.3126561\ttotal: 22ms\tremaining: 135ms\n",
      "7:\tlearn: 0.3016570\ttotal: 26.1ms\tremaining: 137ms\n",
      "8:\tlearn: 0.2958188\ttotal: 30.1ms\tremaining: 137ms\n",
      "9:\tlearn: 0.2852935\ttotal: 34ms\tremaining: 136ms\n",
      "10:\tlearn: 0.2714023\ttotal: 38ms\tremaining: 135ms\n",
      "11:\tlearn: 0.2610284\ttotal: 41.7ms\tremaining: 132ms\n",
      "12:\tlearn: 0.2537918\ttotal: 45.5ms\tremaining: 130ms\n",
      "13:\tlearn: 0.2475617\ttotal: 49.4ms\tremaining: 127ms\n",
      "14:\tlearn: 0.2428936\ttotal: 53.3ms\tremaining: 124ms\n",
      "15:\tlearn: 0.2307991\ttotal: 57.3ms\tremaining: 122ms\n",
      "16:\tlearn: 0.2257171\ttotal: 61.1ms\tremaining: 119ms\n",
      "17:\tlearn: 0.2220154\ttotal: 64.9ms\tremaining: 115ms\n",
      "18:\tlearn: 0.2131634\ttotal: 68.9ms\tremaining: 112ms\n",
      "19:\tlearn: 0.2060565\ttotal: 72.9ms\tremaining: 109ms\n",
      "20:\tlearn: 0.2020324\ttotal: 76.9ms\tremaining: 106ms\n",
      "21:\tlearn: 0.1958197\ttotal: 80.8ms\tremaining: 103ms\n",
      "22:\tlearn: 0.1858526\ttotal: 84.6ms\tremaining: 99.3ms\n",
      "23:\tlearn: 0.1825287\ttotal: 88.5ms\tremaining: 95.9ms\n",
      "24:\tlearn: 0.1790673\ttotal: 92.5ms\tremaining: 92.5ms\n",
      "25:\tlearn: 0.1713035\ttotal: 96.4ms\tremaining: 89ms\n",
      "26:\tlearn: 0.1680003\ttotal: 100ms\tremaining: 85.2ms\n",
      "27:\tlearn: 0.1623995\ttotal: 104ms\tremaining: 81.7ms\n",
      "28:\tlearn: 0.1580921\ttotal: 108ms\tremaining: 78ms\n",
      "29:\tlearn: 0.1533677\ttotal: 112ms\tremaining: 74.4ms\n",
      "30:\tlearn: 0.1496083\ttotal: 115ms\tremaining: 70.7ms\n",
      "31:\tlearn: 0.1460915\ttotal: 119ms\tremaining: 67ms\n",
      "32:\tlearn: 0.1434061\ttotal: 123ms\tremaining: 63.3ms\n",
      "33:\tlearn: 0.1395012\ttotal: 127ms\tremaining: 59.6ms\n",
      "34:\tlearn: 0.1362523\ttotal: 131ms\tremaining: 56ms\n",
      "35:\tlearn: 0.1333398\ttotal: 135ms\tremaining: 52.4ms\n",
      "36:\tlearn: 0.1300984\ttotal: 139ms\tremaining: 48.7ms\n",
      "37:\tlearn: 0.1279235\ttotal: 143ms\tremaining: 45.1ms\n",
      "38:\tlearn: 0.1225193\ttotal: 146ms\tremaining: 41.3ms\n",
      "39:\tlearn: 0.1190597\ttotal: 150ms\tremaining: 37.6ms\n",
      "40:\tlearn: 0.1160413\ttotal: 154ms\tremaining: 33.8ms\n",
      "41:\tlearn: 0.1145867\ttotal: 158ms\tremaining: 30.1ms\n",
      "42:\tlearn: 0.1116621\ttotal: 162ms\tremaining: 26.3ms\n",
      "43:\tlearn: 0.1091202\ttotal: 166ms\tremaining: 22.6ms\n",
      "44:\tlearn: 0.1069105\ttotal: 169ms\tremaining: 18.8ms\n",
      "45:\tlearn: 0.1048934\ttotal: 173ms\tremaining: 15ms\n",
      "46:\tlearn: 0.1022827\ttotal: 177ms\tremaining: 11.3ms\n",
      "47:\tlearn: 0.1013581\ttotal: 181ms\tremaining: 7.53ms\n",
      "48:\tlearn: 0.0995535\ttotal: 185ms\tremaining: 3.77ms\n",
      "49:\tlearn: 0.0965257\ttotal: 188ms\tremaining: 0us\n",
      "0:\tlearn: 0.4110908\ttotal: 4.26ms\tremaining: 209ms\n",
      "1:\tlearn: 0.3699974\ttotal: 8.47ms\tremaining: 203ms\n",
      "2:\tlearn: 0.3451230\ttotal: 12.3ms\tremaining: 192ms\n",
      "3:\tlearn: 0.3329768\ttotal: 16.2ms\tremaining: 186ms\n",
      "4:\tlearn: 0.3244432\ttotal: 20.1ms\tremaining: 181ms\n",
      "5:\tlearn: 0.3096570\ttotal: 24ms\tremaining: 176ms\n",
      "6:\tlearn: 0.2969628\ttotal: 27.7ms\tremaining: 170ms\n",
      "7:\tlearn: 0.2854618\ttotal: 31.5ms\tremaining: 165ms\n",
      "8:\tlearn: 0.2795216\ttotal: 35.3ms\tremaining: 161ms\n",
      "9:\tlearn: 0.2674363\ttotal: 39ms\tremaining: 156ms\n",
      "10:\tlearn: 0.2599878\ttotal: 43ms\tremaining: 152ms\n",
      "11:\tlearn: 0.2526295\ttotal: 46.7ms\tremaining: 148ms\n",
      "12:\tlearn: 0.2404573\ttotal: 50.7ms\tremaining: 144ms\n",
      "13:\tlearn: 0.2349554\ttotal: 54.4ms\tremaining: 140ms\n",
      "14:\tlearn: 0.2266605\ttotal: 58.2ms\tremaining: 136ms\n",
      "15:\tlearn: 0.2212724\ttotal: 61.9ms\tremaining: 132ms\n",
      "16:\tlearn: 0.2151718\ttotal: 65.7ms\tremaining: 127ms\n",
      "17:\tlearn: 0.2116714\ttotal: 69.5ms\tremaining: 124ms\n",
      "18:\tlearn: 0.2040582\ttotal: 73.3ms\tremaining: 120ms\n",
      "19:\tlearn: 0.1987295\ttotal: 77.2ms\tremaining: 116ms\n",
      "20:\tlearn: 0.1912545\ttotal: 81ms\tremaining: 112ms\n",
      "21:\tlearn: 0.1869475\ttotal: 84.9ms\tremaining: 108ms\n",
      "22:\tlearn: 0.1828838\ttotal: 88.8ms\tremaining: 104ms\n",
      "23:\tlearn: 0.1787112\ttotal: 92.6ms\tremaining: 100ms\n",
      "24:\tlearn: 0.1743811\ttotal: 96.3ms\tremaining: 96.3ms\n",
      "25:\tlearn: 0.1689415\ttotal: 100ms\tremaining: 92.4ms\n",
      "26:\tlearn: 0.1650027\ttotal: 104ms\tremaining: 88.7ms\n",
      "27:\tlearn: 0.1606298\ttotal: 108ms\tremaining: 84.9ms\n",
      "28:\tlearn: 0.1548806\ttotal: 112ms\tremaining: 81.1ms\n",
      "29:\tlearn: 0.1500594\ttotal: 116ms\tremaining: 77.2ms\n",
      "30:\tlearn: 0.1477443\ttotal: 120ms\tremaining: 73.4ms\n",
      "31:\tlearn: 0.1414033\ttotal: 123ms\tremaining: 69.4ms\n",
      "32:\tlearn: 0.1390612\ttotal: 127ms\tremaining: 65.6ms\n",
      "33:\tlearn: 0.1341751\ttotal: 131ms\tremaining: 61.7ms\n",
      "34:\tlearn: 0.1312887\ttotal: 135ms\tremaining: 57.8ms\n",
      "35:\tlearn: 0.1312887\ttotal: 138ms\tremaining: 53.8ms\n",
      "36:\tlearn: 0.1291862\ttotal: 142ms\tremaining: 50ms\n",
      "37:\tlearn: 0.1259400\ttotal: 146ms\tremaining: 46.1ms\n",
      "38:\tlearn: 0.1208828\ttotal: 150ms\tremaining: 42.3ms\n",
      "39:\tlearn: 0.1166262\ttotal: 154ms\tremaining: 38.4ms\n",
      "40:\tlearn: 0.1147275\ttotal: 157ms\tremaining: 34.6ms\n",
      "41:\tlearn: 0.1120102\ttotal: 161ms\tremaining: 30.8ms\n",
      "42:\tlearn: 0.1098301\ttotal: 165ms\tremaining: 26.9ms\n",
      "43:\tlearn: 0.1083828\ttotal: 169ms\tremaining: 23.1ms\n",
      "44:\tlearn: 0.1055498\ttotal: 173ms\tremaining: 19.2ms\n",
      "45:\tlearn: 0.1029540\ttotal: 177ms\tremaining: 15.4ms\n",
      "46:\tlearn: 0.1019011\ttotal: 181ms\tremaining: 11.5ms\n",
      "47:\tlearn: 0.0984496\ttotal: 185ms\tremaining: 7.69ms\n",
      "48:\tlearn: 0.0954944\ttotal: 188ms\tremaining: 3.85ms\n",
      "49:\tlearn: 0.0924221\ttotal: 192ms\tremaining: 0us\n",
      "0:\tlearn: 0.4269106\ttotal: 2.03ms\tremaining: 201ms\n",
      "1:\tlearn: 0.3961875\ttotal: 3.54ms\tremaining: 174ms\n",
      "2:\tlearn: 0.3750471\ttotal: 5.5ms\tremaining: 178ms\n",
      "3:\tlearn: 0.3697855\ttotal: 7.6ms\tremaining: 182ms\n",
      "4:\tlearn: 0.3649273\ttotal: 9.64ms\tremaining: 183ms\n",
      "5:\tlearn: 0.3567451\ttotal: 11.7ms\tremaining: 183ms\n",
      "6:\tlearn: 0.3490047\ttotal: 13.7ms\tremaining: 182ms\n",
      "7:\tlearn: 0.3448150\ttotal: 15.7ms\tremaining: 180ms\n",
      "8:\tlearn: 0.3403630\ttotal: 17.6ms\tremaining: 178ms\n",
      "9:\tlearn: 0.3336315\ttotal: 19.6ms\tremaining: 176ms\n",
      "10:\tlearn: 0.3279580\ttotal: 21.6ms\tremaining: 174ms\n",
      "11:\tlearn: 0.3224516\ttotal: 23.5ms\tremaining: 173ms\n",
      "12:\tlearn: 0.3185137\ttotal: 25.4ms\tremaining: 170ms\n",
      "13:\tlearn: 0.3134057\ttotal: 27.4ms\tremaining: 169ms\n",
      "14:\tlearn: 0.3106779\ttotal: 29.4ms\tremaining: 166ms\n",
      "15:\tlearn: 0.3060622\ttotal: 31.4ms\tremaining: 165ms\n",
      "16:\tlearn: 0.3025298\ttotal: 33.4ms\tremaining: 163ms\n",
      "17:\tlearn: 0.3002087\ttotal: 35.4ms\tremaining: 161ms\n",
      "18:\tlearn: 0.2976412\ttotal: 37.3ms\tremaining: 159ms\n",
      "19:\tlearn: 0.2934153\ttotal: 39.2ms\tremaining: 157ms\n",
      "20:\tlearn: 0.2899537\ttotal: 41.2ms\tremaining: 155ms\n",
      "21:\tlearn: 0.2874578\ttotal: 43.2ms\tremaining: 153ms\n",
      "22:\tlearn: 0.2811610\ttotal: 45ms\tremaining: 151ms\n",
      "23:\tlearn: 0.2784836\ttotal: 47.1ms\tremaining: 149ms\n",
      "24:\tlearn: 0.2756325\ttotal: 49.1ms\tremaining: 147ms\n",
      "25:\tlearn: 0.2733404\ttotal: 51ms\tremaining: 145ms\n",
      "26:\tlearn: 0.2703520\ttotal: 52.9ms\tremaining: 143ms\n",
      "27:\tlearn: 0.2676623\ttotal: 54.9ms\tremaining: 141ms\n",
      "28:\tlearn: 0.2637342\ttotal: 56.8ms\tremaining: 139ms\n",
      "29:\tlearn: 0.2615813\ttotal: 58.6ms\tremaining: 137ms\n",
      "30:\tlearn: 0.2578536\ttotal: 60.6ms\tremaining: 135ms\n",
      "31:\tlearn: 0.2534911\ttotal: 62.6ms\tremaining: 133ms\n",
      "32:\tlearn: 0.2492843\ttotal: 64.5ms\tremaining: 131ms\n",
      "33:\tlearn: 0.2473754\ttotal: 66.5ms\tremaining: 129ms\n",
      "34:\tlearn: 0.2458543\ttotal: 68.4ms\tremaining: 127ms\n",
      "35:\tlearn: 0.2429420\ttotal: 70.4ms\tremaining: 125ms\n",
      "36:\tlearn: 0.2392708\ttotal: 72.3ms\tremaining: 123ms\n",
      "37:\tlearn: 0.2369530\ttotal: 74.3ms\tremaining: 121ms\n",
      "38:\tlearn: 0.2339159\ttotal: 76.2ms\tremaining: 119ms\n",
      "39:\tlearn: 0.2315649\ttotal: 78.2ms\tremaining: 117ms\n",
      "40:\tlearn: 0.2290060\ttotal: 80.3ms\tremaining: 116ms\n",
      "41:\tlearn: 0.2268987\ttotal: 82.3ms\tremaining: 114ms\n",
      "42:\tlearn: 0.2233887\ttotal: 84.7ms\tremaining: 112ms\n",
      "43:\tlearn: 0.2214539\ttotal: 86.7ms\tremaining: 110ms\n",
      "44:\tlearn: 0.2194543\ttotal: 88.7ms\tremaining: 108ms\n",
      "45:\tlearn: 0.2170344\ttotal: 90.7ms\tremaining: 106ms\n",
      "46:\tlearn: 0.2145113\ttotal: 92.6ms\tremaining: 104ms\n",
      "47:\tlearn: 0.2122585\ttotal: 94.6ms\tremaining: 102ms\n",
      "48:\tlearn: 0.2114644\ttotal: 96.4ms\tremaining: 100ms\n",
      "49:\tlearn: 0.2093860\ttotal: 98.2ms\tremaining: 98.2ms\n",
      "50:\tlearn: 0.2061547\ttotal: 100ms\tremaining: 96.2ms\n",
      "51:\tlearn: 0.2045753\ttotal: 102ms\tremaining: 94.3ms\n",
      "52:\tlearn: 0.2027771\ttotal: 104ms\tremaining: 92.2ms\n",
      "53:\tlearn: 0.2017260\ttotal: 106ms\tremaining: 90.2ms\n",
      "54:\tlearn: 0.2004257\ttotal: 108ms\tremaining: 88.1ms\n",
      "55:\tlearn: 0.1987069\ttotal: 110ms\tremaining: 86.2ms\n",
      "56:\tlearn: 0.1973775\ttotal: 112ms\tremaining: 84.2ms\n",
      "57:\tlearn: 0.1960437\ttotal: 114ms\tremaining: 82.2ms\n",
      "58:\tlearn: 0.1941747\ttotal: 115ms\tremaining: 80.2ms\n",
      "59:\tlearn: 0.1923060\ttotal: 117ms\tremaining: 78.2ms\n",
      "60:\tlearn: 0.1910080\ttotal: 119ms\tremaining: 76.3ms\n",
      "61:\tlearn: 0.1893146\ttotal: 121ms\tremaining: 74.3ms\n",
      "62:\tlearn: 0.1864595\ttotal: 123ms\tremaining: 72.4ms\n",
      "63:\tlearn: 0.1845043\ttotal: 125ms\tremaining: 70.5ms\n",
      "64:\tlearn: 0.1838661\ttotal: 127ms\tremaining: 68.4ms\n",
      "65:\tlearn: 0.1814238\ttotal: 129ms\tremaining: 66.5ms\n",
      "66:\tlearn: 0.1796455\ttotal: 131ms\tremaining: 64.6ms\n",
      "67:\tlearn: 0.1771800\ttotal: 133ms\tremaining: 62.6ms\n",
      "68:\tlearn: 0.1758867\ttotal: 135ms\tremaining: 60.7ms\n",
      "69:\tlearn: 0.1744661\ttotal: 137ms\tremaining: 58.8ms\n",
      "70:\tlearn: 0.1716249\ttotal: 139ms\tremaining: 56.8ms\n",
      "71:\tlearn: 0.1699778\ttotal: 141ms\tremaining: 54.9ms\n",
      "72:\tlearn: 0.1687890\ttotal: 143ms\tremaining: 52.9ms\n",
      "73:\tlearn: 0.1661585\ttotal: 145ms\tremaining: 51ms\n",
      "74:\tlearn: 0.1656463\ttotal: 147ms\tremaining: 48.9ms\n",
      "75:\tlearn: 0.1643760\ttotal: 149ms\tremaining: 47ms\n",
      "76:\tlearn: 0.1632063\ttotal: 151ms\tremaining: 45.1ms\n",
      "77:\tlearn: 0.1620687\ttotal: 153ms\tremaining: 43.1ms\n",
      "78:\tlearn: 0.1605258\ttotal: 155ms\tremaining: 41.1ms\n",
      "79:\tlearn: 0.1580238\ttotal: 157ms\tremaining: 39.2ms\n",
      "80:\tlearn: 0.1559340\ttotal: 159ms\tremaining: 37.2ms\n",
      "81:\tlearn: 0.1539673\ttotal: 161ms\tremaining: 35.3ms\n",
      "82:\tlearn: 0.1528672\ttotal: 163ms\tremaining: 33.3ms\n",
      "83:\tlearn: 0.1512030\ttotal: 165ms\tremaining: 31.4ms\n",
      "84:\tlearn: 0.1495198\ttotal: 167ms\tremaining: 29.4ms\n",
      "85:\tlearn: 0.1474699\ttotal: 169ms\tremaining: 27.4ms\n",
      "86:\tlearn: 0.1448735\ttotal: 171ms\tremaining: 25.5ms\n",
      "87:\tlearn: 0.1438078\ttotal: 172ms\tremaining: 23.5ms\n",
      "88:\tlearn: 0.1420016\ttotal: 175ms\tremaining: 21.6ms\n",
      "89:\tlearn: 0.1408895\ttotal: 176ms\tremaining: 19.6ms\n",
      "90:\tlearn: 0.1398781\ttotal: 178ms\tremaining: 17.6ms\n",
      "91:\tlearn: 0.1385675\ttotal: 180ms\tremaining: 15.7ms\n",
      "92:\tlearn: 0.1373101\ttotal: 182ms\tremaining: 13.7ms\n",
      "93:\tlearn: 0.1359965\ttotal: 184ms\tremaining: 11.8ms\n",
      "94:\tlearn: 0.1344583\ttotal: 186ms\tremaining: 9.8ms\n",
      "95:\tlearn: 0.1335263\ttotal: 188ms\tremaining: 7.84ms\n",
      "96:\tlearn: 0.1317357\ttotal: 190ms\tremaining: 5.88ms\n",
      "97:\tlearn: 0.1310349\ttotal: 192ms\tremaining: 3.92ms\n",
      "98:\tlearn: 0.1305174\ttotal: 194ms\tremaining: 1.96ms\n",
      "99:\tlearn: 0.1292855\ttotal: 196ms\tremaining: 0us\n"
     ]
    },
    {
     "name": "stdout",
     "output_type": "stream",
     "text": [
      "0:\tlearn: 0.4285136\ttotal: 2.05ms\tremaining: 203ms\n",
      "1:\tlearn: 0.3870496\ttotal: 4.31ms\tremaining: 211ms\n",
      "2:\tlearn: 0.3764872\ttotal: 6.34ms\tremaining: 205ms\n",
      "3:\tlearn: 0.3673728\ttotal: 8.31ms\tremaining: 199ms\n",
      "4:\tlearn: 0.3561521\ttotal: 10.3ms\tremaining: 197ms\n",
      "5:\tlearn: 0.3543370\ttotal: 12.2ms\tremaining: 191ms\n",
      "6:\tlearn: 0.3478756\ttotal: 14.1ms\tremaining: 187ms\n",
      "7:\tlearn: 0.3423800\ttotal: 16.2ms\tremaining: 186ms\n",
      "8:\tlearn: 0.3364674\ttotal: 18.1ms\tremaining: 183ms\n",
      "9:\tlearn: 0.3296825\ttotal: 20.2ms\tremaining: 182ms\n",
      "10:\tlearn: 0.3247843\ttotal: 22.2ms\tremaining: 179ms\n",
      "11:\tlearn: 0.3177296\ttotal: 24.2ms\tremaining: 177ms\n",
      "12:\tlearn: 0.3131231\ttotal: 26.2ms\tremaining: 175ms\n",
      "13:\tlearn: 0.3073997\ttotal: 28.2ms\tremaining: 174ms\n",
      "14:\tlearn: 0.3032914\ttotal: 30.3ms\tremaining: 172ms\n",
      "15:\tlearn: 0.3001222\ttotal: 32.3ms\tremaining: 170ms\n",
      "16:\tlearn: 0.2947014\ttotal: 34.3ms\tremaining: 167ms\n",
      "17:\tlearn: 0.2927263\ttotal: 36.2ms\tremaining: 165ms\n",
      "18:\tlearn: 0.2873270\ttotal: 38.1ms\tremaining: 163ms\n",
      "19:\tlearn: 0.2843759\ttotal: 40.2ms\tremaining: 161ms\n",
      "20:\tlearn: 0.2817354\ttotal: 42.2ms\tremaining: 159ms\n",
      "21:\tlearn: 0.2784702\ttotal: 44.2ms\tremaining: 157ms\n",
      "22:\tlearn: 0.2757105\ttotal: 46.2ms\tremaining: 155ms\n",
      "23:\tlearn: 0.2728633\ttotal: 48.3ms\tremaining: 153ms\n",
      "24:\tlearn: 0.2700628\ttotal: 50.2ms\tremaining: 151ms\n",
      "25:\tlearn: 0.2658806\ttotal: 52.3ms\tremaining: 149ms\n",
      "26:\tlearn: 0.2624130\ttotal: 54.2ms\tremaining: 147ms\n",
      "27:\tlearn: 0.2609534\ttotal: 56.3ms\tremaining: 145ms\n",
      "28:\tlearn: 0.2579244\ttotal: 58.3ms\tremaining: 143ms\n",
      "29:\tlearn: 0.2552024\ttotal: 60.3ms\tremaining: 141ms\n",
      "30:\tlearn: 0.2525125\ttotal: 62.3ms\tremaining: 139ms\n",
      "31:\tlearn: 0.2510727\ttotal: 64.3ms\tremaining: 137ms\n",
      "32:\tlearn: 0.2498160\ttotal: 66.3ms\tremaining: 135ms\n",
      "33:\tlearn: 0.2473776\ttotal: 68.3ms\tremaining: 133ms\n",
      "34:\tlearn: 0.2445162\ttotal: 70.3ms\tremaining: 131ms\n",
      "35:\tlearn: 0.2418537\ttotal: 72.2ms\tremaining: 128ms\n",
      "36:\tlearn: 0.2383874\ttotal: 74.1ms\tremaining: 126ms\n",
      "37:\tlearn: 0.2360655\ttotal: 76.1ms\tremaining: 124ms\n",
      "38:\tlearn: 0.2333453\ttotal: 78ms\tremaining: 122ms\n",
      "39:\tlearn: 0.2312475\ttotal: 80ms\tremaining: 120ms\n",
      "40:\tlearn: 0.2294990\ttotal: 81.9ms\tremaining: 118ms\n",
      "41:\tlearn: 0.2277904\ttotal: 83.9ms\tremaining: 116ms\n",
      "42:\tlearn: 0.2250462\ttotal: 85.9ms\tremaining: 114ms\n",
      "43:\tlearn: 0.2234425\ttotal: 87.9ms\tremaining: 112ms\n",
      "44:\tlearn: 0.2216251\ttotal: 89.8ms\tremaining: 110ms\n",
      "45:\tlearn: 0.2205790\ttotal: 91.7ms\tremaining: 108ms\n",
      "46:\tlearn: 0.2190015\ttotal: 93.6ms\tremaining: 106ms\n",
      "47:\tlearn: 0.2175486\ttotal: 95.6ms\tremaining: 104ms\n",
      "48:\tlearn: 0.2145281\ttotal: 97.5ms\tremaining: 102ms\n",
      "49:\tlearn: 0.2121076\ttotal: 99.5ms\tremaining: 99.5ms\n",
      "50:\tlearn: 0.2107970\ttotal: 101ms\tremaining: 97.5ms\n",
      "51:\tlearn: 0.2080105\ttotal: 104ms\tremaining: 95.6ms\n",
      "52:\tlearn: 0.2046188\ttotal: 106ms\tremaining: 93.6ms\n",
      "53:\tlearn: 0.2030525\ttotal: 107ms\tremaining: 91.5ms\n",
      "54:\tlearn: 0.2003642\ttotal: 110ms\tremaining: 89.6ms\n",
      "55:\tlearn: 0.1990024\ttotal: 112ms\tremaining: 87.7ms\n",
      "56:\tlearn: 0.1965054\ttotal: 114ms\tremaining: 85.7ms\n",
      "57:\tlearn: 0.1958784\ttotal: 115ms\tremaining: 83.6ms\n",
      "58:\tlearn: 0.1934609\ttotal: 117ms\tremaining: 81.6ms\n",
      "59:\tlearn: 0.1923568\ttotal: 119ms\tremaining: 79.6ms\n",
      "60:\tlearn: 0.1903085\ttotal: 121ms\tremaining: 77.6ms\n",
      "61:\tlearn: 0.1889755\ttotal: 123ms\tremaining: 75.6ms\n",
      "62:\tlearn: 0.1867463\ttotal: 125ms\tremaining: 73.7ms\n",
      "63:\tlearn: 0.1850952\ttotal: 127ms\tremaining: 71.7ms\n",
      "64:\tlearn: 0.1826815\ttotal: 129ms\tremaining: 69.7ms\n",
      "65:\tlearn: 0.1813491\ttotal: 131ms\tremaining: 67.7ms\n",
      "66:\tlearn: 0.1785332\ttotal: 133ms\tremaining: 65.7ms\n",
      "67:\tlearn: 0.1766337\ttotal: 135ms\tremaining: 63.7ms\n",
      "68:\tlearn: 0.1742688\ttotal: 137ms\tremaining: 61.7ms\n",
      "69:\tlearn: 0.1733821\ttotal: 139ms\tremaining: 59.7ms\n",
      "70:\tlearn: 0.1720644\ttotal: 141ms\tremaining: 57.8ms\n",
      "71:\tlearn: 0.1705824\ttotal: 143ms\tremaining: 55.8ms\n",
      "72:\tlearn: 0.1678830\ttotal: 145ms\tremaining: 53.8ms\n",
      "73:\tlearn: 0.1673088\ttotal: 147ms\tremaining: 51.8ms\n",
      "74:\tlearn: 0.1661048\ttotal: 149ms\tremaining: 49.7ms\n",
      "75:\tlearn: 0.1649706\ttotal: 151ms\tremaining: 47.8ms\n",
      "76:\tlearn: 0.1638278\ttotal: 153ms\tremaining: 45.8ms\n",
      "77:\tlearn: 0.1630755\ttotal: 155ms\tremaining: 43.8ms\n",
      "78:\tlearn: 0.1623201\ttotal: 157ms\tremaining: 41.8ms\n",
      "79:\tlearn: 0.1607957\ttotal: 159ms\tremaining: 39.8ms\n",
      "80:\tlearn: 0.1590688\ttotal: 161ms\tremaining: 37.8ms\n",
      "81:\tlearn: 0.1576193\ttotal: 163ms\tremaining: 35.8ms\n",
      "82:\tlearn: 0.1559322\ttotal: 165ms\tremaining: 33.8ms\n",
      "83:\tlearn: 0.1539142\ttotal: 167ms\tremaining: 31.8ms\n",
      "84:\tlearn: 0.1522356\ttotal: 169ms\tremaining: 29.8ms\n",
      "85:\tlearn: 0.1508625\ttotal: 171ms\tremaining: 27.8ms\n",
      "86:\tlearn: 0.1485859\ttotal: 173ms\tremaining: 25.8ms\n",
      "87:\tlearn: 0.1477537\ttotal: 175ms\tremaining: 23.8ms\n",
      "88:\tlearn: 0.1462418\ttotal: 177ms\tremaining: 21.9ms\n",
      "89:\tlearn: 0.1453055\ttotal: 179ms\tremaining: 19.9ms\n",
      "90:\tlearn: 0.1448052\ttotal: 181ms\tremaining: 17.9ms\n",
      "91:\tlearn: 0.1436935\ttotal: 183ms\tremaining: 15.9ms\n",
      "92:\tlearn: 0.1423985\ttotal: 185ms\tremaining: 13.9ms\n",
      "93:\tlearn: 0.1410542\ttotal: 187ms\tremaining: 11.9ms\n",
      "94:\tlearn: 0.1401843\ttotal: 189ms\tremaining: 9.93ms\n",
      "95:\tlearn: 0.1378332\ttotal: 190ms\tremaining: 7.94ms\n",
      "96:\tlearn: 0.1366039\ttotal: 192ms\tremaining: 5.95ms\n",
      "97:\tlearn: 0.1351853\ttotal: 194ms\tremaining: 3.97ms\n",
      "98:\tlearn: 0.1339018\ttotal: 196ms\tremaining: 1.98ms\n",
      "99:\tlearn: 0.1326891\ttotal: 199ms\tremaining: 0us\n",
      "0:\tlearn: 0.4273779\ttotal: 2.03ms\tremaining: 201ms\n",
      "1:\tlearn: 0.3900954\ttotal: 3.99ms\tremaining: 196ms\n",
      "2:\tlearn: 0.3738966\ttotal: 6.01ms\tremaining: 194ms\n",
      "3:\tlearn: 0.3681842\ttotal: 7.98ms\tremaining: 192ms\n",
      "4:\tlearn: 0.3613865\ttotal: 10ms\tremaining: 191ms\n",
      "5:\tlearn: 0.3522779\ttotal: 12ms\tremaining: 188ms\n",
      "6:\tlearn: 0.3440036\ttotal: 14ms\tremaining: 186ms\n",
      "7:\tlearn: 0.3428871\ttotal: 15.2ms\tremaining: 175ms\n",
      "8:\tlearn: 0.3387790\ttotal: 17.4ms\tremaining: 176ms\n",
      "9:\tlearn: 0.3343663\ttotal: 19.5ms\tremaining: 176ms\n",
      "10:\tlearn: 0.3295822\ttotal: 21.5ms\tremaining: 174ms\n",
      "11:\tlearn: 0.3232610\ttotal: 23.5ms\tremaining: 172ms\n",
      "12:\tlearn: 0.3179725\ttotal: 25.5ms\tremaining: 170ms\n",
      "13:\tlearn: 0.3144424\ttotal: 27.4ms\tremaining: 169ms\n",
      "14:\tlearn: 0.3115671\ttotal: 29.4ms\tremaining: 167ms\n",
      "15:\tlearn: 0.3059531\ttotal: 31.3ms\tremaining: 165ms\n",
      "16:\tlearn: 0.2999782\ttotal: 33.3ms\tremaining: 163ms\n",
      "17:\tlearn: 0.2951015\ttotal: 35.3ms\tremaining: 161ms\n",
      "18:\tlearn: 0.2907756\ttotal: 37.3ms\tremaining: 159ms\n",
      "19:\tlearn: 0.2860805\ttotal: 39.1ms\tremaining: 156ms\n",
      "20:\tlearn: 0.2829400\ttotal: 41.1ms\tremaining: 155ms\n",
      "21:\tlearn: 0.2809684\ttotal: 43ms\tremaining: 152ms\n",
      "22:\tlearn: 0.2773197\ttotal: 45ms\tremaining: 151ms\n",
      "23:\tlearn: 0.2740502\ttotal: 46.9ms\tremaining: 148ms\n",
      "24:\tlearn: 0.2704534\ttotal: 48.9ms\tremaining: 147ms\n",
      "25:\tlearn: 0.2648494\ttotal: 50.8ms\tremaining: 145ms\n",
      "26:\tlearn: 0.2624223\ttotal: 52.8ms\tremaining: 143ms\n",
      "27:\tlearn: 0.2598081\ttotal: 54.8ms\tremaining: 141ms\n",
      "28:\tlearn: 0.2562640\ttotal: 56.7ms\tremaining: 139ms\n",
      "29:\tlearn: 0.2533280\ttotal: 58.7ms\tremaining: 137ms\n",
      "30:\tlearn: 0.2509760\ttotal: 60.6ms\tremaining: 135ms\n",
      "31:\tlearn: 0.2473895\ttotal: 62.6ms\tremaining: 133ms\n",
      "32:\tlearn: 0.2431355\ttotal: 64.6ms\tremaining: 131ms\n",
      "33:\tlearn: 0.2410671\ttotal: 66.4ms\tremaining: 129ms\n",
      "34:\tlearn: 0.2373864\ttotal: 68.9ms\tremaining: 128ms\n",
      "35:\tlearn: 0.2352812\ttotal: 71ms\tremaining: 126ms\n",
      "36:\tlearn: 0.2322889\ttotal: 73ms\tremaining: 124ms\n",
      "37:\tlearn: 0.2306995\ttotal: 75ms\tremaining: 122ms\n",
      "38:\tlearn: 0.2285007\ttotal: 77.1ms\tremaining: 121ms\n",
      "39:\tlearn: 0.2258137\ttotal: 79.2ms\tremaining: 119ms\n",
      "40:\tlearn: 0.2237487\ttotal: 81.1ms\tremaining: 117ms\n",
      "41:\tlearn: 0.2215017\ttotal: 83.1ms\tremaining: 115ms\n",
      "42:\tlearn: 0.2186254\ttotal: 85ms\tremaining: 113ms\n",
      "43:\tlearn: 0.2173164\ttotal: 86.9ms\tremaining: 111ms\n",
      "44:\tlearn: 0.2156286\ttotal: 88.8ms\tremaining: 109ms\n",
      "45:\tlearn: 0.2137905\ttotal: 90.8ms\tremaining: 107ms\n",
      "46:\tlearn: 0.2123497\ttotal: 92.8ms\tremaining: 105ms\n",
      "47:\tlearn: 0.2093471\ttotal: 94.8ms\tremaining: 103ms\n",
      "48:\tlearn: 0.2073203\ttotal: 96.7ms\tremaining: 101ms\n",
      "49:\tlearn: 0.2041594\ttotal: 98.8ms\tremaining: 98.8ms\n",
      "50:\tlearn: 0.2021705\ttotal: 101ms\tremaining: 96.8ms\n",
      "51:\tlearn: 0.1989638\ttotal: 103ms\tremaining: 94.9ms\n",
      "52:\tlearn: 0.1966167\ttotal: 105ms\tremaining: 92.9ms\n",
      "53:\tlearn: 0.1941223\ttotal: 107ms\tremaining: 90.9ms\n",
      "54:\tlearn: 0.1922182\ttotal: 109ms\tremaining: 89ms\n",
      "55:\tlearn: 0.1895193\ttotal: 111ms\tremaining: 87ms\n",
      "56:\tlearn: 0.1878502\ttotal: 113ms\tremaining: 85ms\n",
      "57:\tlearn: 0.1858396\ttotal: 115ms\tremaining: 83.1ms\n",
      "58:\tlearn: 0.1850713\ttotal: 117ms\tremaining: 81.1ms\n",
      "59:\tlearn: 0.1830964\ttotal: 119ms\tremaining: 79.1ms\n",
      "60:\tlearn: 0.1794429\ttotal: 121ms\tremaining: 77.1ms\n",
      "61:\tlearn: 0.1776564\ttotal: 123ms\tremaining: 75.1ms\n",
      "62:\tlearn: 0.1758742\ttotal: 124ms\tremaining: 73.1ms\n",
      "63:\tlearn: 0.1740558\ttotal: 126ms\tremaining: 71.1ms\n",
      "64:\tlearn: 0.1727654\ttotal: 128ms\tremaining: 69.2ms\n",
      "65:\tlearn: 0.1713179\ttotal: 130ms\tremaining: 67.2ms\n",
      "66:\tlearn: 0.1697120\ttotal: 132ms\tremaining: 65.1ms\n",
      "67:\tlearn: 0.1680531\ttotal: 134ms\tremaining: 63.2ms\n",
      "68:\tlearn: 0.1665498\ttotal: 136ms\tremaining: 61.2ms\n",
      "69:\tlearn: 0.1658609\ttotal: 138ms\tremaining: 59.3ms\n",
      "70:\tlearn: 0.1644636\ttotal: 140ms\tremaining: 57.2ms\n",
      "71:\tlearn: 0.1631488\ttotal: 142ms\tremaining: 55.2ms\n",
      "72:\tlearn: 0.1615437\ttotal: 144ms\tremaining: 53.3ms\n",
      "73:\tlearn: 0.1598621\ttotal: 146ms\tremaining: 51.3ms\n",
      "74:\tlearn: 0.1586605\ttotal: 148ms\tremaining: 49.3ms\n",
      "75:\tlearn: 0.1572829\ttotal: 150ms\tremaining: 47.4ms\n",
      "76:\tlearn: 0.1561285\ttotal: 152ms\tremaining: 45.4ms\n",
      "77:\tlearn: 0.1555460\ttotal: 154ms\tremaining: 43.4ms\n",
      "78:\tlearn: 0.1545664\ttotal: 156ms\tremaining: 41.4ms\n",
      "79:\tlearn: 0.1525452\ttotal: 158ms\tremaining: 39.5ms\n",
      "80:\tlearn: 0.1505217\ttotal: 160ms\tremaining: 37.6ms\n",
      "81:\tlearn: 0.1489860\ttotal: 162ms\tremaining: 35.6ms\n",
      "82:\tlearn: 0.1476468\ttotal: 164ms\tremaining: 33.6ms\n",
      "83:\tlearn: 0.1457885\ttotal: 166ms\tremaining: 31.7ms\n",
      "84:\tlearn: 0.1444458\ttotal: 168ms\tremaining: 29.7ms\n",
      "85:\tlearn: 0.1438300\ttotal: 170ms\tremaining: 27.7ms\n",
      "86:\tlearn: 0.1427171\ttotal: 172ms\tremaining: 25.7ms\n",
      "87:\tlearn: 0.1405647\ttotal: 174ms\tremaining: 23.8ms\n",
      "88:\tlearn: 0.1392587\ttotal: 176ms\tremaining: 21.8ms\n",
      "89:\tlearn: 0.1386838\ttotal: 178ms\tremaining: 19.8ms\n",
      "90:\tlearn: 0.1378750\ttotal: 180ms\tremaining: 17.8ms\n",
      "91:\tlearn: 0.1361306\ttotal: 182ms\tremaining: 15.8ms\n",
      "92:\tlearn: 0.1350207\ttotal: 184ms\tremaining: 13.9ms\n",
      "93:\tlearn: 0.1340060\ttotal: 186ms\tremaining: 11.9ms\n",
      "94:\tlearn: 0.1321097\ttotal: 188ms\tremaining: 9.89ms\n",
      "95:\tlearn: 0.1314956\ttotal: 190ms\tremaining: 7.91ms\n",
      "96:\tlearn: 0.1306619\ttotal: 192ms\tremaining: 5.93ms\n",
      "97:\tlearn: 0.1299369\ttotal: 194ms\tremaining: 3.95ms\n",
      "98:\tlearn: 0.1291912\ttotal: 196ms\tremaining: 1.98ms\n",
      "99:\tlearn: 0.1283281\ttotal: 198ms\tremaining: 0us\n"
     ]
    },
    {
     "name": "stdout",
     "output_type": "stream",
     "text": [
      "0:\tlearn: 0.4233312\ttotal: 2.58ms\tremaining: 256ms\n",
      "1:\tlearn: 0.3835012\ttotal: 7.03ms\tremaining: 344ms\n",
      "2:\tlearn: 0.3681068\ttotal: 9.17ms\tremaining: 297ms\n",
      "3:\tlearn: 0.3646041\ttotal: 10.8ms\tremaining: 259ms\n",
      "4:\tlearn: 0.3611297\ttotal: 13ms\tremaining: 247ms\n",
      "5:\tlearn: 0.3557594\ttotal: 15.4ms\tremaining: 242ms\n",
      "6:\tlearn: 0.3517327\ttotal: 17.7ms\tremaining: 235ms\n",
      "7:\tlearn: 0.3478205\ttotal: 20.1ms\tremaining: 231ms\n",
      "8:\tlearn: 0.3417377\ttotal: 22.2ms\tremaining: 225ms\n",
      "9:\tlearn: 0.3390248\ttotal: 24.1ms\tremaining: 217ms\n",
      "10:\tlearn: 0.3312110\ttotal: 26.4ms\tremaining: 214ms\n",
      "11:\tlearn: 0.3273900\ttotal: 28.9ms\tremaining: 212ms\n",
      "12:\tlearn: 0.3240899\ttotal: 31.4ms\tremaining: 210ms\n",
      "13:\tlearn: 0.3190712\ttotal: 33.6ms\tremaining: 206ms\n",
      "14:\tlearn: 0.3129456\ttotal: 36ms\tremaining: 204ms\n",
      "15:\tlearn: 0.3090048\ttotal: 38.2ms\tremaining: 201ms\n",
      "16:\tlearn: 0.3045360\ttotal: 40.2ms\tremaining: 196ms\n",
      "17:\tlearn: 0.2993803\ttotal: 42.3ms\tremaining: 193ms\n",
      "18:\tlearn: 0.2953246\ttotal: 44.3ms\tremaining: 189ms\n",
      "19:\tlearn: 0.2897485\ttotal: 46.4ms\tremaining: 186ms\n",
      "20:\tlearn: 0.2864743\ttotal: 48.4ms\tremaining: 182ms\n",
      "21:\tlearn: 0.2825816\ttotal: 50.4ms\tremaining: 179ms\n",
      "22:\tlearn: 0.2810764\ttotal: 52.3ms\tremaining: 175ms\n",
      "23:\tlearn: 0.2782410\ttotal: 54.4ms\tremaining: 172ms\n",
      "24:\tlearn: 0.2753758\ttotal: 56.3ms\tremaining: 169ms\n",
      "25:\tlearn: 0.2722722\ttotal: 58.2ms\tremaining: 166ms\n",
      "26:\tlearn: 0.2681466\ttotal: 60.3ms\tremaining: 163ms\n",
      "27:\tlearn: 0.2669596\ttotal: 62.3ms\tremaining: 160ms\n",
      "28:\tlearn: 0.2634864\ttotal: 64.2ms\tremaining: 157ms\n",
      "29:\tlearn: 0.2600139\ttotal: 66.2ms\tremaining: 154ms\n",
      "30:\tlearn: 0.2555986\ttotal: 68.2ms\tremaining: 152ms\n",
      "31:\tlearn: 0.2515836\ttotal: 70.1ms\tremaining: 149ms\n",
      "32:\tlearn: 0.2494900\ttotal: 72.1ms\tremaining: 146ms\n",
      "33:\tlearn: 0.2470591\ttotal: 74.1ms\tremaining: 144ms\n",
      "34:\tlearn: 0.2433267\ttotal: 76ms\tremaining: 141ms\n",
      "35:\tlearn: 0.2402421\ttotal: 78.2ms\tremaining: 139ms\n",
      "36:\tlearn: 0.2377335\ttotal: 80.3ms\tremaining: 137ms\n",
      "37:\tlearn: 0.2354815\ttotal: 82.3ms\tremaining: 134ms\n",
      "38:\tlearn: 0.2338867\ttotal: 84.3ms\tremaining: 132ms\n",
      "39:\tlearn: 0.2313214\ttotal: 86.3ms\tremaining: 129ms\n",
      "40:\tlearn: 0.2294930\ttotal: 88.3ms\tremaining: 127ms\n",
      "41:\tlearn: 0.2267929\ttotal: 90.2ms\tremaining: 125ms\n",
      "42:\tlearn: 0.2255105\ttotal: 92.2ms\tremaining: 122ms\n",
      "43:\tlearn: 0.2239828\ttotal: 94.3ms\tremaining: 120ms\n",
      "44:\tlearn: 0.2208961\ttotal: 96.3ms\tremaining: 118ms\n",
      "45:\tlearn: 0.2191548\ttotal: 98.2ms\tremaining: 115ms\n",
      "46:\tlearn: 0.2164446\ttotal: 100ms\tremaining: 113ms\n",
      "47:\tlearn: 0.2134360\ttotal: 102ms\tremaining: 111ms\n",
      "48:\tlearn: 0.2115131\ttotal: 104ms\tremaining: 108ms\n",
      "49:\tlearn: 0.2100013\ttotal: 106ms\tremaining: 106ms\n",
      "50:\tlearn: 0.2080300\ttotal: 108ms\tremaining: 104ms\n",
      "51:\tlearn: 0.2063066\ttotal: 110ms\tremaining: 101ms\n",
      "52:\tlearn: 0.2043981\ttotal: 112ms\tremaining: 99.1ms\n",
      "53:\tlearn: 0.2035065\ttotal: 114ms\tremaining: 96.9ms\n",
      "54:\tlearn: 0.2014759\ttotal: 116ms\tremaining: 94.7ms\n",
      "55:\tlearn: 0.1999501\ttotal: 118ms\tremaining: 92.4ms\n",
      "56:\tlearn: 0.1973800\ttotal: 120ms\tremaining: 90.2ms\n",
      "57:\tlearn: 0.1956734\ttotal: 122ms\tremaining: 88.1ms\n",
      "58:\tlearn: 0.1944205\ttotal: 124ms\tremaining: 85.9ms\n",
      "59:\tlearn: 0.1929572\ttotal: 126ms\tremaining: 83.7ms\n",
      "60:\tlearn: 0.1909676\ttotal: 128ms\tremaining: 81.6ms\n",
      "61:\tlearn: 0.1895964\ttotal: 130ms\tremaining: 79.4ms\n",
      "62:\tlearn: 0.1868612\ttotal: 132ms\tremaining: 77.3ms\n",
      "63:\tlearn: 0.1847146\ttotal: 134ms\tremaining: 75.2ms\n",
      "64:\tlearn: 0.1830484\ttotal: 136ms\tremaining: 73.1ms\n",
      "65:\tlearn: 0.1814324\ttotal: 138ms\tremaining: 70.9ms\n",
      "66:\tlearn: 0.1800410\ttotal: 140ms\tremaining: 68.8ms\n",
      "67:\tlearn: 0.1779385\ttotal: 142ms\tremaining: 66.6ms\n",
      "68:\tlearn: 0.1770325\ttotal: 143ms\tremaining: 64.5ms\n",
      "69:\tlearn: 0.1749101\ttotal: 145ms\tremaining: 62.3ms\n",
      "70:\tlearn: 0.1738059\ttotal: 147ms\tremaining: 60.2ms\n",
      "71:\tlearn: 0.1723405\ttotal: 149ms\tremaining: 58ms\n",
      "72:\tlearn: 0.1708998\ttotal: 151ms\tremaining: 55.9ms\n",
      "73:\tlearn: 0.1697614\ttotal: 153ms\tremaining: 53.8ms\n",
      "74:\tlearn: 0.1669326\ttotal: 155ms\tremaining: 51.7ms\n",
      "75:\tlearn: 0.1646734\ttotal: 157ms\tremaining: 49.6ms\n",
      "76:\tlearn: 0.1636056\ttotal: 159ms\tremaining: 47.6ms\n",
      "77:\tlearn: 0.1628311\ttotal: 161ms\tremaining: 45.4ms\n",
      "78:\tlearn: 0.1616329\ttotal: 163ms\tremaining: 43.3ms\n",
      "79:\tlearn: 0.1606520\ttotal: 165ms\tremaining: 41.2ms\n",
      "80:\tlearn: 0.1590858\ttotal: 167ms\tremaining: 39.1ms\n",
      "81:\tlearn: 0.1569231\ttotal: 169ms\tremaining: 37ms\n",
      "82:\tlearn: 0.1552242\ttotal: 171ms\tremaining: 34.9ms\n",
      "83:\tlearn: 0.1532205\ttotal: 173ms\tremaining: 32.9ms\n",
      "84:\tlearn: 0.1524000\ttotal: 175ms\tremaining: 30.8ms\n",
      "85:\tlearn: 0.1509258\ttotal: 177ms\tremaining: 28.7ms\n",
      "86:\tlearn: 0.1501475\ttotal: 178ms\tremaining: 26.7ms\n",
      "87:\tlearn: 0.1484621\ttotal: 180ms\tremaining: 24.6ms\n",
      "88:\tlearn: 0.1477454\ttotal: 182ms\tremaining: 22.5ms\n",
      "89:\tlearn: 0.1457183\ttotal: 185ms\tremaining: 20.5ms\n",
      "90:\tlearn: 0.1443906\ttotal: 187ms\tremaining: 18.5ms\n",
      "91:\tlearn: 0.1430642\ttotal: 189ms\tremaining: 16.4ms\n",
      "92:\tlearn: 0.1420068\ttotal: 191ms\tremaining: 14.3ms\n",
      "93:\tlearn: 0.1408203\ttotal: 192ms\tremaining: 12.3ms\n",
      "94:\tlearn: 0.1392528\ttotal: 194ms\tremaining: 10.2ms\n",
      "95:\tlearn: 0.1376446\ttotal: 196ms\tremaining: 8.18ms\n",
      "96:\tlearn: 0.1367085\ttotal: 199ms\tremaining: 6.16ms\n",
      "97:\tlearn: 0.1353396\ttotal: 202ms\tremaining: 4.11ms\n",
      "98:\tlearn: 0.1340113\ttotal: 203ms\tremaining: 2.06ms\n",
      "99:\tlearn: 0.1326933\ttotal: 205ms\tremaining: 0us\n",
      "0:\tlearn: 0.4236396\ttotal: 2.25ms\tremaining: 223ms\n",
      "1:\tlearn: 0.3925867\ttotal: 3.55ms\tremaining: 174ms\n",
      "2:\tlearn: 0.3752781\ttotal: 5.58ms\tremaining: 180ms\n",
      "3:\tlearn: 0.3693212\ttotal: 7.48ms\tremaining: 180ms\n",
      "4:\tlearn: 0.3636613\ttotal: 9.46ms\tremaining: 180ms\n",
      "5:\tlearn: 0.3550759\ttotal: 11.4ms\tremaining: 179ms\n",
      "6:\tlearn: 0.3480576\ttotal: 13.5ms\tremaining: 179ms\n",
      "7:\tlearn: 0.3421409\ttotal: 16ms\tremaining: 184ms\n",
      "8:\tlearn: 0.3391293\ttotal: 18.3ms\tremaining: 185ms\n",
      "9:\tlearn: 0.3308399\ttotal: 20.6ms\tremaining: 185ms\n",
      "10:\tlearn: 0.3236430\ttotal: 23.1ms\tremaining: 187ms\n",
      "11:\tlearn: 0.3184516\ttotal: 25.4ms\tremaining: 187ms\n",
      "12:\tlearn: 0.3146351\ttotal: 27.4ms\tremaining: 183ms\n",
      "13:\tlearn: 0.3097323\ttotal: 29.4ms\tremaining: 181ms\n",
      "14:\tlearn: 0.3065246\ttotal: 31.4ms\tremaining: 178ms\n",
      "15:\tlearn: 0.3015680\ttotal: 33.4ms\tremaining: 175ms\n",
      "16:\tlearn: 0.2986205\ttotal: 35.4ms\tremaining: 173ms\n",
      "17:\tlearn: 0.2946134\ttotal: 37.4ms\tremaining: 170ms\n",
      "18:\tlearn: 0.2906607\ttotal: 39.4ms\tremaining: 168ms\n",
      "19:\tlearn: 0.2871372\ttotal: 41.5ms\tremaining: 166ms\n",
      "20:\tlearn: 0.2826213\ttotal: 43.4ms\tremaining: 163ms\n",
      "21:\tlearn: 0.2794072\ttotal: 45.5ms\tremaining: 161ms\n",
      "22:\tlearn: 0.2773037\ttotal: 47.4ms\tremaining: 159ms\n",
      "23:\tlearn: 0.2734480\ttotal: 49.4ms\tremaining: 156ms\n",
      "24:\tlearn: 0.2701880\ttotal: 52.4ms\tremaining: 157ms\n",
      "25:\tlearn: 0.2680831\ttotal: 54.7ms\tremaining: 156ms\n",
      "26:\tlearn: 0.2641083\ttotal: 56.8ms\tremaining: 154ms\n",
      "27:\tlearn: 0.2611815\ttotal: 58.7ms\tremaining: 151ms\n",
      "28:\tlearn: 0.2582645\ttotal: 60.8ms\tremaining: 149ms\n",
      "29:\tlearn: 0.2564442\ttotal: 62.8ms\tremaining: 146ms\n",
      "30:\tlearn: 0.2547660\ttotal: 64.8ms\tremaining: 144ms\n",
      "31:\tlearn: 0.2536248\ttotal: 66.7ms\tremaining: 142ms\n",
      "32:\tlearn: 0.2504286\ttotal: 68.7ms\tremaining: 140ms\n",
      "33:\tlearn: 0.2468203\ttotal: 70.7ms\tremaining: 137ms\n",
      "34:\tlearn: 0.2431837\ttotal: 72.6ms\tremaining: 135ms\n",
      "35:\tlearn: 0.2413466\ttotal: 74.6ms\tremaining: 133ms\n",
      "36:\tlearn: 0.2387062\ttotal: 76.6ms\tremaining: 130ms\n",
      "37:\tlearn: 0.2367805\ttotal: 78.5ms\tremaining: 128ms\n",
      "38:\tlearn: 0.2346442\ttotal: 80.5ms\tremaining: 126ms\n",
      "39:\tlearn: 0.2313343\ttotal: 82.6ms\tremaining: 124ms\n",
      "40:\tlearn: 0.2288668\ttotal: 84.8ms\tremaining: 122ms\n",
      "41:\tlearn: 0.2267389\ttotal: 86.8ms\tremaining: 120ms\n",
      "42:\tlearn: 0.2256039\ttotal: 88.7ms\tremaining: 118ms\n",
      "43:\tlearn: 0.2225701\ttotal: 90.7ms\tremaining: 115ms\n",
      "44:\tlearn: 0.2205622\ttotal: 92.8ms\tremaining: 113ms\n",
      "45:\tlearn: 0.2189628\ttotal: 94.7ms\tremaining: 111ms\n",
      "46:\tlearn: 0.2168903\ttotal: 96.6ms\tremaining: 109ms\n",
      "47:\tlearn: 0.2150611\ttotal: 98.6ms\tremaining: 107ms\n",
      "48:\tlearn: 0.2138415\ttotal: 101ms\tremaining: 105ms\n",
      "49:\tlearn: 0.2118980\ttotal: 103ms\tremaining: 103ms\n",
      "50:\tlearn: 0.2097706\ttotal: 105ms\tremaining: 100ms\n",
      "51:\tlearn: 0.2069770\ttotal: 107ms\tremaining: 98.4ms\n",
      "52:\tlearn: 0.2058896\ttotal: 108ms\tremaining: 96.1ms\n",
      "53:\tlearn: 0.2024662\ttotal: 111ms\tremaining: 94.2ms\n",
      "54:\tlearn: 0.2012231\ttotal: 113ms\tremaining: 92.7ms\n",
      "55:\tlearn: 0.1984299\ttotal: 116ms\tremaining: 91ms\n",
      "56:\tlearn: 0.1966979\ttotal: 119ms\tremaining: 89.4ms\n",
      "57:\tlearn: 0.1951386\ttotal: 121ms\tremaining: 87.5ms\n",
      "58:\tlearn: 0.1930655\ttotal: 123ms\tremaining: 85.6ms\n",
      "59:\tlearn: 0.1912384\ttotal: 125ms\tremaining: 83.5ms\n",
      "60:\tlearn: 0.1882924\ttotal: 127ms\tremaining: 81.3ms\n",
      "61:\tlearn: 0.1873332\ttotal: 129ms\tremaining: 79.2ms\n",
      "62:\tlearn: 0.1867706\ttotal: 131ms\tremaining: 77.1ms\n",
      "63:\tlearn: 0.1852405\ttotal: 133ms\tremaining: 74.9ms\n",
      "64:\tlearn: 0.1837928\ttotal: 135ms\tremaining: 72.8ms\n",
      "65:\tlearn: 0.1819715\ttotal: 137ms\tremaining: 70.7ms\n",
      "66:\tlearn: 0.1805717\ttotal: 139ms\tremaining: 68.5ms\n",
      "67:\tlearn: 0.1792450\ttotal: 141ms\tremaining: 66.4ms\n",
      "68:\tlearn: 0.1771851\ttotal: 143ms\tremaining: 64.3ms\n",
      "69:\tlearn: 0.1761688\ttotal: 145ms\tremaining: 62.1ms\n",
      "70:\tlearn: 0.1752440\ttotal: 147ms\tremaining: 60ms\n",
      "71:\tlearn: 0.1744394\ttotal: 149ms\tremaining: 57.9ms\n",
      "72:\tlearn: 0.1734150\ttotal: 151ms\tremaining: 55.8ms\n",
      "73:\tlearn: 0.1717672\ttotal: 153ms\tremaining: 53.7ms\n",
      "74:\tlearn: 0.1706885\ttotal: 155ms\tremaining: 51.6ms\n",
      "75:\tlearn: 0.1691434\ttotal: 157ms\tremaining: 49.5ms\n",
      "76:\tlearn: 0.1684096\ttotal: 159ms\tremaining: 47.4ms\n",
      "77:\tlearn: 0.1672615\ttotal: 161ms\tremaining: 45.3ms\n",
      "78:\tlearn: 0.1661241\ttotal: 163ms\tremaining: 43.2ms\n",
      "79:\tlearn: 0.1652389\ttotal: 165ms\tremaining: 41.1ms\n",
      "80:\tlearn: 0.1642941\ttotal: 167ms\tremaining: 39.1ms\n",
      "81:\tlearn: 0.1628112\ttotal: 169ms\tremaining: 37ms\n",
      "82:\tlearn: 0.1620878\ttotal: 171ms\tremaining: 34.9ms\n",
      "83:\tlearn: 0.1607481\ttotal: 173ms\tremaining: 32.9ms\n",
      "84:\tlearn: 0.1599360\ttotal: 175ms\tremaining: 30.8ms\n",
      "85:\tlearn: 0.1579275\ttotal: 177ms\tremaining: 28.8ms\n",
      "86:\tlearn: 0.1567050\ttotal: 179ms\tremaining: 26.7ms\n",
      "87:\tlearn: 0.1545998\ttotal: 181ms\tremaining: 24.6ms\n",
      "88:\tlearn: 0.1530499\ttotal: 183ms\tremaining: 22.6ms\n",
      "89:\tlearn: 0.1515149\ttotal: 185ms\tremaining: 20.5ms\n",
      "90:\tlearn: 0.1494266\ttotal: 187ms\tremaining: 18.5ms\n",
      "91:\tlearn: 0.1479358\ttotal: 189ms\tremaining: 16.4ms\n",
      "92:\tlearn: 0.1466890\ttotal: 191ms\tremaining: 14.3ms\n",
      "93:\tlearn: 0.1451250\ttotal: 193ms\tremaining: 12.3ms\n",
      "94:\tlearn: 0.1434611\ttotal: 194ms\tremaining: 10.2ms\n",
      "95:\tlearn: 0.1421452\ttotal: 196ms\tremaining: 8.19ms\n",
      "96:\tlearn: 0.1409017\ttotal: 198ms\tremaining: 6.14ms\n",
      "97:\tlearn: 0.1392905\ttotal: 200ms\tremaining: 4.09ms\n",
      "98:\tlearn: 0.1378161\ttotal: 202ms\tremaining: 2.04ms\n",
      "99:\tlearn: 0.1363288\ttotal: 204ms\tremaining: 0us\n"
     ]
    },
    {
     "name": "stdout",
     "output_type": "stream",
     "text": [
      "0:\tlearn: 0.4161490\ttotal: 4.3ms\tremaining: 211ms\n",
      "1:\tlearn: 0.3683249\ttotal: 8.74ms\tremaining: 210ms\n",
      "2:\tlearn: 0.3473208\ttotal: 12.8ms\tremaining: 201ms\n",
      "3:\tlearn: 0.3361978\ttotal: 17.1ms\tremaining: 196ms\n",
      "4:\tlearn: 0.3184878\ttotal: 21.1ms\tremaining: 190ms\n",
      "5:\tlearn: 0.3093419\ttotal: 25.2ms\tremaining: 185ms\n",
      "6:\tlearn: 0.3045237\ttotal: 29.4ms\tremaining: 181ms\n",
      "7:\tlearn: 0.2945954\ttotal: 33.7ms\tremaining: 177ms\n",
      "8:\tlearn: 0.2887017\ttotal: 37.7ms\tremaining: 172ms\n",
      "9:\tlearn: 0.2719095\ttotal: 41.9ms\tremaining: 168ms\n",
      "10:\tlearn: 0.2627643\ttotal: 46ms\tremaining: 163ms\n",
      "11:\tlearn: 0.2557997\ttotal: 50.1ms\tremaining: 159ms\n",
      "12:\tlearn: 0.2441264\ttotal: 54.1ms\tremaining: 154ms\n",
      "13:\tlearn: 0.2372428\ttotal: 58.3ms\tremaining: 150ms\n",
      "14:\tlearn: 0.2295086\ttotal: 62.7ms\tremaining: 146ms\n",
      "15:\tlearn: 0.2264128\ttotal: 67ms\tremaining: 142ms\n",
      "16:\tlearn: 0.2210613\ttotal: 71.4ms\tremaining: 139ms\n",
      "17:\tlearn: 0.2146097\ttotal: 75.6ms\tremaining: 134ms\n",
      "18:\tlearn: 0.2079101\ttotal: 79.7ms\tremaining: 130ms\n",
      "19:\tlearn: 0.2043232\ttotal: 83.7ms\tremaining: 125ms\n",
      "20:\tlearn: 0.1991374\ttotal: 87.9ms\tremaining: 121ms\n",
      "21:\tlearn: 0.1950538\ttotal: 91.9ms\tremaining: 117ms\n",
      "22:\tlearn: 0.1895388\ttotal: 96.1ms\tremaining: 113ms\n",
      "23:\tlearn: 0.1813203\ttotal: 100ms\tremaining: 109ms\n",
      "24:\tlearn: 0.1784101\ttotal: 104ms\tremaining: 104ms\n",
      "25:\tlearn: 0.1768239\ttotal: 108ms\tremaining: 100ms\n",
      "26:\tlearn: 0.1713630\ttotal: 112ms\tremaining: 95.8ms\n",
      "27:\tlearn: 0.1684529\ttotal: 116ms\tremaining: 91.5ms\n",
      "28:\tlearn: 0.1655546\ttotal: 121ms\tremaining: 87.4ms\n",
      "29:\tlearn: 0.1597827\ttotal: 125ms\tremaining: 83.2ms\n",
      "30:\tlearn: 0.1549468\ttotal: 129ms\tremaining: 79.1ms\n",
      "31:\tlearn: 0.1523098\ttotal: 133ms\tremaining: 75.1ms\n",
      "32:\tlearn: 0.1489006\ttotal: 138ms\tremaining: 71ms\n",
      "33:\tlearn: 0.1459987\ttotal: 142ms\tremaining: 66.8ms\n",
      "34:\tlearn: 0.1425310\ttotal: 146ms\tremaining: 62.6ms\n",
      "35:\tlearn: 0.1380535\ttotal: 150ms\tremaining: 58.5ms\n",
      "36:\tlearn: 0.1343400\ttotal: 154ms\tremaining: 54.2ms\n",
      "37:\tlearn: 0.1304167\ttotal: 159ms\tremaining: 50.1ms\n",
      "38:\tlearn: 0.1269782\ttotal: 163ms\tremaining: 46ms\n",
      "39:\tlearn: 0.1240804\ttotal: 168ms\tremaining: 41.9ms\n",
      "40:\tlearn: 0.1212577\ttotal: 172ms\tremaining: 37.8ms\n",
      "41:\tlearn: 0.1182554\ttotal: 176ms\tremaining: 33.6ms\n",
      "42:\tlearn: 0.1165546\ttotal: 181ms\tremaining: 29.4ms\n",
      "43:\tlearn: 0.1141106\ttotal: 185ms\tremaining: 25.2ms\n",
      "44:\tlearn: 0.1108232\ttotal: 189ms\tremaining: 21ms\n",
      "45:\tlearn: 0.1094644\ttotal: 193ms\tremaining: 16.8ms\n",
      "46:\tlearn: 0.1062230\ttotal: 197ms\tremaining: 12.6ms\n",
      "47:\tlearn: 0.1032872\ttotal: 201ms\tremaining: 8.38ms\n",
      "48:\tlearn: 0.1002218\ttotal: 206ms\tremaining: 4.21ms\n",
      "49:\tlearn: 0.0993340\ttotal: 210ms\tremaining: 0us\n",
      "0:\tlearn: 0.4152486\ttotal: 4.3ms\tremaining: 211ms\n",
      "1:\tlearn: 0.3646305\ttotal: 8.46ms\tremaining: 203ms\n",
      "2:\tlearn: 0.3402806\ttotal: 12.7ms\tremaining: 199ms\n",
      "3:\tlearn: 0.3313262\ttotal: 17ms\tremaining: 195ms\n",
      "4:\tlearn: 0.3118705\ttotal: 22ms\tremaining: 198ms\n",
      "5:\tlearn: 0.2973237\ttotal: 27ms\tremaining: 198ms\n",
      "6:\tlearn: 0.2877497\ttotal: 31.1ms\tremaining: 191ms\n",
      "7:\tlearn: 0.2789137\ttotal: 35.5ms\tremaining: 186ms\n",
      "8:\tlearn: 0.2693979\ttotal: 39.6ms\tremaining: 181ms\n",
      "9:\tlearn: 0.2584334\ttotal: 43.8ms\tremaining: 175ms\n",
      "10:\tlearn: 0.2568541\ttotal: 47.7ms\tremaining: 169ms\n",
      "11:\tlearn: 0.2516770\ttotal: 51.8ms\tremaining: 164ms\n",
      "12:\tlearn: 0.2439110\ttotal: 55.9ms\tremaining: 159ms\n",
      "13:\tlearn: 0.2388446\ttotal: 60ms\tremaining: 154ms\n",
      "14:\tlearn: 0.2305337\ttotal: 64.1ms\tremaining: 150ms\n",
      "15:\tlearn: 0.2230632\ttotal: 68.9ms\tremaining: 146ms\n",
      "16:\tlearn: 0.2155425\ttotal: 73ms\tremaining: 142ms\n",
      "17:\tlearn: 0.2105847\ttotal: 77.2ms\tremaining: 137ms\n",
      "18:\tlearn: 0.2029283\ttotal: 81.3ms\tremaining: 133ms\n",
      "19:\tlearn: 0.1989077\ttotal: 85.6ms\tremaining: 128ms\n",
      "20:\tlearn: 0.1917747\ttotal: 90.1ms\tremaining: 124ms\n",
      "21:\tlearn: 0.1873199\ttotal: 94.2ms\tremaining: 120ms\n",
      "22:\tlearn: 0.1838961\ttotal: 98.4ms\tremaining: 116ms\n",
      "23:\tlearn: 0.1786648\ttotal: 103ms\tremaining: 111ms\n",
      "24:\tlearn: 0.1717059\ttotal: 111ms\tremaining: 111ms\n",
      "25:\tlearn: 0.1695107\ttotal: 115ms\tremaining: 106ms\n",
      "26:\tlearn: 0.1641680\ttotal: 120ms\tremaining: 102ms\n",
      "27:\tlearn: 0.1555955\ttotal: 124ms\tremaining: 97.7ms\n",
      "28:\tlearn: 0.1506644\ttotal: 129ms\tremaining: 93.1ms\n",
      "29:\tlearn: 0.1471717\ttotal: 133ms\tremaining: 88.4ms\n",
      "30:\tlearn: 0.1449834\ttotal: 137ms\tremaining: 83.9ms\n",
      "31:\tlearn: 0.1425420\ttotal: 141ms\tremaining: 79.2ms\n",
      "32:\tlearn: 0.1371911\ttotal: 145ms\tremaining: 74.7ms\n",
      "33:\tlearn: 0.1357055\ttotal: 149ms\tremaining: 70.1ms\n",
      "34:\tlearn: 0.1317905\ttotal: 153ms\tremaining: 65.5ms\n",
      "35:\tlearn: 0.1291970\ttotal: 157ms\tremaining: 61.1ms\n",
      "36:\tlearn: 0.1268584\ttotal: 161ms\tremaining: 56.6ms\n",
      "37:\tlearn: 0.1248390\ttotal: 165ms\tremaining: 52.2ms\n",
      "38:\tlearn: 0.1215230\ttotal: 169ms\tremaining: 47.7ms\n",
      "39:\tlearn: 0.1206732\ttotal: 173ms\tremaining: 43.4ms\n",
      "40:\tlearn: 0.1181498\ttotal: 178ms\tremaining: 39ms\n",
      "41:\tlearn: 0.1147916\ttotal: 182ms\tremaining: 34.6ms\n",
      "42:\tlearn: 0.1110432\ttotal: 186ms\tremaining: 30.2ms\n",
      "43:\tlearn: 0.1086817\ttotal: 190ms\tremaining: 25.9ms\n",
      "44:\tlearn: 0.1050149\ttotal: 194ms\tremaining: 21.6ms\n",
      "45:\tlearn: 0.1019910\ttotal: 198ms\tremaining: 17.2ms\n",
      "46:\tlearn: 0.1005835\ttotal: 202ms\tremaining: 12.9ms\n",
      "47:\tlearn: 0.0982732\ttotal: 206ms\tremaining: 8.6ms\n",
      "48:\tlearn: 0.0965418\ttotal: 211ms\tremaining: 4.3ms\n",
      "49:\tlearn: 0.0946276\ttotal: 215ms\tremaining: 0us\n",
      "0:\tlearn: 0.4153176\ttotal: 4.25ms\tremaining: 208ms\n",
      "1:\tlearn: 0.3685129\ttotal: 8.61ms\tremaining: 207ms\n",
      "2:\tlearn: 0.3524565\ttotal: 12.8ms\tremaining: 201ms\n",
      "3:\tlearn: 0.3334212\ttotal: 17.4ms\tremaining: 200ms\n",
      "4:\tlearn: 0.3223916\ttotal: 21.8ms\tremaining: 196ms\n",
      "5:\tlearn: 0.3145423\ttotal: 26ms\tremaining: 190ms\n",
      "6:\tlearn: 0.3072853\ttotal: 30.2ms\tremaining: 185ms\n",
      "7:\tlearn: 0.2967691\ttotal: 34.3ms\tremaining: 180ms\n",
      "8:\tlearn: 0.2880991\ttotal: 38.4ms\tremaining: 175ms\n",
      "9:\tlearn: 0.2769988\ttotal: 42.5ms\tremaining: 170ms\n",
      "10:\tlearn: 0.2684777\ttotal: 46.8ms\tremaining: 166ms\n",
      "11:\tlearn: 0.2618560\ttotal: 51ms\tremaining: 162ms\n",
      "12:\tlearn: 0.2552974\ttotal: 55.3ms\tremaining: 157ms\n",
      "13:\tlearn: 0.2479164\ttotal: 59.4ms\tremaining: 153ms\n",
      "14:\tlearn: 0.2393518\ttotal: 63.6ms\tremaining: 148ms\n",
      "15:\tlearn: 0.2305330\ttotal: 67.7ms\tremaining: 144ms\n",
      "16:\tlearn: 0.2242151\ttotal: 71.7ms\tremaining: 139ms\n",
      "17:\tlearn: 0.2175438\ttotal: 76.1ms\tremaining: 135ms\n",
      "18:\tlearn: 0.2138600\ttotal: 80.3ms\tremaining: 131ms\n",
      "19:\tlearn: 0.2088447\ttotal: 84.4ms\tremaining: 127ms\n",
      "20:\tlearn: 0.2047153\ttotal: 88.7ms\tremaining: 122ms\n",
      "21:\tlearn: 0.1981209\ttotal: 92.8ms\tremaining: 118ms\n",
      "22:\tlearn: 0.1938752\ttotal: 96.8ms\tremaining: 114ms\n",
      "23:\tlearn: 0.1893639\ttotal: 101ms\tremaining: 109ms\n",
      "24:\tlearn: 0.1841838\ttotal: 105ms\tremaining: 105ms\n",
      "25:\tlearn: 0.1783759\ttotal: 109ms\tremaining: 101ms\n",
      "26:\tlearn: 0.1741361\ttotal: 113ms\tremaining: 96.6ms\n",
      "27:\tlearn: 0.1667055\ttotal: 117ms\tremaining: 92.3ms\n",
      "28:\tlearn: 0.1626755\ttotal: 122ms\tremaining: 88.1ms\n",
      "29:\tlearn: 0.1600237\ttotal: 126ms\tremaining: 83.8ms\n",
      "30:\tlearn: 0.1545160\ttotal: 130ms\tremaining: 79.6ms\n",
      "31:\tlearn: 0.1513784\ttotal: 134ms\tremaining: 75.3ms\n",
      "32:\tlearn: 0.1493809\ttotal: 138ms\tremaining: 71ms\n",
      "33:\tlearn: 0.1461296\ttotal: 142ms\tremaining: 66.9ms\n",
      "34:\tlearn: 0.1437918\ttotal: 146ms\tremaining: 62.7ms\n",
      "35:\tlearn: 0.1393078\ttotal: 150ms\tremaining: 58.5ms\n",
      "36:\tlearn: 0.1366552\ttotal: 155ms\tremaining: 54.3ms\n",
      "37:\tlearn: 0.1336998\ttotal: 159ms\tremaining: 50.1ms\n",
      "38:\tlearn: 0.1316866\ttotal: 163ms\tremaining: 45.9ms\n",
      "39:\tlearn: 0.1286566\ttotal: 167ms\tremaining: 41.7ms\n",
      "40:\tlearn: 0.1257997\ttotal: 171ms\tremaining: 37.5ms\n",
      "41:\tlearn: 0.1208477\ttotal: 175ms\tremaining: 33.4ms\n",
      "42:\tlearn: 0.1176361\ttotal: 179ms\tremaining: 29.2ms\n",
      "43:\tlearn: 0.1160198\ttotal: 183ms\tremaining: 25ms\n",
      "44:\tlearn: 0.1129736\ttotal: 187ms\tremaining: 20.8ms\n",
      "45:\tlearn: 0.1105863\ttotal: 192ms\tremaining: 16.7ms\n",
      "46:\tlearn: 0.1079159\ttotal: 196ms\tremaining: 12.5ms\n",
      "47:\tlearn: 0.1056906\ttotal: 200ms\tremaining: 8.33ms\n",
      "48:\tlearn: 0.1031467\ttotal: 205ms\tremaining: 4.18ms\n",
      "49:\tlearn: 0.1013068\ttotal: 209ms\tremaining: 0us\n",
      "0:\tlearn: 0.4114347\ttotal: 4.23ms\tremaining: 207ms\n",
      "1:\tlearn: 0.3599829\ttotal: 8.36ms\tremaining: 201ms\n",
      "2:\tlearn: 0.3385403\ttotal: 12.5ms\tremaining: 196ms\n",
      "3:\tlearn: 0.3272230\ttotal: 16.6ms\tremaining: 190ms\n",
      "4:\tlearn: 0.3260162\ttotal: 18ms\tremaining: 162ms\n",
      "5:\tlearn: 0.3152606\ttotal: 22.1ms\tremaining: 162ms\n",
      "6:\tlearn: 0.3066452\ttotal: 26.2ms\tremaining: 161ms\n",
      "7:\tlearn: 0.2959715\ttotal: 30.5ms\tremaining: 160ms\n",
      "8:\tlearn: 0.2860628\ttotal: 34.7ms\tremaining: 158ms\n",
      "9:\tlearn: 0.2731876\ttotal: 38.7ms\tremaining: 155ms\n",
      "10:\tlearn: 0.2669605\ttotal: 43ms\tremaining: 152ms\n",
      "11:\tlearn: 0.2586025\ttotal: 47.1ms\tremaining: 149ms\n",
      "12:\tlearn: 0.2517524\ttotal: 51.3ms\tremaining: 146ms\n",
      "13:\tlearn: 0.2404477\ttotal: 55.4ms\tremaining: 142ms\n",
      "14:\tlearn: 0.2361263\ttotal: 59.6ms\tremaining: 139ms\n",
      "15:\tlearn: 0.2311961\ttotal: 63.6ms\tremaining: 135ms\n"
     ]
    },
    {
     "name": "stdout",
     "output_type": "stream",
     "text": [
      "16:\tlearn: 0.2261372\ttotal: 68.4ms\tremaining: 133ms\n",
      "17:\tlearn: 0.2230470\ttotal: 72.9ms\tremaining: 130ms\n",
      "18:\tlearn: 0.2184514\ttotal: 77.1ms\tremaining: 126ms\n",
      "19:\tlearn: 0.2127928\ttotal: 81.4ms\tremaining: 122ms\n",
      "20:\tlearn: 0.2095481\ttotal: 85.7ms\tremaining: 118ms\n",
      "21:\tlearn: 0.2058872\ttotal: 90ms\tremaining: 115ms\n",
      "22:\tlearn: 0.2028966\ttotal: 94ms\tremaining: 110ms\n",
      "23:\tlearn: 0.2010226\ttotal: 97.9ms\tremaining: 106ms\n",
      "24:\tlearn: 0.1954569\ttotal: 102ms\tremaining: 102ms\n",
      "25:\tlearn: 0.1898651\ttotal: 106ms\tremaining: 97.8ms\n",
      "26:\tlearn: 0.1864682\ttotal: 110ms\tremaining: 93.8ms\n",
      "27:\tlearn: 0.1805068\ttotal: 114ms\tremaining: 89.8ms\n",
      "28:\tlearn: 0.1767269\ttotal: 118ms\tremaining: 85.8ms\n",
      "29:\tlearn: 0.1729375\ttotal: 122ms\tremaining: 81.6ms\n",
      "30:\tlearn: 0.1693182\ttotal: 126ms\tremaining: 77.5ms\n",
      "31:\tlearn: 0.1633069\ttotal: 131ms\tremaining: 73.6ms\n",
      "32:\tlearn: 0.1585311\ttotal: 135ms\tremaining: 69.5ms\n",
      "33:\tlearn: 0.1543937\ttotal: 139ms\tremaining: 65.4ms\n",
      "34:\tlearn: 0.1488159\ttotal: 143ms\tremaining: 61.3ms\n",
      "35:\tlearn: 0.1420280\ttotal: 147ms\tremaining: 57.2ms\n",
      "36:\tlearn: 0.1388517\ttotal: 151ms\tremaining: 53.1ms\n",
      "37:\tlearn: 0.1378899\ttotal: 155ms\tremaining: 49ms\n",
      "38:\tlearn: 0.1352693\ttotal: 159ms\tremaining: 44.9ms\n",
      "39:\tlearn: 0.1326489\ttotal: 163ms\tremaining: 40.8ms\n",
      "40:\tlearn: 0.1291166\ttotal: 167ms\tremaining: 36.7ms\n",
      "41:\tlearn: 0.1276799\ttotal: 171ms\tremaining: 32.6ms\n",
      "42:\tlearn: 0.1259244\ttotal: 175ms\tremaining: 28.6ms\n",
      "43:\tlearn: 0.1212326\ttotal: 179ms\tremaining: 24.5ms\n",
      "44:\tlearn: 0.1181174\ttotal: 184ms\tremaining: 20.4ms\n",
      "45:\tlearn: 0.1153448\ttotal: 188ms\tremaining: 16.3ms\n",
      "46:\tlearn: 0.1128396\ttotal: 192ms\tremaining: 12.3ms\n",
      "47:\tlearn: 0.1115082\ttotal: 196ms\tremaining: 8.17ms\n",
      "48:\tlearn: 0.1095282\ttotal: 200ms\tremaining: 4.08ms\n",
      "49:\tlearn: 0.1054860\ttotal: 204ms\tremaining: 0us\n",
      "0:\tlearn: 0.4130001\ttotal: 4.29ms\tremaining: 210ms\n",
      "1:\tlearn: 0.3673153\ttotal: 8.71ms\tremaining: 209ms\n",
      "2:\tlearn: 0.3509671\ttotal: 12.8ms\tremaining: 200ms\n",
      "3:\tlearn: 0.3388470\ttotal: 16.9ms\tremaining: 194ms\n",
      "4:\tlearn: 0.3313516\ttotal: 21.1ms\tremaining: 190ms\n",
      "5:\tlearn: 0.3132402\ttotal: 25.2ms\tremaining: 185ms\n",
      "6:\tlearn: 0.3045079\ttotal: 29.3ms\tremaining: 180ms\n",
      "7:\tlearn: 0.2942598\ttotal: 33.5ms\tremaining: 176ms\n",
      "8:\tlearn: 0.2830146\ttotal: 37.6ms\tremaining: 171ms\n",
      "9:\tlearn: 0.2771757\ttotal: 41.8ms\tremaining: 167ms\n",
      "10:\tlearn: 0.2624525\ttotal: 46.1ms\tremaining: 163ms\n",
      "11:\tlearn: 0.2567277\ttotal: 50.4ms\tremaining: 159ms\n",
      "12:\tlearn: 0.2484311\ttotal: 54.3ms\tremaining: 155ms\n",
      "13:\tlearn: 0.2429657\ttotal: 58.4ms\tremaining: 150ms\n",
      "14:\tlearn: 0.2397700\ttotal: 62.6ms\tremaining: 146ms\n",
      "15:\tlearn: 0.2320446\ttotal: 66.7ms\tremaining: 142ms\n",
      "16:\tlearn: 0.2262331\ttotal: 70.7ms\tremaining: 137ms\n",
      "17:\tlearn: 0.2228924\ttotal: 74.9ms\tremaining: 133ms\n",
      "18:\tlearn: 0.2171969\ttotal: 78.9ms\tremaining: 129ms\n",
      "19:\tlearn: 0.2144863\ttotal: 82.8ms\tremaining: 124ms\n",
      "20:\tlearn: 0.2088090\ttotal: 87ms\tremaining: 120ms\n",
      "21:\tlearn: 0.2014319\ttotal: 91.2ms\tremaining: 116ms\n",
      "22:\tlearn: 0.1937166\ttotal: 95.3ms\tremaining: 112ms\n",
      "23:\tlearn: 0.1879959\ttotal: 99.2ms\tremaining: 108ms\n",
      "24:\tlearn: 0.1848466\ttotal: 104ms\tremaining: 104ms\n",
      "25:\tlearn: 0.1814158\ttotal: 108ms\tremaining: 99.6ms\n",
      "26:\tlearn: 0.1767939\ttotal: 112ms\tremaining: 95.6ms\n",
      "27:\tlearn: 0.1707021\ttotal: 116ms\tremaining: 91.3ms\n",
      "28:\tlearn: 0.1663904\ttotal: 120ms\tremaining: 87.1ms\n",
      "29:\tlearn: 0.1647472\ttotal: 124ms\tremaining: 83ms\n",
      "30:\tlearn: 0.1619305\ttotal: 129ms\tremaining: 78.8ms\n",
      "31:\tlearn: 0.1576458\ttotal: 133ms\tremaining: 74.6ms\n",
      "32:\tlearn: 0.1538771\ttotal: 137ms\tremaining: 70.5ms\n",
      "33:\tlearn: 0.1507385\ttotal: 141ms\tremaining: 66.4ms\n",
      "34:\tlearn: 0.1480905\ttotal: 145ms\tremaining: 62.2ms\n",
      "35:\tlearn: 0.1438786\ttotal: 149ms\tremaining: 58.1ms\n",
      "36:\tlearn: 0.1402714\ttotal: 153ms\tremaining: 53.9ms\n",
      "37:\tlearn: 0.1372205\ttotal: 157ms\tremaining: 49.7ms\n",
      "38:\tlearn: 0.1337278\ttotal: 161ms\tremaining: 45.5ms\n",
      "39:\tlearn: 0.1322651\ttotal: 166ms\tremaining: 41.4ms\n",
      "40:\tlearn: 0.1291788\ttotal: 170ms\tremaining: 37.3ms\n",
      "41:\tlearn: 0.1270124\ttotal: 174ms\tremaining: 33.1ms\n",
      "42:\tlearn: 0.1227768\ttotal: 178ms\tremaining: 29ms\n",
      "43:\tlearn: 0.1206117\ttotal: 182ms\tremaining: 24.8ms\n",
      "44:\tlearn: 0.1191462\ttotal: 186ms\tremaining: 20.7ms\n",
      "45:\tlearn: 0.1135897\ttotal: 191ms\tremaining: 16.6ms\n",
      "46:\tlearn: 0.1107936\ttotal: 195ms\tremaining: 12.4ms\n",
      "47:\tlearn: 0.1073310\ttotal: 199ms\tremaining: 8.29ms\n",
      "48:\tlearn: 0.1041513\ttotal: 203ms\tremaining: 4.15ms\n",
      "49:\tlearn: 0.1026015\ttotal: 208ms\tremaining: 0us\n",
      "0:\tlearn: 0.4768382\ttotal: 1.97ms\tremaining: 195ms\n",
      "1:\tlearn: 0.4159360\ttotal: 3.3ms\tremaining: 162ms\n",
      "2:\tlearn: 0.3866926\ttotal: 5.17ms\tremaining: 167ms\n",
      "3:\tlearn: 0.3748926\ttotal: 7.07ms\tremaining: 170ms\n",
      "4:\tlearn: 0.3663750\ttotal: 8.9ms\tremaining: 169ms\n",
      "5:\tlearn: 0.3632689\ttotal: 10.7ms\tremaining: 167ms\n",
      "6:\tlearn: 0.3587995\ttotal: 12.5ms\tremaining: 166ms\n",
      "7:\tlearn: 0.3557041\ttotal: 14.4ms\tremaining: 165ms\n",
      "8:\tlearn: 0.3531808\ttotal: 16.2ms\tremaining: 164ms\n",
      "9:\tlearn: 0.3489021\ttotal: 18.1ms\tremaining: 163ms\n",
      "10:\tlearn: 0.3471518\ttotal: 19.8ms\tremaining: 160ms\n",
      "11:\tlearn: 0.3447940\ttotal: 21.7ms\tremaining: 159ms\n",
      "12:\tlearn: 0.3428605\ttotal: 23.5ms\tremaining: 157ms\n",
      "13:\tlearn: 0.3394219\ttotal: 25.3ms\tremaining: 156ms\n",
      "14:\tlearn: 0.3376469\ttotal: 27.2ms\tremaining: 154ms\n",
      "15:\tlearn: 0.3357847\ttotal: 29ms\tremaining: 152ms\n",
      "16:\tlearn: 0.3311632\ttotal: 30.9ms\tremaining: 151ms\n",
      "17:\tlearn: 0.3285779\ttotal: 32.8ms\tremaining: 149ms\n",
      "18:\tlearn: 0.3264764\ttotal: 34.8ms\tremaining: 148ms\n",
      "19:\tlearn: 0.3224103\ttotal: 36.7ms\tremaining: 147ms\n",
      "20:\tlearn: 0.3223186\ttotal: 37.7ms\tremaining: 142ms\n",
      "21:\tlearn: 0.3184784\ttotal: 39.5ms\tremaining: 140ms\n",
      "22:\tlearn: 0.3121095\ttotal: 41.4ms\tremaining: 139ms\n",
      "23:\tlearn: 0.3083598\ttotal: 43.2ms\tremaining: 137ms\n",
      "24:\tlearn: 0.3059839\ttotal: 45.1ms\tremaining: 135ms\n",
      "25:\tlearn: 0.3027691\ttotal: 47.2ms\tremaining: 134ms\n",
      "26:\tlearn: 0.2991645\ttotal: 49.4ms\tremaining: 134ms\n",
      "27:\tlearn: 0.2978092\ttotal: 51.7ms\tremaining: 133ms\n",
      "28:\tlearn: 0.2955260\ttotal: 54.1ms\tremaining: 133ms\n",
      "29:\tlearn: 0.2934973\ttotal: 56.3ms\tremaining: 131ms\n",
      "30:\tlearn: 0.2917292\ttotal: 58.2ms\tremaining: 130ms\n",
      "31:\tlearn: 0.2897647\ttotal: 60.2ms\tremaining: 128ms\n",
      "32:\tlearn: 0.2880868\ttotal: 62.3ms\tremaining: 126ms\n",
      "33:\tlearn: 0.2860927\ttotal: 64.2ms\tremaining: 125ms\n",
      "34:\tlearn: 0.2821023\ttotal: 66.1ms\tremaining: 123ms\n",
      "35:\tlearn: 0.2803195\ttotal: 67.8ms\tremaining: 120ms\n",
      "36:\tlearn: 0.2769146\ttotal: 69.7ms\tremaining: 119ms\n",
      "37:\tlearn: 0.2747105\ttotal: 71.6ms\tremaining: 117ms\n",
      "38:\tlearn: 0.2735151\ttotal: 73.5ms\tremaining: 115ms\n",
      "39:\tlearn: 0.2711561\ttotal: 75.4ms\tremaining: 113ms\n",
      "40:\tlearn: 0.2699465\ttotal: 77.3ms\tremaining: 111ms\n",
      "41:\tlearn: 0.2681694\ttotal: 79ms\tremaining: 109ms\n",
      "42:\tlearn: 0.2663395\ttotal: 80.9ms\tremaining: 107ms\n",
      "43:\tlearn: 0.2638960\ttotal: 82.8ms\tremaining: 105ms\n",
      "44:\tlearn: 0.2614623\ttotal: 84.7ms\tremaining: 103ms\n",
      "45:\tlearn: 0.2587960\ttotal: 86.5ms\tremaining: 102ms\n",
      "46:\tlearn: 0.2544259\ttotal: 88.4ms\tremaining: 99.7ms\n",
      "47:\tlearn: 0.2530757\ttotal: 90.2ms\tremaining: 97.7ms\n",
      "48:\tlearn: 0.2510622\ttotal: 92.1ms\tremaining: 95.8ms\n",
      "49:\tlearn: 0.2500453\ttotal: 93.9ms\tremaining: 93.9ms\n",
      "50:\tlearn: 0.2481186\ttotal: 95.8ms\tremaining: 92ms\n",
      "51:\tlearn: 0.2458755\ttotal: 97.6ms\tremaining: 90.1ms\n",
      "52:\tlearn: 0.2440719\ttotal: 99.5ms\tremaining: 88.2ms\n",
      "53:\tlearn: 0.2419951\ttotal: 101ms\tremaining: 86.3ms\n",
      "54:\tlearn: 0.2401442\ttotal: 103ms\tremaining: 84.4ms\n",
      "55:\tlearn: 0.2389879\ttotal: 105ms\tremaining: 82.5ms\n",
      "56:\tlearn: 0.2369961\ttotal: 107ms\tremaining: 80.6ms\n",
      "57:\tlearn: 0.2352762\ttotal: 109ms\tremaining: 78.7ms\n",
      "58:\tlearn: 0.2340314\ttotal: 110ms\tremaining: 76.8ms\n",
      "59:\tlearn: 0.2320609\ttotal: 112ms\tremaining: 74.9ms\n",
      "60:\tlearn: 0.2305135\ttotal: 114ms\tremaining: 72.9ms\n",
      "61:\tlearn: 0.2295241\ttotal: 116ms\tremaining: 71.1ms\n",
      "62:\tlearn: 0.2278243\ttotal: 118ms\tremaining: 69.2ms\n",
      "63:\tlearn: 0.2267361\ttotal: 120ms\tremaining: 67.4ms\n",
      "64:\tlearn: 0.2248512\ttotal: 122ms\tremaining: 65.5ms\n",
      "65:\tlearn: 0.2234509\ttotal: 124ms\tremaining: 63.6ms\n",
      "66:\tlearn: 0.2221619\ttotal: 125ms\tremaining: 61.7ms\n",
      "67:\tlearn: 0.2212328\ttotal: 127ms\tremaining: 59.9ms\n",
      "68:\tlearn: 0.2195761\ttotal: 129ms\tremaining: 58ms\n",
      "69:\tlearn: 0.2182470\ttotal: 131ms\tremaining: 56.1ms\n",
      "70:\tlearn: 0.2168522\ttotal: 133ms\tremaining: 54.3ms\n",
      "71:\tlearn: 0.2162922\ttotal: 135ms\tremaining: 52.4ms\n",
      "72:\tlearn: 0.2157438\ttotal: 137ms\tremaining: 50.5ms\n",
      "73:\tlearn: 0.2145818\ttotal: 138ms\tremaining: 48.7ms\n",
      "74:\tlearn: 0.2130986\ttotal: 140ms\tremaining: 46.8ms\n",
      "75:\tlearn: 0.2116654\ttotal: 142ms\tremaining: 45ms\n",
      "76:\tlearn: 0.2099876\ttotal: 145ms\tremaining: 43.2ms\n",
      "77:\tlearn: 0.2082666\ttotal: 147ms\tremaining: 41.4ms\n",
      "78:\tlearn: 0.2075276\ttotal: 149ms\tremaining: 39.7ms\n",
      "79:\tlearn: 0.2065314\ttotal: 151ms\tremaining: 37.8ms\n",
      "80:\tlearn: 0.2058550\ttotal: 153ms\tremaining: 35.9ms\n",
      "81:\tlearn: 0.2044674\ttotal: 155ms\tremaining: 34ms\n",
      "82:\tlearn: 0.2027143\ttotal: 157ms\tremaining: 32.1ms\n",
      "83:\tlearn: 0.2012200\ttotal: 159ms\tremaining: 30.2ms\n",
      "84:\tlearn: 0.1995276\ttotal: 161ms\tremaining: 28.3ms\n",
      "85:\tlearn: 0.1987452\ttotal: 162ms\tremaining: 26.4ms\n",
      "86:\tlearn: 0.1969978\ttotal: 164ms\tremaining: 24.5ms\n",
      "87:\tlearn: 0.1963910\ttotal: 166ms\tremaining: 22.7ms\n",
      "88:\tlearn: 0.1947077\ttotal: 168ms\tremaining: 20.8ms\n",
      "89:\tlearn: 0.1934037\ttotal: 170ms\tremaining: 18.9ms\n",
      "90:\tlearn: 0.1925975\ttotal: 172ms\tremaining: 17ms\n",
      "91:\tlearn: 0.1918615\ttotal: 174ms\tremaining: 15.1ms\n",
      "92:\tlearn: 0.1906990\ttotal: 175ms\tremaining: 13.2ms\n",
      "93:\tlearn: 0.1896255\ttotal: 177ms\tremaining: 11.3ms\n",
      "94:\tlearn: 0.1889636\ttotal: 179ms\tremaining: 9.44ms\n",
      "95:\tlearn: 0.1879743\ttotal: 181ms\tremaining: 7.56ms\n",
      "96:\tlearn: 0.1867517\ttotal: 183ms\tremaining: 5.67ms\n",
      "97:\tlearn: 0.1852364\ttotal: 185ms\tremaining: 3.78ms\n",
      "98:\tlearn: 0.1845276\ttotal: 187ms\tremaining: 1.89ms\n",
      "99:\tlearn: 0.1835185\ttotal: 189ms\tremaining: 0us\n"
     ]
    },
    {
     "name": "stdout",
     "output_type": "stream",
     "text": [
      "0:\tlearn: 0.4798217\ttotal: 2.02ms\tremaining: 200ms\n",
      "1:\tlearn: 0.4093243\ttotal: 4.16ms\tremaining: 204ms\n",
      "2:\tlearn: 0.4043124\ttotal: 5.16ms\tremaining: 167ms\n",
      "3:\tlearn: 0.3832129\ttotal: 7.03ms\tremaining: 169ms\n",
      "4:\tlearn: 0.3732911\ttotal: 8.93ms\tremaining: 170ms\n",
      "5:\tlearn: 0.3687636\ttotal: 10.6ms\tremaining: 167ms\n",
      "6:\tlearn: 0.3645144\ttotal: 12.5ms\tremaining: 166ms\n",
      "7:\tlearn: 0.3592135\ttotal: 14.2ms\tremaining: 164ms\n",
      "8:\tlearn: 0.3545543\ttotal: 16.2ms\tremaining: 164ms\n",
      "9:\tlearn: 0.3487734\ttotal: 18.1ms\tremaining: 163ms\n",
      "10:\tlearn: 0.3443546\ttotal: 20ms\tremaining: 161ms\n",
      "11:\tlearn: 0.3417834\ttotal: 21.8ms\tremaining: 160ms\n",
      "12:\tlearn: 0.3386233\ttotal: 23.7ms\tremaining: 158ms\n",
      "13:\tlearn: 0.3354331\ttotal: 25.5ms\tremaining: 157ms\n",
      "14:\tlearn: 0.3325255\ttotal: 27.4ms\tremaining: 155ms\n",
      "15:\tlearn: 0.3311882\ttotal: 29.2ms\tremaining: 153ms\n",
      "16:\tlearn: 0.3274394\ttotal: 31ms\tremaining: 151ms\n",
      "17:\tlearn: 0.3247656\ttotal: 32.8ms\tremaining: 150ms\n",
      "18:\tlearn: 0.3221325\ttotal: 34.7ms\tremaining: 148ms\n",
      "19:\tlearn: 0.3190950\ttotal: 36.7ms\tremaining: 147ms\n",
      "20:\tlearn: 0.3148068\ttotal: 38.5ms\tremaining: 145ms\n",
      "21:\tlearn: 0.3116256\ttotal: 40.5ms\tremaining: 143ms\n",
      "22:\tlearn: 0.3087180\ttotal: 42.4ms\tremaining: 142ms\n",
      "23:\tlearn: 0.3060571\ttotal: 44.3ms\tremaining: 140ms\n",
      "24:\tlearn: 0.3017100\ttotal: 46.1ms\tremaining: 138ms\n",
      "25:\tlearn: 0.2991132\ttotal: 48ms\tremaining: 137ms\n",
      "26:\tlearn: 0.2962416\ttotal: 49.8ms\tremaining: 135ms\n",
      "27:\tlearn: 0.2937423\ttotal: 51.7ms\tremaining: 133ms\n",
      "28:\tlearn: 0.2916821\ttotal: 53.6ms\tremaining: 131ms\n",
      "29:\tlearn: 0.2890047\ttotal: 55.5ms\tremaining: 129ms\n",
      "30:\tlearn: 0.2866810\ttotal: 57.2ms\tremaining: 127ms\n",
      "31:\tlearn: 0.2839283\ttotal: 59.1ms\tremaining: 126ms\n",
      "32:\tlearn: 0.2809002\ttotal: 61ms\tremaining: 124ms\n",
      "33:\tlearn: 0.2777874\ttotal: 62.8ms\tremaining: 122ms\n",
      "34:\tlearn: 0.2743166\ttotal: 64.7ms\tremaining: 120ms\n",
      "35:\tlearn: 0.2723941\ttotal: 66.6ms\tremaining: 118ms\n",
      "36:\tlearn: 0.2697446\ttotal: 68.4ms\tremaining: 116ms\n",
      "37:\tlearn: 0.2674067\ttotal: 70.3ms\tremaining: 115ms\n",
      "38:\tlearn: 0.2647946\ttotal: 72.1ms\tremaining: 113ms\n",
      "39:\tlearn: 0.2631693\ttotal: 74ms\tremaining: 111ms\n",
      "40:\tlearn: 0.2613604\ttotal: 75.9ms\tremaining: 109ms\n",
      "41:\tlearn: 0.2592766\ttotal: 77.7ms\tremaining: 107ms\n",
      "42:\tlearn: 0.2566320\ttotal: 79.6ms\tremaining: 105ms\n",
      "43:\tlearn: 0.2541990\ttotal: 81.4ms\tremaining: 104ms\n",
      "44:\tlearn: 0.2519732\ttotal: 83.3ms\tremaining: 102ms\n",
      "45:\tlearn: 0.2511416\ttotal: 85.1ms\tremaining: 99.8ms\n",
      "46:\tlearn: 0.2490959\ttotal: 86.9ms\tremaining: 98ms\n",
      "47:\tlearn: 0.2471628\ttotal: 88.7ms\tremaining: 96.1ms\n",
      "48:\tlearn: 0.2450549\ttotal: 90.6ms\tremaining: 94.3ms\n",
      "49:\tlearn: 0.2434798\ttotal: 92.4ms\tremaining: 92.4ms\n",
      "50:\tlearn: 0.2421739\ttotal: 94.3ms\tremaining: 90.6ms\n",
      "51:\tlearn: 0.2405036\ttotal: 96.1ms\tremaining: 88.7ms\n",
      "52:\tlearn: 0.2385673\ttotal: 98ms\tremaining: 86.9ms\n",
      "53:\tlearn: 0.2367177\ttotal: 99.9ms\tremaining: 85.1ms\n",
      "54:\tlearn: 0.2351318\ttotal: 102ms\tremaining: 83.3ms\n",
      "55:\tlearn: 0.2336822\ttotal: 104ms\tremaining: 81.4ms\n",
      "56:\tlearn: 0.2324939\ttotal: 106ms\tremaining: 79.6ms\n",
      "57:\tlearn: 0.2309868\ttotal: 107ms\tremaining: 77.7ms\n",
      "58:\tlearn: 0.2295278\ttotal: 109ms\tremaining: 75.9ms\n",
      "59:\tlearn: 0.2282944\ttotal: 111ms\tremaining: 74ms\n",
      "60:\tlearn: 0.2272414\ttotal: 113ms\tremaining: 72.1ms\n",
      "61:\tlearn: 0.2264034\ttotal: 115ms\tremaining: 70.3ms\n",
      "62:\tlearn: 0.2247079\ttotal: 117ms\tremaining: 68.5ms\n",
      "63:\tlearn: 0.2230210\ttotal: 118ms\tremaining: 66.6ms\n",
      "64:\tlearn: 0.2214240\ttotal: 120ms\tremaining: 64.8ms\n",
      "65:\tlearn: 0.2206343\ttotal: 122ms\tremaining: 63ms\n",
      "66:\tlearn: 0.2192714\ttotal: 124ms\tremaining: 61.1ms\n",
      "67:\tlearn: 0.2171497\ttotal: 126ms\tremaining: 59.3ms\n",
      "68:\tlearn: 0.2158649\ttotal: 128ms\tremaining: 57.4ms\n",
      "69:\tlearn: 0.2145122\ttotal: 130ms\tremaining: 55.6ms\n",
      "70:\tlearn: 0.2130733\ttotal: 132ms\tremaining: 53.7ms\n",
      "71:\tlearn: 0.2119678\ttotal: 133ms\tremaining: 51.9ms\n",
      "72:\tlearn: 0.2095792\ttotal: 135ms\tremaining: 50ms\n",
      "73:\tlearn: 0.2086295\ttotal: 137ms\tremaining: 48.2ms\n",
      "74:\tlearn: 0.2071153\ttotal: 139ms\tremaining: 46.3ms\n",
      "75:\tlearn: 0.2061753\ttotal: 141ms\tremaining: 44.5ms\n",
      "76:\tlearn: 0.2044247\ttotal: 143ms\tremaining: 42.7ms\n",
      "77:\tlearn: 0.2029038\ttotal: 145ms\tremaining: 41ms\n",
      "78:\tlearn: 0.2016302\ttotal: 148ms\tremaining: 39.2ms\n",
      "79:\tlearn: 0.2002176\ttotal: 150ms\tremaining: 37.4ms\n",
      "80:\tlearn: 0.1989617\ttotal: 152ms\tremaining: 35.6ms\n",
      "81:\tlearn: 0.1979681\ttotal: 154ms\tremaining: 33.8ms\n",
      "82:\tlearn: 0.1966595\ttotal: 156ms\tremaining: 32ms\n",
      "83:\tlearn: 0.1952578\ttotal: 158ms\tremaining: 30.1ms\n",
      "84:\tlearn: 0.1941365\ttotal: 160ms\tremaining: 28.3ms\n",
      "85:\tlearn: 0.1930089\ttotal: 163ms\tremaining: 26.5ms\n",
      "86:\tlearn: 0.1918567\ttotal: 165ms\tremaining: 24.6ms\n",
      "87:\tlearn: 0.1913052\ttotal: 167ms\tremaining: 22.7ms\n",
      "88:\tlearn: 0.1900886\ttotal: 169ms\tremaining: 20.9ms\n",
      "89:\tlearn: 0.1889884\ttotal: 171ms\tremaining: 19ms\n",
      "90:\tlearn: 0.1879795\ttotal: 172ms\tremaining: 17.1ms\n",
      "91:\tlearn: 0.1873997\ttotal: 174ms\tremaining: 15.2ms\n",
      "92:\tlearn: 0.1864315\ttotal: 176ms\tremaining: 13.3ms\n",
      "93:\tlearn: 0.1856334\ttotal: 178ms\tremaining: 11.4ms\n",
      "94:\tlearn: 0.1849175\ttotal: 180ms\tremaining: 9.48ms\n",
      "95:\tlearn: 0.1839067\ttotal: 182ms\tremaining: 7.58ms\n",
      "96:\tlearn: 0.1832979\ttotal: 184ms\tremaining: 5.68ms\n",
      "97:\tlearn: 0.1824128\ttotal: 186ms\tremaining: 3.79ms\n",
      "98:\tlearn: 0.1810851\ttotal: 187ms\tremaining: 1.89ms\n",
      "99:\tlearn: 0.1802518\ttotal: 189ms\tremaining: 0us\n",
      "0:\tlearn: 0.4771555\ttotal: 1.99ms\tremaining: 197ms\n",
      "1:\tlearn: 0.4088395\ttotal: 4.08ms\tremaining: 200ms\n",
      "2:\tlearn: 0.4038210\ttotal: 5.11ms\tremaining: 165ms\n",
      "3:\tlearn: 0.3786039\ttotal: 6.95ms\tremaining: 167ms\n",
      "4:\tlearn: 0.3683747\ttotal: 8.82ms\tremaining: 168ms\n",
      "5:\tlearn: 0.3628645\ttotal: 10.6ms\tremaining: 167ms\n",
      "6:\tlearn: 0.3569129\ttotal: 12.5ms\tremaining: 166ms\n",
      "7:\tlearn: 0.3519633\ttotal: 14.2ms\tremaining: 164ms\n",
      "8:\tlearn: 0.3486974\ttotal: 16ms\tremaining: 162ms\n",
      "9:\tlearn: 0.3462407\ttotal: 17.7ms\tremaining: 159ms\n",
      "10:\tlearn: 0.3406315\ttotal: 19.5ms\tremaining: 158ms\n",
      "11:\tlearn: 0.3373978\ttotal: 21.4ms\tremaining: 157ms\n",
      "12:\tlearn: 0.3344581\ttotal: 23.1ms\tremaining: 154ms\n",
      "13:\tlearn: 0.3322903\ttotal: 25ms\tremaining: 153ms\n",
      "14:\tlearn: 0.3298333\ttotal: 26.8ms\tremaining: 152ms\n",
      "15:\tlearn: 0.3279632\ttotal: 28.7ms\tremaining: 151ms\n",
      "16:\tlearn: 0.3248528\ttotal: 30.6ms\tremaining: 149ms\n",
      "17:\tlearn: 0.3241251\ttotal: 32.5ms\tremaining: 148ms\n",
      "18:\tlearn: 0.3202947\ttotal: 34.3ms\tremaining: 146ms\n",
      "19:\tlearn: 0.3166944\ttotal: 36.2ms\tremaining: 145ms\n",
      "20:\tlearn: 0.3133682\ttotal: 38ms\tremaining: 143ms\n",
      "21:\tlearn: 0.3081359\ttotal: 39.9ms\tremaining: 141ms\n",
      "22:\tlearn: 0.3052595\ttotal: 41.7ms\tremaining: 140ms\n",
      "23:\tlearn: 0.3023734\ttotal: 43.5ms\tremaining: 138ms\n",
      "24:\tlearn: 0.2986021\ttotal: 45.3ms\tremaining: 136ms\n",
      "25:\tlearn: 0.2957670\ttotal: 47.1ms\tremaining: 134ms\n",
      "26:\tlearn: 0.2929274\ttotal: 48.9ms\tremaining: 132ms\n",
      "27:\tlearn: 0.2889360\ttotal: 50.7ms\tremaining: 130ms\n",
      "28:\tlearn: 0.2872209\ttotal: 52.6ms\tremaining: 129ms\n",
      "29:\tlearn: 0.2853380\ttotal: 54.4ms\tremaining: 127ms\n",
      "30:\tlearn: 0.2824496\ttotal: 56.3ms\tremaining: 125ms\n",
      "31:\tlearn: 0.2798249\ttotal: 58.1ms\tremaining: 124ms\n",
      "32:\tlearn: 0.2766737\ttotal: 60ms\tremaining: 122ms\n",
      "33:\tlearn: 0.2750955\ttotal: 62ms\tremaining: 120ms\n",
      "34:\tlearn: 0.2736653\ttotal: 63.9ms\tremaining: 119ms\n",
      "35:\tlearn: 0.2715989\ttotal: 65.8ms\tremaining: 117ms\n",
      "36:\tlearn: 0.2701147\ttotal: 67.7ms\tremaining: 115ms\n",
      "37:\tlearn: 0.2685656\ttotal: 69.7ms\tremaining: 114ms\n",
      "38:\tlearn: 0.2667254\ttotal: 71.5ms\tremaining: 112ms\n",
      "39:\tlearn: 0.2645775\ttotal: 73.3ms\tremaining: 110ms\n",
      "40:\tlearn: 0.2634267\ttotal: 75.1ms\tremaining: 108ms\n",
      "41:\tlearn: 0.2617018\ttotal: 77ms\tremaining: 106ms\n",
      "42:\tlearn: 0.2599512\ttotal: 78.8ms\tremaining: 104ms\n",
      "43:\tlearn: 0.2573886\ttotal: 80.7ms\tremaining: 103ms\n",
      "44:\tlearn: 0.2562881\ttotal: 82.7ms\tremaining: 101ms\n",
      "45:\tlearn: 0.2546598\ttotal: 84.6ms\tremaining: 99.3ms\n",
      "46:\tlearn: 0.2525615\ttotal: 86.4ms\tremaining: 97.5ms\n",
      "47:\tlearn: 0.2506965\ttotal: 88.3ms\tremaining: 95.6ms\n",
      "48:\tlearn: 0.2490123\ttotal: 90ms\tremaining: 93.7ms\n",
      "49:\tlearn: 0.2471043\ttotal: 91.9ms\tremaining: 91.9ms\n",
      "50:\tlearn: 0.2459512\ttotal: 93.7ms\tremaining: 90ms\n",
      "51:\tlearn: 0.2444583\ttotal: 95.6ms\tremaining: 88.2ms\n",
      "52:\tlearn: 0.2433946\ttotal: 97.5ms\tremaining: 86.4ms\n",
      "53:\tlearn: 0.2410623\ttotal: 99.8ms\tremaining: 85ms\n",
      "54:\tlearn: 0.2393195\ttotal: 102ms\tremaining: 83.1ms\n",
      "55:\tlearn: 0.2371579\ttotal: 103ms\tremaining: 81.3ms\n",
      "56:\tlearn: 0.2356893\ttotal: 105ms\tremaining: 79.4ms\n",
      "57:\tlearn: 0.2349253\ttotal: 107ms\tremaining: 77.6ms\n",
      "58:\tlearn: 0.2335461\ttotal: 109ms\tremaining: 75.8ms\n",
      "59:\tlearn: 0.2319663\ttotal: 111ms\tremaining: 74ms\n",
      "60:\tlearn: 0.2306405\ttotal: 113ms\tremaining: 72.1ms\n",
      "61:\tlearn: 0.2291730\ttotal: 115ms\tremaining: 70.3ms\n",
      "62:\tlearn: 0.2273064\ttotal: 117ms\tremaining: 68.4ms\n",
      "63:\tlearn: 0.2262103\ttotal: 118ms\tremaining: 66.6ms\n",
      "64:\tlearn: 0.2242971\ttotal: 120ms\tremaining: 64.8ms\n",
      "65:\tlearn: 0.2235391\ttotal: 122ms\tremaining: 62.9ms\n",
      "66:\tlearn: 0.2216334\ttotal: 124ms\tremaining: 61.1ms\n",
      "67:\tlearn: 0.2198715\ttotal: 126ms\tremaining: 59.2ms\n",
      "68:\tlearn: 0.2189661\ttotal: 128ms\tremaining: 57.4ms\n",
      "69:\tlearn: 0.2182868\ttotal: 130ms\tremaining: 55.5ms\n",
      "70:\tlearn: 0.2167066\ttotal: 131ms\tremaining: 53.7ms\n",
      "71:\tlearn: 0.2151843\ttotal: 133ms\tremaining: 51.9ms\n",
      "72:\tlearn: 0.2141860\ttotal: 135ms\tremaining: 50ms\n",
      "73:\tlearn: 0.2129038\ttotal: 137ms\tremaining: 48.1ms\n",
      "74:\tlearn: 0.2119146\ttotal: 139ms\tremaining: 46.3ms\n",
      "75:\tlearn: 0.2102759\ttotal: 141ms\tremaining: 44.4ms\n",
      "76:\tlearn: 0.2087062\ttotal: 143ms\tremaining: 42.6ms\n",
      "77:\tlearn: 0.2080595\ttotal: 144ms\tremaining: 40.7ms\n",
      "78:\tlearn: 0.2071287\ttotal: 146ms\tremaining: 38.9ms\n",
      "79:\tlearn: 0.2061209\ttotal: 148ms\tremaining: 37ms\n",
      "80:\tlearn: 0.2045147\ttotal: 150ms\tremaining: 35.2ms\n",
      "81:\tlearn: 0.2033827\ttotal: 152ms\tremaining: 33.3ms\n",
      "82:\tlearn: 0.2016584\ttotal: 154ms\tremaining: 31.5ms\n",
      "83:\tlearn: 0.2004701\ttotal: 155ms\tremaining: 29.6ms\n",
      "84:\tlearn: 0.1995820\ttotal: 157ms\tremaining: 27.8ms\n",
      "85:\tlearn: 0.1984663\ttotal: 159ms\tremaining: 25.9ms\n",
      "86:\tlearn: 0.1972251\ttotal: 161ms\tremaining: 24.1ms\n",
      "87:\tlearn: 0.1960395\ttotal: 163ms\tremaining: 22.2ms\n",
      "88:\tlearn: 0.1950673\ttotal: 165ms\tremaining: 20.4ms\n",
      "89:\tlearn: 0.1942427\ttotal: 167ms\tremaining: 18.5ms\n",
      "90:\tlearn: 0.1932670\ttotal: 168ms\tremaining: 16.7ms\n",
      "91:\tlearn: 0.1926764\ttotal: 170ms\tremaining: 14.8ms\n",
      "92:\tlearn: 0.1918582\ttotal: 172ms\tremaining: 13ms\n",
      "93:\tlearn: 0.1907179\ttotal: 174ms\tremaining: 11.1ms\n",
      "94:\tlearn: 0.1890613\ttotal: 176ms\tremaining: 9.26ms\n",
      "95:\tlearn: 0.1881503\ttotal: 178ms\tremaining: 7.41ms\n",
      "96:\tlearn: 0.1868924\ttotal: 180ms\tremaining: 5.56ms\n",
      "97:\tlearn: 0.1856744\ttotal: 182ms\tremaining: 3.71ms\n",
      "98:\tlearn: 0.1848128\ttotal: 184ms\tremaining: 1.86ms\n",
      "99:\tlearn: 0.1844549\ttotal: 186ms\tremaining: 0us\n"
     ]
    },
    {
     "name": "stdout",
     "output_type": "stream",
     "text": [
      "0:\tlearn: 0.4741890\ttotal: 2.19ms\tremaining: 217ms\n",
      "1:\tlearn: 0.4054721\ttotal: 4.3ms\tremaining: 211ms\n",
      "2:\tlearn: 0.4003319\ttotal: 5.49ms\tremaining: 178ms\n",
      "3:\tlearn: 0.3779972\ttotal: 7.56ms\tremaining: 181ms\n",
      "4:\tlearn: 0.3671547\ttotal: 9.85ms\tremaining: 187ms\n",
      "5:\tlearn: 0.3645338\ttotal: 11.1ms\tremaining: 173ms\n",
      "6:\tlearn: 0.3572497\ttotal: 12.9ms\tremaining: 172ms\n",
      "7:\tlearn: 0.3521401\ttotal: 14.8ms\tremaining: 170ms\n",
      "8:\tlearn: 0.3506893\ttotal: 16.6ms\tremaining: 167ms\n",
      "9:\tlearn: 0.3488061\ttotal: 18.3ms\tremaining: 165ms\n",
      "10:\tlearn: 0.3468490\ttotal: 20ms\tremaining: 162ms\n",
      "11:\tlearn: 0.3419348\ttotal: 21.8ms\tremaining: 160ms\n",
      "12:\tlearn: 0.3382965\ttotal: 23.7ms\tremaining: 159ms\n",
      "13:\tlearn: 0.3336774\ttotal: 25.6ms\tremaining: 158ms\n",
      "14:\tlearn: 0.3311888\ttotal: 27.5ms\tremaining: 156ms\n",
      "15:\tlearn: 0.3273137\ttotal: 29.3ms\tremaining: 154ms\n",
      "16:\tlearn: 0.3251538\ttotal: 31.2ms\tremaining: 152ms\n",
      "17:\tlearn: 0.3238083\ttotal: 33ms\tremaining: 151ms\n",
      "18:\tlearn: 0.3200882\ttotal: 34.9ms\tremaining: 149ms\n",
      "19:\tlearn: 0.3174321\ttotal: 36.7ms\tremaining: 147ms\n",
      "20:\tlearn: 0.3119222\ttotal: 38.7ms\tremaining: 145ms\n",
      "21:\tlearn: 0.3090584\ttotal: 40.5ms\tremaining: 144ms\n",
      "22:\tlearn: 0.3062217\ttotal: 42.3ms\tremaining: 142ms\n",
      "23:\tlearn: 0.3041089\ttotal: 44.1ms\tremaining: 140ms\n",
      "24:\tlearn: 0.3020717\ttotal: 46ms\tremaining: 138ms\n",
      "25:\tlearn: 0.2990623\ttotal: 47.8ms\tremaining: 136ms\n",
      "26:\tlearn: 0.2966316\ttotal: 49.7ms\tremaining: 134ms\n",
      "27:\tlearn: 0.2937317\ttotal: 51.5ms\tremaining: 132ms\n",
      "28:\tlearn: 0.2911405\ttotal: 53.4ms\tremaining: 131ms\n",
      "29:\tlearn: 0.2889731\ttotal: 55.2ms\tremaining: 129ms\n",
      "30:\tlearn: 0.2869786\ttotal: 57.1ms\tremaining: 127ms\n",
      "31:\tlearn: 0.2854234\ttotal: 59ms\tremaining: 125ms\n",
      "32:\tlearn: 0.2832584\ttotal: 60.9ms\tremaining: 124ms\n",
      "33:\tlearn: 0.2811927\ttotal: 62.7ms\tremaining: 122ms\n",
      "34:\tlearn: 0.2781592\ttotal: 64.7ms\tremaining: 120ms\n",
      "35:\tlearn: 0.2763715\ttotal: 66.6ms\tremaining: 118ms\n",
      "36:\tlearn: 0.2737322\ttotal: 68.4ms\tremaining: 117ms\n",
      "37:\tlearn: 0.2714096\ttotal: 70.3ms\tremaining: 115ms\n",
      "38:\tlearn: 0.2702756\ttotal: 72.2ms\tremaining: 113ms\n",
      "39:\tlearn: 0.2679932\ttotal: 74.1ms\tremaining: 111ms\n",
      "40:\tlearn: 0.2643425\ttotal: 75.9ms\tremaining: 109ms\n",
      "41:\tlearn: 0.2610264\ttotal: 77.8ms\tremaining: 107ms\n",
      "42:\tlearn: 0.2587289\ttotal: 79.6ms\tremaining: 106ms\n",
      "43:\tlearn: 0.2568362\ttotal: 81.5ms\tremaining: 104ms\n",
      "44:\tlearn: 0.2550111\ttotal: 83.3ms\tremaining: 102ms\n",
      "45:\tlearn: 0.2535480\ttotal: 85.2ms\tremaining: 100ms\n",
      "46:\tlearn: 0.2516991\ttotal: 87ms\tremaining: 98.1ms\n",
      "47:\tlearn: 0.2501199\ttotal: 88.9ms\tremaining: 96.3ms\n",
      "48:\tlearn: 0.2481159\ttotal: 90.7ms\tremaining: 94.4ms\n",
      "49:\tlearn: 0.2463099\ttotal: 92.5ms\tremaining: 92.5ms\n",
      "50:\tlearn: 0.2448886\ttotal: 94.3ms\tremaining: 90.6ms\n",
      "51:\tlearn: 0.2436484\ttotal: 96.2ms\tremaining: 88.8ms\n",
      "52:\tlearn: 0.2416507\ttotal: 98ms\tremaining: 86.9ms\n",
      "53:\tlearn: 0.2406292\ttotal: 99.9ms\tremaining: 85.1ms\n",
      "54:\tlearn: 0.2393073\ttotal: 102ms\tremaining: 83.3ms\n",
      "55:\tlearn: 0.2363917\ttotal: 104ms\tremaining: 81.4ms\n",
      "56:\tlearn: 0.2344411\ttotal: 106ms\tremaining: 79.6ms\n",
      "57:\tlearn: 0.2322205\ttotal: 107ms\tremaining: 77.7ms\n",
      "58:\tlearn: 0.2301880\ttotal: 109ms\tremaining: 75.9ms\n",
      "59:\tlearn: 0.2285160\ttotal: 111ms\tremaining: 74ms\n",
      "60:\tlearn: 0.2274188\ttotal: 113ms\tremaining: 72.2ms\n",
      "61:\tlearn: 0.2263011\ttotal: 115ms\tremaining: 70.3ms\n",
      "62:\tlearn: 0.2252219\ttotal: 116ms\tremaining: 68.4ms\n",
      "63:\tlearn: 0.2239029\ttotal: 118ms\tremaining: 66.5ms\n",
      "64:\tlearn: 0.2229846\ttotal: 120ms\tremaining: 64.7ms\n",
      "65:\tlearn: 0.2213479\ttotal: 122ms\tremaining: 62.8ms\n",
      "66:\tlearn: 0.2202732\ttotal: 124ms\tremaining: 61ms\n",
      "67:\tlearn: 0.2187456\ttotal: 126ms\tremaining: 59.1ms\n",
      "68:\tlearn: 0.2175327\ttotal: 127ms\tremaining: 57.3ms\n",
      "69:\tlearn: 0.2161570\ttotal: 129ms\tremaining: 55.4ms\n",
      "70:\tlearn: 0.2149885\ttotal: 131ms\tremaining: 53.6ms\n",
      "71:\tlearn: 0.2130337\ttotal: 133ms\tremaining: 51.7ms\n",
      "72:\tlearn: 0.2125147\ttotal: 135ms\tremaining: 49.9ms\n",
      "73:\tlearn: 0.2116976\ttotal: 137ms\tremaining: 48.1ms\n",
      "74:\tlearn: 0.2101761\ttotal: 139ms\tremaining: 46.2ms\n",
      "75:\tlearn: 0.2094882\ttotal: 140ms\tremaining: 44.4ms\n",
      "76:\tlearn: 0.2082185\ttotal: 142ms\tremaining: 42.5ms\n",
      "77:\tlearn: 0.2063392\ttotal: 144ms\tremaining: 40.7ms\n",
      "78:\tlearn: 0.2045845\ttotal: 146ms\tremaining: 38.8ms\n",
      "79:\tlearn: 0.2028284\ttotal: 148ms\tremaining: 37ms\n",
      "80:\tlearn: 0.2012545\ttotal: 150ms\tremaining: 35.1ms\n",
      "81:\tlearn: 0.2002575\ttotal: 152ms\tremaining: 33.3ms\n",
      "82:\tlearn: 0.1997925\ttotal: 154ms\tremaining: 31.4ms\n",
      "83:\tlearn: 0.1985766\ttotal: 155ms\tremaining: 29.6ms\n",
      "84:\tlearn: 0.1969423\ttotal: 157ms\tremaining: 27.8ms\n",
      "85:\tlearn: 0.1954966\ttotal: 159ms\tremaining: 25.9ms\n",
      "86:\tlearn: 0.1944667\ttotal: 161ms\tremaining: 24.1ms\n",
      "87:\tlearn: 0.1936071\ttotal: 163ms\tremaining: 22.2ms\n",
      "88:\tlearn: 0.1929135\ttotal: 165ms\tremaining: 20.4ms\n",
      "89:\tlearn: 0.1915960\ttotal: 167ms\tremaining: 18.5ms\n",
      "90:\tlearn: 0.1908859\ttotal: 168ms\tremaining: 16.7ms\n",
      "91:\tlearn: 0.1902302\ttotal: 170ms\tremaining: 14.8ms\n",
      "92:\tlearn: 0.1889786\ttotal: 172ms\tremaining: 13ms\n",
      "93:\tlearn: 0.1878602\ttotal: 174ms\tremaining: 11.1ms\n",
      "94:\tlearn: 0.1866284\ttotal: 176ms\tremaining: 9.26ms\n",
      "95:\tlearn: 0.1855839\ttotal: 178ms\tremaining: 7.41ms\n",
      "96:\tlearn: 0.1844964\ttotal: 180ms\tremaining: 5.55ms\n",
      "97:\tlearn: 0.1836350\ttotal: 181ms\tremaining: 3.7ms\n",
      "98:\tlearn: 0.1821154\ttotal: 183ms\tremaining: 1.85ms\n",
      "99:\tlearn: 0.1813408\ttotal: 185ms\tremaining: 0us\n",
      "0:\tlearn: 0.4763828\ttotal: 1.9ms\tremaining: 189ms\n",
      "1:\tlearn: 0.4120667\ttotal: 3.61ms\tremaining: 177ms\n",
      "2:\tlearn: 0.3858970\ttotal: 5.46ms\tremaining: 177ms\n",
      "3:\tlearn: 0.3721952\ttotal: 7.35ms\tremaining: 176ms\n",
      "4:\tlearn: 0.3642857\ttotal: 9.11ms\tremaining: 173ms\n",
      "5:\tlearn: 0.3575267\ttotal: 10.9ms\tremaining: 171ms\n",
      "6:\tlearn: 0.3552554\ttotal: 12.8ms\tremaining: 169ms\n",
      "7:\tlearn: 0.3519915\ttotal: 14.5ms\tremaining: 166ms\n",
      "8:\tlearn: 0.3463609\ttotal: 16.3ms\tremaining: 165ms\n",
      "9:\tlearn: 0.3439904\ttotal: 18.2ms\tremaining: 163ms\n",
      "10:\tlearn: 0.3417477\ttotal: 20ms\tremaining: 162ms\n",
      "11:\tlearn: 0.3396698\ttotal: 21.8ms\tremaining: 160ms\n",
      "12:\tlearn: 0.3364178\ttotal: 23.8ms\tremaining: 160ms\n",
      "13:\tlearn: 0.3331201\ttotal: 25.7ms\tremaining: 158ms\n",
      "14:\tlearn: 0.3306787\ttotal: 27.6ms\tremaining: 156ms\n",
      "15:\tlearn: 0.3284461\ttotal: 29.4ms\tremaining: 155ms\n",
      "16:\tlearn: 0.3237554\ttotal: 31.4ms\tremaining: 153ms\n",
      "17:\tlearn: 0.3221592\ttotal: 33.1ms\tremaining: 151ms\n",
      "18:\tlearn: 0.3186090\ttotal: 35ms\tremaining: 149ms\n",
      "19:\tlearn: 0.3158224\ttotal: 36.9ms\tremaining: 148ms\n",
      "20:\tlearn: 0.3117520\ttotal: 38.8ms\tremaining: 146ms\n",
      "21:\tlearn: 0.3080607\ttotal: 40.6ms\tremaining: 144ms\n",
      "22:\tlearn: 0.3057154\ttotal: 42.6ms\tremaining: 143ms\n",
      "23:\tlearn: 0.3034195\ttotal: 44.4ms\tremaining: 141ms\n",
      "24:\tlearn: 0.2992320\ttotal: 46.3ms\tremaining: 139ms\n",
      "25:\tlearn: 0.2963802\ttotal: 48.2ms\tremaining: 137ms\n",
      "26:\tlearn: 0.2936993\ttotal: 50.1ms\tremaining: 135ms\n",
      "27:\tlearn: 0.2901701\ttotal: 51.9ms\tremaining: 133ms\n",
      "28:\tlearn: 0.2878975\ttotal: 53.8ms\tremaining: 132ms\n",
      "29:\tlearn: 0.2847720\ttotal: 55.6ms\tremaining: 130ms\n",
      "30:\tlearn: 0.2808292\ttotal: 57.5ms\tremaining: 128ms\n",
      "31:\tlearn: 0.2784028\ttotal: 59.3ms\tremaining: 126ms\n",
      "32:\tlearn: 0.2757359\ttotal: 61.3ms\tremaining: 124ms\n",
      "33:\tlearn: 0.2730897\ttotal: 63.2ms\tremaining: 123ms\n",
      "34:\tlearn: 0.2713841\ttotal: 65ms\tremaining: 121ms\n",
      "35:\tlearn: 0.2692323\ttotal: 66.8ms\tremaining: 119ms\n",
      "36:\tlearn: 0.2666756\ttotal: 68.6ms\tremaining: 117ms\n",
      "37:\tlearn: 0.2639813\ttotal: 70.5ms\tremaining: 115ms\n",
      "38:\tlearn: 0.2619619\ttotal: 72.4ms\tremaining: 113ms\n",
      "39:\tlearn: 0.2595520\ttotal: 74.3ms\tremaining: 111ms\n",
      "40:\tlearn: 0.2569436\ttotal: 76.1ms\tremaining: 110ms\n",
      "41:\tlearn: 0.2553041\ttotal: 78ms\tremaining: 108ms\n",
      "42:\tlearn: 0.2534066\ttotal: 79.8ms\tremaining: 106ms\n",
      "43:\tlearn: 0.2517762\ttotal: 81.7ms\tremaining: 104ms\n",
      "44:\tlearn: 0.2503857\ttotal: 83.6ms\tremaining: 102ms\n",
      "45:\tlearn: 0.2480770\ttotal: 85.4ms\tremaining: 100ms\n",
      "46:\tlearn: 0.2465396\ttotal: 87.2ms\tremaining: 98.4ms\n",
      "47:\tlearn: 0.2439875\ttotal: 89.1ms\tremaining: 96.5ms\n",
      "48:\tlearn: 0.2432612\ttotal: 91ms\tremaining: 94.7ms\n",
      "49:\tlearn: 0.2409255\ttotal: 92.9ms\tremaining: 92.9ms\n",
      "50:\tlearn: 0.2396295\ttotal: 94.7ms\tremaining: 91ms\n",
      "51:\tlearn: 0.2383154\ttotal: 96.6ms\tremaining: 89.2ms\n",
      "52:\tlearn: 0.2357198\ttotal: 98.5ms\tremaining: 87.4ms\n",
      "53:\tlearn: 0.2339420\ttotal: 100ms\tremaining: 85.5ms\n",
      "54:\tlearn: 0.2325172\ttotal: 102ms\tremaining: 83.6ms\n",
      "55:\tlearn: 0.2302695\ttotal: 104ms\tremaining: 81.8ms\n",
      "56:\tlearn: 0.2291293\ttotal: 106ms\tremaining: 79.9ms\n",
      "57:\tlearn: 0.2280950\ttotal: 108ms\tremaining: 78.1ms\n",
      "58:\tlearn: 0.2268543\ttotal: 110ms\tremaining: 76.2ms\n",
      "59:\tlearn: 0.2258645\ttotal: 112ms\tremaining: 74.4ms\n",
      "60:\tlearn: 0.2241589\ttotal: 113ms\tremaining: 72.5ms\n",
      "61:\tlearn: 0.2223625\ttotal: 115ms\tremaining: 70.6ms\n",
      "62:\tlearn: 0.2204375\ttotal: 117ms\tremaining: 68.8ms\n",
      "63:\tlearn: 0.2191482\ttotal: 119ms\tremaining: 66.9ms\n",
      "64:\tlearn: 0.2174839\ttotal: 121ms\tremaining: 65.1ms\n",
      "65:\tlearn: 0.2156237\ttotal: 123ms\tremaining: 63.3ms\n",
      "66:\tlearn: 0.2135960\ttotal: 125ms\tremaining: 61.4ms\n",
      "67:\tlearn: 0.2119171\ttotal: 127ms\tremaining: 59.6ms\n",
      "68:\tlearn: 0.2106375\ttotal: 128ms\tremaining: 57.7ms\n",
      "69:\tlearn: 0.2082291\ttotal: 130ms\tremaining: 55.9ms\n",
      "70:\tlearn: 0.2072540\ttotal: 132ms\tremaining: 54ms\n",
      "71:\tlearn: 0.2065774\ttotal: 134ms\tremaining: 52.1ms\n",
      "72:\tlearn: 0.2049103\ttotal: 136ms\tremaining: 50.3ms\n",
      "73:\tlearn: 0.2036370\ttotal: 138ms\tremaining: 48.4ms\n",
      "74:\tlearn: 0.2029945\ttotal: 140ms\tremaining: 46.6ms\n",
      "75:\tlearn: 0.2023308\ttotal: 142ms\tremaining: 44.7ms\n",
      "76:\tlearn: 0.2015642\ttotal: 144ms\tremaining: 42.9ms\n",
      "77:\tlearn: 0.2001202\ttotal: 145ms\tremaining: 41ms\n",
      "78:\tlearn: 0.1986170\ttotal: 147ms\tremaining: 39.1ms\n",
      "79:\tlearn: 0.1973177\ttotal: 149ms\tremaining: 37.3ms\n",
      "80:\tlearn: 0.1961023\ttotal: 151ms\tremaining: 35.4ms\n",
      "81:\tlearn: 0.1952641\ttotal: 153ms\tremaining: 33.5ms\n",
      "82:\tlearn: 0.1933886\ttotal: 155ms\tremaining: 31.7ms\n",
      "83:\tlearn: 0.1926101\ttotal: 157ms\tremaining: 29.8ms\n",
      "84:\tlearn: 0.1916529\ttotal: 158ms\tremaining: 28ms\n",
      "85:\tlearn: 0.1897890\ttotal: 160ms\tremaining: 26.1ms\n",
      "86:\tlearn: 0.1892668\ttotal: 162ms\tremaining: 24.2ms\n",
      "87:\tlearn: 0.1880235\ttotal: 164ms\tremaining: 22.3ms\n",
      "88:\tlearn: 0.1865190\ttotal: 166ms\tremaining: 20.5ms\n",
      "89:\tlearn: 0.1853084\ttotal: 168ms\tremaining: 18.6ms\n",
      "90:\tlearn: 0.1843401\ttotal: 169ms\tremaining: 16.8ms\n",
      "91:\tlearn: 0.1833314\ttotal: 171ms\tremaining: 14.9ms\n",
      "92:\tlearn: 0.1824833\ttotal: 173ms\tremaining: 13ms\n",
      "93:\tlearn: 0.1814035\ttotal: 175ms\tremaining: 11.2ms\n",
      "94:\tlearn: 0.1803531\ttotal: 177ms\tremaining: 9.31ms\n",
      "95:\tlearn: 0.1795857\ttotal: 179ms\tremaining: 7.45ms\n",
      "96:\tlearn: 0.1787344\ttotal: 181ms\tremaining: 5.58ms\n",
      "97:\tlearn: 0.1777021\ttotal: 182ms\tremaining: 3.72ms\n",
      "98:\tlearn: 0.1770268\ttotal: 184ms\tremaining: 1.86ms\n",
      "99:\tlearn: 0.1763756\ttotal: 186ms\tremaining: 0us\n"
     ]
    },
    {
     "name": "stdout",
     "output_type": "stream",
     "text": [
      "0:\tlearn: 0.4768382\ttotal: 1.98ms\tremaining: 393ms\n",
      "1:\tlearn: 0.4159360\ttotal: 3.59ms\tremaining: 356ms\n",
      "2:\tlearn: 0.3866926\ttotal: 5.47ms\tremaining: 360ms\n",
      "3:\tlearn: 0.3748926\ttotal: 7.45ms\tremaining: 365ms\n",
      "4:\tlearn: 0.3663750\ttotal: 9.42ms\tremaining: 367ms\n",
      "5:\tlearn: 0.3632689\ttotal: 11.2ms\tremaining: 361ms\n",
      "6:\tlearn: 0.3587995\ttotal: 13.1ms\tremaining: 360ms\n",
      "7:\tlearn: 0.3557041\ttotal: 15.1ms\tremaining: 363ms\n",
      "8:\tlearn: 0.3531808\ttotal: 17ms\tremaining: 361ms\n",
      "9:\tlearn: 0.3489021\ttotal: 18.9ms\tremaining: 359ms\n",
      "10:\tlearn: 0.3471518\ttotal: 20.7ms\tremaining: 355ms\n",
      "11:\tlearn: 0.3447940\ttotal: 22.6ms\tremaining: 353ms\n",
      "12:\tlearn: 0.3428605\ttotal: 24.4ms\tremaining: 351ms\n",
      "13:\tlearn: 0.3394219\ttotal: 26.3ms\tremaining: 349ms\n",
      "14:\tlearn: 0.3376469\ttotal: 28.1ms\tremaining: 346ms\n",
      "15:\tlearn: 0.3357847\ttotal: 30ms\tremaining: 345ms\n",
      "16:\tlearn: 0.3311632\ttotal: 31.8ms\tremaining: 343ms\n",
      "17:\tlearn: 0.3285779\ttotal: 33.8ms\tremaining: 341ms\n",
      "18:\tlearn: 0.3264764\ttotal: 35.7ms\tremaining: 340ms\n",
      "19:\tlearn: 0.3224103\ttotal: 37.5ms\tremaining: 338ms\n",
      "20:\tlearn: 0.3223186\ttotal: 38.5ms\tremaining: 328ms\n",
      "21:\tlearn: 0.3184784\ttotal: 40.3ms\tremaining: 326ms\n",
      "22:\tlearn: 0.3121095\ttotal: 42.2ms\tremaining: 325ms\n",
      "23:\tlearn: 0.3083598\ttotal: 44ms\tremaining: 323ms\n",
      "24:\tlearn: 0.3059839\ttotal: 45.9ms\tremaining: 321ms\n",
      "25:\tlearn: 0.3027691\ttotal: 47.7ms\tremaining: 319ms\n",
      "26:\tlearn: 0.2991645\ttotal: 49.5ms\tremaining: 317ms\n",
      "27:\tlearn: 0.2978092\ttotal: 51.3ms\tremaining: 315ms\n",
      "28:\tlearn: 0.2955260\ttotal: 53.3ms\tremaining: 314ms\n",
      "29:\tlearn: 0.2934973\ttotal: 55.1ms\tremaining: 312ms\n",
      "30:\tlearn: 0.2917292\ttotal: 57ms\tremaining: 311ms\n",
      "31:\tlearn: 0.2897647\ttotal: 58.8ms\tremaining: 309ms\n",
      "32:\tlearn: 0.2880868\ttotal: 60.7ms\tremaining: 307ms\n",
      "33:\tlearn: 0.2860927\ttotal: 62.5ms\tremaining: 305ms\n",
      "34:\tlearn: 0.2821023\ttotal: 64.4ms\tremaining: 304ms\n",
      "35:\tlearn: 0.2803195\ttotal: 66ms\tremaining: 301ms\n",
      "36:\tlearn: 0.2769146\ttotal: 68ms\tremaining: 299ms\n",
      "37:\tlearn: 0.2747105\ttotal: 69.8ms\tremaining: 298ms\n",
      "38:\tlearn: 0.2735151\ttotal: 72ms\tremaining: 297ms\n",
      "39:\tlearn: 0.2711561\ttotal: 74ms\tremaining: 296ms\n",
      "40:\tlearn: 0.2699465\ttotal: 76.1ms\tremaining: 295ms\n",
      "41:\tlearn: 0.2681694\ttotal: 78ms\tremaining: 293ms\n",
      "42:\tlearn: 0.2663395\ttotal: 79.8ms\tremaining: 292ms\n",
      "43:\tlearn: 0.2638960\ttotal: 81.7ms\tremaining: 290ms\n",
      "44:\tlearn: 0.2614623\ttotal: 83.6ms\tremaining: 288ms\n",
      "45:\tlearn: 0.2587960\ttotal: 85.5ms\tremaining: 286ms\n",
      "46:\tlearn: 0.2544259\ttotal: 87.4ms\tremaining: 285ms\n",
      "47:\tlearn: 0.2530757\ttotal: 89.2ms\tremaining: 282ms\n",
      "48:\tlearn: 0.2510622\ttotal: 91.1ms\tremaining: 281ms\n",
      "49:\tlearn: 0.2500453\ttotal: 93ms\tremaining: 279ms\n",
      "50:\tlearn: 0.2481186\ttotal: 94.8ms\tremaining: 277ms\n",
      "51:\tlearn: 0.2458755\ttotal: 96.7ms\tremaining: 275ms\n",
      "52:\tlearn: 0.2440719\ttotal: 98.5ms\tremaining: 273ms\n",
      "53:\tlearn: 0.2419951\ttotal: 100ms\tremaining: 271ms\n",
      "54:\tlearn: 0.2401442\ttotal: 102ms\tremaining: 269ms\n",
      "55:\tlearn: 0.2389879\ttotal: 104ms\tremaining: 268ms\n",
      "56:\tlearn: 0.2369961\ttotal: 106ms\tremaining: 266ms\n",
      "57:\tlearn: 0.2352762\ttotal: 108ms\tremaining: 264ms\n",
      "58:\tlearn: 0.2340314\ttotal: 110ms\tremaining: 262ms\n",
      "59:\tlearn: 0.2320609\ttotal: 112ms\tremaining: 260ms\n",
      "60:\tlearn: 0.2305135\ttotal: 113ms\tremaining: 258ms\n",
      "61:\tlearn: 0.2295241\ttotal: 115ms\tremaining: 257ms\n",
      "62:\tlearn: 0.2278243\ttotal: 117ms\tremaining: 255ms\n",
      "63:\tlearn: 0.2267361\ttotal: 119ms\tremaining: 253ms\n",
      "64:\tlearn: 0.2248512\ttotal: 121ms\tremaining: 251ms\n",
      "65:\tlearn: 0.2234509\ttotal: 123ms\tremaining: 249ms\n",
      "66:\tlearn: 0.2221619\ttotal: 125ms\tremaining: 247ms\n",
      "67:\tlearn: 0.2212328\ttotal: 126ms\tremaining: 245ms\n",
      "68:\tlearn: 0.2195761\ttotal: 128ms\tremaining: 244ms\n",
      "69:\tlearn: 0.2182470\ttotal: 130ms\tremaining: 242ms\n",
      "70:\tlearn: 0.2168522\ttotal: 132ms\tremaining: 240ms\n",
      "71:\tlearn: 0.2162922\ttotal: 134ms\tremaining: 239ms\n",
      "72:\tlearn: 0.2157438\ttotal: 136ms\tremaining: 237ms\n",
      "73:\tlearn: 0.2145818\ttotal: 138ms\tremaining: 235ms\n",
      "74:\tlearn: 0.2130986\ttotal: 140ms\tremaining: 233ms\n",
      "75:\tlearn: 0.2116654\ttotal: 142ms\tremaining: 231ms\n",
      "76:\tlearn: 0.2099876\ttotal: 144ms\tremaining: 229ms\n",
      "77:\tlearn: 0.2082666\ttotal: 145ms\tremaining: 228ms\n",
      "78:\tlearn: 0.2075276\ttotal: 147ms\tremaining: 226ms\n",
      "79:\tlearn: 0.2065314\ttotal: 149ms\tremaining: 224ms\n",
      "80:\tlearn: 0.2058550\ttotal: 151ms\tremaining: 222ms\n",
      "81:\tlearn: 0.2044674\ttotal: 153ms\tremaining: 220ms\n",
      "82:\tlearn: 0.2027143\ttotal: 155ms\tremaining: 218ms\n",
      "83:\tlearn: 0.2012200\ttotal: 157ms\tremaining: 216ms\n",
      "84:\tlearn: 0.1995276\ttotal: 158ms\tremaining: 214ms\n",
      "85:\tlearn: 0.1987452\ttotal: 160ms\tremaining: 213ms\n",
      "86:\tlearn: 0.1969978\ttotal: 162ms\tremaining: 211ms\n",
      "87:\tlearn: 0.1963910\ttotal: 164ms\tremaining: 209ms\n",
      "88:\tlearn: 0.1947077\ttotal: 166ms\tremaining: 207ms\n",
      "89:\tlearn: 0.1934037\ttotal: 168ms\tremaining: 205ms\n",
      "90:\tlearn: 0.1925975\ttotal: 170ms\tremaining: 203ms\n",
      "91:\tlearn: 0.1918615\ttotal: 171ms\tremaining: 201ms\n",
      "92:\tlearn: 0.1906990\ttotal: 173ms\tremaining: 199ms\n",
      "93:\tlearn: 0.1896255\ttotal: 175ms\tremaining: 198ms\n",
      "94:\tlearn: 0.1889636\ttotal: 177ms\tremaining: 196ms\n",
      "95:\tlearn: 0.1879743\ttotal: 179ms\tremaining: 194ms\n",
      "96:\tlearn: 0.1867517\ttotal: 181ms\tremaining: 192ms\n",
      "97:\tlearn: 0.1852364\ttotal: 183ms\tremaining: 190ms\n",
      "98:\tlearn: 0.1845276\ttotal: 184ms\tremaining: 188ms\n",
      "99:\tlearn: 0.1835185\ttotal: 186ms\tremaining: 186ms\n",
      "100:\tlearn: 0.1827297\ttotal: 188ms\tremaining: 185ms\n",
      "101:\tlearn: 0.1817806\ttotal: 190ms\tremaining: 183ms\n",
      "102:\tlearn: 0.1811895\ttotal: 192ms\tremaining: 181ms\n",
      "103:\tlearn: 0.1801702\ttotal: 194ms\tremaining: 179ms\n",
      "104:\tlearn: 0.1792294\ttotal: 196ms\tremaining: 177ms\n",
      "105:\tlearn: 0.1782336\ttotal: 198ms\tremaining: 175ms\n",
      "106:\tlearn: 0.1776120\ttotal: 200ms\tremaining: 174ms\n",
      "107:\tlearn: 0.1771002\ttotal: 202ms\tremaining: 172ms\n",
      "108:\tlearn: 0.1760835\ttotal: 204ms\tremaining: 170ms\n",
      "109:\tlearn: 0.1750767\ttotal: 206ms\tremaining: 168ms\n",
      "110:\tlearn: 0.1742508\ttotal: 207ms\tremaining: 166ms\n",
      "111:\tlearn: 0.1734710\ttotal: 209ms\tremaining: 164ms\n",
      "112:\tlearn: 0.1720180\ttotal: 211ms\tremaining: 163ms\n",
      "113:\tlearn: 0.1712903\ttotal: 213ms\tremaining: 161ms\n",
      "114:\tlearn: 0.1701838\ttotal: 215ms\tremaining: 159ms\n",
      "115:\tlearn: 0.1693986\ttotal: 217ms\tremaining: 157ms\n",
      "116:\tlearn: 0.1683192\ttotal: 219ms\tremaining: 155ms\n",
      "117:\tlearn: 0.1673170\ttotal: 221ms\tremaining: 153ms\n",
      "118:\tlearn: 0.1664907\ttotal: 222ms\tremaining: 151ms\n",
      "119:\tlearn: 0.1657708\ttotal: 224ms\tremaining: 150ms\n",
      "120:\tlearn: 0.1653321\ttotal: 226ms\tremaining: 148ms\n",
      "121:\tlearn: 0.1647023\ttotal: 228ms\tremaining: 146ms\n",
      "122:\tlearn: 0.1637300\ttotal: 230ms\tremaining: 144ms\n",
      "123:\tlearn: 0.1630885\ttotal: 232ms\tremaining: 142ms\n",
      "124:\tlearn: 0.1620955\ttotal: 233ms\tremaining: 140ms\n",
      "125:\tlearn: 0.1614578\ttotal: 235ms\tremaining: 138ms\n",
      "126:\tlearn: 0.1606833\ttotal: 237ms\tremaining: 136ms\n",
      "127:\tlearn: 0.1599888\ttotal: 239ms\tremaining: 134ms\n",
      "128:\tlearn: 0.1592553\ttotal: 241ms\tremaining: 133ms\n",
      "129:\tlearn: 0.1582616\ttotal: 243ms\tremaining: 131ms\n",
      "130:\tlearn: 0.1573527\ttotal: 245ms\tremaining: 129ms\n",
      "131:\tlearn: 0.1566645\ttotal: 246ms\tremaining: 127ms\n",
      "132:\tlearn: 0.1555064\ttotal: 248ms\tremaining: 125ms\n",
      "133:\tlearn: 0.1544950\ttotal: 250ms\tremaining: 123ms\n",
      "134:\tlearn: 0.1541909\ttotal: 252ms\tremaining: 121ms\n",
      "135:\tlearn: 0.1532614\ttotal: 254ms\tremaining: 119ms\n",
      "136:\tlearn: 0.1523622\ttotal: 256ms\tremaining: 118ms\n",
      "137:\tlearn: 0.1520243\ttotal: 257ms\tremaining: 116ms\n",
      "138:\tlearn: 0.1514359\ttotal: 259ms\tremaining: 114ms\n",
      "139:\tlearn: 0.1504504\ttotal: 261ms\tremaining: 112ms\n",
      "140:\tlearn: 0.1499715\ttotal: 263ms\tremaining: 110ms\n",
      "141:\tlearn: 0.1494658\ttotal: 265ms\tremaining: 108ms\n",
      "142:\tlearn: 0.1490565\ttotal: 267ms\tremaining: 106ms\n",
      "143:\tlearn: 0.1486938\ttotal: 269ms\tremaining: 104ms\n",
      "144:\tlearn: 0.1482858\ttotal: 270ms\tremaining: 103ms\n",
      "145:\tlearn: 0.1478752\ttotal: 272ms\tremaining: 101ms\n",
      "146:\tlearn: 0.1472376\ttotal: 274ms\tremaining: 98.8ms\n",
      "147:\tlearn: 0.1466646\ttotal: 276ms\tremaining: 96.9ms\n",
      "148:\tlearn: 0.1460569\ttotal: 278ms\tremaining: 95.1ms\n",
      "149:\tlearn: 0.1452943\ttotal: 280ms\tremaining: 93.2ms\n",
      "150:\tlearn: 0.1448608\ttotal: 281ms\tremaining: 91.3ms\n",
      "151:\tlearn: 0.1441817\ttotal: 283ms\tremaining: 89.4ms\n",
      "152:\tlearn: 0.1432381\ttotal: 285ms\tremaining: 87.5ms\n",
      "153:\tlearn: 0.1426442\ttotal: 287ms\tremaining: 85.7ms\n",
      "154:\tlearn: 0.1422305\ttotal: 289ms\tremaining: 83.8ms\n",
      "155:\tlearn: 0.1414884\ttotal: 291ms\tremaining: 82ms\n",
      "156:\tlearn: 0.1408184\ttotal: 292ms\tremaining: 80.1ms\n",
      "157:\tlearn: 0.1400802\ttotal: 294ms\tremaining: 78.2ms\n",
      "158:\tlearn: 0.1394064\ttotal: 296ms\tremaining: 76.4ms\n",
      "159:\tlearn: 0.1386815\ttotal: 298ms\tremaining: 74.5ms\n",
      "160:\tlearn: 0.1381240\ttotal: 300ms\tremaining: 72.6ms\n",
      "161:\tlearn: 0.1375481\ttotal: 302ms\tremaining: 70.8ms\n",
      "162:\tlearn: 0.1372656\ttotal: 304ms\tremaining: 68.9ms\n",
      "163:\tlearn: 0.1363256\ttotal: 305ms\tremaining: 67ms\n",
      "164:\tlearn: 0.1357888\ttotal: 307ms\tremaining: 65.2ms\n",
      "165:\tlearn: 0.1353785\ttotal: 309ms\tremaining: 63.3ms\n",
      "166:\tlearn: 0.1347680\ttotal: 311ms\tremaining: 61.5ms\n",
      "167:\tlearn: 0.1339655\ttotal: 313ms\tremaining: 59.6ms\n",
      "168:\tlearn: 0.1335055\ttotal: 315ms\tremaining: 57.7ms\n",
      "169:\tlearn: 0.1326207\ttotal: 317ms\tremaining: 55.9ms\n",
      "170:\tlearn: 0.1320542\ttotal: 319ms\tremaining: 54ms\n",
      "171:\tlearn: 0.1312638\ttotal: 320ms\tremaining: 52.2ms\n",
      "172:\tlearn: 0.1307952\ttotal: 322ms\tremaining: 50.3ms\n",
      "173:\tlearn: 0.1303802\ttotal: 324ms\tremaining: 48.4ms\n",
      "174:\tlearn: 0.1296642\ttotal: 326ms\tremaining: 46.6ms\n",
      "175:\tlearn: 0.1289067\ttotal: 328ms\tremaining: 44.7ms\n",
      "176:\tlearn: 0.1281820\ttotal: 330ms\tremaining: 42.9ms\n",
      "177:\tlearn: 0.1274963\ttotal: 332ms\tremaining: 41ms\n",
      "178:\tlearn: 0.1267480\ttotal: 334ms\tremaining: 39.1ms\n",
      "179:\tlearn: 0.1262232\ttotal: 335ms\tremaining: 37.3ms\n",
      "180:\tlearn: 0.1257115\ttotal: 337ms\tremaining: 35.4ms\n",
      "181:\tlearn: 0.1253791\ttotal: 339ms\tremaining: 33.5ms\n",
      "182:\tlearn: 0.1250197\ttotal: 341ms\tremaining: 31.7ms\n",
      "183:\tlearn: 0.1246591\ttotal: 343ms\tremaining: 29.8ms\n",
      "184:\tlearn: 0.1242785\ttotal: 345ms\tremaining: 28ms\n",
      "185:\tlearn: 0.1238230\ttotal: 347ms\tremaining: 26.1ms\n",
      "186:\tlearn: 0.1233048\ttotal: 349ms\tremaining: 24.2ms\n",
      "187:\tlearn: 0.1225249\ttotal: 350ms\tremaining: 22.4ms\n",
      "188:\tlearn: 0.1220597\ttotal: 352ms\tremaining: 20.5ms\n",
      "189:\tlearn: 0.1217107\ttotal: 354ms\tremaining: 18.6ms\n",
      "190:\tlearn: 0.1213590\ttotal: 356ms\tremaining: 16.8ms\n",
      "191:\tlearn: 0.1205718\ttotal: 358ms\tremaining: 14.9ms\n",
      "192:\tlearn: 0.1197909\ttotal: 360ms\tremaining: 13ms\n",
      "193:\tlearn: 0.1191411\ttotal: 362ms\tremaining: 11.2ms\n",
      "194:\tlearn: 0.1184440\ttotal: 363ms\tremaining: 9.32ms\n",
      "195:\tlearn: 0.1177475\ttotal: 365ms\tremaining: 7.46ms\n",
      "196:\tlearn: 0.1175065\ttotal: 367ms\tremaining: 5.59ms\n",
      "197:\tlearn: 0.1168932\ttotal: 369ms\tremaining: 3.73ms\n",
      "198:\tlearn: 0.1162592\ttotal: 371ms\tremaining: 1.86ms\n",
      "199:\tlearn: 0.1158463\ttotal: 373ms\tremaining: 0us\n"
     ]
    },
    {
     "name": "stdout",
     "output_type": "stream",
     "text": [
      "0:\tlearn: 0.4798217\ttotal: 1.93ms\tremaining: 384ms\n",
      "1:\tlearn: 0.4093243\ttotal: 4.21ms\tremaining: 417ms\n",
      "2:\tlearn: 0.4043124\ttotal: 5.2ms\tremaining: 342ms\n",
      "3:\tlearn: 0.3832129\ttotal: 7.11ms\tremaining: 348ms\n",
      "4:\tlearn: 0.3732911\ttotal: 8.95ms\tremaining: 349ms\n",
      "5:\tlearn: 0.3687636\ttotal: 10.6ms\tremaining: 344ms\n",
      "6:\tlearn: 0.3645144\ttotal: 12.5ms\tremaining: 345ms\n",
      "7:\tlearn: 0.3592135\ttotal: 14.2ms\tremaining: 342ms\n",
      "8:\tlearn: 0.3545543\ttotal: 16.2ms\tremaining: 343ms\n",
      "9:\tlearn: 0.3487734\ttotal: 18ms\tremaining: 342ms\n",
      "10:\tlearn: 0.3443546\ttotal: 19.9ms\tremaining: 342ms\n",
      "11:\tlearn: 0.3417834\ttotal: 21.7ms\tremaining: 340ms\n",
      "12:\tlearn: 0.3386233\ttotal: 23.6ms\tremaining: 339ms\n",
      "13:\tlearn: 0.3354331\ttotal: 25.4ms\tremaining: 338ms\n",
      "14:\tlearn: 0.3325255\ttotal: 27.3ms\tremaining: 337ms\n",
      "15:\tlearn: 0.3311882\ttotal: 29.1ms\tremaining: 334ms\n",
      "16:\tlearn: 0.3274394\ttotal: 30.9ms\tremaining: 333ms\n",
      "17:\tlearn: 0.3247656\ttotal: 32.7ms\tremaining: 331ms\n",
      "18:\tlearn: 0.3221325\ttotal: 34.6ms\tremaining: 330ms\n",
      "19:\tlearn: 0.3190950\ttotal: 36.4ms\tremaining: 328ms\n",
      "20:\tlearn: 0.3148068\ttotal: 38.3ms\tremaining: 326ms\n",
      "21:\tlearn: 0.3116256\ttotal: 40.2ms\tremaining: 325ms\n",
      "22:\tlearn: 0.3087180\ttotal: 42.5ms\tremaining: 327ms\n",
      "23:\tlearn: 0.3060571\ttotal: 44.7ms\tremaining: 328ms\n",
      "24:\tlearn: 0.3017100\ttotal: 46.7ms\tremaining: 327ms\n",
      "25:\tlearn: 0.2991132\ttotal: 48.5ms\tremaining: 324ms\n",
      "26:\tlearn: 0.2962416\ttotal: 50.3ms\tremaining: 322ms\n",
      "27:\tlearn: 0.2937423\ttotal: 52.1ms\tremaining: 320ms\n",
      "28:\tlearn: 0.2916821\ttotal: 54ms\tremaining: 318ms\n",
      "29:\tlearn: 0.2890047\ttotal: 55.8ms\tremaining: 316ms\n",
      "30:\tlearn: 0.2866810\ttotal: 57.6ms\tremaining: 314ms\n",
      "31:\tlearn: 0.2839283\ttotal: 59.5ms\tremaining: 312ms\n",
      "32:\tlearn: 0.2809002\ttotal: 61.4ms\tremaining: 311ms\n",
      "33:\tlearn: 0.2777874\ttotal: 63.2ms\tremaining: 309ms\n",
      "34:\tlearn: 0.2743166\ttotal: 65.1ms\tremaining: 307ms\n",
      "35:\tlearn: 0.2723941\ttotal: 66.9ms\tremaining: 305ms\n",
      "36:\tlearn: 0.2697446\ttotal: 68.8ms\tremaining: 303ms\n",
      "37:\tlearn: 0.2674067\ttotal: 70.6ms\tremaining: 301ms\n",
      "38:\tlearn: 0.2647946\ttotal: 72.5ms\tremaining: 299ms\n",
      "39:\tlearn: 0.2631693\ttotal: 74.4ms\tremaining: 298ms\n",
      "40:\tlearn: 0.2613604\ttotal: 76.2ms\tremaining: 296ms\n",
      "41:\tlearn: 0.2592766\ttotal: 78.1ms\tremaining: 294ms\n",
      "42:\tlearn: 0.2566320\ttotal: 79.9ms\tremaining: 292ms\n",
      "43:\tlearn: 0.2541990\ttotal: 81.8ms\tremaining: 290ms\n",
      "44:\tlearn: 0.2519732\ttotal: 83.6ms\tremaining: 288ms\n",
      "45:\tlearn: 0.2511416\ttotal: 85.4ms\tremaining: 286ms\n",
      "46:\tlearn: 0.2490959\ttotal: 87.2ms\tremaining: 284ms\n",
      "47:\tlearn: 0.2471628\ttotal: 89.1ms\tremaining: 282ms\n",
      "48:\tlearn: 0.2450549\ttotal: 90.8ms\tremaining: 280ms\n",
      "49:\tlearn: 0.2434798\ttotal: 92.9ms\tremaining: 279ms\n",
      "50:\tlearn: 0.2421739\ttotal: 94.8ms\tremaining: 277ms\n",
      "51:\tlearn: 0.2405036\ttotal: 96.6ms\tremaining: 275ms\n",
      "52:\tlearn: 0.2385673\ttotal: 98.5ms\tremaining: 273ms\n",
      "53:\tlearn: 0.2367177\ttotal: 101ms\tremaining: 272ms\n",
      "54:\tlearn: 0.2351318\ttotal: 103ms\tremaining: 270ms\n",
      "55:\tlearn: 0.2336822\ttotal: 105ms\tremaining: 269ms\n",
      "56:\tlearn: 0.2324939\ttotal: 106ms\tremaining: 267ms\n",
      "57:\tlearn: 0.2309868\ttotal: 108ms\tremaining: 265ms\n",
      "58:\tlearn: 0.2295278\ttotal: 110ms\tremaining: 263ms\n",
      "59:\tlearn: 0.2282944\ttotal: 112ms\tremaining: 261ms\n",
      "60:\tlearn: 0.2272414\ttotal: 114ms\tremaining: 259ms\n",
      "61:\tlearn: 0.2264034\ttotal: 116ms\tremaining: 257ms\n",
      "62:\tlearn: 0.2247079\ttotal: 117ms\tremaining: 255ms\n",
      "63:\tlearn: 0.2230210\ttotal: 119ms\tremaining: 253ms\n",
      "64:\tlearn: 0.2214240\ttotal: 121ms\tremaining: 252ms\n",
      "65:\tlearn: 0.2206343\ttotal: 123ms\tremaining: 250ms\n",
      "66:\tlearn: 0.2192714\ttotal: 125ms\tremaining: 248ms\n",
      "67:\tlearn: 0.2171497\ttotal: 127ms\tremaining: 246ms\n",
      "68:\tlearn: 0.2158649\ttotal: 129ms\tremaining: 244ms\n",
      "69:\tlearn: 0.2145122\ttotal: 130ms\tremaining: 242ms\n",
      "70:\tlearn: 0.2130733\ttotal: 132ms\tremaining: 240ms\n",
      "71:\tlearn: 0.2119678\ttotal: 134ms\tremaining: 238ms\n",
      "72:\tlearn: 0.2095792\ttotal: 136ms\tremaining: 237ms\n",
      "73:\tlearn: 0.2086295\ttotal: 138ms\tremaining: 235ms\n",
      "74:\tlearn: 0.2071153\ttotal: 140ms\tremaining: 233ms\n",
      "75:\tlearn: 0.2061753\ttotal: 141ms\tremaining: 231ms\n",
      "76:\tlearn: 0.2044247\ttotal: 143ms\tremaining: 229ms\n",
      "77:\tlearn: 0.2029038\ttotal: 145ms\tremaining: 227ms\n",
      "78:\tlearn: 0.2016302\ttotal: 147ms\tremaining: 225ms\n",
      "79:\tlearn: 0.2002176\ttotal: 149ms\tremaining: 223ms\n",
      "80:\tlearn: 0.1989617\ttotal: 151ms\tremaining: 222ms\n",
      "81:\tlearn: 0.1979681\ttotal: 153ms\tremaining: 220ms\n",
      "82:\tlearn: 0.1966595\ttotal: 154ms\tremaining: 218ms\n",
      "83:\tlearn: 0.1952578\ttotal: 156ms\tremaining: 216ms\n",
      "84:\tlearn: 0.1941365\ttotal: 158ms\tremaining: 214ms\n",
      "85:\tlearn: 0.1930089\ttotal: 160ms\tremaining: 212ms\n",
      "86:\tlearn: 0.1918567\ttotal: 162ms\tremaining: 210ms\n",
      "87:\tlearn: 0.1913052\ttotal: 164ms\tremaining: 208ms\n",
      "88:\tlearn: 0.1900886\ttotal: 165ms\tremaining: 206ms\n",
      "89:\tlearn: 0.1889884\ttotal: 167ms\tremaining: 205ms\n",
      "90:\tlearn: 0.1879795\ttotal: 169ms\tremaining: 203ms\n",
      "91:\tlearn: 0.1873997\ttotal: 171ms\tremaining: 201ms\n",
      "92:\tlearn: 0.1864315\ttotal: 173ms\tremaining: 199ms\n",
      "93:\tlearn: 0.1856334\ttotal: 175ms\tremaining: 197ms\n",
      "94:\tlearn: 0.1849175\ttotal: 177ms\tremaining: 196ms\n",
      "95:\tlearn: 0.1839067\ttotal: 179ms\tremaining: 194ms\n",
      "96:\tlearn: 0.1832979\ttotal: 181ms\tremaining: 192ms\n",
      "97:\tlearn: 0.1824128\ttotal: 183ms\tremaining: 190ms\n",
      "98:\tlearn: 0.1810851\ttotal: 184ms\tremaining: 188ms\n",
      "99:\tlearn: 0.1802518\ttotal: 186ms\tremaining: 186ms\n",
      "100:\tlearn: 0.1792855\ttotal: 188ms\tremaining: 184ms\n",
      "101:\tlearn: 0.1787203\ttotal: 190ms\tremaining: 182ms\n",
      "102:\tlearn: 0.1777970\ttotal: 192ms\tremaining: 181ms\n",
      "103:\tlearn: 0.1771040\ttotal: 194ms\tremaining: 179ms\n",
      "104:\tlearn: 0.1764680\ttotal: 195ms\tremaining: 177ms\n",
      "105:\tlearn: 0.1753292\ttotal: 198ms\tremaining: 175ms\n",
      "106:\tlearn: 0.1745840\ttotal: 200ms\tremaining: 174ms\n",
      "107:\tlearn: 0.1738780\ttotal: 202ms\tremaining: 172ms\n",
      "108:\tlearn: 0.1731307\ttotal: 204ms\tremaining: 170ms\n",
      "109:\tlearn: 0.1722197\ttotal: 206ms\tremaining: 168ms\n",
      "110:\tlearn: 0.1715954\ttotal: 207ms\tremaining: 166ms\n",
      "111:\tlearn: 0.1708754\ttotal: 209ms\tremaining: 165ms\n",
      "112:\tlearn: 0.1702883\ttotal: 211ms\tremaining: 163ms\n",
      "113:\tlearn: 0.1693594\ttotal: 213ms\tremaining: 161ms\n",
      "114:\tlearn: 0.1687395\ttotal: 215ms\tremaining: 159ms\n",
      "115:\tlearn: 0.1675529\ttotal: 217ms\tremaining: 157ms\n",
      "116:\tlearn: 0.1665316\ttotal: 219ms\tremaining: 155ms\n",
      "117:\tlearn: 0.1658935\ttotal: 220ms\tremaining: 153ms\n",
      "118:\tlearn: 0.1648535\ttotal: 222ms\tremaining: 151ms\n",
      "119:\tlearn: 0.1636073\ttotal: 224ms\tremaining: 149ms\n",
      "120:\tlearn: 0.1632600\ttotal: 226ms\tremaining: 148ms\n",
      "121:\tlearn: 0.1630286\ttotal: 228ms\tremaining: 146ms\n",
      "122:\tlearn: 0.1620130\ttotal: 230ms\tremaining: 144ms\n",
      "123:\tlearn: 0.1610859\ttotal: 231ms\tremaining: 142ms\n",
      "124:\tlearn: 0.1601521\ttotal: 233ms\tremaining: 140ms\n",
      "125:\tlearn: 0.1593910\ttotal: 235ms\tremaining: 138ms\n",
      "126:\tlearn: 0.1591318\ttotal: 237ms\tremaining: 136ms\n",
      "127:\tlearn: 0.1580183\ttotal: 239ms\tremaining: 134ms\n",
      "128:\tlearn: 0.1565980\ttotal: 241ms\tremaining: 132ms\n",
      "129:\tlearn: 0.1559561\ttotal: 242ms\tremaining: 131ms\n",
      "130:\tlearn: 0.1550385\ttotal: 244ms\tremaining: 129ms\n",
      "131:\tlearn: 0.1544537\ttotal: 246ms\tremaining: 127ms\n",
      "132:\tlearn: 0.1538150\ttotal: 248ms\tremaining: 125ms\n",
      "133:\tlearn: 0.1526123\ttotal: 250ms\tremaining: 123ms\n",
      "134:\tlearn: 0.1518627\ttotal: 252ms\tremaining: 121ms\n",
      "135:\tlearn: 0.1513115\ttotal: 253ms\tremaining: 119ms\n",
      "136:\tlearn: 0.1502750\ttotal: 255ms\tremaining: 117ms\n",
      "137:\tlearn: 0.1496490\ttotal: 257ms\tremaining: 116ms\n",
      "138:\tlearn: 0.1490264\ttotal: 259ms\tremaining: 114ms\n",
      "139:\tlearn: 0.1481958\ttotal: 261ms\tremaining: 112ms\n",
      "140:\tlearn: 0.1471892\ttotal: 263ms\tremaining: 110ms\n",
      "141:\tlearn: 0.1463103\ttotal: 265ms\tremaining: 108ms\n",
      "142:\tlearn: 0.1454931\ttotal: 266ms\tremaining: 106ms\n",
      "143:\tlearn: 0.1447306\ttotal: 268ms\tremaining: 104ms\n",
      "144:\tlearn: 0.1442403\ttotal: 270ms\tremaining: 102ms\n",
      "145:\tlearn: 0.1435416\ttotal: 272ms\tremaining: 101ms\n",
      "146:\tlearn: 0.1427308\ttotal: 274ms\tremaining: 98.7ms\n",
      "147:\tlearn: 0.1422568\ttotal: 276ms\tremaining: 96.8ms\n",
      "148:\tlearn: 0.1414042\ttotal: 277ms\tremaining: 95ms\n",
      "149:\tlearn: 0.1403680\ttotal: 279ms\tremaining: 93.1ms\n",
      "150:\tlearn: 0.1394231\ttotal: 285ms\tremaining: 92.5ms\n",
      "151:\tlearn: 0.1388132\ttotal: 287ms\tremaining: 90.6ms\n",
      "152:\tlearn: 0.1381081\ttotal: 289ms\tremaining: 88.7ms\n",
      "153:\tlearn: 0.1371838\ttotal: 291ms\tremaining: 86.8ms\n",
      "154:\tlearn: 0.1365847\ttotal: 293ms\tremaining: 85ms\n",
      "155:\tlearn: 0.1361291\ttotal: 295ms\tremaining: 83.1ms\n",
      "156:\tlearn: 0.1355107\ttotal: 297ms\tremaining: 81.2ms\n",
      "157:\tlearn: 0.1348766\ttotal: 299ms\tremaining: 79.4ms\n",
      "158:\tlearn: 0.1338615\ttotal: 300ms\tremaining: 77.5ms\n",
      "159:\tlearn: 0.1331022\ttotal: 302ms\tremaining: 75.6ms\n",
      "160:\tlearn: 0.1327993\ttotal: 304ms\tremaining: 73.7ms\n",
      "161:\tlearn: 0.1324608\ttotal: 306ms\tremaining: 71.8ms\n",
      "162:\tlearn: 0.1320157\ttotal: 308ms\tremaining: 69.9ms\n",
      "163:\tlearn: 0.1313768\ttotal: 310ms\tremaining: 68ms\n",
      "164:\tlearn: 0.1306842\ttotal: 312ms\tremaining: 66.1ms\n",
      "165:\tlearn: 0.1299494\ttotal: 313ms\tremaining: 64.2ms\n",
      "166:\tlearn: 0.1290862\ttotal: 315ms\tremaining: 62.3ms\n",
      "167:\tlearn: 0.1283396\ttotal: 317ms\tremaining: 60.4ms\n",
      "168:\tlearn: 0.1279441\ttotal: 319ms\tremaining: 58.5ms\n",
      "169:\tlearn: 0.1272939\ttotal: 321ms\tremaining: 56.6ms\n",
      "170:\tlearn: 0.1269006\ttotal: 323ms\tremaining: 54.7ms\n",
      "171:\tlearn: 0.1264794\ttotal: 324ms\tremaining: 52.8ms\n",
      "172:\tlearn: 0.1258122\ttotal: 326ms\tremaining: 50.9ms\n",
      "173:\tlearn: 0.1252240\ttotal: 328ms\tremaining: 49ms\n",
      "174:\tlearn: 0.1245927\ttotal: 330ms\tremaining: 47.1ms\n",
      "175:\tlearn: 0.1243982\ttotal: 332ms\tremaining: 45.2ms\n",
      "176:\tlearn: 0.1240756\ttotal: 333ms\tremaining: 43.3ms\n",
      "177:\tlearn: 0.1235023\ttotal: 335ms\tremaining: 41.4ms\n",
      "178:\tlearn: 0.1230024\ttotal: 337ms\tremaining: 39.6ms\n",
      "179:\tlearn: 0.1226983\ttotal: 339ms\tremaining: 37.7ms\n",
      "180:\tlearn: 0.1220715\ttotal: 341ms\tremaining: 35.8ms\n",
      "181:\tlearn: 0.1214690\ttotal: 343ms\tremaining: 33.9ms\n",
      "182:\tlearn: 0.1210775\ttotal: 344ms\tremaining: 32ms\n",
      "183:\tlearn: 0.1205721\ttotal: 346ms\tremaining: 30.1ms\n",
      "184:\tlearn: 0.1198489\ttotal: 348ms\tremaining: 28.2ms\n",
      "185:\tlearn: 0.1195353\ttotal: 350ms\tremaining: 26.3ms\n",
      "186:\tlearn: 0.1192975\ttotal: 352ms\tremaining: 24.5ms\n",
      "187:\tlearn: 0.1189812\ttotal: 354ms\tremaining: 22.6ms\n",
      "188:\tlearn: 0.1185698\ttotal: 355ms\tremaining: 20.7ms\n",
      "189:\tlearn: 0.1176858\ttotal: 357ms\tremaining: 18.8ms\n",
      "190:\tlearn: 0.1171369\ttotal: 359ms\tremaining: 16.9ms\n",
      "191:\tlearn: 0.1166635\ttotal: 361ms\tremaining: 15ms\n",
      "192:\tlearn: 0.1161926\ttotal: 363ms\tremaining: 13.2ms\n",
      "193:\tlearn: 0.1157759\ttotal: 365ms\tremaining: 11.3ms\n",
      "194:\tlearn: 0.1153278\ttotal: 367ms\tremaining: 9.4ms\n",
      "195:\tlearn: 0.1150418\ttotal: 368ms\tremaining: 7.52ms\n",
      "196:\tlearn: 0.1141298\ttotal: 370ms\tremaining: 5.64ms\n",
      "197:\tlearn: 0.1140065\ttotal: 372ms\tremaining: 3.76ms\n",
      "198:\tlearn: 0.1132496\ttotal: 374ms\tremaining: 1.88ms\n",
      "199:\tlearn: 0.1129694\ttotal: 376ms\tremaining: 0us\n"
     ]
    },
    {
     "name": "stdout",
     "output_type": "stream",
     "text": [
      "0:\tlearn: 0.4771555\ttotal: 1.99ms\tremaining: 395ms\n",
      "1:\tlearn: 0.4088395\ttotal: 4.1ms\tremaining: 406ms\n",
      "2:\tlearn: 0.4038210\ttotal: 5.06ms\tremaining: 333ms\n",
      "3:\tlearn: 0.3786039\ttotal: 6.94ms\tremaining: 340ms\n",
      "4:\tlearn: 0.3683747\ttotal: 8.75ms\tremaining: 341ms\n",
      "5:\tlearn: 0.3628645\ttotal: 10.6ms\tremaining: 343ms\n",
      "6:\tlearn: 0.3569129\ttotal: 12.4ms\tremaining: 341ms\n",
      "7:\tlearn: 0.3519633\ttotal: 14.2ms\tremaining: 340ms\n",
      "8:\tlearn: 0.3486974\ttotal: 16ms\tremaining: 339ms\n",
      "9:\tlearn: 0.3462407\ttotal: 17.6ms\tremaining: 335ms\n",
      "10:\tlearn: 0.3406315\ttotal: 19.5ms\tremaining: 334ms\n",
      "11:\tlearn: 0.3373978\ttotal: 21.3ms\tremaining: 334ms\n",
      "12:\tlearn: 0.3344581\ttotal: 23ms\tremaining: 331ms\n",
      "13:\tlearn: 0.3322903\ttotal: 24.8ms\tremaining: 330ms\n",
      "14:\tlearn: 0.3298333\ttotal: 26.7ms\tremaining: 329ms\n",
      "15:\tlearn: 0.3279632\ttotal: 28.5ms\tremaining: 328ms\n",
      "16:\tlearn: 0.3248528\ttotal: 30.4ms\tremaining: 327ms\n",
      "17:\tlearn: 0.3241251\ttotal: 32.2ms\tremaining: 326ms\n",
      "18:\tlearn: 0.3202947\ttotal: 34.1ms\tremaining: 325ms\n",
      "19:\tlearn: 0.3166944\ttotal: 35.9ms\tremaining: 323ms\n",
      "20:\tlearn: 0.3133682\ttotal: 37.8ms\tremaining: 322ms\n",
      "21:\tlearn: 0.3081359\ttotal: 39.6ms\tremaining: 320ms\n",
      "22:\tlearn: 0.3052595\ttotal: 41.4ms\tremaining: 319ms\n",
      "23:\tlearn: 0.3023734\ttotal: 43.1ms\tremaining: 316ms\n",
      "24:\tlearn: 0.2986021\ttotal: 45ms\tremaining: 315ms\n",
      "25:\tlearn: 0.2957670\ttotal: 46.8ms\tremaining: 313ms\n",
      "26:\tlearn: 0.2929274\ttotal: 48.6ms\tremaining: 311ms\n",
      "27:\tlearn: 0.2889360\ttotal: 50.4ms\tremaining: 310ms\n",
      "28:\tlearn: 0.2872209\ttotal: 52.2ms\tremaining: 308ms\n",
      "29:\tlearn: 0.2853380\ttotal: 54.1ms\tremaining: 306ms\n",
      "30:\tlearn: 0.2824496\ttotal: 55.9ms\tremaining: 305ms\n",
      "31:\tlearn: 0.2798249\ttotal: 57.8ms\tremaining: 303ms\n",
      "32:\tlearn: 0.2766737\ttotal: 59.7ms\tremaining: 302ms\n",
      "33:\tlearn: 0.2750955\ttotal: 61.9ms\tremaining: 302ms\n",
      "34:\tlearn: 0.2736653\ttotal: 63.7ms\tremaining: 300ms\n",
      "35:\tlearn: 0.2715989\ttotal: 65.6ms\tremaining: 299ms\n",
      "36:\tlearn: 0.2701147\ttotal: 67.5ms\tremaining: 297ms\n",
      "37:\tlearn: 0.2685656\ttotal: 69.4ms\tremaining: 296ms\n",
      "38:\tlearn: 0.2667254\ttotal: 71.1ms\tremaining: 294ms\n",
      "39:\tlearn: 0.2645775\ttotal: 73ms\tremaining: 292ms\n",
      "40:\tlearn: 0.2634267\ttotal: 74.8ms\tremaining: 290ms\n",
      "41:\tlearn: 0.2617018\ttotal: 76.7ms\tremaining: 288ms\n",
      "42:\tlearn: 0.2599512\ttotal: 78.6ms\tremaining: 287ms\n",
      "43:\tlearn: 0.2573886\ttotal: 80.5ms\tremaining: 285ms\n",
      "44:\tlearn: 0.2562881\ttotal: 82.3ms\tremaining: 284ms\n",
      "45:\tlearn: 0.2546598\ttotal: 84.2ms\tremaining: 282ms\n",
      "46:\tlearn: 0.2525615\ttotal: 86.1ms\tremaining: 280ms\n",
      "47:\tlearn: 0.2506965\ttotal: 87.9ms\tremaining: 278ms\n",
      "48:\tlearn: 0.2490123\ttotal: 89.7ms\tremaining: 276ms\n",
      "49:\tlearn: 0.2471043\ttotal: 91.5ms\tremaining: 275ms\n",
      "50:\tlearn: 0.2459512\ttotal: 93.4ms\tremaining: 273ms\n",
      "51:\tlearn: 0.2444583\ttotal: 95.2ms\tremaining: 271ms\n",
      "52:\tlearn: 0.2433946\ttotal: 97.1ms\tremaining: 269ms\n",
      "53:\tlearn: 0.2410623\ttotal: 98.9ms\tremaining: 267ms\n",
      "54:\tlearn: 0.2393195\ttotal: 101ms\tremaining: 266ms\n",
      "55:\tlearn: 0.2371579\ttotal: 103ms\tremaining: 264ms\n",
      "56:\tlearn: 0.2356893\ttotal: 105ms\tremaining: 263ms\n",
      "57:\tlearn: 0.2349253\ttotal: 107ms\tremaining: 261ms\n",
      "58:\tlearn: 0.2335461\ttotal: 109ms\tremaining: 259ms\n",
      "59:\tlearn: 0.2319663\ttotal: 110ms\tremaining: 258ms\n",
      "60:\tlearn: 0.2306405\ttotal: 112ms\tremaining: 256ms\n",
      "61:\tlearn: 0.2291730\ttotal: 114ms\tremaining: 254ms\n",
      "62:\tlearn: 0.2273064\ttotal: 116ms\tremaining: 252ms\n",
      "63:\tlearn: 0.2262103\ttotal: 118ms\tremaining: 250ms\n",
      "64:\tlearn: 0.2242971\ttotal: 120ms\tremaining: 249ms\n",
      "65:\tlearn: 0.2235391\ttotal: 122ms\tremaining: 247ms\n",
      "66:\tlearn: 0.2216334\ttotal: 123ms\tremaining: 245ms\n",
      "67:\tlearn: 0.2198715\ttotal: 125ms\tremaining: 243ms\n",
      "68:\tlearn: 0.2189661\ttotal: 127ms\tremaining: 242ms\n",
      "69:\tlearn: 0.2182868\ttotal: 129ms\tremaining: 240ms\n",
      "70:\tlearn: 0.2167066\ttotal: 131ms\tremaining: 238ms\n",
      "71:\tlearn: 0.2151843\ttotal: 133ms\tremaining: 236ms\n",
      "72:\tlearn: 0.2141860\ttotal: 135ms\tremaining: 234ms\n",
      "73:\tlearn: 0.2129038\ttotal: 137ms\tremaining: 232ms\n",
      "74:\tlearn: 0.2119146\ttotal: 138ms\tremaining: 231ms\n",
      "75:\tlearn: 0.2102759\ttotal: 140ms\tremaining: 229ms\n",
      "76:\tlearn: 0.2087062\ttotal: 142ms\tremaining: 227ms\n",
      "77:\tlearn: 0.2080595\ttotal: 144ms\tremaining: 225ms\n",
      "78:\tlearn: 0.2071287\ttotal: 146ms\tremaining: 223ms\n",
      "79:\tlearn: 0.2061209\ttotal: 148ms\tremaining: 221ms\n",
      "80:\tlearn: 0.2045147\ttotal: 149ms\tremaining: 219ms\n",
      "81:\tlearn: 0.2033827\ttotal: 151ms\tremaining: 218ms\n",
      "82:\tlearn: 0.2016584\ttotal: 153ms\tremaining: 216ms\n",
      "83:\tlearn: 0.2004701\ttotal: 155ms\tremaining: 214ms\n",
      "84:\tlearn: 0.1995820\ttotal: 157ms\tremaining: 212ms\n",
      "85:\tlearn: 0.1984663\ttotal: 159ms\tremaining: 211ms\n",
      "86:\tlearn: 0.1972251\ttotal: 161ms\tremaining: 209ms\n",
      "87:\tlearn: 0.1960395\ttotal: 163ms\tremaining: 207ms\n",
      "88:\tlearn: 0.1950673\ttotal: 164ms\tremaining: 205ms\n",
      "89:\tlearn: 0.1942427\ttotal: 166ms\tremaining: 203ms\n",
      "90:\tlearn: 0.1932670\ttotal: 168ms\tremaining: 201ms\n",
      "91:\tlearn: 0.1926764\ttotal: 170ms\tremaining: 199ms\n",
      "92:\tlearn: 0.1918582\ttotal: 172ms\tremaining: 198ms\n",
      "93:\tlearn: 0.1907179\ttotal: 174ms\tremaining: 196ms\n",
      "94:\tlearn: 0.1890613\ttotal: 176ms\tremaining: 194ms\n",
      "95:\tlearn: 0.1881503\ttotal: 178ms\tremaining: 192ms\n",
      "96:\tlearn: 0.1868924\ttotal: 180ms\tremaining: 191ms\n",
      "97:\tlearn: 0.1856744\ttotal: 182ms\tremaining: 189ms\n",
      "98:\tlearn: 0.1848128\ttotal: 184ms\tremaining: 187ms\n",
      "99:\tlearn: 0.1844549\ttotal: 185ms\tremaining: 185ms\n",
      "100:\tlearn: 0.1832966\ttotal: 187ms\tremaining: 184ms\n",
      "101:\tlearn: 0.1825852\ttotal: 189ms\tremaining: 182ms\n",
      "102:\tlearn: 0.1819398\ttotal: 191ms\tremaining: 180ms\n",
      "103:\tlearn: 0.1809977\ttotal: 193ms\tremaining: 178ms\n",
      "104:\tlearn: 0.1796530\ttotal: 195ms\tremaining: 176ms\n",
      "105:\tlearn: 0.1788422\ttotal: 197ms\tremaining: 174ms\n",
      "106:\tlearn: 0.1781382\ttotal: 199ms\tremaining: 173ms\n",
      "107:\tlearn: 0.1774552\ttotal: 201ms\tremaining: 171ms\n",
      "108:\tlearn: 0.1767117\ttotal: 203ms\tremaining: 169ms\n",
      "109:\tlearn: 0.1761312\ttotal: 205ms\tremaining: 167ms\n",
      "110:\tlearn: 0.1759511\ttotal: 206ms\tremaining: 165ms\n",
      "111:\tlearn: 0.1748811\ttotal: 208ms\tremaining: 164ms\n",
      "112:\tlearn: 0.1740603\ttotal: 210ms\tremaining: 162ms\n",
      "113:\tlearn: 0.1733679\ttotal: 212ms\tremaining: 160ms\n",
      "114:\tlearn: 0.1727134\ttotal: 214ms\tremaining: 158ms\n",
      "115:\tlearn: 0.1715134\ttotal: 216ms\tremaining: 156ms\n",
      "116:\tlearn: 0.1708555\ttotal: 218ms\tremaining: 154ms\n",
      "117:\tlearn: 0.1704810\ttotal: 219ms\tremaining: 152ms\n",
      "118:\tlearn: 0.1688965\ttotal: 221ms\tremaining: 151ms\n",
      "119:\tlearn: 0.1675274\ttotal: 223ms\tremaining: 149ms\n",
      "120:\tlearn: 0.1664623\ttotal: 225ms\tremaining: 147ms\n",
      "121:\tlearn: 0.1652541\ttotal: 227ms\tremaining: 145ms\n",
      "122:\tlearn: 0.1639002\ttotal: 229ms\tremaining: 143ms\n",
      "123:\tlearn: 0.1629526\ttotal: 231ms\tremaining: 141ms\n",
      "124:\tlearn: 0.1621599\ttotal: 233ms\tremaining: 140ms\n",
      "125:\tlearn: 0.1616635\ttotal: 234ms\tremaining: 138ms\n",
      "126:\tlearn: 0.1609188\ttotal: 236ms\tremaining: 136ms\n",
      "127:\tlearn: 0.1599826\ttotal: 238ms\tremaining: 134ms\n",
      "128:\tlearn: 0.1589418\ttotal: 240ms\tremaining: 132ms\n",
      "129:\tlearn: 0.1586342\ttotal: 242ms\tremaining: 130ms\n",
      "130:\tlearn: 0.1579411\ttotal: 244ms\tremaining: 128ms\n",
      "131:\tlearn: 0.1572653\ttotal: 246ms\tremaining: 127ms\n",
      "132:\tlearn: 0.1567972\ttotal: 247ms\tremaining: 125ms\n",
      "133:\tlearn: 0.1563517\ttotal: 249ms\tremaining: 123ms\n",
      "134:\tlearn: 0.1557971\ttotal: 251ms\tremaining: 121ms\n",
      "135:\tlearn: 0.1551494\ttotal: 253ms\tremaining: 119ms\n",
      "136:\tlearn: 0.1544672\ttotal: 255ms\tremaining: 117ms\n",
      "137:\tlearn: 0.1538904\ttotal: 257ms\tremaining: 115ms\n",
      "138:\tlearn: 0.1532493\ttotal: 258ms\tremaining: 113ms\n",
      "139:\tlearn: 0.1528040\ttotal: 260ms\tremaining: 112ms\n",
      "140:\tlearn: 0.1523645\ttotal: 262ms\tremaining: 110ms\n",
      "141:\tlearn: 0.1516740\ttotal: 264ms\tremaining: 108ms\n",
      "142:\tlearn: 0.1510758\ttotal: 266ms\tremaining: 106ms\n",
      "143:\tlearn: 0.1505352\ttotal: 268ms\tremaining: 104ms\n",
      "144:\tlearn: 0.1496384\ttotal: 270ms\tremaining: 102ms\n",
      "145:\tlearn: 0.1491541\ttotal: 271ms\tremaining: 100ms\n",
      "146:\tlearn: 0.1485946\ttotal: 273ms\tremaining: 98.5ms\n",
      "147:\tlearn: 0.1479470\ttotal: 275ms\tremaining: 96.7ms\n",
      "148:\tlearn: 0.1468599\ttotal: 277ms\tremaining: 94.9ms\n",
      "149:\tlearn: 0.1465997\ttotal: 279ms\tremaining: 93ms\n",
      "150:\tlearn: 0.1456969\ttotal: 281ms\tremaining: 91.2ms\n",
      "151:\tlearn: 0.1452587\ttotal: 283ms\tremaining: 89.3ms\n",
      "152:\tlearn: 0.1441689\ttotal: 285ms\tremaining: 87.5ms\n",
      "153:\tlearn: 0.1436609\ttotal: 287ms\tremaining: 85.6ms\n",
      "154:\tlearn: 0.1431293\ttotal: 288ms\tremaining: 83.7ms\n",
      "155:\tlearn: 0.1426809\ttotal: 290ms\tremaining: 81.9ms\n",
      "156:\tlearn: 0.1422274\ttotal: 292ms\tremaining: 80ms\n",
      "157:\tlearn: 0.1417773\ttotal: 294ms\tremaining: 78.2ms\n",
      "158:\tlearn: 0.1411898\ttotal: 296ms\tremaining: 76.3ms\n",
      "159:\tlearn: 0.1404366\ttotal: 298ms\tremaining: 74.4ms\n",
      "160:\tlearn: 0.1399562\ttotal: 300ms\tremaining: 72.6ms\n",
      "161:\tlearn: 0.1396823\ttotal: 302ms\tremaining: 70.7ms\n",
      "162:\tlearn: 0.1394852\ttotal: 303ms\tremaining: 68.9ms\n",
      "163:\tlearn: 0.1388329\ttotal: 305ms\tremaining: 67ms\n",
      "164:\tlearn: 0.1377013\ttotal: 307ms\tremaining: 65.1ms\n",
      "165:\tlearn: 0.1372652\ttotal: 309ms\tremaining: 63.2ms\n",
      "166:\tlearn: 0.1367766\ttotal: 311ms\tremaining: 61.4ms\n",
      "167:\tlearn: 0.1362960\ttotal: 312ms\tremaining: 59.5ms\n",
      "168:\tlearn: 0.1352555\ttotal: 314ms\tremaining: 57.6ms\n",
      "169:\tlearn: 0.1343754\ttotal: 316ms\tremaining: 55.8ms\n",
      "170:\tlearn: 0.1335937\ttotal: 318ms\tremaining: 53.9ms\n",
      "171:\tlearn: 0.1330820\ttotal: 320ms\tremaining: 52.1ms\n",
      "172:\tlearn: 0.1321199\ttotal: 322ms\tremaining: 50.2ms\n",
      "173:\tlearn: 0.1316435\ttotal: 324ms\tremaining: 48.3ms\n",
      "174:\tlearn: 0.1309963\ttotal: 325ms\tremaining: 46.5ms\n",
      "175:\tlearn: 0.1304710\ttotal: 327ms\tremaining: 44.6ms\n",
      "176:\tlearn: 0.1299318\ttotal: 329ms\tremaining: 42.8ms\n",
      "177:\tlearn: 0.1293840\ttotal: 331ms\tremaining: 40.9ms\n",
      "178:\tlearn: 0.1288524\ttotal: 333ms\tremaining: 39ms\n",
      "179:\tlearn: 0.1280434\ttotal: 335ms\tremaining: 37.2ms\n",
      "180:\tlearn: 0.1277770\ttotal: 336ms\tremaining: 35.3ms\n",
      "181:\tlearn: 0.1271377\ttotal: 338ms\tremaining: 33.4ms\n",
      "182:\tlearn: 0.1268255\ttotal: 340ms\tremaining: 31.6ms\n",
      "183:\tlearn: 0.1261246\ttotal: 342ms\tremaining: 29.7ms\n",
      "184:\tlearn: 0.1255699\ttotal: 344ms\tremaining: 27.9ms\n",
      "185:\tlearn: 0.1252176\ttotal: 346ms\tremaining: 26ms\n",
      "186:\tlearn: 0.1248143\ttotal: 347ms\tremaining: 24.1ms\n",
      "187:\tlearn: 0.1240469\ttotal: 349ms\tremaining: 22.3ms\n",
      "188:\tlearn: 0.1234007\ttotal: 351ms\tremaining: 20.4ms\n",
      "189:\tlearn: 0.1230206\ttotal: 353ms\tremaining: 18.6ms\n",
      "190:\tlearn: 0.1226332\ttotal: 355ms\tremaining: 16.7ms\n",
      "191:\tlearn: 0.1220894\ttotal: 356ms\tremaining: 14.8ms\n",
      "192:\tlearn: 0.1216404\ttotal: 358ms\tremaining: 13ms\n",
      "193:\tlearn: 0.1213768\ttotal: 360ms\tremaining: 11.1ms\n",
      "194:\tlearn: 0.1209061\ttotal: 362ms\tremaining: 9.28ms\n",
      "195:\tlearn: 0.1206420\ttotal: 364ms\tremaining: 7.42ms\n",
      "196:\tlearn: 0.1201815\ttotal: 366ms\tremaining: 5.57ms\n",
      "197:\tlearn: 0.1195106\ttotal: 368ms\tremaining: 3.71ms\n",
      "198:\tlearn: 0.1191214\ttotal: 369ms\tremaining: 1.86ms\n",
      "199:\tlearn: 0.1187561\ttotal: 371ms\tremaining: 0us\n"
     ]
    },
    {
     "name": "stdout",
     "output_type": "stream",
     "text": [
      "0:\tlearn: 0.4741890\ttotal: 1.95ms\tremaining: 388ms\n",
      "1:\tlearn: 0.4054721\ttotal: 4.05ms\tremaining: 401ms\n",
      "2:\tlearn: 0.4003319\ttotal: 5.02ms\tremaining: 330ms\n",
      "3:\tlearn: 0.3779972\ttotal: 6.81ms\tremaining: 334ms\n",
      "4:\tlearn: 0.3671547\ttotal: 8.66ms\tremaining: 338ms\n",
      "5:\tlearn: 0.3645338\ttotal: 9.84ms\tremaining: 318ms\n",
      "6:\tlearn: 0.3572497\ttotal: 11.7ms\tremaining: 323ms\n",
      "7:\tlearn: 0.3521401\ttotal: 13.6ms\tremaining: 326ms\n",
      "8:\tlearn: 0.3506893\ttotal: 15.3ms\tremaining: 325ms\n",
      "9:\tlearn: 0.3488061\ttotal: 17ms\tremaining: 323ms\n",
      "10:\tlearn: 0.3468490\ttotal: 18.7ms\tremaining: 321ms\n",
      "11:\tlearn: 0.3419348\ttotal: 20.5ms\tremaining: 321ms\n",
      "12:\tlearn: 0.3382965\ttotal: 22.4ms\tremaining: 322ms\n",
      "13:\tlearn: 0.3336774\ttotal: 24.2ms\tremaining: 322ms\n",
      "14:\tlearn: 0.3311888\ttotal: 26.1ms\tremaining: 322ms\n",
      "15:\tlearn: 0.3273137\ttotal: 27.9ms\tremaining: 321ms\n",
      "16:\tlearn: 0.3251538\ttotal: 29.8ms\tremaining: 321ms\n",
      "17:\tlearn: 0.3238083\ttotal: 31.7ms\tremaining: 320ms\n",
      "18:\tlearn: 0.3200882\ttotal: 33.5ms\tremaining: 319ms\n",
      "19:\tlearn: 0.3174321\ttotal: 35.3ms\tremaining: 318ms\n",
      "20:\tlearn: 0.3119222\ttotal: 37.2ms\tremaining: 317ms\n",
      "21:\tlearn: 0.3090584\ttotal: 39.1ms\tremaining: 316ms\n",
      "22:\tlearn: 0.3062217\ttotal: 40.9ms\tremaining: 314ms\n",
      "23:\tlearn: 0.3041089\ttotal: 42.7ms\tremaining: 313ms\n",
      "24:\tlearn: 0.3020717\ttotal: 44.6ms\tremaining: 312ms\n",
      "25:\tlearn: 0.2990623\ttotal: 46.4ms\tremaining: 311ms\n",
      "26:\tlearn: 0.2966316\ttotal: 48.3ms\tremaining: 309ms\n",
      "27:\tlearn: 0.2937317\ttotal: 50.1ms\tremaining: 308ms\n",
      "28:\tlearn: 0.2911405\ttotal: 52ms\tremaining: 306ms\n",
      "29:\tlearn: 0.2889731\ttotal: 53.8ms\tremaining: 305ms\n",
      "30:\tlearn: 0.2869786\ttotal: 55.7ms\tremaining: 303ms\n",
      "31:\tlearn: 0.2854234\ttotal: 57.5ms\tremaining: 302ms\n",
      "32:\tlearn: 0.2832584\ttotal: 59.5ms\tremaining: 301ms\n",
      "33:\tlearn: 0.2811927\ttotal: 61.5ms\tremaining: 300ms\n",
      "34:\tlearn: 0.2781592\ttotal: 63.5ms\tremaining: 299ms\n",
      "35:\tlearn: 0.2763715\ttotal: 65.4ms\tremaining: 298ms\n",
      "36:\tlearn: 0.2737322\ttotal: 67.2ms\tremaining: 296ms\n",
      "37:\tlearn: 0.2714096\ttotal: 69.1ms\tremaining: 295ms\n",
      "38:\tlearn: 0.2702756\ttotal: 70.9ms\tremaining: 293ms\n",
      "39:\tlearn: 0.2679932\ttotal: 72.8ms\tremaining: 291ms\n",
      "40:\tlearn: 0.2643425\ttotal: 74.7ms\tremaining: 290ms\n",
      "41:\tlearn: 0.2610264\ttotal: 76.5ms\tremaining: 288ms\n",
      "42:\tlearn: 0.2587289\ttotal: 78.3ms\tremaining: 286ms\n",
      "43:\tlearn: 0.2568362\ttotal: 80.2ms\tremaining: 284ms\n",
      "44:\tlearn: 0.2550111\ttotal: 82ms\tremaining: 282ms\n",
      "45:\tlearn: 0.2535480\ttotal: 83.8ms\tremaining: 281ms\n",
      "46:\tlearn: 0.2516991\ttotal: 85.6ms\tremaining: 279ms\n",
      "47:\tlearn: 0.2501199\ttotal: 87.5ms\tremaining: 277ms\n",
      "48:\tlearn: 0.2481159\ttotal: 89.3ms\tremaining: 275ms\n",
      "49:\tlearn: 0.2463099\ttotal: 91.1ms\tremaining: 273ms\n",
      "50:\tlearn: 0.2448886\ttotal: 93ms\tremaining: 272ms\n",
      "51:\tlearn: 0.2436484\ttotal: 94.8ms\tremaining: 270ms\n",
      "52:\tlearn: 0.2416507\ttotal: 96.7ms\tremaining: 268ms\n",
      "53:\tlearn: 0.2406292\ttotal: 98.5ms\tremaining: 266ms\n",
      "54:\tlearn: 0.2393073\ttotal: 100ms\tremaining: 265ms\n",
      "55:\tlearn: 0.2363917\ttotal: 102ms\tremaining: 263ms\n",
      "56:\tlearn: 0.2344411\ttotal: 104ms\tremaining: 261ms\n",
      "57:\tlearn: 0.2322205\ttotal: 106ms\tremaining: 260ms\n",
      "58:\tlearn: 0.2301880\ttotal: 108ms\tremaining: 258ms\n",
      "59:\tlearn: 0.2285160\ttotal: 110ms\tremaining: 256ms\n",
      "60:\tlearn: 0.2274188\ttotal: 112ms\tremaining: 255ms\n",
      "61:\tlearn: 0.2263011\ttotal: 114ms\tremaining: 253ms\n",
      "62:\tlearn: 0.2252219\ttotal: 115ms\tremaining: 251ms\n",
      "63:\tlearn: 0.2239029\ttotal: 117ms\tremaining: 249ms\n",
      "64:\tlearn: 0.2229846\ttotal: 119ms\tremaining: 247ms\n",
      "65:\tlearn: 0.2213479\ttotal: 121ms\tremaining: 245ms\n",
      "66:\tlearn: 0.2202732\ttotal: 123ms\tremaining: 243ms\n",
      "67:\tlearn: 0.2187456\ttotal: 125ms\tremaining: 242ms\n",
      "68:\tlearn: 0.2175327\ttotal: 126ms\tremaining: 240ms\n",
      "69:\tlearn: 0.2161570\ttotal: 128ms\tremaining: 238ms\n",
      "70:\tlearn: 0.2149885\ttotal: 130ms\tremaining: 236ms\n",
      "71:\tlearn: 0.2130337\ttotal: 132ms\tremaining: 234ms\n",
      "72:\tlearn: 0.2125147\ttotal: 134ms\tremaining: 233ms\n",
      "73:\tlearn: 0.2116976\ttotal: 136ms\tremaining: 231ms\n",
      "74:\tlearn: 0.2101761\ttotal: 137ms\tremaining: 229ms\n",
      "75:\tlearn: 0.2094882\ttotal: 139ms\tremaining: 227ms\n",
      "76:\tlearn: 0.2082185\ttotal: 141ms\tremaining: 225ms\n",
      "77:\tlearn: 0.2063392\ttotal: 143ms\tremaining: 224ms\n",
      "78:\tlearn: 0.2045845\ttotal: 145ms\tremaining: 222ms\n",
      "79:\tlearn: 0.2028284\ttotal: 147ms\tremaining: 220ms\n",
      "80:\tlearn: 0.2012545\ttotal: 149ms\tremaining: 218ms\n",
      "81:\tlearn: 0.2002575\ttotal: 150ms\tremaining: 216ms\n",
      "82:\tlearn: 0.1997925\ttotal: 152ms\tremaining: 215ms\n",
      "83:\tlearn: 0.1985766\ttotal: 154ms\tremaining: 213ms\n",
      "84:\tlearn: 0.1969423\ttotal: 156ms\tremaining: 211ms\n",
      "85:\tlearn: 0.1954966\ttotal: 158ms\tremaining: 210ms\n",
      "86:\tlearn: 0.1944667\ttotal: 160ms\tremaining: 208ms\n",
      "87:\tlearn: 0.1936071\ttotal: 162ms\tremaining: 206ms\n",
      "88:\tlearn: 0.1929135\ttotal: 164ms\tremaining: 204ms\n",
      "89:\tlearn: 0.1915960\ttotal: 165ms\tremaining: 202ms\n",
      "90:\tlearn: 0.1908859\ttotal: 167ms\tremaining: 200ms\n",
      "91:\tlearn: 0.1902302\ttotal: 169ms\tremaining: 199ms\n",
      "92:\tlearn: 0.1889786\ttotal: 171ms\tremaining: 197ms\n",
      "93:\tlearn: 0.1878602\ttotal: 173ms\tremaining: 195ms\n",
      "94:\tlearn: 0.1866284\ttotal: 175ms\tremaining: 193ms\n",
      "95:\tlearn: 0.1855839\ttotal: 177ms\tremaining: 191ms\n",
      "96:\tlearn: 0.1844964\ttotal: 179ms\tremaining: 190ms\n",
      "97:\tlearn: 0.1836350\ttotal: 181ms\tremaining: 188ms\n",
      "98:\tlearn: 0.1821154\ttotal: 182ms\tremaining: 186ms\n",
      "99:\tlearn: 0.1813408\ttotal: 184ms\tremaining: 184ms\n",
      "100:\tlearn: 0.1803714\ttotal: 186ms\tremaining: 182ms\n",
      "101:\tlearn: 0.1794685\ttotal: 188ms\tremaining: 180ms\n",
      "102:\tlearn: 0.1784958\ttotal: 190ms\tremaining: 179ms\n",
      "103:\tlearn: 0.1778667\ttotal: 191ms\tremaining: 177ms\n",
      "104:\tlearn: 0.1769737\ttotal: 193ms\tremaining: 175ms\n",
      "105:\tlearn: 0.1761765\ttotal: 195ms\tremaining: 173ms\n",
      "106:\tlearn: 0.1753160\ttotal: 197ms\tremaining: 171ms\n",
      "107:\tlearn: 0.1741464\ttotal: 199ms\tremaining: 170ms\n",
      "108:\tlearn: 0.1735616\ttotal: 201ms\tremaining: 168ms\n",
      "109:\tlearn: 0.1725881\ttotal: 203ms\tremaining: 166ms\n",
      "110:\tlearn: 0.1717321\ttotal: 205ms\tremaining: 164ms\n",
      "111:\tlearn: 0.1708955\ttotal: 207ms\tremaining: 162ms\n",
      "112:\tlearn: 0.1701469\ttotal: 209ms\tremaining: 161ms\n",
      "113:\tlearn: 0.1688677\ttotal: 210ms\tremaining: 159ms\n",
      "114:\tlearn: 0.1677641\ttotal: 212ms\tremaining: 157ms\n",
      "115:\tlearn: 0.1667804\ttotal: 214ms\tremaining: 155ms\n",
      "116:\tlearn: 0.1649225\ttotal: 216ms\tremaining: 153ms\n",
      "117:\tlearn: 0.1636537\ttotal: 218ms\tremaining: 151ms\n",
      "118:\tlearn: 0.1629626\ttotal: 220ms\tremaining: 149ms\n",
      "119:\tlearn: 0.1617159\ttotal: 221ms\tremaining: 148ms\n",
      "120:\tlearn: 0.1612952\ttotal: 223ms\tremaining: 146ms\n",
      "121:\tlearn: 0.1598399\ttotal: 225ms\tremaining: 144ms\n",
      "122:\tlearn: 0.1593111\ttotal: 227ms\tremaining: 142ms\n",
      "123:\tlearn: 0.1580299\ttotal: 229ms\tremaining: 140ms\n",
      "124:\tlearn: 0.1572264\ttotal: 231ms\tremaining: 138ms\n",
      "125:\tlearn: 0.1561356\ttotal: 232ms\tremaining: 137ms\n",
      "126:\tlearn: 0.1550203\ttotal: 234ms\tremaining: 135ms\n",
      "127:\tlearn: 0.1544694\ttotal: 236ms\tremaining: 133ms\n",
      "128:\tlearn: 0.1531368\ttotal: 238ms\tremaining: 131ms\n",
      "129:\tlearn: 0.1521857\ttotal: 244ms\tremaining: 131ms\n",
      "130:\tlearn: 0.1515801\ttotal: 246ms\tremaining: 129ms\n",
      "131:\tlearn: 0.1504737\ttotal: 248ms\tremaining: 128ms\n",
      "132:\tlearn: 0.1497393\ttotal: 249ms\tremaining: 126ms\n",
      "133:\tlearn: 0.1490778\ttotal: 251ms\tremaining: 124ms\n",
      "134:\tlearn: 0.1483236\ttotal: 253ms\tremaining: 122ms\n",
      "135:\tlearn: 0.1477414\ttotal: 255ms\tremaining: 120ms\n",
      "136:\tlearn: 0.1471780\ttotal: 257ms\tremaining: 118ms\n",
      "137:\tlearn: 0.1466646\ttotal: 259ms\tremaining: 116ms\n",
      "138:\tlearn: 0.1459696\ttotal: 261ms\tremaining: 114ms\n",
      "139:\tlearn: 0.1454602\ttotal: 263ms\tremaining: 113ms\n",
      "140:\tlearn: 0.1449323\ttotal: 264ms\tremaining: 111ms\n",
      "141:\tlearn: 0.1442057\ttotal: 266ms\tremaining: 109ms\n",
      "142:\tlearn: 0.1435698\ttotal: 268ms\tremaining: 107ms\n",
      "143:\tlearn: 0.1428561\ttotal: 270ms\tremaining: 105ms\n",
      "144:\tlearn: 0.1423441\ttotal: 272ms\tremaining: 103ms\n",
      "145:\tlearn: 0.1416172\ttotal: 274ms\tremaining: 101ms\n",
      "146:\tlearn: 0.1407299\ttotal: 276ms\tremaining: 99.4ms\n",
      "147:\tlearn: 0.1402741\ttotal: 277ms\tremaining: 97.5ms\n",
      "148:\tlearn: 0.1397346\ttotal: 279ms\tremaining: 95.6ms\n",
      "149:\tlearn: 0.1393348\ttotal: 281ms\tremaining: 93.7ms\n",
      "150:\tlearn: 0.1385766\ttotal: 283ms\tremaining: 91.9ms\n",
      "151:\tlearn: 0.1381860\ttotal: 285ms\tremaining: 90ms\n",
      "152:\tlearn: 0.1374239\ttotal: 287ms\tremaining: 88.1ms\n",
      "153:\tlearn: 0.1368728\ttotal: 289ms\tremaining: 86.2ms\n",
      "154:\tlearn: 0.1364299\ttotal: 290ms\tremaining: 84.3ms\n",
      "155:\tlearn: 0.1361964\ttotal: 292ms\tremaining: 82.4ms\n",
      "156:\tlearn: 0.1356266\ttotal: 294ms\tremaining: 80.5ms\n",
      "157:\tlearn: 0.1351571\ttotal: 296ms\tremaining: 78.7ms\n",
      "158:\tlearn: 0.1346725\ttotal: 298ms\tremaining: 76.7ms\n",
      "159:\tlearn: 0.1340726\ttotal: 299ms\tremaining: 74.9ms\n",
      "160:\tlearn: 0.1331451\ttotal: 301ms\tremaining: 73ms\n",
      "161:\tlearn: 0.1325379\ttotal: 303ms\tremaining: 71.1ms\n",
      "162:\tlearn: 0.1318768\ttotal: 305ms\tremaining: 69.2ms\n",
      "163:\tlearn: 0.1310234\ttotal: 307ms\tremaining: 67.4ms\n",
      "164:\tlearn: 0.1303333\ttotal: 309ms\tremaining: 65.5ms\n",
      "165:\tlearn: 0.1299732\ttotal: 310ms\tremaining: 63.6ms\n",
      "166:\tlearn: 0.1293007\ttotal: 312ms\tremaining: 61.7ms\n",
      "167:\tlearn: 0.1284621\ttotal: 314ms\tremaining: 59.8ms\n",
      "168:\tlearn: 0.1280684\ttotal: 316ms\tremaining: 57.9ms\n",
      "169:\tlearn: 0.1278963\ttotal: 318ms\tremaining: 56.1ms\n",
      "170:\tlearn: 0.1273569\ttotal: 320ms\tremaining: 54.2ms\n",
      "171:\tlearn: 0.1269088\ttotal: 322ms\tremaining: 52.3ms\n",
      "172:\tlearn: 0.1263793\ttotal: 323ms\tremaining: 50.4ms\n",
      "173:\tlearn: 0.1255859\ttotal: 325ms\tremaining: 48.6ms\n",
      "174:\tlearn: 0.1251505\ttotal: 327ms\tremaining: 46.7ms\n",
      "175:\tlearn: 0.1247852\ttotal: 329ms\tremaining: 44.8ms\n",
      "176:\tlearn: 0.1243712\ttotal: 330ms\tremaining: 42.9ms\n",
      "177:\tlearn: 0.1239353\ttotal: 332ms\tremaining: 41.1ms\n",
      "178:\tlearn: 0.1233587\ttotal: 334ms\tremaining: 39.2ms\n",
      "179:\tlearn: 0.1229933\ttotal: 336ms\tremaining: 37.3ms\n",
      "180:\tlearn: 0.1225957\ttotal: 338ms\tremaining: 35.5ms\n",
      "181:\tlearn: 0.1220160\ttotal: 340ms\tremaining: 33.6ms\n",
      "182:\tlearn: 0.1215249\ttotal: 342ms\tremaining: 31.7ms\n",
      "183:\tlearn: 0.1209436\ttotal: 343ms\tremaining: 29.9ms\n",
      "184:\tlearn: 0.1206765\ttotal: 345ms\tremaining: 28ms\n",
      "185:\tlearn: 0.1204024\ttotal: 347ms\tremaining: 26.1ms\n",
      "186:\tlearn: 0.1199575\ttotal: 349ms\tremaining: 24.3ms\n",
      "187:\tlearn: 0.1196193\ttotal: 351ms\tremaining: 22.4ms\n",
      "188:\tlearn: 0.1190098\ttotal: 353ms\tremaining: 20.5ms\n",
      "189:\tlearn: 0.1180976\ttotal: 355ms\tremaining: 18.7ms\n",
      "190:\tlearn: 0.1178847\ttotal: 356ms\tremaining: 16.8ms\n",
      "191:\tlearn: 0.1173317\ttotal: 358ms\tremaining: 14.9ms\n",
      "192:\tlearn: 0.1169351\ttotal: 360ms\tremaining: 13.1ms\n",
      "193:\tlearn: 0.1161804\ttotal: 362ms\tremaining: 11.2ms\n",
      "194:\tlearn: 0.1157216\ttotal: 364ms\tremaining: 9.33ms\n",
      "195:\tlearn: 0.1149864\ttotal: 366ms\tremaining: 7.46ms\n",
      "196:\tlearn: 0.1141252\ttotal: 368ms\tremaining: 5.6ms\n",
      "197:\tlearn: 0.1138744\ttotal: 370ms\tremaining: 3.73ms\n",
      "198:\tlearn: 0.1131951\ttotal: 371ms\tremaining: 1.87ms\n",
      "199:\tlearn: 0.1128048\ttotal: 373ms\tremaining: 0us\n"
     ]
    },
    {
     "name": "stdout",
     "output_type": "stream",
     "text": [
      "0:\tlearn: 0.4763828\ttotal: 1.96ms\tremaining: 390ms\n",
      "1:\tlearn: 0.4120667\ttotal: 3.61ms\tremaining: 358ms\n",
      "2:\tlearn: 0.3858970\ttotal: 5.49ms\tremaining: 360ms\n",
      "3:\tlearn: 0.3721952\ttotal: 7.35ms\tremaining: 360ms\n",
      "4:\tlearn: 0.3642857\ttotal: 9.1ms\tremaining: 355ms\n",
      "5:\tlearn: 0.3575267\ttotal: 10.9ms\tremaining: 353ms\n",
      "6:\tlearn: 0.3552554\ttotal: 12.7ms\tremaining: 351ms\n",
      "7:\tlearn: 0.3519915\ttotal: 14.5ms\tremaining: 347ms\n",
      "8:\tlearn: 0.3463609\ttotal: 16.3ms\tremaining: 346ms\n",
      "9:\tlearn: 0.3439904\ttotal: 18.1ms\tremaining: 345ms\n",
      "10:\tlearn: 0.3417477\ttotal: 19.9ms\tremaining: 343ms\n",
      "11:\tlearn: 0.3396698\ttotal: 21.8ms\tremaining: 341ms\n",
      "12:\tlearn: 0.3364178\ttotal: 23.6ms\tremaining: 340ms\n",
      "13:\tlearn: 0.3331201\ttotal: 25.5ms\tremaining: 338ms\n",
      "14:\tlearn: 0.3306787\ttotal: 27.3ms\tremaining: 337ms\n",
      "15:\tlearn: 0.3284461\ttotal: 29.2ms\tremaining: 335ms\n",
      "16:\tlearn: 0.3237554\ttotal: 31ms\tremaining: 334ms\n",
      "17:\tlearn: 0.3221592\ttotal: 32.8ms\tremaining: 331ms\n",
      "18:\tlearn: 0.3186090\ttotal: 34.6ms\tremaining: 329ms\n",
      "19:\tlearn: 0.3158224\ttotal: 36.4ms\tremaining: 328ms\n",
      "20:\tlearn: 0.3117520\ttotal: 38.3ms\tremaining: 326ms\n",
      "21:\tlearn: 0.3080607\ttotal: 40.2ms\tremaining: 325ms\n",
      "22:\tlearn: 0.3057154\ttotal: 42.1ms\tremaining: 324ms\n",
      "23:\tlearn: 0.3034195\ttotal: 43.9ms\tremaining: 322ms\n",
      "24:\tlearn: 0.2992320\ttotal: 45.8ms\tremaining: 321ms\n",
      "25:\tlearn: 0.2963802\ttotal: 47.6ms\tremaining: 319ms\n",
      "26:\tlearn: 0.2936993\ttotal: 49.5ms\tremaining: 317ms\n",
      "27:\tlearn: 0.2901701\ttotal: 51.3ms\tremaining: 315ms\n",
      "28:\tlearn: 0.2878975\ttotal: 53.2ms\tremaining: 314ms\n",
      "29:\tlearn: 0.2847720\ttotal: 55ms\tremaining: 312ms\n",
      "30:\tlearn: 0.2808292\ttotal: 57ms\tremaining: 311ms\n",
      "31:\tlearn: 0.2784028\ttotal: 58.8ms\tremaining: 309ms\n",
      "32:\tlearn: 0.2757359\ttotal: 60.7ms\tremaining: 307ms\n",
      "33:\tlearn: 0.2730897\ttotal: 62.6ms\tremaining: 306ms\n",
      "34:\tlearn: 0.2713841\ttotal: 64.9ms\tremaining: 306ms\n",
      "35:\tlearn: 0.2692323\ttotal: 67.2ms\tremaining: 306ms\n",
      "36:\tlearn: 0.2666756\ttotal: 69.5ms\tremaining: 306ms\n",
      "37:\tlearn: 0.2639813\ttotal: 72.9ms\tremaining: 311ms\n",
      "38:\tlearn: 0.2619619\ttotal: 74.8ms\tremaining: 309ms\n",
      "39:\tlearn: 0.2595520\ttotal: 76.7ms\tremaining: 307ms\n",
      "40:\tlearn: 0.2569436\ttotal: 78.6ms\tremaining: 305ms\n",
      "41:\tlearn: 0.2553041\ttotal: 80.5ms\tremaining: 303ms\n",
      "42:\tlearn: 0.2534066\ttotal: 82.4ms\tremaining: 301ms\n",
      "43:\tlearn: 0.2517762\ttotal: 84.2ms\tremaining: 299ms\n",
      "44:\tlearn: 0.2503857\ttotal: 86.1ms\tremaining: 297ms\n",
      "45:\tlearn: 0.2480770\ttotal: 88ms\tremaining: 295ms\n",
      "46:\tlearn: 0.2465396\ttotal: 89.9ms\tremaining: 293ms\n",
      "47:\tlearn: 0.2439875\ttotal: 91.8ms\tremaining: 291ms\n",
      "48:\tlearn: 0.2432612\ttotal: 93.6ms\tremaining: 289ms\n",
      "49:\tlearn: 0.2409255\ttotal: 95.6ms\tremaining: 287ms\n",
      "50:\tlearn: 0.2396295\ttotal: 97.4ms\tremaining: 285ms\n",
      "51:\tlearn: 0.2383154\ttotal: 99.3ms\tremaining: 283ms\n",
      "52:\tlearn: 0.2357198\ttotal: 101ms\tremaining: 281ms\n",
      "53:\tlearn: 0.2339420\ttotal: 103ms\tremaining: 279ms\n",
      "54:\tlearn: 0.2325172\ttotal: 105ms\tremaining: 276ms\n",
      "55:\tlearn: 0.2302695\ttotal: 107ms\tremaining: 275ms\n",
      "56:\tlearn: 0.2291293\ttotal: 109ms\tremaining: 272ms\n",
      "57:\tlearn: 0.2280950\ttotal: 110ms\tremaining: 270ms\n",
      "58:\tlearn: 0.2268543\ttotal: 112ms\tremaining: 269ms\n",
      "59:\tlearn: 0.2258645\ttotal: 114ms\tremaining: 267ms\n",
      "60:\tlearn: 0.2241589\ttotal: 116ms\tremaining: 265ms\n",
      "61:\tlearn: 0.2223625\ttotal: 118ms\tremaining: 262ms\n",
      "62:\tlearn: 0.2204375\ttotal: 120ms\tremaining: 260ms\n",
      "63:\tlearn: 0.2191482\ttotal: 122ms\tremaining: 258ms\n",
      "64:\tlearn: 0.2174839\ttotal: 123ms\tremaining: 256ms\n",
      "65:\tlearn: 0.2156237\ttotal: 125ms\tremaining: 255ms\n",
      "66:\tlearn: 0.2135960\ttotal: 127ms\tremaining: 253ms\n",
      "67:\tlearn: 0.2119171\ttotal: 129ms\tremaining: 251ms\n",
      "68:\tlearn: 0.2106375\ttotal: 131ms\tremaining: 249ms\n",
      "69:\tlearn: 0.2082291\ttotal: 133ms\tremaining: 247ms\n",
      "70:\tlearn: 0.2072540\ttotal: 135ms\tremaining: 245ms\n",
      "71:\tlearn: 0.2065774\ttotal: 137ms\tremaining: 243ms\n",
      "72:\tlearn: 0.2049103\ttotal: 138ms\tremaining: 241ms\n",
      "73:\tlearn: 0.2036370\ttotal: 140ms\tremaining: 239ms\n",
      "74:\tlearn: 0.2029945\ttotal: 142ms\tremaining: 237ms\n",
      "75:\tlearn: 0.2023308\ttotal: 144ms\tremaining: 235ms\n",
      "76:\tlearn: 0.2015642\ttotal: 146ms\tremaining: 233ms\n",
      "77:\tlearn: 0.2001202\ttotal: 148ms\tremaining: 231ms\n",
      "78:\tlearn: 0.1986170\ttotal: 150ms\tremaining: 230ms\n",
      "79:\tlearn: 0.1973177\ttotal: 152ms\tremaining: 228ms\n",
      "80:\tlearn: 0.1961023\ttotal: 154ms\tremaining: 226ms\n",
      "81:\tlearn: 0.1952641\ttotal: 155ms\tremaining: 224ms\n",
      "82:\tlearn: 0.1933886\ttotal: 157ms\tremaining: 222ms\n",
      "83:\tlearn: 0.1926101\ttotal: 159ms\tremaining: 220ms\n",
      "84:\tlearn: 0.1916529\ttotal: 161ms\tremaining: 218ms\n",
      "85:\tlearn: 0.1897890\ttotal: 163ms\tremaining: 216ms\n",
      "86:\tlearn: 0.1892668\ttotal: 165ms\tremaining: 214ms\n",
      "87:\tlearn: 0.1880235\ttotal: 166ms\tremaining: 212ms\n",
      "88:\tlearn: 0.1865190\ttotal: 168ms\tremaining: 210ms\n",
      "89:\tlearn: 0.1853084\ttotal: 170ms\tremaining: 208ms\n",
      "90:\tlearn: 0.1843401\ttotal: 172ms\tremaining: 206ms\n",
      "91:\tlearn: 0.1833314\ttotal: 174ms\tremaining: 204ms\n",
      "92:\tlearn: 0.1824833\ttotal: 176ms\tremaining: 202ms\n",
      "93:\tlearn: 0.1814035\ttotal: 178ms\tremaining: 200ms\n",
      "94:\tlearn: 0.1803531\ttotal: 179ms\tremaining: 198ms\n",
      "95:\tlearn: 0.1795857\ttotal: 182ms\tremaining: 197ms\n",
      "96:\tlearn: 0.1787344\ttotal: 183ms\tremaining: 195ms\n",
      "97:\tlearn: 0.1777021\ttotal: 185ms\tremaining: 193ms\n",
      "98:\tlearn: 0.1770268\ttotal: 187ms\tremaining: 191ms\n",
      "99:\tlearn: 0.1763756\ttotal: 189ms\tremaining: 189ms\n",
      "100:\tlearn: 0.1753607\ttotal: 191ms\tremaining: 187ms\n",
      "101:\tlearn: 0.1743640\ttotal: 193ms\tremaining: 185ms\n",
      "102:\tlearn: 0.1732358\ttotal: 195ms\tremaining: 183ms\n",
      "103:\tlearn: 0.1728445\ttotal: 196ms\tremaining: 181ms\n",
      "104:\tlearn: 0.1717613\ttotal: 199ms\tremaining: 180ms\n",
      "105:\tlearn: 0.1713365\ttotal: 201ms\tremaining: 178ms\n",
      "106:\tlearn: 0.1698609\ttotal: 202ms\tremaining: 176ms\n",
      "107:\tlearn: 0.1691181\ttotal: 204ms\tremaining: 174ms\n",
      "108:\tlearn: 0.1683262\ttotal: 206ms\tremaining: 172ms\n",
      "109:\tlearn: 0.1673505\ttotal: 208ms\tremaining: 170ms\n",
      "110:\tlearn: 0.1665435\ttotal: 210ms\tremaining: 168ms\n",
      "111:\tlearn: 0.1656632\ttotal: 212ms\tremaining: 166ms\n",
      "112:\tlearn: 0.1644188\ttotal: 214ms\tremaining: 164ms\n",
      "113:\tlearn: 0.1635183\ttotal: 215ms\tremaining: 163ms\n",
      "114:\tlearn: 0.1626400\ttotal: 217ms\tremaining: 161ms\n",
      "115:\tlearn: 0.1618520\ttotal: 219ms\tremaining: 159ms\n",
      "116:\tlearn: 0.1613238\ttotal: 225ms\tremaining: 160ms\n",
      "117:\tlearn: 0.1607620\ttotal: 227ms\tremaining: 158ms\n",
      "118:\tlearn: 0.1598704\ttotal: 229ms\tremaining: 156ms\n",
      "119:\tlearn: 0.1589869\ttotal: 231ms\tremaining: 154ms\n",
      "120:\tlearn: 0.1583323\ttotal: 232ms\tremaining: 152ms\n",
      "121:\tlearn: 0.1573376\ttotal: 234ms\tremaining: 150ms\n",
      "122:\tlearn: 0.1563958\ttotal: 236ms\tremaining: 148ms\n",
      "123:\tlearn: 0.1551785\ttotal: 238ms\tremaining: 146ms\n",
      "124:\tlearn: 0.1544433\ttotal: 240ms\tremaining: 144ms\n",
      "125:\tlearn: 0.1539105\ttotal: 242ms\tremaining: 142ms\n",
      "126:\tlearn: 0.1532851\ttotal: 244ms\tremaining: 140ms\n",
      "127:\tlearn: 0.1526574\ttotal: 246ms\tremaining: 138ms\n",
      "128:\tlearn: 0.1519025\ttotal: 247ms\tremaining: 136ms\n",
      "129:\tlearn: 0.1514203\ttotal: 249ms\tremaining: 134ms\n",
      "130:\tlearn: 0.1505976\ttotal: 251ms\tremaining: 132ms\n",
      "131:\tlearn: 0.1500596\ttotal: 253ms\tremaining: 130ms\n",
      "132:\tlearn: 0.1496020\ttotal: 255ms\tremaining: 128ms\n",
      "133:\tlearn: 0.1486967\ttotal: 257ms\tremaining: 126ms\n",
      "134:\tlearn: 0.1479580\ttotal: 259ms\tremaining: 124ms\n",
      "135:\tlearn: 0.1474756\ttotal: 260ms\tremaining: 123ms\n",
      "136:\tlearn: 0.1463973\ttotal: 262ms\tremaining: 121ms\n",
      "137:\tlearn: 0.1458300\ttotal: 264ms\tremaining: 119ms\n",
      "138:\tlearn: 0.1450884\ttotal: 266ms\tremaining: 117ms\n",
      "139:\tlearn: 0.1447985\ttotal: 268ms\tremaining: 115ms\n",
      "140:\tlearn: 0.1437559\ttotal: 270ms\tremaining: 113ms\n",
      "141:\tlearn: 0.1429064\ttotal: 272ms\tremaining: 111ms\n",
      "142:\tlearn: 0.1420335\ttotal: 273ms\tremaining: 109ms\n",
      "143:\tlearn: 0.1411250\ttotal: 275ms\tremaining: 107ms\n",
      "144:\tlearn: 0.1404792\ttotal: 277ms\tremaining: 105ms\n",
      "145:\tlearn: 0.1399019\ttotal: 279ms\tremaining: 103ms\n",
      "146:\tlearn: 0.1394261\ttotal: 281ms\tremaining: 101ms\n",
      "147:\tlearn: 0.1389608\ttotal: 283ms\tremaining: 99.3ms\n",
      "148:\tlearn: 0.1386698\ttotal: 284ms\tremaining: 97.3ms\n",
      "149:\tlearn: 0.1382117\ttotal: 286ms\tremaining: 95.4ms\n",
      "150:\tlearn: 0.1373097\ttotal: 288ms\tremaining: 93.5ms\n",
      "151:\tlearn: 0.1365554\ttotal: 290ms\tremaining: 91.6ms\n",
      "152:\tlearn: 0.1360942\ttotal: 292ms\tremaining: 89.6ms\n",
      "153:\tlearn: 0.1352470\ttotal: 294ms\tremaining: 87.7ms\n",
      "154:\tlearn: 0.1346227\ttotal: 295ms\tremaining: 85.8ms\n",
      "155:\tlearn: 0.1339692\ttotal: 297ms\tremaining: 83.8ms\n",
      "156:\tlearn: 0.1336628\ttotal: 299ms\tremaining: 81.9ms\n",
      "157:\tlearn: 0.1333764\ttotal: 301ms\tremaining: 80ms\n",
      "158:\tlearn: 0.1327560\ttotal: 303ms\tremaining: 78.1ms\n",
      "159:\tlearn: 0.1323818\ttotal: 305ms\tremaining: 76.2ms\n",
      "160:\tlearn: 0.1316620\ttotal: 307ms\tremaining: 74.2ms\n",
      "161:\tlearn: 0.1310309\ttotal: 308ms\tremaining: 72.3ms\n",
      "162:\tlearn: 0.1306002\ttotal: 310ms\tremaining: 70.4ms\n",
      "163:\tlearn: 0.1298026\ttotal: 312ms\tremaining: 68.5ms\n",
      "164:\tlearn: 0.1294117\ttotal: 314ms\tremaining: 66.6ms\n",
      "165:\tlearn: 0.1290796\ttotal: 316ms\tremaining: 64.7ms\n",
      "166:\tlearn: 0.1287746\ttotal: 318ms\tremaining: 62.8ms\n",
      "167:\tlearn: 0.1283117\ttotal: 319ms\tremaining: 60.8ms\n",
      "168:\tlearn: 0.1276385\ttotal: 321ms\tremaining: 58.9ms\n",
      "169:\tlearn: 0.1268291\ttotal: 323ms\tremaining: 57ms\n",
      "170:\tlearn: 0.1260107\ttotal: 325ms\tremaining: 55.1ms\n",
      "171:\tlearn: 0.1254141\ttotal: 327ms\tremaining: 53.2ms\n",
      "172:\tlearn: 0.1247612\ttotal: 329ms\tremaining: 51.3ms\n",
      "173:\tlearn: 0.1242611\ttotal: 331ms\tremaining: 49.4ms\n",
      "174:\tlearn: 0.1238661\ttotal: 332ms\tremaining: 47.5ms\n",
      "175:\tlearn: 0.1235137\ttotal: 334ms\tremaining: 45.6ms\n",
      "176:\tlearn: 0.1229559\ttotal: 336ms\tremaining: 43.7ms\n",
      "177:\tlearn: 0.1225268\ttotal: 338ms\tremaining: 41.8ms\n",
      "178:\tlearn: 0.1216914\ttotal: 340ms\tremaining: 39.9ms\n",
      "179:\tlearn: 0.1213143\ttotal: 342ms\tremaining: 38ms\n",
      "180:\tlearn: 0.1208718\ttotal: 344ms\tremaining: 36.1ms\n",
      "181:\tlearn: 0.1204779\ttotal: 346ms\tremaining: 34.2ms\n",
      "182:\tlearn: 0.1199724\ttotal: 347ms\tremaining: 32.3ms\n",
      "183:\tlearn: 0.1196450\ttotal: 349ms\tremaining: 30.4ms\n",
      "184:\tlearn: 0.1190720\ttotal: 351ms\tremaining: 28.5ms\n",
      "185:\tlearn: 0.1185029\ttotal: 354ms\tremaining: 26.6ms\n",
      "186:\tlearn: 0.1180956\ttotal: 356ms\tremaining: 24.7ms\n",
      "187:\tlearn: 0.1178485\ttotal: 358ms\tremaining: 22.8ms\n",
      "188:\tlearn: 0.1173642\ttotal: 359ms\tremaining: 20.9ms\n",
      "189:\tlearn: 0.1171329\ttotal: 361ms\tremaining: 19ms\n",
      "190:\tlearn: 0.1167825\ttotal: 363ms\tremaining: 17.1ms\n",
      "191:\tlearn: 0.1163393\ttotal: 365ms\tremaining: 15.2ms\n",
      "192:\tlearn: 0.1157307\ttotal: 367ms\tremaining: 13.3ms\n",
      "193:\tlearn: 0.1156001\ttotal: 369ms\tremaining: 11.4ms\n",
      "194:\tlearn: 0.1150547\ttotal: 371ms\tremaining: 9.5ms\n",
      "195:\tlearn: 0.1143299\ttotal: 373ms\tremaining: 7.6ms\n",
      "196:\tlearn: 0.1139936\ttotal: 374ms\tremaining: 5.7ms\n",
      "197:\tlearn: 0.1136949\ttotal: 376ms\tremaining: 3.8ms\n",
      "198:\tlearn: 0.1129135\ttotal: 378ms\tremaining: 1.9ms\n",
      "199:\tlearn: 0.1127255\ttotal: 380ms\tremaining: 0us\n"
     ]
    },
    {
     "name": "stdout",
     "output_type": "stream",
     "text": [
      "0:\tlearn: 0.4241457\ttotal: 2.46ms\tremaining: 490ms\n",
      "1:\tlearn: 0.3884498\ttotal: 4.4ms\tremaining: 436ms\n",
      "2:\tlearn: 0.3791694\ttotal: 6.71ms\tremaining: 441ms\n",
      "3:\tlearn: 0.3694226\ttotal: 8.96ms\tremaining: 439ms\n",
      "4:\tlearn: 0.3635037\ttotal: 11.3ms\tremaining: 441ms\n",
      "5:\tlearn: 0.3590392\ttotal: 13.5ms\tremaining: 438ms\n",
      "6:\tlearn: 0.3558296\ttotal: 15.9ms\tremaining: 438ms\n",
      "7:\tlearn: 0.3517967\ttotal: 18.2ms\tremaining: 437ms\n",
      "8:\tlearn: 0.3465204\ttotal: 20.5ms\tremaining: 435ms\n",
      "9:\tlearn: 0.3399574\ttotal: 22.8ms\tremaining: 433ms\n",
      "10:\tlearn: 0.3364561\ttotal: 25.1ms\tremaining: 431ms\n",
      "11:\tlearn: 0.3320553\ttotal: 27.4ms\tremaining: 429ms\n",
      "12:\tlearn: 0.3277631\ttotal: 29.7ms\tremaining: 427ms\n",
      "13:\tlearn: 0.3239655\ttotal: 32ms\tremaining: 425ms\n",
      "14:\tlearn: 0.3191805\ttotal: 34.3ms\tremaining: 423ms\n",
      "15:\tlearn: 0.3158035\ttotal: 36.6ms\tremaining: 421ms\n",
      "16:\tlearn: 0.3126378\ttotal: 38.9ms\tremaining: 419ms\n",
      "17:\tlearn: 0.3087347\ttotal: 41.6ms\tremaining: 420ms\n",
      "18:\tlearn: 0.3043509\ttotal: 43.8ms\tremaining: 418ms\n",
      "19:\tlearn: 0.3015482\ttotal: 46.3ms\tremaining: 417ms\n",
      "20:\tlearn: 0.2982138\ttotal: 48.7ms\tremaining: 415ms\n",
      "21:\tlearn: 0.2942795\ttotal: 51.3ms\tremaining: 415ms\n",
      "22:\tlearn: 0.2916665\ttotal: 53.8ms\tremaining: 414ms\n",
      "23:\tlearn: 0.2874773\ttotal: 56.1ms\tremaining: 411ms\n",
      "24:\tlearn: 0.2843706\ttotal: 58.4ms\tremaining: 409ms\n",
      "25:\tlearn: 0.2820679\ttotal: 60.7ms\tremaining: 406ms\n",
      "26:\tlearn: 0.2798926\ttotal: 63ms\tremaining: 404ms\n",
      "27:\tlearn: 0.2780480\ttotal: 65.3ms\tremaining: 401ms\n",
      "28:\tlearn: 0.2763677\ttotal: 67.6ms\tremaining: 399ms\n",
      "29:\tlearn: 0.2748974\ttotal: 70ms\tremaining: 397ms\n",
      "30:\tlearn: 0.2713712\ttotal: 72.3ms\tremaining: 394ms\n",
      "31:\tlearn: 0.2687754\ttotal: 74.6ms\tremaining: 392ms\n",
      "32:\tlearn: 0.2669153\ttotal: 76.9ms\tremaining: 389ms\n",
      "33:\tlearn: 0.2646454\ttotal: 79.1ms\tremaining: 386ms\n",
      "34:\tlearn: 0.2626407\ttotal: 81.4ms\tremaining: 384ms\n",
      "35:\tlearn: 0.2604945\ttotal: 83.7ms\tremaining: 381ms\n",
      "36:\tlearn: 0.2579372\ttotal: 86ms\tremaining: 379ms\n",
      "37:\tlearn: 0.2558805\ttotal: 88.2ms\tremaining: 376ms\n",
      "38:\tlearn: 0.2539521\ttotal: 90.5ms\tremaining: 374ms\n",
      "39:\tlearn: 0.2519767\ttotal: 92.8ms\tremaining: 371ms\n",
      "40:\tlearn: 0.2498015\ttotal: 95.1ms\tremaining: 369ms\n",
      "41:\tlearn: 0.2472599\ttotal: 97.4ms\tremaining: 366ms\n",
      "42:\tlearn: 0.2454430\ttotal: 99.7ms\tremaining: 364ms\n",
      "43:\tlearn: 0.2437800\ttotal: 102ms\tremaining: 362ms\n",
      "44:\tlearn: 0.2420557\ttotal: 104ms\tremaining: 359ms\n",
      "45:\tlearn: 0.2400176\ttotal: 107ms\tremaining: 357ms\n",
      "46:\tlearn: 0.2391225\ttotal: 109ms\tremaining: 355ms\n",
      "47:\tlearn: 0.2383451\ttotal: 111ms\tremaining: 352ms\n",
      "48:\tlearn: 0.2367972\ttotal: 114ms\tremaining: 350ms\n",
      "49:\tlearn: 0.2353786\ttotal: 116ms\tremaining: 347ms\n",
      "50:\tlearn: 0.2333946\ttotal: 118ms\tremaining: 345ms\n",
      "51:\tlearn: 0.2314407\ttotal: 120ms\tremaining: 343ms\n",
      "52:\tlearn: 0.2304627\ttotal: 123ms\tremaining: 341ms\n",
      "53:\tlearn: 0.2294749\ttotal: 125ms\tremaining: 338ms\n",
      "54:\tlearn: 0.2281217\ttotal: 128ms\tremaining: 336ms\n",
      "55:\tlearn: 0.2262960\ttotal: 130ms\tremaining: 334ms\n",
      "56:\tlearn: 0.2247390\ttotal: 132ms\tremaining: 331ms\n",
      "57:\tlearn: 0.2224621\ttotal: 134ms\tremaining: 329ms\n",
      "58:\tlearn: 0.2213285\ttotal: 137ms\tremaining: 327ms\n",
      "59:\tlearn: 0.2199833\ttotal: 139ms\tremaining: 324ms\n",
      "60:\tlearn: 0.2182836\ttotal: 141ms\tremaining: 322ms\n",
      "61:\tlearn: 0.2167686\ttotal: 144ms\tremaining: 320ms\n",
      "62:\tlearn: 0.2154084\ttotal: 146ms\tremaining: 318ms\n",
      "63:\tlearn: 0.2140323\ttotal: 148ms\tremaining: 315ms\n",
      "64:\tlearn: 0.2114675\ttotal: 151ms\tremaining: 313ms\n",
      "65:\tlearn: 0.2093604\ttotal: 153ms\tremaining: 311ms\n",
      "66:\tlearn: 0.2083501\ttotal: 155ms\tremaining: 309ms\n",
      "67:\tlearn: 0.2069735\ttotal: 158ms\tremaining: 306ms\n",
      "68:\tlearn: 0.2051097\ttotal: 160ms\tremaining: 304ms\n",
      "69:\tlearn: 0.2035304\ttotal: 162ms\tremaining: 302ms\n",
      "70:\tlearn: 0.2021163\ttotal: 165ms\tremaining: 299ms\n",
      "71:\tlearn: 0.2005878\ttotal: 167ms\tremaining: 297ms\n",
      "72:\tlearn: 0.1998181\ttotal: 169ms\tremaining: 294ms\n",
      "73:\tlearn: 0.1972745\ttotal: 172ms\tremaining: 292ms\n",
      "74:\tlearn: 0.1967513\ttotal: 174ms\tremaining: 290ms\n",
      "75:\tlearn: 0.1957790\ttotal: 176ms\tremaining: 287ms\n",
      "76:\tlearn: 0.1947356\ttotal: 178ms\tremaining: 285ms\n",
      "77:\tlearn: 0.1935623\ttotal: 181ms\tremaining: 282ms\n",
      "78:\tlearn: 0.1922210\ttotal: 183ms\tremaining: 280ms\n",
      "79:\tlearn: 0.1910487\ttotal: 185ms\tremaining: 278ms\n",
      "80:\tlearn: 0.1894049\ttotal: 187ms\tremaining: 275ms\n",
      "81:\tlearn: 0.1887437\ttotal: 190ms\tremaining: 273ms\n",
      "82:\tlearn: 0.1880560\ttotal: 192ms\tremaining: 271ms\n",
      "83:\tlearn: 0.1870654\ttotal: 194ms\tremaining: 268ms\n",
      "84:\tlearn: 0.1854757\ttotal: 197ms\tremaining: 266ms\n",
      "85:\tlearn: 0.1843977\ttotal: 199ms\tremaining: 264ms\n",
      "86:\tlearn: 0.1830597\ttotal: 202ms\tremaining: 263ms\n",
      "87:\tlearn: 0.1808567\ttotal: 204ms\tremaining: 260ms\n",
      "88:\tlearn: 0.1798893\ttotal: 207ms\tremaining: 258ms\n",
      "89:\tlearn: 0.1782882\ttotal: 209ms\tremaining: 255ms\n",
      "90:\tlearn: 0.1774353\ttotal: 211ms\tremaining: 253ms\n",
      "91:\tlearn: 0.1755204\ttotal: 214ms\tremaining: 251ms\n",
      "92:\tlearn: 0.1741379\ttotal: 216ms\tremaining: 249ms\n",
      "93:\tlearn: 0.1732657\ttotal: 218ms\tremaining: 246ms\n",
      "94:\tlearn: 0.1721389\ttotal: 221ms\tremaining: 244ms\n",
      "95:\tlearn: 0.1709424\ttotal: 223ms\tremaining: 242ms\n",
      "96:\tlearn: 0.1698908\ttotal: 226ms\tremaining: 239ms\n",
      "97:\tlearn: 0.1686543\ttotal: 228ms\tremaining: 237ms\n",
      "98:\tlearn: 0.1676986\ttotal: 230ms\tremaining: 235ms\n",
      "99:\tlearn: 0.1661082\ttotal: 233ms\tremaining: 233ms\n",
      "100:\tlearn: 0.1649110\ttotal: 235ms\tremaining: 230ms\n",
      "101:\tlearn: 0.1640463\ttotal: 237ms\tremaining: 228ms\n",
      "102:\tlearn: 0.1632698\ttotal: 239ms\tremaining: 226ms\n",
      "103:\tlearn: 0.1624213\ttotal: 242ms\tremaining: 223ms\n",
      "104:\tlearn: 0.1605854\ttotal: 244ms\tremaining: 221ms\n",
      "105:\tlearn: 0.1597519\ttotal: 247ms\tremaining: 219ms\n",
      "106:\tlearn: 0.1589235\ttotal: 249ms\tremaining: 216ms\n",
      "107:\tlearn: 0.1582263\ttotal: 251ms\tremaining: 214ms\n",
      "108:\tlearn: 0.1571362\ttotal: 254ms\tremaining: 212ms\n",
      "109:\tlearn: 0.1563844\ttotal: 256ms\tremaining: 210ms\n",
      "110:\tlearn: 0.1552914\ttotal: 258ms\tremaining: 207ms\n",
      "111:\tlearn: 0.1546165\ttotal: 261ms\tremaining: 205ms\n",
      "112:\tlearn: 0.1538437\ttotal: 263ms\tremaining: 202ms\n",
      "113:\tlearn: 0.1527426\ttotal: 265ms\tremaining: 200ms\n",
      "114:\tlearn: 0.1518850\ttotal: 268ms\tremaining: 198ms\n",
      "115:\tlearn: 0.1512894\ttotal: 270ms\tremaining: 195ms\n",
      "116:\tlearn: 0.1500526\ttotal: 272ms\tremaining: 193ms\n",
      "117:\tlearn: 0.1492405\ttotal: 274ms\tremaining: 191ms\n",
      "118:\tlearn: 0.1484046\ttotal: 277ms\tremaining: 188ms\n",
      "119:\tlearn: 0.1473698\ttotal: 279ms\tremaining: 186ms\n",
      "120:\tlearn: 0.1468281\ttotal: 281ms\tremaining: 184ms\n",
      "121:\tlearn: 0.1458760\ttotal: 283ms\tremaining: 181ms\n",
      "122:\tlearn: 0.1451933\ttotal: 286ms\tremaining: 179ms\n",
      "123:\tlearn: 0.1439848\ttotal: 288ms\tremaining: 177ms\n",
      "124:\tlearn: 0.1434720\ttotal: 290ms\tremaining: 174ms\n",
      "125:\tlearn: 0.1427552\ttotal: 293ms\tremaining: 172ms\n",
      "126:\tlearn: 0.1421949\ttotal: 295ms\tremaining: 169ms\n",
      "127:\tlearn: 0.1412655\ttotal: 297ms\tremaining: 167ms\n",
      "128:\tlearn: 0.1401219\ttotal: 299ms\tremaining: 165ms\n",
      "129:\tlearn: 0.1391539\ttotal: 302ms\tremaining: 162ms\n",
      "130:\tlearn: 0.1383497\ttotal: 304ms\tremaining: 160ms\n",
      "131:\tlearn: 0.1372168\ttotal: 306ms\tremaining: 158ms\n",
      "132:\tlearn: 0.1362588\ttotal: 308ms\tremaining: 155ms\n",
      "133:\tlearn: 0.1354726\ttotal: 311ms\tremaining: 153ms\n",
      "134:\tlearn: 0.1346640\ttotal: 313ms\tremaining: 151ms\n",
      "135:\tlearn: 0.1339044\ttotal: 315ms\tremaining: 148ms\n",
      "136:\tlearn: 0.1326235\ttotal: 318ms\tremaining: 146ms\n",
      "137:\tlearn: 0.1313389\ttotal: 320ms\tremaining: 144ms\n",
      "138:\tlearn: 0.1306282\ttotal: 322ms\tremaining: 141ms\n",
      "139:\tlearn: 0.1299658\ttotal: 324ms\tremaining: 139ms\n",
      "140:\tlearn: 0.1291613\ttotal: 327ms\tremaining: 137ms\n",
      "141:\tlearn: 0.1286304\ttotal: 329ms\tremaining: 134ms\n",
      "142:\tlearn: 0.1280224\ttotal: 331ms\tremaining: 132ms\n",
      "143:\tlearn: 0.1273935\ttotal: 334ms\tremaining: 130ms\n",
      "144:\tlearn: 0.1267130\ttotal: 336ms\tremaining: 127ms\n",
      "145:\tlearn: 0.1256175\ttotal: 338ms\tremaining: 125ms\n",
      "146:\tlearn: 0.1247968\ttotal: 340ms\tremaining: 123ms\n",
      "147:\tlearn: 0.1241313\ttotal: 343ms\tremaining: 120ms\n",
      "148:\tlearn: 0.1237902\ttotal: 345ms\tremaining: 118ms\n",
      "149:\tlearn: 0.1231028\ttotal: 347ms\tremaining: 116ms\n",
      "150:\tlearn: 0.1228905\ttotal: 350ms\tremaining: 114ms\n",
      "151:\tlearn: 0.1223768\ttotal: 352ms\tremaining: 111ms\n",
      "152:\tlearn: 0.1216676\ttotal: 354ms\tremaining: 109ms\n",
      "153:\tlearn: 0.1209114\ttotal: 357ms\tremaining: 107ms\n",
      "154:\tlearn: 0.1206271\ttotal: 359ms\tremaining: 104ms\n",
      "155:\tlearn: 0.1195816\ttotal: 361ms\tremaining: 102ms\n",
      "156:\tlearn: 0.1187636\ttotal: 364ms\tremaining: 99.6ms\n",
      "157:\tlearn: 0.1179385\ttotal: 366ms\tremaining: 97.3ms\n",
      "158:\tlearn: 0.1169216\ttotal: 368ms\tremaining: 94.9ms\n",
      "159:\tlearn: 0.1163666\ttotal: 370ms\tremaining: 92.6ms\n",
      "160:\tlearn: 0.1159202\ttotal: 373ms\tremaining: 90.3ms\n",
      "161:\tlearn: 0.1150853\ttotal: 375ms\tremaining: 87.9ms\n",
      "162:\tlearn: 0.1147404\ttotal: 377ms\tremaining: 85.6ms\n",
      "163:\tlearn: 0.1139250\ttotal: 380ms\tremaining: 83.3ms\n",
      "164:\tlearn: 0.1130916\ttotal: 382ms\tremaining: 81ms\n",
      "165:\tlearn: 0.1126768\ttotal: 384ms\tremaining: 78.7ms\n",
      "166:\tlearn: 0.1120117\ttotal: 386ms\tremaining: 76.3ms\n",
      "167:\tlearn: 0.1113423\ttotal: 389ms\tremaining: 74ms\n",
      "168:\tlearn: 0.1104635\ttotal: 391ms\tremaining: 71.7ms\n",
      "169:\tlearn: 0.1097703\ttotal: 393ms\tremaining: 69.4ms\n"
     ]
    },
    {
     "name": "stdout",
     "output_type": "stream",
     "text": [
      "170:\tlearn: 0.1088043\ttotal: 396ms\tremaining: 67.1ms\n",
      "171:\tlearn: 0.1082793\ttotal: 399ms\tremaining: 64.9ms\n",
      "172:\tlearn: 0.1074295\ttotal: 401ms\tremaining: 62.6ms\n",
      "173:\tlearn: 0.1068399\ttotal: 403ms\tremaining: 60.3ms\n",
      "174:\tlearn: 0.1059882\ttotal: 406ms\tremaining: 58ms\n",
      "175:\tlearn: 0.1050822\ttotal: 408ms\tremaining: 55.6ms\n",
      "176:\tlearn: 0.1044050\ttotal: 410ms\tremaining: 53.3ms\n",
      "177:\tlearn: 0.1037337\ttotal: 413ms\tremaining: 51ms\n",
      "178:\tlearn: 0.1028136\ttotal: 415ms\tremaining: 48.7ms\n",
      "179:\tlearn: 0.1021935\ttotal: 417ms\tremaining: 46.4ms\n",
      "180:\tlearn: 0.1016730\ttotal: 420ms\tremaining: 44.1ms\n",
      "181:\tlearn: 0.1010576\ttotal: 422ms\tremaining: 41.7ms\n",
      "182:\tlearn: 0.1004776\ttotal: 428ms\tremaining: 39.8ms\n",
      "183:\tlearn: 0.0997418\ttotal: 431ms\tremaining: 37.4ms\n",
      "184:\tlearn: 0.0991689\ttotal: 433ms\tremaining: 35.1ms\n",
      "185:\tlearn: 0.0984565\ttotal: 435ms\tremaining: 32.8ms\n",
      "186:\tlearn: 0.0981240\ttotal: 438ms\tremaining: 30.4ms\n",
      "187:\tlearn: 0.0978804\ttotal: 440ms\tremaining: 28.1ms\n",
      "188:\tlearn: 0.0975491\ttotal: 442ms\tremaining: 25.8ms\n",
      "189:\tlearn: 0.0967933\ttotal: 445ms\tremaining: 23.4ms\n",
      "190:\tlearn: 0.0964099\ttotal: 447ms\tremaining: 21.1ms\n",
      "191:\tlearn: 0.0957728\ttotal: 449ms\tremaining: 18.7ms\n",
      "192:\tlearn: 0.0952347\ttotal: 452ms\tremaining: 16.4ms\n",
      "193:\tlearn: 0.0945243\ttotal: 454ms\tremaining: 14ms\n",
      "194:\tlearn: 0.0938574\ttotal: 456ms\tremaining: 11.7ms\n",
      "195:\tlearn: 0.0929007\ttotal: 458ms\tremaining: 9.36ms\n",
      "196:\tlearn: 0.0927971\ttotal: 461ms\tremaining: 7.02ms\n",
      "197:\tlearn: 0.0922563\ttotal: 463ms\tremaining: 4.68ms\n",
      "198:\tlearn: 0.0921357\ttotal: 466ms\tremaining: 2.34ms\n",
      "199:\tlearn: 0.0919363\ttotal: 468ms\tremaining: 0us\n"
     ]
    }
   ],
   "source": [
    "%time\n",
    "# Modelo CatBoostClassifier con RandomSearch\n",
    "cb_clf = CatBoostClassifier(class_weights=[1, 10])\n",
    "param_grid_cb = {\n",
    "    'iterations': [50, 100, 200],\n",
    "    'learning_rate': [0.1, 0.5, 1],\n",
    "    'depth': [3, 5, 7],\n",
    "    'l2_leaf_reg': [0, 0.1, 0.5],\n",
    "    'border_count': [32, 64, 128]\n",
    "}\n",
    "random_search_cb = RandomizedSearchCV(cb_clf, param_grid_cb, cv=5, n_iter=10)\n",
    "random_search_cb.fit(X_train_transformed, y_train)\n",
    "cb_best = random_search_cb.best_estimator_"
   ]
  },
  {
   "cell_type": "code",
   "execution_count": null,
   "metadata": {},
   "outputs": [],
   "source": []
  },
  {
   "cell_type": "code",
   "execution_count": 41,
   "metadata": {},
   "outputs": [
    {
     "name": "stdout",
     "output_type": "stream",
     "text": [
      "CPU times: user 3 µs, sys: 0 ns, total: 3 µs\n",
      "Wall time: 6.2 µs\n",
      "0:\tlearn: 0.4241457\ttotal: 2.41ms\tremaining: 480ms\n",
      "1:\tlearn: 0.3884498\ttotal: 4.13ms\tremaining: 409ms\n",
      "2:\tlearn: 0.3791694\ttotal: 6.45ms\tremaining: 424ms\n",
      "3:\tlearn: 0.3694226\ttotal: 8.74ms\tremaining: 428ms\n",
      "4:\tlearn: 0.3635037\ttotal: 11.1ms\tremaining: 435ms\n",
      "5:\tlearn: 0.3590392\ttotal: 13.4ms\tremaining: 432ms\n",
      "6:\tlearn: 0.3558296\ttotal: 15.7ms\tremaining: 432ms\n",
      "7:\tlearn: 0.3517967\ttotal: 18.1ms\tremaining: 435ms\n",
      "8:\tlearn: 0.3465204\ttotal: 20.6ms\tremaining: 437ms\n",
      "9:\tlearn: 0.3399574\ttotal: 22.9ms\tremaining: 434ms\n",
      "10:\tlearn: 0.3364561\ttotal: 25.2ms\tremaining: 433ms\n",
      "11:\tlearn: 0.3320553\ttotal: 27.5ms\tremaining: 431ms\n",
      "12:\tlearn: 0.3277631\ttotal: 29.8ms\tremaining: 428ms\n",
      "13:\tlearn: 0.3239655\ttotal: 32.3ms\tremaining: 429ms\n",
      "14:\tlearn: 0.3191805\ttotal: 34.6ms\tremaining: 426ms\n",
      "15:\tlearn: 0.3158035\ttotal: 36.8ms\tremaining: 423ms\n",
      "16:\tlearn: 0.3126378\ttotal: 39.1ms\tremaining: 421ms\n",
      "17:\tlearn: 0.3087347\ttotal: 41.4ms\tremaining: 419ms\n",
      "18:\tlearn: 0.3043509\ttotal: 43.7ms\tremaining: 416ms\n",
      "19:\tlearn: 0.3015482\ttotal: 46ms\tremaining: 414ms\n",
      "20:\tlearn: 0.2982138\ttotal: 48.4ms\tremaining: 413ms\n",
      "21:\tlearn: 0.2942795\ttotal: 50.7ms\tremaining: 410ms\n",
      "22:\tlearn: 0.2916665\ttotal: 53ms\tremaining: 408ms\n",
      "23:\tlearn: 0.2874773\ttotal: 55.2ms\tremaining: 405ms\n",
      "24:\tlearn: 0.2843706\ttotal: 57.5ms\tremaining: 403ms\n",
      "25:\tlearn: 0.2820679\ttotal: 59.8ms\tremaining: 400ms\n",
      "26:\tlearn: 0.2798926\ttotal: 62.1ms\tremaining: 398ms\n",
      "27:\tlearn: 0.2780480\ttotal: 64.4ms\tremaining: 396ms\n",
      "28:\tlearn: 0.2763677\ttotal: 66.7ms\tremaining: 393ms\n",
      "29:\tlearn: 0.2748974\ttotal: 69.1ms\tremaining: 391ms\n",
      "30:\tlearn: 0.2713712\ttotal: 71.4ms\tremaining: 389ms\n",
      "31:\tlearn: 0.2687754\ttotal: 73.7ms\tremaining: 387ms\n",
      "32:\tlearn: 0.2669153\ttotal: 76ms\tremaining: 384ms\n",
      "33:\tlearn: 0.2646454\ttotal: 78.2ms\tremaining: 382ms\n",
      "34:\tlearn: 0.2626407\ttotal: 80.5ms\tremaining: 379ms\n",
      "35:\tlearn: 0.2604945\ttotal: 82.7ms\tremaining: 377ms\n",
      "36:\tlearn: 0.2579372\ttotal: 85ms\tremaining: 375ms\n",
      "37:\tlearn: 0.2558805\ttotal: 87.3ms\tremaining: 372ms\n",
      "38:\tlearn: 0.2539521\ttotal: 89.5ms\tremaining: 370ms\n",
      "39:\tlearn: 0.2519767\ttotal: 91.8ms\tremaining: 367ms\n",
      "40:\tlearn: 0.2498015\ttotal: 94.1ms\tremaining: 365ms\n",
      "41:\tlearn: 0.2472599\ttotal: 96.4ms\tremaining: 363ms\n",
      "42:\tlearn: 0.2454430\ttotal: 98.8ms\tremaining: 361ms\n",
      "43:\tlearn: 0.2437800\ttotal: 101ms\tremaining: 358ms\n",
      "44:\tlearn: 0.2420557\ttotal: 103ms\tremaining: 356ms\n",
      "45:\tlearn: 0.2400176\ttotal: 106ms\tremaining: 353ms\n",
      "46:\tlearn: 0.2391225\ttotal: 108ms\tremaining: 351ms\n",
      "47:\tlearn: 0.2383451\ttotal: 110ms\tremaining: 349ms\n",
      "48:\tlearn: 0.2367972\ttotal: 112ms\tremaining: 346ms\n",
      "49:\tlearn: 0.2353786\ttotal: 115ms\tremaining: 344ms\n",
      "50:\tlearn: 0.2333946\ttotal: 117ms\tremaining: 342ms\n",
      "51:\tlearn: 0.2314407\ttotal: 119ms\tremaining: 339ms\n",
      "52:\tlearn: 0.2304627\ttotal: 122ms\tremaining: 337ms\n",
      "53:\tlearn: 0.2294749\ttotal: 124ms\tremaining: 335ms\n",
      "54:\tlearn: 0.2281217\ttotal: 126ms\tremaining: 333ms\n",
      "55:\tlearn: 0.2262960\ttotal: 128ms\tremaining: 330ms\n",
      "56:\tlearn: 0.2247390\ttotal: 131ms\tremaining: 328ms\n",
      "57:\tlearn: 0.2224621\ttotal: 133ms\tremaining: 326ms\n",
      "58:\tlearn: 0.2213285\ttotal: 135ms\tremaining: 323ms\n",
      "59:\tlearn: 0.2199833\ttotal: 138ms\tremaining: 321ms\n",
      "60:\tlearn: 0.2182836\ttotal: 140ms\tremaining: 319ms\n",
      "61:\tlearn: 0.2167686\ttotal: 142ms\tremaining: 316ms\n",
      "62:\tlearn: 0.2154084\ttotal: 144ms\tremaining: 314ms\n",
      "63:\tlearn: 0.2140323\ttotal: 147ms\tremaining: 312ms\n",
      "64:\tlearn: 0.2114675\ttotal: 149ms\tremaining: 309ms\n",
      "65:\tlearn: 0.2093604\ttotal: 151ms\tremaining: 307ms\n",
      "66:\tlearn: 0.2083501\ttotal: 154ms\tremaining: 305ms\n",
      "67:\tlearn: 0.2069735\ttotal: 156ms\tremaining: 303ms\n",
      "68:\tlearn: 0.2051097\ttotal: 158ms\tremaining: 301ms\n",
      "69:\tlearn: 0.2035304\ttotal: 161ms\tremaining: 298ms\n",
      "70:\tlearn: 0.2021163\ttotal: 163ms\tremaining: 296ms\n",
      "71:\tlearn: 0.2005878\ttotal: 165ms\tremaining: 294ms\n",
      "72:\tlearn: 0.1998181\ttotal: 168ms\tremaining: 292ms\n",
      "73:\tlearn: 0.1972745\ttotal: 170ms\tremaining: 289ms\n",
      "74:\tlearn: 0.1967513\ttotal: 172ms\tremaining: 287ms\n",
      "75:\tlearn: 0.1957790\ttotal: 175ms\tremaining: 285ms\n",
      "76:\tlearn: 0.1947356\ttotal: 177ms\tremaining: 283ms\n",
      "77:\tlearn: 0.1935623\ttotal: 179ms\tremaining: 281ms\n",
      "78:\tlearn: 0.1922210\ttotal: 182ms\tremaining: 278ms\n",
      "79:\tlearn: 0.1910487\ttotal: 184ms\tremaining: 276ms\n",
      "80:\tlearn: 0.1894049\ttotal: 186ms\tremaining: 273ms\n",
      "81:\tlearn: 0.1887437\ttotal: 189ms\tremaining: 271ms\n",
      "82:\tlearn: 0.1880560\ttotal: 191ms\tremaining: 269ms\n",
      "83:\tlearn: 0.1870654\ttotal: 193ms\tremaining: 267ms\n",
      "84:\tlearn: 0.1854757\ttotal: 196ms\tremaining: 265ms\n",
      "85:\tlearn: 0.1843977\ttotal: 198ms\tremaining: 262ms\n",
      "86:\tlearn: 0.1830597\ttotal: 202ms\tremaining: 263ms\n",
      "87:\tlearn: 0.1808567\ttotal: 205ms\tremaining: 261ms\n",
      "88:\tlearn: 0.1798893\ttotal: 207ms\tremaining: 258ms\n",
      "89:\tlearn: 0.1782882\ttotal: 209ms\tremaining: 256ms\n",
      "90:\tlearn: 0.1774353\ttotal: 212ms\tremaining: 254ms\n",
      "91:\tlearn: 0.1755204\ttotal: 214ms\tremaining: 252ms\n",
      "92:\tlearn: 0.1741379\ttotal: 217ms\tremaining: 249ms\n",
      "93:\tlearn: 0.1732657\ttotal: 219ms\tremaining: 247ms\n",
      "94:\tlearn: 0.1721389\ttotal: 221ms\tremaining: 245ms\n",
      "95:\tlearn: 0.1709424\ttotal: 224ms\tremaining: 242ms\n",
      "96:\tlearn: 0.1698908\ttotal: 226ms\tremaining: 240ms\n",
      "97:\tlearn: 0.1686543\ttotal: 228ms\tremaining: 238ms\n",
      "98:\tlearn: 0.1676986\ttotal: 231ms\tremaining: 235ms\n",
      "99:\tlearn: 0.1661082\ttotal: 233ms\tremaining: 233ms\n",
      "100:\tlearn: 0.1649110\ttotal: 235ms\tremaining: 231ms\n",
      "101:\tlearn: 0.1640463\ttotal: 238ms\tremaining: 228ms\n",
      "102:\tlearn: 0.1632698\ttotal: 240ms\tremaining: 226ms\n",
      "103:\tlearn: 0.1624213\ttotal: 242ms\tremaining: 224ms\n",
      "104:\tlearn: 0.1605854\ttotal: 245ms\tremaining: 221ms\n",
      "105:\tlearn: 0.1597519\ttotal: 247ms\tremaining: 219ms\n",
      "106:\tlearn: 0.1589235\ttotal: 249ms\tremaining: 217ms\n",
      "107:\tlearn: 0.1582263\ttotal: 251ms\tremaining: 214ms\n",
      "108:\tlearn: 0.1571362\ttotal: 254ms\tremaining: 212ms\n",
      "109:\tlearn: 0.1563844\ttotal: 256ms\tremaining: 210ms\n",
      "110:\tlearn: 0.1552914\ttotal: 258ms\tremaining: 207ms\n",
      "111:\tlearn: 0.1546165\ttotal: 261ms\tremaining: 205ms\n",
      "112:\tlearn: 0.1538437\ttotal: 263ms\tremaining: 202ms\n",
      "113:\tlearn: 0.1527426\ttotal: 265ms\tremaining: 200ms\n",
      "114:\tlearn: 0.1518850\ttotal: 267ms\tremaining: 198ms\n",
      "115:\tlearn: 0.1512894\ttotal: 270ms\tremaining: 195ms\n",
      "116:\tlearn: 0.1500526\ttotal: 272ms\tremaining: 193ms\n",
      "117:\tlearn: 0.1492405\ttotal: 274ms\tremaining: 191ms\n",
      "118:\tlearn: 0.1484046\ttotal: 277ms\tremaining: 188ms\n",
      "119:\tlearn: 0.1473698\ttotal: 279ms\tremaining: 186ms\n",
      "120:\tlearn: 0.1468281\ttotal: 281ms\tremaining: 184ms\n",
      "121:\tlearn: 0.1458760\ttotal: 284ms\tremaining: 181ms\n",
      "122:\tlearn: 0.1451933\ttotal: 286ms\tremaining: 179ms\n",
      "123:\tlearn: 0.1439848\ttotal: 288ms\tremaining: 177ms\n",
      "124:\tlearn: 0.1434720\ttotal: 290ms\tremaining: 174ms\n",
      "125:\tlearn: 0.1427552\ttotal: 293ms\tremaining: 172ms\n",
      "126:\tlearn: 0.1421949\ttotal: 299ms\tremaining: 172ms\n",
      "127:\tlearn: 0.1412655\ttotal: 301ms\tremaining: 169ms\n",
      "128:\tlearn: 0.1401219\ttotal: 304ms\tremaining: 167ms\n",
      "129:\tlearn: 0.1391539\ttotal: 306ms\tremaining: 165ms\n",
      "130:\tlearn: 0.1383497\ttotal: 308ms\tremaining: 162ms\n",
      "131:\tlearn: 0.1372168\ttotal: 311ms\tremaining: 160ms\n",
      "132:\tlearn: 0.1362588\ttotal: 313ms\tremaining: 158ms\n",
      "133:\tlearn: 0.1354726\ttotal: 315ms\tremaining: 155ms\n",
      "134:\tlearn: 0.1346640\ttotal: 317ms\tremaining: 153ms\n",
      "135:\tlearn: 0.1339044\ttotal: 320ms\tremaining: 151ms\n",
      "136:\tlearn: 0.1326235\ttotal: 322ms\tremaining: 148ms\n",
      "137:\tlearn: 0.1313389\ttotal: 324ms\tremaining: 146ms\n",
      "138:\tlearn: 0.1306282\ttotal: 327ms\tremaining: 143ms\n",
      "139:\tlearn: 0.1299658\ttotal: 329ms\tremaining: 141ms\n",
      "140:\tlearn: 0.1291613\ttotal: 331ms\tremaining: 139ms\n",
      "141:\tlearn: 0.1286304\ttotal: 334ms\tremaining: 136ms\n",
      "142:\tlearn: 0.1280224\ttotal: 336ms\tremaining: 134ms\n",
      "143:\tlearn: 0.1273935\ttotal: 338ms\tremaining: 132ms\n",
      "144:\tlearn: 0.1267130\ttotal: 341ms\tremaining: 129ms\n",
      "145:\tlearn: 0.1256175\ttotal: 343ms\tremaining: 127ms\n",
      "146:\tlearn: 0.1247968\ttotal: 345ms\tremaining: 124ms\n",
      "147:\tlearn: 0.1241313\ttotal: 348ms\tremaining: 122ms\n",
      "148:\tlearn: 0.1237902\ttotal: 350ms\tremaining: 120ms\n",
      "149:\tlearn: 0.1231028\ttotal: 352ms\tremaining: 117ms\n",
      "150:\tlearn: 0.1228905\ttotal: 355ms\tremaining: 115ms\n",
      "151:\tlearn: 0.1223768\ttotal: 357ms\tremaining: 113ms\n",
      "152:\tlearn: 0.1216676\ttotal: 359ms\tremaining: 110ms\n",
      "153:\tlearn: 0.1209114\ttotal: 361ms\tremaining: 108ms\n",
      "154:\tlearn: 0.1206271\ttotal: 364ms\tremaining: 106ms\n",
      "155:\tlearn: 0.1195816\ttotal: 366ms\tremaining: 103ms\n",
      "156:\tlearn: 0.1187636\ttotal: 368ms\tremaining: 101ms\n",
      "157:\tlearn: 0.1179385\ttotal: 371ms\tremaining: 98.5ms\n",
      "158:\tlearn: 0.1169216\ttotal: 373ms\tremaining: 96.2ms\n",
      "159:\tlearn: 0.1163666\ttotal: 375ms\tremaining: 93.8ms\n",
      "160:\tlearn: 0.1159202\ttotal: 377ms\tremaining: 91.4ms\n",
      "161:\tlearn: 0.1150853\ttotal: 380ms\tremaining: 89.1ms\n",
      "162:\tlearn: 0.1147404\ttotal: 382ms\tremaining: 86.7ms\n",
      "163:\tlearn: 0.1139250\ttotal: 384ms\tremaining: 84.4ms\n",
      "164:\tlearn: 0.1130916\ttotal: 387ms\tremaining: 82ms\n",
      "165:\tlearn: 0.1126768\ttotal: 389ms\tremaining: 79.7ms\n",
      "166:\tlearn: 0.1120117\ttotal: 391ms\tremaining: 77.3ms\n",
      "167:\tlearn: 0.1113423\ttotal: 393ms\tremaining: 74.9ms\n",
      "168:\tlearn: 0.1104635\ttotal: 396ms\tremaining: 72.6ms\n",
      "169:\tlearn: 0.1097703\ttotal: 398ms\tremaining: 70.2ms\n"
     ]
    },
    {
     "name": "stdout",
     "output_type": "stream",
     "text": [
      "170:\tlearn: 0.1088043\ttotal: 401ms\tremaining: 68ms\n",
      "171:\tlearn: 0.1082793\ttotal: 404ms\tremaining: 65.7ms\n",
      "172:\tlearn: 0.1074295\ttotal: 406ms\tremaining: 63.4ms\n",
      "173:\tlearn: 0.1068399\ttotal: 408ms\tremaining: 61ms\n",
      "174:\tlearn: 0.1059882\ttotal: 411ms\tremaining: 58.7ms\n",
      "175:\tlearn: 0.1050822\ttotal: 413ms\tremaining: 56.4ms\n",
      "176:\tlearn: 0.1044050\ttotal: 416ms\tremaining: 54ms\n",
      "177:\tlearn: 0.1037337\ttotal: 418ms\tremaining: 51.7ms\n",
      "178:\tlearn: 0.1028136\ttotal: 420ms\tremaining: 49.3ms\n",
      "179:\tlearn: 0.1021935\ttotal: 423ms\tremaining: 47ms\n",
      "180:\tlearn: 0.1016730\ttotal: 425ms\tremaining: 44.6ms\n",
      "181:\tlearn: 0.1010576\ttotal: 427ms\tremaining: 42.3ms\n",
      "182:\tlearn: 0.1004776\ttotal: 429ms\tremaining: 39.9ms\n",
      "183:\tlearn: 0.0997418\ttotal: 432ms\tremaining: 37.5ms\n",
      "184:\tlearn: 0.0991689\ttotal: 434ms\tremaining: 35.2ms\n",
      "185:\tlearn: 0.0984565\ttotal: 436ms\tremaining: 32.8ms\n",
      "186:\tlearn: 0.0981240\ttotal: 439ms\tremaining: 30.5ms\n",
      "187:\tlearn: 0.0978804\ttotal: 441ms\tremaining: 28.1ms\n",
      "188:\tlearn: 0.0975491\ttotal: 443ms\tremaining: 25.8ms\n",
      "189:\tlearn: 0.0967933\ttotal: 445ms\tremaining: 23.4ms\n",
      "190:\tlearn: 0.0964099\ttotal: 448ms\tremaining: 21.1ms\n",
      "191:\tlearn: 0.0957728\ttotal: 450ms\tremaining: 18.7ms\n",
      "192:\tlearn: 0.0952347\ttotal: 452ms\tremaining: 16.4ms\n",
      "193:\tlearn: 0.0945243\ttotal: 455ms\tremaining: 14.1ms\n",
      "194:\tlearn: 0.0938574\ttotal: 457ms\tremaining: 11.7ms\n",
      "195:\tlearn: 0.0929007\ttotal: 459ms\tremaining: 9.37ms\n",
      "196:\tlearn: 0.0927971\ttotal: 461ms\tremaining: 7.03ms\n",
      "197:\tlearn: 0.0922563\ttotal: 464ms\tremaining: 4.68ms\n",
      "198:\tlearn: 0.0921357\ttotal: 466ms\tremaining: 2.34ms\n",
      "199:\tlearn: 0.0919363\ttotal: 468ms\tremaining: 0us\n"
     ]
    },
    {
     "data": {
      "text/plain": [
       "<catboost.core.CatBoostClassifier at 0x7f3f2f3c3ca0>"
      ]
     },
     "execution_count": 41,
     "metadata": {},
     "output_type": "execute_result"
    }
   ],
   "source": [
    "%time\n",
    "# Entrenar modelos con mejores hiperparámetros\n",
    "rf_best.fit(X_train_transformed, y_train)\n",
    "xgb_best.fit(X_train_transformed, y_train)\n",
    "cb_best.fit(X_train_transformed, y_train)"
   ]
  },
  {
   "cell_type": "code",
   "execution_count": null,
   "metadata": {},
   "outputs": [],
   "source": []
  },
  {
   "cell_type": "code",
   "execution_count": 43,
   "metadata": {},
   "outputs": [
    {
     "name": "stdout",
     "output_type": "stream",
     "text": [
      "Random Forest: 0.7882018479033405\n",
      "XGBClassifier: 0.7604832977967306\n",
      "CatBoostClassifier: 0.7242359630419332\n"
     ]
    }
   ],
   "source": [
    "# Evaluar modelos\n",
    "print(\"Random Forest:\", rf_best.score(X_test_transformed, y_test))\n",
    "print(\"XGBClassifier:\", xgb_best.score(X_test_transformed, y_test))\n",
    "print(\"CatBoostClassifier:\", cb_best.score(X_test_transformed, y_test))"
   ]
  },
  {
   "cell_type": "code",
   "execution_count": 44,
   "metadata": {},
   "outputs": [],
   "source": [
    "# Obtener predicciones\n",
    "\n",
    "y_pred_rf = rf_best.predict(X_test_transformed)\n",
    "y_pred_xgb = xgb_best.predict(X_test_transformed)\n",
    "y_pred_cb = cb_best.predict(X_test_transformed)"
   ]
  },
  {
   "cell_type": "code",
   "execution_count": 45,
   "metadata": {},
   "outputs": [
    {
     "name": "stdout",
     "output_type": "stream",
     "text": [
      "Random Forest:\n",
      "Accuracy: 0.7882018479033405\n",
      "Classification Report:\n",
      "               precision    recall  f1-score   support\n",
      "\n",
      "           0       0.85      0.87      0.86      1033\n",
      "           1       0.61      0.56      0.59       374\n",
      "\n",
      "    accuracy                           0.79      1407\n",
      "   macro avg       0.73      0.72      0.72      1407\n",
      "weighted avg       0.78      0.79      0.79      1407\n",
      "\n",
      "Confusion Matrix:\n",
      " [[898 135]\n",
      " [163 211]]\n",
      "AUC-ROC: 0.7167419022524086\n"
     ]
    }
   ],
   "source": [
    "# Obtener métricas\n",
    "print(\"Random Forest:\")\n",
    "print(\"Accuracy:\", accuracy_score(y_test, y_pred_rf))\n",
    "print(\"Classification Report:\\n\", classification_report(y_test, y_pred_rf))\n",
    "print(\"Confusion Matrix:\\n\", confusion_matrix(y_test, y_pred_rf))\n",
    "print(\"AUC-ROC:\", roc_auc_score(y_test, y_pred_rf))\n"
   ]
  },
  {
   "cell_type": "code",
   "execution_count": 46,
   "metadata": {},
   "outputs": [
    {
     "name": "stdout",
     "output_type": "stream",
     "text": [
      "\n",
      "XGBoost:\n",
      "Accuracy: 0.7604832977967306\n",
      "Classification Report:\n",
      "               precision    recall  f1-score   support\n",
      "\n",
      "           0       0.86      0.81      0.83      1033\n",
      "           1       0.54      0.63      0.58       374\n",
      "\n",
      "    accuracy                           0.76      1407\n",
      "   macro avg       0.70      0.72      0.71      1407\n",
      "weighted avg       0.77      0.76      0.77      1407\n",
      "\n",
      "Confusion Matrix:\n",
      " [[835 198]\n",
      " [139 235]]\n",
      "AUC-ROC: 0.7183337561021065\n"
     ]
    }
   ],
   "source": [
    "# Obtener métricas\n",
    "print(\"\\nXGBoost:\")\n",
    "print(\"Accuracy:\", accuracy_score(y_test, y_pred_xgb))\n",
    "print(\"Classification Report:\\n\", classification_report(y_test, y_pred_xgb))\n",
    "print(\"Confusion Matrix:\\n\", confusion_matrix(y_test, y_pred_xgb))\n",
    "print(\"AUC-ROC:\", roc_auc_score(y_test, y_pred_xgb))"
   ]
  },
  {
   "cell_type": "code",
   "execution_count": 47,
   "metadata": {},
   "outputs": [
    {
     "name": "stdout",
     "output_type": "stream",
     "text": [
      "\n",
      "CatBoost:\n",
      "Accuracy: 0.7242359630419332\n",
      "Classification Report:\n",
      "               precision    recall  f1-score   support\n",
      "\n",
      "           0       0.85      0.75      0.80      1033\n",
      "           1       0.49      0.65      0.56       374\n",
      "\n",
      "    accuracy                           0.72      1407\n",
      "   macro avg       0.67      0.70      0.68      1407\n",
      "weighted avg       0.76      0.72      0.74      1407\n",
      "\n",
      "Confusion Matrix:\n",
      " [[777 256]\n",
      " [132 242]]\n",
      "AUC-ROC: 0.6996184727521212\n"
     ]
    }
   ],
   "source": [
    "# Obtener métricas\n",
    "print(\"\\nCatBoost:\")\n",
    "print(\"Accuracy:\", accuracy_score(y_test, y_pred_cb))\n",
    "print(\"Classification Report:\\n\", classification_report(y_test, y_pred_cb))\n",
    "print(\"Confusion Matrix:\\n\", confusion_matrix(y_test, y_pred_cb))\n",
    "print(\"AUC-ROC:\", roc_auc_score(y_test, y_pred_cb))"
   ]
  },
  {
   "cell_type": "markdown",
   "metadata": {},
   "source": [
    "# Gradient Bossting"
   ]
  },
  {
   "cell_type": "code",
   "execution_count": 48,
   "metadata": {},
   "outputs": [],
   "source": [
    "from sklearn.ensemble import GradientBoostingClassifier\n",
    "from sklearn.metrics import roc_auc_score"
   ]
  },
  {
   "cell_type": "code",
   "execution_count": 49,
   "metadata": {},
   "outputs": [
    {
     "name": "stdout",
     "output_type": "stream",
     "text": [
      "AUC-ROC: 0.8443283412106373\n"
     ]
    }
   ],
   "source": [
    "# Crear el modelo de Gradient Boosting\n",
    "gb = GradientBoostingClassifier(n_estimators=100, learning_rate=0.1, max_depth=5)\n",
    "\n",
    "# Entrenar el modelo\n",
    "gb.fit(X_train_transformed, y_train)\n",
    "\n",
    "# Predecir las probabilidades para el conjunto de prueba\n",
    "y_pred = gb.predict_proba(X_test_transformed)[:, 1]\n",
    "\n",
    "# Calcular el AUC-ROC\n",
    "auc = roc_auc_score(y_test, y_pred)\n",
    "\n",
    "print(\"AUC-ROC:\", auc)"
   ]
  },
  {
   "cell_type": "code",
   "execution_count": 51,
   "metadata": {},
   "outputs": [
    {
     "name": "stdout",
     "output_type": "stream",
     "text": [
      "Accuracy: 0.8002842928216063\n",
      "Classification Report:\n",
      "               precision    recall  f1-score   support\n",
      "\n",
      "           0       0.84      0.90      0.87      1033\n",
      "           1       0.65      0.53      0.58       374\n",
      "\n",
      "    accuracy                           0.80      1407\n",
      "   macro avg       0.75      0.71      0.73      1407\n",
      "weighted avg       0.79      0.80      0.79      1407\n",
      "\n",
      "Confusion Matrix:\n",
      " [[928 105]\n",
      " [176 198]]\n"
     ]
    }
   ],
   "source": [
    "# Predecir las etiquetas para el conjunto de prueba\n",
    "y_pred = gb.predict(X_test)\n",
    "\n",
    "# Calcular el accuracy\n",
    "accuracy = accuracy_score(y_test, y_pred)\n",
    "print(\"Accuracy:\", accuracy)\n",
    "\n",
    "# Calcular el classification report\n",
    "report = classification_report(y_test, y_pred)\n",
    "print(\"Classification Report:\\n\", report)\n",
    "\n",
    "# Calcular la confusion matrix\n",
    "matrix = confusion_matrix(y_test, y_pred)\n",
    "print(\"Confusion Matrix:\\n\", matrix)"
   ]
  },
  {
   "cell_type": "markdown",
   "metadata": {},
   "source": [
    "# Informe"
   ]
  },
  {
   "cell_type": "markdown",
   "metadata": {},
   "source": [
    "- **Accuracy:** El modelo tiene una precisión del 80.03%, lo que significa que clasifica correctamente el 80.03% de los ejemplos del conjunto de prueba.\n",
    "\n",
    "\n",
    "- **Classification Report:**\n",
    "La precisión para la clase 0 es del 84%, lo que significa que cuando el modelo predice la clase 0, tiene un 84% de probabilidades de estar en lo correcto.\n",
    "La precisión para la clase 1 es del 65%, lo que significa que cuando el modelo predice la clase 1, tiene un 65% de probabilidades de estar en lo correcto.\n",
    "El recall para la clase 0 es del 90%, lo que significa que el modelo detecta el 90% de los ejemplos de la clase 0.\n",
    "El recall para la clase 1 es del 53%, lo que significa que el modelo detecta el 53% de los ejemplos de la clase 1.\n",
    "\n",
    "\n",
    "- **Confusion Matrix:**\n",
    "La matriz de confusión muestra que el modelo clasifica correctamente 928 ejemplos de la clase 0 y 198 ejemplos de la clase 1.\n",
    "El modelo se equivoca en 105 ejemplos de la clase 0 (los clasifica como clase 1) y en 176 ejemplos de la clase 1 (los clasifica como clase 0).\n",
    "\n",
    "\n",
    "- **AUC-ROC:**\n",
    "El modelo tiene un AUC-ROC del 0.8443, lo que indica que el modelo es capaz de distinguir entre las clases con un buen nivel de precisión.\n",
    "\n"
   ]
  },
  {
   "cell_type": "markdown",
   "metadata": {},
   "source": [
    "Podemos ver que nuestro mejor modelo fue el gradient boosting obteniendo la métrica principal pedida un **AUC-ROC: de 0.84** y la métrica adicional **Accuracy:de 0.80!!**"
   ]
  },
  {
   "cell_type": "markdown",
   "metadata": {},
   "source": [
    "# plan aproximado para resolver la tarea"
   ]
  },
  {
   "cell_type": "markdown",
   "metadata": {},
   "source": [
    "-  Realizar un analisis exploratorio de datos y realizar una limpieza de los mismos (EDA)\n",
    "-  De acuerdo a lo que el cliente nos pide ver la columna objetivo para la prediccion del modelo asi como las caracteristicas y separar el conjunto de datos en entrenamiento y prueba.\n",
    "-  Escoger el tipo de modelo de machine learning de acuerdo al tipo del mismo ya sea si es una tarea de clasificacion o de regresión.\n",
    "-  Evaluar diferentes modelos para escoger el más adecuado\n",
    "-  Obtener la metrica que el cliente nos pidio y entregar informe del mismo"
   ]
  },
  {
   "cell_type": "markdown",
   "metadata": {},
   "source": [
    "# Conclusión General:\n",
    "\n",
    "En nuestro proyecto, desarrollamos un modelo para predecir la cancelación de clientes con una precisión del 80%, lo que significa que, en general, el modelo acierta en el 80% de los casos.\n",
    "\n",
    "El modelo es más efectivo para identificar a los clientes que no cancelarán, con una precisión del 84% Sin embargo, su precisión baja al 65% cuando se trata de predecir a los clientes que sí planean cancelar. que es muy bueno en detectar a los que no cancelarán, con un 90% de éxito, pero menos efectivo para identificar a los que podrían irse, con un 53% de éxito.\n",
    "\n",
    "Finalmente, el modelo tiene una buena capacidad para diferenciar entre los clientes que se quedan y los que se van, con una puntuación AUC-ROC de 0,8443. \n",
    "\n",
    "En resumen, este modelo ofrece una herramienta útil para anticipar la cancelación de clientes, aunque hay margen de mejora en la predicción de aquellos que planean irse.\"\n"
   ]
  }
 ],
 "metadata": {
  "ExecuteTimeLog": [
   {
    "duration": 4245,
    "start_time": "2024-07-25T23:24:28.772Z"
   },
   {
    "duration": 1104,
    "start_time": "2024-07-25T23:24:57.601Z"
   },
   {
    "duration": 930,
    "start_time": "2024-07-25T23:27:22.837Z"
   },
   {
    "duration": 3,
    "start_time": "2024-07-25T23:27:35.841Z"
   },
   {
    "duration": 435,
    "start_time": "2024-07-25T23:27:36.181Z"
   },
   {
    "duration": 9,
    "start_time": "2024-07-25T23:29:10.608Z"
   },
   {
    "duration": 6,
    "start_time": "2024-07-25T23:29:24.066Z"
   },
   {
    "duration": 493,
    "start_time": "2024-07-25T23:29:42.782Z"
   },
   {
    "duration": 17,
    "start_time": "2024-07-25T23:29:50.972Z"
   },
   {
    "duration": 460,
    "start_time": "2024-07-25T23:31:00.280Z"
   },
   {
    "duration": 438,
    "start_time": "2024-07-25T23:31:41.998Z"
   },
   {
    "duration": 461,
    "start_time": "2024-07-25T23:32:07.548Z"
   },
   {
    "duration": 442,
    "start_time": "2024-07-25T23:36:08.864Z"
   },
   {
    "duration": 477,
    "start_time": "2024-07-25T23:36:37.371Z"
   },
   {
    "duration": 429,
    "start_time": "2024-07-25T23:36:45.233Z"
   },
   {
    "duration": 431,
    "start_time": "2024-07-25T23:36:49.360Z"
   },
   {
    "duration": 122,
    "start_time": "2024-07-25T23:41:52.328Z"
   },
   {
    "duration": 130,
    "start_time": "2024-07-25T23:42:01.588Z"
   },
   {
    "duration": 433,
    "start_time": "2024-07-25T23:45:19.747Z"
   },
   {
    "duration": 311,
    "start_time": "2024-07-25T23:48:09.489Z"
   },
   {
    "duration": 434,
    "start_time": "2024-07-25T23:52:36.453Z"
   },
   {
    "duration": 131,
    "start_time": "2024-07-26T00:02:58.258Z"
   },
   {
    "duration": 120,
    "start_time": "2024-07-26T00:03:07.648Z"
   },
   {
    "duration": 125,
    "start_time": "2024-07-26T00:04:22.982Z"
   },
   {
    "duration": 146,
    "start_time": "2024-07-26T00:04:32.478Z"
   },
   {
    "duration": 135,
    "start_time": "2024-07-26T00:04:37.054Z"
   },
   {
    "duration": 153,
    "start_time": "2024-07-26T00:04:54.057Z"
   },
   {
    "duration": 144,
    "start_time": "2024-07-26T00:05:33.988Z"
   },
   {
    "duration": 132,
    "start_time": "2024-07-26T00:05:38.604Z"
   },
   {
    "duration": 126,
    "start_time": "2024-07-26T00:08:01.914Z"
   },
   {
    "duration": 137,
    "start_time": "2024-07-26T00:08:07.894Z"
   },
   {
    "duration": 121,
    "start_time": "2024-07-26T00:08:15.904Z"
   },
   {
    "duration": 120,
    "start_time": "2024-07-26T00:08:19.718Z"
   },
   {
    "duration": 121,
    "start_time": "2024-07-26T00:08:33.859Z"
   },
   {
    "duration": 120,
    "start_time": "2024-07-26T00:08:39.144Z"
   },
   {
    "duration": 126,
    "start_time": "2024-07-26T00:09:18.618Z"
   },
   {
    "duration": 14,
    "start_time": "2024-07-26T01:06:41.784Z"
   },
   {
    "duration": 6,
    "start_time": "2024-07-26T01:07:15.646Z"
   },
   {
    "duration": 315,
    "start_time": "2024-07-26T01:07:27.998Z"
   },
   {
    "duration": 4369,
    "start_time": "2024-07-26T01:07:33.068Z"
   },
   {
    "duration": 740,
    "start_time": "2024-07-26T01:07:37.441Z"
   },
   {
    "duration": 5,
    "start_time": "2024-07-26T01:08:05.217Z"
   },
   {
    "duration": 5,
    "start_time": "2024-07-26T01:08:32.463Z"
   },
   {
    "duration": 5,
    "start_time": "2024-07-26T01:08:38.692Z"
   },
   {
    "duration": 7,
    "start_time": "2024-07-26T01:09:49.404Z"
   },
   {
    "duration": 125,
    "start_time": "2024-07-26T01:24:54.926Z"
   },
   {
    "duration": 42,
    "start_time": "2024-07-26T01:25:14.385Z"
   },
   {
    "duration": 121,
    "start_time": "2024-07-26T01:41:45.212Z"
   },
   {
    "duration": 939,
    "start_time": "2024-07-26T01:42:51.449Z"
   },
   {
    "duration": 452,
    "start_time": "2024-07-26T01:43:11.237Z"
   },
   {
    "duration": 463,
    "start_time": "2024-07-26T01:48:11.906Z"
   },
   {
    "duration": 228,
    "start_time": "2024-07-26T01:48:59.433Z"
   },
   {
    "duration": 11,
    "start_time": "2024-07-26T01:49:26.201Z"
   },
   {
    "duration": 5,
    "start_time": "2024-07-26T01:54:45.034Z"
   },
   {
    "duration": 129,
    "start_time": "2024-07-26T01:56:25.894Z"
   },
   {
    "duration": 6,
    "start_time": "2024-07-26T01:57:55.828Z"
   },
   {
    "duration": 135,
    "start_time": "2024-07-26T02:09:37.598Z"
   },
   {
    "duration": 3,
    "start_time": "2024-07-26T02:16:09.077Z"
   },
   {
    "duration": 133,
    "start_time": "2024-07-26T02:16:10.185Z"
   },
   {
    "duration": 124,
    "start_time": "2024-07-26T02:34:37.182Z"
   },
   {
    "duration": 123,
    "start_time": "2024-07-26T02:34:57.178Z"
   },
   {
    "duration": 127,
    "start_time": "2024-07-26T02:39:23.479Z"
   },
   {
    "duration": 122,
    "start_time": "2024-07-26T02:39:34.972Z"
   },
   {
    "duration": 120,
    "start_time": "2024-07-26T02:39:48.129Z"
   },
   {
    "duration": 124,
    "start_time": "2024-07-26T02:40:50.627Z"
   },
   {
    "duration": 124,
    "start_time": "2024-07-26T02:41:16.026Z"
   },
   {
    "duration": 122,
    "start_time": "2024-07-26T02:41:25.419Z"
   },
   {
    "duration": 125,
    "start_time": "2024-07-26T02:41:43.154Z"
   },
   {
    "duration": 7,
    "start_time": "2024-07-26T02:42:56.312Z"
   },
   {
    "duration": 5,
    "start_time": "2024-07-26T02:43:25.526Z"
   },
   {
    "duration": 44,
    "start_time": "2024-07-26T02:56:06.386Z"
   },
   {
    "duration": 15,
    "start_time": "2024-07-26T02:56:28.479Z"
   },
   {
    "duration": 79,
    "start_time": "2024-07-26T03:00:57.114Z"
   },
   {
    "duration": 14,
    "start_time": "2024-07-26T03:01:10.846Z"
   },
   {
    "duration": 17,
    "start_time": "2024-07-26T03:01:24.205Z"
   },
   {
    "duration": 20,
    "start_time": "2024-07-26T03:01:38.730Z"
   },
   {
    "duration": 11,
    "start_time": "2024-07-26T03:01:56.456Z"
   },
   {
    "duration": 62,
    "start_time": "2024-07-26T03:24:20.396Z"
   },
   {
    "duration": 6,
    "start_time": "2024-07-26T03:25:47.383Z"
   },
   {
    "duration": 31,
    "start_time": "2024-07-26T03:26:00.028Z"
   },
   {
    "duration": 30,
    "start_time": "2024-07-26T03:26:14.496Z"
   },
   {
    "duration": 25,
    "start_time": "2024-07-26T03:26:33.182Z"
   },
   {
    "duration": 20,
    "start_time": "2024-07-26T03:28:02.850Z"
   },
   {
    "duration": 20,
    "start_time": "2024-07-26T03:28:06.836Z"
   },
   {
    "duration": 23,
    "start_time": "2024-07-26T03:28:41.018Z"
   },
   {
    "duration": 18,
    "start_time": "2024-07-26T03:28:47.151Z"
   },
   {
    "duration": 4168,
    "start_time": "2024-07-28T01:20:37.030Z"
   },
   {
    "duration": 116,
    "start_time": "2024-07-28T01:20:41.202Z"
   },
   {
    "duration": 348,
    "start_time": "2024-07-28T01:20:41.321Z"
   },
   {
    "duration": 25,
    "start_time": "2024-07-28T01:20:53.562Z"
   },
   {
    "duration": 26,
    "start_time": "2024-07-28T01:21:04.704Z"
   },
   {
    "duration": 18,
    "start_time": "2024-07-28T01:21:11.403Z"
   },
   {
    "duration": 12,
    "start_time": "2024-07-28T01:21:16.958Z"
   },
   {
    "duration": 15,
    "start_time": "2024-07-28T01:24:12.124Z"
   },
   {
    "duration": 11,
    "start_time": "2024-07-28T01:24:23.700Z"
   },
   {
    "duration": 24,
    "start_time": "2024-07-28T01:24:37.916Z"
   },
   {
    "duration": 6,
    "start_time": "2024-07-28T01:24:42.419Z"
   },
   {
    "duration": 6,
    "start_time": "2024-07-28T01:24:46.906Z"
   },
   {
    "duration": 5,
    "start_time": "2024-07-28T01:25:03.433Z"
   },
   {
    "duration": 16,
    "start_time": "2024-07-28T01:25:03.609Z"
   },
   {
    "duration": 5,
    "start_time": "2024-07-28T01:25:25.935Z"
   },
   {
    "duration": 13,
    "start_time": "2024-07-28T01:25:32.536Z"
   },
   {
    "duration": 6,
    "start_time": "2024-07-28T01:25:50.723Z"
   },
   {
    "duration": 9,
    "start_time": "2024-07-28T01:25:58.167Z"
   },
   {
    "duration": 22,
    "start_time": "2024-07-28T01:26:06.401Z"
   },
   {
    "duration": 6,
    "start_time": "2024-07-28T01:26:16.079Z"
   },
   {
    "duration": 29,
    "start_time": "2024-07-28T01:26:23.426Z"
   },
   {
    "duration": 24,
    "start_time": "2024-07-28T01:26:26.882Z"
   },
   {
    "duration": 24,
    "start_time": "2024-07-28T01:26:50.145Z"
   },
   {
    "duration": 20,
    "start_time": "2024-07-28T01:26:50.734Z"
   },
   {
    "duration": 29,
    "start_time": "2024-07-28T01:36:20.937Z"
   },
   {
    "duration": 706,
    "start_time": "2024-07-28T01:36:37.724Z"
   },
   {
    "duration": 143,
    "start_time": "2024-07-28T01:38:48.915Z"
   },
   {
    "duration": 49,
    "start_time": "2024-07-28T01:39:19.687Z"
   },
   {
    "duration": 121,
    "start_time": "2024-07-28T01:39:44.176Z"
   },
   {
    "duration": 97,
    "start_time": "2024-07-28T01:39:57.879Z"
   },
   {
    "duration": 23,
    "start_time": "2024-07-28T01:41:25.529Z"
   },
   {
    "duration": 22,
    "start_time": "2024-07-28T01:41:40.207Z"
   },
   {
    "duration": 23,
    "start_time": "2024-07-28T01:44:26.101Z"
   },
   {
    "duration": 22,
    "start_time": "2024-07-28T01:44:56.450Z"
   },
   {
    "duration": 24,
    "start_time": "2024-07-28T01:46:43.755Z"
   },
   {
    "duration": 31,
    "start_time": "2024-07-28T01:46:57.811Z"
   },
   {
    "duration": 61,
    "start_time": "2024-07-28T01:47:05.583Z"
   },
   {
    "duration": 30,
    "start_time": "2024-07-28T01:47:34.630Z"
   },
   {
    "duration": 34,
    "start_time": "2024-07-28T01:47:37.980Z"
   },
   {
    "duration": 21,
    "start_time": "2024-07-28T01:48:48.077Z"
   },
   {
    "duration": 22,
    "start_time": "2024-07-28T01:48:53.245Z"
   },
   {
    "duration": 21,
    "start_time": "2024-07-28T01:49:09.480Z"
   },
   {
    "duration": 20,
    "start_time": "2024-07-28T01:49:30.839Z"
   },
   {
    "duration": 23,
    "start_time": "2024-07-28T01:49:50.960Z"
   },
   {
    "duration": 21,
    "start_time": "2024-07-28T01:59:07.396Z"
   },
   {
    "duration": 512,
    "start_time": "2024-07-28T02:02:23.982Z"
   },
   {
    "duration": 523,
    "start_time": "2024-07-28T02:03:25.164Z"
   },
   {
    "duration": 8,
    "start_time": "2024-07-28T02:07:05.778Z"
   },
   {
    "duration": 7,
    "start_time": "2024-07-28T02:08:07.292Z"
   },
   {
    "duration": 4,
    "start_time": "2024-07-28T02:13:19.997Z"
   },
   {
    "duration": 315,
    "start_time": "2024-07-28T02:13:20.671Z"
   },
   {
    "duration": 4,
    "start_time": "2024-07-28T02:13:41.464Z"
   },
   {
    "duration": 208,
    "start_time": "2024-07-28T02:13:41.944Z"
   },
   {
    "duration": 14,
    "start_time": "2024-07-28T02:14:03.791Z"
   },
   {
    "duration": 62,
    "start_time": "2024-07-28T02:15:03.163Z"
   },
   {
    "duration": 23,
    "start_time": "2024-07-28T02:15:11.029Z"
   },
   {
    "duration": 7,
    "start_time": "2024-07-28T02:15:16.369Z"
   },
   {
    "duration": 26,
    "start_time": "2024-07-28T02:18:21.470Z"
   },
   {
    "duration": 24,
    "start_time": "2024-07-28T02:18:59.460Z"
   },
   {
    "duration": 1143,
    "start_time": "2024-07-28T02:20:27.575Z"
   },
   {
    "duration": 8,
    "start_time": "2024-07-28T02:20:54.336Z"
   },
   {
    "duration": 22,
    "start_time": "2024-07-28T02:22:50.174Z"
   },
   {
    "duration": 95,
    "start_time": "2024-07-28T02:23:15.350Z"
   },
   {
    "duration": 6,
    "start_time": "2024-07-28T02:24:14.488Z"
   },
   {
    "duration": 22,
    "start_time": "2024-07-28T02:25:00.557Z"
   },
   {
    "duration": 24,
    "start_time": "2024-07-28T02:25:05.303Z"
   },
   {
    "duration": 23,
    "start_time": "2024-07-28T02:25:45.094Z"
   },
   {
    "duration": 8,
    "start_time": "2024-07-28T02:26:04.824Z"
   },
   {
    "duration": 7,
    "start_time": "2024-07-28T02:26:32.511Z"
   },
   {
    "duration": 8,
    "start_time": "2024-07-28T02:26:53.713Z"
   },
   {
    "duration": 20,
    "start_time": "2024-07-28T02:27:30.834Z"
   },
   {
    "duration": 6,
    "start_time": "2024-07-28T02:28:06.867Z"
   },
   {
    "duration": 21,
    "start_time": "2024-07-28T02:28:26.064Z"
   },
   {
    "duration": 7,
    "start_time": "2024-07-28T02:29:06.992Z"
   },
   {
    "duration": 7,
    "start_time": "2024-07-28T02:29:14.340Z"
   },
   {
    "duration": 22,
    "start_time": "2024-07-28T02:29:18.293Z"
   },
   {
    "duration": 5,
    "start_time": "2024-07-28T02:32:47.911Z"
   },
   {
    "duration": 23,
    "start_time": "2024-07-28T02:33:15.154Z"
   },
   {
    "duration": 7,
    "start_time": "2024-07-28T02:33:24.749Z"
   },
   {
    "duration": 9,
    "start_time": "2024-07-28T02:33:34.460Z"
   },
   {
    "duration": 25,
    "start_time": "2024-07-28T02:35:37.560Z"
   },
   {
    "duration": 7,
    "start_time": "2024-07-28T02:36:34.363Z"
   },
   {
    "duration": 5,
    "start_time": "2024-07-28T02:36:54.447Z"
   },
   {
    "duration": 8,
    "start_time": "2024-07-28T02:37:32.698Z"
   },
   {
    "duration": 6,
    "start_time": "2024-07-28T02:37:42.651Z"
   },
   {
    "duration": 8,
    "start_time": "2024-07-28T02:38:05.853Z"
   },
   {
    "duration": 6,
    "start_time": "2024-07-28T02:38:13.646Z"
   },
   {
    "duration": 7,
    "start_time": "2024-07-28T02:38:38.774Z"
   },
   {
    "duration": 6,
    "start_time": "2024-07-28T02:38:47.113Z"
   },
   {
    "duration": 6,
    "start_time": "2024-07-28T02:39:38.014Z"
   },
   {
    "duration": 6,
    "start_time": "2024-07-28T02:39:49.399Z"
   },
   {
    "duration": 7,
    "start_time": "2024-07-28T02:40:03.182Z"
   },
   {
    "duration": 6,
    "start_time": "2024-07-28T02:40:17.425Z"
   },
   {
    "duration": 22,
    "start_time": "2024-07-28T02:46:16.045Z"
   },
   {
    "duration": 1636,
    "start_time": "2024-07-28T02:46:27.768Z"
   },
   {
    "duration": 537,
    "start_time": "2024-07-28T02:46:48.615Z"
   },
   {
    "duration": 23,
    "start_time": "2024-07-28T02:47:05.687Z"
   },
   {
    "duration": 150,
    "start_time": "2024-07-28T02:47:26.081Z"
   },
   {
    "duration": 252,
    "start_time": "2024-07-28T02:49:12.504Z"
   },
   {
    "duration": 227,
    "start_time": "2024-07-28T02:49:30.828Z"
   },
   {
    "duration": 29,
    "start_time": "2024-07-28T02:52:20.146Z"
   },
   {
    "duration": 226,
    "start_time": "2024-07-28T02:54:14.321Z"
   },
   {
    "duration": 219,
    "start_time": "2024-07-28T02:55:30.819Z"
   },
   {
    "duration": 198,
    "start_time": "2024-07-28T02:55:37.959Z"
   },
   {
    "duration": 4313,
    "start_time": "2024-07-30T01:08:13.119Z"
   },
   {
    "duration": 91,
    "start_time": "2024-07-30T01:08:17.436Z"
   },
   {
    "duration": 9,
    "start_time": "2024-07-30T01:08:17.530Z"
   },
   {
    "duration": 6,
    "start_time": "2024-07-30T01:08:23.571Z"
   },
   {
    "duration": 6,
    "start_time": "2024-07-30T01:08:24.437Z"
   },
   {
    "duration": 6,
    "start_time": "2024-07-30T01:08:24.989Z"
   },
   {
    "duration": 33,
    "start_time": "2024-07-30T01:08:25.510Z"
   },
   {
    "duration": 28,
    "start_time": "2024-07-30T01:08:32.632Z"
   },
   {
    "duration": 23,
    "start_time": "2024-07-30T01:08:34.103Z"
   },
   {
    "duration": 26,
    "start_time": "2024-07-30T01:08:34.715Z"
   },
   {
    "duration": 7,
    "start_time": "2024-07-30T01:08:37.217Z"
   },
   {
    "duration": 8,
    "start_time": "2024-07-30T01:08:37.379Z"
   },
   {
    "duration": 6,
    "start_time": "2024-07-30T01:08:37.953Z"
   },
   {
    "duration": 412,
    "start_time": "2024-07-30T01:08:38.114Z"
   },
   {
    "duration": 0,
    "start_time": "2024-07-30T01:08:38.529Z"
   },
   {
    "duration": 23,
    "start_time": "2024-07-30T01:08:38.603Z"
   },
   {
    "duration": 9,
    "start_time": "2024-07-30T01:08:38.770Z"
   },
   {
    "duration": 6,
    "start_time": "2024-07-30T01:08:38.935Z"
   },
   {
    "duration": 24,
    "start_time": "2024-07-30T01:08:39.096Z"
   },
   {
    "duration": 22,
    "start_time": "2024-07-30T01:08:39.273Z"
   },
   {
    "duration": 6,
    "start_time": "2024-07-30T01:08:39.676Z"
   },
   {
    "duration": 6,
    "start_time": "2024-07-30T01:08:39.864Z"
   },
   {
    "duration": 7,
    "start_time": "2024-07-30T01:08:40.026Z"
   },
   {
    "duration": 7,
    "start_time": "2024-07-30T01:08:40.170Z"
   },
   {
    "duration": 6,
    "start_time": "2024-07-30T01:08:40.321Z"
   },
   {
    "duration": 5,
    "start_time": "2024-07-30T01:08:40.483Z"
   },
   {
    "duration": 7,
    "start_time": "2024-07-30T01:08:40.829Z"
   },
   {
    "duration": 6,
    "start_time": "2024-07-30T01:08:41.213Z"
   },
   {
    "duration": 9,
    "start_time": "2024-07-30T01:11:08.590Z"
   },
   {
    "duration": 8,
    "start_time": "2024-07-30T01:13:35.722Z"
   },
   {
    "duration": 10,
    "start_time": "2024-07-30T01:14:20.168Z"
   },
   {
    "duration": 26,
    "start_time": "2024-07-30T01:16:25.923Z"
   },
   {
    "duration": 8,
    "start_time": "2024-07-30T01:16:30.857Z"
   },
   {
    "duration": 8,
    "start_time": "2024-07-30T01:19:14.075Z"
   },
   {
    "duration": 10,
    "start_time": "2024-07-30T01:19:51.232Z"
   },
   {
    "duration": 8,
    "start_time": "2024-07-30T01:20:17.117Z"
   },
   {
    "duration": 9,
    "start_time": "2024-07-30T01:20:42.984Z"
   },
   {
    "duration": 207,
    "start_time": "2024-07-30T01:32:11.412Z"
   },
   {
    "duration": 5,
    "start_time": "2024-07-30T01:32:28.448Z"
   },
   {
    "duration": 212,
    "start_time": "2024-07-30T01:32:28.754Z"
   },
   {
    "duration": 4,
    "start_time": "2024-07-30T01:32:33.667Z"
   },
   {
    "duration": 6,
    "start_time": "2024-07-30T01:32:34.279Z"
   },
   {
    "duration": 27,
    "start_time": "2024-07-30T01:32:35.781Z"
   },
   {
    "duration": 23,
    "start_time": "2024-07-30T01:32:36.749Z"
   },
   {
    "duration": 6,
    "start_time": "2024-07-30T01:32:37.041Z"
   },
   {
    "duration": 9,
    "start_time": "2024-07-30T01:32:37.820Z"
   },
   {
    "duration": 6,
    "start_time": "2024-07-30T01:32:38.027Z"
   },
   {
    "duration": 8,
    "start_time": "2024-07-30T01:32:38.191Z"
   },
   {
    "duration": 7,
    "start_time": "2024-07-30T01:32:38.340Z"
   },
   {
    "duration": 7,
    "start_time": "2024-07-30T01:32:38.492Z"
   },
   {
    "duration": 6,
    "start_time": "2024-07-30T01:32:38.647Z"
   },
   {
    "duration": 11,
    "start_time": "2024-07-30T01:32:38.813Z"
   },
   {
    "duration": 6,
    "start_time": "2024-07-30T01:32:38.979Z"
   },
   {
    "duration": 9,
    "start_time": "2024-07-30T01:32:39.135Z"
   },
   {
    "duration": 7,
    "start_time": "2024-07-30T01:32:39.306Z"
   },
   {
    "duration": 7,
    "start_time": "2024-07-30T01:32:39.461Z"
   },
   {
    "duration": 6,
    "start_time": "2024-07-30T01:32:39.627Z"
   },
   {
    "duration": 7,
    "start_time": "2024-07-30T01:32:39.814Z"
   },
   {
    "duration": 6,
    "start_time": "2024-07-30T01:32:40.187Z"
   },
   {
    "duration": 8,
    "start_time": "2024-07-30T01:32:40.553Z"
   },
   {
    "duration": 8,
    "start_time": "2024-07-30T01:34:54.334Z"
   },
   {
    "duration": 8,
    "start_time": "2024-07-30T01:35:20.422Z"
   },
   {
    "duration": 6,
    "start_time": "2024-07-30T01:35:35.070Z"
   },
   {
    "duration": 6,
    "start_time": "2024-07-30T01:35:47.168Z"
   },
   {
    "duration": 7,
    "start_time": "2024-07-30T01:35:58.887Z"
   },
   {
    "duration": 23,
    "start_time": "2024-07-30T01:36:06.143Z"
   },
   {
    "duration": 23,
    "start_time": "2024-07-30T01:36:45.019Z"
   },
   {
    "duration": 6,
    "start_time": "2024-07-30T01:36:55.983Z"
   },
   {
    "duration": 7,
    "start_time": "2024-07-30T01:38:04.027Z"
   },
   {
    "duration": 6,
    "start_time": "2024-07-30T01:38:10.208Z"
   },
   {
    "duration": 6,
    "start_time": "2024-07-30T01:38:37.983Z"
   },
   {
    "duration": 7,
    "start_time": "2024-07-30T01:38:46.507Z"
   },
   {
    "duration": 9,
    "start_time": "2024-07-30T01:38:53.805Z"
   },
   {
    "duration": 6,
    "start_time": "2024-07-30T01:39:16.314Z"
   },
   {
    "duration": 8,
    "start_time": "2024-07-30T01:40:04.251Z"
   },
   {
    "duration": 7,
    "start_time": "2024-07-30T01:40:56.530Z"
   },
   {
    "duration": 8,
    "start_time": "2024-07-30T01:41:03.113Z"
   },
   {
    "duration": 7,
    "start_time": "2024-07-30T01:41:51.949Z"
   },
   {
    "duration": 8,
    "start_time": "2024-07-30T01:41:56.979Z"
   },
   {
    "duration": 9,
    "start_time": "2024-07-30T01:42:15.980Z"
   },
   {
    "duration": 333,
    "start_time": "2024-07-31T01:10:47.936Z"
   },
   {
    "duration": 4285,
    "start_time": "2024-07-31T01:11:01.449Z"
   },
   {
    "duration": 91,
    "start_time": "2024-07-31T01:11:05.738Z"
   },
   {
    "duration": 7,
    "start_time": "2024-07-31T01:11:05.832Z"
   },
   {
    "duration": 6,
    "start_time": "2024-07-31T01:11:05.844Z"
   },
   {
    "duration": 7,
    "start_time": "2024-07-31T01:11:05.853Z"
   },
   {
    "duration": 11,
    "start_time": "2024-07-31T01:11:05.869Z"
   },
   {
    "duration": 36,
    "start_time": "2024-07-31T01:11:07.453Z"
   },
   {
    "duration": 28,
    "start_time": "2024-07-31T01:11:07.953Z"
   },
   {
    "duration": 22,
    "start_time": "2024-07-31T01:11:08.620Z"
   },
   {
    "duration": 20,
    "start_time": "2024-07-31T01:11:08.993Z"
   },
   {
    "duration": 8,
    "start_time": "2024-07-31T01:11:10.611Z"
   },
   {
    "duration": 5,
    "start_time": "2024-07-31T01:11:11.624Z"
   },
   {
    "duration": 9,
    "start_time": "2024-07-31T01:11:23.645Z"
   },
   {
    "duration": 69,
    "start_time": "2024-07-31T01:13:09.430Z"
   },
   {
    "duration": 14,
    "start_time": "2024-07-31T01:13:23.406Z"
   },
   {
    "duration": 5,
    "start_time": "2024-07-31T01:13:23.820Z"
   },
   {
    "duration": 13,
    "start_time": "2024-07-31T01:13:24.641Z"
   },
   {
    "duration": 6,
    "start_time": "2024-07-31T01:13:25.324Z"
   },
   {
    "duration": 218,
    "start_time": "2024-07-31T01:13:26.207Z"
   },
   {
    "duration": 6,
    "start_time": "2024-07-31T01:13:26.736Z"
   },
   {
    "duration": 6,
    "start_time": "2024-07-31T01:27:29.110Z"
   },
   {
    "duration": 7,
    "start_time": "2024-07-31T01:28:50.257Z"
   },
   {
    "duration": 8,
    "start_time": "2024-07-31T01:30:22.184Z"
   },
   {
    "duration": 77,
    "start_time": "2024-07-31T01:30:28.817Z"
   },
   {
    "duration": 8,
    "start_time": "2024-07-31T01:30:58.919Z"
   },
   {
    "duration": 7,
    "start_time": "2024-07-31T01:31:15.703Z"
   },
   {
    "duration": 9,
    "start_time": "2024-07-31T01:32:57.295Z"
   },
   {
    "duration": 8,
    "start_time": "2024-07-31T01:41:45.343Z"
   },
   {
    "duration": 9,
    "start_time": "2024-07-31T01:43:05.890Z"
   },
   {
    "duration": 7,
    "start_time": "2024-07-31T01:43:11.762Z"
   },
   {
    "duration": 9,
    "start_time": "2024-07-31T01:43:33.908Z"
   },
   {
    "duration": 7,
    "start_time": "2024-07-31T01:43:35.809Z"
   },
   {
    "duration": 7,
    "start_time": "2024-07-31T01:44:29.501Z"
   },
   {
    "duration": 5,
    "start_time": "2024-07-31T01:46:26.740Z"
   },
   {
    "duration": 7,
    "start_time": "2024-07-31T01:46:28.290Z"
   },
   {
    "duration": 6,
    "start_time": "2024-07-31T01:46:39.706Z"
   },
   {
    "duration": 9,
    "start_time": "2024-07-31T01:50:30.751Z"
   },
   {
    "duration": 5,
    "start_time": "2024-07-31T01:51:42.653Z"
   },
   {
    "duration": 14,
    "start_time": "2024-07-31T01:55:47.871Z"
   },
   {
    "duration": 9,
    "start_time": "2024-07-31T01:56:04.982Z"
   },
   {
    "duration": 4,
    "start_time": "2024-07-31T01:57:33.011Z"
   },
   {
    "duration": 25,
    "start_time": "2024-07-31T01:59:06.282Z"
   },
   {
    "duration": 777,
    "start_time": "2024-07-31T02:01:43.618Z"
   },
   {
    "duration": 5,
    "start_time": "2024-07-31T02:02:56.269Z"
   },
   {
    "duration": 159,
    "start_time": "2024-07-31T02:03:05.389Z"
   },
   {
    "duration": 84,
    "start_time": "2024-07-31T02:04:55.081Z"
   },
   {
    "duration": 5,
    "start_time": "2024-07-31T02:05:50.769Z"
   },
   {
    "duration": 7,
    "start_time": "2024-07-31T02:06:31.226Z"
   },
   {
    "duration": 5,
    "start_time": "2024-07-31T02:07:27.312Z"
   },
   {
    "duration": 7,
    "start_time": "2024-07-31T02:07:54.369Z"
   },
   {
    "duration": 10,
    "start_time": "2024-07-31T02:08:55.304Z"
   },
   {
    "duration": 6,
    "start_time": "2024-07-31T02:09:08.788Z"
   },
   {
    "duration": 5,
    "start_time": "2024-07-31T02:10:55.172Z"
   },
   {
    "duration": 7,
    "start_time": "2024-07-31T02:11:11.376Z"
   },
   {
    "duration": 5,
    "start_time": "2024-07-31T02:19:09.450Z"
   },
   {
    "duration": 6,
    "start_time": "2024-07-31T02:19:25.211Z"
   },
   {
    "duration": 5,
    "start_time": "2024-07-31T02:21:42.405Z"
   },
   {
    "duration": 5,
    "start_time": "2024-07-31T02:21:53.577Z"
   },
   {
    "duration": 7,
    "start_time": "2024-07-31T02:22:11.947Z"
   },
   {
    "duration": 5,
    "start_time": "2024-07-31T02:23:36.473Z"
   },
   {
    "duration": 6,
    "start_time": "2024-07-31T02:23:49.646Z"
   },
   {
    "duration": 24,
    "start_time": "2024-07-31T02:30:46.058Z"
   },
   {
    "duration": 4412,
    "start_time": "2024-08-01T01:37:13.260Z"
   },
   {
    "duration": 90,
    "start_time": "2024-08-01T01:37:17.675Z"
   },
   {
    "duration": 7,
    "start_time": "2024-08-01T01:37:17.768Z"
   },
   {
    "duration": 6,
    "start_time": "2024-08-01T01:37:17.779Z"
   },
   {
    "duration": 14,
    "start_time": "2024-08-01T01:37:17.788Z"
   },
   {
    "duration": 6,
    "start_time": "2024-08-01T01:37:17.805Z"
   },
   {
    "duration": 34,
    "start_time": "2024-08-01T01:37:17.814Z"
   },
   {
    "duration": 55,
    "start_time": "2024-08-01T01:37:17.850Z"
   },
   {
    "duration": 23,
    "start_time": "2024-08-01T01:37:17.909Z"
   },
   {
    "duration": 20,
    "start_time": "2024-08-01T01:37:17.938Z"
   },
   {
    "duration": 45,
    "start_time": "2024-08-01T01:37:17.961Z"
   },
   {
    "duration": 7,
    "start_time": "2024-08-01T01:37:18.009Z"
   },
   {
    "duration": 8,
    "start_time": "2024-08-01T01:37:18.118Z"
   },
   {
    "duration": 7,
    "start_time": "2024-08-01T01:37:18.298Z"
   },
   {
    "duration": 214,
    "start_time": "2024-08-01T01:37:18.459Z"
   },
   {
    "duration": 7,
    "start_time": "2024-08-01T01:37:18.677Z"
   },
   {
    "duration": 4,
    "start_time": "2024-08-01T01:37:18.993Z"
   },
   {
    "duration": 229,
    "start_time": "2024-08-01T01:37:19.167Z"
   },
   {
    "duration": 8,
    "start_time": "2024-08-01T01:37:19.403Z"
   },
   {
    "duration": 5,
    "start_time": "2024-08-01T01:37:20.233Z"
   },
   {
    "duration": 26,
    "start_time": "2024-08-01T01:37:20.390Z"
   },
   {
    "duration": 23,
    "start_time": "2024-08-01T01:37:20.548Z"
   },
   {
    "duration": 5,
    "start_time": "2024-08-01T01:37:20.866Z"
   },
   {
    "duration": 8,
    "start_time": "2024-08-01T01:37:21.031Z"
   },
   {
    "duration": 7,
    "start_time": "2024-08-01T01:37:21.200Z"
   },
   {
    "duration": 5,
    "start_time": "2024-08-01T01:37:21.600Z"
   },
   {
    "duration": 7,
    "start_time": "2024-08-01T01:37:21.763Z"
   },
   {
    "duration": 7,
    "start_time": "2024-08-01T01:37:21.915Z"
   },
   {
    "duration": 10,
    "start_time": "2024-08-01T01:37:22.119Z"
   },
   {
    "duration": 4,
    "start_time": "2024-08-01T01:37:22.343Z"
   },
   {
    "duration": 7,
    "start_time": "2024-08-01T01:37:22.506Z"
   },
   {
    "duration": 7,
    "start_time": "2024-08-01T01:37:22.880Z"
   },
   {
    "duration": 8,
    "start_time": "2024-08-01T01:37:24.316Z"
   },
   {
    "duration": 5,
    "start_time": "2024-08-01T01:37:24.535Z"
   },
   {
    "duration": 8,
    "start_time": "2024-08-01T01:37:24.685Z"
   },
   {
    "duration": 6,
    "start_time": "2024-08-01T01:37:24.877Z"
   },
   {
    "duration": 8,
    "start_time": "2024-08-01T01:37:25.091Z"
   },
   {
    "duration": 5,
    "start_time": "2024-08-01T01:37:25.287Z"
   },
   {
    "duration": 7,
    "start_time": "2024-08-01T01:37:25.451Z"
   },
   {
    "duration": 8,
    "start_time": "2024-08-01T01:37:25.611Z"
   },
   {
    "duration": 9,
    "start_time": "2024-08-01T01:37:25.754Z"
   },
   {
    "duration": 5,
    "start_time": "2024-08-01T01:37:25.910Z"
   },
   {
    "duration": 7,
    "start_time": "2024-08-01T01:37:26.057Z"
   },
   {
    "duration": 7,
    "start_time": "2024-08-01T01:37:26.191Z"
   },
   {
    "duration": 9,
    "start_time": "2024-08-01T01:37:26.345Z"
   },
   {
    "duration": 5,
    "start_time": "2024-08-01T01:37:26.490Z"
   },
   {
    "duration": 9,
    "start_time": "2024-08-01T01:37:26.655Z"
   },
   {
    "duration": 6,
    "start_time": "2024-08-01T01:37:26.825Z"
   },
   {
    "duration": 8,
    "start_time": "2024-08-01T01:37:26.984Z"
   },
   {
    "duration": 4,
    "start_time": "2024-08-01T01:37:27.131Z"
   },
   {
    "duration": 7,
    "start_time": "2024-08-01T01:37:27.274Z"
   },
   {
    "duration": 7,
    "start_time": "2024-08-01T01:37:27.431Z"
   },
   {
    "duration": 7,
    "start_time": "2024-08-01T01:37:27.600Z"
   },
   {
    "duration": 9,
    "start_time": "2024-08-01T01:37:27.734Z"
   },
   {
    "duration": 5,
    "start_time": "2024-08-01T01:37:27.895Z"
   },
   {
    "duration": 7,
    "start_time": "2024-08-01T01:37:28.054Z"
   },
   {
    "duration": 24,
    "start_time": "2024-08-01T01:37:28.229Z"
   },
   {
    "duration": 409,
    "start_time": "2024-08-01T01:37:29.250Z"
   },
   {
    "duration": 29,
    "start_time": "2024-08-01T01:37:44.062Z"
   },
   {
    "duration": 9,
    "start_time": "2024-08-01T01:37:49.956Z"
   },
   {
    "duration": 854,
    "start_time": "2024-08-01T01:38:03.360Z"
   },
   {
    "duration": 8,
    "start_time": "2024-08-01T01:38:11.916Z"
   },
   {
    "duration": 279,
    "start_time": "2024-08-01T01:38:43.686Z"
   },
   {
    "duration": 26,
    "start_time": "2024-08-01T01:39:52.194Z"
   },
   {
    "duration": 25,
    "start_time": "2024-08-01T01:40:10.447Z"
   },
   {
    "duration": 4303,
    "start_time": "2024-08-01T18:23:58.113Z"
   },
   {
    "duration": 87,
    "start_time": "2024-08-01T18:24:02.424Z"
   },
   {
    "duration": 7,
    "start_time": "2024-08-01T18:24:02.513Z"
   },
   {
    "duration": 5,
    "start_time": "2024-08-01T18:24:02.525Z"
   },
   {
    "duration": 6,
    "start_time": "2024-08-01T18:24:02.533Z"
   },
   {
    "duration": 5,
    "start_time": "2024-08-01T18:24:02.542Z"
   },
   {
    "duration": 71,
    "start_time": "2024-08-01T18:24:02.551Z"
   },
   {
    "duration": 27,
    "start_time": "2024-08-01T18:24:02.625Z"
   },
   {
    "duration": 32,
    "start_time": "2024-08-01T18:24:02.655Z"
   },
   {
    "duration": 45,
    "start_time": "2024-08-01T18:24:02.694Z"
   },
   {
    "duration": 8,
    "start_time": "2024-08-01T18:24:02.742Z"
   },
   {
    "duration": 7,
    "start_time": "2024-08-01T18:24:02.753Z"
   },
   {
    "duration": 8,
    "start_time": "2024-08-01T18:24:02.763Z"
   },
   {
    "duration": 51,
    "start_time": "2024-08-01T18:24:02.774Z"
   },
   {
    "duration": 221,
    "start_time": "2024-08-01T18:24:02.829Z"
   },
   {
    "duration": 7,
    "start_time": "2024-08-01T18:24:03.052Z"
   },
   {
    "duration": 4,
    "start_time": "2024-08-01T18:24:03.062Z"
   },
   {
    "duration": 236,
    "start_time": "2024-08-01T18:24:03.070Z"
   },
   {
    "duration": 17,
    "start_time": "2024-08-01T18:24:03.309Z"
   },
   {
    "duration": 6,
    "start_time": "2024-08-01T18:24:03.329Z"
   },
   {
    "duration": 25,
    "start_time": "2024-08-01T18:24:03.338Z"
   },
   {
    "duration": 59,
    "start_time": "2024-08-01T18:24:03.366Z"
   },
   {
    "duration": 7,
    "start_time": "2024-08-01T18:24:03.428Z"
   },
   {
    "duration": 8,
    "start_time": "2024-08-01T18:24:03.438Z"
   },
   {
    "duration": 7,
    "start_time": "2024-08-01T18:24:03.450Z"
   },
   {
    "duration": 5,
    "start_time": "2024-08-01T18:24:03.460Z"
   },
   {
    "duration": 56,
    "start_time": "2024-08-01T18:24:03.468Z"
   },
   {
    "duration": 6,
    "start_time": "2024-08-01T18:24:03.533Z"
   },
   {
    "duration": 9,
    "start_time": "2024-08-01T18:24:03.542Z"
   },
   {
    "duration": 5,
    "start_time": "2024-08-01T18:24:03.554Z"
   },
   {
    "duration": 9,
    "start_time": "2024-08-01T18:24:03.563Z"
   },
   {
    "duration": 51,
    "start_time": "2024-08-01T18:24:03.574Z"
   },
   {
    "duration": 9,
    "start_time": "2024-08-01T18:24:03.628Z"
   },
   {
    "duration": 4,
    "start_time": "2024-08-01T18:24:03.640Z"
   },
   {
    "duration": 7,
    "start_time": "2024-08-01T18:24:03.648Z"
   },
   {
    "duration": 7,
    "start_time": "2024-08-01T18:24:03.658Z"
   },
   {
    "duration": 56,
    "start_time": "2024-08-01T18:24:03.668Z"
   },
   {
    "duration": 5,
    "start_time": "2024-08-01T18:24:03.727Z"
   },
   {
    "duration": 11,
    "start_time": "2024-08-01T18:24:03.735Z"
   },
   {
    "duration": 9,
    "start_time": "2024-08-01T18:24:03.748Z"
   },
   {
    "duration": 9,
    "start_time": "2024-08-01T18:24:03.761Z"
   },
   {
    "duration": 10,
    "start_time": "2024-08-01T18:24:03.773Z"
   },
   {
    "duration": 7,
    "start_time": "2024-08-01T18:24:03.825Z"
   },
   {
    "duration": 7,
    "start_time": "2024-08-01T18:24:03.835Z"
   },
   {
    "duration": 7,
    "start_time": "2024-08-01T18:24:03.846Z"
   },
   {
    "duration": 5,
    "start_time": "2024-08-01T18:24:03.857Z"
   },
   {
    "duration": 8,
    "start_time": "2024-08-01T18:24:03.865Z"
   },
   {
    "duration": 50,
    "start_time": "2024-08-01T18:24:03.876Z"
   },
   {
    "duration": 9,
    "start_time": "2024-08-01T18:24:03.929Z"
   },
   {
    "duration": 5,
    "start_time": "2024-08-01T18:24:03.941Z"
   },
   {
    "duration": 8,
    "start_time": "2024-08-01T18:24:03.949Z"
   },
   {
    "duration": 63,
    "start_time": "2024-08-01T18:24:03.960Z"
   },
   {
    "duration": 7,
    "start_time": "2024-08-01T18:24:04.025Z"
   },
   {
    "duration": 9,
    "start_time": "2024-08-01T18:24:04.035Z"
   },
   {
    "duration": 5,
    "start_time": "2024-08-01T18:24:04.047Z"
   },
   {
    "duration": 7,
    "start_time": "2024-08-01T18:24:04.055Z"
   },
   {
    "duration": 68,
    "start_time": "2024-08-01T18:24:04.065Z"
   },
   {
    "duration": 34,
    "start_time": "2024-08-01T18:24:04.135Z"
   },
   {
    "duration": 158,
    "start_time": "2024-08-01T18:24:04.172Z"
   },
   {
    "duration": 31,
    "start_time": "2024-08-01T18:53:31.761Z"
   },
   {
    "duration": 19,
    "start_time": "2024-08-01T18:54:20.764Z"
   },
   {
    "duration": 355,
    "start_time": "2024-08-01T18:54:30.926Z"
   },
   {
    "duration": 571,
    "start_time": "2024-08-01T18:55:44.742Z"
   },
   {
    "duration": 9,
    "start_time": "2024-08-01T18:56:41.935Z"
   },
   {
    "duration": 24,
    "start_time": "2024-08-01T19:06:26.712Z"
   },
   {
    "duration": 10,
    "start_time": "2024-08-01T19:06:42.710Z"
   },
   {
    "duration": 13,
    "start_time": "2024-08-01T19:06:46.651Z"
   },
   {
    "duration": 4317,
    "start_time": "2024-08-02T01:41:50.440Z"
   },
   {
    "duration": 93,
    "start_time": "2024-08-02T01:41:54.761Z"
   },
   {
    "duration": 8,
    "start_time": "2024-08-02T01:41:54.860Z"
   },
   {
    "duration": 7,
    "start_time": "2024-08-02T01:41:54.873Z"
   },
   {
    "duration": 7,
    "start_time": "2024-08-02T01:41:54.884Z"
   },
   {
    "duration": 8,
    "start_time": "2024-08-02T01:41:54.908Z"
   },
   {
    "duration": 38,
    "start_time": "2024-08-02T01:41:54.920Z"
   },
   {
    "duration": 60,
    "start_time": "2024-08-02T01:41:54.960Z"
   },
   {
    "duration": 23,
    "start_time": "2024-08-02T01:41:55.024Z"
   },
   {
    "duration": 20,
    "start_time": "2024-08-02T01:41:55.053Z"
   },
   {
    "duration": 33,
    "start_time": "2024-08-02T01:41:55.076Z"
   },
   {
    "duration": 8,
    "start_time": "2024-08-02T01:41:55.112Z"
   },
   {
    "duration": 10,
    "start_time": "2024-08-02T01:41:55.123Z"
   },
   {
    "duration": 7,
    "start_time": "2024-08-02T01:41:55.136Z"
   },
   {
    "duration": 265,
    "start_time": "2024-08-02T01:41:55.146Z"
   },
   {
    "duration": 7,
    "start_time": "2024-08-02T01:41:55.416Z"
   },
   {
    "duration": 5,
    "start_time": "2024-08-02T01:41:55.426Z"
   },
   {
    "duration": 243,
    "start_time": "2024-08-02T01:41:55.434Z"
   },
   {
    "duration": 8,
    "start_time": "2024-08-02T01:41:55.679Z"
   },
   {
    "duration": 23,
    "start_time": "2024-08-02T01:41:55.690Z"
   },
   {
    "duration": 8,
    "start_time": "2024-08-02T01:41:55.717Z"
   },
   {
    "duration": 8,
    "start_time": "2024-08-02T01:41:55.729Z"
   },
   {
    "duration": 9,
    "start_time": "2024-08-02T01:41:55.740Z"
   },
   {
    "duration": 6,
    "start_time": "2024-08-02T01:41:55.752Z"
   },
   {
    "duration": 52,
    "start_time": "2024-08-02T01:41:55.760Z"
   },
   {
    "duration": 6,
    "start_time": "2024-08-02T01:41:55.816Z"
   },
   {
    "duration": 9,
    "start_time": "2024-08-02T01:41:55.825Z"
   },
   {
    "duration": 5,
    "start_time": "2024-08-02T01:41:55.843Z"
   },
   {
    "duration": 8,
    "start_time": "2024-08-02T01:41:55.850Z"
   },
   {
    "duration": 6,
    "start_time": "2024-08-02T01:41:55.910Z"
   },
   {
    "duration": 10,
    "start_time": "2024-08-02T01:41:55.919Z"
   },
   {
    "duration": 6,
    "start_time": "2024-08-02T01:41:55.932Z"
   },
   {
    "duration": 9,
    "start_time": "2024-08-02T01:41:55.941Z"
   },
   {
    "duration": 54,
    "start_time": "2024-08-02T01:41:55.954Z"
   },
   {
    "duration": 10,
    "start_time": "2024-08-02T01:41:56.011Z"
   },
   {
    "duration": 5,
    "start_time": "2024-08-02T01:41:56.024Z"
   },
   {
    "duration": 7,
    "start_time": "2024-08-02T01:41:56.031Z"
   },
   {
    "duration": 7,
    "start_time": "2024-08-02T01:41:56.041Z"
   },
   {
    "duration": 57,
    "start_time": "2024-08-02T01:41:56.052Z"
   },
   {
    "duration": 6,
    "start_time": "2024-08-02T01:41:56.112Z"
   },
   {
    "duration": 8,
    "start_time": "2024-08-02T01:41:56.121Z"
   },
   {
    "duration": 6,
    "start_time": "2024-08-02T01:41:56.132Z"
   },
   {
    "duration": 8,
    "start_time": "2024-08-02T01:41:56.142Z"
   },
   {
    "duration": 5,
    "start_time": "2024-08-02T01:41:56.153Z"
   },
   {
    "duration": 7,
    "start_time": "2024-08-02T01:41:56.210Z"
   },
   {
    "duration": 7,
    "start_time": "2024-08-02T01:41:56.220Z"
   },
   {
    "duration": 10,
    "start_time": "2024-08-02T01:41:56.230Z"
   },
   {
    "duration": 7,
    "start_time": "2024-08-02T01:41:56.242Z"
   },
   {
    "duration": 58,
    "start_time": "2024-08-02T01:41:56.251Z"
   },
   {
    "duration": 6,
    "start_time": "2024-08-02T01:41:56.312Z"
   },
   {
    "duration": 8,
    "start_time": "2024-08-02T01:41:56.321Z"
   },
   {
    "duration": 9,
    "start_time": "2024-08-02T01:41:56.332Z"
   },
   {
    "duration": 6,
    "start_time": "2024-08-02T01:41:56.343Z"
   },
   {
    "duration": 58,
    "start_time": "2024-08-02T01:41:56.352Z"
   },
   {
    "duration": 26,
    "start_time": "2024-08-02T01:41:56.413Z"
   },
   {
    "duration": 22,
    "start_time": "2024-08-02T01:41:56.442Z"
   },
   {
    "duration": 40,
    "start_time": "2024-08-02T01:41:56.467Z"
   },
   {
    "duration": 9,
    "start_time": "2024-08-02T01:41:56.511Z"
   },
   {
    "duration": 10,
    "start_time": "2024-08-02T01:41:56.523Z"
   },
   {
    "duration": 37,
    "start_time": "2024-08-02T02:02:49.835Z"
   },
   {
    "duration": 27,
    "start_time": "2024-08-02T02:03:15.627Z"
   },
   {
    "duration": 8,
    "start_time": "2024-08-02T02:03:51.960Z"
   },
   {
    "duration": 8,
    "start_time": "2024-08-02T02:04:00.405Z"
   },
   {
    "duration": 11,
    "start_time": "2024-08-02T02:04:36.863Z"
   },
   {
    "duration": 8,
    "start_time": "2024-08-02T02:04:40.970Z"
   },
   {
    "duration": 9,
    "start_time": "2024-08-02T02:04:48.862Z"
   },
   {
    "duration": 407,
    "start_time": "2024-08-02T02:37:37.675Z"
   },
   {
    "duration": 418,
    "start_time": "2024-08-02T02:43:52.386Z"
   },
   {
    "duration": 80,
    "start_time": "2024-08-02T02:54:06.495Z"
   },
   {
    "duration": 14,
    "start_time": "2024-08-02T03:11:21.593Z"
   },
   {
    "duration": 8,
    "start_time": "2024-08-02T03:13:59.203Z"
   },
   {
    "duration": 4,
    "start_time": "2024-08-02T03:14:23.668Z"
   },
   {
    "duration": 174,
    "start_time": "2024-08-02T03:14:30.103Z"
   },
   {
    "duration": 51,
    "start_time": "2024-08-02T03:14:40.321Z"
   },
   {
    "duration": 52,
    "start_time": "2024-08-02T03:14:57.625Z"
   },
   {
    "duration": 24,
    "start_time": "2024-08-02T03:17:53.456Z"
   },
   {
    "duration": 4,
    "start_time": "2024-08-02T03:18:14.960Z"
   },
   {
    "duration": 55,
    "start_time": "2024-08-02T03:18:15.326Z"
   },
   {
    "duration": 6,
    "start_time": "2024-08-02T03:18:17.693Z"
   },
   {
    "duration": 15,
    "start_time": "2024-08-02T03:18:19.033Z"
   },
   {
    "duration": 23,
    "start_time": "2024-08-02T03:18:20.955Z"
   },
   {
    "duration": 5,
    "start_time": "2024-08-02T03:18:51.176Z"
   },
   {
    "duration": 18,
    "start_time": "2024-08-02T03:18:55.244Z"
   },
   {
    "duration": 7,
    "start_time": "2024-08-02T03:19:59.441Z"
   },
   {
    "duration": 6,
    "start_time": "2024-08-02T03:20:43.411Z"
   },
   {
    "duration": 15,
    "start_time": "2024-08-02T03:21:22.395Z"
   },
   {
    "duration": 4376,
    "start_time": "2024-08-02T23:08:18.509Z"
   },
   {
    "duration": 91,
    "start_time": "2024-08-02T23:08:22.896Z"
   },
   {
    "duration": 8,
    "start_time": "2024-08-02T23:08:22.989Z"
   },
   {
    "duration": 18,
    "start_time": "2024-08-02T23:08:23.002Z"
   },
   {
    "duration": 20,
    "start_time": "2024-08-02T23:08:23.023Z"
   },
   {
    "duration": 6,
    "start_time": "2024-08-02T23:08:23.047Z"
   },
   {
    "duration": 16,
    "start_time": "2024-08-02T23:08:23.056Z"
   },
   {
    "duration": 5,
    "start_time": "2024-08-02T23:08:23.076Z"
   },
   {
    "duration": 50,
    "start_time": "2024-08-02T23:08:23.084Z"
   },
   {
    "duration": 5,
    "start_time": "2024-08-02T23:08:23.141Z"
   },
   {
    "duration": 25,
    "start_time": "2024-08-02T23:08:23.148Z"
   },
   {
    "duration": 60,
    "start_time": "2024-08-02T23:08:23.175Z"
   },
   {
    "duration": 17,
    "start_time": "2024-08-02T23:08:23.241Z"
   },
   {
    "duration": 9,
    "start_time": "2024-08-02T23:08:23.264Z"
   },
   {
    "duration": 6,
    "start_time": "2024-08-02T23:08:23.276Z"
   },
   {
    "duration": 6,
    "start_time": "2024-08-02T23:08:23.285Z"
   },
   {
    "duration": 43,
    "start_time": "2024-08-02T23:08:23.294Z"
   },
   {
    "duration": 7,
    "start_time": "2024-08-02T23:08:23.340Z"
   },
   {
    "duration": 201,
    "start_time": "2024-08-02T23:08:23.350Z"
   },
   {
    "duration": 7,
    "start_time": "2024-08-02T23:08:23.555Z"
   },
   {
    "duration": 5,
    "start_time": "2024-08-02T23:08:23.564Z"
   },
   {
    "duration": 5,
    "start_time": "2024-08-02T23:08:23.572Z"
   },
   {
    "duration": 5,
    "start_time": "2024-08-02T23:08:23.580Z"
   },
   {
    "duration": 5,
    "start_time": "2024-08-02T23:08:23.632Z"
   },
   {
    "duration": 6,
    "start_time": "2024-08-02T23:08:23.641Z"
   },
   {
    "duration": 7,
    "start_time": "2024-08-02T23:08:23.651Z"
   },
   {
    "duration": 6,
    "start_time": "2024-08-02T23:08:23.661Z"
   },
   {
    "duration": 4,
    "start_time": "2024-08-02T23:08:23.676Z"
   },
   {
    "duration": 6,
    "start_time": "2024-08-02T23:08:23.732Z"
   },
   {
    "duration": 5,
    "start_time": "2024-08-02T23:08:23.742Z"
   },
   {
    "duration": 8,
    "start_time": "2024-08-02T23:08:23.750Z"
   },
   {
    "duration": 4,
    "start_time": "2024-08-02T23:08:23.762Z"
   },
   {
    "duration": 8,
    "start_time": "2024-08-02T23:08:23.769Z"
   },
   {
    "duration": 56,
    "start_time": "2024-08-02T23:08:23.779Z"
   },
   {
    "duration": 7,
    "start_time": "2024-08-02T23:08:23.839Z"
   },
   {
    "duration": 4,
    "start_time": "2024-08-02T23:08:23.850Z"
   },
   {
    "duration": 7,
    "start_time": "2024-08-02T23:08:23.857Z"
   },
   {
    "duration": 10,
    "start_time": "2024-08-02T23:08:23.868Z"
   },
   {
    "duration": 55,
    "start_time": "2024-08-02T23:08:23.881Z"
   },
   {
    "duration": 4,
    "start_time": "2024-08-02T23:08:23.939Z"
   },
   {
    "duration": 6,
    "start_time": "2024-08-02T23:08:23.946Z"
   },
   {
    "duration": 6,
    "start_time": "2024-08-02T23:08:23.955Z"
   },
   {
    "duration": 7,
    "start_time": "2024-08-02T23:08:23.965Z"
   },
   {
    "duration": 5,
    "start_time": "2024-08-02T23:08:23.976Z"
   },
   {
    "duration": 9,
    "start_time": "2024-08-02T23:08:24.034Z"
   },
   {
    "duration": 5,
    "start_time": "2024-08-02T23:08:24.047Z"
   },
   {
    "duration": 8,
    "start_time": "2024-08-02T23:08:24.055Z"
   },
   {
    "duration": 5,
    "start_time": "2024-08-02T23:08:24.066Z"
   },
   {
    "duration": 59,
    "start_time": "2024-08-02T23:08:24.074Z"
   },
   {
    "duration": 6,
    "start_time": "2024-08-02T23:08:24.135Z"
   },
   {
    "duration": 8,
    "start_time": "2024-08-02T23:08:24.145Z"
   },
   {
    "duration": 4,
    "start_time": "2024-08-02T23:08:24.156Z"
   },
   {
    "duration": 6,
    "start_time": "2024-08-02T23:08:24.164Z"
   },
   {
    "duration": 6,
    "start_time": "2024-08-02T23:08:24.173Z"
   },
   {
    "duration": 7,
    "start_time": "2024-08-02T23:08:24.232Z"
   },
   {
    "duration": 7,
    "start_time": "2024-08-02T23:08:24.243Z"
   },
   {
    "duration": 5,
    "start_time": "2024-08-02T23:08:24.254Z"
   },
   {
    "duration": 9,
    "start_time": "2024-08-02T23:08:24.262Z"
   },
   {
    "duration": 73,
    "start_time": "2024-08-02T23:08:24.275Z"
   },
   {
    "duration": 16,
    "start_time": "2024-08-02T23:08:24.351Z"
   },
   {
    "duration": 6,
    "start_time": "2024-08-02T23:08:24.370Z"
   },
   {
    "duration": 8,
    "start_time": "2024-08-02T23:08:24.379Z"
   },
   {
    "duration": 43,
    "start_time": "2024-08-02T23:08:24.393Z"
   },
   {
    "duration": 23,
    "start_time": "2024-08-02T23:08:24.439Z"
   },
   {
    "duration": 4,
    "start_time": "2024-08-02T23:08:24.465Z"
   },
   {
    "duration": 21,
    "start_time": "2024-08-02T23:08:24.472Z"
   },
   {
    "duration": 689,
    "start_time": "2024-08-02T23:09:52.210Z"
   },
   {
    "duration": 103,
    "start_time": "2024-08-02T23:09:52.903Z"
   },
   {
    "duration": 7,
    "start_time": "2024-08-02T23:09:53.009Z"
   },
   {
    "duration": 15,
    "start_time": "2024-08-02T23:09:53.018Z"
   },
   {
    "duration": 7,
    "start_time": "2024-08-02T23:09:53.038Z"
   },
   {
    "duration": 6,
    "start_time": "2024-08-02T23:09:53.048Z"
   },
   {
    "duration": 34,
    "start_time": "2024-08-02T23:09:53.057Z"
   },
   {
    "duration": 63,
    "start_time": "2024-08-02T23:09:53.094Z"
   },
   {
    "duration": 23,
    "start_time": "2024-08-02T23:09:53.160Z"
   },
   {
    "duration": 56,
    "start_time": "2024-08-02T23:09:53.185Z"
   },
   {
    "duration": 8,
    "start_time": "2024-08-02T23:09:53.244Z"
   },
   {
    "duration": 6,
    "start_time": "2024-08-02T23:09:53.255Z"
   },
   {
    "duration": 8,
    "start_time": "2024-08-02T23:09:53.264Z"
   },
   {
    "duration": 51,
    "start_time": "2024-08-02T23:09:53.281Z"
   },
   {
    "duration": 234,
    "start_time": "2024-08-02T23:09:53.335Z"
   },
   {
    "duration": 6,
    "start_time": "2024-08-02T23:09:53.572Z"
   },
   {
    "duration": 4,
    "start_time": "2024-08-02T23:09:53.581Z"
   },
   {
    "duration": 285,
    "start_time": "2024-08-02T23:09:53.589Z"
   },
   {
    "duration": 9,
    "start_time": "2024-08-02T23:09:53.877Z"
   },
   {
    "duration": 7,
    "start_time": "2024-08-02T23:09:53.890Z"
   },
   {
    "duration": 34,
    "start_time": "2024-08-02T23:09:53.900Z"
   },
   {
    "duration": 9,
    "start_time": "2024-08-02T23:09:53.937Z"
   },
   {
    "duration": 10,
    "start_time": "2024-08-02T23:09:53.949Z"
   },
   {
    "duration": 7,
    "start_time": "2024-08-02T23:09:53.962Z"
   },
   {
    "duration": 8,
    "start_time": "2024-08-02T23:09:53.973Z"
   },
   {
    "duration": 6,
    "start_time": "2024-08-02T23:09:54.032Z"
   },
   {
    "duration": 9,
    "start_time": "2024-08-02T23:09:54.041Z"
   },
   {
    "duration": 6,
    "start_time": "2024-08-02T23:09:54.052Z"
   },
   {
    "duration": 7,
    "start_time": "2024-08-02T23:09:54.061Z"
   },
   {
    "duration": 6,
    "start_time": "2024-08-02T23:09:54.071Z"
   },
   {
    "duration": 56,
    "start_time": "2024-08-02T23:09:54.081Z"
   },
   {
    "duration": 6,
    "start_time": "2024-08-02T23:09:54.140Z"
   },
   {
    "duration": 8,
    "start_time": "2024-08-02T23:09:54.149Z"
   },
   {
    "duration": 7,
    "start_time": "2024-08-02T23:09:54.160Z"
   },
   {
    "duration": 11,
    "start_time": "2024-08-02T23:09:54.170Z"
   },
   {
    "duration": 54,
    "start_time": "2024-08-02T23:09:54.183Z"
   },
   {
    "duration": 6,
    "start_time": "2024-08-02T23:09:54.241Z"
   },
   {
    "duration": 7,
    "start_time": "2024-08-02T23:09:54.250Z"
   },
   {
    "duration": 8,
    "start_time": "2024-08-02T23:09:54.260Z"
   },
   {
    "duration": 6,
    "start_time": "2024-08-02T23:09:54.272Z"
   },
   {
    "duration": 7,
    "start_time": "2024-08-02T23:09:54.337Z"
   },
   {
    "duration": 6,
    "start_time": "2024-08-02T23:09:54.348Z"
   },
   {
    "duration": 9,
    "start_time": "2024-08-02T23:09:54.357Z"
   },
   {
    "duration": 5,
    "start_time": "2024-08-02T23:09:54.369Z"
   },
   {
    "duration": 55,
    "start_time": "2024-08-02T23:09:54.377Z"
   },
   {
    "duration": 6,
    "start_time": "2024-08-02T23:09:54.437Z"
   },
   {
    "duration": 9,
    "start_time": "2024-08-02T23:09:54.446Z"
   },
   {
    "duration": 5,
    "start_time": "2024-08-02T23:09:54.458Z"
   },
   {
    "duration": 7,
    "start_time": "2024-08-02T23:09:54.467Z"
   },
   {
    "duration": 6,
    "start_time": "2024-08-02T23:09:54.477Z"
   },
   {
    "duration": 8,
    "start_time": "2024-08-02T23:09:54.535Z"
   },
   {
    "duration": 9,
    "start_time": "2024-08-02T23:09:54.545Z"
   },
   {
    "duration": 5,
    "start_time": "2024-08-02T23:09:54.557Z"
   },
   {
    "duration": 7,
    "start_time": "2024-08-02T23:09:54.565Z"
   },
   {
    "duration": 69,
    "start_time": "2024-08-02T23:09:54.575Z"
   },
   {
    "duration": 22,
    "start_time": "2024-08-02T23:09:54.647Z"
   },
   {
    "duration": 9,
    "start_time": "2024-08-02T23:09:54.671Z"
   },
   {
    "duration": 52,
    "start_time": "2024-08-02T23:09:54.682Z"
   },
   {
    "duration": 9,
    "start_time": "2024-08-02T23:09:54.738Z"
   },
   {
    "duration": 31,
    "start_time": "2024-08-02T23:09:54.751Z"
   },
   {
    "duration": 4,
    "start_time": "2024-08-02T23:09:54.787Z"
   },
   {
    "duration": 67,
    "start_time": "2024-08-02T23:09:54.795Z"
   },
   {
    "duration": 7,
    "start_time": "2024-08-02T23:24:50.830Z"
   },
   {
    "duration": 6,
    "start_time": "2024-08-02T23:24:53.506Z"
   },
   {
    "duration": 7,
    "start_time": "2024-08-02T23:30:31.787Z"
   },
   {
    "duration": 6,
    "start_time": "2024-08-02T23:31:34.970Z"
   },
   {
    "duration": 443,
    "start_time": "2024-08-03T01:39:55.605Z"
   },
   {
    "duration": 1999,
    "start_time": "2024-08-03T01:40:15.766Z"
   },
   {
    "duration": 7,
    "start_time": "2024-08-03T01:40:33.572Z"
   },
   {
    "duration": 25,
    "start_time": "2024-08-03T01:40:38.523Z"
   },
   {
    "duration": 4,
    "start_time": "2024-08-03T02:05:57.610Z"
   },
   {
    "duration": 30,
    "start_time": "2024-08-03T02:05:58.300Z"
   },
   {
    "duration": 19,
    "start_time": "2024-08-03T02:06:44.221Z"
   },
   {
    "duration": 906,
    "start_time": "2024-08-03T02:07:23.187Z"
   },
   {
    "duration": 23,
    "start_time": "2024-08-03T02:07:30.184Z"
   },
   {
    "duration": 22,
    "start_time": "2024-08-03T02:07:52.487Z"
   },
   {
    "duration": 1045,
    "start_time": "2024-08-03T02:08:50.068Z"
   },
   {
    "duration": 6,
    "start_time": "2024-08-03T02:10:35.197Z"
   },
   {
    "duration": 74,
    "start_time": "2024-08-03T02:10:51.726Z"
   },
   {
    "duration": 23,
    "start_time": "2024-08-03T02:11:06.033Z"
   },
   {
    "duration": 22,
    "start_time": "2024-08-03T02:11:10.952Z"
   },
   {
    "duration": 7,
    "start_time": "2024-08-03T02:11:17.931Z"
   },
   {
    "duration": 6,
    "start_time": "2024-08-03T02:12:42.180Z"
   },
   {
    "duration": 6,
    "start_time": "2024-08-03T02:16:36.778Z"
   },
   {
    "duration": 30,
    "start_time": "2024-08-03T02:17:53.752Z"
   },
   {
    "duration": 7,
    "start_time": "2024-08-03T02:21:42.026Z"
   },
   {
    "duration": 6,
    "start_time": "2024-08-03T02:21:47.880Z"
   },
   {
    "duration": 4,
    "start_time": "2024-08-03T02:22:24.694Z"
   },
   {
    "duration": 4,
    "start_time": "2024-08-03T02:24:51.540Z"
   },
   {
    "duration": 31,
    "start_time": "2024-08-03T02:24:51.820Z"
   },
   {
    "duration": 6,
    "start_time": "2024-08-03T02:25:05.457Z"
   },
   {
    "duration": 3,
    "start_time": "2024-08-03T02:26:01.680Z"
   },
   {
    "duration": 30,
    "start_time": "2024-08-03T02:26:02.143Z"
   },
   {
    "duration": 6,
    "start_time": "2024-08-03T02:26:02.518Z"
   },
   {
    "duration": 4316,
    "start_time": "2024-08-03T03:32:10.023Z"
   },
   {
    "duration": 78,
    "start_time": "2024-08-03T03:32:14.343Z"
   },
   {
    "duration": 11,
    "start_time": "2024-08-03T03:32:16.388Z"
   },
   {
    "duration": 6,
    "start_time": "2024-08-03T03:32:17.124Z"
   },
   {
    "duration": 5,
    "start_time": "2024-08-03T03:32:17.280Z"
   },
   {
    "duration": 6,
    "start_time": "2024-08-03T03:32:17.887Z"
   },
   {
    "duration": 33,
    "start_time": "2024-08-03T03:32:19.315Z"
   },
   {
    "duration": 27,
    "start_time": "2024-08-03T03:32:21.678Z"
   },
   {
    "duration": 23,
    "start_time": "2024-08-03T03:32:25.728Z"
   },
   {
    "duration": 21,
    "start_time": "2024-08-03T03:32:27.757Z"
   },
   {
    "duration": 8,
    "start_time": "2024-08-03T03:32:36.246Z"
   },
   {
    "duration": 6,
    "start_time": "2024-08-03T03:32:36.739Z"
   },
   {
    "duration": 8,
    "start_time": "2024-08-03T03:32:38.067Z"
   },
   {
    "duration": 6,
    "start_time": "2024-08-03T03:32:38.917Z"
   },
   {
    "duration": 206,
    "start_time": "2024-08-03T03:32:40.238Z"
   },
   {
    "duration": 6,
    "start_time": "2024-08-03T03:32:40.804Z"
   },
   {
    "duration": 4,
    "start_time": "2024-08-03T03:33:27.446Z"
   },
   {
    "duration": 219,
    "start_time": "2024-08-03T03:33:31.973Z"
   },
   {
    "duration": 8,
    "start_time": "2024-08-03T03:33:54.207Z"
   },
   {
    "duration": 6,
    "start_time": "2024-08-03T03:33:57.218Z"
   },
   {
    "duration": 6,
    "start_time": "2024-08-03T03:34:04.151Z"
   },
   {
    "duration": 8,
    "start_time": "2024-08-03T03:34:04.700Z"
   },
   {
    "duration": 7,
    "start_time": "2024-08-03T03:34:05.291Z"
   },
   {
    "duration": 5,
    "start_time": "2024-08-03T03:34:06.764Z"
   },
   {
    "duration": 6,
    "start_time": "2024-08-03T03:34:07.075Z"
   },
   {
    "duration": 6,
    "start_time": "2024-08-03T03:34:07.812Z"
   },
   {
    "duration": 8,
    "start_time": "2024-08-03T03:34:07.972Z"
   },
   {
    "duration": 5,
    "start_time": "2024-08-03T03:34:08.125Z"
   },
   {
    "duration": 6,
    "start_time": "2024-08-03T03:34:08.276Z"
   },
   {
    "duration": 5,
    "start_time": "2024-08-03T03:34:08.413Z"
   },
   {
    "duration": 7,
    "start_time": "2024-08-03T03:34:08.562Z"
   },
   {
    "duration": 7,
    "start_time": "2024-08-03T03:34:08.691Z"
   },
   {
    "duration": 7,
    "start_time": "2024-08-03T03:34:08.829Z"
   },
   {
    "duration": 6,
    "start_time": "2024-08-03T03:34:08.962Z"
   },
   {
    "duration": 7,
    "start_time": "2024-08-03T03:34:09.095Z"
   },
   {
    "duration": 5,
    "start_time": "2024-08-03T03:34:09.228Z"
   },
   {
    "duration": 7,
    "start_time": "2024-08-03T03:34:09.369Z"
   },
   {
    "duration": 5,
    "start_time": "2024-08-03T03:34:09.504Z"
   },
   {
    "duration": 8,
    "start_time": "2024-08-03T03:34:09.689Z"
   },
   {
    "duration": 6,
    "start_time": "2024-08-03T03:34:09.848Z"
   },
   {
    "duration": 7,
    "start_time": "2024-08-03T03:34:09.983Z"
   },
   {
    "duration": 9,
    "start_time": "2024-08-03T03:34:10.124Z"
   },
   {
    "duration": 7,
    "start_time": "2024-08-03T03:34:10.322Z"
   },
   {
    "duration": 4,
    "start_time": "2024-08-03T03:34:10.491Z"
   },
   {
    "duration": 7,
    "start_time": "2024-08-03T03:34:10.671Z"
   },
   {
    "duration": 7,
    "start_time": "2024-08-03T03:34:10.849Z"
   },
   {
    "duration": 8,
    "start_time": "2024-08-03T03:34:11.009Z"
   },
   {
    "duration": 4,
    "start_time": "2024-08-03T03:34:11.131Z"
   },
   {
    "duration": 7,
    "start_time": "2024-08-03T03:34:11.285Z"
   },
   {
    "duration": 6,
    "start_time": "2024-08-03T03:34:11.460Z"
   },
   {
    "duration": 6,
    "start_time": "2024-08-03T03:34:11.663Z"
   },
   {
    "duration": 7,
    "start_time": "2024-08-03T03:34:11.831Z"
   },
   {
    "duration": 4,
    "start_time": "2024-08-03T03:34:11.954Z"
   },
   {
    "duration": 7,
    "start_time": "2024-08-03T03:34:12.076Z"
   },
   {
    "duration": 25,
    "start_time": "2024-08-03T03:34:12.275Z"
   },
   {
    "duration": 20,
    "start_time": "2024-08-03T03:34:15.943Z"
   },
   {
    "duration": 8,
    "start_time": "2024-08-03T03:34:41.405Z"
   },
   {
    "duration": 8,
    "start_time": "2024-08-03T03:34:42.216Z"
   },
   {
    "duration": 166,
    "start_time": "2024-08-03T03:37:19.558Z"
   },
   {
    "duration": 6,
    "start_time": "2024-08-03T03:40:04.368Z"
   },
   {
    "duration": 716,
    "start_time": "2024-08-03T04:05:23.257Z"
   },
   {
    "duration": 780,
    "start_time": "2024-08-03T04:20:42.555Z"
   },
   {
    "duration": 1381,
    "start_time": "2024-08-03T04:30:27.226Z"
   },
   {
    "duration": 66,
    "start_time": "2024-08-03T04:30:43.477Z"
   },
   {
    "duration": 8,
    "start_time": "2024-08-03T04:34:05.333Z"
   },
   {
    "duration": 6,
    "start_time": "2024-08-03T04:34:20.079Z"
   },
   {
    "duration": 5,
    "start_time": "2024-08-03T04:43:01.732Z"
   },
   {
    "duration": 30,
    "start_time": "2024-08-03T04:43:28.132Z"
   },
   {
    "duration": 26,
    "start_time": "2024-08-03T04:43:51.932Z"
   },
   {
    "duration": 13,
    "start_time": "2024-08-03T04:50:10.776Z"
   },
   {
    "duration": 28,
    "start_time": "2024-08-03T04:50:12.409Z"
   },
   {
    "duration": 5,
    "start_time": "2024-08-03T04:53:17.468Z"
   },
   {
    "duration": 10,
    "start_time": "2024-08-03T04:54:30.892Z"
   },
   {
    "duration": 6,
    "start_time": "2024-08-03T04:54:31.297Z"
   },
   {
    "duration": 3,
    "start_time": "2024-08-03T04:54:43.684Z"
   },
   {
    "duration": 22,
    "start_time": "2024-08-03T05:09:27.684Z"
   },
   {
    "duration": 51,
    "start_time": "2024-08-03T05:10:00.257Z"
   },
   {
    "duration": 6,
    "start_time": "2024-08-03T05:12:43.749Z"
   },
   {
    "duration": 11,
    "start_time": "2024-08-03T05:13:03.931Z"
   },
   {
    "duration": 43,
    "start_time": "2024-08-03T05:15:40.856Z"
   },
   {
    "duration": 4,
    "start_time": "2024-08-03T05:21:56.370Z"
   },
   {
    "duration": 1193,
    "start_time": "2024-08-03T05:24:53.420Z"
   },
   {
    "duration": 5,
    "start_time": "2024-08-03T05:30:27.384Z"
   },
   {
    "duration": 10,
    "start_time": "2024-08-03T05:32:06.216Z"
   },
   {
    "duration": 857,
    "start_time": "2024-08-03T05:33:09.906Z"
   },
   {
    "duration": 6,
    "start_time": "2024-08-03T05:35:03.231Z"
   },
   {
    "duration": 25,
    "start_time": "2024-08-03T05:50:54.194Z"
   },
   {
    "duration": 4,
    "start_time": "2024-08-03T05:51:23.564Z"
   },
   {
    "duration": 296,
    "start_time": "2024-08-03T05:51:29.869Z"
   },
   {
    "duration": 25,
    "start_time": "2024-08-03T05:54:14.488Z"
   },
   {
    "duration": 5,
    "start_time": "2024-08-03T05:54:40.409Z"
   },
   {
    "duration": 11,
    "start_time": "2024-08-03T05:54:40.918Z"
   },
   {
    "duration": 5,
    "start_time": "2024-08-03T05:54:59.698Z"
   },
   {
    "duration": 117,
    "start_time": "2024-08-03T05:55:23.527Z"
   },
   {
    "duration": 3,
    "start_time": "2024-08-03T05:56:44.030Z"
   },
   {
    "duration": 25,
    "start_time": "2024-08-03T05:57:05.251Z"
   },
   {
    "duration": 6,
    "start_time": "2024-08-03T05:57:29.397Z"
   },
   {
    "duration": 4,
    "start_time": "2024-08-03T05:57:55.849Z"
   },
   {
    "duration": 26,
    "start_time": "2024-08-03T05:58:21.620Z"
   },
   {
    "duration": 61,
    "start_time": "2024-08-03T06:02:30.706Z"
   },
   {
    "duration": 9,
    "start_time": "2024-08-03T06:02:56.903Z"
   },
   {
    "duration": 21,
    "start_time": "2024-08-03T06:03:03.164Z"
   },
   {
    "duration": 15,
    "start_time": "2024-08-03T06:03:40.776Z"
   },
   {
    "duration": 25,
    "start_time": "2024-08-03T06:04:04.923Z"
   },
   {
    "duration": 3,
    "start_time": "2024-08-03T06:04:32.249Z"
   },
   {
    "duration": 24,
    "start_time": "2024-08-03T06:04:42.095Z"
   },
   {
    "duration": 254,
    "start_time": "2024-08-03T06:06:26.101Z"
   },
   {
    "duration": 24,
    "start_time": "2024-08-03T06:41:19.110Z"
   },
   {
    "duration": 6,
    "start_time": "2024-08-03T06:41:28.373Z"
   },
   {
    "duration": 50,
    "start_time": "2024-08-03T06:41:28.527Z"
   },
   {
    "duration": 6,
    "start_time": "2024-08-03T06:41:29.274Z"
   },
   {
    "duration": 5,
    "start_time": "2024-08-03T06:41:29.297Z"
   },
   {
    "duration": 5,
    "start_time": "2024-08-03T06:41:29.327Z"
   },
   {
    "duration": 6,
    "start_time": "2024-08-03T06:41:29.371Z"
   },
   {
    "duration": 32,
    "start_time": "2024-08-03T06:41:29.396Z"
   },
   {
    "duration": 24,
    "start_time": "2024-08-03T06:41:29.439Z"
   },
   {
    "duration": 20,
    "start_time": "2024-08-03T06:41:29.471Z"
   },
   {
    "duration": 35,
    "start_time": "2024-08-03T06:41:29.497Z"
   },
   {
    "duration": 7,
    "start_time": "2024-08-03T06:41:29.611Z"
   },
   {
    "duration": 6,
    "start_time": "2024-08-03T06:41:29.777Z"
   },
   {
    "duration": 8,
    "start_time": "2024-08-03T06:41:29.786Z"
   },
   {
    "duration": 8,
    "start_time": "2024-08-03T06:41:29.797Z"
   },
   {
    "duration": 195,
    "start_time": "2024-08-03T06:41:29.906Z"
   },
   {
    "duration": 6,
    "start_time": "2024-08-03T06:41:30.104Z"
   },
   {
    "duration": 4,
    "start_time": "2024-08-03T06:41:30.230Z"
   },
   {
    "duration": 333,
    "start_time": "2024-08-03T06:41:30.362Z"
   },
   {
    "duration": 8,
    "start_time": "2024-08-03T06:41:30.698Z"
   },
   {
    "duration": 22,
    "start_time": "2024-08-03T06:41:30.708Z"
   },
   {
    "duration": 6,
    "start_time": "2024-08-03T06:41:31.192Z"
   },
   {
    "duration": 8,
    "start_time": "2024-08-03T06:41:31.236Z"
   },
   {
    "duration": 7,
    "start_time": "2024-08-03T06:41:31.262Z"
   },
   {
    "duration": 5,
    "start_time": "2024-08-03T06:41:31.330Z"
   },
   {
    "duration": 7,
    "start_time": "2024-08-03T06:41:31.357Z"
   },
   {
    "duration": 6,
    "start_time": "2024-08-03T06:41:31.409Z"
   },
   {
    "duration": 8,
    "start_time": "2024-08-03T06:41:31.442Z"
   },
   {
    "duration": 5,
    "start_time": "2024-08-03T06:41:31.458Z"
   },
   {
    "duration": 6,
    "start_time": "2024-08-03T06:41:31.493Z"
   },
   {
    "duration": 7,
    "start_time": "2024-08-03T06:41:31.532Z"
   },
   {
    "duration": 8,
    "start_time": "2024-08-03T06:41:31.556Z"
   },
   {
    "duration": 9,
    "start_time": "2024-08-03T06:41:31.589Z"
   },
   {
    "duration": 7,
    "start_time": "2024-08-03T06:41:31.625Z"
   },
   {
    "duration": 7,
    "start_time": "2024-08-03T06:41:31.656Z"
   },
   {
    "duration": 8,
    "start_time": "2024-08-03T06:41:31.695Z"
   },
   {
    "duration": 5,
    "start_time": "2024-08-03T06:41:31.729Z"
   },
   {
    "duration": 9,
    "start_time": "2024-08-03T06:41:31.757Z"
   },
   {
    "duration": 9,
    "start_time": "2024-08-03T06:41:31.789Z"
   },
   {
    "duration": 8,
    "start_time": "2024-08-03T06:41:31.901Z"
   },
   {
    "duration": 5,
    "start_time": "2024-08-03T06:41:32.053Z"
   },
   {
    "duration": 6,
    "start_time": "2024-08-03T06:41:32.203Z"
   },
   {
    "duration": 6,
    "start_time": "2024-08-03T06:41:32.347Z"
   },
   {
    "duration": 8,
    "start_time": "2024-08-03T06:41:32.494Z"
   },
   {
    "duration": 6,
    "start_time": "2024-08-03T06:41:32.652Z"
   },
   {
    "duration": 7,
    "start_time": "2024-08-03T06:41:32.789Z"
   },
   {
    "duration": 8,
    "start_time": "2024-08-03T06:41:32.946Z"
   },
   {
    "duration": 8,
    "start_time": "2024-08-03T06:41:33.092Z"
   },
   {
    "duration": 5,
    "start_time": "2024-08-03T06:41:33.240Z"
   },
   {
    "duration": 7,
    "start_time": "2024-08-03T06:41:33.391Z"
   },
   {
    "duration": 5,
    "start_time": "2024-08-03T06:41:33.547Z"
   },
   {
    "duration": 7,
    "start_time": "2024-08-03T06:41:33.705Z"
   },
   {
    "duration": 8,
    "start_time": "2024-08-03T06:41:33.863Z"
   },
   {
    "duration": 5,
    "start_time": "2024-08-03T06:41:34.026Z"
   },
   {
    "duration": 6,
    "start_time": "2024-08-03T06:41:34.178Z"
   },
   {
    "duration": 24,
    "start_time": "2024-08-03T06:41:34.338Z"
   },
   {
    "duration": 22,
    "start_time": "2024-08-03T06:41:35.062Z"
   },
   {
    "duration": 8,
    "start_time": "2024-08-03T06:41:35.552Z"
   },
   {
    "duration": 8,
    "start_time": "2024-08-03T06:41:36.447Z"
   },
   {
    "duration": 157,
    "start_time": "2024-08-03T06:41:36.951Z"
   },
   {
    "duration": 6,
    "start_time": "2024-08-03T06:41:38.617Z"
   },
   {
    "duration": 31,
    "start_time": "2024-08-03T06:41:40.816Z"
   },
   {
    "duration": 24,
    "start_time": "2024-08-03T06:41:42.485Z"
   },
   {
    "duration": 6,
    "start_time": "2024-08-03T06:41:43.747Z"
   },
   {
    "duration": 8,
    "start_time": "2024-08-03T06:42:02.665Z"
   },
   {
    "duration": 7,
    "start_time": "2024-08-03T06:42:05.672Z"
   },
   {
    "duration": 30,
    "start_time": "2024-08-03T06:42:26.473Z"
   },
   {
    "duration": 6,
    "start_time": "2024-08-03T06:42:27.019Z"
   },
   {
    "duration": 29,
    "start_time": "2024-08-03T06:43:09.854Z"
   },
   {
    "duration": 6,
    "start_time": "2024-08-03T06:43:10.544Z"
   },
   {
    "duration": 7,
    "start_time": "2024-08-03T06:43:16.441Z"
   },
   {
    "duration": 11,
    "start_time": "2024-08-03T06:43:16.732Z"
   },
   {
    "duration": 6,
    "start_time": "2024-08-03T06:43:17.042Z"
   },
   {
    "duration": 4,
    "start_time": "2024-08-03T06:43:27.518Z"
   },
   {
    "duration": 24,
    "start_time": "2024-08-03T06:43:28.050Z"
   },
   {
    "duration": 134,
    "start_time": "2024-08-03T06:43:38.138Z"
   },
   {
    "duration": 111,
    "start_time": "2024-08-03T06:44:01.181Z"
   },
   {
    "duration": 76,
    "start_time": "2024-08-03T06:44:52.894Z"
   },
   {
    "duration": 5,
    "start_time": "2024-08-03T06:45:16.779Z"
   },
   {
    "duration": 49,
    "start_time": "2024-08-03T06:45:16.939Z"
   },
   {
    "duration": 6,
    "start_time": "2024-08-03T06:45:17.212Z"
   },
   {
    "duration": 6,
    "start_time": "2024-08-03T06:45:17.356Z"
   },
   {
    "duration": 5,
    "start_time": "2024-08-03T06:45:17.507Z"
   },
   {
    "duration": 6,
    "start_time": "2024-08-03T06:45:17.628Z"
   },
   {
    "duration": 33,
    "start_time": "2024-08-03T06:45:17.768Z"
   },
   {
    "duration": 24,
    "start_time": "2024-08-03T06:45:17.911Z"
   },
   {
    "duration": 21,
    "start_time": "2024-08-03T06:45:18.051Z"
   },
   {
    "duration": 20,
    "start_time": "2024-08-03T06:45:18.184Z"
   },
   {
    "duration": 8,
    "start_time": "2024-08-03T06:45:18.627Z"
   },
   {
    "duration": 6,
    "start_time": "2024-08-03T06:45:18.768Z"
   },
   {
    "duration": 8,
    "start_time": "2024-08-03T06:45:18.925Z"
   },
   {
    "duration": 6,
    "start_time": "2024-08-03T06:45:19.073Z"
   },
   {
    "duration": 199,
    "start_time": "2024-08-03T06:45:19.212Z"
   },
   {
    "duration": 16,
    "start_time": "2024-08-03T06:45:19.415Z"
   },
   {
    "duration": 4,
    "start_time": "2024-08-03T06:45:19.655Z"
   },
   {
    "duration": 206,
    "start_time": "2024-08-03T06:45:19.843Z"
   },
   {
    "duration": 7,
    "start_time": "2024-08-03T06:45:20.053Z"
   },
   {
    "duration": 5,
    "start_time": "2024-08-03T06:45:20.136Z"
   },
   {
    "duration": 6,
    "start_time": "2024-08-03T06:45:20.591Z"
   },
   {
    "duration": 8,
    "start_time": "2024-08-03T06:45:20.739Z"
   },
   {
    "duration": 7,
    "start_time": "2024-08-03T06:45:20.880Z"
   },
   {
    "duration": 5,
    "start_time": "2024-08-03T06:45:21.184Z"
   },
   {
    "duration": 7,
    "start_time": "2024-08-03T06:45:21.343Z"
   },
   {
    "duration": 5,
    "start_time": "2024-08-03T06:45:21.497Z"
   },
   {
    "duration": 9,
    "start_time": "2024-08-03T06:45:21.636Z"
   },
   {
    "duration": 5,
    "start_time": "2024-08-03T06:45:21.796Z"
   },
   {
    "duration": 6,
    "start_time": "2024-08-03T06:45:21.966Z"
   },
   {
    "duration": 10,
    "start_time": "2024-08-03T06:45:22.124Z"
   },
   {
    "duration": 8,
    "start_time": "2024-08-03T06:45:22.295Z"
   },
   {
    "duration": 6,
    "start_time": "2024-08-03T06:45:22.493Z"
   },
   {
    "duration": 7,
    "start_time": "2024-08-03T06:45:22.683Z"
   },
   {
    "duration": 6,
    "start_time": "2024-08-03T06:45:22.871Z"
   },
   {
    "duration": 10,
    "start_time": "2024-08-03T06:45:23.028Z"
   },
   {
    "duration": 6,
    "start_time": "2024-08-03T06:45:23.178Z"
   },
   {
    "duration": 7,
    "start_time": "2024-08-03T06:45:23.324Z"
   },
   {
    "duration": 6,
    "start_time": "2024-08-03T06:45:23.479Z"
   },
   {
    "duration": 8,
    "start_time": "2024-08-03T06:45:23.649Z"
   },
   {
    "duration": 5,
    "start_time": "2024-08-03T06:45:23.804Z"
   },
   {
    "duration": 7,
    "start_time": "2024-08-03T06:45:23.966Z"
   },
   {
    "duration": 7,
    "start_time": "2024-08-03T06:45:24.107Z"
   },
   {
    "duration": 8,
    "start_time": "2024-08-03T06:45:24.248Z"
   },
   {
    "duration": 5,
    "start_time": "2024-08-03T06:45:24.398Z"
   },
   {
    "duration": 6,
    "start_time": "2024-08-03T06:45:24.542Z"
   },
   {
    "duration": 7,
    "start_time": "2024-08-03T06:45:24.685Z"
   },
   {
    "duration": 9,
    "start_time": "2024-08-03T06:45:24.833Z"
   },
   {
    "duration": 5,
    "start_time": "2024-08-03T06:45:24.967Z"
   },
   {
    "duration": 7,
    "start_time": "2024-08-03T06:45:25.119Z"
   },
   {
    "duration": 6,
    "start_time": "2024-08-03T06:45:25.267Z"
   },
   {
    "duration": 6,
    "start_time": "2024-08-03T06:45:25.411Z"
   },
   {
    "duration": 8,
    "start_time": "2024-08-03T06:45:25.560Z"
   },
   {
    "duration": 5,
    "start_time": "2024-08-03T06:45:25.692Z"
   },
   {
    "duration": 6,
    "start_time": "2024-08-03T06:45:25.855Z"
   },
   {
    "duration": 23,
    "start_time": "2024-08-03T06:45:26.000Z"
   },
   {
    "duration": 21,
    "start_time": "2024-08-03T06:45:26.145Z"
   },
   {
    "duration": 8,
    "start_time": "2024-08-03T06:45:27.346Z"
   },
   {
    "duration": 8,
    "start_time": "2024-08-03T06:45:28.166Z"
   },
   {
    "duration": 166,
    "start_time": "2024-08-03T06:45:28.805Z"
   },
   {
    "duration": 6,
    "start_time": "2024-08-03T06:45:30.975Z"
   },
   {
    "duration": 32,
    "start_time": "2024-08-03T06:45:31.836Z"
   },
   {
    "duration": 8,
    "start_time": "2024-08-03T06:45:33.509Z"
   },
   {
    "duration": 6,
    "start_time": "2024-08-03T06:45:35.771Z"
   },
   {
    "duration": 29,
    "start_time": "2024-08-03T06:45:46.552Z"
   },
   {
    "duration": 6,
    "start_time": "2024-08-03T06:45:47.388Z"
   },
   {
    "duration": 7,
    "start_time": "2024-08-03T06:45:57.398Z"
   },
   {
    "duration": 10,
    "start_time": "2024-08-03T06:45:57.794Z"
   },
   {
    "duration": 6,
    "start_time": "2024-08-03T06:45:58.430Z"
   },
   {
    "duration": 14,
    "start_time": "2024-08-03T06:46:06.248Z"
   },
   {
    "duration": 24,
    "start_time": "2024-08-03T06:47:07.828Z"
   },
   {
    "duration": 161,
    "start_time": "2024-08-03T06:48:20.383Z"
   },
   {
    "duration": 4,
    "start_time": "2024-08-03T06:51:35.622Z"
   },
   {
    "duration": 10,
    "start_time": "2024-08-03T06:52:40.747Z"
   },
   {
    "duration": 9,
    "start_time": "2024-08-03T06:53:03.973Z"
   },
   {
    "duration": 7,
    "start_time": "2024-08-03T06:54:21.197Z"
   },
   {
    "duration": 7,
    "start_time": "2024-08-03T06:56:26.658Z"
   },
   {
    "duration": 31,
    "start_time": "2024-08-03T06:57:54.058Z"
   },
   {
    "duration": 6,
    "start_time": "2024-08-03T06:58:21.791Z"
   },
   {
    "duration": 8,
    "start_time": "2024-08-03T06:58:31.893Z"
   },
   {
    "duration": 7,
    "start_time": "2024-08-03T06:58:59.823Z"
   },
   {
    "duration": 31,
    "start_time": "2024-08-03T06:59:08.769Z"
   },
   {
    "duration": 6,
    "start_time": "2024-08-03T07:00:09.104Z"
   },
   {
    "duration": 24,
    "start_time": "2024-08-03T07:00:21.322Z"
   },
   {
    "duration": 21,
    "start_time": "2024-08-03T07:00:45.350Z"
   },
   {
    "duration": 5,
    "start_time": "2024-08-03T07:02:19.242Z"
   },
   {
    "duration": 14,
    "start_time": "2024-08-03T07:02:30.333Z"
   },
   {
    "duration": 6,
    "start_time": "2024-08-03T07:06:37.126Z"
   },
   {
    "duration": 51,
    "start_time": "2024-08-03T07:06:37.266Z"
   },
   {
    "duration": 5,
    "start_time": "2024-08-03T07:06:37.581Z"
   },
   {
    "duration": 5,
    "start_time": "2024-08-03T07:06:37.737Z"
   },
   {
    "duration": 5,
    "start_time": "2024-08-03T07:06:37.887Z"
   },
   {
    "duration": 6,
    "start_time": "2024-08-03T07:06:38.050Z"
   },
   {
    "duration": 31,
    "start_time": "2024-08-03T07:06:38.204Z"
   },
   {
    "duration": 24,
    "start_time": "2024-08-03T07:06:38.709Z"
   },
   {
    "duration": 22,
    "start_time": "2024-08-03T07:06:38.736Z"
   },
   {
    "duration": 20,
    "start_time": "2024-08-03T07:06:38.764Z"
   },
   {
    "duration": 10,
    "start_time": "2024-08-03T07:06:38.866Z"
   },
   {
    "duration": 6,
    "start_time": "2024-08-03T07:06:38.971Z"
   },
   {
    "duration": 9,
    "start_time": "2024-08-03T07:06:39.126Z"
   },
   {
    "duration": 6,
    "start_time": "2024-08-03T07:06:39.287Z"
   },
   {
    "duration": 198,
    "start_time": "2024-08-03T07:06:39.435Z"
   },
   {
    "duration": 7,
    "start_time": "2024-08-03T07:06:39.637Z"
   },
   {
    "duration": 5,
    "start_time": "2024-08-03T07:06:40.225Z"
   },
   {
    "duration": 203,
    "start_time": "2024-08-03T07:06:40.251Z"
   },
   {
    "duration": 8,
    "start_time": "2024-08-03T07:06:40.457Z"
   },
   {
    "duration": 7,
    "start_time": "2024-08-03T07:06:40.468Z"
   },
   {
    "duration": 7,
    "start_time": "2024-08-03T07:06:40.479Z"
   },
   {
    "duration": 45,
    "start_time": "2024-08-03T07:06:40.489Z"
   },
   {
    "duration": 8,
    "start_time": "2024-08-03T07:06:40.538Z"
   },
   {
    "duration": 5,
    "start_time": "2024-08-03T07:06:40.553Z"
   },
   {
    "duration": 6,
    "start_time": "2024-08-03T07:06:40.678Z"
   },
   {
    "duration": 7,
    "start_time": "2024-08-03T07:06:40.839Z"
   },
   {
    "duration": 10,
    "start_time": "2024-08-03T07:06:40.990Z"
   },
   {
    "duration": 5,
    "start_time": "2024-08-03T07:06:41.134Z"
   },
   {
    "duration": 6,
    "start_time": "2024-08-03T07:06:41.283Z"
   },
   {
    "duration": 6,
    "start_time": "2024-08-03T07:06:41.426Z"
   },
   {
    "duration": 8,
    "start_time": "2024-08-03T07:06:41.576Z"
   },
   {
    "duration": 6,
    "start_time": "2024-08-03T07:06:41.719Z"
   },
   {
    "duration": 7,
    "start_time": "2024-08-03T07:06:41.868Z"
   },
   {
    "duration": 8,
    "start_time": "2024-08-03T07:06:42.019Z"
   },
   {
    "duration": 8,
    "start_time": "2024-08-03T07:06:42.180Z"
   },
   {
    "duration": 10,
    "start_time": "2024-08-03T07:06:42.331Z"
   },
   {
    "duration": 7,
    "start_time": "2024-08-03T07:06:42.469Z"
   },
   {
    "duration": 7,
    "start_time": "2024-08-03T07:06:42.614Z"
   },
   {
    "duration": 8,
    "start_time": "2024-08-03T07:06:42.764Z"
   },
   {
    "duration": 4,
    "start_time": "2024-08-03T07:06:42.918Z"
   },
   {
    "duration": 6,
    "start_time": "2024-08-03T07:06:43.059Z"
   },
   {
    "duration": 7,
    "start_time": "2024-08-03T07:06:43.217Z"
   },
   {
    "duration": 7,
    "start_time": "2024-08-03T07:06:43.382Z"
   },
   {
    "duration": 5,
    "start_time": "2024-08-03T07:06:43.555Z"
   },
   {
    "duration": 8,
    "start_time": "2024-08-03T07:06:44.002Z"
   },
   {
    "duration": 6,
    "start_time": "2024-08-03T07:06:44.167Z"
   },
   {
    "duration": 8,
    "start_time": "2024-08-03T07:06:44.319Z"
   },
   {
    "duration": 5,
    "start_time": "2024-08-03T07:06:44.484Z"
   },
   {
    "duration": 7,
    "start_time": "2024-08-03T07:06:44.661Z"
   },
   {
    "duration": 6,
    "start_time": "2024-08-03T07:06:44.831Z"
   },
   {
    "duration": 6,
    "start_time": "2024-08-03T07:06:45.000Z"
   },
   {
    "duration": 8,
    "start_time": "2024-08-03T07:06:45.182Z"
   },
   {
    "duration": 5,
    "start_time": "2024-08-03T07:06:45.328Z"
   },
   {
    "duration": 6,
    "start_time": "2024-08-03T07:06:45.532Z"
   },
   {
    "duration": 24,
    "start_time": "2024-08-03T07:06:45.726Z"
   },
   {
    "duration": 22,
    "start_time": "2024-08-03T07:06:45.933Z"
   },
   {
    "duration": 7,
    "start_time": "2024-08-03T07:06:48.239Z"
   },
   {
    "duration": 15,
    "start_time": "2024-08-03T07:07:13.573Z"
   },
   {
    "duration": 23,
    "start_time": "2024-08-03T07:10:40.862Z"
   },
   {
    "duration": 172,
    "start_time": "2024-08-03T07:10:49.005Z"
   },
   {
    "duration": 79,
    "start_time": "2024-08-03T07:11:00.004Z"
   },
   {
    "duration": 6,
    "start_time": "2024-08-03T07:11:20.258Z"
   },
   {
    "duration": 14,
    "start_time": "2024-08-03T07:11:30.338Z"
   },
   {
    "duration": 9,
    "start_time": "2024-08-03T07:11:43.336Z"
   },
   {
    "duration": 8,
    "start_time": "2024-08-03T07:11:44.225Z"
   },
   {
    "duration": 159,
    "start_time": "2024-08-03T07:11:48.175Z"
   },
   {
    "duration": 6,
    "start_time": "2024-08-03T07:11:51.372Z"
   },
   {
    "duration": 32,
    "start_time": "2024-08-03T07:11:52.062Z"
   },
   {
    "duration": 8,
    "start_time": "2024-08-03T07:11:52.926Z"
   },
   {
    "duration": 6,
    "start_time": "2024-08-03T07:11:53.797Z"
   },
   {
    "duration": 29,
    "start_time": "2024-08-03T07:12:00.591Z"
   },
   {
    "duration": 6,
    "start_time": "2024-08-03T07:12:00.889Z"
   },
   {
    "duration": 6,
    "start_time": "2024-08-03T07:12:08.435Z"
   },
   {
    "duration": 11,
    "start_time": "2024-08-03T07:12:08.672Z"
   },
   {
    "duration": 5,
    "start_time": "2024-08-03T07:12:08.892Z"
   },
   {
    "duration": 13,
    "start_time": "2024-08-03T07:12:10.153Z"
   },
   {
    "duration": 31,
    "start_time": "2024-08-03T07:12:35.826Z"
   },
   {
    "duration": 5,
    "start_time": "2024-08-03T07:14:35.406Z"
   },
   {
    "duration": 4982,
    "start_time": "2024-08-03T23:02:55.697Z"
   },
   {
    "duration": 63,
    "start_time": "2024-08-03T23:03:00.683Z"
   },
   {
    "duration": 7,
    "start_time": "2024-08-03T23:03:11.942Z"
   },
   {
    "duration": 6,
    "start_time": "2024-08-03T23:03:12.224Z"
   },
   {
    "duration": 5,
    "start_time": "2024-08-03T23:03:12.551Z"
   },
   {
    "duration": 5,
    "start_time": "2024-08-03T23:03:13.263Z"
   },
   {
    "duration": 34,
    "start_time": "2024-08-03T23:03:18.644Z"
   },
   {
    "duration": 28,
    "start_time": "2024-08-03T23:03:19.870Z"
   },
   {
    "duration": 23,
    "start_time": "2024-08-03T23:04:04.337Z"
   },
   {
    "duration": 20,
    "start_time": "2024-08-03T23:04:27.021Z"
   },
   {
    "duration": 7,
    "start_time": "2024-08-03T23:04:55.146Z"
   },
   {
    "duration": 5,
    "start_time": "2024-08-03T23:04:55.850Z"
   },
   {
    "duration": 7,
    "start_time": "2024-08-03T23:04:57.441Z"
   },
   {
    "duration": 7,
    "start_time": "2024-08-03T23:05:03.714Z"
   },
   {
    "duration": 209,
    "start_time": "2024-08-03T23:05:06.548Z"
   },
   {
    "duration": 7,
    "start_time": "2024-08-03T23:05:14.663Z"
   },
   {
    "duration": 8,
    "start_time": "2024-08-03T23:08:30.744Z"
   },
   {
    "duration": 8,
    "start_time": "2024-08-03T23:09:02.633Z"
   },
   {
    "duration": 182,
    "start_time": "2024-08-03T23:09:21.309Z"
   },
   {
    "duration": 7,
    "start_time": "2024-08-03T23:10:37.452Z"
   },
   {
    "duration": 8,
    "start_time": "2024-08-03T23:10:48.063Z"
   },
   {
    "duration": 7,
    "start_time": "2024-08-03T23:10:48.990Z"
   },
   {
    "duration": 8,
    "start_time": "2024-08-03T23:11:32.081Z"
   },
   {
    "duration": 7,
    "start_time": "2024-08-03T23:11:32.608Z"
   },
   {
    "duration": 224,
    "start_time": "2024-08-03T23:11:33.756Z"
   },
   {
    "duration": 4,
    "start_time": "2024-08-03T23:14:06.711Z"
   },
   {
    "duration": 207,
    "start_time": "2024-08-03T23:14:15.902Z"
   },
   {
    "duration": 8,
    "start_time": "2024-08-03T23:14:31.668Z"
   },
   {
    "duration": 5,
    "start_time": "2024-08-03T23:14:34.200Z"
   },
   {
    "duration": 6,
    "start_time": "2024-08-03T23:14:54.292Z"
   },
   {
    "duration": 7,
    "start_time": "2024-08-03T23:15:02.053Z"
   },
   {
    "duration": 212,
    "start_time": "2024-08-03T23:16:14.891Z"
   },
   {
    "duration": 47,
    "start_time": "2024-08-03T23:16:20.025Z"
   },
   {
    "duration": 17,
    "start_time": "2024-08-03T23:16:27.962Z"
   },
   {
    "duration": 6,
    "start_time": "2024-08-03T23:21:03.957Z"
   },
   {
    "duration": 5,
    "start_time": "2024-08-03T23:21:11.293Z"
   },
   {
    "duration": 52,
    "start_time": "2024-08-03T23:21:12.229Z"
   },
   {
    "duration": 6,
    "start_time": "2024-08-03T23:21:13.494Z"
   },
   {
    "duration": 5,
    "start_time": "2024-08-03T23:21:13.760Z"
   },
   {
    "duration": 8,
    "start_time": "2024-08-03T23:21:14.115Z"
   },
   {
    "duration": 5,
    "start_time": "2024-08-03T23:21:14.463Z"
   },
   {
    "duration": 32,
    "start_time": "2024-08-03T23:21:14.783Z"
   },
   {
    "duration": 24,
    "start_time": "2024-08-03T23:21:15.333Z"
   },
   {
    "duration": 21,
    "start_time": "2024-08-03T23:21:15.516Z"
   },
   {
    "duration": 20,
    "start_time": "2024-08-03T23:21:16.513Z"
   },
   {
    "duration": 8,
    "start_time": "2024-08-03T23:21:18.856Z"
   },
   {
    "duration": 6,
    "start_time": "2024-08-03T23:21:19.483Z"
   },
   {
    "duration": 7,
    "start_time": "2024-08-03T23:21:20.021Z"
   },
   {
    "duration": 6,
    "start_time": "2024-08-03T23:21:20.966Z"
   },
   {
    "duration": 203,
    "start_time": "2024-08-03T23:21:21.814Z"
   },
   {
    "duration": 8,
    "start_time": "2024-08-03T23:21:23.803Z"
   },
   {
    "duration": 4,
    "start_time": "2024-08-03T23:21:26.776Z"
   },
   {
    "duration": 207,
    "start_time": "2024-08-03T23:21:27.172Z"
   },
   {
    "duration": 7,
    "start_time": "2024-08-03T23:21:30.605Z"
   },
   {
    "duration": 7,
    "start_time": "2024-08-03T23:21:30.930Z"
   },
   {
    "duration": 7,
    "start_time": "2024-08-03T23:21:31.556Z"
   },
   {
    "duration": 5,
    "start_time": "2024-08-03T23:22:26.810Z"
   },
   {
    "duration": 50,
    "start_time": "2024-08-03T23:22:26.959Z"
   },
   {
    "duration": 6,
    "start_time": "2024-08-03T23:22:27.605Z"
   },
   {
    "duration": 6,
    "start_time": "2024-08-03T23:22:27.635Z"
   },
   {
    "duration": 6,
    "start_time": "2024-08-03T23:22:27.668Z"
   },
   {
    "duration": 5,
    "start_time": "2024-08-03T23:22:27.696Z"
   },
   {
    "duration": 38,
    "start_time": "2024-08-03T23:22:27.725Z"
   },
   {
    "duration": 24,
    "start_time": "2024-08-03T23:22:27.854Z"
   },
   {
    "duration": 21,
    "start_time": "2024-08-03T23:22:27.984Z"
   },
   {
    "duration": 20,
    "start_time": "2024-08-03T23:22:28.129Z"
   },
   {
    "duration": 7,
    "start_time": "2024-08-03T23:22:28.505Z"
   },
   {
    "duration": 6,
    "start_time": "2024-08-03T23:22:28.656Z"
   },
   {
    "duration": 9,
    "start_time": "2024-08-03T23:22:28.844Z"
   },
   {
    "duration": 7,
    "start_time": "2024-08-03T23:22:28.927Z"
   },
   {
    "duration": 195,
    "start_time": "2024-08-03T23:22:29.082Z"
   },
   {
    "duration": 7,
    "start_time": "2024-08-03T23:22:29.307Z"
   },
   {
    "duration": 5,
    "start_time": "2024-08-03T23:22:29.809Z"
   },
   {
    "duration": 205,
    "start_time": "2024-08-03T23:22:29.958Z"
   },
   {
    "duration": 7,
    "start_time": "2024-08-03T23:22:30.696Z"
   },
   {
    "duration": 284,
    "start_time": "2024-08-03T23:22:31.575Z"
   },
   {
    "duration": 5,
    "start_time": "2024-08-03T23:22:32.092Z"
   },
   {
    "duration": 6,
    "start_time": "2024-08-03T23:22:33.960Z"
   },
   {
    "duration": 7,
    "start_time": "2024-08-03T23:22:55.299Z"
   },
   {
    "duration": 5,
    "start_time": "2024-08-03T23:22:57.599Z"
   },
   {
    "duration": 7,
    "start_time": "2024-08-03T23:23:56.785Z"
   },
   {
    "duration": 9,
    "start_time": "2024-08-03T23:24:18.161Z"
   },
   {
    "duration": 9,
    "start_time": "2024-08-03T23:24:40.027Z"
   },
   {
    "duration": 11,
    "start_time": "2024-08-03T23:24:48.036Z"
   },
   {
    "duration": 7,
    "start_time": "2024-08-03T23:25:15.969Z"
   },
   {
    "duration": 8,
    "start_time": "2024-08-03T23:25:54.792Z"
   },
   {
    "duration": 18,
    "start_time": "2024-08-03T23:26:07.250Z"
   },
   {
    "duration": 25,
    "start_time": "2024-08-03T23:26:24.246Z"
   },
   {
    "duration": 8,
    "start_time": "2024-08-03T23:26:30.778Z"
   },
   {
    "duration": 6,
    "start_time": "2024-08-03T23:26:43.096Z"
   },
   {
    "duration": 8,
    "start_time": "2024-08-03T23:26:58.374Z"
   },
   {
    "duration": 6,
    "start_time": "2024-08-03T23:27:26.847Z"
   },
   {
    "duration": 292,
    "start_time": "2024-08-03T23:27:33.047Z"
   },
   {
    "duration": 8,
    "start_time": "2024-08-03T23:28:26.464Z"
   },
   {
    "duration": 7,
    "start_time": "2024-08-03T23:28:26.880Z"
   },
   {
    "duration": 240,
    "start_time": "2024-08-03T23:28:27.504Z"
   },
   {
    "duration": 16,
    "start_time": "2024-08-03T23:28:35.630Z"
   },
   {
    "duration": 5,
    "start_time": "2024-08-03T23:43:02.545Z"
   },
   {
    "duration": 50,
    "start_time": "2024-08-03T23:43:02.713Z"
   },
   {
    "duration": 5,
    "start_time": "2024-08-03T23:43:02.999Z"
   },
   {
    "duration": 5,
    "start_time": "2024-08-03T23:43:03.135Z"
   },
   {
    "duration": 5,
    "start_time": "2024-08-03T23:43:03.260Z"
   },
   {
    "duration": 5,
    "start_time": "2024-08-03T23:43:03.566Z"
   },
   {
    "duration": 33,
    "start_time": "2024-08-03T23:43:04.062Z"
   },
   {
    "duration": 24,
    "start_time": "2024-08-03T23:43:04.102Z"
   },
   {
    "duration": 22,
    "start_time": "2024-08-03T23:43:04.133Z"
   },
   {
    "duration": 21,
    "start_time": "2024-08-03T23:43:04.168Z"
   },
   {
    "duration": 7,
    "start_time": "2024-08-03T23:43:04.346Z"
   },
   {
    "duration": 6,
    "start_time": "2024-08-03T23:43:04.492Z"
   },
   {
    "duration": 9,
    "start_time": "2024-08-03T23:43:04.658Z"
   },
   {
    "duration": 6,
    "start_time": "2024-08-03T23:43:04.772Z"
   },
   {
    "duration": 201,
    "start_time": "2024-08-03T23:43:04.955Z"
   },
   {
    "duration": 7,
    "start_time": "2024-08-03T23:43:05.159Z"
   },
   {
    "duration": 5,
    "start_time": "2024-08-03T23:43:05.429Z"
   },
   {
    "duration": 208,
    "start_time": "2024-08-03T23:43:05.584Z"
   },
   {
    "duration": 7,
    "start_time": "2024-08-03T23:43:05.795Z"
   },
   {
    "duration": 8,
    "start_time": "2024-08-03T23:43:05.889Z"
   },
   {
    "duration": 5,
    "start_time": "2024-08-03T23:43:06.062Z"
   },
   {
    "duration": 6,
    "start_time": "2024-08-03T23:43:06.229Z"
   },
   {
    "duration": 8,
    "start_time": "2024-08-03T23:43:09.015Z"
   },
   {
    "duration": 7,
    "start_time": "2024-08-03T23:43:09.212Z"
   },
   {
    "duration": 158,
    "start_time": "2024-08-03T23:43:09.397Z"
   },
   {
    "duration": 17,
    "start_time": "2024-08-03T23:43:09.837Z"
   },
   {
    "duration": 6,
    "start_time": "2024-08-03T23:43:10.907Z"
   },
   {
    "duration": 6,
    "start_time": "2024-08-03T23:43:11.077Z"
   },
   {
    "duration": 8,
    "start_time": "2024-08-03T23:43:11.249Z"
   },
   {
    "duration": 7,
    "start_time": "2024-08-03T23:43:11.403Z"
   },
   {
    "duration": 5,
    "start_time": "2024-08-03T23:43:11.718Z"
   },
   {
    "duration": 6,
    "start_time": "2024-08-03T23:43:11.867Z"
   },
   {
    "duration": 9,
    "start_time": "2024-08-03T23:43:12.000Z"
   },
   {
    "duration": 5,
    "start_time": "2024-08-03T23:43:12.150Z"
   },
   {
    "duration": 7,
    "start_time": "2024-08-03T23:43:12.301Z"
   },
   {
    "duration": 8,
    "start_time": "2024-08-03T23:43:12.454Z"
   },
   {
    "duration": 5,
    "start_time": "2024-08-03T23:43:12.605Z"
   },
   {
    "duration": 6,
    "start_time": "2024-08-03T23:43:12.756Z"
   },
   {
    "duration": 10,
    "start_time": "2024-08-03T23:43:12.882Z"
   },
   {
    "duration": 5,
    "start_time": "2024-08-03T23:43:13.020Z"
   },
   {
    "duration": 6,
    "start_time": "2024-08-03T23:43:13.170Z"
   },
   {
    "duration": 8,
    "start_time": "2024-08-03T23:43:13.508Z"
   },
   {
    "duration": 6,
    "start_time": "2024-08-03T23:43:13.731Z"
   },
   {
    "duration": 6,
    "start_time": "2024-08-03T23:43:14.265Z"
   },
   {
    "duration": 7,
    "start_time": "2024-08-03T23:43:14.656Z"
   },
   {
    "duration": 5,
    "start_time": "2024-08-03T23:43:15.165Z"
   },
   {
    "duration": 6,
    "start_time": "2024-08-03T23:43:15.377Z"
   },
   {
    "duration": 8,
    "start_time": "2024-08-03T23:43:15.548Z"
   },
   {
    "duration": 5,
    "start_time": "2024-08-03T23:43:15.830Z"
   },
   {
    "duration": 6,
    "start_time": "2024-08-03T23:43:16.038Z"
   },
   {
    "duration": 7,
    "start_time": "2024-08-03T23:43:16.264Z"
   },
   {
    "duration": 8,
    "start_time": "2024-08-03T23:43:16.485Z"
   },
   {
    "duration": 5,
    "start_time": "2024-08-03T23:43:17.020Z"
   },
   {
    "duration": 15,
    "start_time": "2024-08-03T23:43:19.700Z"
   },
   {
    "duration": 8,
    "start_time": "2024-08-03T23:44:49.839Z"
   },
   {
    "duration": 158,
    "start_time": "2024-08-03T23:45:04.756Z"
   },
   {
    "duration": 6,
    "start_time": "2024-08-03T23:46:45.684Z"
   },
   {
    "duration": 31,
    "start_time": "2024-08-03T23:47:02.162Z"
   },
   {
    "duration": 8,
    "start_time": "2024-08-03T23:47:51.750Z"
   },
   {
    "duration": 10,
    "start_time": "2024-08-03T23:47:52.581Z"
   },
   {
    "duration": 5,
    "start_time": "2024-08-03T23:47:58.775Z"
   },
   {
    "duration": 23,
    "start_time": "2024-08-03T23:48:14.635Z"
   },
   {
    "duration": 22,
    "start_time": "2024-08-03T23:48:25.439Z"
   },
   {
    "duration": 33,
    "start_time": "2024-08-03T23:49:47.395Z"
   },
   {
    "duration": 5,
    "start_time": "2024-08-03T23:49:48.658Z"
   },
   {
    "duration": 4,
    "start_time": "2024-08-03T23:50:36.236Z"
   },
   {
    "duration": 7,
    "start_time": "2024-08-03T23:56:42.192Z"
   },
   {
    "duration": 11,
    "start_time": "2024-08-03T23:56:42.504Z"
   },
   {
    "duration": 5,
    "start_time": "2024-08-03T23:56:42.757Z"
   },
   {
    "duration": 14,
    "start_time": "2024-08-03T23:56:44.462Z"
   },
   {
    "duration": 43,
    "start_time": "2024-08-03T23:56:46.492Z"
   },
   {
    "duration": 10,
    "start_time": "2024-08-03T23:56:47.192Z"
   },
   {
    "duration": 16,
    "start_time": "2024-08-04T00:03:23.357Z"
   },
   {
    "duration": 5,
    "start_time": "2024-08-04T00:18:40.843Z"
   },
   {
    "duration": 5,
    "start_time": "2024-08-04T00:42:45.294Z"
   },
   {
    "duration": 8,
    "start_time": "2024-08-04T00:42:50.647Z"
   },
   {
    "duration": 15,
    "start_time": "2024-08-04T00:47:26.740Z"
   },
   {
    "duration": 280,
    "start_time": "2024-08-04T00:48:03.532Z"
   },
   {
    "duration": 3270,
    "start_time": "2024-08-04T00:48:31.262Z"
   },
   {
    "duration": 17,
    "start_time": "2024-08-04T00:53:55.010Z"
   },
   {
    "duration": 15,
    "start_time": "2024-08-04T00:53:58.324Z"
   },
   {
    "duration": 5627,
    "start_time": "2024-08-04T00:57:18.444Z"
   },
   {
    "duration": 5226,
    "start_time": "2024-08-04T20:22:24.412Z"
   },
   {
    "duration": 113,
    "start_time": "2024-08-04T20:22:29.643Z"
   },
   {
    "duration": 8,
    "start_time": "2024-08-04T20:22:29.759Z"
   },
   {
    "duration": 6,
    "start_time": "2024-08-04T20:22:29.904Z"
   },
   {
    "duration": 6,
    "start_time": "2024-08-04T20:22:30.949Z"
   },
   {
    "duration": 6,
    "start_time": "2024-08-04T20:22:32.081Z"
   },
   {
    "duration": 36,
    "start_time": "2024-08-04T20:22:32.628Z"
   },
   {
    "duration": 30,
    "start_time": "2024-08-04T20:22:32.827Z"
   },
   {
    "duration": 24,
    "start_time": "2024-08-04T20:22:32.956Z"
   },
   {
    "duration": 23,
    "start_time": "2024-08-04T20:22:33.127Z"
   },
   {
    "duration": 8,
    "start_time": "2024-08-04T20:22:33.600Z"
   },
   {
    "duration": 6,
    "start_time": "2024-08-04T20:22:33.944Z"
   },
   {
    "duration": 10,
    "start_time": "2024-08-04T20:22:34.187Z"
   },
   {
    "duration": 9,
    "start_time": "2024-08-04T20:22:34.385Z"
   },
   {
    "duration": 224,
    "start_time": "2024-08-04T20:22:34.808Z"
   },
   {
    "duration": 8,
    "start_time": "2024-08-04T20:22:35.037Z"
   },
   {
    "duration": 4,
    "start_time": "2024-08-04T20:22:35.280Z"
   },
   {
    "duration": 215,
    "start_time": "2024-08-04T20:22:35.420Z"
   },
   {
    "duration": 8,
    "start_time": "2024-08-04T20:22:35.640Z"
   },
   {
    "duration": 8,
    "start_time": "2024-08-04T20:22:35.720Z"
   },
   {
    "duration": 5,
    "start_time": "2024-08-04T20:22:35.866Z"
   },
   {
    "duration": 7,
    "start_time": "2024-08-04T20:22:36.005Z"
   },
   {
    "duration": 9,
    "start_time": "2024-08-04T20:22:36.590Z"
   },
   {
    "duration": 16,
    "start_time": "2024-08-04T20:22:36.874Z"
   },
   {
    "duration": 6,
    "start_time": "2024-08-04T20:22:37.178Z"
   },
   {
    "duration": 6,
    "start_time": "2024-08-04T20:22:37.400Z"
   },
   {
    "duration": 8,
    "start_time": "2024-08-04T20:22:37.584Z"
   },
   {
    "duration": 7,
    "start_time": "2024-08-04T20:22:37.774Z"
   },
   {
    "duration": 4,
    "start_time": "2024-08-04T20:22:38.092Z"
   },
   {
    "duration": 6,
    "start_time": "2024-08-04T20:22:38.269Z"
   },
   {
    "duration": 8,
    "start_time": "2024-08-04T20:22:38.419Z"
   },
   {
    "duration": 5,
    "start_time": "2024-08-04T20:22:38.585Z"
   },
   {
    "duration": 6,
    "start_time": "2024-08-04T20:22:38.721Z"
   },
   {
    "duration": 8,
    "start_time": "2024-08-04T20:22:38.862Z"
   },
   {
    "duration": 6,
    "start_time": "2024-08-04T20:22:39.028Z"
   },
   {
    "duration": 6,
    "start_time": "2024-08-04T20:22:39.166Z"
   },
   {
    "duration": 10,
    "start_time": "2024-08-04T20:22:39.306Z"
   },
   {
    "duration": 5,
    "start_time": "2024-08-04T20:22:39.439Z"
   },
   {
    "duration": 6,
    "start_time": "2024-08-04T20:22:39.591Z"
   },
   {
    "duration": 9,
    "start_time": "2024-08-04T20:22:39.752Z"
   },
   {
    "duration": 5,
    "start_time": "2024-08-04T20:22:39.892Z"
   },
   {
    "duration": 7,
    "start_time": "2024-08-04T20:22:40.034Z"
   },
   {
    "duration": 8,
    "start_time": "2024-08-04T20:22:40.179Z"
   },
   {
    "duration": 5,
    "start_time": "2024-08-04T20:22:40.345Z"
   },
   {
    "duration": 7,
    "start_time": "2024-08-04T20:22:40.494Z"
   },
   {
    "duration": 9,
    "start_time": "2024-08-04T20:22:40.655Z"
   },
   {
    "duration": 5,
    "start_time": "2024-08-04T20:22:40.819Z"
   },
   {
    "duration": 7,
    "start_time": "2024-08-04T20:22:40.977Z"
   },
   {
    "duration": 7,
    "start_time": "2024-08-04T20:22:41.116Z"
   },
   {
    "duration": 9,
    "start_time": "2024-08-04T20:22:41.268Z"
   },
   {
    "duration": 5,
    "start_time": "2024-08-04T20:22:41.442Z"
   },
   {
    "duration": 15,
    "start_time": "2024-08-04T20:22:41.600Z"
   },
   {
    "duration": 10,
    "start_time": "2024-08-04T20:22:47.052Z"
   },
   {
    "duration": 183,
    "start_time": "2024-08-04T20:22:47.213Z"
   },
   {
    "duration": 6,
    "start_time": "2024-08-04T20:22:47.543Z"
   },
   {
    "duration": 8,
    "start_time": "2024-08-04T20:22:50.099Z"
   },
   {
    "duration": 6,
    "start_time": "2024-08-04T20:22:50.750Z"
   },
   {
    "duration": 24,
    "start_time": "2024-08-04T20:22:53.438Z"
   },
   {
    "duration": 35,
    "start_time": "2024-08-04T20:22:53.997Z"
   },
   {
    "duration": 6,
    "start_time": "2024-08-04T20:22:54.296Z"
   },
   {
    "duration": 4,
    "start_time": "2024-08-04T20:22:54.994Z"
   },
   {
    "duration": 20,
    "start_time": "2024-08-04T20:22:55.560Z"
   },
   {
    "duration": 7,
    "start_time": "2024-08-04T20:22:56.998Z"
   },
   {
    "duration": 9,
    "start_time": "2024-08-04T20:22:57.580Z"
   },
   {
    "duration": 16,
    "start_time": "2024-08-04T20:22:58.447Z"
   },
   {
    "duration": 273,
    "start_time": "2024-08-04T20:22:59.956Z"
   },
   {
    "duration": 5902,
    "start_time": "2024-08-04T20:23:00.512Z"
   },
   {
    "duration": 446,
    "start_time": "2024-08-04T20:23:33.456Z"
   },
   {
    "duration": 753,
    "start_time": "2024-08-04T20:25:38.657Z"
   },
   {
    "duration": 3205,
    "start_time": "2024-08-04T20:28:32.957Z"
   },
   {
    "duration": 14,
    "start_time": "2024-08-04T20:31:19.386Z"
   },
   {
    "duration": 2862,
    "start_time": "2024-08-04T20:33:16.836Z"
   },
   {
    "duration": 5,
    "start_time": "2024-08-04T20:34:10.290Z"
   },
   {
    "duration": 2942,
    "start_time": "2024-08-04T20:34:21.848Z"
   },
   {
    "duration": 2850,
    "start_time": "2024-08-04T20:37:16.492Z"
   },
   {
    "duration": 37,
    "start_time": "2024-08-04T20:39:40.218Z"
   },
   {
    "duration": 46,
    "start_time": "2024-08-04T20:42:22.259Z"
   },
   {
    "duration": 614,
    "start_time": "2024-08-04T20:42:43.651Z"
   },
   {
    "duration": 5,
    "start_time": "2024-08-04T21:14:53.006Z"
   },
   {
    "duration": 56,
    "start_time": "2024-08-04T21:14:58.044Z"
   },
   {
    "duration": 7,
    "start_time": "2024-08-04T21:14:59.636Z"
   },
   {
    "duration": 6,
    "start_time": "2024-08-04T21:15:00.119Z"
   },
   {
    "duration": 6,
    "start_time": "2024-08-04T21:15:00.409Z"
   },
   {
    "duration": 7,
    "start_time": "2024-08-04T21:15:00.731Z"
   },
   {
    "duration": 42,
    "start_time": "2024-08-04T21:15:01.386Z"
   },
   {
    "duration": 28,
    "start_time": "2024-08-04T21:15:02.889Z"
   },
   {
    "duration": 24,
    "start_time": "2024-08-04T21:15:11.066Z"
   },
   {
    "duration": 32,
    "start_time": "2024-08-04T21:15:16.388Z"
   },
   {
    "duration": 7,
    "start_time": "2024-08-04T21:15:41.712Z"
   },
   {
    "duration": 6,
    "start_time": "2024-08-04T21:15:42.448Z"
   },
   {
    "duration": 9,
    "start_time": "2024-08-04T21:15:43.120Z"
   },
   {
    "duration": 8,
    "start_time": "2024-08-04T21:15:48.017Z"
   },
   {
    "duration": 219,
    "start_time": "2024-08-04T21:15:52.676Z"
   },
   {
    "duration": 7,
    "start_time": "2024-08-04T21:15:57.410Z"
   },
   {
    "duration": 4,
    "start_time": "2024-08-04T21:16:09.466Z"
   },
   {
    "duration": 207,
    "start_time": "2024-08-04T21:16:09.729Z"
   },
   {
    "duration": 7,
    "start_time": "2024-08-04T21:16:10.190Z"
   },
   {
    "duration": 7,
    "start_time": "2024-08-04T21:16:22.289Z"
   },
   {
    "duration": 6,
    "start_time": "2024-08-04T21:16:22.721Z"
   },
   {
    "duration": 8,
    "start_time": "2024-08-04T21:16:23.528Z"
   },
   {
    "duration": 9,
    "start_time": "2024-08-04T21:16:49.516Z"
   },
   {
    "duration": 16,
    "start_time": "2024-08-04T21:17:14.835Z"
   },
   {
    "duration": 5,
    "start_time": "2024-08-04T21:17:26.164Z"
   },
   {
    "duration": 6,
    "start_time": "2024-08-04T21:17:26.406Z"
   },
   {
    "duration": 8,
    "start_time": "2024-08-04T21:17:26.593Z"
   },
   {
    "duration": 7,
    "start_time": "2024-08-04T21:17:26.831Z"
   },
   {
    "duration": 4,
    "start_time": "2024-08-04T21:17:34.122Z"
   },
   {
    "duration": 7,
    "start_time": "2024-08-04T21:17:34.424Z"
   },
   {
    "duration": 11,
    "start_time": "2024-08-04T21:17:34.688Z"
   },
   {
    "duration": 6,
    "start_time": "2024-08-04T21:17:35.255Z"
   },
   {
    "duration": 6,
    "start_time": "2024-08-04T21:17:35.655Z"
   },
   {
    "duration": 9,
    "start_time": "2024-08-04T21:17:35.971Z"
   },
   {
    "duration": 5,
    "start_time": "2024-08-04T21:17:36.148Z"
   },
   {
    "duration": 7,
    "start_time": "2024-08-04T21:17:36.291Z"
   },
   {
    "duration": 8,
    "start_time": "2024-08-04T21:17:36.488Z"
   },
   {
    "duration": 6,
    "start_time": "2024-08-04T21:17:36.849Z"
   },
   {
    "duration": 7,
    "start_time": "2024-08-04T21:17:36.994Z"
   },
   {
    "duration": 8,
    "start_time": "2024-08-04T21:17:37.349Z"
   },
   {
    "duration": 5,
    "start_time": "2024-08-04T21:17:37.492Z"
   },
   {
    "duration": 6,
    "start_time": "2024-08-04T21:17:37.645Z"
   },
   {
    "duration": 8,
    "start_time": "2024-08-04T21:17:37.792Z"
   },
   {
    "duration": 4,
    "start_time": "2024-08-04T21:17:38.169Z"
   },
   {
    "duration": 6,
    "start_time": "2024-08-04T21:17:38.601Z"
   },
   {
    "duration": 9,
    "start_time": "2024-08-04T21:17:38.753Z"
   },
   {
    "duration": 5,
    "start_time": "2024-08-04T21:17:38.893Z"
   },
   {
    "duration": 5,
    "start_time": "2024-08-04T21:17:39.043Z"
   },
   {
    "duration": 7,
    "start_time": "2024-08-04T21:17:39.190Z"
   },
   {
    "duration": 8,
    "start_time": "2024-08-04T21:17:39.533Z"
   },
   {
    "duration": 6,
    "start_time": "2024-08-04T21:17:39.664Z"
   },
   {
    "duration": 16,
    "start_time": "2024-08-04T21:17:39.834Z"
   },
   {
    "duration": 7,
    "start_time": "2024-08-04T21:18:03.694Z"
   },
   {
    "duration": 169,
    "start_time": "2024-08-04T21:18:05.503Z"
   },
   {
    "duration": 6,
    "start_time": "2024-08-04T21:18:22.474Z"
   },
   {
    "duration": 9,
    "start_time": "2024-08-04T21:18:38.011Z"
   },
   {
    "duration": 6,
    "start_time": "2024-08-04T21:18:38.669Z"
   },
   {
    "duration": 23,
    "start_time": "2024-08-04T21:18:47.092Z"
   },
   {
    "duration": 34,
    "start_time": "2024-08-04T21:18:59.014Z"
   },
   {
    "duration": 6,
    "start_time": "2024-08-04T21:18:59.544Z"
   },
   {
    "duration": 3,
    "start_time": "2024-08-04T21:19:04.260Z"
   },
   {
    "duration": 19,
    "start_time": "2024-08-04T21:19:04.847Z"
   },
   {
    "duration": 7,
    "start_time": "2024-08-04T21:20:00.243Z"
   },
   {
    "duration": 8,
    "start_time": "2024-08-04T21:20:05.083Z"
   },
   {
    "duration": 14,
    "start_time": "2024-08-04T21:20:07.778Z"
   },
   {
    "duration": 5575,
    "start_time": "2024-08-04T21:23:34.145Z"
   },
   {
    "duration": 46,
    "start_time": "2024-08-04T21:24:00.630Z"
   },
   {
    "duration": 18,
    "start_time": "2024-08-04T21:24:01.805Z"
   },
   {
    "duration": 18,
    "start_time": "2024-08-04T21:24:03.384Z"
   },
   {
    "duration": 16,
    "start_time": "2024-08-04T21:24:04.104Z"
   },
   {
    "duration": 5224,
    "start_time": "2024-08-07T02:22:20.506Z"
   },
   {
    "duration": 108,
    "start_time": "2024-08-07T02:22:25.735Z"
   },
   {
    "duration": 6,
    "start_time": "2024-08-07T02:22:31.244Z"
   },
   {
    "duration": 5,
    "start_time": "2024-08-07T02:22:31.836Z"
   },
   {
    "duration": 6,
    "start_time": "2024-08-07T02:22:32.281Z"
   },
   {
    "duration": 6,
    "start_time": "2024-08-07T02:22:32.689Z"
   },
   {
    "duration": 34,
    "start_time": "2024-08-07T02:22:38.998Z"
   },
   {
    "duration": 27,
    "start_time": "2024-08-07T02:22:39.816Z"
   },
   {
    "duration": 25,
    "start_time": "2024-08-07T02:22:47.339Z"
   },
   {
    "duration": 21,
    "start_time": "2024-08-07T02:22:52.918Z"
   },
   {
    "duration": 8,
    "start_time": "2024-08-07T02:23:01.115Z"
   },
   {
    "duration": 6,
    "start_time": "2024-08-07T02:23:02.124Z"
   },
   {
    "duration": 6,
    "start_time": "2024-08-07T02:23:02.941Z"
   },
   {
    "duration": 283,
    "start_time": "2024-08-07T02:23:05.910Z"
   },
   {
    "duration": 7,
    "start_time": "2024-08-07T02:23:19.588Z"
   },
   {
    "duration": 7,
    "start_time": "2024-08-07T02:23:59.717Z"
   },
   {
    "duration": 8,
    "start_time": "2024-08-07T02:24:02.414Z"
   },
   {
    "duration": 9,
    "start_time": "2024-08-07T02:24:03.318Z"
   },
   {
    "duration": 4,
    "start_time": "2024-08-07T02:26:07.650Z"
   },
   {
    "duration": 5,
    "start_time": "2024-08-07T02:26:08.149Z"
   },
   {
    "duration": 8,
    "start_time": "2024-08-07T02:26:16.105Z"
   },
   {
    "duration": 20,
    "start_time": "2024-08-07T02:26:35.326Z"
   },
   {
    "duration": 178,
    "start_time": "2024-08-07T02:26:54.567Z"
   },
   {
    "duration": 177,
    "start_time": "2024-08-07T02:27:55.871Z"
   },
   {
    "duration": 7,
    "start_time": "2024-08-07T02:28:08.122Z"
   },
   {
    "duration": 9,
    "start_time": "2024-08-07T02:28:18.838Z"
   },
   {
    "duration": 5,
    "start_time": "2024-08-07T02:28:20.002Z"
   },
   {
    "duration": 14,
    "start_time": "2024-08-07T02:29:23.986Z"
   },
   {
    "duration": 6,
    "start_time": "2024-08-07T02:29:28.313Z"
   },
   {
    "duration": 6,
    "start_time": "2024-08-07T02:29:28.449Z"
   },
   {
    "duration": 8,
    "start_time": "2024-08-07T02:29:28.581Z"
   },
   {
    "duration": 6,
    "start_time": "2024-08-07T02:29:28.699Z"
   },
   {
    "duration": 5,
    "start_time": "2024-08-07T02:29:28.954Z"
   },
   {
    "duration": 7,
    "start_time": "2024-08-07T02:29:29.093Z"
   },
   {
    "duration": 8,
    "start_time": "2024-08-07T02:29:29.364Z"
   },
   {
    "duration": 8,
    "start_time": "2024-08-07T02:29:29.513Z"
   },
   {
    "duration": 6,
    "start_time": "2024-08-07T02:29:29.652Z"
   },
   {
    "duration": 10,
    "start_time": "2024-08-07T02:29:29.787Z"
   },
   {
    "duration": 4,
    "start_time": "2024-08-07T02:29:29.934Z"
   },
   {
    "duration": 6,
    "start_time": "2024-08-07T02:29:30.064Z"
   },
   {
    "duration": 7,
    "start_time": "2024-08-07T02:29:30.194Z"
   },
   {
    "duration": 4,
    "start_time": "2024-08-07T02:29:30.332Z"
   },
   {
    "duration": 6,
    "start_time": "2024-08-07T02:29:30.480Z"
   },
   {
    "duration": 8,
    "start_time": "2024-08-07T02:29:30.626Z"
   },
   {
    "duration": 5,
    "start_time": "2024-08-07T02:29:30.773Z"
   },
   {
    "duration": 6,
    "start_time": "2024-08-07T02:29:30.943Z"
   },
   {
    "duration": 8,
    "start_time": "2024-08-07T02:29:31.091Z"
   },
   {
    "duration": 5,
    "start_time": "2024-08-07T02:29:31.235Z"
   },
   {
    "duration": 6,
    "start_time": "2024-08-07T02:29:31.383Z"
   },
   {
    "duration": 11,
    "start_time": "2024-08-07T02:29:31.534Z"
   },
   {
    "duration": 5,
    "start_time": "2024-08-07T02:29:31.707Z"
   },
   {
    "duration": 6,
    "start_time": "2024-08-07T02:29:31.869Z"
   },
   {
    "duration": 6,
    "start_time": "2024-08-07T02:29:32.004Z"
   },
   {
    "duration": 10,
    "start_time": "2024-08-07T02:29:32.140Z"
   },
   {
    "duration": 5,
    "start_time": "2024-08-07T02:29:32.305Z"
   },
   {
    "duration": 13,
    "start_time": "2024-08-07T02:29:32.422Z"
   },
   {
    "duration": 8,
    "start_time": "2024-08-07T02:29:41.957Z"
   },
   {
    "duration": 175,
    "start_time": "2024-08-07T02:29:42.530Z"
   },
   {
    "duration": 6,
    "start_time": "2024-08-07T02:29:44.567Z"
   },
   {
    "duration": 1819,
    "start_time": "2024-08-07T02:29:44.773Z"
   },
   {
    "duration": 0,
    "start_time": "2024-08-07T02:29:46.595Z"
   },
   {
    "duration": 7,
    "start_time": "2024-08-07T02:30:21.308Z"
   },
   {
    "duration": 23,
    "start_time": "2024-08-07T02:30:27.359Z"
   },
   {
    "duration": 28,
    "start_time": "2024-08-07T02:30:27.516Z"
   },
   {
    "duration": 6,
    "start_time": "2024-08-07T02:30:27.689Z"
   },
   {
    "duration": 3,
    "start_time": "2024-08-07T02:30:28.303Z"
   },
   {
    "duration": 19,
    "start_time": "2024-08-07T02:30:28.476Z"
   },
   {
    "duration": 7,
    "start_time": "2024-08-07T02:30:39.585Z"
   },
   {
    "duration": 24,
    "start_time": "2024-08-07T02:30:39.938Z"
   },
   {
    "duration": 13,
    "start_time": "2024-08-07T02:30:51.244Z"
   },
   {
    "duration": 14,
    "start_time": "2024-08-07T02:30:55.636Z"
   },
   {
    "duration": 6599,
    "start_time": "2024-08-07T02:30:57.129Z"
   },
   {
    "duration": 58,
    "start_time": "2024-08-07T02:31:03.732Z"
   },
   {
    "duration": 37,
    "start_time": "2024-08-07T02:31:03.792Z"
   },
   {
    "duration": 18,
    "start_time": "2024-08-07T02:31:03.833Z"
   },
   {
    "duration": 17,
    "start_time": "2024-08-07T02:31:03.854Z"
   },
   {
    "duration": 8,
    "start_time": "2024-08-07T02:41:31.892Z"
   },
   {
    "duration": 5,
    "start_time": "2024-08-07T02:41:37.852Z"
   },
   {
    "duration": 5,
    "start_time": "2024-08-07T02:54:17.054Z"
   },
   {
    "duration": 55,
    "start_time": "2024-08-07T02:54:17.199Z"
   },
   {
    "duration": 5,
    "start_time": "2024-08-07T02:54:17.463Z"
   },
   {
    "duration": 6,
    "start_time": "2024-08-07T02:54:17.584Z"
   },
   {
    "duration": 6,
    "start_time": "2024-08-07T02:54:17.716Z"
   },
   {
    "duration": 5,
    "start_time": "2024-08-07T02:54:17.852Z"
   },
   {
    "duration": 32,
    "start_time": "2024-08-07T02:54:18.012Z"
   },
   {
    "duration": 24,
    "start_time": "2024-08-07T02:54:18.147Z"
   },
   {
    "duration": 22,
    "start_time": "2024-08-07T02:54:18.281Z"
   },
   {
    "duration": 20,
    "start_time": "2024-08-07T02:54:18.443Z"
   },
   {
    "duration": 6,
    "start_time": "2024-08-07T02:54:18.908Z"
   },
   {
    "duration": 6,
    "start_time": "2024-08-07T02:54:19.066Z"
   },
   {
    "duration": 6,
    "start_time": "2024-08-07T02:54:19.238Z"
   },
   {
    "duration": 195,
    "start_time": "2024-08-07T02:54:19.381Z"
   },
   {
    "duration": 7,
    "start_time": "2024-08-07T02:54:19.579Z"
   },
   {
    "duration": 7,
    "start_time": "2024-08-07T02:54:19.869Z"
   },
   {
    "duration": 6,
    "start_time": "2024-08-07T02:54:20.024Z"
   },
   {
    "duration": 9,
    "start_time": "2024-08-07T02:54:20.699Z"
   },
   {
    "duration": 14,
    "start_time": "2024-08-07T02:54:20.975Z"
   },
   {
    "duration": 8,
    "start_time": "2024-08-07T02:54:21.464Z"
   },
   {
    "duration": 184,
    "start_time": "2024-08-07T02:54:21.612Z"
   },
   {
    "duration": 6,
    "start_time": "2024-08-07T02:54:21.961Z"
   },
   {
    "duration": 9,
    "start_time": "2024-08-07T02:54:22.123Z"
   },
   {
    "duration": 5,
    "start_time": "2024-08-07T02:54:22.289Z"
   },
   {
    "duration": 5,
    "start_time": "2024-08-07T02:54:22.689Z"
   },
   {
    "duration": 11,
    "start_time": "2024-08-07T02:54:22.881Z"
   },
   {
    "duration": 13,
    "start_time": "2024-08-07T02:54:23.221Z"
   },
   {
    "duration": 11,
    "start_time": "2024-08-07T02:54:23.380Z"
   },
   {
    "duration": 23,
    "start_time": "2024-08-07T02:54:25.279Z"
   },
   {
    "duration": 30,
    "start_time": "2024-08-07T02:54:25.496Z"
   },
   {
    "duration": 6,
    "start_time": "2024-08-07T02:54:25.638Z"
   },
   {
    "duration": 3,
    "start_time": "2024-08-07T02:54:25.930Z"
   },
   {
    "duration": 18,
    "start_time": "2024-08-07T02:54:26.095Z"
   },
   {
    "duration": 14,
    "start_time": "2024-08-07T02:54:26.566Z"
   },
   {
    "duration": 6504,
    "start_time": "2024-08-07T02:54:26.999Z"
   },
   {
    "duration": 53,
    "start_time": "2024-08-07T02:54:33.507Z"
   },
   {
    "duration": 17,
    "start_time": "2024-08-07T02:54:33.563Z"
   },
   {
    "duration": 44,
    "start_time": "2024-08-07T02:54:33.584Z"
   },
   {
    "duration": 23,
    "start_time": "2024-08-07T02:54:33.633Z"
   },
   {
    "duration": 18,
    "start_time": "2024-08-07T02:56:55.396Z"
   },
   {
    "duration": 11,
    "start_time": "2024-08-07T02:56:56.948Z"
   },
   {
    "duration": 24,
    "start_time": "2024-08-07T02:56:58.043Z"
   },
   {
    "duration": 25,
    "start_time": "2024-08-07T02:56:58.172Z"
   },
   {
    "duration": 5,
    "start_time": "2024-08-07T02:56:58.489Z"
   },
   {
    "duration": 23,
    "start_time": "2024-08-07T02:56:59.027Z"
   },
   {
    "duration": 17,
    "start_time": "2024-08-07T02:56:59.429Z"
   },
   {
    "duration": 14,
    "start_time": "2024-08-07T02:56:59.689Z"
   },
   {
    "duration": 6632,
    "start_time": "2024-08-07T02:56:59.973Z"
   },
   {
    "duration": 52,
    "start_time": "2024-08-07T02:57:06.609Z"
   },
   {
    "duration": 17,
    "start_time": "2024-08-07T02:57:06.664Z"
   },
   {
    "duration": 43,
    "start_time": "2024-08-07T02:57:06.684Z"
   },
   {
    "duration": 17,
    "start_time": "2024-08-07T02:57:06.730Z"
   },
   {
    "duration": 5235,
    "start_time": "2024-08-07T06:58:51.585Z"
   },
   {
    "duration": 89,
    "start_time": "2024-08-07T06:59:00.265Z"
   },
   {
    "duration": 7,
    "start_time": "2024-08-07T06:59:10.594Z"
   },
   {
    "duration": 6,
    "start_time": "2024-08-07T06:59:11.556Z"
   },
   {
    "duration": 5,
    "start_time": "2024-08-07T06:59:13.668Z"
   },
   {
    "duration": 5,
    "start_time": "2024-08-07T06:59:20.441Z"
   },
   {
    "duration": 33,
    "start_time": "2024-08-07T06:59:54.773Z"
   },
   {
    "duration": 27,
    "start_time": "2024-08-07T06:59:56.347Z"
   },
   {
    "duration": 25,
    "start_time": "2024-08-07T07:00:11.632Z"
   },
   {
    "duration": 20,
    "start_time": "2024-08-07T07:00:38.056Z"
   },
   {
    "duration": 8,
    "start_time": "2024-08-07T07:02:28.042Z"
   },
   {
    "duration": 5,
    "start_time": "2024-08-07T07:02:28.297Z"
   },
   {
    "duration": 6,
    "start_time": "2024-08-07T07:02:28.618Z"
   },
   {
    "duration": 212,
    "start_time": "2024-08-07T07:02:30.778Z"
   },
   {
    "duration": 5,
    "start_time": "2024-08-07T07:02:39.706Z"
   },
   {
    "duration": 7,
    "start_time": "2024-08-07T07:02:41.305Z"
   },
   {
    "duration": 6,
    "start_time": "2024-08-07T07:02:41.861Z"
   },
   {
    "duration": 8,
    "start_time": "2024-08-07T07:03:50.662Z"
   },
   {
    "duration": 15,
    "start_time": "2024-08-07T07:03:58.152Z"
   },
   {
    "duration": 18,
    "start_time": "2024-08-07T07:08:23.225Z"
   },
   {
    "duration": 177,
    "start_time": "2024-08-07T07:08:24.246Z"
   },
   {
    "duration": 6,
    "start_time": "2024-08-07T07:08:30.486Z"
   },
   {
    "duration": 8,
    "start_time": "2024-08-07T07:08:48.791Z"
   },
   {
    "duration": 5,
    "start_time": "2024-08-07T07:08:50.344Z"
   },
   {
    "duration": 416,
    "start_time": "2024-08-07T07:09:14.541Z"
   },
   {
    "duration": 6,
    "start_time": "2024-08-07T07:09:40.981Z"
   },
   {
    "duration": 11,
    "start_time": "2024-08-07T07:09:54.562Z"
   },
   {
    "duration": 122,
    "start_time": "2024-08-07T07:11:00.438Z"
   },
   {
    "duration": 26,
    "start_time": "2024-08-07T07:12:29.407Z"
   },
   {
    "duration": 16,
    "start_time": "2024-08-07T07:12:43.236Z"
   },
   {
    "duration": 22,
    "start_time": "2024-08-07T07:14:29.608Z"
   },
   {
    "duration": 23,
    "start_time": "2024-08-07T07:14:42.183Z"
   },
   {
    "duration": 14,
    "start_time": "2024-08-07T07:16:12.252Z"
   },
   {
    "duration": 28,
    "start_time": "2024-08-07T07:17:13.203Z"
   },
   {
    "duration": 6,
    "start_time": "2024-08-07T07:17:14.144Z"
   },
   {
    "duration": 5,
    "start_time": "2024-08-07T07:17:36.823Z"
   },
   {
    "duration": 10,
    "start_time": "2024-08-07T07:17:37.484Z"
   },
   {
    "duration": 25,
    "start_time": "2024-08-07T07:17:38.888Z"
   },
   {
    "duration": 16,
    "start_time": "2024-08-07T07:17:40.436Z"
   },
   {
    "duration": 4,
    "start_time": "2024-08-07T07:17:49.172Z"
   },
   {
    "duration": 18,
    "start_time": "2024-08-07T07:17:50.388Z"
   },
   {
    "duration": 53,
    "start_time": "2024-08-07T07:17:58.160Z"
   },
   {
    "duration": 1637,
    "start_time": "2024-08-07T07:18:57.017Z"
   },
   {
    "duration": 51,
    "start_time": "2024-08-07T07:18:58.658Z"
   },
   {
    "duration": 7,
    "start_time": "2024-08-07T07:18:58.712Z"
   },
   {
    "duration": 6,
    "start_time": "2024-08-07T07:18:58.731Z"
   },
   {
    "duration": 5,
    "start_time": "2024-08-07T07:18:58.744Z"
   },
   {
    "duration": 5,
    "start_time": "2024-08-07T07:18:58.752Z"
   },
   {
    "duration": 75,
    "start_time": "2024-08-07T07:18:58.760Z"
   },
   {
    "duration": 28,
    "start_time": "2024-08-07T07:18:58.838Z"
   },
   {
    "duration": 23,
    "start_time": "2024-08-07T07:18:58.869Z"
   },
   {
    "duration": 48,
    "start_time": "2024-08-07T07:18:58.895Z"
   },
   {
    "duration": 8,
    "start_time": "2024-08-07T07:18:58.946Z"
   },
   {
    "duration": 7,
    "start_time": "2024-08-07T07:18:58.957Z"
   },
   {
    "duration": 6,
    "start_time": "2024-08-07T07:18:58.967Z"
   },
   {
    "duration": 270,
    "start_time": "2024-08-07T07:18:58.981Z"
   },
   {
    "duration": 9,
    "start_time": "2024-08-07T07:18:59.254Z"
   },
   {
    "duration": 7,
    "start_time": "2024-08-07T07:18:59.266Z"
   },
   {
    "duration": 6,
    "start_time": "2024-08-07T07:18:59.276Z"
   },
   {
    "duration": 45,
    "start_time": "2024-08-07T07:18:59.285Z"
   },
   {
    "duration": 16,
    "start_time": "2024-08-07T07:18:59.334Z"
   },
   {
    "duration": 10,
    "start_time": "2024-08-07T07:18:59.352Z"
   },
   {
    "duration": 207,
    "start_time": "2024-08-07T07:18:59.365Z"
   },
   {
    "duration": 5,
    "start_time": "2024-08-07T07:18:59.575Z"
   },
   {
    "duration": 9,
    "start_time": "2024-08-07T07:18:59.583Z"
   },
   {
    "duration": 7,
    "start_time": "2024-08-07T07:18:59.594Z"
   },
   {
    "duration": 6,
    "start_time": "2024-08-07T07:18:59.632Z"
   },
   {
    "duration": 15,
    "start_time": "2024-08-07T07:18:59.641Z"
   },
   {
    "duration": 26,
    "start_time": "2024-08-07T07:18:59.659Z"
   },
   {
    "duration": 52,
    "start_time": "2024-08-07T07:18:59.688Z"
   },
   {
    "duration": 23,
    "start_time": "2024-08-07T07:18:59.743Z"
   },
   {
    "duration": 13,
    "start_time": "2024-08-07T07:18:59.769Z"
   },
   {
    "duration": 59,
    "start_time": "2024-08-07T07:18:59.784Z"
   },
   {
    "duration": 5,
    "start_time": "2024-08-07T07:18:59.846Z"
   },
   {
    "duration": 4,
    "start_time": "2024-08-07T07:18:59.854Z"
   },
   {
    "duration": 19,
    "start_time": "2024-08-07T07:18:59.862Z"
   },
   {
    "duration": 288,
    "start_time": "2024-08-07T07:18:59.884Z"
   },
   {
    "duration": 0,
    "start_time": "2024-08-07T07:19:00.175Z"
   },
   {
    "duration": 0,
    "start_time": "2024-08-07T07:19:00.177Z"
   },
   {
    "duration": 0,
    "start_time": "2024-08-07T07:19:00.179Z"
   },
   {
    "duration": 0,
    "start_time": "2024-08-07T07:19:00.182Z"
   },
   {
    "duration": 0,
    "start_time": "2024-08-07T07:19:00.185Z"
   },
   {
    "duration": 715,
    "start_time": "2024-08-07T07:20:33.927Z"
   },
   {
    "duration": 1596,
    "start_time": "2024-08-07T07:21:42.863Z"
   },
   {
    "duration": 51,
    "start_time": "2024-08-07T07:21:44.462Z"
   },
   {
    "duration": 18,
    "start_time": "2024-08-07T07:21:44.515Z"
   },
   {
    "duration": 8,
    "start_time": "2024-08-07T07:21:44.536Z"
   },
   {
    "duration": 6,
    "start_time": "2024-08-07T07:21:44.549Z"
   },
   {
    "duration": 6,
    "start_time": "2024-08-07T07:21:44.557Z"
   },
   {
    "duration": 79,
    "start_time": "2024-08-07T07:21:44.565Z"
   },
   {
    "duration": 27,
    "start_time": "2024-08-07T07:21:44.647Z"
   },
   {
    "duration": 22,
    "start_time": "2024-08-07T07:21:44.677Z"
   },
   {
    "duration": 44,
    "start_time": "2024-08-07T07:21:44.702Z"
   },
   {
    "duration": 9,
    "start_time": "2024-08-07T07:21:44.749Z"
   },
   {
    "duration": 9,
    "start_time": "2024-08-07T07:21:44.760Z"
   },
   {
    "duration": 7,
    "start_time": "2024-08-07T07:21:44.772Z"
   },
   {
    "duration": 214,
    "start_time": "2024-08-07T07:21:44.830Z"
   },
   {
    "duration": 7,
    "start_time": "2024-08-07T07:21:45.048Z"
   },
   {
    "duration": 8,
    "start_time": "2024-08-07T07:21:45.058Z"
   },
   {
    "duration": 6,
    "start_time": "2024-08-07T07:21:45.069Z"
   },
   {
    "duration": 9,
    "start_time": "2024-08-07T07:21:45.077Z"
   },
   {
    "duration": 15,
    "start_time": "2024-08-07T07:21:45.130Z"
   },
   {
    "duration": 9,
    "start_time": "2024-08-07T07:21:45.150Z"
   },
   {
    "duration": 201,
    "start_time": "2024-08-07T07:21:45.162Z"
   },
   {
    "duration": 6,
    "start_time": "2024-08-07T07:21:45.366Z"
   },
   {
    "duration": 9,
    "start_time": "2024-08-07T07:21:45.374Z"
   },
   {
    "duration": 6,
    "start_time": "2024-08-07T07:21:45.386Z"
   },
   {
    "duration": 40,
    "start_time": "2024-08-07T07:21:45.395Z"
   },
   {
    "duration": 12,
    "start_time": "2024-08-07T07:21:45.438Z"
   },
   {
    "duration": 26,
    "start_time": "2024-08-07T07:21:45.453Z"
   },
   {
    "duration": 48,
    "start_time": "2024-08-07T07:21:45.482Z"
   },
   {
    "duration": 22,
    "start_time": "2024-08-07T07:21:45.534Z"
   },
   {
    "duration": 14,
    "start_time": "2024-08-07T07:21:45.559Z"
   },
   {
    "duration": 61,
    "start_time": "2024-08-07T07:21:45.575Z"
   },
   {
    "duration": 6,
    "start_time": "2024-08-07T07:21:45.639Z"
   },
   {
    "duration": 4,
    "start_time": "2024-08-07T07:21:45.648Z"
   },
   {
    "duration": 19,
    "start_time": "2024-08-07T07:21:45.655Z"
   },
   {
    "duration": 939,
    "start_time": "2024-08-07T07:21:45.677Z"
   },
   {
    "duration": 0,
    "start_time": "2024-08-07T07:21:46.618Z"
   },
   {
    "duration": 0,
    "start_time": "2024-08-07T07:21:46.621Z"
   },
   {
    "duration": 0,
    "start_time": "2024-08-07T07:21:46.630Z"
   },
   {
    "duration": 0,
    "start_time": "2024-08-07T07:21:46.632Z"
   },
   {
    "duration": 0,
    "start_time": "2024-08-07T07:21:46.634Z"
   },
   {
    "duration": 52,
    "start_time": "2024-08-07T07:22:38.033Z"
   },
   {
    "duration": 5,
    "start_time": "2024-08-07T07:23:37.587Z"
   },
   {
    "duration": 49,
    "start_time": "2024-08-07T07:23:38.330Z"
   },
   {
    "duration": 5,
    "start_time": "2024-08-07T07:23:38.614Z"
   },
   {
    "duration": 5,
    "start_time": "2024-08-07T07:23:38.746Z"
   },
   {
    "duration": 6,
    "start_time": "2024-08-07T07:23:38.893Z"
   },
   {
    "duration": 6,
    "start_time": "2024-08-07T07:23:39.029Z"
   },
   {
    "duration": 32,
    "start_time": "2024-08-07T07:23:39.349Z"
   },
   {
    "duration": 24,
    "start_time": "2024-08-07T07:23:39.490Z"
   },
   {
    "duration": 21,
    "start_time": "2024-08-07T07:23:39.625Z"
   },
   {
    "duration": 20,
    "start_time": "2024-08-07T07:23:39.868Z"
   },
   {
    "duration": 8,
    "start_time": "2024-08-07T07:23:40.297Z"
   },
   {
    "duration": 6,
    "start_time": "2024-08-07T07:23:40.432Z"
   },
   {
    "duration": 6,
    "start_time": "2024-08-07T07:23:40.567Z"
   },
   {
    "duration": 191,
    "start_time": "2024-08-07T07:23:40.699Z"
   },
   {
    "duration": 7,
    "start_time": "2024-08-07T07:23:40.893Z"
   },
   {
    "duration": 7,
    "start_time": "2024-08-07T07:23:41.113Z"
   },
   {
    "duration": 6,
    "start_time": "2024-08-07T07:23:41.388Z"
   },
   {
    "duration": 8,
    "start_time": "2024-08-07T07:23:41.955Z"
   },
   {
    "duration": 15,
    "start_time": "2024-08-07T07:23:43.113Z"
   },
   {
    "duration": 8,
    "start_time": "2024-08-07T07:23:46.196Z"
   },
   {
    "duration": 174,
    "start_time": "2024-08-07T07:23:46.424Z"
   },
   {
    "duration": 7,
    "start_time": "2024-08-07T07:23:49.367Z"
   },
   {
    "duration": 9,
    "start_time": "2024-08-07T07:23:49.509Z"
   },
   {
    "duration": 5,
    "start_time": "2024-08-07T07:23:54.482Z"
   },
   {
    "duration": 6,
    "start_time": "2024-08-07T07:24:59.212Z"
   },
   {
    "duration": 10,
    "start_time": "2024-08-07T07:24:59.807Z"
   },
   {
    "duration": 20,
    "start_time": "2024-08-07T07:25:49.757Z"
   },
   {
    "duration": 19,
    "start_time": "2024-08-07T07:25:52.718Z"
   },
   {
    "duration": 28,
    "start_time": "2024-08-07T07:25:53.897Z"
   },
   {
    "duration": 6,
    "start_time": "2024-08-07T07:25:55.557Z"
   },
   {
    "duration": 19,
    "start_time": "2024-08-07T07:26:01.557Z"
   },
   {
    "duration": 8,
    "start_time": "2024-08-07T07:28:37.896Z"
   },
   {
    "duration": 13,
    "start_time": "2024-08-07T07:29:03.773Z"
   },
   {
    "duration": 7,
    "start_time": "2024-08-07T07:29:39.920Z"
   },
   {
    "duration": 6,
    "start_time": "2024-08-07T07:31:15.948Z"
   },
   {
    "duration": 10,
    "start_time": "2024-08-07T07:31:16.544Z"
   },
   {
    "duration": 24,
    "start_time": "2024-08-07T07:31:21.079Z"
   },
   {
    "duration": 17,
    "start_time": "2024-08-07T07:31:21.716Z"
   },
   {
    "duration": 21,
    "start_time": "2024-08-07T07:31:24.373Z"
   },
   {
    "duration": 13,
    "start_time": "2024-08-07T07:31:25.551Z"
   },
   {
    "duration": 33,
    "start_time": "2024-08-07T07:31:44.890Z"
   },
   {
    "duration": 5,
    "start_time": "2024-08-07T07:31:45.182Z"
   },
   {
    "duration": 4,
    "start_time": "2024-08-07T07:31:47.096Z"
   },
   {
    "duration": 19,
    "start_time": "2024-08-07T07:31:48.492Z"
   },
   {
    "duration": 47,
    "start_time": "2024-08-07T07:31:58.143Z"
   },
   {
    "duration": 106,
    "start_time": "2024-08-07T07:32:43.055Z"
   },
   {
    "duration": 5,
    "start_time": "2024-08-07T07:33:27.419Z"
   },
   {
    "duration": 49,
    "start_time": "2024-08-07T07:33:27.965Z"
   },
   {
    "duration": 6,
    "start_time": "2024-08-07T07:33:28.495Z"
   },
   {
    "duration": 5,
    "start_time": "2024-08-07T07:33:28.635Z"
   },
   {
    "duration": 5,
    "start_time": "2024-08-07T07:33:28.777Z"
   },
   {
    "duration": 5,
    "start_time": "2024-08-07T07:33:28.929Z"
   },
   {
    "duration": 31,
    "start_time": "2024-08-07T07:33:29.099Z"
   },
   {
    "duration": 25,
    "start_time": "2024-08-07T07:33:29.881Z"
   },
   {
    "duration": 22,
    "start_time": "2024-08-07T07:33:30.861Z"
   },
   {
    "duration": 20,
    "start_time": "2024-08-07T07:33:36.484Z"
   },
   {
    "duration": 7,
    "start_time": "2024-08-07T07:33:38.521Z"
   },
   {
    "duration": 6,
    "start_time": "2024-08-07T07:33:39.041Z"
   },
   {
    "duration": 7,
    "start_time": "2024-08-07T07:33:39.205Z"
   },
   {
    "duration": 191,
    "start_time": "2024-08-07T07:33:39.353Z"
   },
   {
    "duration": 7,
    "start_time": "2024-08-07T07:33:39.547Z"
   },
   {
    "duration": 9,
    "start_time": "2024-08-07T07:33:46.096Z"
   },
   {
    "duration": 6,
    "start_time": "2024-08-07T07:33:46.428Z"
   },
   {
    "duration": 8,
    "start_time": "2024-08-07T07:33:50.785Z"
   },
   {
    "duration": 15,
    "start_time": "2024-08-07T07:33:55.916Z"
   },
   {
    "duration": 8,
    "start_time": "2024-08-07T07:34:03.529Z"
   },
   {
    "duration": 169,
    "start_time": "2024-08-07T07:34:04.576Z"
   },
   {
    "duration": 5,
    "start_time": "2024-08-07T07:34:13.028Z"
   },
   {
    "duration": 8,
    "start_time": "2024-08-07T07:34:13.631Z"
   },
   {
    "duration": 5,
    "start_time": "2024-08-07T07:34:15.386Z"
   },
   {
    "duration": 28,
    "start_time": "2024-08-07T07:35:38.107Z"
   },
   {
    "duration": 5,
    "start_time": "2024-08-07T07:35:39.616Z"
   },
   {
    "duration": 3,
    "start_time": "2024-08-07T07:35:45.344Z"
   },
   {
    "duration": 18,
    "start_time": "2024-08-07T07:35:46.487Z"
   },
   {
    "duration": 24,
    "start_time": "2024-08-07T07:36:58.184Z"
   },
   {
    "duration": 6,
    "start_time": "2024-08-07T07:37:13.568Z"
   },
   {
    "duration": 10,
    "start_time": "2024-08-07T07:37:14.758Z"
   },
   {
    "duration": 18,
    "start_time": "2024-08-07T07:37:30.285Z"
   },
   {
    "duration": 10,
    "start_time": "2024-08-07T07:37:31.172Z"
   },
   {
    "duration": 7,
    "start_time": "2024-08-07T07:37:37.256Z"
   },
   {
    "duration": 6377,
    "start_time": "2024-08-07T07:37:43.802Z"
   },
   {
    "duration": 51,
    "start_time": "2024-08-07T07:37:50.182Z"
   },
   {
    "duration": 18,
    "start_time": "2024-08-07T07:37:50.235Z"
   },
   {
    "duration": 17,
    "start_time": "2024-08-07T07:37:50.257Z"
   },
   {
    "duration": 53,
    "start_time": "2024-08-07T07:37:50.277Z"
   },
   {
    "duration": 1639,
    "start_time": "2024-08-07T07:43:10.320Z"
   },
   {
    "duration": 53,
    "start_time": "2024-08-07T07:43:11.963Z"
   },
   {
    "duration": 23,
    "start_time": "2024-08-07T07:43:12.019Z"
   },
   {
    "duration": 6,
    "start_time": "2024-08-07T07:43:12.051Z"
   },
   {
    "duration": 5,
    "start_time": "2024-08-07T07:43:12.063Z"
   },
   {
    "duration": 6,
    "start_time": "2024-08-07T07:43:12.071Z"
   },
   {
    "duration": 73,
    "start_time": "2024-08-07T07:43:12.080Z"
   },
   {
    "duration": 27,
    "start_time": "2024-08-07T07:43:12.157Z"
   },
   {
    "duration": 48,
    "start_time": "2024-08-07T07:43:12.187Z"
   },
   {
    "duration": 23,
    "start_time": "2024-08-07T07:43:12.240Z"
   },
   {
    "duration": 8,
    "start_time": "2024-08-07T07:43:12.266Z"
   },
   {
    "duration": 6,
    "start_time": "2024-08-07T07:43:12.277Z"
   },
   {
    "duration": 45,
    "start_time": "2024-08-07T07:43:12.287Z"
   },
   {
    "duration": 234,
    "start_time": "2024-08-07T07:43:12.341Z"
   },
   {
    "duration": 7,
    "start_time": "2024-08-07T07:43:12.578Z"
   },
   {
    "duration": 9,
    "start_time": "2024-08-07T07:43:12.588Z"
   },
   {
    "duration": 31,
    "start_time": "2024-08-07T07:43:12.601Z"
   },
   {
    "duration": 12,
    "start_time": "2024-08-07T07:43:12.635Z"
   },
   {
    "duration": 16,
    "start_time": "2024-08-07T07:43:12.650Z"
   },
   {
    "duration": 3,
    "start_time": "2024-08-07T07:43:12.669Z"
   },
   {
    "duration": 4,
    "start_time": "2024-08-07T07:43:12.675Z"
   },
   {
    "duration": 51,
    "start_time": "2024-08-07T07:43:12.682Z"
   },
   {
    "duration": 198,
    "start_time": "2024-08-07T07:43:12.737Z"
   },
   {
    "duration": 6,
    "start_time": "2024-08-07T07:43:12.941Z"
   },
   {
    "duration": 8,
    "start_time": "2024-08-07T07:43:12.951Z"
   },
   {
    "duration": 6,
    "start_time": "2024-08-07T07:43:12.962Z"
   },
   {
    "duration": 69,
    "start_time": "2024-08-07T07:43:12.972Z"
   },
   {
    "duration": 5,
    "start_time": "2024-08-07T07:43:13.045Z"
   },
   {
    "duration": 5,
    "start_time": "2024-08-07T07:43:13.054Z"
   },
   {
    "duration": 18,
    "start_time": "2024-08-07T07:43:13.064Z"
   },
   {
    "duration": 46,
    "start_time": "2024-08-07T07:43:13.085Z"
   },
   {
    "duration": 10,
    "start_time": "2024-08-07T07:43:13.135Z"
   },
   {
    "duration": 19,
    "start_time": "2024-08-07T07:43:13.148Z"
   },
   {
    "duration": 11,
    "start_time": "2024-08-07T07:43:13.170Z"
   },
   {
    "duration": 6,
    "start_time": "2024-08-07T07:43:13.184Z"
   },
   {
    "duration": 6445,
    "start_time": "2024-08-07T07:43:13.232Z"
   },
   {
    "duration": 51,
    "start_time": "2024-08-07T07:43:19.680Z"
   },
   {
    "duration": 17,
    "start_time": "2024-08-07T07:43:19.734Z"
   },
   {
    "duration": 18,
    "start_time": "2024-08-07T07:43:19.754Z"
   },
   {
    "duration": 18,
    "start_time": "2024-08-07T07:43:19.775Z"
   },
   {
    "duration": 10,
    "start_time": "2024-08-07T07:44:20.739Z"
   },
   {
    "duration": 9,
    "start_time": "2024-08-07T07:47:26.190Z"
   },
   {
    "duration": 10,
    "start_time": "2024-08-07T07:47:27.935Z"
   },
   {
    "duration": 9,
    "start_time": "2024-08-07T07:47:28.841Z"
   },
   {
    "duration": 1637,
    "start_time": "2024-08-07T07:47:40.228Z"
   },
   {
    "duration": 50,
    "start_time": "2024-08-07T07:47:41.868Z"
   },
   {
    "duration": 9,
    "start_time": "2024-08-07T07:47:41.921Z"
   },
   {
    "duration": 7,
    "start_time": "2024-08-07T07:47:41.933Z"
   },
   {
    "duration": 6,
    "start_time": "2024-08-07T07:47:41.946Z"
   },
   {
    "duration": 6,
    "start_time": "2024-08-07T07:47:41.955Z"
   },
   {
    "duration": 92,
    "start_time": "2024-08-07T07:47:41.964Z"
   },
   {
    "duration": 31,
    "start_time": "2024-08-07T07:47:42.060Z"
   },
   {
    "duration": 49,
    "start_time": "2024-08-07T07:47:42.093Z"
   },
   {
    "duration": 21,
    "start_time": "2024-08-07T07:47:42.145Z"
   },
   {
    "duration": 8,
    "start_time": "2024-08-07T07:47:42.168Z"
   },
   {
    "duration": 8,
    "start_time": "2024-08-07T07:47:42.179Z"
   },
   {
    "duration": 45,
    "start_time": "2024-08-07T07:47:42.190Z"
   },
   {
    "duration": 236,
    "start_time": "2024-08-07T07:47:42.246Z"
   },
   {
    "duration": 6,
    "start_time": "2024-08-07T07:47:42.485Z"
   },
   {
    "duration": 8,
    "start_time": "2024-08-07T07:47:42.494Z"
   },
   {
    "duration": 23,
    "start_time": "2024-08-07T07:47:42.510Z"
   },
   {
    "duration": 11,
    "start_time": "2024-08-07T07:47:42.536Z"
   },
   {
    "duration": 15,
    "start_time": "2024-08-07T07:47:42.550Z"
   },
   {
    "duration": 3,
    "start_time": "2024-08-07T07:47:42.568Z"
   },
   {
    "duration": 3,
    "start_time": "2024-08-07T07:47:42.575Z"
   },
   {
    "duration": 11,
    "start_time": "2024-08-07T07:47:42.632Z"
   },
   {
    "duration": 196,
    "start_time": "2024-08-07T07:47:42.646Z"
   },
   {
    "duration": 7,
    "start_time": "2024-08-07T07:47:42.845Z"
   },
   {
    "duration": 8,
    "start_time": "2024-08-07T07:47:42.855Z"
   },
   {
    "duration": 6,
    "start_time": "2024-08-07T07:47:42.865Z"
   },
   {
    "duration": 67,
    "start_time": "2024-08-07T07:47:42.875Z"
   },
   {
    "duration": 5,
    "start_time": "2024-08-07T07:47:42.945Z"
   },
   {
    "duration": 4,
    "start_time": "2024-08-07T07:47:42.953Z"
   },
   {
    "duration": 20,
    "start_time": "2024-08-07T07:47:42.960Z"
   },
   {
    "duration": 49,
    "start_time": "2024-08-07T07:47:42.983Z"
   },
   {
    "duration": 12,
    "start_time": "2024-08-07T07:47:43.035Z"
   },
   {
    "duration": 10,
    "start_time": "2024-08-07T07:47:43.050Z"
   },
   {
    "duration": 11,
    "start_time": "2024-08-07T07:47:43.063Z"
   },
   {
    "duration": 10,
    "start_time": "2024-08-07T07:47:43.076Z"
   },
   {
    "duration": 7,
    "start_time": "2024-08-07T07:47:43.132Z"
   },
   {
    "duration": 6446,
    "start_time": "2024-08-07T07:47:43.142Z"
   },
   {
    "duration": 51,
    "start_time": "2024-08-07T07:47:49.591Z"
   },
   {
    "duration": 18,
    "start_time": "2024-08-07T07:47:49.644Z"
   },
   {
    "duration": 17,
    "start_time": "2024-08-07T07:47:49.665Z"
   },
   {
    "duration": 52,
    "start_time": "2024-08-07T07:47:49.689Z"
   },
   {
    "duration": 9,
    "start_time": "2024-08-07T07:48:32.044Z"
   },
   {
    "duration": 9,
    "start_time": "2024-08-07T07:48:43.647Z"
   },
   {
    "duration": 1595,
    "start_time": "2024-08-07T07:50:21.960Z"
   },
   {
    "duration": 52,
    "start_time": "2024-08-07T07:50:23.559Z"
   },
   {
    "duration": 7,
    "start_time": "2024-08-07T07:50:23.613Z"
   },
   {
    "duration": 6,
    "start_time": "2024-08-07T07:50:23.631Z"
   },
   {
    "duration": 5,
    "start_time": "2024-08-07T07:50:23.640Z"
   },
   {
    "duration": 6,
    "start_time": "2024-08-07T07:50:23.649Z"
   },
   {
    "duration": 73,
    "start_time": "2024-08-07T07:50:23.658Z"
   },
   {
    "duration": 28,
    "start_time": "2024-08-07T07:50:23.733Z"
   },
   {
    "duration": 23,
    "start_time": "2024-08-07T07:50:23.764Z"
   },
   {
    "duration": 55,
    "start_time": "2024-08-07T07:50:23.794Z"
   },
   {
    "duration": 8,
    "start_time": "2024-08-07T07:50:23.851Z"
   },
   {
    "duration": 8,
    "start_time": "2024-08-07T07:50:23.862Z"
   },
   {
    "duration": 7,
    "start_time": "2024-08-07T07:50:23.872Z"
   },
   {
    "duration": 255,
    "start_time": "2024-08-07T07:50:23.882Z"
   },
   {
    "duration": 7,
    "start_time": "2024-08-07T07:50:24.140Z"
   },
   {
    "duration": 8,
    "start_time": "2024-08-07T07:50:24.150Z"
   },
   {
    "duration": 7,
    "start_time": "2024-08-07T07:50:24.160Z"
   },
   {
    "duration": 8,
    "start_time": "2024-08-07T07:50:24.170Z"
   },
   {
    "duration": 57,
    "start_time": "2024-08-07T07:50:24.181Z"
   },
   {
    "duration": 11,
    "start_time": "2024-08-07T07:50:24.241Z"
   },
   {
    "duration": 7,
    "start_time": "2024-08-07T07:50:24.255Z"
   },
   {
    "duration": 9,
    "start_time": "2024-08-07T07:50:24.266Z"
   },
   {
    "duration": 233,
    "start_time": "2024-08-07T07:50:24.278Z"
   },
   {
    "duration": 6,
    "start_time": "2024-08-07T07:50:24.513Z"
   },
   {
    "duration": 6,
    "start_time": "2024-08-07T07:50:24.532Z"
   },
   {
    "duration": 6,
    "start_time": "2024-08-07T07:50:24.541Z"
   },
   {
    "duration": 29,
    "start_time": "2024-08-07T07:50:24.551Z"
   },
   {
    "duration": 43,
    "start_time": "2024-08-07T07:50:24.587Z"
   },
   {
    "duration": 3,
    "start_time": "2024-08-07T07:50:24.633Z"
   },
   {
    "duration": 23,
    "start_time": "2024-08-07T07:50:24.639Z"
   },
   {
    "duration": 8,
    "start_time": "2024-08-07T07:50:24.664Z"
   },
   {
    "duration": 11,
    "start_time": "2024-08-07T07:50:24.675Z"
   },
   {
    "duration": 51,
    "start_time": "2024-08-07T07:50:24.689Z"
   },
   {
    "duration": 12,
    "start_time": "2024-08-07T07:50:24.744Z"
   },
   {
    "duration": 13,
    "start_time": "2024-08-07T07:50:24.759Z"
   },
   {
    "duration": 9,
    "start_time": "2024-08-07T07:50:24.777Z"
   },
   {
    "duration": 46,
    "start_time": "2024-08-07T07:50:24.789Z"
   },
   {
    "duration": 6497,
    "start_time": "2024-08-07T07:50:24.838Z"
   },
   {
    "duration": 51,
    "start_time": "2024-08-07T07:50:31.338Z"
   },
   {
    "duration": 39,
    "start_time": "2024-08-07T07:50:31.392Z"
   },
   {
    "duration": 19,
    "start_time": "2024-08-07T07:50:31.434Z"
   },
   {
    "duration": 17,
    "start_time": "2024-08-07T07:50:31.457Z"
   },
   {
    "duration": 5,
    "start_time": "2024-08-07T07:53:06.434Z"
   },
   {
    "duration": 424,
    "start_time": "2024-08-07T07:58:03.592Z"
   },
   {
    "duration": 7,
    "start_time": "2024-08-07T07:59:48.568Z"
   },
   {
    "duration": 6,
    "start_time": "2024-08-07T08:00:02.271Z"
   },
   {
    "duration": 5,
    "start_time": "2024-08-07T08:03:03.210Z"
   },
   {
    "duration": 1646,
    "start_time": "2024-08-07T08:04:30.307Z"
   },
   {
    "duration": 55,
    "start_time": "2024-08-07T08:04:31.956Z"
   },
   {
    "duration": 7,
    "start_time": "2024-08-07T08:04:32.017Z"
   },
   {
    "duration": 8,
    "start_time": "2024-08-07T08:04:32.030Z"
   },
   {
    "duration": 11,
    "start_time": "2024-08-07T08:04:32.042Z"
   },
   {
    "duration": 7,
    "start_time": "2024-08-07T08:04:32.057Z"
   },
   {
    "duration": 82,
    "start_time": "2024-08-07T08:04:32.068Z"
   },
   {
    "duration": 26,
    "start_time": "2024-08-07T08:04:32.153Z"
   },
   {
    "duration": 21,
    "start_time": "2024-08-07T08:04:32.182Z"
   },
   {
    "duration": 23,
    "start_time": "2024-08-07T08:04:32.230Z"
   },
   {
    "duration": 8,
    "start_time": "2024-08-07T08:04:32.256Z"
   },
   {
    "duration": 6,
    "start_time": "2024-08-07T08:04:32.267Z"
   },
   {
    "duration": 7,
    "start_time": "2024-08-07T08:04:32.276Z"
   },
   {
    "duration": 233,
    "start_time": "2024-08-07T08:04:32.332Z"
   },
   {
    "duration": 6,
    "start_time": "2024-08-07T08:04:32.569Z"
   },
   {
    "duration": 11,
    "start_time": "2024-08-07T08:04:32.579Z"
   },
   {
    "duration": 37,
    "start_time": "2024-08-07T08:04:32.593Z"
   },
   {
    "duration": 10,
    "start_time": "2024-08-07T08:04:32.634Z"
   },
   {
    "duration": 15,
    "start_time": "2024-08-07T08:04:32.650Z"
   },
   {
    "duration": 11,
    "start_time": "2024-08-07T08:04:32.668Z"
   },
   {
    "duration": 50,
    "start_time": "2024-08-07T08:04:32.682Z"
   },
   {
    "duration": 9,
    "start_time": "2024-08-07T08:04:32.736Z"
   },
   {
    "duration": 196,
    "start_time": "2024-08-07T08:04:32.747Z"
   },
   {
    "duration": 6,
    "start_time": "2024-08-07T08:04:32.946Z"
   },
   {
    "duration": 6,
    "start_time": "2024-08-07T08:04:32.961Z"
   },
   {
    "duration": 8,
    "start_time": "2024-08-07T08:04:32.969Z"
   },
   {
    "duration": 67,
    "start_time": "2024-08-07T08:04:32.980Z"
   },
   {
    "duration": 8,
    "start_time": "2024-08-07T08:04:33.055Z"
   },
   {
    "duration": 3,
    "start_time": "2024-08-07T08:04:33.066Z"
   },
   {
    "duration": 20,
    "start_time": "2024-08-07T08:04:33.072Z"
   },
   {
    "duration": 40,
    "start_time": "2024-08-07T08:04:33.095Z"
   },
   {
    "duration": 12,
    "start_time": "2024-08-07T08:04:33.138Z"
   },
   {
    "duration": 11,
    "start_time": "2024-08-07T08:04:33.152Z"
   },
   {
    "duration": 12,
    "start_time": "2024-08-07T08:04:33.166Z"
   },
   {
    "duration": 51,
    "start_time": "2024-08-07T08:04:33.181Z"
   },
   {
    "duration": 10,
    "start_time": "2024-08-07T08:04:33.235Z"
   },
   {
    "duration": 7,
    "start_time": "2024-08-07T08:04:33.248Z"
   },
   {
    "duration": 452,
    "start_time": "2024-08-07T08:04:33.258Z"
   },
   {
    "duration": 0,
    "start_time": "2024-08-07T08:04:33.713Z"
   },
   {
    "duration": 0,
    "start_time": "2024-08-07T08:04:33.714Z"
   },
   {
    "duration": 0,
    "start_time": "2024-08-07T08:04:33.717Z"
   },
   {
    "duration": 0,
    "start_time": "2024-08-07T08:04:33.730Z"
   },
   {
    "duration": 0,
    "start_time": "2024-08-07T08:04:33.732Z"
   },
   {
    "duration": 0,
    "start_time": "2024-08-07T08:04:33.734Z"
   },
   {
    "duration": 0,
    "start_time": "2024-08-07T08:04:33.737Z"
   },
   {
    "duration": 404142,
    "start_time": "2024-08-07T08:10:22.720Z"
   },
   {
    "duration": 30,
    "start_time": "2024-08-07T08:17:06.866Z"
   },
   {
    "duration": 0,
    "start_time": "2024-08-07T08:17:06.899Z"
   },
   {
    "duration": 0,
    "start_time": "2024-08-07T08:17:06.901Z"
   },
   {
    "duration": 0,
    "start_time": "2024-08-07T08:17:06.903Z"
   },
   {
    "duration": 5,
    "start_time": "2024-08-07T08:18:43.085Z"
   },
   {
    "duration": 1589,
    "start_time": "2024-08-07T08:40:38.163Z"
   },
   {
    "duration": 51,
    "start_time": "2024-08-07T08:40:39.755Z"
   },
   {
    "duration": 6,
    "start_time": "2024-08-07T08:40:39.810Z"
   },
   {
    "duration": 6,
    "start_time": "2024-08-07T08:40:39.830Z"
   },
   {
    "duration": 9,
    "start_time": "2024-08-07T08:40:39.839Z"
   },
   {
    "duration": 6,
    "start_time": "2024-08-07T08:40:39.850Z"
   },
   {
    "duration": 71,
    "start_time": "2024-08-07T08:40:39.859Z"
   },
   {
    "duration": 28,
    "start_time": "2024-08-07T08:40:39.933Z"
   },
   {
    "duration": 23,
    "start_time": "2024-08-07T08:40:39.964Z"
   },
   {
    "duration": 52,
    "start_time": "2024-08-07T08:40:39.992Z"
   },
   {
    "duration": 8,
    "start_time": "2024-08-07T08:40:40.047Z"
   },
   {
    "duration": 6,
    "start_time": "2024-08-07T08:40:40.058Z"
   },
   {
    "duration": 7,
    "start_time": "2024-08-07T08:40:40.067Z"
   },
   {
    "duration": 256,
    "start_time": "2024-08-07T08:40:40.077Z"
   },
   {
    "duration": 8,
    "start_time": "2024-08-07T08:40:40.336Z"
   },
   {
    "duration": 8,
    "start_time": "2024-08-07T08:40:40.349Z"
   },
   {
    "duration": 7,
    "start_time": "2024-08-07T08:40:40.361Z"
   },
   {
    "duration": 9,
    "start_time": "2024-08-07T08:40:40.373Z"
   },
   {
    "duration": 56,
    "start_time": "2024-08-07T08:40:40.386Z"
   },
   {
    "duration": 12,
    "start_time": "2024-08-07T08:40:40.445Z"
   },
   {
    "duration": 6,
    "start_time": "2024-08-07T08:40:40.460Z"
   },
   {
    "duration": 9,
    "start_time": "2024-08-07T08:40:40.469Z"
   },
   {
    "duration": 222,
    "start_time": "2024-08-07T08:40:40.481Z"
   },
   {
    "duration": 5,
    "start_time": "2024-08-07T08:40:40.707Z"
   },
   {
    "duration": 6,
    "start_time": "2024-08-07T08:40:40.730Z"
   },
   {
    "duration": 6,
    "start_time": "2024-08-07T08:40:40.739Z"
   },
   {
    "duration": 29,
    "start_time": "2024-08-07T08:40:40.748Z"
   },
   {
    "duration": 5,
    "start_time": "2024-08-07T08:40:40.784Z"
   },
   {
    "duration": 40,
    "start_time": "2024-08-07T08:40:40.792Z"
   },
   {
    "duration": 24,
    "start_time": "2024-08-07T08:40:40.835Z"
   },
   {
    "duration": 7,
    "start_time": "2024-08-07T08:40:40.861Z"
   },
   {
    "duration": 11,
    "start_time": "2024-08-07T08:40:40.871Z"
   },
   {
    "duration": 50,
    "start_time": "2024-08-07T08:40:40.884Z"
   },
   {
    "duration": 10,
    "start_time": "2024-08-07T08:40:40.937Z"
   },
   {
    "duration": 9,
    "start_time": "2024-08-07T08:40:40.950Z"
   },
   {
    "duration": 9,
    "start_time": "2024-08-07T08:40:40.962Z"
   },
   {
    "duration": 7,
    "start_time": "2024-08-07T08:40:40.974Z"
   },
   {
    "duration": 403905,
    "start_time": "2024-08-07T08:40:40.983Z"
   },
   {
    "duration": 1569,
    "start_time": "2024-08-07T08:49:17.579Z"
   },
   {
    "duration": 51,
    "start_time": "2024-08-07T08:49:19.152Z"
   },
   {
    "duration": 7,
    "start_time": "2024-08-07T08:49:19.205Z"
   },
   {
    "duration": 17,
    "start_time": "2024-08-07T08:49:19.216Z"
   },
   {
    "duration": 5,
    "start_time": "2024-08-07T08:49:19.240Z"
   },
   {
    "duration": 6,
    "start_time": "2024-08-07T08:49:19.250Z"
   },
   {
    "duration": 75,
    "start_time": "2024-08-07T08:49:19.259Z"
   },
   {
    "duration": 28,
    "start_time": "2024-08-07T08:49:19.337Z"
   },
   {
    "duration": 23,
    "start_time": "2024-08-07T08:49:19.368Z"
   },
   {
    "duration": 49,
    "start_time": "2024-08-07T08:49:19.394Z"
   },
   {
    "duration": 8,
    "start_time": "2024-08-07T08:49:19.447Z"
   },
   {
    "duration": 6,
    "start_time": "2024-08-07T08:49:19.459Z"
   },
   {
    "duration": 7,
    "start_time": "2024-08-07T08:49:19.468Z"
   },
   {
    "duration": 255,
    "start_time": "2024-08-07T08:49:19.481Z"
   },
   {
    "duration": 7,
    "start_time": "2024-08-07T08:49:19.739Z"
   },
   {
    "duration": 8,
    "start_time": "2024-08-07T08:49:19.749Z"
   },
   {
    "duration": 8,
    "start_time": "2024-08-07T08:49:19.760Z"
   },
   {
    "duration": 9,
    "start_time": "2024-08-07T08:49:19.771Z"
   },
   {
    "duration": 58,
    "start_time": "2024-08-07T08:49:19.784Z"
   },
   {
    "duration": 12,
    "start_time": "2024-08-07T08:49:19.845Z"
   },
   {
    "duration": 7,
    "start_time": "2024-08-07T08:49:19.859Z"
   },
   {
    "duration": 8,
    "start_time": "2024-08-07T08:49:19.869Z"
   },
   {
    "duration": 232,
    "start_time": "2024-08-07T08:49:19.881Z"
   },
   {
    "duration": 14,
    "start_time": "2024-08-07T08:49:20.116Z"
   },
   {
    "duration": 6,
    "start_time": "2024-08-07T08:49:20.133Z"
   },
   {
    "duration": 6,
    "start_time": "2024-08-07T08:49:20.143Z"
   },
   {
    "duration": 31,
    "start_time": "2024-08-07T08:49:20.153Z"
   },
   {
    "duration": 46,
    "start_time": "2024-08-07T08:49:20.187Z"
   },
   {
    "duration": 4,
    "start_time": "2024-08-07T08:49:20.236Z"
   },
   {
    "duration": 21,
    "start_time": "2024-08-07T08:49:20.243Z"
   },
   {
    "duration": 9,
    "start_time": "2024-08-07T08:49:20.266Z"
   },
   {
    "duration": 55,
    "start_time": "2024-08-07T08:49:20.278Z"
   },
   {
    "duration": 12,
    "start_time": "2024-08-07T08:49:20.336Z"
   },
   {
    "duration": 11,
    "start_time": "2024-08-07T08:49:20.352Z"
   },
   {
    "duration": 9,
    "start_time": "2024-08-07T08:49:20.366Z"
   },
   {
    "duration": 55,
    "start_time": "2024-08-07T08:49:20.379Z"
   },
   {
    "duration": 8,
    "start_time": "2024-08-07T08:49:20.437Z"
   },
   {
    "duration": 452,
    "start_time": "2024-08-07T08:49:20.448Z"
   },
   {
    "duration": 0,
    "start_time": "2024-08-07T08:49:20.904Z"
   },
   {
    "duration": 0,
    "start_time": "2024-08-07T08:49:20.906Z"
   },
   {
    "duration": 0,
    "start_time": "2024-08-07T08:49:20.909Z"
   },
   {
    "duration": 0,
    "start_time": "2024-08-07T08:49:20.931Z"
   },
   {
    "duration": 0,
    "start_time": "2024-08-07T08:49:20.933Z"
   },
   {
    "duration": 0,
    "start_time": "2024-08-07T08:49:20.935Z"
   },
   {
    "duration": 0,
    "start_time": "2024-08-07T08:49:20.938Z"
   },
   {
    "duration": 0,
    "start_time": "2024-08-07T08:49:20.939Z"
   },
   {
    "duration": 0,
    "start_time": "2024-08-07T08:49:20.942Z"
   },
   {
    "duration": 0,
    "start_time": "2024-08-07T08:49:20.944Z"
   },
   {
    "duration": 0,
    "start_time": "2024-08-07T08:49:20.946Z"
   },
   {
    "duration": 0,
    "start_time": "2024-08-07T08:49:20.949Z"
   },
   {
    "duration": 0,
    "start_time": "2024-08-07T08:49:20.950Z"
   },
   {
    "duration": 40693,
    "start_time": "2024-08-07T08:50:24.675Z"
   },
   {
    "duration": 83314,
    "start_time": "2024-08-07T08:51:07.432Z"
   },
   {
    "duration": 1607,
    "start_time": "2024-08-07T08:53:42.743Z"
   },
   {
    "duration": 51,
    "start_time": "2024-08-07T08:53:44.354Z"
   },
   {
    "duration": 7,
    "start_time": "2024-08-07T08:53:44.407Z"
   },
   {
    "duration": 11,
    "start_time": "2024-08-07T08:53:44.431Z"
   },
   {
    "duration": 6,
    "start_time": "2024-08-07T08:53:44.447Z"
   },
   {
    "duration": 5,
    "start_time": "2024-08-07T08:53:44.456Z"
   },
   {
    "duration": 33,
    "start_time": "2024-08-07T08:53:44.464Z"
   },
   {
    "duration": 57,
    "start_time": "2024-08-07T08:53:44.499Z"
   },
   {
    "duration": 22,
    "start_time": "2024-08-07T08:53:44.559Z"
   },
   {
    "duration": 62,
    "start_time": "2024-08-07T08:53:44.584Z"
   },
   {
    "duration": 8,
    "start_time": "2024-08-07T08:53:44.649Z"
   },
   {
    "duration": 6,
    "start_time": "2024-08-07T08:53:44.659Z"
   },
   {
    "duration": 6,
    "start_time": "2024-08-07T08:53:44.669Z"
   },
   {
    "duration": 246,
    "start_time": "2024-08-07T08:53:44.682Z"
   },
   {
    "duration": 7,
    "start_time": "2024-08-07T08:53:44.931Z"
   },
   {
    "duration": 7,
    "start_time": "2024-08-07T08:53:44.943Z"
   },
   {
    "duration": 6,
    "start_time": "2024-08-07T08:53:44.953Z"
   },
   {
    "duration": 10,
    "start_time": "2024-08-07T08:53:44.962Z"
   },
   {
    "duration": 63,
    "start_time": "2024-08-07T08:53:44.975Z"
   },
   {
    "duration": 12,
    "start_time": "2024-08-07T08:53:45.041Z"
   },
   {
    "duration": 9,
    "start_time": "2024-08-07T08:53:45.055Z"
   },
   {
    "duration": 8,
    "start_time": "2024-08-07T08:53:45.067Z"
   },
   {
    "duration": 225,
    "start_time": "2024-08-07T08:53:45.077Z"
   },
   {
    "duration": 6,
    "start_time": "2024-08-07T08:53:45.305Z"
   },
   {
    "duration": 20,
    "start_time": "2024-08-07T08:53:45.314Z"
   },
   {
    "duration": 7,
    "start_time": "2024-08-07T08:53:45.337Z"
   },
   {
    "duration": 30,
    "start_time": "2024-08-07T08:53:45.346Z"
   },
   {
    "duration": 5,
    "start_time": "2024-08-07T08:53:45.379Z"
   },
   {
    "duration": 44,
    "start_time": "2024-08-07T08:53:45.387Z"
   },
   {
    "duration": 21,
    "start_time": "2024-08-07T08:53:45.433Z"
   },
   {
    "duration": 6,
    "start_time": "2024-08-07T08:53:45.457Z"
   },
   {
    "duration": 10,
    "start_time": "2024-08-07T08:53:45.466Z"
   },
   {
    "duration": 51,
    "start_time": "2024-08-07T08:53:45.479Z"
   },
   {
    "duration": 10,
    "start_time": "2024-08-07T08:53:45.534Z"
   },
   {
    "duration": 10,
    "start_time": "2024-08-07T08:53:45.548Z"
   },
   {
    "duration": 10,
    "start_time": "2024-08-07T08:53:45.561Z"
   },
   {
    "duration": 7,
    "start_time": "2024-08-07T08:53:45.574Z"
   },
   {
    "duration": 46487,
    "start_time": "2024-08-07T08:53:45.632Z"
   },
   {
    "duration": 436,
    "start_time": "2024-08-07T08:56:20.533Z"
   },
   {
    "duration": 0,
    "start_time": "2024-08-07T08:56:20.972Z"
   },
   {
    "duration": 0,
    "start_time": "2024-08-07T08:56:20.975Z"
   },
   {
    "duration": 0,
    "start_time": "2024-08-07T08:56:20.977Z"
   },
   {
    "duration": 0,
    "start_time": "2024-08-07T08:56:20.979Z"
   },
   {
    "duration": 0,
    "start_time": "2024-08-07T08:56:20.981Z"
   },
   {
    "duration": 0,
    "start_time": "2024-08-07T08:56:20.984Z"
   },
   {
    "duration": 0,
    "start_time": "2024-08-07T08:56:20.987Z"
   },
   {
    "duration": 0,
    "start_time": "2024-08-07T08:56:20.989Z"
   },
   {
    "duration": 0,
    "start_time": "2024-08-07T08:56:20.991Z"
   },
   {
    "duration": 0,
    "start_time": "2024-08-07T08:56:20.993Z"
   },
   {
    "duration": 0,
    "start_time": "2024-08-07T08:56:20.995Z"
   },
   {
    "duration": 0,
    "start_time": "2024-08-07T08:56:21.031Z"
   },
   {
    "duration": 27234,
    "start_time": "2024-08-07T08:57:17.782Z"
   },
   {
    "duration": 66806,
    "start_time": "2024-08-07T08:58:20.755Z"
   },
   {
    "duration": 2453,
    "start_time": "2024-08-07T08:59:29.974Z"
   },
   {
    "duration": 1756,
    "start_time": "2024-08-07T08:59:56.712Z"
   },
   {
    "duration": 53,
    "start_time": "2024-08-07T08:59:58.471Z"
   },
   {
    "duration": 6,
    "start_time": "2024-08-07T08:59:58.529Z"
   },
   {
    "duration": 6,
    "start_time": "2024-08-07T08:59:58.540Z"
   },
   {
    "duration": 5,
    "start_time": "2024-08-07T08:59:58.550Z"
   },
   {
    "duration": 5,
    "start_time": "2024-08-07T08:59:58.559Z"
   },
   {
    "duration": 81,
    "start_time": "2024-08-07T08:59:58.568Z"
   },
   {
    "duration": 26,
    "start_time": "2024-08-07T08:59:58.653Z"
   },
   {
    "duration": 22,
    "start_time": "2024-08-07T08:59:58.682Z"
   },
   {
    "duration": 20,
    "start_time": "2024-08-07T08:59:58.734Z"
   },
   {
    "duration": 8,
    "start_time": "2024-08-07T08:59:58.757Z"
   },
   {
    "duration": 6,
    "start_time": "2024-08-07T08:59:58.767Z"
   },
   {
    "duration": 6,
    "start_time": "2024-08-07T08:59:58.777Z"
   },
   {
    "duration": 260,
    "start_time": "2024-08-07T08:59:58.786Z"
   },
   {
    "duration": 7,
    "start_time": "2024-08-07T08:59:59.050Z"
   },
   {
    "duration": 7,
    "start_time": "2024-08-07T08:59:59.060Z"
   },
   {
    "duration": 6,
    "start_time": "2024-08-07T08:59:59.070Z"
   },
   {
    "duration": 9,
    "start_time": "2024-08-07T08:59:59.079Z"
   },
   {
    "duration": 16,
    "start_time": "2024-08-07T08:59:59.131Z"
   },
   {
    "duration": 11,
    "start_time": "2024-08-07T08:59:59.151Z"
   },
   {
    "duration": 7,
    "start_time": "2024-08-07T08:59:59.165Z"
   },
   {
    "duration": 8,
    "start_time": "2024-08-07T08:59:59.175Z"
   },
   {
    "duration": 227,
    "start_time": "2024-08-07T08:59:59.186Z"
   },
   {
    "duration": 14,
    "start_time": "2024-08-07T08:59:59.417Z"
   },
   {
    "duration": 6,
    "start_time": "2024-08-07T08:59:59.434Z"
   },
   {
    "duration": 7,
    "start_time": "2024-08-07T08:59:59.443Z"
   },
   {
    "duration": 29,
    "start_time": "2024-08-07T08:59:59.454Z"
   },
   {
    "duration": 42,
    "start_time": "2024-08-07T08:59:59.491Z"
   },
   {
    "duration": 3,
    "start_time": "2024-08-07T08:59:59.536Z"
   },
   {
    "duration": 18,
    "start_time": "2024-08-07T08:59:59.542Z"
   },
   {
    "duration": 6,
    "start_time": "2024-08-07T08:59:59.565Z"
   },
   {
    "duration": 11,
    "start_time": "2024-08-07T08:59:59.574Z"
   },
   {
    "duration": 52,
    "start_time": "2024-08-07T08:59:59.587Z"
   },
   {
    "duration": 11,
    "start_time": "2024-08-07T08:59:59.642Z"
   },
   {
    "duration": 9,
    "start_time": "2024-08-07T08:59:59.657Z"
   },
   {
    "duration": 9,
    "start_time": "2024-08-07T08:59:59.669Z"
   },
   {
    "duration": 52,
    "start_time": "2024-08-07T08:59:59.682Z"
   },
   {
    "duration": 64359,
    "start_time": "2024-08-07T08:59:59.738Z"
   },
   {
    "duration": 5,
    "start_time": "2024-08-07T09:01:04.099Z"
   },
   {
    "duration": 17386,
    "start_time": "2024-08-07T09:01:04.108Z"
   },
   {
    "duration": 4,
    "start_time": "2024-08-07T09:01:21.497Z"
   },
   {
    "duration": 4,
    "start_time": "2024-08-07T09:01:21.504Z"
   },
   {
    "duration": 4,
    "start_time": "2024-08-07T09:01:21.511Z"
   },
   {
    "duration": 4,
    "start_time": "2024-08-07T09:01:21.518Z"
   },
   {
    "duration": 2409,
    "start_time": "2024-08-07T09:01:21.525Z"
   },
   {
    "duration": 0,
    "start_time": "2024-08-07T09:01:23.937Z"
   },
   {
    "duration": 0,
    "start_time": "2024-08-07T09:01:23.939Z"
   },
   {
    "duration": 0,
    "start_time": "2024-08-07T09:01:23.941Z"
   },
   {
    "duration": 0,
    "start_time": "2024-08-07T09:01:23.943Z"
   },
   {
    "duration": 1,
    "start_time": "2024-08-07T09:01:23.945Z"
   },
   {
    "duration": 0,
    "start_time": "2024-08-07T09:01:23.947Z"
   },
   {
    "duration": 2566,
    "start_time": "2024-08-07T09:01:54.998Z"
   },
   {
    "duration": 110,
    "start_time": "2024-08-07T09:02:06.739Z"
   },
   {
    "duration": 128,
    "start_time": "2024-08-07T09:02:14.417Z"
   },
   {
    "duration": 110,
    "start_time": "2024-08-07T09:02:21.385Z"
   },
   {
    "duration": 18,
    "start_time": "2024-08-07T09:02:27.224Z"
   },
   {
    "duration": 17,
    "start_time": "2024-08-07T09:02:31.770Z"
   },
   {
    "duration": 91091,
    "start_time": "2024-08-07T09:06:53.182Z"
   },
   {
    "duration": 4400,
    "start_time": "2024-08-07T09:08:24.276Z"
   },
   {
    "duration": 110,
    "start_time": "2024-08-07T09:12:50.475Z"
   },
   {
    "duration": 124,
    "start_time": "2024-08-07T09:12:55.770Z"
   },
   {
    "duration": 117,
    "start_time": "2024-08-07T09:13:50.466Z"
   },
   {
    "duration": 16,
    "start_time": "2024-08-07T09:14:03.129Z"
   },
   {
    "duration": 18,
    "start_time": "2024-08-07T09:14:04.492Z"
   },
   {
    "duration": 17,
    "start_time": "2024-08-07T09:14:05.182Z"
   },
   {
    "duration": 1650,
    "start_time": "2024-08-07T09:17:41.026Z"
   },
   {
    "duration": 53,
    "start_time": "2024-08-07T09:17:42.680Z"
   },
   {
    "duration": 7,
    "start_time": "2024-08-07T09:17:42.736Z"
   },
   {
    "duration": 5,
    "start_time": "2024-08-07T09:17:42.747Z"
   },
   {
    "duration": 5,
    "start_time": "2024-08-07T09:17:42.759Z"
   },
   {
    "duration": 6,
    "start_time": "2024-08-07T09:17:42.768Z"
   },
   {
    "duration": 83,
    "start_time": "2024-08-07T09:17:42.777Z"
   },
   {
    "duration": 27,
    "start_time": "2024-08-07T09:17:42.863Z"
   },
   {
    "duration": 52,
    "start_time": "2024-08-07T09:17:42.892Z"
   },
   {
    "duration": 21,
    "start_time": "2024-08-07T09:17:42.947Z"
   },
   {
    "duration": 8,
    "start_time": "2024-08-07T09:17:42.971Z"
   },
   {
    "duration": 9,
    "start_time": "2024-08-07T09:17:42.982Z"
   },
   {
    "duration": 41,
    "start_time": "2024-08-07T09:17:42.993Z"
   },
   {
    "duration": 236,
    "start_time": "2024-08-07T09:17:43.042Z"
   },
   {
    "duration": 7,
    "start_time": "2024-08-07T09:17:43.281Z"
   },
   {
    "duration": 7,
    "start_time": "2024-08-07T09:17:43.291Z"
   },
   {
    "duration": 29,
    "start_time": "2024-08-07T09:17:43.301Z"
   },
   {
    "duration": 9,
    "start_time": "2024-08-07T09:17:43.333Z"
   },
   {
    "duration": 15,
    "start_time": "2024-08-07T09:17:43.345Z"
   },
   {
    "duration": 11,
    "start_time": "2024-08-07T09:17:43.363Z"
   },
   {
    "duration": 7,
    "start_time": "2024-08-07T09:17:43.377Z"
   },
   {
    "duration": 8,
    "start_time": "2024-08-07T09:17:43.431Z"
   },
   {
    "duration": 194,
    "start_time": "2024-08-07T09:17:43.443Z"
   },
   {
    "duration": 7,
    "start_time": "2024-08-07T09:17:43.641Z"
   },
   {
    "duration": 11,
    "start_time": "2024-08-07T09:17:43.651Z"
   },
   {
    "duration": 8,
    "start_time": "2024-08-07T09:17:43.666Z"
   },
   {
    "duration": 65,
    "start_time": "2024-08-07T09:17:43.677Z"
   },
   {
    "duration": 6,
    "start_time": "2024-08-07T09:17:43.744Z"
   },
   {
    "duration": 3,
    "start_time": "2024-08-07T09:17:43.753Z"
   },
   {
    "duration": 20,
    "start_time": "2024-08-07T09:17:43.759Z"
   },
   {
    "duration": 7,
    "start_time": "2024-08-07T09:17:43.781Z"
   },
   {
    "duration": 10,
    "start_time": "2024-08-07T09:17:43.831Z"
   },
   {
    "duration": 11,
    "start_time": "2024-08-07T09:17:43.844Z"
   },
   {
    "duration": 11,
    "start_time": "2024-08-07T09:17:43.858Z"
   },
   {
    "duration": 9,
    "start_time": "2024-08-07T09:17:43.872Z"
   },
   {
    "duration": 54,
    "start_time": "2024-08-07T09:17:43.883Z"
   },
   {
    "duration": 7,
    "start_time": "2024-08-07T09:17:43.940Z"
   },
   {
    "duration": 4,
    "start_time": "2024-08-07T09:17:43.950Z"
   },
   {
    "duration": 4,
    "start_time": "2024-08-07T09:17:43.957Z"
   },
   {
    "duration": 5,
    "start_time": "2024-08-07T09:17:43.963Z"
   },
   {
    "duration": 3,
    "start_time": "2024-08-07T09:17:43.976Z"
   },
   {
    "duration": 1094,
    "start_time": "2024-08-07T09:17:44.030Z"
   },
   {
    "duration": 0,
    "start_time": "2024-08-07T09:17:45.126Z"
   },
   {
    "duration": 0,
    "start_time": "2024-08-07T09:17:45.127Z"
   },
   {
    "duration": 0,
    "start_time": "2024-08-07T09:17:45.128Z"
   },
   {
    "duration": 0,
    "start_time": "2024-08-07T09:17:45.129Z"
   },
   {
    "duration": 0,
    "start_time": "2024-08-07T09:17:45.132Z"
   },
   {
    "duration": 6,
    "start_time": "2024-08-07T09:18:37.376Z"
   },
   {
    "duration": 6360,
    "start_time": "2024-08-07T09:18:47.521Z"
   },
   {
    "duration": 25,
    "start_time": "2024-08-07T09:18:57.351Z"
   },
   {
    "duration": 24,
    "start_time": "2024-08-07T09:19:34.061Z"
   },
   {
    "duration": 32,
    "start_time": "2024-08-07T09:25:46.836Z"
   },
   {
    "duration": 81762,
    "start_time": "2024-08-07T09:26:00.416Z"
   },
   {
    "duration": 3431,
    "start_time": "2024-08-07T09:27:22.181Z"
   },
   {
    "duration": 0,
    "start_time": "2024-08-07T09:27:25.615Z"
   },
   {
    "duration": 0,
    "start_time": "2024-08-07T09:27:25.617Z"
   },
   {
    "duration": 0,
    "start_time": "2024-08-07T09:27:25.631Z"
   },
   {
    "duration": 0,
    "start_time": "2024-08-07T09:27:25.632Z"
   },
   {
    "duration": 0,
    "start_time": "2024-08-07T09:27:25.634Z"
   },
   {
    "duration": 6,
    "start_time": "2024-08-07T09:27:46.238Z"
   },
   {
    "duration": 3383,
    "start_time": "2024-08-07T09:28:14.415Z"
   },
   {
    "duration": 90508,
    "start_time": "2024-08-07T09:28:36.150Z"
   },
   {
    "duration": 24433,
    "start_time": "2024-08-07T09:30:06.661Z"
   },
   {
    "duration": 4331,
    "start_time": "2024-08-07T09:30:31.097Z"
   },
   {
    "duration": 1596,
    "start_time": "2024-08-07T09:32:44.856Z"
   },
   {
    "duration": 54,
    "start_time": "2024-08-07T09:32:46.455Z"
   },
   {
    "duration": 7,
    "start_time": "2024-08-07T09:32:46.511Z"
   },
   {
    "duration": 12,
    "start_time": "2024-08-07T09:32:46.521Z"
   },
   {
    "duration": 5,
    "start_time": "2024-08-07T09:32:46.539Z"
   },
   {
    "duration": 7,
    "start_time": "2024-08-07T09:32:46.547Z"
   },
   {
    "duration": 74,
    "start_time": "2024-08-07T09:32:46.557Z"
   },
   {
    "duration": 28,
    "start_time": "2024-08-07T09:32:46.633Z"
   },
   {
    "duration": 22,
    "start_time": "2024-08-07T09:32:46.664Z"
   },
   {
    "duration": 53,
    "start_time": "2024-08-07T09:32:46.689Z"
   },
   {
    "duration": 8,
    "start_time": "2024-08-07T09:32:46.745Z"
   },
   {
    "duration": 6,
    "start_time": "2024-08-07T09:32:46.758Z"
   },
   {
    "duration": 7,
    "start_time": "2024-08-07T09:32:46.767Z"
   },
   {
    "duration": 248,
    "start_time": "2024-08-07T09:32:46.781Z"
   },
   {
    "duration": 6,
    "start_time": "2024-08-07T09:32:47.032Z"
   },
   {
    "duration": 8,
    "start_time": "2024-08-07T09:32:47.042Z"
   },
   {
    "duration": 6,
    "start_time": "2024-08-07T09:32:47.053Z"
   },
   {
    "duration": 9,
    "start_time": "2024-08-07T09:32:47.062Z"
   },
   {
    "duration": 59,
    "start_time": "2024-08-07T09:32:47.074Z"
   },
   {
    "duration": 11,
    "start_time": "2024-08-07T09:32:47.136Z"
   },
   {
    "duration": 7,
    "start_time": "2024-08-07T09:32:47.150Z"
   },
   {
    "duration": 8,
    "start_time": "2024-08-07T09:32:47.160Z"
   },
   {
    "duration": 222,
    "start_time": "2024-08-07T09:32:47.171Z"
   },
   {
    "duration": 6,
    "start_time": "2024-08-07T09:32:47.398Z"
   },
   {
    "duration": 22,
    "start_time": "2024-08-07T09:32:47.408Z"
   },
   {
    "duration": 7,
    "start_time": "2024-08-07T09:32:47.434Z"
   },
   {
    "duration": 30,
    "start_time": "2024-08-07T09:32:47.444Z"
   },
   {
    "duration": 5,
    "start_time": "2024-08-07T09:32:47.477Z"
   },
   {
    "duration": 5,
    "start_time": "2024-08-07T09:32:47.485Z"
   },
   {
    "duration": 19,
    "start_time": "2024-08-07T09:32:47.532Z"
   },
   {
    "duration": 6,
    "start_time": "2024-08-07T09:32:47.554Z"
   },
   {
    "duration": 10,
    "start_time": "2024-08-07T09:32:47.563Z"
   },
   {
    "duration": 12,
    "start_time": "2024-08-07T09:32:47.576Z"
   },
   {
    "duration": 11,
    "start_time": "2024-08-07T09:32:47.631Z"
   },
   {
    "duration": 10,
    "start_time": "2024-08-07T09:32:47.646Z"
   },
   {
    "duration": 9,
    "start_time": "2024-08-07T09:32:47.659Z"
   },
   {
    "duration": 7,
    "start_time": "2024-08-07T09:32:47.671Z"
   },
   {
    "duration": 49,
    "start_time": "2024-08-07T09:32:47.681Z"
   },
   {
    "duration": 5,
    "start_time": "2024-08-07T09:32:47.733Z"
   },
   {
    "duration": 4,
    "start_time": "2024-08-07T09:32:47.741Z"
   },
   {
    "duration": 3,
    "start_time": "2024-08-07T09:32:47.754Z"
   },
   {
    "duration": 6468,
    "start_time": "2024-08-07T09:32:47.761Z"
   },
   {
    "duration": 54,
    "start_time": "2024-08-07T09:32:54.232Z"
   },
   {
    "duration": 75,
    "start_time": "2024-08-07T09:32:54.289Z"
   },
   {
    "duration": 18,
    "start_time": "2024-08-07T09:32:54.367Z"
   },
   {
    "duration": 48,
    "start_time": "2024-08-07T09:32:54.388Z"
   },
   {
    "duration": 19,
    "start_time": "2024-08-07T09:32:54.438Z"
   },
   {
    "duration": 1621,
    "start_time": "2024-08-07T09:41:31.063Z"
   },
   {
    "duration": 56,
    "start_time": "2024-08-07T09:41:32.687Z"
   },
   {
    "duration": 7,
    "start_time": "2024-08-07T09:41:32.745Z"
   },
   {
    "duration": 6,
    "start_time": "2024-08-07T09:41:32.757Z"
   },
   {
    "duration": 8,
    "start_time": "2024-08-07T09:41:32.766Z"
   },
   {
    "duration": 6,
    "start_time": "2024-08-07T09:41:32.778Z"
   },
   {
    "duration": 77,
    "start_time": "2024-08-07T09:41:32.788Z"
   },
   {
    "duration": 26,
    "start_time": "2024-08-07T09:41:32.868Z"
   },
   {
    "duration": 46,
    "start_time": "2024-08-07T09:41:32.898Z"
   },
   {
    "duration": 22,
    "start_time": "2024-08-07T09:41:32.950Z"
   },
   {
    "duration": 7,
    "start_time": "2024-08-07T09:41:32.975Z"
   },
   {
    "duration": 6,
    "start_time": "2024-08-07T09:41:32.986Z"
   },
   {
    "duration": 42,
    "start_time": "2024-08-07T09:41:32.994Z"
   },
   {
    "duration": 232,
    "start_time": "2024-08-07T09:41:33.040Z"
   },
   {
    "duration": 8,
    "start_time": "2024-08-07T09:41:33.276Z"
   },
   {
    "duration": 8,
    "start_time": "2024-08-07T09:41:33.287Z"
   },
   {
    "duration": 32,
    "start_time": "2024-08-07T09:41:33.298Z"
   },
   {
    "duration": 8,
    "start_time": "2024-08-07T09:41:33.334Z"
   },
   {
    "duration": 16,
    "start_time": "2024-08-07T09:41:33.346Z"
   },
   {
    "duration": 12,
    "start_time": "2024-08-07T09:41:33.364Z"
   },
   {
    "duration": 7,
    "start_time": "2024-08-07T09:41:33.379Z"
   },
   {
    "duration": 8,
    "start_time": "2024-08-07T09:41:33.430Z"
   },
   {
    "duration": 200,
    "start_time": "2024-08-07T09:41:33.441Z"
   },
   {
    "duration": 6,
    "start_time": "2024-08-07T09:41:33.644Z"
   },
   {
    "duration": 7,
    "start_time": "2024-08-07T09:41:33.653Z"
   },
   {
    "duration": 17,
    "start_time": "2024-08-07T09:41:33.663Z"
   },
   {
    "duration": 50,
    "start_time": "2024-08-07T09:41:33.683Z"
   },
   {
    "duration": 6,
    "start_time": "2024-08-07T09:41:33.741Z"
   },
   {
    "duration": 4,
    "start_time": "2024-08-07T09:41:33.750Z"
   },
   {
    "duration": 22,
    "start_time": "2024-08-07T09:41:33.757Z"
   },
   {
    "duration": 6,
    "start_time": "2024-08-07T09:41:33.782Z"
   },
   {
    "duration": 47,
    "start_time": "2024-08-07T09:41:33.791Z"
   },
   {
    "duration": 11,
    "start_time": "2024-08-07T09:41:33.841Z"
   },
   {
    "duration": 12,
    "start_time": "2024-08-07T09:41:33.855Z"
   },
   {
    "duration": 15,
    "start_time": "2024-08-07T09:41:33.870Z"
   },
   {
    "duration": 43,
    "start_time": "2024-08-07T09:41:33.887Z"
   },
   {
    "duration": 8,
    "start_time": "2024-08-07T09:41:33.933Z"
   },
   {
    "duration": 40511,
    "start_time": "2024-08-07T09:41:33.944Z"
   },
   {
    "duration": 114684,
    "start_time": "2024-08-07T09:42:14.458Z"
   },
   {
    "duration": 19764,
    "start_time": "2024-08-07T09:44:09.144Z"
   },
   {
    "duration": 5432,
    "start_time": "2024-08-07T09:44:28.911Z"
   },
   {
    "duration": 4,
    "start_time": "2024-08-07T09:44:34.345Z"
   },
   {
    "duration": 82,
    "start_time": "2024-08-07T09:44:34.353Z"
   },
   {
    "duration": 50,
    "start_time": "2024-08-07T09:44:34.439Z"
   },
   {
    "duration": 53,
    "start_time": "2024-08-07T09:44:34.492Z"
   },
   {
    "duration": 16,
    "start_time": "2024-08-07T09:44:34.547Z"
   },
   {
    "duration": 17,
    "start_time": "2024-08-07T09:44:34.567Z"
   },
   {
    "duration": 6,
    "start_time": "2024-08-07T09:54:22.235Z"
   },
   {
    "duration": 1465,
    "start_time": "2024-08-07T09:55:46.005Z"
   },
   {
    "duration": 723,
    "start_time": "2024-08-07T09:58:11.352Z"
   },
   {
    "duration": 22,
    "start_time": "2024-08-07T10:00:23.386Z"
   }
  ],
  "kernelspec": {
   "display_name": "Python 3 (ipykernel)",
   "language": "python",
   "name": "python3"
  },
  "language_info": {
   "codemirror_mode": {
    "name": "ipython",
    "version": 3
   },
   "file_extension": ".py",
   "mimetype": "text/x-python",
   "name": "python",
   "nbconvert_exporter": "python",
   "pygments_lexer": "ipython3",
   "version": "3.9.19"
  },
  "toc": {
   "base_numbering": 1,
   "nav_menu": {},
   "number_sections": true,
   "sideBar": true,
   "skip_h1_title": true,
   "title_cell": "Table of Contents",
   "title_sidebar": "Contents",
   "toc_cell": false,
   "toc_position": {},
   "toc_section_display": true,
   "toc_window_display": false
  }
 },
 "nbformat": 4,
 "nbformat_minor": 2
}
